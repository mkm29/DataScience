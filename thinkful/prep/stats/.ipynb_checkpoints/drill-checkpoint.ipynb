{
 "cells": [
  {
   "cell_type": "code",
   "execution_count": 1,
   "metadata": {
    "ExecuteTime": {
     "end_time": "2018-10-22T20:03:46.246636Z",
     "start_time": "2018-10-22T20:03:45.534664Z"
    }
   },
   "outputs": [],
   "source": [
    "import pandas as pd\n",
    "import numpy as np\n",
    "import matplotlib.pyplot as plt\n",
    "%matplotlib inline"
   ]
  },
  {
   "cell_type": "code",
   "execution_count": 11,
   "metadata": {
    "ExecuteTime": {
     "end_time": "2018-10-22T20:06:04.384183Z",
     "start_time": "2018-10-22T20:06:04.371112Z"
    }
   },
   "outputs": [
    {
     "data": {
      "text/plain": [
       "count     7.000000\n",
       "mean      9.857143\n",
       "std       2.734262\n",
       "min       6.000000\n",
       "25%       8.000000\n",
       "50%      10.000000\n",
       "75%      11.500000\n",
       "max      14.000000\n",
       "Name: age, dtype: float64"
      ]
     },
     "execution_count": 11,
     "metadata": {},
     "output_type": "execute_result"
    }
   ],
   "source": [
    "df = pd.DataFrame()\n",
    "names = [\"Greg\", \"Marcia\", \"Peter\", \"Jan\", \"Bobby\",\"Cindy\",\"Oliver\"]\n",
    "ages = [14,12,11,10,8,6,8]\n",
    "df[\"name\"] = names\n",
    "df[\"age\"] = ages\n",
    "df.age.describe()"
   ]
  },
  {
   "cell_type": "code",
   "execution_count": 3,
   "metadata": {
    "ExecuteTime": {
     "end_time": "2018-10-22T20:03:50.748455Z",
     "start_time": "2018-10-22T20:03:50.743166Z"
    }
   },
   "outputs": [
    {
     "name": "stdout",
     "output_type": "stream",
     "text": [
      "Standard Error: 1.0334540197243192\n",
      "Variance: 7.476190476190475\n"
     ]
    }
   ],
   "source": [
    "se = np.std(df['age'] ,ddof=1) / np.sqrt(len(df['age']))\n",
    "print(\"Standard Error: {}\\nVariance: {}\".format(se, df.age.var()))"
   ]
  },
  {
   "cell_type": "markdown",
   "metadata": {
    "ExecuteTime": {
     "end_time": "2018-10-22T18:12:42.680027Z",
     "start_time": "2018-10-22T18:12:42.675004Z"
    }
   },
   "source": [
    "If it were up to me, I would choose the mean as the central tendency and the standard deviation for variance, as these 2 measures will capture 5 out of the total 7 ages."
   ]
  },
  {
   "cell_type": "code",
   "execution_count": 37,
   "metadata": {
    "ExecuteTime": {
     "end_time": "2018-10-22T20:23:02.536117Z",
     "start_time": "2018-10-22T20:23:02.531420Z"
    }
   },
   "outputs": [],
   "source": [
    "# Cindy has a birthday. We only need to update her age (which was 6 and nothing else)\n",
    "df.loc[df['name'] == 'Cindy', 'age'] = 7"
   ]
  },
  {
   "cell_type": "code",
   "execution_count": 40,
   "metadata": {
    "ExecuteTime": {
     "end_time": "2018-10-22T20:24:41.121615Z",
     "start_time": "2018-10-22T20:24:41.116783Z"
    }
   },
   "outputs": [],
   "source": [
    "df.loc[df['name'] == 'Oliver'] = [\"Jessica\", 1]"
   ]
  },
  {
   "cell_type": "code",
   "execution_count": 42,
   "metadata": {
    "ExecuteTime": {
     "end_time": "2018-10-22T20:24:55.089280Z",
     "start_time": "2018-10-22T20:24:55.080568Z"
    }
   },
   "outputs": [
    {
     "data": {
      "text/plain": [
       "count     7.000000\n",
       "mean      9.000000\n",
       "std       4.242641\n",
       "min       1.000000\n",
       "25%       7.500000\n",
       "50%      10.000000\n",
       "75%      11.500000\n",
       "max      14.000000\n",
       "Name: age, dtype: float64"
      ]
     },
     "execution_count": 42,
     "metadata": {},
     "output_type": "execute_result"
    }
   ],
   "source": [
    "df.age.describe()"
   ]
  },
  {
   "cell_type": "code",
   "execution_count": 43,
   "metadata": {
    "ExecuteTime": {
     "end_time": "2018-10-22T20:25:33.177691Z",
     "start_time": "2018-10-22T20:25:33.172568Z"
    }
   },
   "outputs": [
    {
     "name": "stdout",
     "output_type": "stream",
     "text": [
      "Standard Error: 1.6035674514745462\n",
      "Variance: 18.0\n"
     ]
    }
   ],
   "source": [
    "se = np.std(df['age'] ,ddof=1) / np.sqrt(len(df['age']))\n",
    "print(\"Standard Error: {}\\nVariance: {}\".format(se, df.age.var()))"
   ]
  },
  {
   "cell_type": "markdown",
   "metadata": {
    "ExecuteTime": {
     "end_time": "2018-10-22T20:25:54.348343Z",
     "start_time": "2018-10-22T20:25:54.339411Z"
    }
   },
   "source": [
    "As there is now an outlier (Jessica aged 1) I would use the median as the central tendency and standard deviation as the variance, this time these 2 values capture 6 out of the 7 ages."
   ]
  },
  {
   "cell_type": "markdown",
   "metadata": {},
   "source": [
    "This is a fairly vague question: are we to assume that all readers of the listed magazine are adults? Furthermore, the question does not state anything about the independence/exclusivity of the poll: what if all 5% of SciFi readers also read the other 3 magazine and answered the same? Or their answers were not consistent? Ignoring these claims, we exclude SciFi readers as that is a niche publication and we average the other 3 to get 20%. "
   ]
  },
  {
   "cell_type": "code",
   "execution_count": null,
   "metadata": {},
   "outputs": [],
   "source": []
  }
 ],
 "metadata": {
  "kernelspec": {
   "display_name": "Python 3",
   "language": "python",
   "name": "python3"
  },
  "language_info": {
   "codemirror_mode": {
    "name": "ipython",
    "version": 3
   },
   "file_extension": ".py",
   "mimetype": "text/x-python",
   "name": "python",
   "nbconvert_exporter": "python",
   "pygments_lexer": "ipython3",
   "version": "3.6.2"
  },
  "latex_envs": {
   "LaTeX_envs_menu_present": true,
   "autoclose": false,
   "autocomplete": true,
   "bibliofile": "biblio.bib",
   "cite_by": "apalike",
   "current_citInitial": 1,
   "eqLabelWithNumbers": true,
   "eqNumInitial": 1,
   "hotkeys": {
    "equation": "Ctrl-E",
    "itemize": "Ctrl-I"
   },
   "labels_anchors": false,
   "latex_user_defs": false,
   "report_style_numbering": false,
   "user_envs_cfg": false
  },
  "toc": {
   "base_numbering": 1,
   "nav_menu": {},
   "number_sections": true,
   "sideBar": true,
   "skip_h1_title": false,
   "title_cell": "Table of Contents",
   "title_sidebar": "Contents",
   "toc_cell": false,
   "toc_position": {},
   "toc_section_display": true,
   "toc_window_display": false
  },
  "varInspector": {
   "cols": {
    "lenName": 16,
    "lenType": 16,
    "lenVar": 40
   },
   "kernels_config": {
    "python": {
     "delete_cmd_postfix": "",
     "delete_cmd_prefix": "del ",
     "library": "var_list.py",
     "varRefreshCmd": "print(var_dic_list())"
    },
    "r": {
     "delete_cmd_postfix": ") ",
     "delete_cmd_prefix": "rm(",
     "library": "var_list.r",
     "varRefreshCmd": "cat(var_dic_list()) "
    }
   },
   "types_to_exclude": [
    "module",
    "function",
    "builtin_function_or_method",
    "instance",
    "_Feature"
   ],
   "window_display": false
  }
 },
 "nbformat": 4,
 "nbformat_minor": 2
}
