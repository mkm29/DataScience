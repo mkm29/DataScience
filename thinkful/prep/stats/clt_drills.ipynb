{
 "cells": [
  {
   "cell_type": "code",
   "execution_count": 1,
   "metadata": {
    "ExecuteTime": {
     "end_time": "2018-10-25T17:28:17.671631Z",
     "start_time": "2018-10-25T17:28:17.163326Z"
    }
   },
   "outputs": [],
   "source": [
    "import numpy as np\n",
    "import pandas as pd\n",
    "import scipy\n",
    "import matplotlib.pyplot as plt\n",
    "%matplotlib inline"
   ]
  },
  {
   "cell_type": "code",
   "execution_count": 25,
   "metadata": {
    "ExecuteTime": {
     "end_time": "2018-10-25T17:39:35.293239Z",
     "start_time": "2018-10-25T17:39:35.289099Z"
    }
   },
   "outputs": [],
   "source": [
    "def plot(variable, y_max):\n",
    "    plt.hist(variable, bins=50)\n",
    "    plt.vlines(np.mean(variable), 0, y_max, linestyles=\"dashed\")\n",
    "    plt.vlines(np.std(variable), 0, y_max)\n",
    "    plt.legend([\"mean\", \"standard deviation\"])\n",
    "    plt.show()"
   ]
  },
  {
   "cell_type": "code",
   "execution_count": 3,
   "metadata": {
    "ExecuteTime": {
     "end_time": "2018-10-25T17:29:23.508974Z",
     "start_time": "2018-10-25T17:29:23.500344Z"
    }
   },
   "outputs": [],
   "source": [
    "pop1 = np.random.binomial(10, 0.2, 10000)\n",
    "pop2 = np.random.binomial(10,0.5, 10000) \n",
    "sample1 = np.random.choice(pop1, 100, replace=True)\n",
    "sample2 = np.random.choice(pop2, 100, replace=True)"
   ]
  },
  {
   "cell_type": "code",
   "execution_count": 8,
   "metadata": {
    "ExecuteTime": {
     "end_time": "2018-10-25T17:32:14.021732Z",
     "start_time": "2018-10-25T17:32:14.016788Z"
    }
   },
   "outputs": [
    {
     "name": "stdout",
     "output_type": "stream",
     "text": [
      "Mean of sample 1: 2.0\n",
      "Mean of sample 2: 5.2\n",
      "Standard Deviation of sample 1: 1.2165525060596438\n",
      "Standard Deviation of sample 2: 1.4628738838327795\n"
     ]
    }
   ],
   "source": [
    "print(\"Mean of sample 1: {}\\nMean of sample 2: {}\".format(sample1.mean(), sample2.mean()))\n",
    "print(\"Standard Deviation of sample 1: {}\\nStandard Deviation of sample 2: {}\".format(sample1.std(), sample2.std()))"
   ]
  },
  {
   "cell_type": "markdown",
   "metadata": {},
   "source": [
    "Personally I think that if we increase our sample size by a factor of 10, we should see the statistics converge to the true statistics of our population. Because sampling is random, we will get different samples however we are still increasing the sample size so this should not have that much of an impact."
   ]
  },
  {
   "cell_type": "code",
   "execution_count": 31,
   "metadata": {
    "ExecuteTime": {
     "end_time": "2018-10-25T17:40:55.125337Z",
     "start_time": "2018-10-25T17:40:55.121232Z"
    }
   },
   "outputs": [],
   "source": [
    "sample3 = np.random.choice(pop1, 1000, replace=True)\n",
    "sample4 = np.random.choice(pop2, 1000, replace=True)"
   ]
  },
  {
   "cell_type": "code",
   "execution_count": 32,
   "metadata": {
    "ExecuteTime": {
     "end_time": "2018-10-25T17:40:56.930373Z",
     "start_time": "2018-10-25T17:40:56.925725Z"
    }
   },
   "outputs": [
    {
     "name": "stdout",
     "output_type": "stream",
     "text": [
      "Mean of sample 1: 2.027\n",
      "Mean of sample 2: 4.956\n",
      "Standard Deviation of sample 1: 1.282291308556679\n",
      "Standard Deviation of sample 2: 1.5975180750151154\n"
     ]
    }
   ],
   "source": [
    "print(\"Mean of sample 1: {}\\nMean of sample 2: {}\".format(sample3.mean(), sample4.mean()))\n",
    "print(\"Standard Deviation of sample 1: {}\\nStandard Deviation of sample 2: {}\".format(sample3.std(), sample4.std()))"
   ]
  },
  {
   "cell_type": "code",
   "execution_count": 33,
   "metadata": {
    "ExecuteTime": {
     "end_time": "2018-10-25T17:41:02.319131Z",
     "start_time": "2018-10-25T17:41:02.045354Z"
    }
   },
   "outputs": [
    {
     "data": {
      "image/png": "[encoded data removed]",
      "text/plain": [
       "<Figure size 432x288 with 1 Axes>"
      ]
     },
     "metadata": {
      "needs_background": "light"
     },
     "output_type": "display_data"
    }
   ],
   "source": [
    "plot(sample3,350)"
   ]
  },
  {
   "cell_type": "code",
   "execution_count": 34,
   "metadata": {
    "ExecuteTime": {
     "end_time": "2018-10-25T17:41:04.617063Z",
     "start_time": "2018-10-25T17:41:04.350138Z"
    }
   },
   "outputs": [
    {
     "data": {
      "image/png": "[encoded data removed]",
      "text/plain": [
       "<Figure size 432x288 with 1 Axes>"
      ]
     },
     "metadata": {
      "needs_background": "light"
     },
     "output_type": "display_data"
    }
   ],
   "source": [
    "plot(sample4,350)"
   ]
  },
  {
   "cell_type": "code",
   "execution_count": 35,
   "metadata": {
    "ExecuteTime": {
     "end_time": "2018-10-25T17:41:25.203265Z",
     "start_time": "2018-10-25T17:41:25.198975Z"
    }
   },
   "outputs": [],
   "source": [
    "sample3 = np.random.choice(pop1, 20, replace=True)\n",
    "sample4 = np.random.choice(pop2, 20, replace=True)"
   ]
  },
  {
   "cell_type": "code",
   "execution_count": 36,
   "metadata": {
    "ExecuteTime": {
     "end_time": "2018-10-25T17:41:35.905752Z",
     "start_time": "2018-10-25T17:41:35.901246Z"
    }
   },
   "outputs": [
    {
     "name": "stdout",
     "output_type": "stream",
     "text": [
      "Mean of sample 1: 1.75\n",
      "Mean of sample 2: 4.65\n",
      "Standard Deviation of sample 1: 1.5124483462254175\n",
      "Standard Deviation of sample 2: 1.4585952145814822\n"
     ]
    }
   ],
   "source": [
    "print(\"Mean of sample 1: {}\\nMean of sample 2: {}\".format(sample3.mean(), sample4.mean()))\n",
    "print(\"Standard Deviation of sample 1: {}\\nStandard Deviation of sample 2: {}\".format(sample3.std(), sample4.std()))"
   ]
  },
  {
   "cell_type": "markdown",
   "metadata": {
    "ExecuteTime": {
     "end_time": "2018-10-25T17:40:26.683494Z",
     "start_time": "2018-10-25T17:40:26.679011Z"
    }
   },
   "source": [
    "As mentioned above, because of the random nature of sampling, we will get different samples every time. With that being said though, we see little change in both statistics when we increase the sample size and as expected, more significant change when we substantially decrease the sample size. "
   ]
  },
  {
   "cell_type": "code",
   "execution_count": 43,
   "metadata": {
    "ExecuteTime": {
     "end_time": "2018-10-25T17:49:04.143513Z",
     "start_time": "2018-10-25T17:49:04.138754Z"
    }
   },
   "outputs": [],
   "source": [
    "pop1 = np.random.binomial(10, 0.3, 10000)\n",
    "sample1 = np.random.choice(pop1, 100, replace=True)\n",
    "sample2 = np.random.choice(pop2, 100, replace=True)\n",
    "diff=sample2.mean( ) -sample1.mean()"
   ]
  },
  {
   "cell_type": "code",
   "execution_count": 44,
   "metadata": {
    "ExecuteTime": {
     "end_time": "2018-10-25T17:49:05.869579Z",
     "start_time": "2018-10-25T17:49:05.864628Z"
    }
   },
   "outputs": [
    {
     "name": "stdout",
     "output_type": "stream",
     "text": [
      "10.522209314470949\n"
     ]
    }
   ],
   "source": [
    "# SE\n",
    "size = np.array([len(sample1), len(sample2)])\n",
    "sd = np.array([sample1.std(), sample2.std()])\n",
    "\n",
    "# The squared standard deviations are divided by the sample size and summed, then we take\n",
    "# the square root of the sum. \n",
    "diff_se = (sum(sd ** 2 / size)) ** 0.5  \n",
    "\n",
    "#The difference between the means divided by the standard error: T-value.  \n",
    "print(diff/diff_se)"
   ]
  },
  {
   "cell_type": "code",
   "execution_count": 45,
   "metadata": {
    "ExecuteTime": {
     "end_time": "2018-10-25T17:49:25.013481Z",
     "start_time": "2018-10-25T17:49:24.550855Z"
    }
   },
   "outputs": [
    {
     "name": "stdout",
     "output_type": "stream",
     "text": [
      "Ttest_indResult(statistic=10.469466078504855, pvalue=1.8413062456235285e-20)\n"
     ]
    }
   ],
   "source": [
    "from scipy.stats import ttest_ind\n",
    "print(ttest_ind(sample2, sample1, equal_var=False))"
   ]
  },
  {
   "cell_type": "code",
   "execution_count": 46,
   "metadata": {
    "ExecuteTime": {
     "end_time": "2018-10-25T17:50:01.727710Z",
     "start_time": "2018-10-25T17:50:01.723658Z"
    }
   },
   "outputs": [],
   "source": [
    "pop1 = np.random.binomial(10, 0.4, 10000)\n",
    "sample1 = np.random.choice(pop1, 100, replace=True)"
   ]
  },
  {
   "cell_type": "code",
   "execution_count": 47,
   "metadata": {
    "ExecuteTime": {
     "end_time": "2018-10-25T17:50:09.335089Z",
     "start_time": "2018-10-25T17:50:09.329290Z"
    }
   },
   "outputs": [
    {
     "name": "stdout",
     "output_type": "stream",
     "text": [
      "9.540789125127652\n"
     ]
    }
   ],
   "source": [
    "# SE\n",
    "size = np.array([len(sample1), len(sample2)])\n",
    "sd = np.array([sample1.std(), sample2.std()])\n",
    "\n",
    "# The squared standard deviations are divided by the sample size and summed, then we take\n",
    "# the square root of the sum. \n",
    "diff_se = (sum(sd ** 2 / size)) ** 0.5  \n",
    "\n",
    "#The difference between the means divided by the standard error: T-value.  \n",
    "print(diff/diff_se)"
   ]
  },
  {
   "cell_type": "code",
   "execution_count": 48,
   "metadata": {
    "ExecuteTime": {
     "end_time": "2018-10-25T17:50:16.671733Z",
     "start_time": "2018-10-25T17:50:16.667480Z"
    }
   },
   "outputs": [
    {
     "name": "stdout",
     "output_type": "stream",
     "text": [
      "Ttest_indResult(statistic=5.993254602687603, pvalue=9.585008177385847e-09)\n"
     ]
    }
   ],
   "source": [
    "print(ttest_ind(sample2, sample1, equal_var=False))"
   ]
  },
  {
   "cell_type": "markdown",
   "metadata": {},
   "source": [
    "Increasing p (the probability of a success) from 0.3 to 0.4 should decrease the difference in the 2 means (as we are now approaching p=0.5 in the second population), which we show above empirically."
   ]
  },
  {
   "cell_type": "code",
   "execution_count": null,
   "metadata": {},
   "outputs": [],
   "source": []
  }
 ],
 "metadata": {
  "kernelspec": {
   "display_name": "Python 3",
   "language": "python",
   "name": "python3"
  },
  "language_info": {
   "codemirror_mode": {
    "name": "ipython",
    "version": 3
   },
   "file_extension": ".py",
   "mimetype": "text/x-python",
   "name": "python",
   "nbconvert_exporter": "python",
   "pygments_lexer": "ipython3",
   "version": "3.6.2"
  },
  "latex_envs": {
   "LaTeX_envs_menu_present": true,
   "autoclose": false,
   "autocomplete": true,
   "bibliofile": "biblio.bib",
   "cite_by": "apalike",
   "current_citInitial": 1,
   "eqLabelWithNumbers": true,
   "eqNumInitial": 1,
   "hotkeys": {
    "equation": "Ctrl-E",
    "itemize": "Ctrl-I"
   },
   "labels_anchors": false,
   "latex_user_defs": false,
   "report_style_numbering": false,
   "user_envs_cfg": false
  },
  "toc": {
   "base_numbering": 1,
   "nav_menu": {},
   "number_sections": true,
   "sideBar": true,
   "skip_h1_title": false,
   "title_cell": "Table of Contents",
   "title_sidebar": "Contents",
   "toc_cell": false,
   "toc_position": {},
   "toc_section_display": true,
   "toc_window_display": false
  },
  "varInspector": {
   "cols": {
    "lenName": 16,
    "lenType": 16,
    "lenVar": 40
   },
   "kernels_config": {
    "python": {
     "delete_cmd_postfix": "",
     "delete_cmd_prefix": "del ",
     "library": "var_list.py",
     "varRefreshCmd": "print(var_dic_list())"
    },
    "r": {
     "delete_cmd_postfix": ") ",
     "delete_cmd_prefix": "rm(",
     "library": "var_list.r",
     "varRefreshCmd": "cat(var_dic_list()) "
    }
   },
   "types_to_exclude": [
    "module",
    "function",
    "builtin_function_or_method",
    "instance",
    "_Feature"
   ],
   "window_display": false
  }
 },
 "nbformat": 4,
 "nbformat_minor": 2
}
