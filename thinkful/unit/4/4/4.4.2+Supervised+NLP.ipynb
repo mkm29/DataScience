{
 "cells": [
  {
   "cell_type": "code",
   "execution_count": 1,
   "metadata": {
    "ExecuteTime": {
     "end_time": "2019-02-01T23:17:37.992413Z",
     "start_time": "2019-02-01T23:17:35.860700Z"
    },
    "run_control": {
     "frozen": false,
     "read_only": false
    }
   },
   "outputs": [],
   "source": [
    "%matplotlib inline\n",
    "import numpy as np\n",
    "import pandas as pd\n",
    "import scipy\n",
    "import sklearn\n",
    "import spacy\n",
    "import matplotlib.pyplot as plt\n",
    "import seaborn as sns\n",
    "import re\n",
    "import nltk\n",
    "from nltk import pos_tag\n",
    "from nltk.corpus import gutenberg, stopwords\n",
    "from collections import Counter"
   ]
  },
  {
   "cell_type": "markdown",
   "metadata": {
    "run_control": {
     "frozen": false,
     "read_only": false
    }
   },
   "source": [
    "Supervised NLP requires a pre-labelled dataset for training and testing, and is generally interested in categorizing text in various ways. In this case, we are going to try to predict whether a sentence comes from _Alice in Wonderland_ by Lewis Carroll or _Persuasion_ by Jane Austen. We can use any of the supervised models we've covered previously, as long as they allow categorical outcomes. In this case, we'll try Random Forests, SVM, and KNN.\n",
    "\n",
    "Our feature-generation approach will be something called _BoW_, or _Bag of Words_. BoW is quite simple: For each sentence, we count how many times each word appears. We will then use those counts as features.  "
   ]
  },
  {
   "cell_type": "code",
   "execution_count": 2,
   "metadata": {
    "ExecuteTime": {
     "end_time": "2019-02-01T23:17:38.041231Z",
     "start_time": "2019-02-01T23:17:38.015842Z"
    },
    "run_control": {
     "frozen": false,
     "read_only": false
    },
    "scrolled": true
   },
   "outputs": [],
   "source": [
    "# Utility function for standard text cleaning.\n",
    "def text_cleaner(text):\n",
    "    # Visual inspection identifies a form of punctuation spaCy does not\n",
    "    # recognize: the double dash '--'.  Better get rid of it now!\n",
    "    text = re.sub(r'--',' ',text)\n",
    "    text = re.sub(\"[\\[].*?[\\]]\", \"\", text)\n",
    "    text = ' '.join(text.split())\n",
    "    return text\n",
    "    \n",
    "# Load and clean the data.\n",
    "persuasion = gutenberg.raw('austen-persuasion.txt')\n",
    "alice = gutenberg.raw('carroll-alice.txt')\n",
    "\n",
    "# The Chapter indicator is idiosyncratic\n",
    "persuasion = re.sub(r'Chapter \\d+', '', persuasion)\n",
    "alice = re.sub(r'CHAPTER .*', '', alice)\n",
    "    \n",
    "alice = text_cleaner(alice)\n",
    "persuasion = text_cleaner(persuasion)"
   ]
  },
  {
   "cell_type": "code",
   "execution_count": 3,
   "metadata": {
    "ExecuteTime": {
     "end_time": "2019-02-01T23:17:59.857536Z",
     "start_time": "2019-02-01T23:17:39.046861Z"
    }
   },
   "outputs": [],
   "source": [
    "# Parse the cleaned novels. This can take a bit.\n",
    "nlp = spacy.load('en')\n",
    "alice_doc = nlp(alice)\n",
    "persuasion_doc = nlp(persuasion)"
   ]
  },
  {
   "cell_type": "code",
   "execution_count": 4,
   "metadata": {
    "ExecuteTime": {
     "end_time": "2019-02-01T23:18:00.171005Z",
     "start_time": "2019-02-01T23:18:00.145516Z"
    }
   },
   "outputs": [
    {
     "data": {
      "text/html": [
       "<div>\n",
       "<style scoped>\n",
       "    .dataframe tbody tr th:only-of-type {\n",
       "        vertical-align: middle;\n",
       "    }\n",
       "\n",
       "    .dataframe tbody tr th {\n",
       "        vertical-align: top;\n",
       "    }\n",
       "\n",
       "    .dataframe thead th {\n",
       "        text-align: right;\n",
       "    }\n",
       "</style>\n",
       "<table border=\"1\" class=\"dataframe\">\n",
       "  <thead>\n",
       "    <tr style=\"text-align: right;\">\n",
       "      <th></th>\n",
       "      <th>0</th>\n",
       "      <th>1</th>\n",
       "    </tr>\n",
       "  </thead>\n",
       "  <tbody>\n",
       "    <tr>\n",
       "      <th>0</th>\n",
       "      <td>(Alice, was, beginning, to, get, very, tired, ...</td>\n",
       "      <td>Carroll</td>\n",
       "    </tr>\n",
       "    <tr>\n",
       "      <th>1</th>\n",
       "      <td>(So, she, was, considering, in, her, own, mind...</td>\n",
       "      <td>Carroll</td>\n",
       "    </tr>\n",
       "    <tr>\n",
       "      <th>2</th>\n",
       "      <td>(There, was, nothing, so, VERY, remarkable, in...</td>\n",
       "      <td>Carroll</td>\n",
       "    </tr>\n",
       "    <tr>\n",
       "      <th>3</th>\n",
       "      <td>(Oh, dear, !)</td>\n",
       "      <td>Carroll</td>\n",
       "    </tr>\n",
       "    <tr>\n",
       "      <th>4</th>\n",
       "      <td>(I, shall, be, late, !, ')</td>\n",
       "      <td>Carroll</td>\n",
       "    </tr>\n",
       "  </tbody>\n",
       "</table>\n",
       "</div>"
      ],
      "text/plain": [
       "                                                   0        1\n",
       "0  (Alice, was, beginning, to, get, very, tired, ...  Carroll\n",
       "1  (So, she, was, considering, in, her, own, mind...  Carroll\n",
       "2  (There, was, nothing, so, VERY, remarkable, in...  Carroll\n",
       "3                                      (Oh, dear, !)  Carroll\n",
       "4                         (I, shall, be, late, !, ')  Carroll"
      ]
     },
     "execution_count": 4,
     "metadata": {},
     "output_type": "execute_result"
    }
   ],
   "source": [
    "# Group into sentences.\n",
    "alice_sents = [[sent, \"Carroll\"] for sent in alice_doc.sents]\n",
    "persuasion_sents = [[sent, \"Austen\"] for sent in persuasion_doc.sents]\n",
    "\n",
    "# Combine the sentences from the two novels into one data frame.\n",
    "sentences = pd.DataFrame(alice_sents + persuasion_sents)\n",
    "sentences.columns = ['text', 'author']\n",
    "sentences.head()"
   ]
  },
  {
   "cell_type": "markdown",
   "metadata": {
    "run_control": {
     "frozen": false,
     "read_only": false
    }
   },
   "source": [
    "Time to bag some words!  Since spaCy has already tokenized and labelled our data, we can move directly to recording how often various words occur.  We will exclude stopwords and punctuation.  In addition, in an attempt to keep our feature space from exploding, we will work with lemmas (root words) rather than the raw text terms, and we'll only use the 2000 most common words for each text."
   ]
  },
  {
   "cell_type": "code",
   "execution_count": 157,
   "metadata": {
    "ExecuteTime": {
     "end_time": "2019-02-02T02:53:58.629250Z",
     "start_time": "2019-02-02T02:53:58.532978Z"
    },
    "run_control": {
     "frozen": false,
     "read_only": false
    },
    "scrolled": false
   },
   "outputs": [],
   "source": [
    "# Utility function to create a list of the 2000 most common words.\n",
    "def bag_of_words(text):\n",
    "    \n",
    "    # Filter out punctuation and stop words.\n",
    "    allwords = [token.lemma_\n",
    "                for token in text\n",
    "                if not token.is_punct\n",
    "                and not token.is_stop]\n",
    "    \n",
    "    # Return the most common words.\n",
    "    return [item[0] for item in Counter(allwords).most_common(3000)]\n",
    "    \n",
    "\n",
    "# Creates a data frame with features for each word in our common word set.\n",
    "# Each value is the count of the times the word appears in each sentence.\n",
    "# def bow_features(sentences, common_words):\n",
    "#     counts = pd.DataFrame(columns=common_words)\n",
    "#     i = 0\n",
    "#     for sentence in sentences.iloc[:,0]:\n",
    "#         # repeat this for every sentence\n",
    "#         x = pd.Series(sentence).value_counts()\n",
    "#         x = x[pd.Series([str(x) for x in x.index]).isin(common_words).values]\n",
    "#         counts.loc[i,:] = 0\n",
    "#         counts.loc[i,[str(x) for x in x.index]] = x.values\n",
    "#         i += 1\n",
    "#         if i % 500 == 0:\n",
    "#                 print(\"Processing row {}\".format(i))\n",
    "#         return counts\n",
    "\n",
    "# Set up the bags.\n",
    "alicewords = bag_of_words(alice_doc)\n",
    "persuasionwords = bag_of_words(persuasion_doc)\n",
    "\n",
    "# Combine bags to create a set of unique words.\n",
    "common_words = set(alicewords + persuasionwords)"
   ]
  },
  {
   "cell_type": "markdown",
   "metadata": {
    "ExecuteTime": {
     "end_time": "2019-02-02T02:54:00.641668Z",
     "start_time": "2019-02-02T02:54:00.636909Z"
    }
   },
   "source": [
    "**Bag of Words**"
   ]
  },
  {
   "cell_type": "code",
   "execution_count": 229,
   "metadata": {
    "ExecuteTime": {
     "end_time": "2019-02-02T04:02:05.357912Z",
     "start_time": "2019-02-02T03:56:06.126551Z"
    }
   },
   "outputs": [
    {
     "name": "stdout",
     "output_type": "stream",
     "text": [
      "Processing row 300\n",
      "Processing row 600\n",
      "Processing row 900\n",
      "Processing row 1200\n",
      "Processing row 1500\n",
      "Processing row 1800\n",
      "Processing row 2100\n",
      "Processing row 2400\n",
      "Processing row 2700\n",
      "Processing row 3000\n",
      "Processing row 3300\n",
      "Processing row 3600\n",
      "Processing row 3900\n",
      "Processing row 4200\n",
      "Processing row 4500\n",
      "Processing row 4800\n",
      "Processing row 5100\n"
     ]
    }
   ],
   "source": [
    "counts = pd.DataFrame(columns=common_words)\n",
    "i = 0\n",
    "for sentence in sentences.iloc[:,0]:\n",
    "    # repeat this for every sentence\n",
    "    x = pd.Series(sentence).value_counts()\n",
    "    x = x[pd.Series([str(x) for x in x.index]).isin(common_words).values]\n",
    "    counts.loc[i,:] = 0\n",
    "    counts.loc[i,[str(x) for x in x.index]] = x.values\n",
    "    i += 1\n",
    "    if i % 300 == 0:\n",
    "            print(\"Processing row {}\".format(i))"
   ]
  },
  {
   "cell_type": "code",
   "execution_count": 233,
   "metadata": {
    "ExecuteTime": {
     "end_time": "2019-02-02T04:02:23.293440Z",
     "start_time": "2019-02-02T04:02:22.767211Z"
    }
   },
   "outputs": [],
   "source": [
    "# create target variable\n",
    "Y = (sentences.author == 'Austen').astype(int).values\n",
    "X = counts.astype(int).values"
   ]
  },
  {
   "cell_type": "code",
   "execution_count": 239,
   "metadata": {
    "ExecuteTime": {
     "end_time": "2019-02-02T04:04:09.046176Z",
     "start_time": "2019-02-02T04:04:07.529851Z"
    }
   },
   "outputs": [
    {
     "name": "stderr",
     "output_type": "stream",
     "text": [
      "/Users/mitchellmurphy/anaconda3/envs/python3.5/lib/python3.6/site-packages/sklearn/ensemble/forest.py:246: FutureWarning: The default value of n_estimators will change from 10 in version 0.20 to 100 in 0.22.\n",
      "  \"10 in version 0.20 to 100 in 0.22.\", FutureWarning)\n"
     ]
    },
    {
     "name": "stdout",
     "output_type": "stream",
     "text": [
      "Training set score: 0.9793103448275862\n",
      "\n",
      "Test set score: 0.7659774436090225\n"
     ]
    }
   ],
   "source": [
    "from sklearn import ensemble\n",
    "from sklearn.model_selection import train_test_split\n",
    "\n",
    "rfc = ensemble.RandomForestClassifier()\n",
    "\n",
    "X_train, X_test, y_train, y_test = train_test_split(X, \n",
    "                                                    Y,\n",
    "                                                    test_size=0.4,\n",
    "                                                    random_state=0)\n",
    "train = rfc.fit(X_train, y_train)\n",
    "\n",
    "print('Training set score:', rfc.score(X_train, y_train))\n",
    "print('\\nTest set score:', rfc.score(X_test, y_test))"
   ]
  },
  {
   "cell_type": "markdown",
   "metadata": {
    "run_control": {
     "frozen": false,
     "read_only": false
    }
   },
   "source": [
    "## Trying out BoW\n",
    "\n",
    "Now let's give the bag of words features a whirl by trying a random forest."
   ]
  },
  {
   "cell_type": "markdown",
   "metadata": {
    "run_control": {
     "frozen": false,
     "read_only": false
    }
   },
   "source": [
    "Holy overfitting, Batman! Overfitting is a known problem when using bag of words, since it basically involves throwing a massive number of features at a model – some of those features (in this case, word frequencies) will capture noise in the training set. Since overfitting is also a known problem with Random Forests, the divergence between training score and test score is expected.\n",
    "\n",
    "\n",
    "## BoW with Logistic Regression\n",
    "\n",
    "Let's try a technique with some protection against overfitting due to extraneous features – logistic regression with ridge regularization (from ridge regression, also called L2 regularization)."
   ]
  },
  {
   "cell_type": "code",
   "execution_count": 240,
   "metadata": {
    "ExecuteTime": {
     "end_time": "2019-02-02T04:04:15.518542Z",
     "start_time": "2019-02-02T04:04:15.336539Z"
    },
    "run_control": {
     "frozen": false,
     "read_only": false
    }
   },
   "outputs": [
    {
     "name": "stdout",
     "output_type": "stream",
     "text": [
      "(3190, 3921) (3190,)\n",
      "Training set score: 0.9206896551724137\n",
      "\n",
      "Test set score: 0.8369360902255639\n"
     ]
    },
    {
     "name": "stderr",
     "output_type": "stream",
     "text": [
      "/Users/mitchellmurphy/anaconda3/envs/python3.5/lib/python3.6/site-packages/sklearn/linear_model/logistic.py:433: FutureWarning: Default solver will be changed to 'lbfgs' in 0.22. Specify a solver to silence this warning.\n",
      "  FutureWarning)\n"
     ]
    }
   ],
   "source": [
    "from sklearn.linear_model import LogisticRegression\n",
    "\n",
    "lr = LogisticRegression()\n",
    "train = lr.fit(X_train, y_train)\n",
    "print(X_train.shape, y_train.shape)\n",
    "print('Training set score:', lr.score(X_train, y_train))\n",
    "print('\\nTest set score:', lr.score(X_test, y_test))"
   ]
  },
  {
   "cell_type": "markdown",
   "metadata": {
    "run_control": {
     "frozen": false,
     "read_only": false
    }
   },
   "source": [
    "Logistic regression performs a bit better than the random forest.  \n",
    "\n",
    "# BoW with Gradient Boosting\n",
    "\n",
    "And finally, let's see what gradient boosting can do:"
   ]
  },
  {
   "cell_type": "code",
   "execution_count": 48,
   "metadata": {
    "ExecuteTime": {
     "end_time": "2019-02-01T23:45:30.472801Z",
     "start_time": "2019-02-01T23:45:00.416021Z"
    },
    "run_control": {
     "frozen": false,
     "read_only": false
    }
   },
   "outputs": [
    {
     "name": "stdout",
     "output_type": "stream",
     "text": [
      "Training set score: 0.8213166144200627\n",
      "\n",
      "Test set score: 0.7796052631578947\n"
     ]
    }
   ],
   "source": [
    "clf = ensemble.GradientBoostingClassifier()\n",
    "train = clf.fit(X_train, y_train)\n",
    "\n",
    "print('Training set score:', clf.score(X_train, y_train))\n",
    "print('\\nTest set score:', clf.score(X_test, y_test))"
   ]
  },
  {
   "cell_type": "markdown",
   "metadata": {
    "run_control": {
     "frozen": false,
     "read_only": false
    }
   },
   "source": [
    "Looks like logistic regression is the winner, but there's room for improvement.\n",
    "\n",
    "# Same model, new inputs\n",
    "\n",
    "What if we feed the model a different novel by Jane Austen, like _Emma_?  Will it be able to distinguish Austen from Carroll with the same level of accuracy if we insert a different sample of Austen's writing?\n",
    "\n",
    "First, we need to process _Emma_ the same way we processed the other data, and combine it with the Alice data:"
   ]
  },
  {
   "cell_type": "code",
   "execution_count": 163,
   "metadata": {
    "ExecuteTime": {
     "end_time": "2019-02-02T03:00:56.383094Z",
     "start_time": "2019-02-02T03:00:56.351897Z"
    },
    "run_control": {
     "frozen": false,
     "read_only": false
    }
   },
   "outputs": [
    {
     "name": "stdout",
     "output_type": "stream",
     "text": [
      "Emma Woodhouse, handsome, clever, and rich, with a comfortable home and happy disposition, seemed to\n"
     ]
    }
   ],
   "source": [
    "# Clean the Emma data.\n",
    "emma = gutenberg.raw('austen-emma.txt')\n",
    "emma = re.sub(r'VOLUME \\w+', '', emma)\n",
    "emma = re.sub(r'CHAPTER \\w+', '', emma)\n",
    "emma = text_cleaner(emma)\n",
    "print(emma[:100])"
   ]
  },
  {
   "cell_type": "code",
   "execution_count": 171,
   "metadata": {
    "ExecuteTime": {
     "end_time": "2019-02-02T03:12:56.746084Z",
     "start_time": "2019-02-02T03:12:19.695816Z"
    }
   },
   "outputs": [],
   "source": [
    "# Parse our cleaned data.\n",
    "emma_doc = nlp(emma)\n",
    "emma_sents = [sent for sent in emma_doc.sents]\n",
    "emma_sents = emma_sents[:len(alice_sents)]"
   ]
  },
  {
   "cell_type": "code",
   "execution_count": 172,
   "metadata": {
    "ExecuteTime": {
     "end_time": "2019-02-02T03:13:36.823916Z",
     "start_time": "2019-02-02T03:12:58.359022Z"
    }
   },
   "outputs": [
    {
     "name": "stdout",
     "output_type": "stream",
     "text": [
      "Processing row 300\n",
      "Processing row 600\n",
      "Processing row 900\n",
      "Processing row 1200\n",
      "Processing row 1500\n"
     ]
    }
   ],
   "source": [
    "# count the words\n",
    "counts2 = pd.DataFrame(columns=common_words)\n",
    "i = 0\n",
    "for sentence in emma_sents:\n",
    "    # repeat this for every sentence\n",
    "    x = pd.Series(sentence).value_counts()\n",
    "    x = x[pd.Series([str(x) for x in x.index]).isin(common_words).values]\n",
    "    counts2.loc[i,:] = 0\n",
    "    counts2.loc[i,[str(x) for x in x.index]] = x.values\n",
    "    i += 1\n",
    "    if i % 300 == 0:\n",
    "            print(\"Processing row {}\".format(i))"
   ]
  },
  {
   "cell_type": "code",
   "execution_count": 241,
   "metadata": {
    "ExecuteTime": {
     "end_time": "2019-02-02T04:05:00.091665Z",
     "start_time": "2019-02-02T04:04:59.806089Z"
    }
   },
   "outputs": [],
   "source": [
    "# add the emma stuff to the X_test and y_test matrices\n",
    "X_test = np.concatenate((X_test, counts2.astype(int).values))\n",
    "y_test = np.concatenate((y_test, np.ones((counts2.shape[0], ))))"
   ]
  },
  {
   "cell_type": "code",
   "execution_count": 242,
   "metadata": {
    "ExecuteTime": {
     "end_time": "2019-02-02T04:05:02.653411Z",
     "start_time": "2019-02-02T04:05:02.491241Z"
    }
   },
   "outputs": [
    {
     "name": "stdout",
     "output_type": "stream",
     "text": [
      "\n",
      "Test set score: 0.8567289965762444\n"
     ]
    },
    {
     "data": {
      "text/html": [
       "<div>\n",
       "<style scoped>\n",
       "    .dataframe tbody tr th:only-of-type {\n",
       "        vertical-align: middle;\n",
       "    }\n",
       "\n",
       "    .dataframe tbody tr th {\n",
       "        vertical-align: top;\n",
       "    }\n",
       "\n",
       "    .dataframe thead th {\n",
       "        text-align: right;\n",
       "    }\n",
       "</style>\n",
       "<table border=\"1\" class=\"dataframe\">\n",
       "  <thead>\n",
       "    <tr style=\"text-align: right;\">\n",
       "      <th>col_0</th>\n",
       "      <th>0</th>\n",
       "      <th>1</th>\n",
       "    </tr>\n",
       "    <tr>\n",
       "      <th>row_0</th>\n",
       "      <th></th>\n",
       "      <th></th>\n",
       "    </tr>\n",
       "  </thead>\n",
       "  <tbody>\n",
       "    <tr>\n",
       "      <th>0.0</th>\n",
       "      <td>435</td>\n",
       "      <td>221</td>\n",
       "    </tr>\n",
       "    <tr>\n",
       "      <th>1.0</th>\n",
       "      <td>323</td>\n",
       "      <td>2818</td>\n",
       "    </tr>\n",
       "  </tbody>\n",
       "</table>\n",
       "</div>"
      ],
      "text/plain": [
       "col_0    0     1\n",
       "row_0           \n",
       "0.0    435   221\n",
       "1.0    323  2818"
      ]
     },
     "execution_count": 242,
     "metadata": {},
     "output_type": "execute_result"
    }
   ],
   "source": [
    "# Model.\n",
    "print('\\nTest set score:', lr.score(X_test, y_test))\n",
    "lr_Emma_predicted = lr.predict(X_test)\n",
    "pd.crosstab(y_test, lr_Emma_predicted)"
   ]
  },
  {
   "cell_type": "markdown",
   "metadata": {
    "run_control": {
     "frozen": false,
     "read_only": false
    }
   },
   "source": [
    "Well look at that!  NLP approaches are generally effective on the same type of material as they were trained on. It looks like this model is actually able to differentiate multiple works by Austen from Alice in Wonderland.  Now the question is whether the model is very good at identifying Austen, or very good at identifying Alice in Wonderland, or both...\n",
    "\n",
    "# Challenge 0:\n",
    "\n",
    "Recall that the logistic regression model's best performance on the test set was 93%.  See what you can do to improve performance.  Suggested avenues of investigation include: Other modeling techniques (SVM?), making more features that take advantage of the spaCy information (include grammar, phrases, POS, etc), making sentence-level features (number of words, amount of punctuation), or including contextual information (length of previous and next sentences, words repeated from one sentence to the next, etc), and anything else your heart desires.  Make sure to design your models on the test set, or use cross_validation with multiple folds, and see if you can get accuracy above 90%.  \n",
    "\n",
    "# Challenge 1:\n",
    "Find out whether your new model is good at identifying Alice in Wonderland vs any other work, Persuasion vs any other work, or Austen vs any other work.  This will involve pulling a new book from the Project Gutenberg corpus (print(gutenberg.fileids()) for a list) and processing it.\n",
    "\n",
    "Record your work for each challenge in a notebook and submit it below."
   ]
  },
  {
   "cell_type": "markdown",
   "metadata": {
    "collapsed": true
   },
   "source": [
    "**Feature Engineering**"
   ]
  },
  {
   "cell_type": "code",
   "execution_count": 175,
   "metadata": {
    "ExecuteTime": {
     "end_time": "2019-02-02T03:14:29.130046Z",
     "start_time": "2019-02-02T03:14:28.948110Z"
    }
   },
   "outputs": [],
   "source": [
    "# get average sentence length\n",
    "sentence_lengths = [len(re.findall(r'\\w+',str(sent))) for sent in sentences.iloc[:,0]]\n",
    "sentence_lengths2 = [len(re.findall(r'\\w+',str(sent))) for sent in emma_sents]\n",
    "sentence_lengths = pd.Series(sentence_lengths + sentence_lengths2)"
   ]
  },
  {
   "cell_type": "code",
   "execution_count": 269,
   "metadata": {
    "ExecuteTime": {
     "end_time": "2019-02-02T04:14:04.015278Z",
     "start_time": "2019-02-02T04:14:03.914859Z"
    }
   },
   "outputs": [],
   "source": [
    "all_counts = counts.append(counts2)\n",
    "all_counts[\"sentence_length\"] = sentence_lengths"
   ]
  },
  {
   "cell_type": "code",
   "execution_count": 224,
   "metadata": {
    "ExecuteTime": {
     "end_time": "2019-02-02T03:54:44.783299Z",
     "start_time": "2019-02-02T03:54:44.542079Z"
    }
   },
   "outputs": [
    {
     "data": {
      "text/plain": [
       "<matplotlib.axes._subplots.AxesSubplot at 0x1a3680c518>"
      ]
     },
     "execution_count": 224,
     "metadata": {},
     "output_type": "execute_result"
    },
    {
     "data": {
      "image/png": "[encoded data removed]",
      "text/plain": [
       "<Figure size 432x288 with 1 Axes>"
      ]
     },
     "metadata": {
      "needs_background": "light"
     },
     "output_type": "display_data"
    }
   ],
   "source": [
    "sns.distplot(sentence_lengths)"
   ]
  },
  {
   "cell_type": "code",
   "execution_count": 222,
   "metadata": {
    "ExecuteTime": {
     "end_time": "2019-02-02T03:54:15.275468Z",
     "start_time": "2019-02-02T03:54:14.981348Z"
    }
   },
   "outputs": [],
   "source": [
    "# average word length\n",
    "def avrg_count(x):\n",
    "    total_chars = len(re.sub(r'[^a-zA-Z0-9]', '', x))\n",
    "    num_words = len(re.findall(r'\\w+',str(x)))\n",
    "    if num_words == 0:\n",
    "        return total_chars\n",
    "    else:\n",
    "        return total_chars/float(num_words)\n",
    "avg_word_lengths = [avrg_count(str(sent)) for sent in sentences.iloc[:,0]]\n",
    "avg_word_lengths2 = [avrg_count(str(sent)) for sent in emma_sents]\n",
    "avg_word_lengths = pd.Series(avg_word_lengths+avg_word_lengths2)\n",
    "all_counts[\"average_word_length\"] = avg_word_lengths"
   ]
  },
  {
   "cell_type": "code",
   "execution_count": 223,
   "metadata": {
    "ExecuteTime": {
     "end_time": "2019-02-02T03:54:28.116155Z",
     "start_time": "2019-02-02T03:54:27.859568Z"
    }
   },
   "outputs": [
    {
     "name": "stderr",
     "output_type": "stream",
     "text": [
      "/Users/mitchellmurphy/anaconda3/envs/python3.5/lib/python3.6/site-packages/scipy/stats/stats.py:1713: FutureWarning: Using a non-tuple sequence for multidimensional indexing is deprecated; use `arr[tuple(seq)]` instead of `arr[seq]`. In the future this will be interpreted as an array index, `arr[np.array(seq)]`, which will result either in an error or a different result.\n",
      "  return np.add.reduce(sorted[indexer] * weights, axis=axis) / sumval\n"
     ]
    },
    {
     "data": {
      "text/plain": [
       "<matplotlib.axes._subplots.AxesSubplot at 0x1a366ba6d8>"
      ]
     },
     "execution_count": 223,
     "metadata": {},
     "output_type": "execute_result"
    },
    {
     "data": {
      "image/png": "[encoded data removed]",
      "text/plain": [
       "<Figure size 432x288 with 1 Axes>"
      ]
     },
     "metadata": {
      "needs_background": "light"
     },
     "output_type": "display_data"
    }
   ],
   "source": [
    "sns.distplot(avg_word_lengths)"
   ]
  },
  {
   "cell_type": "code",
   "execution_count": 137,
   "metadata": {
    "ExecuteTime": {
     "end_time": "2019-02-02T02:35:37.320611Z",
     "start_time": "2019-02-02T02:34:47.817054Z"
    }
   },
   "outputs": [],
   "source": [
    "# get all possible POS tags\n",
    "all_tags = set()\n",
    "for sent in sentences.iloc[:,0]:\n",
    "    for token in nlp(sent.string):\n",
    "        all_tags.add(token.pos_)"
   ]
  },
  {
   "cell_type": "code",
   "execution_count": 189,
   "metadata": {
    "ExecuteTime": {
     "end_time": "2019-02-02T03:22:04.338687Z",
     "start_time": "2019-02-02T03:19:41.754879Z"
    }
   },
   "outputs": [
    {
     "name": "stdout",
     "output_type": "stream",
     "text": [
      "Processing row 300\n",
      "Processing row 600\n",
      "Processing row 900\n",
      "Processing row 1200\n",
      "Processing row 1500\n",
      "Processing row 1800\n",
      "Processing row 2100\n",
      "Processing row 2400\n",
      "Processing row 2700\n",
      "Processing row 3000\n",
      "Processing row 3300\n",
      "Processing row 3600\n",
      "Processing row 3900\n",
      "Processing row 4200\n",
      "Processing row 4500\n",
      "Processing row 4800\n",
      "Processing row 5100\n"
     ]
    }
   ],
   "source": [
    "pos_tags = pd.DataFrame(columns=list(all_tags))\n",
    "i = 0\n",
    "for sent in sentences.iloc[:,0]:\n",
    "    list_pos = []\n",
    "    for token in nlp(sent.string):\n",
    "        list_pos.append(token.pos_)    \n",
    "    counts = pd.Series(list_pos).value_counts()\n",
    "\n",
    "    for pos in counts.index:\n",
    "        pos_tags.loc[i,pos] = counts.loc[pos]\n",
    "    i+=1\n",
    "    if i % 300 == 0:\n",
    "            print(\"Processing row {}\".format(i))"
   ]
  },
  {
   "cell_type": "code",
   "execution_count": 188,
   "metadata": {
    "ExecuteTime": {
     "end_time": "2019-02-02T03:19:19.795338Z",
     "start_time": "2019-02-02T03:18:51.800742Z"
    }
   },
   "outputs": [
    {
     "name": "stdout",
     "output_type": "stream",
     "text": [
      "Processing row 300\n",
      "Processing row 600\n",
      "Processing row 900\n",
      "Processing row 1200\n",
      "Processing row 1500\n"
     ]
    }
   ],
   "source": [
    "pos_tags2 = pd.DataFrame(columns=list(all_tags))\n",
    "i = 0\n",
    "for sent in emma_sents:\n",
    "    list_pos = []\n",
    "    for token in nlp(sent.string):\n",
    "        list_pos.append(token.pos_)    \n",
    "    counts = pd.Series(list_pos).value_counts()\n",
    "\n",
    "    for pos in counts.index:\n",
    "        pos_tags2.loc[i,pos] = counts.loc[pos]\n",
    "    i+=1\n",
    "    if i % 300 == 0:\n",
    "            print(\"Processing row {}\".format(i))"
   ]
  },
  {
   "cell_type": "code",
   "execution_count": 199,
   "metadata": {
    "ExecuteTime": {
     "end_time": "2019-02-02T03:28:26.607932Z",
     "start_time": "2019-02-02T03:28:26.603253Z"
    }
   },
   "outputs": [],
   "source": [
    "pos_tags.fillna(0, inplace=True)\n",
    "pos_tags2.fillna(0, inplace=True)\n",
    "pos = pos_tags.append(pos_tags2)"
   ]
  },
  {
   "cell_type": "code",
   "execution_count": 274,
   "metadata": {
    "ExecuteTime": {
     "end_time": "2019-02-02T04:15:19.161171Z",
     "start_time": "2019-02-02T04:15:18.192796Z"
    }
   },
   "outputs": [],
   "source": [
    "pos.index = all_counts.index"
   ]
  },
  {
   "cell_type": "code",
   "execution_count": 205,
   "metadata": {
    "ExecuteTime": {
     "end_time": "2019-02-02T03:30:22.483548Z",
     "start_time": "2019-02-02T03:30:22.478736Z"
    }
   },
   "outputs": [],
   "source": [
    "from nltk.sentiment.vader import SentimentIntensityAnalyzer\n",
    "# Polarity\n",
    "'''\n",
    "    INPUT: single sentence \n",
    "    OUTPUT: list of values: [negative, neutral, positive, compound]\n",
    "'''\n",
    "def nltk_sentiment(sentence, return_list = True):\n",
    "    nltk_sentiment = SentimentIntensityAnalyzer()\n",
    "    score = nltk_sentiment.polarity_scores(sentence.string)\n",
    "    # score will look like:\n",
    "    # {'neg': 0.0, 'neu': 0.667, 'pos': 0.333, 'compound': 0.3612}\n",
    "    if return_list:\n",
    "        # [0.0, 0.667, 0.333, 0.3612]\n",
    "        score = [ item[1] for item in score.items() ]\n",
    "        return score[0], score[1], score[2], score[3]\n",
    "    else:\n",
    "        return score"
   ]
  },
  {
   "cell_type": "code",
   "execution_count": 214,
   "metadata": {
    "ExecuteTime": {
     "end_time": "2019-02-02T03:51:40.395604Z",
     "start_time": "2019-02-02T03:50:57.916038Z"
    }
   },
   "outputs": [],
   "source": [
    "polarity_scores = []\n",
    "for sentence in sentences.iloc[:,0]:\n",
    "    polarity_scores.append(nltk_sentiment(sentence))\n",
    "    polarity_scores2 = []\n",
    "for sentence in emma_sents:\n",
    "    polarity_scores2.append(nltk_sentiment(sentence))\n",
    "scores = pd.DataFrame(polarity_scores + polarity_scores2)"
   ]
  },
  {
   "cell_type": "code",
   "execution_count": 283,
   "metadata": {
    "ExecuteTime": {
     "end_time": "2019-02-02T04:19:37.292534Z",
     "start_time": "2019-02-02T04:19:37.289211Z"
    }
   },
   "outputs": [],
   "source": [
    "scores.index = all_counts.index"
   ]
  },
  {
   "cell_type": "code",
   "execution_count": 284,
   "metadata": {
    "ExecuteTime": {
     "end_time": "2019-02-02T04:19:44.031731Z",
     "start_time": "2019-02-02T04:19:43.877760Z"
    }
   },
   "outputs": [],
   "source": [
    "all_counts = pd.concat([all_counts, pos, scores], axis=1)"
   ]
  },
  {
   "cell_type": "code",
   "execution_count": 150,
   "metadata": {
    "ExecuteTime": {
     "end_time": "2019-02-02T02:43:43.526591Z",
     "start_time": "2019-02-02T02:43:43.520959Z"
    }
   },
   "outputs": [
    {
     "data": {
      "text/plain": [
       "NOUN    1\n",
       "dtype: int64"
      ]
     },
     "execution_count": 150,
     "metadata": {},
     "output_type": "execute_result"
    }
   ],
   "source": [
    "# now re-split"
   ]
  },
  {
   "cell_type": "code",
   "execution_count": 302,
   "metadata": {
    "ExecuteTime": {
     "end_time": "2019-02-02T04:24:01.290833Z",
     "start_time": "2019-02-02T04:24:00.856161Z"
    }
   },
   "outputs": [],
   "source": [
    "Y = (sentences.author == \"Austen\").astype(int)\n",
    "Y = np.concatenate((Y, np.ones((1669, ))))\n",
    "\n",
    "X = all_counts.astype(int)"
   ]
  },
  {
   "cell_type": "markdown",
   "metadata": {},
   "source": [
    "# Evaluation"
   ]
  },
  {
   "cell_type": "code",
   "execution_count": 305,
   "metadata": {
    "ExecuteTime": {
     "end_time": "2019-02-02T04:24:38.874688Z",
     "start_time": "2019-02-02T04:24:38.637168Z"
    }
   },
   "outputs": [],
   "source": [
    "X_train, X_test, y_train, y_test = train_test_split(X, \n",
    "                                                    Y,\n",
    "                                                    test_size=0.4,\n",
    "                                                    random_state=0)"
   ]
  },
  {
   "cell_type": "code",
   "execution_count": 311,
   "metadata": {
    "ExecuteTime": {
     "end_time": "2019-02-02T04:26:12.117188Z",
     "start_time": "2019-02-02T04:26:11.634577Z"
    }
   },
   "outputs": [
    {
     "name": "stderr",
     "output_type": "stream",
     "text": [
      "/Users/mitchellmurphy/anaconda3/envs/python3.5/lib/python3.6/site-packages/sklearn/linear_model/logistic.py:433: FutureWarning: Default solver will be changed to 'lbfgs' in 0.22. Specify a solver to silence this warning.\n",
      "  FutureWarning)\n"
     ]
    },
    {
     "name": "stdout",
     "output_type": "stream",
     "text": [
      "(4192, 3941) (4192,)\n",
      "Training set score: 0.9324904580152672\n",
      "\n",
      "Test set score: 0.8633273703041144\n"
     ]
    }
   ],
   "source": [
    "lr = LogisticRegression()\n",
    "train = lr.fit(X_train, y_train)\n",
    "print(X_train.shape, y_train.shape)\n",
    "print('Training set score:', lr.score(X_train, y_train))\n",
    "print('\\nTest set score:', lr.score(X_test, y_test))"
   ]
  }
 ],
 "metadata": {
  "hide_input": false,
  "kernelspec": {
   "display_name": "Python 3",
   "language": "python",
   "name": "python3"
  },
  "language_info": {
   "codemirror_mode": {
    "name": "ipython",
    "version": 3
   },
   "file_extension": ".py",
   "mimetype": "text/x-python",
   "name": "python",
   "nbconvert_exporter": "python",
   "pygments_lexer": "ipython3",
   "version": "3.6.6"
  },
  "latex_envs": {
   "LaTeX_envs_menu_present": true,
   "autoclose": false,
   "autocomplete": true,
   "bibliofile": "biblio.bib",
   "cite_by": "apalike",
   "current_citInitial": 1,
   "eqLabelWithNumbers": true,
   "eqNumInitial": 1,
   "hotkeys": {
    "equation": "Ctrl-E",
    "itemize": "Ctrl-I"
   },
   "labels_anchors": false,
   "latex_user_defs": false,
   "report_style_numbering": false,
   "user_envs_cfg": false
  },
  "toc": {
   "base_numbering": 1,
   "nav_menu": {
    "height": "49px",
    "width": "252px"
   },
   "number_sections": true,
   "sideBar": true,
   "skip_h1_title": false,
   "title_cell": "Table of Contents",
   "title_sidebar": "Contents",
   "toc_cell": false,
   "toc_position": {},
   "toc_section_display": "block",
   "toc_window_display": false
  },
  "varInspector": {
   "cols": {
    "lenName": 16,
    "lenType": 16,
    "lenVar": 40
   },
   "kernels_config": {
    "python": {
     "delete_cmd_postfix": "",
     "delete_cmd_prefix": "del ",
     "library": "var_list.py",
     "varRefreshCmd": "print(var_dic_list())"
    },
    "r": {
     "delete_cmd_postfix": ") ",
     "delete_cmd_prefix": "rm(",
     "library": "var_list.r",
     "varRefreshCmd": "cat(var_dic_list()) "
    }
   },
   "types_to_exclude": [
    "module",
    "function",
    "builtin_function_or_method",
    "instance",
    "_Feature"
   ],
   "window_display": false
  }
 },
 "nbformat": 4,
 "nbformat_minor": 2
}
