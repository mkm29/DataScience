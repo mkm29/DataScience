{
 "cells": [
  {
   "cell_type": "code",
   "execution_count": 25,
   "metadata": {
    "ExecuteTime": {
     "end_time": "2019-06-23T16:23:33.303700Z",
     "start_time": "2019-06-23T16:23:33.299990Z"
    }
   },
   "outputs": [],
   "source": [
    "import pandas as pd\n",
    "import os\n",
    "from string import punctuation\n",
    "import numpy as np\n",
    "import warnings\n",
    "rand_state = 42\n",
    "np.random.seed(rand_state)\n",
    "\n",
    "warnings.simplefilter('ignore')"
   ]
  },
  {
   "cell_type": "code",
   "execution_count": 2,
   "metadata": {
    "ExecuteTime": {
     "end_time": "2019-06-23T16:08:29.208607Z",
     "start_time": "2019-06-23T16:08:28.560539Z"
    }
   },
   "outputs": [
    {
     "name": "stdout",
     "output_type": "stream",
     "text": [
      "Shape:  (228, 4)\n"
     ]
    }
   ],
   "source": [
    "path = 'sotu'\n",
    "dirs = os.listdir(path)\n",
    "\n",
    "df = pd.DataFrame(columns=['year', 'president', 'party', 'text'])\n",
    "\n",
    "for i in range(len(dirs)):\n",
    "    components = dirs[i].split('_')\n",
    "    name = components[0]\n",
    "    year = components[1].split('.')[0]\n",
    "    df.loc[i,'year'] = year\n",
    "    df.loc[i,'president'] = name   \n",
    "    \n",
    "    filename = os.path.join(path, dirs[i])\n",
    "    text_file = open(filename, \"r\")\n",
    "    \n",
    "    lines = text_file.read()\n",
    "    lines = lines.replace('\\n', ' ')\n",
    "    df.loc[i, 'text'] = lines.lower()\n",
    "    \n",
    "df.year = df.year.astype(int) \n",
    "df.president = df.president.astype(str)\n",
    "df.text = df.text.astype(str)\n",
    "print('Shape: ', df.shape)"
   ]
  },
  {
   "cell_type": "markdown",
   "metadata": {},
   "source": [
    "## Annotate\n",
    "\n",
    "There are a few presidents that have the same last name (Roosevelt, Bush, Johnson and Adams), so let's clean that up now."
   ]
  },
  {
   "cell_type": "code",
   "execution_count": 3,
   "metadata": {
    "ExecuteTime": {
     "end_time": "2019-06-23T16:08:31.199786Z",
     "start_time": "2019-06-23T16:08:31.127106Z"
    }
   },
   "outputs": [],
   "source": [
    "# need to distinuish between Theodore Roosevelt and Franklin D. Roosevelt\n",
    "indices = df.query(\"president =='Roosevelt' & year <= 1909\").index\n",
    "df.loc[indices,'president'] = 'Theodore Roosevelt'\n",
    "\n",
    "indices = df.query(\"president == 'Roosevelt'\").index\n",
    "df.loc[indices,'president'] = 'Franklin D. Roosevelt'\n",
    "\n",
    "indices = df.query(\"president =='Bush' & year <= 1992\").index\n",
    "df.loc[indices,'president'] = 'George H. W. Bush'\n",
    "\n",
    "indices = df.query(\"president == 'Bush'\").index\n",
    "df.loc[indices,'president'] = 'George W. Bush'\n",
    "\n",
    "indices = df.query(\"president =='Johnson' & year <= 1869\").index\n",
    "df.loc[indices,'president'] = 'Andrew Johnson'\n",
    "\n",
    "indices = df.query(\"president == 'Johnson'\").index\n",
    "df.loc[indices,'president'] = 'Lyndon B. Johnson'\n",
    "\n",
    "indices = df.query(\"president =='Adams' & year <= 1801\").index\n",
    "df.loc[indices,'president'] = 'John Adams'\n",
    "\n",
    "indices = df.query(\"president == 'Adams'\").index\n",
    "df.loc[indices,'president'] = 'John Quincy Adams'\n",
    "\n",
    "\n",
    "indices = df.query(\"president =='Harrison' & year <= 1841\").index\n",
    "df.loc[indices,'president'] = 'William Henry Harrison'\n",
    "\n",
    "indices = df.query(\"president == 'Harrison'\").index\n",
    "df.loc[indices,'president'] = 'Benjamin Harrison'"
   ]
  },
  {
   "cell_type": "markdown",
   "metadata": {},
   "source": [
    "Now let's attach the political party to the president (note some presidents changed parties throughout their political career, I am simply listing the party they belonged to while serving as President)."
   ]
  },
  {
   "cell_type": "code",
   "execution_count": 4,
   "metadata": {
    "ExecuteTime": {
     "end_time": "2019-06-23T16:08:33.355286Z",
     "start_time": "2019-06-23T16:08:33.331633Z"
    }
   },
   "outputs": [
    {
     "data": {
      "text/html": [
       "<div>\n",
       "<style scoped>\n",
       "    .dataframe tbody tr th:only-of-type {\n",
       "        vertical-align: middle;\n",
       "    }\n",
       "\n",
       "    .dataframe tbody tr th {\n",
       "        vertical-align: top;\n",
       "    }\n",
       "\n",
       "    .dataframe thead th {\n",
       "        text-align: right;\n",
       "    }\n",
       "</style>\n",
       "<table border=\"1\" class=\"dataframe\">\n",
       "  <thead>\n",
       "    <tr style=\"text-align: right;\">\n",
       "      <th></th>\n",
       "      <th>president</th>\n",
       "      <th>party</th>\n",
       "      <th>text</th>\n",
       "    </tr>\n",
       "    <tr>\n",
       "      <th>year</th>\n",
       "      <th></th>\n",
       "      <th></th>\n",
       "      <th></th>\n",
       "    </tr>\n",
       "  </thead>\n",
       "  <tbody>\n",
       "    <tr>\n",
       "      <th>1791</th>\n",
       "      <td>Washington</td>\n",
       "      <td>Unaffiliated</td>\n",
       "      <td>fellow-citizens of the senate and house of rep...</td>\n",
       "    </tr>\n",
       "    <tr>\n",
       "      <th>1792</th>\n",
       "      <td>Washington</td>\n",
       "      <td>Unaffiliated</td>\n",
       "      <td>fellow-citizens of the senate and house of rep...</td>\n",
       "    </tr>\n",
       "    <tr>\n",
       "      <th>1793</th>\n",
       "      <td>Washington</td>\n",
       "      <td>Unaffiliated</td>\n",
       "      <td>fellow-citizens of the senate and house of rep...</td>\n",
       "    </tr>\n",
       "    <tr>\n",
       "      <th>1794</th>\n",
       "      <td>Washington</td>\n",
       "      <td>Unaffiliated</td>\n",
       "      <td>fellow-citizens of the senate and house of rep...</td>\n",
       "    </tr>\n",
       "    <tr>\n",
       "      <th>1795</th>\n",
       "      <td>Washington</td>\n",
       "      <td>Unaffiliated</td>\n",
       "      <td>fellow-citizens of the senate and house of rep...</td>\n",
       "    </tr>\n",
       "  </tbody>\n",
       "</table>\n",
       "</div>"
      ],
      "text/plain": [
       "       president         party  \\\n",
       "year                             \n",
       "1791  Washington  Unaffiliated   \n",
       "1792  Washington  Unaffiliated   \n",
       "1793  Washington  Unaffiliated   \n",
       "1794  Washington  Unaffiliated   \n",
       "1795  Washington  Unaffiliated   \n",
       "\n",
       "                                                   text  \n",
       "year                                                     \n",
       "1791  fellow-citizens of the senate and house of rep...  \n",
       "1792  fellow-citizens of the senate and house of rep...  \n",
       "1793  fellow-citizens of the senate and house of rep...  \n",
       "1794  fellow-citizens of the senate and house of rep...  \n",
       "1795  fellow-citizens of the senate and house of rep...  "
      ]
     },
     "execution_count": 4,
     "metadata": {},
     "output_type": "execute_result"
    }
   ],
   "source": [
    "def pres_to_party(name):\n",
    "    republican = ['Lincoln', 'Grant', 'Hayes', 'Garfield', 'Arthur', \n",
    "                  'Benjamin Harrison', 'McKinley', 'Theodore Roosevelt', \n",
    "                  'Taft', 'Harding', 'Coolidge', 'Hoover', 'Eisenhower', \n",
    "                  'Nixon', 'Ford', 'Reagan', 'George H. W. Bush', \n",
    "                  'George W. Bush', 'Trump']\n",
    "    if name in republican:\n",
    "        return 'Republican'\n",
    "    \n",
    "    democratic = ['Jackson', 'Buren', 'Polk', 'Pierce', \n",
    "                  'Buchanan', 'Cleveland', 'Wilson', 'Franklin D. Roosevelt', \n",
    "                  'Truman', 'Kennedy', 'Lyndon B. Johnson', 'Carter', 'Clinton', 'Obama']\n",
    "    if name in democratic:\n",
    "        return 'Democratic'\n",
    "    \n",
    "    whig = ['William Henry Harrison', 'Taylor', 'Fillmore']\n",
    "    if name in whig:\n",
    "        return 'Whig'\n",
    "    \n",
    "    national_union = ['Andrew Johnson']\n",
    "    if name in national_union:\n",
    "        return 'National Union'\n",
    "    \n",
    "    \n",
    "    unaffiliated = ['Washington', 'Tyler']\n",
    "    if name in unaffiliated:\n",
    "        return 'Unaffiliated'\n",
    "    \n",
    "    federalist = ['John Adams']\n",
    "    if name in federalist:\n",
    "        return 'Federalist'\n",
    "    \n",
    "    democratic_republican = ['Jefferson', 'Madison', 'Monroe', 'John Quincy Adams']\n",
    "    if name in democratic_republican:\n",
    "        return 'Democratic-Republican'\n",
    "    \n",
    "df.party = df.president.apply(pres_to_party)\n",
    "\n",
    "df.set_index('year', inplace=True)\n",
    "df.sort_index(inplace=True)\n",
    "\n",
    "# need to drop George Washington's 1790 address as the file is empty\n",
    "df = df.iloc[1:,:]\n",
    "df.head()"
   ]
  },
  {
   "cell_type": "markdown",
   "metadata": {},
   "source": [
    "Note that the political parties are not well balanced, the Democrats and Republicans accounnt for 177 out of 227 addresses, while the other three parties made up only 22%. Therefore, it might be more interesting to predict the probability that a given text belongs to a particular political party, eg. 62% Democrat and 38% Republican."
   ]
  },
  {
   "cell_type": "code",
   "execution_count": 5,
   "metadata": {
    "ExecuteTime": {
     "end_time": "2019-06-23T16:08:36.052465Z",
     "start_time": "2019-06-23T16:08:36.048438Z"
    }
   },
   "outputs": [],
   "source": [
    "df = df[df.party.isin(['Republican', 'Democratic'])]"
   ]
  },
  {
   "cell_type": "code",
   "execution_count": 18,
   "metadata": {
    "ExecuteTime": {
     "end_time": "2019-06-23T16:18:47.357716Z",
     "start_time": "2019-06-23T16:18:47.352132Z"
    }
   },
   "outputs": [
    {
     "data": {
      "text/plain": [
       "'fellow citizens of the senate and of the house of representatives:  it affords me pleasure to tender my friendly greetings to you on the occasion of your assembling at the seat of government to enter upon the important duties to which you have been called by the voice of our country-men. the task devolves on me, under a provision of the constitution, to present to you, as the federal legislature of 24 sovereign states and 12,000,000 happy people, a view of our affairs, and to propose such measures as in the discharge of my official functions have suggested themselves as necessary to promote the objects of our union.  in communicating with you for the first time it is to me a source of unfeigned satisfaction, calling for mutual gratulation and devout thanks to a benign providence, that we are at peace with all man-kind, and that our country exhibits the most cheering evidence of general welfare and progressive improvement. turning our eyes to other nations, our great desire is to see our brethren of the human race secured in the blessings enjoyed by ourselves, and advancing in knowledge, in freedom, and in social happiness.  our foreign relations, although in their general character pacific and friendly, present subjects of difference between us and other powers of deep interest as well to the country at large as to many of our citizens. to effect an adjustment of these shall continue to be the object of my earnest endeavors, and not with standing the difficulties of the task, i do not allow myself to apprehend unfavorable results. blessed as our country is with every thing which constitutes national strength, she is fully adequate to the maintenance of all her interests. in discharging the responsible trust confided to the executive in this respect it is my settled purpose to ask nothing that is not clearly right and to submit to nothing that is wrong; and i flatter myself that, supported by the other branches of the government and by the intelligence and patriotism of the people, we shall be able, under the protection of providence, to cause all our just rights to be respected.  of the unsettled matters between the united states and other powers, the most prominent are those which have for years been the subject of negotiation with england, france, and spain. the late periods at which our ministers to those governments left the united states render it impossible at this early day to inform you of what has been done on the subjects with which they have been respectively charged. relying upon the justice of our views in relation to the points committed to negotiation and the reciprocal good feeling which characterizes our intercourse with those nations, we have the best reason to hope for a satisfactory adjustment of existing differences.  with great britain, alike distinguished in peace and war, we may look forward to years of peaceful, honorable, and elevated competition. every thing in the condition and history of the two nations is calculated to inspire sentiments of mutual respect and to carry conviction to the minds of both that it is their policy to preserve the most cordial relations. such are my own views, and it is not to be doubted that such are also the prevailing sentiments of our constituents. although neither time nor opportunity has been afforded for a full development of the policy which the present cabinet of great britain designs to pursue toward this country, i indulge the hope that it will be of a just and pacific character; and if this anticipation be realized we may look with confidence to a speedy and acceptable adjustment of our affairs.  under the convention for regulating the reference to arbitration of the disputed points of boundary under the 5th article of the treaty of ghent, the proceedings have hitherto been conducted in that spirit of candor and liberality which ought ever to characterize the acts of sovereign states seeking to adjust by the most unexceptionable means important and delicate subjects of contention. the first sentiments of the parties have been exchanged, and the final replication on our part is in a course of preparation. this subject has received the attention demanded by its great and peculiar importance to a patriotic member of this confederacy. the exposition of our rights already made is such as, from the high reputation of the commissioners by whom it has been prepared, we had a right to expect. our interests at the court of the sovereign who has evinced his friendly disposition by assuming the delicate task of arbitration have been committed to a citizen of the state of maine, whose character, talents, and intimate acquaintance with the subject eminently qualify him for so responsible a trust. with full confidence in the justice of our cause and in the probity, intelligence, and uncompromising independence of the illustrious arbitrator, we can have nothing to apprehend from the result.  from france, our ancient ally, we have a right to expect that justice which becomes the sovereign of a powerful, intelligent, and magnanimous people. the beneficial effects produced by the commercial convention of 1822, limited as are its provisions, are too obvious not to make a salutary impression upon the minds of those who are charged with the administration of her government. should this result induce a disposition to embrace to their full extent the wholesome principles which constitute our commercial policy, our minister to that court will be found instructed to cherish such a disposition and to aid in conducting it to useful practical conclusions. the claims of our citizens for depredations upon their property, long since committed under the authority, and in many instances by the express direction, of the then existing government of france, remain unsatisfied, and must therefore continue to furnish a subject of unpleasant discussion and possible collision between the two governments. i cherish, however, a lively hope, founded as well on the validity of those claims and the established policy of all enlightened governments as on the known integrity of the french monarch, that the injurious delays of the past will find redress in the equity of the future. our minister has been instructed to press these demands on the french government with all the earnestness which is called for by their importance and irrefutable justice, and in a spirit that will evince the respect which is due to the feelings of those from whom the satisfaction is required.  our minister recently appointed to spain has been authorized to assist in removing evils alike injurious to both countries, either by concluding a commercial convention upon liberal and reciprocal terms or by urging the acceptance in their full extent of the mutually beneficial provisions of our navigation acts. he has also been instructed to make a further appeal to the justice of spain, in behalf of our citizens, for indemnity for spoliations upon our commerce committed under her authority--an appeal which the pacific and liberal course observed on our part and a due confidence in the honor of that government authorize us to expect will not be made in vain.  with other european powers our intercourse is on the most friendly footing. in russia, placed by her territorial limits, extensive population, and great power high in the rank of nations, the united states have always found a steadfast friend. although her recent invasion of turkey awakened a lively sympathy for those who were exposed to the desolation of war, we can not but anticipate that the result will prove favorable to the cause of civilization and to the progress of human happiness. the treaty of peace between these powers having been ratified, we can not be insensible to the great benefit to be derived by the commerce of the united states from unlocking the navigation of the black sea, a free passage into which is secured to all merchant vessels bound to ports of russia under a flag at peace with the porte. this advantage, enjoyed upon conditions by most of the powers of europe, has hitherto been withheld from us. during the past summer an antecedent but unsuccessful attempt to obtain it was renewed under circumstances which promised the most favorable results. although these results have fortunately been thus in part attained, further facilities to the enjoyment of this new field for the enterprise of our citizens are, in my opinion, sufficiently desirable to insure to them our most zealous attention.  our trade with austria, although of secondary importance, has been gradually increasing, and is now so extended as to deserve the fostering care of the government. a negotiation, commenced and nearly completed with that power by the late administration, has been consummated by a treaty of amity, navigation, and commerce, which will be laid before the senate.  during the recess of congress our diplomatic relations with portugal have been resumed. the peculiar state of things in that country caused a suspension of the recognition of the representative who presented himself until an opportunity was had to obtain from our official organ there information regarding the actual and, as far as practicable, prospective condition of the authority by which the representative in question was appointed. this information being received, the application of the established rule of our government in like cases was no longer withheld.  considerable advances have been made during the present year in the adjustment of claims of our citizens upon denmark for spoliations, but all that we have a right to demand from that government in their behalf has not yet been conceded. from the liberal footing, however, upon which this subject has, with the approbation of the claimants, been placed by the government, together with the uniformly just and friendly disposition which has been evinced by his danish majesty, there is a reasonable ground to hope that this single subject of difference will speedily be removed.  our relations with the barbary powers continue, as they have long been, of the most favorable character. the policy of keeping an adequate force in the mediterranean, as security for the continuance of this tranquillity, will be persevered in, as well as a similar one for the protection of our commerce and fisheries in the pacific.  the southern republics of our own hemisphere have not yet realized all the advantages for which they have been so long struggling. we trust, however, that the day is not distant when the restoration of peace and internal quiet, under permanent systems of government, securing the liberty and promoting the happiness of the citizens, will crown with complete success their long and arduous efforts in the cause of self-government, and enable us to salute them as friendly rivals in all that is truly great and glorious.  the recent invasion of mexico, and the effect thereby produced upon her domestic policy, must have a controlling influence upon the great question of south american emancipation. we have seen the fell spirit of civil dissension rebuked, and perhaps for ever stifled, in that republic by the love of independence. if it be true, as appearances strongly indicate, the spirit of independence is the master spirit, and if a corresponding sentiment prevails in the other states, this devotion to liberty can not be without a proper effect upon the counsels of the mother country. the adoption by spain of a pacific policy toward her former colonies--an event consoling to humanity, and a blessing to the world, in which she herself can not fail largely to participate--may be most reasonably expected.  the claims of our citizens upon the south american governments generally are in a train of settlement, while the principal part of those upon brazil have been adjusted, and a decree in council ordering bonds to be issued by the minister of the treasury for their amount has received the sanction of his imperial majesty. this event, together with the exchange of the ratifications of the treaty negotiated and concluded in 1828, happily terminates all serious causes of difference with that power.  measures have been taken to place our commercial relations with peru upon a better footing than that upon which they have hitherto rested, and if met by a proper disposition on the part of that government important benefits may be secured to both countries.  deeply interested as we are in the prosperity of our sister republics, and more particularly in that of our immediate neighbor, it would be most gratifying to me were i permitted to say that the treatment which we have received at her hands has been as universally friendly as the early and constant solicitude manifested by the united states for her success gave us a right to expect. but it becomes my duty to inform you that prejudices long indulged by a portion of the inhabitants of mexico against the envoy extraordinary and minister plenipotentiary of the united states have had an unfortunate influence upon the affairs of the two countries, and have diminished that usefulness to his own which was justly to be expected from his talents and zeal. to this cause, in a great degree, is to be imputed the failure of several measures equally interesting to both parties, but particularly that of the mexican government to ratify a treaty negotiated and concluded in its own capital and under its own eye. under these circumstances it appeared expedient to give to mr. poinsett the option either to return or not, as in his judgment the interest of his country might require, and instructions to that end were prepared; but before they could be dispatched a communication was received from the government of mexico, through its charge d\\'affaires here, requesting the recall of our minister. this was promptly complied with, and a representative of a rank corresponding with that of the mexican diplomatic agent near this government was appointed. our conduct toward that republic has been uniformly of the most friendly character, and having thus removed the only alleged obstacle to harmonious intercourse, i can not but hope that an advantageous change will occur in our affairs.  in justice to mr. poinsett it is proper to say that my immediate compliance with the application for his recall and the appointment of a successor are not to be ascribed to any evidence that the imputation of an improper interference by him in the local politics of mexico was well founded, nor to a want of confidence in his talents or integrity, and to add that the truth of the charges has never been affirmed by the federal government of mexico in its communications with us.  i consider it one of the most urgent of my duties to bring to your attention the propriety of amending that part of the constitution which relates to the election of president and vice-president. our system of government was by its framers deemed an experiment, and they therefore consistently provided a mode of remedying its defects.  to the people belongs the right of electing their chief magistrate; it was never designed that their choice should in any case be defeated, either by the intervention of electoral colleges or by the agency confided, under certain contingencies, to the house of representatives. experience proves that in proportion as agents to execute the will of the people are multiplied there is danger of their wishes being frustrated. some may be unfaithful; all are liable to err. so far, therefore, as the people can with convenience speak, it is safer for them to express their own will.  the number of aspirants to the presidency and the diversity of the interests which may influence their claims leave little reason to expect a choice in the first instance, and in that event the election must devolve on the house of representatives, where it is obvious the will of the people may not be always ascertained, or, if ascertained, may not be regarded. from the mode of voting by states the choice is to be made by 24 votes, and it may often occur that one of these will be controlled by an individual representative. honors and offices are at the disposal of the successful candidate. repeated ballotings may make it apparent that a single individual holds the cast in his hand. may he not be tempted to name his reward?  but even without corruption, supposing the probity of the representative to be proof against the powerful motives by which it may be assailed, the will of the people is still constantly liable to be misrepresented. one may err from ignorance of the wishes of his constituents; another from a conviction that it is his duty to be governed by his own judgment of the fitness of the candidates; finally, although all were inflexibly honest, all accurately informed of the wishes of their constituents, yet under the present mode of election a minority may often elect a president, and when this happens it may reasonably be expected that efforts will be made on the part of the majority to rectify this injurious operation of their institutions. but although no evil of this character should result from such a perversion of the first principle of our system--that the majority is to govern--it must be very certain that a president elected by a minority can not enjoy the confidence necessary to the successful discharge of his duties.  in this as in all other matters of public concern policy requires that as few impediments as possible should exist to the free operation of the public will. let us, then, endeavor so to amend our system that the office of chief magistrate may not be conferred upon any citizen but in pursuance of a fair expression of the will of the majority.  i would therefore recommend such an amendment of the constitution as may remove all intermediate agency in the election of the president and vice-president. the mode may be so regulated as to preserve to each state its present relative weight in the election, and a failure in the first attempt may be provided for by confining the second to a choice between the two highest candidates. in connection with such an amendment it would seem advisable to limit the service of the chief magistrate to a single term of either four or six years. if, however, it should not be adopted, it is worthy of consideration whether a provision disqualifying for office the representatives in congress on whom such an election may have devolved would not be proper.  while members of congress can be constitutionally appointed to offices of trust and profit it will be the practice, even under the most conscientious adherence to duty, to select them for such stations as they are believed to be better qualified to fill than other citizens; but the purity of our government would doubtless be promoted by their exclusion from all appointments in the gift of the president, in whose election they may have been officially concerned. the nature of the judicial office and the necessity of securing in the cabinet and in diplomatic stations of the highest rank the best talents and political experience should, perhaps, except these from the exclusion.  there are, perhaps, few men who can for any great length of time enjoy office and power without being more or less under the influence of feelings unfavorable to the faithful discharge of their public duties. their integrity may be proof against improper considerations immediately addressed to themselves, but they are apt to acquire a habit of looking with indifference upon the public interests and of tolerating conduct from which an unpracticed man would revolt. office is considered as a species of property, and government rather as a means of promoting individual interests than as an instrument created solely for the service of the people. corruption in some and in others a perversion of correct feelings and principles divert government from its legitimate ends and make it an engine for the support of the few at the expense of the many. the duties of all public officers are, or at least admit of being made, so plain and simple that men of intelligence may readily qualify themselves for their performance; and i can not but believe that more is lost by the long continuance of men in office than is generally to be gained by their experience. i submit, therefore, to your consideration whether the efficiency of the government would not be promoted and official industry and integrity better secured by a general extension of the law which limits appointments to four years.  in a country where offices are created solely for the benefit of the people no one man has any more intrinsic right to official station than another. offices were not established to give support to particular men at the public expense. no individual wrong is, therefore, done by removal, since neither appointment to nor continuance in office is a matter of right. the incumbent became an officer with a view to public benefits, and when these require his removal they are not to be sacrificed to private interests. it is the people, and they alone, who have a right to complain when a bad officer is substituted for a good one. he who is removed has the same means of obtaining a living that are enjoyed by the millions who never held office. the proposed limitation would destroy the idea of property now so generally connected with official station, and although individual distress may be some times produced, it would, by promoting that rotation which constitutes a leading principle in the republican creed, give healthful action to the system.  no very considerable change has occurred during the recess of congress in the condition of either our agriculture, commerce, or manufactures. the operation of the tariff has not proved so injurious to the two former or as beneficial to the latter as was anticipated. importations of foreign goods have not been sensibly diminished, while domestic competition, under an illusive excitement, has increased the production much beyond the demand for home consumption. the consequences have been low prices, temporary embarrassment, and partial loss. that such of our manufacturing establishments as are based upon capital and are prudently managed will survive the shock and be ultimately profitable there is no good reason to doubt.  to regulate its conduct so as to promote equally the prosperity of these three cardinal interests is one of the most difficult tasks of government; and it may be regretted that the complicated restrictions which now embarrass the intercourse of nations could not by common consent be abolished, and commerce allowed to flow in those channels to which individual enterprise, always its surest guide, might direct it. but we must ever expect selfish legislation in other nations, and are therefore compelled to adapt our own to their regulations in the manner best calculated to avoid serious injury and to harmonize the conflicting interests of our agriculture, our commerce, and our manufactures. under these impressions i invite your attention to the existing tariff, believing that some of its provisions require modification.  the general rule to be applied in graduating the duties upon articles of foreign growth or manufacture is that which will place our own in fair competition with those of other countries; and the inducements to advance even a step beyond this point are controlling in regard to those articles which are of primary necessity in time of war. when we reflect upon the difficulty and delicacy of this operation, it is important that it should never be attempted but with the utmost caution. frequent legislation in regard to any branch of industry, affecting its value, and by which its capital may be transferred to new channels, must always be productive of hazardous speculation and loss.  in deliberating, therefore, on these interesting subjects local feelings and prejudices should be merged in the patriotic determination to promote the great interests of the whole. all attempts to connect them with the party conflicts of the day are necessarily injurious, and should be discountenanced. our action upon them should be under the control of higher and purer motives. legislation subjected to such influences can never be just, and will not long retain the sanction of a people whose active patriotism is not bounded by sectional limits nor insensible to that spirit of concession and forbearance which gave life to our political compact and still sustains it. discarding all calculations of political ascendancy, the north, the south, the east, and the west should unite in diminishing any burthen of which either may justly complain.  the agricultural interest of our country is so essentially connected with every other and so superior in importance to them all that it is scarcely necessary to invite to it your particular attention. it is principally as manufactures and commerce tend to increase the value of agricultural productions and to extend their application to the wants and comforts of society that they deserve the fostering care of government.  looking forward to the period, not far distant, when a sinking fund will no longer be required, the duties on those articles of importation which can not come in competition with our own productions are the first that should engage the attention of congress in the modification of the tariff. of these, tea and coffee are the most important. they enter largely into the consumption of the country, and have become articles of necessity to all classes. a reduction, therefore, of the existing duties will be felt as a common benefit, but like all other legislation connected with commerce, to be efficacious and not injurious it should be gradual and certain.  the public prosperity is evinced in the increased revenue arising from the sales of the public lands and in the steady maintenance of that produced by imposts and tonnage, not withstanding the additional duties imposed by the act of may 19th, 1828, and the unusual importations in the early part of that year.  the balance in the treasury on january 1st, 1829 was $5,972,435.81. the receipts of the current year are estimated at $24,602,230 and the expenditures for the same time at $26,164,595, leaving a balance in the treasury on january 1st, 1830 of $4,410,070.81.  there will have been paid on account of the public debt during the present year the sum of $12,405,005.80, reducing the whole debt of the government on january 1st, 1830 to $48,565,406.50, including $7 millions of the 5% stock subscribed to the bank of the united states. the payment on account of public debt made on july 1st, 1829 was $8,715,462.87. it was apprehended that the sudden withdrawal of so large a sum from the banks in which it was deposited, at a time of unusual pressure in the money market, might cause much injury to the interests dependent on bank accommodations. but this evil was wholly averted by an early anticipation of it at the treasury, aided by the judicious arrangements of the officers of the bank of the united states.  this state of the finances exhibits the resources of the nation in an aspect highly flattering to its industry and auspicious of the ability of government in a very short time to extinguish the public debt. when this shall be done our population will be relieved from a considerable portion of its present burthens, and will find not only new motives to patriotic affection, but additional means for the display of individual enterprise. the fiscal power of the states will also be increased, and may be more extensively exerted in favor of education and other public objects, while ample means will remain in the federal government to promote the general weal in all the modes permitted to its authority.  after the extinction of the public debt it is not probable that any adjustment of the tariff upon principles satisfactory to the people of the union will until a remote period, if ever, leave the government without a considerable surplus in the treasury beyond what may be required for its current service. as, then, the period approaches when the application of the revenue to the payment of debt will cease, the disposition of the surplus will present a subject for the serious deliberation of congress; and it may be fortunate for the country that it is yet to be decided.  considered in connection with the difficulties which have heretofore attended appropriations for purposes of internal improvement, and with those which this experience tells us will certainly arise when ever power over such subjects may be exercised by the central government, it is hoped that it may lead to the adoption of some plan which will reconcile the diversified interests of the states and strengthen the bonds which unite them. every member of the union, in peace and in war, will be benefited by the improvement of inland navigation and the construction of high ways in the several states. let us, then, endeavor to attain this benefit in a mode which will be satisfactory to all. that hitherto adopted has by many of our fellow citizens been deprecated as an infraction of the constitution, while by others it has been viewed as inexpedient. all feel that it has been employed at the expense of harmony in the legislative councils.  to avoid these evils it appears to me that the most safe, just, and federal disposition which could be made of the surplus revenue would be its apportionment among the several states according to their ratio of representation, and should this measure not be found warranted by the constitution that it would be expedient to propose to the states an amendment authorizing it. i regard an appeal to the source of power in cases of real doubt, and where its exercise is deemed indispensable to the general welfare, as among the most sacred of all our obligations.  upon this country more than any other has, in the providence of god, been cast the special guardianship of the great principle of adherence to written constitutions. if it fail here, all hope in regard to it will be extinguished.  that this was intended to be a government of limited and specific, and not general, powers must be admitted by all, and it is our duty to preserve for it the character intended by its framers. if experience points out the necessity for an enlargement of these powers, let us apply for it to those for whose benefit it is to be exercised, and not under-mine the whole system by a resort to over-strained constructions. the scheme has worked well. it has exceeded the hopes of those who devised it, and become an object of admiration to the world. we are responsible to our country and to the glorious cause of self-government for the preservation of so great a good.  the great mass of legislation relating to our internal affairs was intended to be left where the federal convention found it--in the state governments. nothing is clearer, in my view, than that we are chiefly indebted for the success of the constitution under which we are now acting to the watchful and auxiliary operation of the state authorities. this is not the reflection of a day, but belongs to the most deeply rooted convictions of my mind. i can not, therefore, too strongly or too earnestly, for my own sense of its importance, warn you against all encroachments upon the legitimate sphere of state sovereignty. sustained by its healthful and invigorating influence the federal system can never fall.  in the collection of the revenue the long credits authorized on goods imported from beyond the cape of good hope are the chief cause of the losses at present sustained. if these were shortened to 6, 9, and 12 months, and ware-houses provided by government sufficient to receive the goods offered in deposit for security and for debenture, and if the right of the united states to a priority of payment out of the estates of its insolvent debtors were more effectually secured, this evil would in a great measure be obviated. an authority to construct such houses is therefore, with the proposed alteration of the credits, recommended to your attention.  it is worthy of notice that the laws for the collection and security of the revenue arising from imposts were chiefly framed when the rates of duties on imported goods presented much less temptation for illicit trade than at present exists. there is reason to believe that these laws are in some respects quite insufficient for the proper security of the revenue and the protection of the interests of those who are disposed to observe them. the injurious and demoralizing tendency of a successful system of smuggling is so obvious as not to require comment, and can not be too carefully guarded against. i therefore suggest to congress the propriety of adopting efficient measures to prevent this evil, avoiding, however, as much as possible, every unnecessary infringement of individual liberty and embarrassment of fair and lawful business.  on an examination of the records of the treasury i have been forcibly struck with the large amount of public money which appears to be outstanding. of the sum thus due from individuals to the government a considerable portion is undoubtedly desperate, and in many instances has probably been rendered so by remissness in the agents charged with its collection. by proper exertions a great part, however, may yet be recovered; and what ever may be the portions respectively belonging to these two classes, it behooves the government to ascertain the real state of the fact. this can be done only by the prompt adoption of judicious measures for the collection of such as may be made available. it is believed that a very large amount has been lost through the inadequacy of the means provided for the collection of debts due to the public, and that this inadequacy lies chiefly in the want of legal skill habitually and constantly employed in the direction of the agents engaged in the service. it must, i think, be admitted that the supervisory power over suits brought by the public, which is now vested in an accounting officer of the treasury, not selected with a view to his legal knowledge, and encumbered as he is with numerous other duties, operates unfavorably to the public interest.  it is important that this branch of the public service should be subjected to the supervision of such professional skill as will give it efficiency. the expense attendant upon such a modification of the executive department would be justified by the soundest principles of economy. i would recommend, therefore, that the duties now assigned to the agent of the treasury, so far as they relate to the superintendence and management of legal proceedings on the part of the united states, be transferred to the attorney general, and that this officer be placed on the same footing in all respects as the heads of the other departments, receiving like compensation and having such subordinate officers provided for his department as may be requisite for the discharge of these additional duties. the professional skill of the attorney general, employed in directing the conduct of marshals and district attorneys, would hasten the collection of debts now in suit and hereafter save much to the government. it might be further extended to the superintendence of all criminal proceedings for offenses against the united states. in making this transfer great care should be taken, however, that the power necessary to the treasury department be not impaired, one of its greatest securities consisting in control over all accounts until they are audited or reported for suit.  in connection with the foregoing views i would suggest also an inquiry whether the provisions of the act of congress authorizing the discharge of the persons of the debtors to the government from imprisonment may not, consistently with the public interest, be extended to the release of the debt where the conduct of the debtor is wholly exempt from the imputation of fraud. some more liberal policy than that which now prevails in reference to this unfortunate class of citizens is certainly due to them, and would prove beneficial to the country. the continuance of the liability after the means to discharge it have been exhausted can only serve to dispirit the debtor; or, where his resources are but partial, the want of power in the government to compromise and release the demand instigates to fraud as the only resource for securing a support to his family. he thus sinks into a state of apathy, and becomes a useless drone in society or a vicious member of it, if not a feeling witness of the rigor and inhumanity of his country. all experience proves that oppressive debt is the bane of enterprise, and it should be the care of a republic not to exert a grinding power over misfortune and poverty.  since the last session of congress numerous frauds on the treasury have been discovered, which i thought it my duty to bring under the cognizance of the united states court for this district by a criminal prosecution. it was my opinion and that of able counsel who were consulted that the cases came within the penalties of the act of the 17th congress approved march 3d, 1823, providing for punishment of frauds committed on the government of the united states. either from some defect in the law or in its administration every effort to bring the accused to trial under its provisions proved ineffectual, and the government was driven to the necessity of resorting to the vague and inadequate provisions of the common law. it is therefore my duty to call your attention to the laws which have been passed for the protection of the treasury. if, indeed, there be no provision by which those who may be unworthily intrusted with its guardianship can be punished for the most flagrant violation of duty, extending even to the most fraudulent appropriation of the public funds to their own use, it is time to remedy so dangerous an omission; or if the law has been perverted from its original purposes, and criminals deserving to be punished under its provisions have been rescued by legal subtleties, it ought to be made so plain by amendatory provisions as to baffle the arts of perversion and accomplish the ends of its original enactment.  in one of the most flagrant causes the court decided that the prosecution was barred by the statute which limits prosecutions for fraud to two years. in this case all the evidences of the fraud, and, indeed, all knowledge that a fraud had been committed, were in possession of the party accused until after the two years had elapsed. surely the statute ought not to run in favor of any man while he retains all the evidences of his crime in his own possession, and least of all in favor of a public officer who continues to defraud the treasury and conceal the transaction for the brief term of two years. i would therefore recommend such an alteration of the law as will give the injured party and the government two years after the disclosure of the fraud or after the accused is out of office to commence their prosecution.  in connection with this subject i invite the attention of congress to a general and minute inquiry into the condition of the government, with a view to ascertain what offices can be dispensed with, what expenses retrenched, and what improvements may be made in the organization of its various parts to secure the proper responsibility of public agents and promote efficiency and justice in all its operations.  the report of the secretary of war will make you acquainted with the condition of our army, fortifications, arsenals, and indian affairs. the proper discipline of the army, the training and equipment of the militia, the education bestowed at west point, and the accumulation of the means of defense applicable to the naval force will tend to prolong the peace we now enjoy, and which every good citizen, more especially those who have felt the miseries of even a successful warfare, must ardently desire to perpetuate.  the returns from the subordinate branches of this service exhibit a regularity and order highly creditable to its character. both officers and soldiers seem imbued with a proper sense of duty, and conform to the restraints of exact discipline with that cheerfulness which becomes the profession of arms. there is need, however, of further legislation to obviate the inconveniences specified in the report under consideration, to some of which it is proper that i should call your particular attention.  the act of congress of march 2d, 1821, to reduce and fix the military establishment, remaining unexecuted as it regards the command of one of the regiments of artillery, can not now be deemed a guide to the executive in making the proper appointment. an explanatory act, designating the class of officers out of which the grade is to be filled--whether from the military list as existing prior to the act of 1821 or from it as it has been fixed by that act--would remove this difficulty. it is also important that the laws regulating the pay and emoluments of officers generally should be more specific than they now are. those, for example, in relation to the pay master and surgeon general assign to them an annual salary of $2.500, but are silent as to allowances which in certain exigencies of the service may be deemed indispensable to the discharge of their duties. this circumstance has been the authority for extending to them various allowances at different times under former administrations, but no uniform rule has been observed on the subject. similar inconveniences exist in other cases, in which the construction put upon the laws by the public accountants may operate unequally, produce confusion, and expose officers to the odium of claiming what is not their due.  i recommend to your fostering care, as one of our safest means of national defense, the military academy. this institution has already exercised the happiest influence upon the moral and intellectual character of our army; and such of the graduates as from various causes may not pursue the profession of arms will be scarcely less useful as citizens. their knowledge of the military art will be advantageously employed in the militia service, and in a measure secure to that class of troops the advantages which in this respect belong to standing armies.  i would also suggest a review of the pension law, for the purpose of extending its benefits to every revolutionary soldier who aided in establishing our liberties, and who is unable to maintain himself in comfort. these relics of the war of independence have strong claims upon their country\\'s gratitude and bounty. the law is defective in not embracing within its provisions all those who were during the last war disabled from supporting themselves by manual labor. such an amendment would add but little to the amount of pensions, and is called for by the sympathies of the people as well as by considerations of sound policy.  it will be perceived that a large addition to the list of pensioners has been occasioned by an order of the late administration, departing materially from the rules which had previously prevailed. considering it an act of legislation, i suspended its operation as soon as i was informed that it had commenced. before this period, however, applications under the new regulation had been preferred to the number of 154, of which, on march 27, the date of its revocation, 87 were admitted. for the amount there was neither estimate nor appropriation; and besides this deficiency, the regular allowances, according to the rules which have heretofore governed the department, exceed the estimate of its late secretary by about $50,000, for which an appropriation is asked.  your particular attention is requested to that part of the report of the secretary of war which relates to the money held in trust for the seneca tribe of indians. it will be perceived that without legislative aid the executive can not obviate the embarrassments occasioned by the diminution of the dividends on that fund, which originally amounted to $100,000, and has recently been invested in united states 3% stock.  the condition and ulterior destiny of the indian tribes within the limits of some of our states have become objects of much interest and importance. it has long been the policy of government to introduce among them the arts of civilization, in the hope of gradually reclaiming them from a wandering life. this policy has, however, been coupled with another wholly incompatible with its success. professing a desire to civilize and settle them, we have at the same time lost no opportunity to purchase their lands and thrust them farther into the wilderness. by this means they have not only been kept in a wandering state, but been led to look upon us as unjust and indifferent to their fate. thus, though lavish in its expenditures upon the subject, government has constantly defeated its own policy, and the indians in general, receding farther and farther to the west, have retained their savage habits. a portion, however, of the southern tribes, having mingled much with the whites and made some progress in the arts of civilized life, have lately attempted to erect an independent government within the limits of georgia and alabama. these states, claiming to be the only sovereigns within their territories, extended their laws over the indians, which induced the latter to call upon the united states for protection.  under these circumstances the question presented was whether the general government had a right to sustain those people in their pretensions. the constitution declares that \"no new state shall be formed or erected within the jurisdiction of any other state\" without the consent of its legislature. if the general government is not permitted to tolerate the erection of a confederate state within the territory of one of the members of this union against her consent, much less could it allow a foreign and independent government to establish itself there.  georgia became a member of the confederacy which eventuated in our federal union as a sovereign state, always asserting her claim to certain limits, which, having been originally defined in her colonial charter and subsequently recognized in the treaty of peace, she has ever since continued to enjoy, except as they have been circumscribed by her own voluntary transfer of a portion of her territory to the united states in the articles of cession of 1802. alabama was admitted into the union on the same footing with the original states, with boundaries which were prescribed by congress.  there is no constitutional, conventional, or legal provision which allows them less power over the indians within their borders than is possessed by maine or new york. would the people of maine permit the penobscot tribe to erect an independent government within their state? and unless they did would it not be the duty of the general government to support them in resisting such a measure? would the people of new york permit each remnant of the six nations within her borders to declare itself an independent people under the protection of the united states? could the indians establish a separate republic on each of their reservations in ohio? and if they were so disposed would it be the duty of this government to protect them in the attempt? if the principle involved in the obvious answer to these questions be abandoned, it will follow that the objects of this government are reversed, and that it has become a part of its duty to aid in destroying the states which it was established to protect.  actuated by this view of the subject, i informed the indians inhabiting parts of georgia and alabama that their attempt to establish an independent government would not be countenanced by the executive of the united states, and advised them to emigrate beyond the mississippi or submit to the laws of those states.  our conduct toward these people is deeply interesting to our national character. their present condition, contrasted with what they once were, makes a most powerful appeal to our sympathies. our ancestors found them the uncontrolled possessors of these vast regions. by persuasion and force they have been made to retire from river to river and from mountain to mountain, until some of the tribes have become extinct and others have left but remnants to preserve for a while their once terrible names. surrounded by the whites with their arts of civilization, which by destroying the resources of the savage doom him to weakness and decay, the fate of the mohegan, the narragansett, and the delaware is fast over-taking the choctaw, the cherokee, and the creek. that this fate surely awaits them if they remain within the limits of the states does not admit of a doubt. humanity and national honor demand that every effort should be made to avert so great a calamity. it is too late to inquire whether it was just in the united states to include them and their territory within the bounds of new states, whose limits they could control. that step can not be retraced. a state can not be dismembered by congress or restricted in the exercise of her constitutional power. but the people of those states and of every state, actuated by feelings of justice and a regard for our national honor, submit to you the interesting question whether something can not be done, consistently with the rights of the states, to preserve this much-injured race.  as a means of effecting this end i suggest for your consideration the propriety of setting apart an ample district west of the mississippi, and without the limits of any state or territory now formed, to be guaranteed to the indian tribes as long as they shall occupy it, each tribe having a distinct control over the portion designated for its use. there they may be secured in the enjoyment of governments of their own choice, subject to no other control from the united states than such as may be necessary to preserve peace on the frontier and between the several tribes. there the benevolent may endeavor to teach them the arts of civilization, and, by promoting union and harmony among them, to raise up an interesting commonwealth, destined to perpetuate the race and to attest the humanity and justice of this government.  this emigration should be voluntary, for it would be as cruel as unjust to compel the aborigines to abandon the graves of their fathers and seek a home in a distant land. but they should be distinctly informed that if they remain within the limits of the states they must be subject to their laws. in return for their obedience as individuals they will without doubt be protected in the enjoyment of those possessions which they have improved by their industry. but it seems to me visionary to suppose that in this state of things claims can be allowed on tracts of country on which they have neither dwelt nor made improvements, merely because they have seen them from the mountain or passed them in the chase. submitting to the laws of the states, and receiving, like other citizens, protection in their persons and property, they will ere long become merged in the mass of our population.  the accompanying report of the secretary of the navy will make you acquainted with the condition and useful employment of that branch of our service during the present year. constituting as it does the best standing security of this country against foreign aggression, it claims the especial attention of government. in this spirit the measures which since the termination of the last war have been in operation for its gradual enlargement were adopted, and it should continue to be cherished as the off-spring of our national experience. it will be seen, however, that not withstanding the great solicitude which has been manifested for the perfect organization of this arm and the liberality of the appropriations which that solicitude has suggested, this object has in many important respects not been secured.  in time of peace we have need of no more ships of war than are requisite to the protection of our commerce. those not wanted for this object must lay in the harbors, where without proper covering they rapidly decay, and even under the best precautions for their preservation must soon become useless. such is already the case with many of our finest vessels, which, though unfinished, will now require immense sums of money to be restored to the condition in which they were when committed to their proper element.  on this subject there can be but little doubt that our best policy would be to discontinue the building of ships of the first and second class, and look rather to the possession of ample materials, prepared for the emergencies of war, than to the number of vessels which we can float in a season of peace, as the index of our naval power. judicious deposits in navy yards of timber and other materials, fashioned under the hands of skillful work-men and fitted for prompt application to their various purposes, would enable us at all times to construct vessels as fast as they can be manned, and save the heavy expense of repairs, except to such vessels as must be employed in guarding our commerce.  the proper points for the establishment of these yards are indicated with so much force in the report of the navy board that in recommending it to your attention i deem it unnecessary to do more than express my hearty concurrence in their views. the yard in this district, being already furnished with most of the machinery necessary for ship building, will be competent to the supply of the two selected by the board as the best for the concentration of materials, and, from the facility and certainty of communication between them, it will be useless to incur at those depots the expense of similar machinery, especially that used in preparing the usual metallic and wooden furniture of vessels.  another improvement would be effected by dispensing altogether with the navy board as now constituted, and substituting in its stead bureaux similar to those already existing in the war department. each member of the board, transferred to the head of a separate bureau charged with specific duties, would feel in its highest degree that wholesome responsibility which can not be divided without a far more than proportionate diminution of its force. their valuable services would become still more so when separately appropriated to distinct portions of the great interests of the navy, to the prosperity of which each would be impelled to devote himself by the strongest motives. under such an arrangement every branch of this important service would assume a more simple and precise character, its efficiency would be increased, and scrupulous economy in the expenditure of public money promoted.  i would also recommend that the marine corps be merged in the artillery or infantry, as the best mode of curing the many defects in its organization. but little exceeding in number any of the regiments of infantry, that corps has, besides its lieutenant-colonel commandant, five brevet lieutenant-colonels, who receive the full pay and emoluments of their brevet rank, without rendering proportionate service. details for marine service could as well be made from the artillery or infantry, there being no peculiar training requisite for it.  with these improvements, and such others as zealous watchfulness and mature consideration may suggest, there can be little doubt that under an energetic administration of its affairs the navy may soon be made every thing that the nation wishes it to be. its efficiency in the suppression of piracy in the west india seas, and wherever its squadrons have been employed in securing the interests of the country, will appear from the report of the secretary, to which i refer you for other interesting details. among these i would bespeak the attention of congress for the views presented in relation to the inequality between the army and navy as to the pay of officers. no such inequality should prevail between these brave defenders of their country, and where it does exist it is submitted to congress whether it ought not to be rectified.  the report of the post master general is referred to as exhibiting a highly satisfactory administration of that department. abuses have been reformed, increased expedition in the transportation of the mail secured, and its revenue much improved. in a political point of view this department is chiefly important as affording the means of diffusing knowledge. it is to the body politic what the veins and arteries are to the natural--conveying rapidly and regularly to the remotest parts of the system correct information of the operations of the government, and bringing back to it the wishes and feelings of the people. through its agency we have secured to ourselves the full enjoyment of the blessings of a free press.  in this general survey of our affairs a subject of high importance presents itself in the present organization of the judiciary. an uniform operation of the federal government in the different states is certainly desirable, and existing as they do in the union on the basis of perfect equality, each state has a right to expect that the benefits conferred on the citizens of others should be extended to hers. the judicial system of the united states exists in all its efficiency in only fifteen members of the union; to three others the circuit courts, which constitute an important part of that system, have been imperfectly extended, and to the remaining six altogether denied. the effect has been to withhold from the inhabitants of the latter the advantages afforded (by the supreme court) to their fellow citizens in other states in the whole extent of the criminal and much of the civil authority of the federal judiciary. that this state of things ought to be remedied, if it can be done consistently with the public welfare, is not to be doubted. neither is it to be disguised that the organization of our judicial system is at once a difficult and delicate task. to extend the circuit courts equally throughout the different parts of the union, and at the same time to avoid such a multiplication of members as would encumber the supreme appellate tribunal, is the object desired. perhaps it might be accomplished by dividing the circuit judges into two classes, and providing that the supreme court should be held by these classes alternately, the chief justice always presiding.  if an extension of the circuit court system to those states which do not now enjoy its benefits should be determined upon, it would of course be necessary to revise the present arrangement of the circuits; and even if that system should not be enlarged, such a revision is recommended.  a provision for taking the census of the people of the united states will, to insure the completion of that work within a convenient time, claim the early attention of congress.  the great and constant increase of business in the department of state forced itself at an early period upon the attention of the executive. thirteen years ago it was, in mr. madison\\'s last message to congress, made the subject of an earnest recommendation, which has been repeated by both of his successors; and my comparatively limited experience has satisfied me of its justness. it has arisen from many causes, not the least of which is the large addition that has been made to the family of independent nations and the proportionate extension of our foreign relations. the remedy proposed was the establishment of a home department--a measure which does not appear to have met the views of congress on account of its supposed tendency to increase, gradually and imperceptibly, the already too strong bias of the federal system toward the exercise of authority not delegated to it. i am not, therefore, disposed to revive the recommendation, but am not the less impressed with the importance of so organizing that department that its secretary may devote more of his time to our foreign relations. clearly satisfied that the public good would be promoted by some suitable provision on the subject, i respectfully invite your attention to it.  the charter of the bank of the united states expires in 1836, and its stock holders will most probably apply for a renewal of their privileges. in order to avoid the evils resulting from precipitancy in a measure involving such important principles and such deep pecuniary interests, i feel that i can not, in justice to the parties interested, too soon present it to the deliberate consideration of the legislature and the people. both the constitutionality and the expediency of the law creating this bank are well questioned by a large portion of our fellow citizens, and it must be admitted by all that it has failed in the great end of establishing an uniform and sound currency.  under these circumstances, if such an institution is deemed essential to the fiscal operations of the government, i submit to the wisdom of the legislature whether a national one, founded upon the credit of the government and its revenues, might not be devised which would avoid all constitutional difficulties and at the same time secure all the advantages to the government and country that were expected to result from the present bank.  i can not close this communication without bringing to your view the just claim of the representatives of commodore decatur, his officers and crew, arising from the recapture of the frigate philadelphia under the heavy batteries of tripoli. although sensible, as a general rule, of the impropriety of executive interference under a government like ours, where every individual enjoys the right of directly petitioning congress, yet, viewing this case as one of very peculiar character, i deem it my duty to recommend it to your favorable consideration. besides the justice of this claim, as corresponding to those which have been since recognized and satisfied, it is the fruit of a deed of patriotic and chivalrous daring which infused life and confidence into our infant navy and contributed as much as any exploit in its history to elevate our national character. public gratitude, therefore, stamps her seal upon it, and the meed should not be withheld which may here after operate as a stimulus to our gallant tars.  i now commend you, fellow citizens, to the guidance of almighty god, with a full reliance on his merciful providence for the maintenance of our free institutions, and with an earnest supplication that what ever errors it may be my lot to commit in discharging the arduous duties which have devolved on me will find a remedy in the harmony and wisdom of your counsels.'"
      ]
     },
     "execution_count": 18,
     "metadata": {},
     "output_type": "execute_result"
    }
   ],
   "source": [
    "df.iloc[0,2]"
   ]
  },
  {
   "cell_type": "code",
   "execution_count": 28,
   "metadata": {
    "ExecuteTime": {
     "end_time": "2019-06-23T16:24:35.178231Z",
     "start_time": "2019-06-23T16:24:35.174173Z"
    }
   },
   "outputs": [
    {
     "data": {
      "text/plain": [
       "'the task devolves on me, under a provision of the constitution, to present to you, as the federal legislature of 24 sovereign states and 12,000,000 happy people, a view of our affairs, and to propose such measures as in the discharge of my official functions have suggested themselves as necessary to promote the objects of our union.'"
      ]
     },
     "execution_count": 28,
     "metadata": {},
     "output_type": "execute_result"
    }
   ],
   "source": [
    "sentences[0][0]"
   ]
  },
  {
   "cell_type": "code",
   "execution_count": 21,
   "metadata": {
    "ExecuteTime": {
     "end_time": "2019-06-23T16:21:12.520732Z",
     "start_time": "2019-06-23T16:21:12.516229Z"
    }
   },
   "outputs": [
    {
     "data": {
      "text/plain": [
       "'thetaskdevolvesonmeunderaprovisionoftheconstitutiontopresenttoyouasthefederallegislatureof24sovereignstatesand12000000happypeopleaviewofouraffairsandtoproposesuchmeasuresasinthedischargeofmyofficialfunctionshavesuggestedthemselvesasnecessarytopromotetheobjectsofourunion'"
      ]
     },
     "execution_count": 21,
     "metadata": {},
     "output_type": "execute_result"
    }
   ],
   "source": [
    "re.sub('[^A-Za-z0-9]+', '', sentences[0][0])"
   ]
  },
  {
   "cell_type": "code",
   "execution_count": 26,
   "metadata": {
    "ExecuteTime": {
     "end_time": "2019-06-23T16:23:43.134865Z",
     "start_time": "2019-06-23T16:23:43.131663Z"
    }
   },
   "outputs": [],
   "source": [
    "def cleanString(strval):\n",
    "    return \"\".join(\" \" if i in punctuation else i for i in strval.strip(punctuation))"
   ]
  },
  {
   "cell_type": "code",
   "execution_count": 27,
   "metadata": {
    "ExecuteTime": {
     "end_time": "2019-06-23T16:23:44.922027Z",
     "start_time": "2019-06-23T16:23:44.917744Z"
    }
   },
   "outputs": [
    {
     "data": {
      "text/plain": [
       "'the task devolves on me  under a provision of the constitution  to present to you  as the federal legislature of 24 sovereign states and 12 000 000 happy people  a view of our affairs  and to propose such measures as in the discharge of my official functions have suggested themselves as necessary to promote the objects of our union'"
      ]
     },
     "execution_count": 27,
     "metadata": {},
     "output_type": "execute_result"
    }
   ],
   "source": [
    "cleanString(sentences[0][0])"
   ]
  },
  {
   "cell_type": "markdown",
   "metadata": {},
   "source": [
    "## Tokenize  \n",
    "\n",
    "We will begin by splitting our text (single SOTU transcript) into it's constituent sentences, and then split each sentence into words, only keeping alphanumeric characters, tag each word with it's part of speech, and then lemmatize each word (Word net lemmatizer).  "
   ]
  },
  {
   "cell_type": "code",
   "execution_count": 6,
   "metadata": {
    "ExecuteTime": {
     "end_time": "2019-06-23T16:08:55.037332Z",
     "start_time": "2019-06-23T16:08:51.059052Z"
    }
   },
   "outputs": [],
   "source": [
    "from nltk import sent_tokenize\n",
    "sentences = [sent_tokenize(text) for text in df.text]\n",
    "\n",
    "# remove the first and last sentences (meaningless intro/closing statements)\n",
    "for i in range(len(sentences)):\n",
    "    del sentences[i][0]\n",
    "    del sentences[i][-1]  \n",
    "    \n",
    "sentence_lengths = [len(sent) for sent in sentences]\n",
    "df['sentences'] = sentences\n",
    "df['sentence_length'] = [len(sent) for sent in sentences]"
   ]
  },
  {
   "cell_type": "code",
   "execution_count": 7,
   "metadata": {
    "ExecuteTime": {
     "end_time": "2019-06-23T16:08:59.036029Z",
     "start_time": "2019-06-23T16:08:58.112090Z"
    }
   },
   "outputs": [
    {
     "name": "stderr",
     "output_type": "stream",
     "text": [
      "[nltk_data] Downloading package stopwords to\n",
      "[nltk_data]     /Users/mitchellmurphy/nltk_data...\n",
      "[nltk_data]   Package stopwords is already up-to-date!\n"
     ]
    }
   ],
   "source": [
    "from nltk import word_tokenize, sent_tokenize\n",
    "import nltk\n",
    "nltk.download('stopwords')\n",
    "from nltk.corpus import stopwords \n",
    "stop_words = stopwords.words('english')\n",
    "from nltk import pos_tag\n",
    "from nltk.stem import WordNetLemmatizer\n",
    "from nltk.stem import PorterStemmer\n",
    "import re"
   ]
  },
  {
   "cell_type": "code",
   "execution_count": 74,
   "metadata": {
    "ExecuteTime": {
     "end_time": "2019-06-23T16:57:39.175211Z",
     "start_time": "2019-06-23T16:57:39.170645Z"
    }
   },
   "outputs": [],
   "source": [
    "def tokenize(sentence):\n",
    "    words = [word for word in sentence.split(' ')] # if word not in STOPWORDS]\n",
    "    _s = ' '.join(words)\n",
    "    _s = re.sub('[\\.,\\?\\!]','',_s)\n",
    "    _s = re.sub('\\d+', '_NUMBER',_s)\n",
    "    return _s"
   ]
  },
  {
   "cell_type": "code",
   "execution_count": 49,
   "metadata": {
    "ExecuteTime": {
     "end_time": "2019-06-23T16:36:22.062006Z",
     "start_time": "2019-06-23T16:36:22.054218Z"
    }
   },
   "outputs": [],
   "source": [
    "porter = PorterStemmer()\n",
    "wnl = WordNetLemmatizer()\n",
    "\n",
    "def penn2morphy(penntag):\n",
    "    \"\"\" Converts Penn Treebank tags to WordNet. \"\"\"\n",
    "    morphy_tag = {'NN':'n', 'JJ':'a',\n",
    "                  'VB':'v', 'RB':'r'}\n",
    "    try:\n",
    "        return morphy_tag[penntag[:2]]\n",
    "    except:\n",
    "        return 'n' \n",
    "\n",
    "def lemmatize_sent(text): \n",
    "    # Text input is string, returns lowercased strings.\n",
    "    return [wnl.lemmatize(word.lower(), pos=penn2morphy(tag)) \n",
    "            for word, tag in pos_tag(word_tokenize(text))]\n",
    "\n",
    "def clean_text(text):\n",
    "    text = text.lower().replace(',','')\n",
    "    tokenized_text = word_tokenize(text)\n",
    "    cleaned_text = [t for t in tokenized_text if t not in stop_words] # and re.match('[a-zA-Z\\-][a-zA-Z\\-]{2,}', t)\n",
    "    _l = lemmatize_sent(' '.join(cleaned_text))\n",
    "    # replace numbers with _NUMBER\n",
    "    _l = re.sub('\\d+', '_NUMBER',' '.join(_l))\n",
    "    # strip punctuation\n",
    "    _l = re.sub('[\\.,\\?\\!]','',_l)\n",
    "    return _l"
   ]
  },
  {
   "cell_type": "code",
   "execution_count": 75,
   "metadata": {
    "ExecuteTime": {
     "end_time": "2019-06-23T16:57:43.731256Z",
     "start_time": "2019-06-23T16:57:42.944628Z"
    }
   },
   "outputs": [],
   "source": [
    "sentences_all = []\n",
    "for sentence in sentences:\n",
    "    for _s in sentence:\n",
    "        sentences_all.append(tokenize(_s))"
   ]
  },
  {
   "cell_type": "markdown",
   "metadata": {},
   "source": [
    "Now that we have preprocessed our text, lets create target labels, merge them into a dataframe and save it for downstream analysis."
   ]
  },
  {
   "cell_type": "code",
   "execution_count": 76,
   "metadata": {
    "ExecuteTime": {
     "end_time": "2019-06-23T16:57:52.326132Z",
     "start_time": "2019-06-23T16:57:52.296251Z"
    }
   },
   "outputs": [
    {
     "data": {
      "text/html": [
       "<div>\n",
       "<style scoped>\n",
       "    .dataframe tbody tr th:only-of-type {\n",
       "        vertical-align: middle;\n",
       "    }\n",
       "\n",
       "    .dataframe tbody tr th {\n",
       "        vertical-align: top;\n",
       "    }\n",
       "\n",
       "    .dataframe thead th {\n",
       "        text-align: right;\n",
       "    }\n",
       "</style>\n",
       "<table border=\"1\" class=\"dataframe\">\n",
       "  <thead>\n",
       "    <tr style=\"text-align: right;\">\n",
       "      <th></th>\n",
       "      <th>label</th>\n",
       "      <th>text</th>\n",
       "    </tr>\n",
       "  </thead>\n",
       "  <tbody>\n",
       "    <tr>\n",
       "      <th>0</th>\n",
       "      <td>0</td>\n",
       "      <td>the task devolves on me under a provision of t...</td>\n",
       "    </tr>\n",
       "    <tr>\n",
       "      <th>1</th>\n",
       "      <td>0</td>\n",
       "      <td>in communicating with you for the first time i...</td>\n",
       "    </tr>\n",
       "    <tr>\n",
       "      <th>2</th>\n",
       "      <td>0</td>\n",
       "      <td>turning our eyes to other nations our great de...</td>\n",
       "    </tr>\n",
       "    <tr>\n",
       "      <th>3</th>\n",
       "      <td>0</td>\n",
       "      <td>our foreign relations although in their genera...</td>\n",
       "    </tr>\n",
       "    <tr>\n",
       "      <th>4</th>\n",
       "      <td>0</td>\n",
       "      <td>to effect an adjustment of these shall continu...</td>\n",
       "    </tr>\n",
       "  </tbody>\n",
       "</table>\n",
       "</div>"
      ],
      "text/plain": [
       "   label                                               text\n",
       "0      0  the task devolves on me under a provision of t...\n",
       "1      0  in communicating with you for the first time i...\n",
       "2      0  turning our eyes to other nations our great de...\n",
       "3      0  our foreign relations although in their genera...\n",
       "4      0  to effect an adjustment of these shall continu..."
      ]
     },
     "execution_count": 76,
     "metadata": {},
     "output_type": "execute_result"
    }
   ],
   "source": [
    "# we will use Democratic as the positive class\n",
    "df['party_num'] = (df.party == 'Democratic').astype(int)\n",
    "\n",
    "target = []\n",
    "\n",
    "for i in range(df.shape[0]):\n",
    "    target.append((np.ones((df.iloc[i,4],)) * int(df.iloc[i,1] == 'Republican')))\n",
    "    \n",
    "target = np.concatenate(target, axis=0)\n",
    "\n",
    "df_processed = pd.DataFrame({'label': target, 'text': sentences_all})\n",
    "df_processed.label = df_processed.label.astype(int)\n",
    "df_processed.head()"
   ]
  },
  {
   "cell_type": "code",
   "execution_count": 77,
   "metadata": {
    "ExecuteTime": {
     "end_time": "2019-06-23T16:58:12.127011Z",
     "start_time": "2019-06-23T16:58:11.748459Z"
    }
   },
   "outputs": [],
   "source": [
    "df_processed.to_csv('sotu_with_stop_words_tokenized.csv', index=False)"
   ]
  },
  {
   "cell_type": "code",
   "execution_count": null,
   "metadata": {},
   "outputs": [],
   "source": []
  }
 ],
 "metadata": {
  "kernelspec": {
   "display_name": "Python 3",
   "language": "python",
   "name": "python3"
  },
  "language_info": {
   "codemirror_mode": {
    "name": "ipython",
    "version": 3
   },
   "file_extension": ".py",
   "mimetype": "text/x-python",
   "name": "python",
   "nbconvert_exporter": "python",
   "pygments_lexer": "ipython3",
   "version": "3.6.8"
  },
  "latex_envs": {
   "LaTeX_envs_menu_present": true,
   "autoclose": false,
   "autocomplete": true,
   "bibliofile": "biblio.bib",
   "cite_by": "apalike",
   "current_citInitial": 1,
   "eqLabelWithNumbers": true,
   "eqNumInitial": 1,
   "hotkeys": {
    "equation": "Ctrl-E",
    "itemize": "Ctrl-I"
   },
   "labels_anchors": false,
   "latex_user_defs": false,
   "report_style_numbering": false,
   "user_envs_cfg": false
  },
  "toc": {
   "base_numbering": 1,
   "nav_menu": {},
   "number_sections": true,
   "sideBar": true,
   "skip_h1_title": false,
   "title_cell": "Table of Contents",
   "title_sidebar": "Contents",
   "toc_cell": false,
   "toc_position": {},
   "toc_section_display": true,
   "toc_window_display": false
  },
  "varInspector": {
   "cols": {
    "lenName": 16,
    "lenType": 16,
    "lenVar": 40
   },
   "kernels_config": {
    "python": {
     "delete_cmd_postfix": "",
     "delete_cmd_prefix": "del ",
     "library": "var_list.py",
     "varRefreshCmd": "print(var_dic_list())"
    },
    "r": {
     "delete_cmd_postfix": ") ",
     "delete_cmd_prefix": "rm(",
     "library": "var_list.r",
     "varRefreshCmd": "cat(var_dic_list()) "
    }
   },
   "types_to_exclude": [
    "module",
    "function",
    "builtin_function_or_method",
    "instance",
    "_Feature"
   ],
   "window_display": false
  }
 },
 "nbformat": 4,
 "nbformat_minor": 2
}
