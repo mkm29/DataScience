{
 "cells": [
  {
   "cell_type": "code",
   "execution_count": 83,
   "metadata": {
    "ExecuteTime": {
     "end_time": "2019-01-22T02:25:04.416977Z",
     "start_time": "2019-01-22T02:25:04.406598Z"
    }
   },
   "outputs": [],
   "source": [
    "import pandas as pd\n",
    "import numpy as np\n",
    "import matplotlib.pyplot as plt\n",
    "import seaborn as sns\n",
    "from sklearn.preprocessing import normalize\n",
    "from sklearn.decomposition import PCA\n",
    "from sklearn.cluster import KMeans\n",
    "from sklearn import metrics\n",
    "import sklearn.metrics\n",
    "from sklearn.model_selection import train_test_split\n",
    "from sklearn.cluster import MeanShift, estimate_bandwidth\n",
    "from sklearn.cluster import MiniBatchKMeans\n",
    "from sklearn.cluster import SpectralClustering\n",
    "from sklearn.cluster import AffinityPropagation\n",
    "import seaborn as sns\n",
    "sns.set_style('white')\n",
    "import math\n",
    "from itertools import cycle\n",
    "\n",
    "import plotly\n",
    "import plotly.figure_factory as ff\n",
    "\n",
    "%matplotlib inline\n",
    "\n",
    "import warnings\n",
    "warnings.filterwarnings('ignore')\n",
    "\n",
    "seed = 0"
   ]
  },
  {
   "cell_type": "markdown",
   "metadata": {},
   "source": [
    "# Data"
   ]
  },
  {
   "cell_type": "code",
   "execution_count": 2,
   "metadata": {
    "ExecuteTime": {
     "end_time": "2019-01-22T01:56:02.159195Z",
     "start_time": "2019-01-22T01:55:58.465382Z"
    }
   },
   "outputs": [
    {
     "data": {
      "text/html": [
       "<div>\n",
       "<style scoped>\n",
       "    .dataframe tbody tr th:only-of-type {\n",
       "        vertical-align: middle;\n",
       "    }\n",
       "\n",
       "    .dataframe tbody tr th {\n",
       "        vertical-align: top;\n",
       "    }\n",
       "\n",
       "    .dataframe thead th {\n",
       "        text-align: right;\n",
       "    }\n",
       "</style>\n",
       "<table border=\"1\" class=\"dataframe\">\n",
       "  <thead>\n",
       "    <tr style=\"text-align: right;\">\n",
       "      <th></th>\n",
       "      <th>10k</th>\n",
       "      <th>name</th>\n",
       "      <th>division</th>\n",
       "      <th>25k</th>\n",
       "      <th>gender</th>\n",
       "      <th>age</th>\n",
       "      <th>official</th>\n",
       "      <th>bib</th>\n",
       "      <th>genderdiv</th>\n",
       "      <th>ctz</th>\n",
       "      <th>...</th>\n",
       "      <th>overall</th>\n",
       "      <th>pace</th>\n",
       "      <th>state</th>\n",
       "      <th>30k</th>\n",
       "      <th>5k</th>\n",
       "      <th>half</th>\n",
       "      <th>20k</th>\n",
       "      <th>country</th>\n",
       "      <th>city</th>\n",
       "      <th>40k</th>\n",
       "    </tr>\n",
       "  </thead>\n",
       "  <tbody>\n",
       "    <tr>\n",
       "      <th>11753</th>\n",
       "      <td>47.67</td>\n",
       "      <td>McDonough, Kevin</td>\n",
       "      <td>941</td>\n",
       "      <td>118.80</td>\n",
       "      <td>1</td>\n",
       "      <td>51</td>\n",
       "      <td>212.90</td>\n",
       "      <td>13461</td>\n",
       "      <td>7684</td>\n",
       "      <td>NaN</td>\n",
       "      <td>...</td>\n",
       "      <td>10194</td>\n",
       "      <td>8.13</td>\n",
       "      <td>ME</td>\n",
       "      <td>143.53</td>\n",
       "      <td>23.97</td>\n",
       "      <td>100.18</td>\n",
       "      <td>95.02</td>\n",
       "      <td>USA</td>\n",
       "      <td>South Portland</td>\n",
       "      <td>200.02</td>\n",
       "    </tr>\n",
       "    <tr>\n",
       "      <th>27035</th>\n",
       "      <td>60.97</td>\n",
       "      <td>Bernard, Kate O.</td>\n",
       "      <td>5093</td>\n",
       "      <td>156.38</td>\n",
       "      <td>0</td>\n",
       "      <td>31</td>\n",
       "      <td>277.80</td>\n",
       "      <td>30473</td>\n",
       "      <td>10468</td>\n",
       "      <td>NaN</td>\n",
       "      <td>...</td>\n",
       "      <td>24519</td>\n",
       "      <td>10.60</td>\n",
       "      <td>MA</td>\n",
       "      <td>191.05</td>\n",
       "      <td>30.60</td>\n",
       "      <td>131.32</td>\n",
       "      <td>124.52</td>\n",
       "      <td>USA</td>\n",
       "      <td>Marshfield</td>\n",
       "      <td>261.45</td>\n",
       "    </tr>\n",
       "    <tr>\n",
       "      <th>13623</th>\n",
       "      <td>47.27</td>\n",
       "      <td>Callahan, Kevin M.</td>\n",
       "      <td>670</td>\n",
       "      <td>125.27</td>\n",
       "      <td>1</td>\n",
       "      <td>57</td>\n",
       "      <td>224.35</td>\n",
       "      <td>15580</td>\n",
       "      <td>9303</td>\n",
       "      <td>NaN</td>\n",
       "      <td>...</td>\n",
       "      <td>13713</td>\n",
       "      <td>8.57</td>\n",
       "      <td>RI</td>\n",
       "      <td>152.95</td>\n",
       "      <td>23.28</td>\n",
       "      <td>104.57</td>\n",
       "      <td>98.97</td>\n",
       "      <td>USA</td>\n",
       "      <td>Portsmouth</td>\n",
       "      <td>211.12</td>\n",
       "    </tr>\n",
       "    <tr>\n",
       "      <th>15176</th>\n",
       "      <td>48.50</td>\n",
       "      <td>Box, Lesleigh</td>\n",
       "      <td>2145</td>\n",
       "      <td>121.55</td>\n",
       "      <td>0</td>\n",
       "      <td>37</td>\n",
       "      <td>216.00</td>\n",
       "      <td>17352</td>\n",
       "      <td>2993</td>\n",
       "      <td>NaN</td>\n",
       "      <td>...</td>\n",
       "      <td>11133</td>\n",
       "      <td>8.25</td>\n",
       "      <td>ID</td>\n",
       "      <td>147.37</td>\n",
       "      <td>24.25</td>\n",
       "      <td>102.30</td>\n",
       "      <td>97.02</td>\n",
       "      <td>USA</td>\n",
       "      <td>Boise</td>\n",
       "      <td>203.95</td>\n",
       "    </tr>\n",
       "    <tr>\n",
       "      <th>11198</th>\n",
       "      <td>46.15</td>\n",
       "      <td>Jacobs, Mark A</td>\n",
       "      <td>99</td>\n",
       "      <td>114.00</td>\n",
       "      <td>1</td>\n",
       "      <td>55</td>\n",
       "      <td>196.45</td>\n",
       "      <td>12837</td>\n",
       "      <td>4901</td>\n",
       "      <td>NaN</td>\n",
       "      <td>...</td>\n",
       "      <td>5576</td>\n",
       "      <td>7.50</td>\n",
       "      <td>CO</td>\n",
       "      <td>137.62</td>\n",
       "      <td>23.48</td>\n",
       "      <td>96.32</td>\n",
       "      <td>91.42</td>\n",
       "      <td>USA</td>\n",
       "      <td>Greenwood Village</td>\n",
       "      <td>186.17</td>\n",
       "    </tr>\n",
       "  </tbody>\n",
       "</table>\n",
       "<p>5 rows × 21 columns</p>\n",
       "</div>"
      ],
      "text/plain": [
       "         10k                name  division     25k  gender  age  official  \\\n",
       "11753  47.67    McDonough, Kevin       941  118.80       1   51    212.90   \n",
       "27035  60.97    Bernard, Kate O.      5093  156.38       0   31    277.80   \n",
       "13623  47.27  Callahan, Kevin M.       670  125.27       1   57    224.35   \n",
       "15176  48.50       Box, Lesleigh      2145  121.55       0   37    216.00   \n",
       "11198  46.15      Jacobs, Mark A        99  114.00       1   55    196.45   \n",
       "\n",
       "         bib  genderdiv  ctz   ...    overall   pace  state     30k     5k  \\\n",
       "11753  13461       7684  NaN   ...      10194   8.13     ME  143.53  23.97   \n",
       "27035  30473      10468  NaN   ...      24519  10.60     MA  191.05  30.60   \n",
       "13623  15580       9303  NaN   ...      13713   8.57     RI  152.95  23.28   \n",
       "15176  17352       2993  NaN   ...      11133   8.25     ID  147.37  24.25   \n",
       "11198  12837       4901  NaN   ...       5576   7.50     CO  137.62  23.48   \n",
       "\n",
       "         half     20k  country               city     40k  \n",
       "11753  100.18   95.02      USA     South Portland  200.02  \n",
       "27035  131.32  124.52      USA         Marshfield  261.45  \n",
       "13623  104.57   98.97      USA         Portsmouth  211.12  \n",
       "15176  102.30   97.02      USA              Boise  203.95  \n",
       "11198   96.32   91.42      USA  Greenwood Village  186.17  \n",
       "\n",
       "[5 rows x 21 columns]"
      ]
     },
     "execution_count": 2,
     "metadata": {},
     "output_type": "execute_result"
    }
   ],
   "source": [
    "url = 'https://raw.githubusercontent.com/llimllib/bostonmarathon/master/results/2014/results.csv'\n",
    "na_values = ['-']\n",
    "dtypes = {'gender': 'category', 'state': 'category', \n",
    "          'country': 'category', 'city': 'category'}\n",
    "data = pd.read_csv(url, dtype=dtypes, na_values=na_values)\n",
    "data.gender = data.gender.map({'M': 1, 'F': 0})\n",
    "data.sample(5)"
   ]
  },
  {
   "cell_type": "code",
   "execution_count": 3,
   "metadata": {
    "ExecuteTime": {
     "end_time": "2019-01-22T01:56:05.251036Z",
     "start_time": "2019-01-22T01:56:05.231461Z"
    }
   },
   "outputs": [],
   "source": [
    "# not practical, as this will decrease the examples from 31984 to 957\n",
    "# with this we can run spectral clustering...\n",
    "data = data.dropna()"
   ]
  },
  {
   "cell_type": "code",
   "execution_count": 4,
   "metadata": {
    "ExecuteTime": {
     "end_time": "2019-01-22T01:56:17.864858Z",
     "start_time": "2019-01-22T01:56:17.853960Z"
    }
   },
   "outputs": [
    {
     "data": {
      "text/plain": [
       "(957, 14)"
      ]
     },
     "execution_count": 4,
     "metadata": {},
     "output_type": "execute_result"
    }
   ],
   "source": [
    "country_map = {k: v for v, k in enumerate(data.country.unique())}\n",
    "data['country_num'] = data.country.map(country_map)\n",
    "\n",
    "# can we predict the gender only based on previous race results?\n",
    "race_cols = ['5k', '10k', '20k', '25k', '30k', '35k', \n",
    "             '40k', 'official', 'pace', 'half', 'country_num', 'genderdiv',\n",
    "             'division', 'age', 'gender']\n",
    "X = data[race_cols] #.dropna()\n",
    "y = X['gender']\n",
    "X.drop('gender', axis=1, inplace=True)\n",
    "X.shape"
   ]
  },
  {
   "cell_type": "code",
   "execution_count": null,
   "metadata": {},
   "outputs": [],
   "source": [
    "# PCA\n",
    "pca = PCA(0.9999)\n",
    "X_pca = pca.fit_transform(X_norm)\n",
    "X_pca.shape"
   ]
  },
  {
   "cell_type": "markdown",
   "metadata": {},
   "source": [
    "# Clustering\n",
    "\n",
    "## K-means"
   ]
  },
  {
   "cell_type": "code",
   "execution_count": 6,
   "metadata": {
    "ExecuteTime": {
     "end_time": "2019-01-22T01:56:46.044826Z",
     "start_time": "2019-01-22T01:56:46.039928Z"
    }
   },
   "outputs": [],
   "source": [
    "# Normalize the data.\n",
    "X_norm = pd.DataFrame(normalize(X))\n",
    "X_norm.columns = X.columns"
   ]
  },
  {
   "cell_type": "code",
   "execution_count": 8,
   "metadata": {
    "ExecuteTime": {
     "end_time": "2019-01-22T01:57:39.667204Z",
     "start_time": "2019-01-22T01:57:39.662838Z"
    }
   },
   "outputs": [
    {
     "data": {
      "text/plain": [
       "(957, 14)"
      ]
     },
     "execution_count": 8,
     "metadata": {},
     "output_type": "execute_result"
    }
   ],
   "source": [
    "X_norm.shape"
   ]
  },
  {
   "cell_type": "code",
   "execution_count": 17,
   "metadata": {
    "ExecuteTime": {
     "end_time": "2019-01-22T02:00:35.070803Z",
     "start_time": "2019-01-22T02:00:34.782322Z"
    }
   },
   "outputs": [
    {
     "data": {
      "image/png": "[encoded data removed]",
      "text/plain": [
       "<Figure size 432x288 with 1 Axes>"
      ]
     },
     "metadata": {
      "needs_background": "light"
     },
     "output_type": "display_data"
    },
    {
     "name": "stdout",
     "output_type": "stream",
     "text": [
      "0.5630043185598147\n",
      "              precision    recall  f1-score   support\n",
      "\n",
      "           0       0.37      0.02      0.04       358\n",
      "           1       1.00      0.10      0.18       599\n",
      "           2       0.00      0.00      0.00         0\n",
      "           3       0.00      0.00      0.00         0\n",
      "           4       0.00      0.00      0.00         0\n",
      "           5       0.00      0.00      0.00         0\n",
      "           6       0.00      0.00      0.00         0\n",
      "           7       0.00      0.00      0.00         0\n",
      "           8       0.00      0.00      0.00         0\n",
      "           9       0.00      0.00      0.00         0\n",
      "\n",
      "   micro avg       0.07      0.07      0.07       957\n",
      "   macro avg       0.14      0.01      0.02       957\n",
      "weighted avg       0.76      0.07      0.12       957\n",
      "\n"
     ]
    }
   ],
   "source": [
    "km = KMeans(n_clusters = 10, random_state = seed).fit(X_norm)\n",
    "km_labels = km.labels_\n",
    "plt.scatter(X_norm['age'], X_norm['official'], c=km_labels, cmap='viridis', label = \"Normalized\")\n",
    "plt.legend()\n",
    "plt.xlabel(\"Age\")\n",
    "plt.ylabel(\"Official Time\")\n",
    "plt.show()\n",
    "print(metrics.silhouette_score(X_norm, km_labels, metric='euclidean'))\n",
    "print(metrics.classification_report(y, km_labels))"
   ]
  },
  {
   "cell_type": "code",
   "execution_count": 52,
   "metadata": {
    "ExecuteTime": {
     "end_time": "2019-01-22T02:14:32.313652Z",
     "start_time": "2019-01-22T02:14:32.032533Z"
    }
   },
   "outputs": [
    {
     "data": {
      "image/png": "[encoded data removed]",
      "text/plain": [
       "<Figure size 432x288 with 1 Axes>"
      ]
     },
     "metadata": {
      "needs_background": "light"
     },
     "output_type": "display_data"
    },
    {
     "name": "stdout",
     "output_type": "stream",
     "text": [
      "0.5723944314348945\n",
      "              precision    recall  f1-score   support\n",
      "\n",
      "           0       0.54      0.12      0.20       358\n",
      "           1       0.58      0.09      0.16       599\n",
      "           2       0.00      0.00      0.00         0\n",
      "           3       0.00      0.00      0.00         0\n",
      "           4       0.00      0.00      0.00         0\n",
      "           5       0.00      0.00      0.00         0\n",
      "           6       0.00      0.00      0.00         0\n",
      "           7       0.00      0.00      0.00         0\n",
      "           8       0.00      0.00      0.00         0\n",
      "           9       0.00      0.00      0.00         0\n",
      "          10       0.00      0.00      0.00         0\n",
      "          11       0.00      0.00      0.00         0\n",
      "          12       0.00      0.00      0.00         0\n",
      "\n",
      "   micro avg       0.10      0.10      0.10       957\n",
      "   macro avg       0.09      0.02      0.03       957\n",
      "weighted avg       0.57      0.10      0.17       957\n",
      "\n"
     ]
    }
   ],
   "source": [
    "# Repeat for PCA\n",
    "km2 = KMeans(n_clusters = 13, random_state = seed).fit(X_pca)\n",
    "km2_labels = km2.labels_\n",
    "plt.scatter(X_norm['age'], X_norm['official'], c=km2_labels, cmap='viridis', label = \"Normalized\")\n",
    "plt.legend()\n",
    "plt.xlabel(\"Age\")\n",
    "plt.ylabel(\"Official Time\")\n",
    "plt.show()\n",
    "print(metrics.silhouette_score(X_pca, km2_labels, metric='euclidean'))\n",
    "print(metrics.classification_report(y, km2_labels))"
   ]
  },
  {
   "cell_type": "markdown",
   "metadata": {},
   "source": [
    "## Mean-shift"
   ]
  },
  {
   "cell_type": "code",
   "execution_count": 59,
   "metadata": {
    "ExecuteTime": {
     "end_time": "2019-01-22T02:16:09.071469Z",
     "start_time": "2019-01-22T02:16:08.577886Z"
    }
   },
   "outputs": [
    {
     "name": "stdout",
     "output_type": "stream",
     "text": [
      "Number of estimated clusters: 27\n"
     ]
    },
    {
     "data": {
      "image/png": "[encoded data removed]",
      "text/plain": [
       "<Figure size 432x288 with 1 Axes>"
      ]
     },
     "metadata": {
      "needs_background": "light"
     },
     "output_type": "display_data"
    },
    {
     "name": "stdout",
     "output_type": "stream",
     "text": [
      "0.494614262889303\n",
      "              precision    recall  f1-score   support\n",
      "\n",
      "           0       0.27      0.20      0.23       358\n",
      "           1       0.76      0.10      0.17       599\n",
      "           2       0.00      0.00      0.00         0\n",
      "           3       0.00      0.00      0.00         0\n",
      "           4       0.00      0.00      0.00         0\n",
      "           5       0.00      0.00      0.00         0\n",
      "           6       0.00      0.00      0.00         0\n",
      "           7       0.00      0.00      0.00         0\n",
      "           8       0.00      0.00      0.00         0\n",
      "           9       0.00      0.00      0.00         0\n",
      "          10       0.00      0.00      0.00         0\n",
      "          11       0.00      0.00      0.00         0\n",
      "          12       0.00      0.00      0.00         0\n",
      "          13       0.00      0.00      0.00         0\n",
      "          14       0.00      0.00      0.00         0\n",
      "          15       0.00      0.00      0.00         0\n",
      "          16       0.00      0.00      0.00         0\n",
      "          17       0.00      0.00      0.00         0\n",
      "          18       0.00      0.00      0.00         0\n",
      "          19       0.00      0.00      0.00         0\n",
      "          20       0.00      0.00      0.00         0\n",
      "          21       0.00      0.00      0.00         0\n",
      "          22       0.00      0.00      0.00         0\n",
      "          23       0.00      0.00      0.00         0\n",
      "          24       0.00      0.00      0.00         0\n",
      "          25       0.00      0.00      0.00         0\n",
      "          26       0.00      0.00      0.00         0\n",
      "\n",
      "   micro avg       0.14      0.14      0.14       957\n",
      "   macro avg       0.04      0.01      0.02       957\n",
      "weighted avg       0.58      0.14      0.20       957\n",
      "\n"
     ]
    }
   ],
   "source": [
    "bandwidth = estimate_bandwidth(X_norm, random_state = seed, quantile=0.02)\n",
    "\n",
    "# Declare and fit the model.\n",
    "ms = MeanShift(bandwidth=bandwidth, bin_seeding=True)\n",
    "ms.fit(X_norm)\n",
    "\n",
    "# Extract cluster assignments for each data point.\n",
    "ms_labels = ms.labels_\n",
    "\n",
    "# Coordinates of the cluster centers.\n",
    "cluster_centers = ms.cluster_centers_\n",
    "\n",
    "# Count our clusters.\n",
    "ms_n_clusters_ = len(np.unique(ms_labels))\n",
    "\n",
    "print(\"Number of estimated clusters: {}\".format(ms_n_clusters_))\n",
    "\n",
    "plt.scatter(X_norm['age'], X_norm['official'], c=ms_labels, cmap='viridis', label = \"Normalized\")\n",
    "plt.legend()\n",
    "plt.xlabel(\"Age\")\n",
    "plt.ylabel(\"Official Time\")\n",
    "plt.show()\n",
    "print(metrics.silhouette_score(X_norm, ms_labels, metric='euclidean'))\n",
    "print(metrics.classification_report(y, ms_labels))"
   ]
  },
  {
   "cell_type": "code",
   "execution_count": 64,
   "metadata": {
    "ExecuteTime": {
     "end_time": "2019-01-22T02:18:39.220736Z",
     "start_time": "2019-01-22T02:18:38.684526Z"
    }
   },
   "outputs": [
    {
     "name": "stdout",
     "output_type": "stream",
     "text": [
      "Number of estimated clusters: 56\n"
     ]
    },
    {
     "data": {
      "image/png": "[encoded data removed]",
      "text/plain": [
       "<Figure size 432x288 with 1 Axes>"
      ]
     },
     "metadata": {
      "needs_background": "light"
     },
     "output_type": "display_data"
    },
    {
     "name": "stdout",
     "output_type": "stream",
     "text": [
      "0.5233207772046105\n",
      "              precision    recall  f1-score   support\n",
      "\n",
      "           0       0.29      0.23      0.26       358\n",
      "           1       0.76      0.10      0.18       599\n",
      "           2       0.00      0.00      0.00         0\n",
      "           3       0.00      0.00      0.00         0\n",
      "           4       0.00      0.00      0.00         0\n",
      "           5       0.00      0.00      0.00         0\n",
      "           6       0.00      0.00      0.00         0\n",
      "           7       0.00      0.00      0.00         0\n",
      "           8       0.00      0.00      0.00         0\n",
      "           9       0.00      0.00      0.00         0\n",
      "          10       0.00      0.00      0.00         0\n",
      "          11       0.00      0.00      0.00         0\n",
      "          12       0.00      0.00      0.00         0\n",
      "          13       0.00      0.00      0.00         0\n",
      "          14       0.00      0.00      0.00         0\n",
      "          15       0.00      0.00      0.00         0\n",
      "          16       0.00      0.00      0.00         0\n",
      "          17       0.00      0.00      0.00         0\n",
      "          18       0.00      0.00      0.00         0\n",
      "          19       0.00      0.00      0.00         0\n",
      "          20       0.00      0.00      0.00         0\n",
      "          21       0.00      0.00      0.00         0\n",
      "          22       0.00      0.00      0.00         0\n",
      "          23       0.00      0.00      0.00         0\n",
      "          24       0.00      0.00      0.00         0\n",
      "          25       0.00      0.00      0.00         0\n",
      "          26       0.00      0.00      0.00         0\n",
      "          27       0.00      0.00      0.00         0\n",
      "          28       0.00      0.00      0.00         0\n",
      "          29       0.00      0.00      0.00         0\n",
      "          30       0.00      0.00      0.00         0\n",
      "          31       0.00      0.00      0.00         0\n",
      "          32       0.00      0.00      0.00         0\n",
      "          33       0.00      0.00      0.00         0\n",
      "          34       0.00      0.00      0.00         0\n",
      "          35       0.00      0.00      0.00         0\n",
      "          36       0.00      0.00      0.00         0\n",
      "          37       0.00      0.00      0.00         0\n",
      "          38       0.00      0.00      0.00         0\n",
      "          39       0.00      0.00      0.00         0\n",
      "          40       0.00      0.00      0.00         0\n",
      "          41       0.00      0.00      0.00         0\n",
      "          42       0.00      0.00      0.00         0\n",
      "          43       0.00      0.00      0.00         0\n",
      "          44       0.00      0.00      0.00         0\n",
      "          45       0.00      0.00      0.00         0\n",
      "          46       0.00      0.00      0.00         0\n",
      "          47       0.00      0.00      0.00         0\n",
      "          48       0.00      0.00      0.00         0\n",
      "          49       0.00      0.00      0.00         0\n",
      "          50       0.00      0.00      0.00         0\n",
      "          51       0.00      0.00      0.00         0\n",
      "          52       0.00      0.00      0.00         0\n",
      "          53       0.00      0.00      0.00         0\n",
      "          54       0.00      0.00      0.00         0\n",
      "          55       0.00      0.00      0.00         0\n",
      "\n",
      "   micro avg       0.15      0.15      0.15       957\n",
      "   macro avg       0.02      0.01      0.01       957\n",
      "weighted avg       0.59      0.15      0.21       957\n",
      "\n"
     ]
    }
   ],
   "source": [
    "bandwidth2 = estimate_bandwidth(X_pca, random_state = seed, quantile=0.021)\n",
    "\n",
    "# Declare and fit the model.\n",
    "ms2 = MeanShift(bandwidth=bandwidth2, bin_seeding=True)\n",
    "ms2.fit(X_pca)\n",
    "\n",
    "# Extract cluster assignments for each data point.\n",
    "ms2_labels = ms2.labels_\n",
    "\n",
    "# Coordinates of the cluster centers.\n",
    "cluster_centers2 = ms2.cluster_centers_\n",
    "\n",
    "# Count our clusters.\n",
    "ms2_n_clusters_ = len(np.unique(ms2_labels))\n",
    "\n",
    "print(\"Number of estimated clusters: {}\".format(ms2_n_clusters_))\n",
    "\n",
    "plt.scatter(X_norm['age'], X_norm['official'], c=ms2_labels, cmap='viridis', label = \"Normalized\")\n",
    "plt.legend()\n",
    "plt.xlabel(\"Age\")\n",
    "plt.ylabel(\"Official Time\")\n",
    "plt.show()\n",
    "print(metrics.silhouette_score(X_pca, ms2_labels, metric='euclidean'))\n",
    "print(metrics.classification_report(y, ms2_labels))"
   ]
  },
  {
   "cell_type": "markdown",
   "metadata": {},
   "source": [
    "## Spectral Clustering"
   ]
  },
  {
   "cell_type": "code",
   "execution_count": 71,
   "metadata": {
    "ExecuteTime": {
     "end_time": "2019-01-22T02:20:50.994462Z",
     "start_time": "2019-01-22T02:20:50.699167Z"
    }
   },
   "outputs": [
    {
     "data": {
      "image/png": "[encoded data removed]",
      "text/plain": [
       "<Figure size 432x288 with 1 Axes>"
      ]
     },
     "metadata": {
      "needs_background": "light"
     },
     "output_type": "display_data"
    },
    {
     "name": "stdout",
     "output_type": "stream",
     "text": [
      "0.30968828850430913\n",
      "              precision    recall  f1-score   support\n",
      "\n",
      "           0       0.36      0.22      0.27       358\n",
      "           1       0.62      0.01      0.03       599\n",
      "           2       0.00      0.00      0.00         0\n",
      "           3       0.00      0.00      0.00         0\n",
      "           4       0.00      0.00      0.00         0\n",
      "           5       0.00      0.00      0.00         0\n",
      "\n",
      "   micro avg       0.09      0.09      0.09       957\n",
      "   macro avg       0.16      0.04      0.05       957\n",
      "weighted avg       0.52      0.09      0.12       957\n",
      "\n"
     ]
    }
   ],
   "source": [
    "n_clusters = 6\n",
    "\n",
    "sc = SpectralClustering(n_clusters=n_clusters, random_state=seed)\n",
    "sc.fit(X_norm)\n",
    "\n",
    "sc_labels = sc.labels_\n",
    "plt.scatter(X_norm['age'], X_norm['official'], c=sc_labels, cmap='viridis')\n",
    "plt.show()\n",
    "\n",
    "print(metrics.silhouette_score(X_norm, sc_labels, metric='euclidean'))\n",
    "print(metrics.classification_report(y, sc_labels))"
   ]
  },
  {
   "cell_type": "code",
   "execution_count": 80,
   "metadata": {
    "ExecuteTime": {
     "end_time": "2019-01-22T02:22:47.625783Z",
     "start_time": "2019-01-22T02:22:47.337010Z"
    }
   },
   "outputs": [
    {
     "data": {
      "image/png": "[encoded data removed]",
      "text/plain": [
       "<Figure size 432x288 with 1 Axes>"
      ]
     },
     "metadata": {
      "needs_background": "light"
     },
     "output_type": "display_data"
    },
    {
     "name": "stdout",
     "output_type": "stream",
     "text": [
      "0.6534199126125925\n",
      "              precision    recall  f1-score   support\n",
      "\n",
      "           0       0.41      0.36      0.39       358\n",
      "           1       0.57      0.01      0.03       599\n",
      "           2       0.00      0.00      0.00         0\n",
      "           3       0.00      0.00      0.00         0\n",
      "           4       0.00      0.00      0.00         0\n",
      "\n",
      "   micro avg       0.14      0.14      0.14       957\n",
      "   macro avg       0.20      0.07      0.08       957\n",
      "weighted avg       0.51      0.14      0.16       957\n",
      "\n"
     ]
    }
   ],
   "source": [
    "n_clusters = 5\n",
    "\n",
    "sc2 = SpectralClustering(n_clusters=n_clusters, random_state=seed)\n",
    "sc2.fit(X_pca)\n",
    "\n",
    "sc2_labels = sc2.labels_\n",
    "plt.scatter(X_norm['age'], X_norm['official'], c=sc2_labels, cmap='viridis')\n",
    "plt.show()\n",
    "\n",
    "print(metrics.silhouette_score(X_pca, sc2_labels, metric='euclidean'))\n",
    "print(metrics.classification_report(y, sc2_labels))"
   ]
  },
  {
   "cell_type": "code",
   "execution_count": 81,
   "metadata": {
    "ExecuteTime": {
     "end_time": "2019-01-22T02:23:54.016804Z",
     "start_time": "2019-01-22T02:23:52.062378Z"
    }
   },
   "outputs": [
    {
     "name": "stdout",
     "output_type": "stream",
     "text": [
      "Model Fitting Status: Complete.\n",
      "Estimated Number of Clusters: 568\n"
     ]
    }
   ],
   "source": []
  },
  {
   "cell_type": "markdown",
   "metadata": {},
   "source": [
    "## Affinity Propagation"
   ]
  },
  {
   "cell_type": "code",
   "execution_count": 87,
   "metadata": {
    "ExecuteTime": {
     "end_time": "2019-01-22T02:27:03.143311Z",
     "start_time": "2019-01-22T02:27:01.040836Z"
    }
   },
   "outputs": [
    {
     "name": "stdout",
     "output_type": "stream",
     "text": [
      "Model Fitting Status: Complete.\n",
      "Estimated Number of Clusters: 568\n"
     ]
    }
   ],
   "source": [
    "af = AffinityPropagation().fit(X_norm)\n",
    "print('Model Fitting Status: Complete.')\n",
    "\n",
    "cluster_centers_indices = af.cluster_centers_indices_\n",
    "n_clusters_ = len(cluster_centers_indices)\n",
    "af_labels = af.labels_\n",
    "print('Estimated Number of Clusters: {}'.format(n_clusters_))"
   ]
  },
  {
   "cell_type": "code",
   "execution_count": 88,
   "metadata": {
    "ExecuteTime": {
     "end_time": "2019-01-22T02:27:31.543122Z",
     "start_time": "2019-01-22T02:27:29.600947Z"
    }
   },
   "outputs": [
    {
     "name": "stdout",
     "output_type": "stream",
     "text": [
      "Model Fitting Status: Complete.\n",
      "Estimated Number of Clusters: 530\n"
     ]
    }
   ],
   "source": [
    "af2 = AffinityPropagation().fit(X_pca)\n",
    "print('Model Fitting Status: Complete.')\n",
    "\n",
    "cluster_centers_indices2 = af2.cluster_centers_indices_\n",
    "n2_clusters_ = len(cluster_centers_indices2)\n",
    "af2_labels = af2.labels_\n",
    "print('Estimated Number of Clusters: {}'.format(n2_clusters_))"
   ]
  },
  {
   "cell_type": "markdown",
   "metadata": {
    "ExecuteTime": {
     "end_time": "2019-01-20T05:14:34.413993Z",
     "start_time": "2019-01-20T05:14:34.396612Z"
    },
    "scrolled": true
   },
   "source": [
    "# Evaluation: Silhouette Coefficients"
   ]
  },
  {
   "cell_type": "code",
   "execution_count": 89,
   "metadata": {
    "ExecuteTime": {
     "end_time": "2019-01-22T02:27:48.938131Z",
     "start_time": "2019-01-22T02:27:48.870925Z"
    }
   },
   "outputs": [],
   "source": [
    "ms_silhouette = metrics.silhouette_score(X_pca, ms_labels, metric='euclidean')\n",
    "km_silhouette = metrics.silhouette_score(X_pca, km_labels, metric='euclidean')\n",
    "sc_silhouette = metrics.silhouette_score(X_pca, sc_labels, metric='euclidean')\n",
    "af_silhouette = metrics.silhouette_score(X_pca, af_labels, metric='euclidean')"
   ]
  },
  {
   "cell_type": "code",
   "execution_count": 90,
   "metadata": {
    "ExecuteTime": {
     "end_time": "2019-01-22T02:28:00.197578Z",
     "start_time": "2019-01-22T02:28:00.193206Z"
    }
   },
   "outputs": [
    {
     "name": "stdout",
     "output_type": "stream",
     "text": [
      "Mean-Shift Silhouette Coefficient: 0.5\n",
      "K-Means Silhouette Coefficient: 0.56\n",
      "Spectral Silhouette Coefficient: 0.31\n",
      "Affinity Propagation Silhouette Coefficient: 0.18\n"
     ]
    }
   ],
   "source": [
    "print('Mean-Shift Silhouette Coefficient: {:.2}'.format(ms_silhouette))\n",
    "print('K-Means Silhouette Coefficient: {:.2}'.format(km_silhouette))\n",
    "print('Spectral Silhouette Coefficient: {:.2}'.format(sc_silhouette))\n",
    "print('Affinity Propagation Silhouette Coefficient: {:.2}'.format(af_silhouette))"
   ]
  }
 ],
 "metadata": {
  "kernelspec": {
   "display_name": "Python 3",
   "language": "python",
   "name": "python3"
  },
  "language_info": {
   "codemirror_mode": {
    "name": "ipython",
    "version": 3
   },
   "file_extension": ".py",
   "mimetype": "text/x-python",
   "name": "python",
   "nbconvert_exporter": "python",
   "pygments_lexer": "ipython3",
   "version": "3.6.6"
  },
  "latex_envs": {
   "LaTeX_envs_menu_present": true,
   "autoclose": false,
   "autocomplete": true,
   "bibliofile": "biblio.bib",
   "cite_by": "apalike",
   "current_citInitial": 1,
   "eqLabelWithNumbers": true,
   "eqNumInitial": 1,
   "hotkeys": {
    "equation": "Ctrl-E",
    "itemize": "Ctrl-I"
   },
   "labels_anchors": false,
   "latex_user_defs": false,
   "report_style_numbering": false,
   "user_envs_cfg": false
  },
  "toc": {
   "base_numbering": 1,
   "nav_menu": {},
   "number_sections": true,
   "sideBar": true,
   "skip_h1_title": false,
   "title_cell": "Table of Contents",
   "title_sidebar": "Contents",
   "toc_cell": false,
   "toc_position": {},
   "toc_section_display": true,
   "toc_window_display": false
  },
  "varInspector": {
   "cols": {
    "lenName": 16,
    "lenType": 16,
    "lenVar": 40
   },
   "kernels_config": {
    "python": {
     "delete_cmd_postfix": "",
     "delete_cmd_prefix": "del ",
     "library": "var_list.py",
     "varRefreshCmd": "print(var_dic_list())"
    },
    "r": {
     "delete_cmd_postfix": ") ",
     "delete_cmd_prefix": "rm(",
     "library": "var_list.r",
     "varRefreshCmd": "cat(var_dic_list()) "
    }
   },
   "types_to_exclude": [
    "module",
    "function",
    "builtin_function_or_method",
    "instance",
    "_Feature"
   ],
   "window_display": false
  }
 },
 "nbformat": 4,
 "nbformat_minor": 2
}
