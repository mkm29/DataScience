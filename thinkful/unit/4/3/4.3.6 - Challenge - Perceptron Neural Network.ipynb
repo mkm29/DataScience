{
 "cells": [
  {
   "cell_type": "code",
   "execution_count": 26,
   "metadata": {
    "ExecuteTime": {
     "end_time": "2019-01-24T16:56:13.204302Z",
     "start_time": "2019-01-24T16:56:13.197105Z"
    }
   },
   "outputs": [],
   "source": [
    "import numpy as np\n",
    "import pandas as pd\n",
    "import scipy\n",
    "import matplotlib.pyplot as plt\n",
    "import seaborn as sns\n",
    "from sklearn.neural_network import MLPClassifier\n",
    "from sklearn.model_selection import cross_val_score, cross_val_predict, train_test_split\n",
    "from sklearn.ensemble import RandomForestClassifier\n",
    "from sklearn.model_selection import cross_val_score\n",
    "from sklearn.metrics import classification_report\n",
    "\n",
    "%matplotlib inline\n",
    "import time\n",
    "import warnings\n",
    "warnings.filterwarnings('ignore')"
   ]
  },
  {
   "cell_type": "code",
   "execution_count": 4,
   "metadata": {
    "ExecuteTime": {
     "end_time": "2019-01-24T14:18:37.221535Z",
     "start_time": "2019-01-24T14:18:34.024086Z"
    }
   },
   "outputs": [
    {
     "data": {
      "text/html": [
       "<div>\n",
       "<style scoped>\n",
       "    .dataframe tbody tr th:only-of-type {\n",
       "        vertical-align: middle;\n",
       "    }\n",
       "\n",
       "    .dataframe tbody tr th {\n",
       "        vertical-align: top;\n",
       "    }\n",
       "\n",
       "    .dataframe thead th {\n",
       "        text-align: right;\n",
       "    }\n",
       "</style>\n",
       "<table border=\"1\" class=\"dataframe\">\n",
       "  <thead>\n",
       "    <tr style=\"text-align: right;\">\n",
       "      <th></th>\n",
       "      <th>Time</th>\n",
       "      <th>V1</th>\n",
       "      <th>V2</th>\n",
       "      <th>V3</th>\n",
       "      <th>V4</th>\n",
       "      <th>V5</th>\n",
       "      <th>V6</th>\n",
       "      <th>V7</th>\n",
       "      <th>V8</th>\n",
       "      <th>V9</th>\n",
       "      <th>...</th>\n",
       "      <th>V21</th>\n",
       "      <th>V22</th>\n",
       "      <th>V23</th>\n",
       "      <th>V24</th>\n",
       "      <th>V25</th>\n",
       "      <th>V26</th>\n",
       "      <th>V27</th>\n",
       "      <th>V28</th>\n",
       "      <th>Amount</th>\n",
       "      <th>Class</th>\n",
       "    </tr>\n",
       "  </thead>\n",
       "  <tbody>\n",
       "    <tr>\n",
       "      <th>23286</th>\n",
       "      <td>32673.0</td>\n",
       "      <td>-0.529618</td>\n",
       "      <td>0.725155</td>\n",
       "      <td>1.047404</td>\n",
       "      <td>0.740384</td>\n",
       "      <td>0.263997</td>\n",
       "      <td>-0.367547</td>\n",
       "      <td>0.616825</td>\n",
       "      <td>0.124157</td>\n",
       "      <td>-0.576075</td>\n",
       "      <td>...</td>\n",
       "      <td>0.163170</td>\n",
       "      <td>0.418526</td>\n",
       "      <td>-0.067885</td>\n",
       "      <td>-0.024396</td>\n",
       "      <td>-0.201015</td>\n",
       "      <td>-0.311315</td>\n",
       "      <td>0.383730</td>\n",
       "      <td>0.216041</td>\n",
       "      <td>46.86</td>\n",
       "      <td>0</td>\n",
       "    </tr>\n",
       "    <tr>\n",
       "      <th>140506</th>\n",
       "      <td>83755.0</td>\n",
       "      <td>1.187850</td>\n",
       "      <td>-0.412885</td>\n",
       "      <td>1.134586</td>\n",
       "      <td>0.117393</td>\n",
       "      <td>-1.110640</td>\n",
       "      <td>-0.022826</td>\n",
       "      <td>-0.832832</td>\n",
       "      <td>0.227680</td>\n",
       "      <td>1.211235</td>\n",
       "      <td>...</td>\n",
       "      <td>-0.104282</td>\n",
       "      <td>-0.093230</td>\n",
       "      <td>0.106181</td>\n",
       "      <td>0.127574</td>\n",
       "      <td>0.014481</td>\n",
       "      <td>1.023644</td>\n",
       "      <td>-0.021363</td>\n",
       "      <td>0.009866</td>\n",
       "      <td>1.00</td>\n",
       "      <td>0</td>\n",
       "    </tr>\n",
       "    <tr>\n",
       "      <th>207450</th>\n",
       "      <td>136679.0</td>\n",
       "      <td>1.946640</td>\n",
       "      <td>-0.325712</td>\n",
       "      <td>-0.966408</td>\n",
       "      <td>0.389814</td>\n",
       "      <td>-0.106747</td>\n",
       "      <td>-0.359471</td>\n",
       "      <td>-0.159013</td>\n",
       "      <td>-0.081225</td>\n",
       "      <td>0.495162</td>\n",
       "      <td>...</td>\n",
       "      <td>0.010820</td>\n",
       "      <td>0.090104</td>\n",
       "      <td>0.115069</td>\n",
       "      <td>-0.462295</td>\n",
       "      <td>-0.172069</td>\n",
       "      <td>0.231497</td>\n",
       "      <td>-0.048982</td>\n",
       "      <td>-0.061179</td>\n",
       "      <td>42.90</td>\n",
       "      <td>0</td>\n",
       "    </tr>\n",
       "    <tr>\n",
       "      <th>210766</th>\n",
       "      <td>138114.0</td>\n",
       "      <td>1.954918</td>\n",
       "      <td>-0.143380</td>\n",
       "      <td>-1.808844</td>\n",
       "      <td>0.307120</td>\n",
       "      <td>0.485033</td>\n",
       "      <td>-0.673555</td>\n",
       "      <td>0.474469</td>\n",
       "      <td>-0.250511</td>\n",
       "      <td>0.281957</td>\n",
       "      <td>...</td>\n",
       "      <td>0.074285</td>\n",
       "      <td>0.292888</td>\n",
       "      <td>0.018333</td>\n",
       "      <td>0.797739</td>\n",
       "      <td>0.335862</td>\n",
       "      <td>-0.282048</td>\n",
       "      <td>-0.052115</td>\n",
       "      <td>-0.061012</td>\n",
       "      <td>49.99</td>\n",
       "      <td>0</td>\n",
       "    </tr>\n",
       "    <tr>\n",
       "      <th>277257</th>\n",
       "      <td>167552.0</td>\n",
       "      <td>0.629452</td>\n",
       "      <td>-0.707467</td>\n",
       "      <td>0.629494</td>\n",
       "      <td>-1.942313</td>\n",
       "      <td>-0.772135</td>\n",
       "      <td>-0.575656</td>\n",
       "      <td>-0.093094</td>\n",
       "      <td>-0.488101</td>\n",
       "      <td>-1.615828</td>\n",
       "      <td>...</td>\n",
       "      <td>-0.042167</td>\n",
       "      <td>0.632069</td>\n",
       "      <td>0.092358</td>\n",
       "      <td>0.018898</td>\n",
       "      <td>-1.642590</td>\n",
       "      <td>-0.296532</td>\n",
       "      <td>-0.146872</td>\n",
       "      <td>-0.180971</td>\n",
       "      <td>10.00</td>\n",
       "      <td>0</td>\n",
       "    </tr>\n",
       "  </tbody>\n",
       "</table>\n",
       "<p>5 rows × 31 columns</p>\n",
       "</div>"
      ],
      "text/plain": [
       "            Time        V1        V2        V3        V4        V5        V6  \\\n",
       "23286    32673.0 -0.529618  0.725155  1.047404  0.740384  0.263997 -0.367547   \n",
       "140506   83755.0  1.187850 -0.412885  1.134586  0.117393 -1.110640 -0.022826   \n",
       "207450  136679.0  1.946640 -0.325712 -0.966408  0.389814 -0.106747 -0.359471   \n",
       "210766  138114.0  1.954918 -0.143380 -1.808844  0.307120  0.485033 -0.673555   \n",
       "277257  167552.0  0.629452 -0.707467  0.629494 -1.942313 -0.772135 -0.575656   \n",
       "\n",
       "              V7        V8        V9  ...         V21       V22       V23  \\\n",
       "23286   0.616825  0.124157 -0.576075  ...    0.163170  0.418526 -0.067885   \n",
       "140506 -0.832832  0.227680  1.211235  ...   -0.104282 -0.093230  0.106181   \n",
       "207450 -0.159013 -0.081225  0.495162  ...    0.010820  0.090104  0.115069   \n",
       "210766  0.474469 -0.250511  0.281957  ...    0.074285  0.292888  0.018333   \n",
       "277257 -0.093094 -0.488101 -1.615828  ...   -0.042167  0.632069  0.092358   \n",
       "\n",
       "             V24       V25       V26       V27       V28  Amount  Class  \n",
       "23286  -0.024396 -0.201015 -0.311315  0.383730  0.216041   46.86      0  \n",
       "140506  0.127574  0.014481  1.023644 -0.021363  0.009866    1.00      0  \n",
       "207450 -0.462295 -0.172069  0.231497 -0.048982 -0.061179   42.90      0  \n",
       "210766  0.797739  0.335862 -0.282048 -0.052115 -0.061012   49.99      0  \n",
       "277257  0.018898 -1.642590 -0.296532 -0.146872 -0.180971   10.00      0  \n",
       "\n",
       "[5 rows x 31 columns]"
      ]
     },
     "execution_count": 4,
     "metadata": {},
     "output_type": "execute_result"
    }
   ],
   "source": [
    "df = pd.read_csv('creditcard.csv')\n",
    "df.sample(5)"
   ]
  },
  {
   "cell_type": "code",
   "execution_count": 5,
   "metadata": {
    "ExecuteTime": {
     "end_time": "2019-01-24T14:18:53.661729Z",
     "start_time": "2019-01-24T14:18:53.633139Z"
    }
   },
   "outputs": [],
   "source": [
    "X = df.drop(['Class'], axis=1)\n",
    "y = df[['Class']]\n",
    "X_train, X_test, y_train, y_test = train_test_split(X, y, test_size = 0.2, random_state = 42)\n",
    "print(\"Train: {}\\nTest: {}\".format(X_train.shape, X_test.shape))"
   ]
  },
  {
   "cell_type": "code",
   "execution_count": 22,
   "metadata": {
    "ExecuteTime": {
     "end_time": "2019-01-24T16:30:45.999929Z",
     "start_time": "2019-01-24T16:19:09.026272Z"
    }
   },
   "outputs": [
    {
     "name": "stdout",
     "output_type": "stream",
     "text": [
      "Took 696.9698178768158 seconds\n"
     ]
    }
   ],
   "source": [
    "# Establish and fit the model, with a single, 1000 perceptron layer.\n",
    "start_time = time.time()\n",
    "\n",
    "mlp = MLPClassifier(hidden_layer_sizes=(1000, 100, 10), verbose=False, random_state=42)\n",
    "mlp.fit(X_train, y_train)\n",
    "\n",
    "print(\"Took %s seconds\" % (time.time() - start_time))"
   ]
  },
  {
   "cell_type": "code",
   "execution_count": 23,
   "metadata": {
    "ExecuteTime": {
     "end_time": "2019-01-24T16:51:33.252909Z",
     "start_time": "2019-01-24T16:31:45.532563Z"
    }
   },
   "outputs": [
    {
     "name": "stdout",
     "output_type": "stream",
     "text": [
      "[0.99593148 0.99827514 0.99827514]\n",
      "3-fold cross validation average accuracy: 0.9975\n",
      "Took 1187.7164778709412 seconds\n"
     ]
    }
   ],
   "source": [
    "start_time = time.time()\n",
    "mlp_results = cross_val_score(mlp, X_train, y_train, cv=3)\n",
    "print(mlp_results)\n",
    "print(\"3-fold cross validation average accuracy: %.4f\" % (mlp_results.mean()))\n",
    "print(\"Took %s seconds\" % (time.time() - start_time))"
   ]
  },
  {
   "cell_type": "code",
   "execution_count": 27,
   "metadata": {
    "ExecuteTime": {
     "end_time": "2019-01-24T16:57:09.383848Z",
     "start_time": "2019-01-24T16:56:16.640181Z"
    }
   },
   "outputs": [
    {
     "name": "stdout",
     "output_type": "stream",
     "text": [
      "[0.99947333 0.99942066 0.99957866]\n",
      "3-fold cross validation average accuracy: 0.9995\n",
      "Took 52.73906207084656 seconds\n"
     ]
    }
   ],
   "source": [
    "start_time = time.time()\n",
    "rfc = RandomForestClassifier()\n",
    "rfc.fit(X_train, y_train)\n",
    "rfc_results = cross_val_score(rfc, X_train, y_train, cv=3)\n",
    "print(rfc_results)\n",
    "print(\"3-fold cross validation average accuracy: %.4f\" % (rfc_results.mean()))\n",
    "print(\"Took %s seconds\" % (time.time() - start_time))"
   ]
  },
  {
   "cell_type": "code",
   "execution_count": 28,
   "metadata": {
    "ExecuteTime": {
     "end_time": "2019-01-24T16:57:26.225414Z",
     "start_time": "2019-01-24T16:57:26.120379Z"
    }
   },
   "outputs": [
    {
     "name": "stdout",
     "output_type": "stream",
     "text": [
      "              precision    recall  f1-score   support\n",
      "\n",
      "           0       1.00      1.00      1.00     56864\n",
      "           1       0.97      0.76      0.85        98\n",
      "\n",
      "   micro avg       1.00      1.00      1.00     56962\n",
      "   macro avg       0.99      0.88      0.93     56962\n",
      "weighted avg       1.00      1.00      1.00     56962\n",
      "\n"
     ]
    }
   ],
   "source": [
    "y_pred_rfc = rfc.predict(X_test)\n",
    "print(classification_report(y_test, y_pred_rfc))"
   ]
  },
  {
   "cell_type": "code",
   "execution_count": 30,
   "metadata": {
    "ExecuteTime": {
     "end_time": "2019-01-24T16:58:33.255404Z",
     "start_time": "2019-01-24T16:58:24.620603Z"
    }
   },
   "outputs": [
    {
     "name": "stdout",
     "output_type": "stream",
     "text": [
      "              precision    recall  f1-score   support\n",
      "\n",
      "           0       1.00      1.00      1.00     56864\n",
      "           1       0.00      0.00      0.00        98\n",
      "\n",
      "   micro avg       1.00      1.00      1.00     56962\n",
      "   macro avg       0.50      0.50      0.50     56962\n",
      "weighted avg       1.00      1.00      1.00     56962\n",
      "\n"
     ]
    }
   ],
   "source": [
    "y_pred_mlp = mlp.predict(X_test)\n",
    "print(classification_report(y_test, y_pred_mlp))"
   ]
  },
  {
   "cell_type": "markdown",
   "metadata": {},
   "source": [
    "**Conclusion**  \n",
    "The simple perceptron neural network predicts credit card fraud (classification) with near perfect accuracy (99.8%), while a random forest classifier (with no parameter tuning) achieves an accuracy of 80.5%. However, it is important to note that random forests are less prone to overfitting than the 3-layer perceptron network, and for this amount of data (~300k) training a perceptron network took about 30 minutes (with 3 fold cross-validation) while training the random forest model took less than 2 minutes. "
   ]
  },
  {
   "cell_type": "code",
   "execution_count": null,
   "metadata": {},
   "outputs": [],
   "source": []
  }
 ],
 "metadata": {
  "kernelspec": {
   "display_name": "Python 3",
   "language": "python",
   "name": "python3"
  },
  "language_info": {
   "codemirror_mode": {
    "name": "ipython",
    "version": 3
   },
   "file_extension": ".py",
   "mimetype": "text/x-python",
   "name": "python",
   "nbconvert_exporter": "python",
   "pygments_lexer": "ipython3",
   "version": "3.6.6"
  },
  "latex_envs": {
   "LaTeX_envs_menu_present": true,
   "autoclose": false,
   "autocomplete": true,
   "bibliofile": "biblio.bib",
   "cite_by": "apalike",
   "current_citInitial": 1,
   "eqLabelWithNumbers": true,
   "eqNumInitial": 1,
   "hotkeys": {
    "equation": "Ctrl-E",
    "itemize": "Ctrl-I"
   },
   "labels_anchors": false,
   "latex_user_defs": false,
   "report_style_numbering": false,
   "user_envs_cfg": false
  },
  "toc": {
   "base_numbering": 1,
   "nav_menu": {},
   "number_sections": true,
   "sideBar": true,
   "skip_h1_title": false,
   "title_cell": "Table of Contents",
   "title_sidebar": "Contents",
   "toc_cell": false,
   "toc_position": {},
   "toc_section_display": true,
   "toc_window_display": false
  },
  "varInspector": {
   "cols": {
    "lenName": 16,
    "lenType": 16,
    "lenVar": 40
   },
   "kernels_config": {
    "python": {
     "delete_cmd_postfix": "",
     "delete_cmd_prefix": "del ",
     "library": "var_list.py",
     "varRefreshCmd": "print(var_dic_list())"
    },
    "r": {
     "delete_cmd_postfix": ") ",
     "delete_cmd_prefix": "rm(",
     "library": "var_list.r",
     "varRefreshCmd": "cat(var_dic_list()) "
    }
   },
   "types_to_exclude": [
    "module",
    "function",
    "builtin_function_or_method",
    "instance",
    "_Feature"
   ],
   "window_display": false
  }
 },
 "nbformat": 4,
 "nbformat_minor": 2
}
