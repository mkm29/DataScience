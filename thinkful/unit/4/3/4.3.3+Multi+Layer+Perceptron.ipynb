{
 "cells": [
  {
   "cell_type": "code",
   "execution_count": 1,
   "metadata": {
    "ExecuteTime": {
     "end_time": "2019-01-22T17:41:50.685345Z",
     "start_time": "2019-01-22T17:41:48.623490Z"
    },
    "run_control": {
     "frozen": false,
     "read_only": false
    }
   },
   "outputs": [],
   "source": [
    "import numpy as np\n",
    "import pandas as pd\n",
    "import matplotlib.pyplot as plt\n",
    "%matplotlib inline"
   ]
  },
  {
   "cell_type": "markdown",
   "metadata": {
    "run_control": {
     "frozen": false,
     "read_only": false
    }
   },
   "source": [
    "We're ready to build our first neural network. We will have multiple features we feed into our model, each of which will go through a set of perceptron models to arrive at a response which will be trained to our output.\n",
    "\n",
    "Like many models we've covered, this can be used as both a regression or classification model.\n",
    "\n",
    "First, we need to load our dataset. For this example we'll use The Museum of Modern Art in New York's [public dataset](https://media.githubusercontent.com/media/MuseumofModernArt/collection/master/Artworks.csv) on their collection."
   ]
  },
  {
   "cell_type": "code",
   "execution_count": 2,
   "metadata": {
    "ExecuteTime": {
     "end_time": "2019-01-22T17:42:16.304585Z",
     "start_time": "2019-01-22T17:41:51.850176Z"
    },
    "run_control": {
     "frozen": false,
     "read_only": false
    }
   },
   "outputs": [],
   "source": [
    "artworks = pd.read_csv('https://media.githubusercontent.com/media/MuseumofModernArt/collection/master/Artworks.csv')"
   ]
  },
  {
   "cell_type": "code",
   "execution_count": 3,
   "metadata": {
    "ExecuteTime": {
     "end_time": "2019-01-22T03:25:43.879078Z",
     "start_time": "2019-01-22T03:25:43.868588Z"
    },
    "run_control": {
     "frozen": false,
     "read_only": false
    },
    "scrolled": true
   },
   "outputs": [
    {
     "data": {
      "text/plain": [
       "Index(['Title', 'Artist', 'ConstituentID', 'ArtistBio', 'Nationality',\n",
       "       'BeginDate', 'EndDate', 'Gender', 'Date', 'Medium', 'Dimensions',\n",
       "       'CreditLine', 'AccessionNumber', 'Classification', 'Department',\n",
       "       'DateAcquired', 'Cataloged', 'ObjectID', 'URL', 'ThumbnailURL',\n",
       "       'Circumference (cm)', 'Depth (cm)', 'Diameter (cm)', 'Height (cm)',\n",
       "       'Length (cm)', 'Weight (kg)', 'Width (cm)', 'Seat Height (cm)',\n",
       "       'Duration (sec.)'],\n",
       "      dtype='object')"
      ]
     },
     "execution_count": 3,
     "metadata": {},
     "output_type": "execute_result"
    }
   ],
   "source": [
    "artworks.columns"
   ]
  },
  {
   "cell_type": "code",
   "execution_count": 4,
   "metadata": {
    "ExecuteTime": {
     "end_time": "2019-01-22T03:25:53.037873Z",
     "start_time": "2019-01-22T03:25:53.033282Z"
    }
   },
   "outputs": [
    {
     "data": {
      "text/plain": [
       "(136531, 29)"
      ]
     },
     "execution_count": 4,
     "metadata": {},
     "output_type": "execute_result"
    }
   ],
   "source": [
    "artworks.shape"
   ]
  },
  {
   "cell_type": "markdown",
   "metadata": {
    "run_control": {
     "frozen": false,
     "read_only": false
    }
   },
   "source": [
    "We'll also do a bit of data processing and cleaning, selecting columns of interest and converting URL's to booleans indicating whether they are present."
   ]
  },
  {
   "cell_type": "code",
   "execution_count": 3,
   "metadata": {
    "ExecuteTime": {
     "end_time": "2019-01-22T17:42:21.586610Z",
     "start_time": "2019-01-22T17:42:20.753967Z"
    },
    "run_control": {
     "frozen": false,
     "read_only": false
    }
   },
   "outputs": [],
   "source": [
    "# Select Columns.\n",
    "artworks = artworks[['Artist', 'Nationality', 'Gender', 'Date', 'Department',\n",
    "                    'DateAcquired', 'URL', 'ThumbnailURL', 'Height (cm)', 'Width (cm)']]\n",
    "\n",
    "# Convert URL's to booleans.\n",
    "artworks['URL'] = artworks['URL'].notnull()\n",
    "artworks['ThumbnailURL'] = artworks['ThumbnailURL'].notnull()\n",
    "\n",
    "# Drop films and some other tricky rows.\n",
    "artworks = artworks[artworks['Department']!='Film']\n",
    "artworks = artworks[artworks['Department']!='Media and Performance Art']\n",
    "artworks = artworks[artworks['Department']!='Fluxus Collection']\n",
    "\n",
    "# Drop missing data.\n",
    "artworks = artworks.dropna()"
   ]
  },
  {
   "cell_type": "code",
   "execution_count": 6,
   "metadata": {
    "ExecuteTime": {
     "end_time": "2019-01-22T03:26:01.345070Z",
     "start_time": "2019-01-22T03:26:01.329770Z"
    },
    "run_control": {
     "frozen": false,
     "read_only": false
    }
   },
   "outputs": [
    {
     "data": {
      "text/html": [
       "<div>\n",
       "<style scoped>\n",
       "    .dataframe tbody tr th:only-of-type {\n",
       "        vertical-align: middle;\n",
       "    }\n",
       "\n",
       "    .dataframe tbody tr th {\n",
       "        vertical-align: top;\n",
       "    }\n",
       "\n",
       "    .dataframe thead th {\n",
       "        text-align: right;\n",
       "    }\n",
       "</style>\n",
       "<table border=\"1\" class=\"dataframe\">\n",
       "  <thead>\n",
       "    <tr style=\"text-align: right;\">\n",
       "      <th></th>\n",
       "      <th>Artist</th>\n",
       "      <th>Nationality</th>\n",
       "      <th>Gender</th>\n",
       "      <th>Date</th>\n",
       "      <th>Department</th>\n",
       "      <th>DateAcquired</th>\n",
       "      <th>URL</th>\n",
       "      <th>ThumbnailURL</th>\n",
       "      <th>Height (cm)</th>\n",
       "      <th>Width (cm)</th>\n",
       "    </tr>\n",
       "  </thead>\n",
       "  <tbody>\n",
       "    <tr>\n",
       "      <th>0</th>\n",
       "      <td>Otto Wagner</td>\n",
       "      <td>(Austrian)</td>\n",
       "      <td>(Male)</td>\n",
       "      <td>1896</td>\n",
       "      <td>Architecture &amp; Design</td>\n",
       "      <td>1996-04-09</td>\n",
       "      <td>True</td>\n",
       "      <td>True</td>\n",
       "      <td>48.6000</td>\n",
       "      <td>168.9000</td>\n",
       "    </tr>\n",
       "    <tr>\n",
       "      <th>1</th>\n",
       "      <td>Christian de Portzamparc</td>\n",
       "      <td>(French)</td>\n",
       "      <td>(Male)</td>\n",
       "      <td>1987</td>\n",
       "      <td>Architecture &amp; Design</td>\n",
       "      <td>1995-01-17</td>\n",
       "      <td>True</td>\n",
       "      <td>True</td>\n",
       "      <td>40.6401</td>\n",
       "      <td>29.8451</td>\n",
       "    </tr>\n",
       "    <tr>\n",
       "      <th>2</th>\n",
       "      <td>Emil Hoppe</td>\n",
       "      <td>(Austrian)</td>\n",
       "      <td>(Male)</td>\n",
       "      <td>1903</td>\n",
       "      <td>Architecture &amp; Design</td>\n",
       "      <td>1997-01-15</td>\n",
       "      <td>True</td>\n",
       "      <td>True</td>\n",
       "      <td>34.3000</td>\n",
       "      <td>31.8000</td>\n",
       "    </tr>\n",
       "    <tr>\n",
       "      <th>3</th>\n",
       "      <td>Bernard Tschumi</td>\n",
       "      <td>()</td>\n",
       "      <td>(Male)</td>\n",
       "      <td>1980</td>\n",
       "      <td>Architecture &amp; Design</td>\n",
       "      <td>1995-01-17</td>\n",
       "      <td>True</td>\n",
       "      <td>True</td>\n",
       "      <td>50.8000</td>\n",
       "      <td>50.8000</td>\n",
       "    </tr>\n",
       "    <tr>\n",
       "      <th>4</th>\n",
       "      <td>Emil Hoppe</td>\n",
       "      <td>(Austrian)</td>\n",
       "      <td>(Male)</td>\n",
       "      <td>1903</td>\n",
       "      <td>Architecture &amp; Design</td>\n",
       "      <td>1997-01-15</td>\n",
       "      <td>True</td>\n",
       "      <td>True</td>\n",
       "      <td>38.4000</td>\n",
       "      <td>19.1000</td>\n",
       "    </tr>\n",
       "  </tbody>\n",
       "</table>\n",
       "</div>"
      ],
      "text/plain": [
       "                     Artist Nationality  Gender  Date             Department  \\\n",
       "0               Otto Wagner  (Austrian)  (Male)  1896  Architecture & Design   \n",
       "1  Christian de Portzamparc    (French)  (Male)  1987  Architecture & Design   \n",
       "2                Emil Hoppe  (Austrian)  (Male)  1903  Architecture & Design   \n",
       "3           Bernard Tschumi          ()  (Male)  1980  Architecture & Design   \n",
       "4                Emil Hoppe  (Austrian)  (Male)  1903  Architecture & Design   \n",
       "\n",
       "  DateAcquired   URL  ThumbnailURL  Height (cm)  Width (cm)  \n",
       "0   1996-04-09  True          True      48.6000    168.9000  \n",
       "1   1995-01-17  True          True      40.6401     29.8451  \n",
       "2   1997-01-15  True          True      34.3000     31.8000  \n",
       "3   1995-01-17  True          True      50.8000     50.8000  \n",
       "4   1997-01-15  True          True      38.4000     19.1000  "
      ]
     },
     "execution_count": 6,
     "metadata": {},
     "output_type": "execute_result"
    }
   ],
   "source": [
    "artworks.head()"
   ]
  },
  {
   "cell_type": "code",
   "execution_count": 4,
   "metadata": {
    "ExecuteTime": {
     "end_time": "2019-01-22T17:42:24.762964Z",
     "start_time": "2019-01-22T17:42:24.753386Z"
    }
   },
   "outputs": [
    {
     "data": {
      "text/plain": [
       "(106596, 10)"
      ]
     },
     "execution_count": 4,
     "metadata": {},
     "output_type": "execute_result"
    }
   ],
   "source": [
    "artworks.shape"
   ]
  },
  {
   "cell_type": "markdown",
   "metadata": {
    "run_control": {
     "frozen": false,
     "read_only": false
    }
   },
   "source": [
    "## Building a Model\n",
    "\n",
    "Now, let's see if we can use multi-layer perceptron modeling (or \"MLP\") to see if we can classify the department a piece should go into using everything but the department name.\n",
    "\n",
    "Before we import MLP from SKLearn and establish the model we first have to ensure correct typing for our data and do some other cleaning."
   ]
  },
  {
   "cell_type": "code",
   "execution_count": 6,
   "metadata": {
    "run_control": {
     "frozen": false,
     "read_only": false
    }
   },
   "outputs": [
    {
     "data": {
      "text/plain": [
       "Artist           object\n",
       "Nationality      object\n",
       "Gender           object\n",
       "Date             object\n",
       "Department       object\n",
       "DateAcquired     object\n",
       "URL                bool\n",
       "ThumbnailURL       bool\n",
       "Height (cm)     float64\n",
       "Width (cm)      float64\n",
       "dtype: object"
      ]
     },
     "execution_count": 6,
     "metadata": {},
     "output_type": "execute_result"
    }
   ],
   "source": [
    "# Get data types.\n",
    "artworks.dtypes"
   ]
  },
  {
   "cell_type": "markdown",
   "metadata": {},
   "source": [
    "The `DateAcquired` column is an object. Let's transform that to a datetime object and add a feature for just the year the artwork was acquired."
   ]
  },
  {
   "cell_type": "code",
   "execution_count": 5,
   "metadata": {
    "ExecuteTime": {
     "end_time": "2019-01-22T17:42:36.070047Z",
     "start_time": "2019-01-22T17:42:35.783302Z"
    },
    "run_control": {
     "frozen": false,
     "read_only": false
    }
   },
   "outputs": [
    {
     "data": {
      "text/plain": [
       "dtype('int64')"
      ]
     },
     "execution_count": 5,
     "metadata": {},
     "output_type": "execute_result"
    }
   ],
   "source": [
    "artworks['DateAcquired'] = pd.to_datetime(artworks.DateAcquired)\n",
    "artworks['YearAcquired'] = artworks.DateAcquired.dt.year\n",
    "artworks['YearAcquired'].dtype"
   ]
  },
  {
   "cell_type": "markdown",
   "metadata": {},
   "source": [
    "Great. Let's do some more miscellaneous cleaning."
   ]
  },
  {
   "cell_type": "code",
   "execution_count": 6,
   "metadata": {
    "ExecuteTime": {
     "end_time": "2019-01-22T17:42:46.324614Z",
     "start_time": "2019-01-22T17:42:38.192772Z"
    },
    "run_control": {
     "frozen": false,
     "read_only": false
    }
   },
   "outputs": [],
   "source": [
    "# Remove multiple nationalities, genders, and artists.\n",
    "artworks.loc[artworks['Gender'].str.contains('\\) \\('), 'Gender'] = '\\(multiple_persons\\)'\n",
    "artworks.loc[artworks['Nationality'].str.contains('\\) \\('), 'Nationality'] = '\\(multiple_nationalities\\)'\n",
    "artworks.loc[artworks['Artist'].str.contains(','), 'Artist'] = 'Multiple_Artists'\n",
    "\n",
    "# Convert dates to start date, cutting down number of distinct examples.\n",
    "artworks['Date'] = pd.Series(artworks.Date.str.extract(\n",
    "    '([0-9]{4})', expand=False))[:-1]\n",
    "\n",
    "# Final column drops and NA drop.\n",
    "X = artworks.drop(['Department', 'DateAcquired', 'Artist', 'Nationality', 'Date'], 1)\n",
    "\n",
    "# Create dummies separately.\n",
    "artists = pd.get_dummies(artworks.Artist)\n",
    "nationalities = pd.get_dummies(artworks.Nationality)\n",
    "dates = pd.get_dummies(artworks.Date)\n",
    "\n",
    "# Concat with other variables, but artists slows this wayyyyy down so we'll keep it out for now\n",
    "X = pd.get_dummies(X, sparse=True)\n",
    "X = pd.concat([X, nationalities, dates], axis=1)\n",
    "\n",
    "Y = artworks.Department"
   ]
  },
  {
   "cell_type": "code",
   "execution_count": 8,
   "metadata": {
    "ExecuteTime": {
     "end_time": "2019-01-22T17:44:03.583153Z",
     "start_time": "2019-01-22T17:44:03.506626Z"
    }
   },
   "outputs": [
    {
     "data": {
      "text/html": [
       "<div>\n",
       "<style scoped>\n",
       "    .dataframe tbody tr th:only-of-type {\n",
       "        vertical-align: middle;\n",
       "    }\n",
       "\n",
       "    .dataframe tbody tr th {\n",
       "        vertical-align: top;\n",
       "    }\n",
       "\n",
       "    .dataframe thead th {\n",
       "        text-align: right;\n",
       "    }\n",
       "</style>\n",
       "<table border=\"1\" class=\"dataframe\">\n",
       "  <thead>\n",
       "    <tr style=\"text-align: right;\">\n",
       "      <th></th>\n",
       "      <th>URL</th>\n",
       "      <th>ThumbnailURL</th>\n",
       "      <th>Height (cm)</th>\n",
       "      <th>Width (cm)</th>\n",
       "      <th>YearAcquired</th>\n",
       "      <th>Gender_()</th>\n",
       "      <th>Gender_(Female)</th>\n",
       "      <th>Gender_(Male)</th>\n",
       "      <th>Gender_(male)</th>\n",
       "      <th>Gender_\\(multiple_persons\\)</th>\n",
       "      <th>...</th>\n",
       "      <th>2009</th>\n",
       "      <th>2010</th>\n",
       "      <th>2011</th>\n",
       "      <th>2012</th>\n",
       "      <th>2013</th>\n",
       "      <th>2014</th>\n",
       "      <th>2015</th>\n",
       "      <th>2016</th>\n",
       "      <th>2017</th>\n",
       "      <th>2018</th>\n",
       "    </tr>\n",
       "  </thead>\n",
       "  <tbody>\n",
       "    <tr>\n",
       "      <th>118895</th>\n",
       "      <td>True</td>\n",
       "      <td>True</td>\n",
       "      <td>17.780036</td>\n",
       "      <td>25.400051</td>\n",
       "      <td>2013</td>\n",
       "      <td>0</td>\n",
       "      <td>0</td>\n",
       "      <td>0</td>\n",
       "      <td>0</td>\n",
       "      <td>1</td>\n",
       "      <td>...</td>\n",
       "      <td>0</td>\n",
       "      <td>0</td>\n",
       "      <td>0</td>\n",
       "      <td>0</td>\n",
       "      <td>0</td>\n",
       "      <td>0</td>\n",
       "      <td>0</td>\n",
       "      <td>0</td>\n",
       "      <td>0</td>\n",
       "      <td>0</td>\n",
       "    </tr>\n",
       "    <tr>\n",
       "      <th>133258</th>\n",
       "      <td>False</td>\n",
       "      <td>False</td>\n",
       "      <td>5.080010</td>\n",
       "      <td>5.080010</td>\n",
       "      <td>2017</td>\n",
       "      <td>1</td>\n",
       "      <td>0</td>\n",
       "      <td>0</td>\n",
       "      <td>0</td>\n",
       "      <td>0</td>\n",
       "      <td>...</td>\n",
       "      <td>0</td>\n",
       "      <td>0</td>\n",
       "      <td>0</td>\n",
       "      <td>0</td>\n",
       "      <td>0</td>\n",
       "      <td>0</td>\n",
       "      <td>0</td>\n",
       "      <td>0</td>\n",
       "      <td>0</td>\n",
       "      <td>0</td>\n",
       "    </tr>\n",
       "    <tr>\n",
       "      <th>51064</th>\n",
       "      <td>False</td>\n",
       "      <td>False</td>\n",
       "      <td>35.500000</td>\n",
       "      <td>27.600000</td>\n",
       "      <td>1984</td>\n",
       "      <td>0</td>\n",
       "      <td>0</td>\n",
       "      <td>1</td>\n",
       "      <td>0</td>\n",
       "      <td>0</td>\n",
       "      <td>...</td>\n",
       "      <td>0</td>\n",
       "      <td>0</td>\n",
       "      <td>0</td>\n",
       "      <td>0</td>\n",
       "      <td>0</td>\n",
       "      <td>0</td>\n",
       "      <td>0</td>\n",
       "      <td>0</td>\n",
       "      <td>0</td>\n",
       "      <td>0</td>\n",
       "    </tr>\n",
       "    <tr>\n",
       "      <th>33819</th>\n",
       "      <td>True</td>\n",
       "      <td>True</td>\n",
       "      <td>22.200000</td>\n",
       "      <td>16.500000</td>\n",
       "      <td>1978</td>\n",
       "      <td>0</td>\n",
       "      <td>0</td>\n",
       "      <td>1</td>\n",
       "      <td>0</td>\n",
       "      <td>0</td>\n",
       "      <td>...</td>\n",
       "      <td>0</td>\n",
       "      <td>0</td>\n",
       "      <td>0</td>\n",
       "      <td>0</td>\n",
       "      <td>0</td>\n",
       "      <td>0</td>\n",
       "      <td>0</td>\n",
       "      <td>0</td>\n",
       "      <td>0</td>\n",
       "      <td>0</td>\n",
       "    </tr>\n",
       "    <tr>\n",
       "      <th>77809</th>\n",
       "      <td>True</td>\n",
       "      <td>True</td>\n",
       "      <td>23.800000</td>\n",
       "      <td>17.800000</td>\n",
       "      <td>2008</td>\n",
       "      <td>0</td>\n",
       "      <td>1</td>\n",
       "      <td>0</td>\n",
       "      <td>0</td>\n",
       "      <td>0</td>\n",
       "      <td>...</td>\n",
       "      <td>0</td>\n",
       "      <td>0</td>\n",
       "      <td>0</td>\n",
       "      <td>0</td>\n",
       "      <td>0</td>\n",
       "      <td>0</td>\n",
       "      <td>0</td>\n",
       "      <td>0</td>\n",
       "      <td>0</td>\n",
       "      <td>0</td>\n",
       "    </tr>\n",
       "  </tbody>\n",
       "</table>\n",
       "<p>5 rows × 317 columns</p>\n",
       "</div>"
      ],
      "text/plain": [
       "          URL  ThumbnailURL  Height (cm)  Width (cm)  YearAcquired  Gender_()  \\\n",
       "118895   True          True    17.780036   25.400051          2013          0   \n",
       "133258  False         False     5.080010    5.080010          2017          1   \n",
       "51064   False         False    35.500000   27.600000          1984          0   \n",
       "33819    True          True    22.200000   16.500000          1978          0   \n",
       "77809    True          True    23.800000   17.800000          2008          0   \n",
       "\n",
       "        Gender_(Female)  Gender_(Male)  Gender_(male)  \\\n",
       "118895                0              0              0   \n",
       "133258                0              0              0   \n",
       "51064                 0              1              0   \n",
       "33819                 0              1              0   \n",
       "77809                 1              0              0   \n",
       "\n",
       "        Gender_\\(multiple_persons\\)  ...   2009  2010  2011  2012  2013  2014  \\\n",
       "118895                            1  ...      0     0     0     0     0     0   \n",
       "133258                            0  ...      0     0     0     0     0     0   \n",
       "51064                             0  ...      0     0     0     0     0     0   \n",
       "33819                             0  ...      0     0     0     0     0     0   \n",
       "77809                             0  ...      0     0     0     0     0     0   \n",
       "\n",
       "        2015  2016  2017  2018  \n",
       "118895     0     0     0     0  \n",
       "133258     0     0     0     0  \n",
       "51064      0     0     0     0  \n",
       "33819      0     0     0     0  \n",
       "77809      0     0     0     0  \n",
       "\n",
       "[5 rows x 317 columns]"
      ]
     },
     "execution_count": 8,
     "metadata": {},
     "output_type": "execute_result"
    }
   ],
   "source": [
    "X.sample(5)"
   ]
  },
  {
   "cell_type": "code",
   "execution_count": 9,
   "metadata": {
    "ExecuteTime": {
     "end_time": "2019-01-22T18:54:43.645229Z",
     "start_time": "2019-01-22T17:45:01.658136Z"
    },
    "run_control": {
     "frozen": false,
     "read_only": false
    }
   },
   "outputs": [
    {
     "name": "stdout",
     "output_type": "stream",
     "text": [
      "Iteration 1, loss = 4.00782742\n",
      "Iteration 2, loss = 2.93291394\n",
      "Iteration 3, loss = 2.23518849\n",
      "Iteration 4, loss = 2.01321871\n",
      "Iteration 5, loss = 1.92542262\n",
      "Iteration 6, loss = 2.02078794\n",
      "Iteration 7, loss = 1.42789613\n",
      "Iteration 8, loss = 1.56561273\n",
      "Iteration 9, loss = 1.65082540\n",
      "Iteration 10, loss = 1.16254000\n",
      "Iteration 11, loss = 1.26439378\n",
      "Iteration 12, loss = 1.27847463\n",
      "Iteration 13, loss = 1.07209515\n",
      "Iteration 14, loss = 1.03397713\n",
      "Iteration 15, loss = 0.98280596\n",
      "Iteration 16, loss = 0.98952206\n",
      "Iteration 17, loss = 0.95863539\n",
      "Iteration 18, loss = 0.90029563\n",
      "Iteration 19, loss = 0.81618236\n",
      "Iteration 20, loss = 0.79073363\n",
      "Iteration 21, loss = 0.84328643\n",
      "Iteration 22, loss = 0.78892913\n",
      "Iteration 23, loss = 0.75422468\n",
      "Iteration 24, loss = 0.74297808\n",
      "Iteration 25, loss = 0.71459241\n",
      "Iteration 26, loss = 0.70694062\n",
      "Iteration 27, loss = 0.69325014\n",
      "Iteration 28, loss = 0.67477734\n",
      "Iteration 29, loss = 0.69617994\n",
      "Iteration 30, loss = 0.64833056\n",
      "Iteration 31, loss = 0.65998872\n",
      "Iteration 32, loss = 0.66745707\n",
      "Iteration 33, loss = 0.68808551\n",
      "Iteration 34, loss = 0.63192889\n",
      "Iteration 35, loss = 0.64057202\n",
      "Iteration 36, loss = 0.63035498\n",
      "Iteration 37, loss = 0.63678326\n",
      "Iteration 38, loss = 0.62271372\n",
      "Iteration 39, loss = 0.61226216\n",
      "Iteration 40, loss = 0.60600914\n",
      "Iteration 41, loss = 0.61844699\n",
      "Iteration 42, loss = 0.59892083\n",
      "Iteration 43, loss = 0.60617209\n",
      "Iteration 44, loss = 0.60483907\n",
      "Iteration 45, loss = 0.59492813\n",
      "Iteration 46, loss = 0.59736048\n",
      "Iteration 47, loss = 0.58785867\n",
      "Iteration 48, loss = 0.59210736\n",
      "Iteration 49, loss = 0.58605982\n",
      "Iteration 50, loss = 0.58363175\n",
      "Iteration 51, loss = 0.58889466\n",
      "Iteration 52, loss = 0.58543564\n",
      "Iteration 53, loss = 0.58246178\n",
      "Iteration 54, loss = 0.57877128\n",
      "Iteration 55, loss = 0.58036083\n",
      "Iteration 56, loss = 0.57149421\n",
      "Iteration 57, loss = 0.57991251\n",
      "Iteration 58, loss = 0.56967366\n",
      "Iteration 59, loss = 0.57821138\n",
      "Iteration 60, loss = 0.56941765\n",
      "Iteration 61, loss = 0.57145695\n",
      "Iteration 62, loss = 0.56631381\n",
      "Iteration 63, loss = 0.56881272\n",
      "Iteration 64, loss = 0.56631640\n",
      "Iteration 65, loss = 0.56816459\n",
      "Iteration 66, loss = 0.56531774\n",
      "Iteration 67, loss = 0.56108241\n",
      "Iteration 68, loss = 0.56597810\n",
      "Iteration 69, loss = 0.55567744\n",
      "Iteration 70, loss = 0.56657987\n",
      "Iteration 71, loss = 0.55752372\n",
      "Iteration 72, loss = 0.55792068\n",
      "Iteration 73, loss = 0.56163718\n",
      "Iteration 74, loss = 0.55672866\n",
      "Iteration 75, loss = 0.55560441\n",
      "Iteration 76, loss = 0.55440413\n",
      "Iteration 77, loss = 0.55226878\n",
      "Iteration 78, loss = 0.55395188\n",
      "Iteration 79, loss = 0.55147920\n",
      "Iteration 80, loss = 0.54887741\n",
      "Iteration 81, loss = 0.55068150\n",
      "Iteration 82, loss = 0.55096014\n",
      "Iteration 83, loss = 0.54644446\n",
      "Iteration 84, loss = 0.55085249\n",
      "Iteration 85, loss = 0.54876834\n",
      "Iteration 86, loss = 0.54974379\n",
      "Iteration 87, loss = 0.54561084\n",
      "Iteration 88, loss = 0.54512061\n",
      "Iteration 89, loss = 0.54762533\n",
      "Iteration 90, loss = 0.54512194\n",
      "Iteration 91, loss = 0.54137935\n",
      "Iteration 92, loss = 0.54602945\n",
      "Iteration 93, loss = 0.54284758\n",
      "Iteration 94, loss = 0.54542380\n",
      "Iteration 95, loss = 0.54319871\n",
      "Iteration 96, loss = 0.54058067\n",
      "Iteration 97, loss = 0.54120518\n",
      "Iteration 98, loss = 0.54042118\n",
      "Iteration 99, loss = 0.54005074\n",
      "Iteration 100, loss = 0.53981995\n",
      "Iteration 101, loss = 0.54205918\n",
      "Iteration 102, loss = 0.54075865\n",
      "Iteration 103, loss = 0.54344393\n",
      "Iteration 104, loss = 0.53881809\n",
      "Iteration 105, loss = 0.53499954\n",
      "Iteration 106, loss = 0.53756821\n",
      "Iteration 107, loss = 0.53327117\n",
      "Iteration 108, loss = 0.53692582\n",
      "Iteration 109, loss = 0.53523997\n",
      "Iteration 110, loss = 0.53586531\n",
      "Iteration 111, loss = 0.53467803\n",
      "Iteration 112, loss = 0.53466119\n",
      "Iteration 113, loss = 0.52996905\n",
      "Iteration 114, loss = 0.53326378\n",
      "Iteration 115, loss = 0.53246646\n",
      "Iteration 116, loss = 0.52997775\n",
      "Iteration 117, loss = 0.53149809\n",
      "Iteration 118, loss = 0.53056661\n",
      "Iteration 119, loss = 0.53001929\n",
      "Iteration 120, loss = 0.53240428\n",
      "Iteration 121, loss = 0.52852121\n",
      "Iteration 122, loss = 0.53397629\n",
      "Iteration 123, loss = 0.53221241\n",
      "Iteration 124, loss = 0.52778822\n",
      "Iteration 125, loss = 0.53385482\n",
      "Iteration 126, loss = 0.53051972\n",
      "Iteration 127, loss = 0.53578709\n",
      "Iteration 128, loss = 0.53116138\n",
      "Iteration 129, loss = 0.52932685\n",
      "Iteration 130, loss = 0.52953396\n",
      "Iteration 131, loss = 0.52920243\n",
      "Iteration 132, loss = 0.52542242\n",
      "Iteration 133, loss = 0.52458712\n",
      "Iteration 134, loss = 0.52979988\n",
      "Iteration 135, loss = 0.52813676\n",
      "Iteration 136, loss = 0.52551414\n",
      "Iteration 137, loss = 0.52315097\n",
      "Iteration 138, loss = 0.52585044\n",
      "Iteration 139, loss = 0.52756454\n",
      "Iteration 140, loss = 0.52674699\n",
      "Iteration 141, loss = 0.52077289\n",
      "Iteration 142, loss = 0.52235841\n",
      "Iteration 143, loss = 0.52253146\n",
      "Iteration 144, loss = 0.52194546\n",
      "Iteration 145, loss = 0.52140161\n",
      "Iteration 146, loss = 0.52239792\n",
      "Iteration 147, loss = 0.52129369\n",
      "Iteration 148, loss = 0.52140692\n",
      "Iteration 149, loss = 0.52141557\n",
      "Iteration 150, loss = 0.52092596\n",
      "Iteration 151, loss = 0.52014124\n",
      "Iteration 152, loss = 0.51916384\n",
      "Iteration 153, loss = 0.52075455\n",
      "Iteration 154, loss = 0.51861694\n",
      "Iteration 155, loss = 0.51713638\n",
      "Iteration 156, loss = 0.51950186\n",
      "Iteration 157, loss = 0.51830663\n",
      "Iteration 158, loss = 0.51748438\n",
      "Iteration 159, loss = 0.51984126\n",
      "Iteration 160, loss = 0.52208221\n",
      "Iteration 161, loss = 0.52048525\n",
      "Iteration 162, loss = 0.51852227\n",
      "Iteration 163, loss = 0.51855656\n",
      "Iteration 164, loss = 0.51914837\n",
      "Iteration 165, loss = 0.51625877\n",
      "Iteration 166, loss = 0.51435525\n",
      "Iteration 167, loss = 0.51664765\n",
      "Iteration 168, loss = 0.51266029\n",
      "Iteration 169, loss = 0.52060517\n",
      "Iteration 170, loss = 0.51873098\n",
      "Iteration 171, loss = 0.51665012\n",
      "Iteration 172, loss = 0.51832128\n",
      "Iteration 173, loss = 0.51443929\n",
      "Iteration 174, loss = 0.51005426\n",
      "Iteration 175, loss = 0.51321934\n",
      "Iteration 176, loss = 0.51684059\n",
      "Iteration 177, loss = 0.51370095\n",
      "Iteration 178, loss = 0.51452359\n",
      "Iteration 179, loss = 0.51678293\n",
      "Iteration 180, loss = 0.51063022\n",
      "Iteration 181, loss = 0.51176311\n",
      "Iteration 182, loss = 0.51583407\n",
      "Iteration 183, loss = 0.51477356\n",
      "Iteration 184, loss = 0.51431969\n",
      "Iteration 185, loss = 0.51220741\n",
      "Training loss did not improve more than tol=0.000100 for 10 consecutive epochs. Stopping.\n"
     ]
    },
    {
     "data": {
      "text/plain": [
       "MLPClassifier(activation='relu', alpha=0.0001, batch_size='auto', beta_1=0.9,\n",
       "       beta_2=0.999, early_stopping=False, epsilon=1e-08,\n",
       "       hidden_layer_sizes=(1000,), learning_rate='constant',\n",
       "       learning_rate_init=0.001, max_iter=200, momentum=0.9,\n",
       "       n_iter_no_change=10, nesterovs_momentum=True, power_t=0.5,\n",
       "       random_state=None, shuffle=True, solver='adam', tol=0.0001,\n",
       "       validation_fraction=0.1, verbose=True, warm_start=False)"
      ]
     },
     "execution_count": 9,
     "metadata": {},
     "output_type": "execute_result"
    }
   ],
   "source": [
    "# Alright! We've done our prep, let's build the model.\n",
    "# Neural networks are hugely computationally intensive.\n",
    "# This may take several minutes to run.\n",
    "\n",
    "# Import the model.\n",
    "from sklearn.neural_network import MLPClassifier\n",
    "\n",
    "# Establish and fit the model, with a single, 1000 perceptron layer.\n",
    "mlp = MLPClassifier(hidden_layer_sizes=(1000,), verbose=True)\n",
    "mlp.fit(X, Y)"
   ]
  },
  {
   "cell_type": "code",
   "execution_count": 10,
   "metadata": {
    "ExecuteTime": {
     "end_time": "2019-01-22T19:03:01.435344Z",
     "start_time": "2019-01-22T19:02:55.085356Z"
    },
    "run_control": {
     "frozen": false,
     "read_only": false
    }
   },
   "outputs": [
    {
     "data": {
      "text/plain": [
       "0.8102649255131524"
      ]
     },
     "execution_count": 10,
     "metadata": {},
     "output_type": "execute_result"
    }
   ],
   "source": [
    "mlp.score(X, Y)"
   ]
  },
  {
   "cell_type": "code",
   "execution_count": 11,
   "metadata": {
    "ExecuteTime": {
     "end_time": "2019-01-22T19:03:37.293742Z",
     "start_time": "2019-01-22T19:03:37.270528Z"
    },
    "run_control": {
     "frozen": false,
     "read_only": false
    }
   },
   "outputs": [
    {
     "data": {
      "text/plain": [
       "Drawings & Prints        0.623907\n",
       "Photography              0.228367\n",
       "Architecture & Design    0.113607\n",
       "Painting & Sculpture     0.034119\n",
       "Name: Department, dtype: float64"
      ]
     },
     "execution_count": 11,
     "metadata": {},
     "output_type": "execute_result"
    }
   ],
   "source": [
    "Y.value_counts()/len(Y)"
   ]
  },
  {
   "cell_type": "code",
   "execution_count": null,
   "metadata": {
    "ExecuteTime": {
     "start_time": "2019-01-22T19:03:45.228Z"
    },
    "run_control": {
     "frozen": false,
     "read_only": false
    }
   },
   "outputs": [
    {
     "name": "stdout",
     "output_type": "stream",
     "text": [
      "Iteration 1, loss = 4.01886379\n",
      "Iteration 2, loss = 2.95507864\n",
      "Iteration 3, loss = 2.29655520\n",
      "Iteration 4, loss = 2.26390180\n",
      "Iteration 5, loss = 2.23691121\n",
      "Iteration 6, loss = 2.16667253\n"
     ]
    },
    {
     "name": "stderr",
     "output_type": "stream",
     "text": [
      "/Users/mitchellmurphy/anaconda3/envs/python3.5/lib/python3.6/site-packages/sklearn/neural_network/multilayer_perceptron.py:564: UserWarning: Training interrupted by user.\n",
      "  warnings.warn(\"Training interrupted by user.\")\n"
     ]
    },
    {
     "name": "stdout",
     "output_type": "stream",
     "text": [
      "Iteration 1, loss = 4.76268320\n",
      "Iteration 2, loss = 2.73672831\n"
     ]
    }
   ],
   "source": [
    "from sklearn.model_selection import cross_val_score\n",
    "cross_val_score(mlp, X, Y, cv=5)"
   ]
  },
  {
   "cell_type": "markdown",
   "metadata": {
    "run_control": {
     "frozen": false,
     "read_only": false
    }
   },
   "source": [
    "Now we got a lot of information from all of this. Firstly we can see that the model seems to overfit, though there is still so remaining performance when validated with cross validation. This is a feature of neural networks that aren't given enough data for the number of features present. _Neural networks, in general, like_ a lot _of data_. You may also have noticed something also about neural networks: _they can take a_ long _time to run_. Try increasing the layer size by adding a zero. Feel free to interrupt the kernel if you don't have time...\n",
    "\n",
    "Also note that we created bools for artist's name but left them out. Both of the above points are the reason for that. It would take much longer to run and it would be much more prone to overfitting."
   ]
  },
  {
   "cell_type": "markdown",
   "metadata": {
    "collapsed": true,
    "run_control": {
     "frozen": false,
     "read_only": false
    }
   },
   "source": [
    "## Model parameters\n",
    "\n",
    "Now, before we move on and let you loose with some tasks to work on the model, let's go over the parameters.\n",
    "\n",
    "We included one parameter: hidden layer size. Remember in the previous lesson, when we talked about layers in a neural network. This tells us how many and how big to make our layers. Pass in a tuple that specifies each layer's size. Our network is 1000 neurons wide and one layer. (100, 4, ) would create a network with two layers, one 100 wide and the other 4.\n",
    "\n",
    "How many layers to include is determined by two things: computational resources and cross validation searching for convergence. It's generally less than the number of input variables you have.\n",
    "\n",
    "You can also set an alpha. Neural networks like this use a regularization parameter that penalizes large coefficients just like we discussed in the advanced regression section. Alpha scales that penalty.\n",
    "\n",
    "Lastly, we'll discuss the activation function. The activation function determines whether the output from an individual perceptron is binary or continuous. By default this is a 'relu', or 'rectified linear unit function' function. In the exercise we went through earlier we used this binary function, but we discussed the _sigmoid_ as a reasonable alternative. The _sigmoid_ (called 'logistic' by SKLearn because it's a 'logistic sigmoid function') allows for continuous variables between 0 and 1, which allows for a more nuanced model. It does come at the cost of increased computational complexity.\n",
    "\n",
    "If you want to learn more about these, study [activation functions](https://en.wikipedia.org/wiki/Activation_function) and [multilayer perceptrons](https://en.wikipedia.org/wiki/Multilayer_perceptron). The [Deep Learning](http://www.deeplearningbook.org/) book referenced earlier goes into great detail on the linear algebra involved.\n",
    "\n",
    "You could also just test the models with cross validation. Unless neural networks are your specialty cross validation should be sufficient.\n",
    "\n",
    "For the other parameters and their defaults, check out the [MLPClassifier documentaiton](http://scikit-learn.org/stable/modules/generated/sklearn.neural_network.MLPClassifier.html#sklearn.neural_network.MLPClassifier)."
   ]
  },
  {
   "cell_type": "markdown",
   "metadata": {},
   "source": [
    "## Drill: Playing with layers\n",
    "\n",
    "Now it's your turn. Using the space below, experiment with different hidden layer structures. You can try this on a subset of the data to improve runtime. See how things vary. See what seems to matter the most. Feel free to manipulate other parameters as well. It may also be beneficial to do some real feature selection work..."
   ]
  },
  {
   "cell_type": "code",
   "execution_count": null,
   "metadata": {
    "ExecuteTime": {
     "end_time": "2019-01-22T03:35:00.480140Z",
     "start_time": "2019-01-22T03:33:41.201Z"
    }
   },
   "outputs": [],
   "source": [
    "# Your code here. Experiment with hidden layers to build your own model.\n",
    "X_train, X_test, Y_train, Y_test = train_test_split(X, Y, test_size=0.75, random_state=0)"
   ]
  },
  {
   "cell_type": "markdown",
   "metadata": {},
   "source": [
    "**Hidden layer size**"
   ]
  },
  {
   "cell_type": "code",
   "execution_count": null,
   "metadata": {
    "ExecuteTime": {
     "end_time": "2019-01-22T03:35:00.514218Z",
     "start_time": "2019-01-22T03:34:25.270Z"
    }
   },
   "outputs": [],
   "source": [
    "mlp_hls = MLPClassifier(hidden_layer_sizes=(500,))\n",
    "mlp_hls.fit(X_train, Y_train)\n",
    "mlp_hls.score(X_train, Y_train)\n",
    "Y.value_counts()/len(Y)\n",
    "cross_val_score(mlp_hls, X_test, Y_test, cv=5)"
   ]
  },
  {
   "cell_type": "markdown",
   "metadata": {},
   "source": [
    "**Number of Layers**"
   ]
  },
  {
   "cell_type": "code",
   "execution_count": null,
   "metadata": {},
   "outputs": [],
   "source": [
    "mlp_n = MLPClassifier(hidden_layer_sizes=(500,500))\n",
    "mlp_n.fit(X_train, Y_train)\n",
    "mlp_n.score(X_train, Y_train)\n",
    "Y.value_counts()/len(Y)\n",
    "cross_val_score(mlp_n, X_test, Y_test, cv=5)"
   ]
  },
  {
   "cell_type": "markdown",
   "metadata": {},
   "source": [
    "**Regularization term**"
   ]
  },
  {
   "cell_type": "code",
   "execution_count": null,
   "metadata": {},
   "outputs": [],
   "source": [
    "mlp_a = MLPClassifier(hidden_layer_sizes=(1000,),alpha=0.001)\n",
    "mlp_a.fit(X_train, Y_train)\n",
    "mlp_a.score(X_train, Y_train)\n",
    "Y.value_counts()/len(Y)\n",
    "cross_val_score(mlp_a, X_test, Y_test, cv=5)"
   ]
  },
  {
   "cell_type": "markdown",
   "metadata": {},
   "source": [
    "**Activation Function**"
   ]
  },
  {
   "cell_type": "code",
   "execution_count": null,
   "metadata": {},
   "outputs": [],
   "source": [
    "mlp_af = MLPClassifier(hidden_layer_sizes=(1000,),activation='logistic')\n",
    "mlp_af.fit(X_train, Y_train)\n",
    "mlp_af.score(X_train, Y_train)\n",
    "Y.value_counts()/len(Y)\n",
    "cross_val_score(mlp_af, X_test, Y_test, cv=5)"
   ]
  }
 ],
 "metadata": {
  "hide_input": false,
  "kernelspec": {
   "display_name": "Python 3",
   "language": "python",
   "name": "python3"
  },
  "language_info": {
   "codemirror_mode": {
    "name": "ipython",
    "version": 3
   },
   "file_extension": ".py",
   "mimetype": "text/x-python",
   "name": "python",
   "nbconvert_exporter": "python",
   "pygments_lexer": "ipython3",
   "version": "3.6.6"
  },
  "latex_envs": {
   "LaTeX_envs_menu_present": true,
   "autoclose": false,
   "autocomplete": true,
   "bibliofile": "biblio.bib",
   "cite_by": "apalike",
   "current_citInitial": 1,
   "eqLabelWithNumbers": true,
   "eqNumInitial": 1,
   "hotkeys": {
    "equation": "Ctrl-E",
    "itemize": "Ctrl-I"
   },
   "labels_anchors": false,
   "latex_user_defs": false,
   "report_style_numbering": false,
   "user_envs_cfg": false
  },
  "toc": {
   "base_numbering": 1,
   "nav_menu": {
    "height": "86px",
    "width": "252px"
   },
   "number_sections": true,
   "sideBar": true,
   "skip_h1_title": false,
   "title_cell": "Table of Contents",
   "title_sidebar": "Contents",
   "toc_cell": false,
   "toc_position": {},
   "toc_section_display": "block",
   "toc_window_display": false
  },
  "varInspector": {
   "cols": {
    "lenName": 16,
    "lenType": 16,
    "lenVar": 40
   },
   "kernels_config": {
    "python": {
     "delete_cmd_postfix": "",
     "delete_cmd_prefix": "del ",
     "library": "var_list.py",
     "varRefreshCmd": "print(var_dic_list())"
    },
    "r": {
     "delete_cmd_postfix": ") ",
     "delete_cmd_prefix": "rm(",
     "library": "var_list.r",
     "varRefreshCmd": "cat(var_dic_list()) "
    }
   },
   "types_to_exclude": [
    "module",
    "function",
    "builtin_function_or_method",
    "instance",
    "_Feature"
   ],
   "window_display": false
  }
 },
 "nbformat": 4,
 "nbformat_minor": 2
}
