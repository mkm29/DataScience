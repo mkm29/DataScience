{
 "cells": [
  {
   "cell_type": "markdown",
   "metadata": {},
   "source": [
    "Looking at Amazon's robots.txt file (or Twitter's, or Facebook's), you may be surprised to see them prohibit or severely restrict scraping.  Aren't there a lot of projects online using Twitter data?  And how dare they keep all that delicious, delicious information to themselves?  But before you start setting `'ROBOTSTXT_OBEY' = False`, read on!\n",
    "\n",
    "Most of The Big Websites (Google, Facebook, Twitter, etc) have APIs that allow you to access their information programmatically without using webpages.  This is good for both you and the website.  With an API, you can ask the server to send you only the specific information you want, without having to retrieve, filter out, and discard the CSS, HTML, PHP, and other code from the website.  This minimizes demand on the server and speeds up your task.  \n",
    "\n",
    "APIs typically include their own throttling to keep you from overloading the server, usually done by limiting the number of server requests per hour to a certain number.  \n",
    "\n",
    "To access an API, you will usually need an API key or token that uniquely identifies you.  This lets the company or service providing the API keep an eye on your usage and track what you are doing.  Different API keys can also be associated with different levels of authorization and access, so they work as a data security measure.  Keys or tokens may also be set to expire after a certain amount of time or number of uses.\n",
    "\n",
    "## Anatomy of an API\n",
    "\n",
    "*Access*- You request a key.  Your program provides the key with each API call, and it determines what your program can do in the API.  \n",
    "*Requests*- Your program requests the data you want with a call to the API.  The request will be made up of a method (type of query, using language defined by the API) and parameters (refine the query).  \n",
    "*Response*- The data returned by the API, usually in a common format such as JSON that your program can parse.  \n",
    "\n",
    "The specific syntax for each of these elements, and the format of the response, will vary from API to API.  In addition, APIs vary widely in their level of documentation and ease of use.  Before diving too deeply into an API-scraping project, do some judicious googling and if you see a lot of posts [like this one](https://mollyrocket.com/casey/stream_0029.html) consider going elsewhere.  Not all websites put their APIs front-and-center (did you know there are APIs for [NASA](https://api.nasa.gov/), [Marvel Comics](http://developer.marvel.com/), and [Star Wars](https://swapi.co/)?) so google will be your friend there as well.\n",
    "\n",
    "## Basics of API Queries: Wikipedia's API\n",
    "\n",
    "The process of using an API sounds a lot like scraping (make request, get response), but with an occasional added authorization layer.  Scrapy can handle authorization, so we can use it to access APIs too.\n",
    "\n",
    "That said, the first API we'll pull from is [Wikipedia's](https://www.mediawiki.org/wiki/API:Main_page), which doesn't require an authorization key.  Aside from needing to master the API's language, you'll find that using scrapy with an API is very similar to using scrapy on a website.\n",
    "\n",
    "We want to know what other entries on Wikipedia link to the [Monty Python](https://en.wikipedia.org/wiki/Monty_Python) page.  To do this, we can build a query using the [Wikipedia API Sandbox](https://en.wikipedia.org/wiki/Special:ApiSandbox).  Someone who is comfortable with the MediaWiki API syntax wouldn't need to use the sandbox, but for beginners it is very handy.  Note that API queries are nothing like SQL queries in syntax, despite their shared name.\n",
    "\n",
    "The query we will use looks like this:\n",
    "`https://en.wikipedia.org/w/api.php?action=query&format=xml&prop=linkshere&titles=Monty_Python&lhprop=title%7Credirect`\n",
    "\n",
    "Let's break that down into it's components:\n",
    "\n",
    "* `w/api.php`\n",
    "    * Tells the server that we are using the API to pull info, rather than scraping the raw pages.  \n",
    "    \n",
    "* `action=query`   \n",
    "    * We want information from the API (as opposed to changing information in the API)  \n",
    "    \n",
    "* `format=xml`  \n",
    "    * Format the return in xml- then we will parse it with xpath  \n",
    "    \n",
    "* `prop=linkshere`  \n",
    "    * We are interested in which pages link to our target page \n",
    "    \n",
    "* `titles=Monty_Python`  \n",
    "    * The target page is the Monty Python page.  Note that we used the exact name of the wikipedia page (Monty_Python).  \n",
    "    \n",
    "* `lhprop=title`  \n",
    "    * From those links, we want the title of each page  \n",
    "    \n",
    "* `redirect`  \n",
    "    * We also want to know if that link is a redirect  \n",
    "    \n",
    "\n",
    "The syntax of the MediaWiki API is based on php, thus the inclusion of `?` and `&` in the query.\n",
    "\n",
    "For most of the query elements, we could have passed multiple arguments.  For example, we could request the URL as well as the title of the linking pages, or asked for all the pages that link to Monty_Python and to Monty_Python's_Flying_Circus.  \n",
    "\n",
    "A query like this highlights why APIs are so handy.  Without an API, to find out the name of every page on Wikipedia that links to the Monty Python page we would have to scrape every single one of the 5,000,000+ articles in the English-language Wikipedia.  \n",
    "\n",
    "If you haven't done so already, click on the query link above and see what it returns.\n",
    "\n",
    "\n",
    "\n",
    "## Why use Scrapy for API calls\n",
    "\n",
    "For some API calls, scrapy would be overkill.  If you know that your query can be answered in one response, then you don't need scrapy- you can use the `requests` library to make your API call and a library like `lxml` to parse the return.\n",
    "\n",
    "The Wikipedia API, however, will only return ten items at a time in response to a query.  This sort of limitation is common to APIs to avoid overwhelming the server.  We can use scrapy to iterate over query results the same way that we iterated over the pages of the EverydaySexism website. \n",
    "\n",
    "Let's see the Wikipedia API and scrapy in action:\n",
    "\n"
   ]
  },
  {
   "cell_type": "code",
   "execution_count": 1,
   "metadata": {
    "ExecuteTime": {
     "end_time": "2019-03-09T20:13:00.708957Z",
     "start_time": "2019-03-09T20:12:47.853850Z"
    },
    "scrolled": false
   },
   "outputs": [
    {
     "name": "stdout",
     "output_type": "stream",
     "text": [
      "First 100 links extracted!\n"
     ]
    }
   ],
   "source": [
    "import scrapy\n",
    "from scrapy.crawler import CrawlerProcess\n",
    "\n",
    "\n",
    "class WikiSpider(scrapy.Spider):\n",
    "    name = \"WS\"\n",
    "    \n",
    "    # Here is where we insert our API call.\n",
    "    start_urls = [\n",
    "        'https://en.wikipedia.org/w/api.php?action=query&format=xml&prop=linkshere&titles=Monty_Python&lhprop=title%7Credirect'\n",
    "        ]\n",
    "\n",
    "    # Identifying the information we want from the query response and extracting it using xpath.\n",
    "    def parse(self, response):\n",
    "        for item in response.xpath('//lh'):\n",
    "            # The ns code identifies the type of page the link comes from.  '0' means it is a Wikipedia entry.\n",
    "            # Other codes indicate links from 'Talk' pages, etc.  Since we are only interested in entries, we filter:\n",
    "            if item.xpath('@ns').extract_first() == '0':\n",
    "                yield {\n",
    "                    'title': item.xpath('@title').extract_first() \n",
    "                    }\n",
    "        # Getting the information needed to continue to the next ten entries.\n",
    "        next_page = response.xpath('continue/@lhcontinue').extract_first()\n",
    "        \n",
    "        # Recursively calling the spider to process the next ten entries, if they exist.\n",
    "        if next_page is not None:\n",
    "            next_page = '{}&lhcontinue={}'.format(self.start_urls[0],next_page)\n",
    "            yield scrapy.Request(next_page, callback=self.parse)\n",
    "            \n",
    "    \n",
    "process = CrawlerProcess({\n",
    "    'FEED_FORMAT': 'json',\n",
    "    'FEED_URI': 'PythonLinks.json',\n",
    "    # Note that because we are doing API queries, the robots.txt file doesn't apply to us.\n",
    "    'ROBOTSTXT_OBEY': False,\n",
    "    'USER_AGENT': 'ThinkfulDataScienceBootcampCrawler (thinkful.com)',\n",
    "    'AUTOTHROTTLE_ENABLED': True,\n",
    "    'HTTPCACHE_ENABLED': True,\n",
    "    'LOG_ENABLED': False,\n",
    "    # We use CLOSESPIDER_PAGECOUNT to limit our scraper to the first 100 links.    \n",
    "    'CLOSESPIDER_PAGECOUNT' : 10\n",
    "})\n",
    "                                         \n",
    "\n",
    "# Starting the crawler with our spider.\n",
    "process.crawl(WikiSpider)\n",
    "process.start()\n",
    "print('First 100 links extracted!')"
   ]
  },
  {
   "cell_type": "code",
   "execution_count": 2,
   "metadata": {
    "ExecuteTime": {
     "end_time": "2019-03-09T20:13:05.926722Z",
     "start_time": "2019-03-09T20:13:05.198103Z"
    }
   },
   "outputs": [
    {
     "name": "stdout",
     "output_type": "stream",
     "text": [
      "(92, 1)\n",
      "                        title\n",
      "87               Hans Moleman\n",
      "88              Ripping Yarns\n",
      "89  List of British comedians\n",
      "90         Wensleydale cheese\n",
      "91              Art Garfunkel\n"
     ]
    }
   ],
   "source": [
    "import pandas as pd\n",
    "\n",
    "# Checking whether we got data \n",
    "\n",
    "Monty=pd.read_json('https://tf-assets-prod.s3.amazonaws.com/tf-curric/data-science/PythonLinks.json', orient='records')\n",
    "print(Monty.shape)\n",
    "print(Monty.tail())"
   ]
  },
  {
   "cell_type": "markdown",
   "metadata": {},
   "source": [
    "## Wrap up\n",
    "\n",
    "Our API call was successful.  While we examined 100 links, we only saved 92 (the others weren't links from entry pages).  \n",
    "\n",
    "We've barely scraped (pun intended) the surface of what scrapy and APIs can do.  Scrapy has changed a lot in the years since its debut, so when googling make sure the answers you see are from 2015 at the latest-- otherwise you'll likely not be able to use the code.  \n",
    "\n",
    "Back to the issue of authorization keys- often the key is simply included in the query string as an additional arguments.  In other cases, if you need your scraper to be able to enter a key or login information into a form, scrapy [has you covered](http://stackoverflow.com/questions/30102199/form-authentication-login-a-site-using-scrapy).  \n",
    "\n",
    "There's a lot of fun to be had in scraping and APIs-- it's a way to feel like you're getting a lot of information with very little effort!  Beware, however.  You're not getting information at all.  Scraping gives you *data*, an undifferentiated mess of bytes with no compelling meaning on its own.  Think of that list of Wiki entries that link to Monty Python.  It's cool that we could get it, but what does it mean?  Your job as a data scientist is to convert *data* to *information*-- something people can use to make decisions or understand the world.  Modeling data to get information is hard but worthwhile work, and its those kinds of projects that will really build your portfolio as you go on the market.  \n",
    "\n",
    "That said, scraping up some original data can provide the *foundation* for an interesting and original final project."
   ]
  },
  {
   "cell_type": "markdown",
   "metadata": {},
   "source": [
    "## Challenge\n",
    "\n",
    "Do a little scraping or API-calling of your own.  Pick a new website and see what you can get out of it.  Expect that you'll run into bugs and blind alleys, and rely on your mentor to help you get through.  \n",
    "\n",
    "Formally, your goal is to write a scraper that will:\n",
    "\n",
    "1) Return specific pieces of information (rather than just downloading a whole page)  \n",
    "2) Iterate over multiple pages/queries  \n",
    "3) Save the data to your computer  \n",
    "\n",
    "Once you have your data, compute some statistical summaries and/or visualizations that give you some new insights into your scraping topic of interest.  Write up a report from scraping code to summary and share it with your mentor."
   ]
  },
  {
   "cell_type": "code",
   "execution_count": 60,
   "metadata": {
    "ExecuteTime": {
     "end_time": "2019-03-09T21:39:20.362139Z",
     "start_time": "2019-03-09T21:38:25.291871Z"
    }
   },
   "outputs": [
    {
     "name": "stdout",
     "output_type": "stream",
     "text": [
      "--- 55.01742100715637 seconds ---\n",
      "(4676, 8)\n"
     ]
    },
    {
     "data": {
      "text/html": [
       "<div>\n",
       "<style scoped>\n",
       "    .dataframe tbody tr th:only-of-type {\n",
       "        vertical-align: middle;\n",
       "    }\n",
       "\n",
       "    .dataframe tbody tr th {\n",
       "        vertical-align: top;\n",
       "    }\n",
       "\n",
       "    .dataframe thead th {\n",
       "        text-align: right;\n",
       "    }\n",
       "</style>\n",
       "<table border=\"1\" class=\"dataframe\">\n",
       "  <thead>\n",
       "    <tr style=\"text-align: right;\">\n",
       "      <th></th>\n",
       "      <th>player</th>\n",
       "      <th>from</th>\n",
       "      <th>to</th>\n",
       "      <th>position</th>\n",
       "      <th>height</th>\n",
       "      <th>weight</th>\n",
       "      <th>birth_date</th>\n",
       "      <th>college</th>\n",
       "    </tr>\n",
       "  </thead>\n",
       "  <tbody>\n",
       "    <tr>\n",
       "      <th>1</th>\n",
       "      <td>Whitey Kachan</td>\n",
       "      <td>1949</td>\n",
       "      <td>1949</td>\n",
       "      <td>G</td>\n",
       "      <td>6-2</td>\n",
       "      <td>175</td>\n",
       "      <td>September 15, 1925</td>\n",
       "      <td>DePaul University</td>\n",
       "    </tr>\n",
       "    <tr>\n",
       "      <th>2</th>\n",
       "      <td>George Kaftan</td>\n",
       "      <td>1949</td>\n",
       "      <td>1953</td>\n",
       "      <td>F</td>\n",
       "      <td>6-3</td>\n",
       "      <td>190</td>\n",
       "      <td>February 22, 1928</td>\n",
       "      <td>College of the Holy Cross</td>\n",
       "    </tr>\n",
       "    <tr>\n",
       "      <th>3</th>\n",
       "      <td>Ed Kalafat</td>\n",
       "      <td>1955</td>\n",
       "      <td>1957</td>\n",
       "      <td>C-F</td>\n",
       "      <td>6-6</td>\n",
       "      <td>245</td>\n",
       "      <td>October 13, 1932</td>\n",
       "      <td>University of Minnesota</td>\n",
       "    </tr>\n",
       "    <tr>\n",
       "      <th>4</th>\n",
       "      <td>Chris Kaman</td>\n",
       "      <td>2004</td>\n",
       "      <td>2016</td>\n",
       "      <td>C</td>\n",
       "      <td>7-0</td>\n",
       "      <td>265</td>\n",
       "      <td>April 28, 1982</td>\n",
       "      <td>Central Michigan University</td>\n",
       "    </tr>\n",
       "    <tr>\n",
       "      <th>5</th>\n",
       "      <td>Frank Kaminsky</td>\n",
       "      <td>2016</td>\n",
       "      <td>2019</td>\n",
       "      <td>F-C</td>\n",
       "      <td>7-0</td>\n",
       "      <td>242</td>\n",
       "      <td>April 4, 1993</td>\n",
       "      <td>University of Wisconsin</td>\n",
       "    </tr>\n",
       "  </tbody>\n",
       "</table>\n",
       "</div>"
      ],
      "text/plain": [
       "           player  from    to position height weight          birth_date  \\\n",
       "1   Whitey Kachan  1949  1949        G    6-2    175  September 15, 1925   \n",
       "2   George Kaftan  1949  1953        F    6-3    190   February 22, 1928   \n",
       "3      Ed Kalafat  1955  1957      C-F    6-6    245    October 13, 1932   \n",
       "4     Chris Kaman  2004  2016        C    7-0    265      April 28, 1982   \n",
       "5  Frank Kaminsky  2016  2019      F-C    7-0    242       April 4, 1993   \n",
       "\n",
       "                       college  \n",
       "1            DePaul University  \n",
       "2    College of the Holy Cross  \n",
       "3      University of Minnesota  \n",
       "4  Central Michigan University  \n",
       "5      University of Wisconsin  "
      ]
     },
     "execution_count": 60,
     "metadata": {},
     "output_type": "execute_result"
    }
   ],
   "source": [
    "import string\n",
    "import urllib\n",
    "from urllib import request\n",
    "from bs4 import BeautifulSoup\n",
    "import time\n",
    "import numpy as np\n",
    "'''\n",
    "    Goal:   get information on NBA players:\n",
    "            Career start, end, height, weight and college\n",
    "    URL:    https://www.basketball-reference.com/players/a/\n",
    "'''\n",
    "\n",
    "def make_soup(url):\n",
    "    page_contents = urllib.request.urlopen(url)\n",
    "    soup_data = BeautifulSoup(page_contents, \"html.parser\")\n",
    "    return soup_data\n",
    "\n",
    "\n",
    "letters = set(string.ascii_lowercase)\n",
    "letters.remove('x')\n",
    "\n",
    "player_list = []\n",
    "\n",
    "start_time = time.time()\n",
    "\n",
    "for letter in list(letters):\n",
    "    url = 'https://www.basketball-reference.com/players/' + letter + '/'\n",
    "    soup = make_soup(url)\n",
    "\n",
    "    player_data = []\n",
    "\n",
    "    for record in soup.findAll('tr'):\n",
    "        temp = []\n",
    "        # get player name\n",
    "        name = record.find('th').text\n",
    "        temp.append(name)\n",
    "        for data in record.findAll('td'):\n",
    "            temp.append(data.text)\n",
    "        player_data.append(temp)\n",
    "    player_data = pd.DataFrame(player_data)\n",
    "    player_list.append(player_data)\n",
    "\n",
    "    \n",
    "print(\"--- %s seconds ---\" % (time.time() - start_time))\n",
    "column_names = ['player', 'from', 'to', 'position', \n",
    "                'height', 'weight', 'birth_date', 'college']\n",
    "df = pd.DataFrame()\n",
    "for player_info in player_list:\n",
    "    df = df.append(player_info)\n",
    "df.columns = column_names\n",
    "df.drop(0, axis=0, inplace=True)\n",
    "df.set_index('player')\n",
    "\n",
    "# a lot of players did not go to college, so let's update this\n",
    "idx = df.college == ''\n",
    "df.loc[idx, 'college'] = 'None'\n",
    "print(df.shape)\n",
    "df.head()"
   ]
  },
  {
   "cell_type": "markdown",
   "metadata": {
    "ExecuteTime": {
     "end_time": "2019-03-09T21:38:05.047118Z",
     "start_time": "2019-03-09T21:38:05.002975Z"
    }
   },
   "source": [
    "We scraped 4,676 NBA players in 55 seconds! Before we save it we need to clean up some data and convert the columns to their proper formats."
   ]
  },
  {
   "cell_type": "markdown",
   "metadata": {},
   "source": [
    "Need to convert the columns to the proper formats."
   ]
  },
  {
   "cell_type": "code",
   "execution_count": 111,
   "metadata": {
    "ExecuteTime": {
     "end_time": "2019-03-09T21:57:53.540018Z",
     "start_time": "2019-03-09T21:57:53.536232Z"
    }
   },
   "outputs": [],
   "source": [
    "df['from'] = df['from'].astype(int)\n",
    "df['to'] = df['to'].astype(int)\n",
    "\n",
    "# there are 5 players who have no listed weight. small number so we will just drop these\n",
    "idx = df.weight==''\n",
    "df.loc[idx,'weight'] = np.nan\n",
    "df.dropna(inplace=True)\n",
    "df['weight'] = df['weight'].astype(int)"
   ]
  },
  {
   "cell_type": "markdown",
   "metadata": {},
   "source": [
    "Let's convert each player's height to inches so we can compute some statistics on this field."
   ]
  },
  {
   "cell_type": "code",
   "execution_count": 134,
   "metadata": {
    "ExecuteTime": {
     "end_time": "2019-03-09T22:05:46.352831Z",
     "start_time": "2019-03-09T22:05:46.349332Z"
    }
   },
   "outputs": [],
   "source": [
    "def string_to_inches(height):\n",
    "    comps = height.split('-')\n",
    "    return 12 * int(comps[0]) + int(comps[1])\n",
    "\n",
    "df.height = df.height.apply(string_to_inches)"
   ]
  },
  {
   "cell_type": "code",
   "execution_count": 137,
   "metadata": {
    "ExecuteTime": {
     "end_time": "2019-03-09T22:06:12.587591Z",
     "start_time": "2019-03-09T22:06:12.574484Z"
    }
   },
   "outputs": [
    {
     "data": {
      "text/html": [
       "<div>\n",
       "<style scoped>\n",
       "    .dataframe tbody tr th:only-of-type {\n",
       "        vertical-align: middle;\n",
       "    }\n",
       "\n",
       "    .dataframe tbody tr th {\n",
       "        vertical-align: top;\n",
       "    }\n",
       "\n",
       "    .dataframe thead th {\n",
       "        text-align: right;\n",
       "    }\n",
       "</style>\n",
       "<table border=\"1\" class=\"dataframe\">\n",
       "  <thead>\n",
       "    <tr style=\"text-align: right;\">\n",
       "      <th></th>\n",
       "      <th>player</th>\n",
       "      <th>from</th>\n",
       "      <th>to</th>\n",
       "      <th>position</th>\n",
       "      <th>height</th>\n",
       "      <th>weight</th>\n",
       "      <th>birth_date</th>\n",
       "      <th>college</th>\n",
       "    </tr>\n",
       "  </thead>\n",
       "  <tbody>\n",
       "    <tr>\n",
       "      <th>1</th>\n",
       "      <td>Whitey Kachan</td>\n",
       "      <td>1949</td>\n",
       "      <td>1949</td>\n",
       "      <td>G</td>\n",
       "      <td>74</td>\n",
       "      <td>175</td>\n",
       "      <td>September 15, 1925</td>\n",
       "      <td>DePaul University</td>\n",
       "    </tr>\n",
       "    <tr>\n",
       "      <th>2</th>\n",
       "      <td>George Kaftan</td>\n",
       "      <td>1949</td>\n",
       "      <td>1953</td>\n",
       "      <td>F</td>\n",
       "      <td>75</td>\n",
       "      <td>190</td>\n",
       "      <td>February 22, 1928</td>\n",
       "      <td>College of the Holy Cross</td>\n",
       "    </tr>\n",
       "    <tr>\n",
       "      <th>3</th>\n",
       "      <td>Ed Kalafat</td>\n",
       "      <td>1955</td>\n",
       "      <td>1957</td>\n",
       "      <td>C-F</td>\n",
       "      <td>78</td>\n",
       "      <td>245</td>\n",
       "      <td>October 13, 1932</td>\n",
       "      <td>University of Minnesota</td>\n",
       "    </tr>\n",
       "    <tr>\n",
       "      <th>4</th>\n",
       "      <td>Chris Kaman</td>\n",
       "      <td>2004</td>\n",
       "      <td>2016</td>\n",
       "      <td>C</td>\n",
       "      <td>84</td>\n",
       "      <td>265</td>\n",
       "      <td>April 28, 1982</td>\n",
       "      <td>Central Michigan University</td>\n",
       "    </tr>\n",
       "    <tr>\n",
       "      <th>5</th>\n",
       "      <td>Frank Kaminsky</td>\n",
       "      <td>2016</td>\n",
       "      <td>2019</td>\n",
       "      <td>F-C</td>\n",
       "      <td>84</td>\n",
       "      <td>242</td>\n",
       "      <td>April 4, 1993</td>\n",
       "      <td>University of Wisconsin</td>\n",
       "    </tr>\n",
       "    <tr>\n",
       "      <th>6</th>\n",
       "      <td>Enes Kanter</td>\n",
       "      <td>2012</td>\n",
       "      <td>2019</td>\n",
       "      <td>C</td>\n",
       "      <td>83</td>\n",
       "      <td>250</td>\n",
       "      <td>May 20, 1992</td>\n",
       "      <td>None</td>\n",
       "    </tr>\n",
       "    <tr>\n",
       "      <th>7</th>\n",
       "      <td>Ralph Kaplowitz</td>\n",
       "      <td>1947</td>\n",
       "      <td>1948</td>\n",
       "      <td>G-F</td>\n",
       "      <td>74</td>\n",
       "      <td>170</td>\n",
       "      <td>May 18, 1919</td>\n",
       "      <td>New York University</td>\n",
       "    </tr>\n",
       "    <tr>\n",
       "      <th>8</th>\n",
       "      <td>Jason Kapono</td>\n",
       "      <td>2004</td>\n",
       "      <td>2012</td>\n",
       "      <td>F</td>\n",
       "      <td>80</td>\n",
       "      <td>213</td>\n",
       "      <td>February 4, 1981</td>\n",
       "      <td>University of California, Los Angeles</td>\n",
       "    </tr>\n",
       "    <tr>\n",
       "      <th>9</th>\n",
       "      <td>Tony Kappen</td>\n",
       "      <td>1947</td>\n",
       "      <td>1947</td>\n",
       "      <td>G</td>\n",
       "      <td>70</td>\n",
       "      <td>165</td>\n",
       "      <td>April 13, 1919</td>\n",
       "      <td>None</td>\n",
       "    </tr>\n",
       "    <tr>\n",
       "      <th>10</th>\n",
       "      <td>Sergey Karasev</td>\n",
       "      <td>2014</td>\n",
       "      <td>2016</td>\n",
       "      <td>G-F</td>\n",
       "      <td>79</td>\n",
       "      <td>208</td>\n",
       "      <td>October 26, 1993</td>\n",
       "      <td>None</td>\n",
       "    </tr>\n",
       "  </tbody>\n",
       "</table>\n",
       "</div>"
      ],
      "text/plain": [
       "             player  from    to position  height  weight          birth_date  \\\n",
       "1     Whitey Kachan  1949  1949        G      74     175  September 15, 1925   \n",
       "2     George Kaftan  1949  1953        F      75     190   February 22, 1928   \n",
       "3        Ed Kalafat  1955  1957      C-F      78     245    October 13, 1932   \n",
       "4       Chris Kaman  2004  2016        C      84     265      April 28, 1982   \n",
       "5    Frank Kaminsky  2016  2019      F-C      84     242       April 4, 1993   \n",
       "6       Enes Kanter  2012  2019        C      83     250        May 20, 1992   \n",
       "7   Ralph Kaplowitz  1947  1948      G-F      74     170        May 18, 1919   \n",
       "8      Jason Kapono  2004  2012        F      80     213    February 4, 1981   \n",
       "9       Tony Kappen  1947  1947        G      70     165      April 13, 1919   \n",
       "10   Sergey Karasev  2014  2016      G-F      79     208    October 26, 1993   \n",
       "\n",
       "                                  college  \n",
       "1                       DePaul University  \n",
       "2               College of the Holy Cross  \n",
       "3                 University of Minnesota  \n",
       "4             Central Michigan University  \n",
       "5                 University of Wisconsin  \n",
       "6                                    None  \n",
       "7                     New York University  \n",
       "8   University of California, Los Angeles  \n",
       "9                                    None  \n",
       "10                                   None  "
      ]
     },
     "execution_count": 137,
     "metadata": {},
     "output_type": "execute_result"
    }
   ],
   "source": [
    "df.head(10)"
   ]
  },
  {
   "cell_type": "code",
   "execution_count": 145,
   "metadata": {
    "ExecuteTime": {
     "end_time": "2019-03-09T22:12:32.375457Z",
     "start_time": "2019-03-09T22:12:32.369203Z"
    }
   },
   "outputs": [],
   "source": [
    "from dateutil import parser\n",
    "df.birth_date = df.birth_date.head().apply(parser.parse)"
   ]
  },
  {
   "cell_type": "code",
   "execution_count": 153,
   "metadata": {
    "ExecuteTime": {
     "end_time": "2019-03-09T22:16:48.501659Z",
     "start_time": "2019-03-09T22:16:48.496330Z"
    }
   },
   "outputs": [
    {
     "data": {
      "text/plain": [
       "player                    object\n",
       "from                       int64\n",
       "to                         int64\n",
       "position                  object\n",
       "height                     int64\n",
       "weight                     int64\n",
       "birth_date        datetime64[ns]\n",
       "college                   object\n",
       "playing_career             int64\n",
       "dtype: object"
      ]
     },
     "execution_count": 153,
     "metadata": {},
     "output_type": "execute_result"
    }
   ],
   "source": [
    "df.dtypes"
   ]
  },
  {
   "cell_type": "code",
   "execution_count": 152,
   "metadata": {
    "ExecuteTime": {
     "end_time": "2019-03-09T22:16:46.140919Z",
     "start_time": "2019-03-09T22:16:46.127707Z"
    }
   },
   "outputs": [],
   "source": [
    "# create new column to hold entire playing career\n",
    "df['playing_career'] = df['to'] - df['from']"
   ]
  },
  {
   "cell_type": "code",
   "execution_count": 154,
   "metadata": {
    "ExecuteTime": {
     "end_time": "2019-03-09T22:17:03.613405Z",
     "start_time": "2019-03-09T22:17:03.567299Z"
    }
   },
   "outputs": [],
   "source": [
    "df.to_csv('nba_players_all.csv')"
   ]
  },
  {
   "cell_type": "markdown",
   "metadata": {},
   "source": [
    "**Which schools have sent the most players to the NBA?**"
   ]
  },
  {
   "cell_type": "code",
   "execution_count": 148,
   "metadata": {
    "ExecuteTime": {
     "end_time": "2019-03-09T22:13:58.625092Z",
     "start_time": "2019-03-09T22:13:58.615585Z"
    }
   },
   "outputs": [
    {
     "data": {
      "text/plain": [
       "college\n",
       "None                                     312\n",
       "University of Kentucky                   101\n",
       "University of California, Los Angeles     90\n",
       "University of North Carolina              88\n",
       "Duke University                           75\n",
       "University of Kansas                      69\n",
       "Indiana University                        60\n",
       "University of Louisville                  55\n",
       "University of Notre Dame                  55\n",
       "University of Michigan                    50\n",
       "dtype: int64"
      ]
     },
     "execution_count": 148,
     "metadata": {},
     "output_type": "execute_result"
    }
   ],
   "source": [
    "df.groupby('college').size().sort_values(ascending=False).head(10)"
   ]
  },
  {
   "cell_type": "markdown",
   "metadata": {},
   "source": [
    "**How about a breakdown of NBA players by position?**"
   ]
  },
  {
   "cell_type": "code",
   "execution_count": 149,
   "metadata": {
    "ExecuteTime": {
     "end_time": "2019-03-09T22:14:02.458805Z",
     "start_time": "2019-03-09T22:14:02.290891Z"
    }
   },
   "outputs": [
    {
     "data": {
      "image/png": "[encoded data removed]",
      "text/plain": [
       "<Figure size 720x576 with 1 Axes>"
      ]
     },
     "metadata": {
      "needs_background": "light"
     },
     "output_type": "display_data"
    }
   ],
   "source": [
    "import matplotlib.pyplot as plt\n",
    "import seaborn as sns\n",
    "\n",
    "counts = df.groupby('position').size()\n",
    "\n",
    "plt.figure(figsize=(10,8))\n",
    "plt.bar(x=range(len(counts.index)), \n",
    "        height=counts.values, \n",
    "        tick_label=list(counts.index))\n",
    "sns.despine(left=True, bottom=True)\n",
    "plt.title('NBA Players by Position')\n",
    "plt.show()"
   ]
  },
  {
   "cell_type": "markdown",
   "metadata": {
    "ExecuteTime": {
     "end_time": "2019-03-09T22:14:05.551225Z",
     "start_time": "2019-03-09T22:14:05.543598Z"
    }
   },
   "source": [
    "**What is the average weight and height by position?**"
   ]
  },
  {
   "cell_type": "code",
   "execution_count": 100,
   "metadata": {
    "ExecuteTime": {
     "end_time": "2019-03-09T21:54:23.968212Z",
     "start_time": "2019-03-09T21:54:23.962518Z"
    }
   },
   "outputs": [
    {
     "data": {
      "text/plain": [
       "player        object\n",
       "from          object\n",
       "to            object\n",
       "position      object\n",
       "height        object\n",
       "weight        object\n",
       "birth_date    object\n",
       "college       object\n",
       "dtype: object"
      ]
     },
     "execution_count": 100,
     "metadata": {},
     "output_type": "execute_result"
    }
   ],
   "source": [
    "df.groupby('position').height.mean()"
   ]
  },
  {
   "cell_type": "code",
   "execution_count": 151,
   "metadata": {
    "ExecuteTime": {
     "end_time": "2019-03-09T22:15:32.807678Z",
     "start_time": "2019-03-09T22:15:32.800348Z"
    }
   },
   "outputs": [
    {
     "data": {
      "text/plain": [
       "position\n",
       "C      244.581532\n",
       "C-F    229.068493\n",
       "F      218.349925\n",
       "F-C    224.112245\n",
       "F-G    203.211009\n",
       "G      187.484146\n",
       "G-F    198.043597\n",
       "Name: weight, dtype: float64"
      ]
     },
     "execution_count": 151,
     "metadata": {},
     "output_type": "execute_result"
    }
   ],
   "source": [
    "df.groupby('position').weight.mean()"
   ]
  },
  {
   "cell_type": "markdown",
   "metadata": {},
   "source": [
    "**What is the average career length by position?**"
   ]
  },
  {
   "cell_type": "code",
   "execution_count": 155,
   "metadata": {
    "ExecuteTime": {
     "end_time": "2019-03-09T22:17:24.014732Z",
     "start_time": "2019-03-09T22:17:24.006556Z"
    }
   },
   "outputs": [
    {
     "data": {
      "text/plain": [
       "position\n",
       "C      4.141454\n",
       "C-F    6.237443\n",
       "F      3.194570\n",
       "F-C    6.375000\n",
       "F-G    6.096330\n",
       "G      3.742683\n",
       "G-F    5.228883\n",
       "Name: playing_career, dtype: float64"
      ]
     },
     "execution_count": 155,
     "metadata": {},
     "output_type": "execute_result"
    }
   ],
   "source": [
    "df.groupby('position').playing_career.mean()"
   ]
  },
  {
   "cell_type": "code",
   "execution_count": 157,
   "metadata": {
    "ExecuteTime": {
     "end_time": "2019-03-09T22:18:27.854446Z",
     "start_time": "2019-03-09T22:18:27.637962Z"
    }
   },
   "outputs": [
    {
     "data": {
      "image/png": "[encoded data removed]",
      "text/plain": [
       "<Figure size 432x288 with 1 Axes>"
      ]
     },
     "metadata": {
      "needs_background": "light"
     },
     "output_type": "display_data"
    }
   ],
   "source": [
    "sns.distplot(df.playing_career)\n",
    "sns.despine()"
   ]
  },
  {
   "cell_type": "markdown",
   "metadata": {},
   "source": [
    "**Now let's dig a little deeper, and see the breakdown of players who were in the top 25% of players by career duration.**"
   ]
  },
  {
   "cell_type": "code",
   "execution_count": 158,
   "metadata": {
    "ExecuteTime": {
     "end_time": "2019-03-09T22:18:48.378438Z",
     "start_time": "2019-03-09T22:18:48.372981Z"
    }
   },
   "outputs": [
    {
     "data": {
      "text/plain": [
       "7.0"
      ]
     },
     "execution_count": 158,
     "metadata": {},
     "output_type": "execute_result"
    }
   ],
   "source": [
    "df.playing_career.quantile(.75)"
   ]
  },
  {
   "cell_type": "code",
   "execution_count": 160,
   "metadata": {
    "ExecuteTime": {
     "end_time": "2019-03-09T22:19:24.573938Z",
     "start_time": "2019-03-09T22:19:24.564293Z"
    }
   },
   "outputs": [
    {
     "data": {
      "text/plain": [
       "position\n",
       "C      138\n",
       "C-F     98\n",
       "F      276\n",
       "F-C    177\n",
       "F-G     94\n",
       "G      413\n",
       "G-F    133\n",
       "dtype: int64"
      ]
     },
     "execution_count": 160,
     "metadata": {},
     "output_type": "execute_result"
    }
   ],
   "source": [
    "df.query('playing_career >= 7').groupby('position').size()"
   ]
  }
 ],
 "metadata": {
  "hide_input": false,
  "kernelspec": {
   "display_name": "Python 3",
   "language": "python",
   "name": "python3"
  },
  "language_info": {
   "codemirror_mode": {
    "name": "ipython",
    "version": 3
   },
   "file_extension": ".py",
   "mimetype": "text/x-python",
   "name": "python",
   "nbconvert_exporter": "python",
   "pygments_lexer": "ipython3",
   "version": "3.6.6"
  },
  "latex_envs": {
   "LaTeX_envs_menu_present": true,
   "autoclose": false,
   "autocomplete": true,
   "bibliofile": "biblio.bib",
   "cite_by": "apalike",
   "current_citInitial": 1,
   "eqLabelWithNumbers": true,
   "eqNumInitial": 1,
   "hotkeys": {
    "equation": "Ctrl-E",
    "itemize": "Ctrl-I"
   },
   "labels_anchors": false,
   "latex_user_defs": false,
   "report_style_numbering": false,
   "user_envs_cfg": false
  },
  "toc": {
   "base_numbering": 1,
   "nav_menu": {},
   "number_sections": true,
   "sideBar": true,
   "skip_h1_title": false,
   "title_cell": "Table of Contents",
   "title_sidebar": "Contents",
   "toc_cell": false,
   "toc_position": {},
   "toc_section_display": true,
   "toc_window_display": false
  },
  "varInspector": {
   "cols": {
    "lenName": 16,
    "lenType": 16,
    "lenVar": 40
   },
   "kernels_config": {
    "python": {
     "delete_cmd_postfix": "",
     "delete_cmd_prefix": "del ",
     "library": "var_list.py",
     "varRefreshCmd": "print(var_dic_list())"
    },
    "r": {
     "delete_cmd_postfix": ") ",
     "delete_cmd_prefix": "rm(",
     "library": "var_list.r",
     "varRefreshCmd": "cat(var_dic_list()) "
    }
   },
   "types_to_exclude": [
    "module",
    "function",
    "builtin_function_or_method",
    "instance",
    "_Feature"
   ],
   "window_display": false
  }
 },
 "nbformat": 4,
 "nbformat_minor": 2
}
