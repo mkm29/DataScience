{
 "cells": [
  {
   "cell_type": "code",
   "execution_count": 1,
   "metadata": {
    "ExecuteTime": {
     "end_time": "2019-03-08T23:54:07.153912Z",
     "start_time": "2019-03-08T23:54:06.895964Z"
    }
   },
   "outputs": [],
   "source": [
    "#https://projecteuler.net\n",
    "\n",
    "import math\n",
    "import random\n",
    "import numpy as np\n",
    "import pandas as pd\n",
    "import time"
   ]
  },
  {
   "cell_type": "markdown",
   "metadata": {},
   "source": [
    "**1.** Find the sum of all the multiples of 3 or 5 below 1000."
   ]
  },
  {
   "cell_type": "code",
   "execution_count": 2,
   "metadata": {
    "ExecuteTime": {
     "end_time": "2019-03-08T17:08:19.612955Z",
     "start_time": "2019-03-08T17:08:19.608530Z"
    }
   },
   "outputs": [
    {
     "name": "stdout",
     "output_type": "stream",
     "text": [
      "233168\n"
     ]
    }
   ],
   "source": [
    "target_sum = 0\n",
    "\n",
    "for i in range(1000):\n",
    "    if i % 3 == 0 or i % 5 == 0:\n",
    "        target_sum += i\n",
    "\n",
    "print(target_sum)"
   ]
  },
  {
   "cell_type": "markdown",
   "metadata": {},
   "source": [
    "**2.** Find the sum of even Fibonacci numbers, whose values do not exceed 4 million"
   ]
  },
  {
   "cell_type": "code",
   "execution_count": 3,
   "metadata": {
    "ExecuteTime": {
     "end_time": "2019-03-08T17:10:15.078628Z",
     "start_time": "2019-03-08T17:10:15.069661Z"
    }
   },
   "outputs": [
    {
     "name": "stdout",
     "output_type": "stream",
     "text": [
      "4613732\n"
     ]
    }
   ],
   "source": [
    "target_sum = 0\n",
    "\n",
    "#initialize the fib sequence\n",
    "fib_seq = [1, 2]\n",
    "\n",
    "end_reached = False\n",
    "\n",
    "while not end_reached: \n",
    "    #if the next value to append < 4M, append it\n",
    "    if (fib_seq[len(fib_seq)-1] + fib_seq[len(fib_seq)-2]) <= 4000000:\n",
    "        fib_seq.append(fib_seq[len(fib_seq)-1] + fib_seq[len(fib_seq)-2])\n",
    "        \n",
    "    else: \n",
    "        end_reached = True\n",
    "    \n",
    "for i in range(len(fib_seq)):\n",
    "    if fib_seq[i] % 2 == 0:\n",
    "        #print(fib_seq[i])\n",
    "        target_sum += fib_seq[i]\n",
    "\n",
    "print(target_sum)"
   ]
  },
  {
   "cell_type": "markdown",
   "metadata": {},
   "source": [
    "**3.** What is the largest prime factor of the number 600851475143 ?"
   ]
  },
  {
   "cell_type": "code",
   "execution_count": 4,
   "metadata": {
    "ExecuteTime": {
     "end_time": "2019-03-08T17:11:07.640677Z",
     "start_time": "2019-03-08T17:11:07.635498Z"
    }
   },
   "outputs": [],
   "source": [
    "def prime_Factors(n):\n",
    "    \n",
    "    prime_factors = []\n",
    "     \n",
    "    #divide by 2, if possible, to reduce range we need to scan\n",
    "    while n % 2 == 0:\n",
    "        n = n / 2\n",
    "        prime_factors.append(n)\n",
    "         \n",
    "    #n must be odd at this point\n",
    "    #only need to loop through sqrt(n) because if it has a prime factor > sqrt(n), it must also have a prime factor < sqrt(n)\n",
    "    #we don't have to check even numbers now, so increment by 2\n",
    "    \n",
    "    #after we reduce n even further, we will do 1 more check at the end to accomodate a prime factor > sqrt(n)\n",
    "    \n",
    "    for i in range(3, int(math.sqrt(n)) + 1, 2):\n",
    "         \n",
    "        # reduce n\n",
    "        while n % i == 0:\n",
    "            prime_factors.append(i)\n",
    "            n = n / i\n",
    "             \n",
    "    # Condition if n is a prime\n",
    "    # number greater than 2\n",
    "    if n > 2:\n",
    "        prime_factors.append(n)\n",
    "    \n",
    "    print(np.max(prime_factors))"
   ]
  },
  {
   "cell_type": "code",
   "execution_count": 5,
   "metadata": {
    "ExecuteTime": {
     "end_time": "2019-03-08T17:11:18.903332Z",
     "start_time": "2019-03-08T17:11:18.863403Z"
    }
   },
   "outputs": [
    {
     "name": "stdout",
     "output_type": "stream",
     "text": [
      "6857\n"
     ]
    }
   ],
   "source": [
    "prime_Factors(600851475143)"
   ]
  },
  {
   "cell_type": "markdown",
   "metadata": {},
   "source": [
    "**4.** Find the largest palindrome made from the product of two 3-digit numbers."
   ]
  },
  {
   "cell_type": "code",
   "execution_count": 6,
   "metadata": {
    "ExecuteTime": {
     "end_time": "2019-03-08T17:12:24.002498Z",
     "start_time": "2019-03-08T17:12:23.089499Z"
    }
   },
   "outputs": [
    {
     "name": "stdout",
     "output_type": "stream",
     "text": [
      "906609\n"
     ]
    }
   ],
   "source": [
    "def is_palindrome(number):\n",
    "    output = str(number)\n",
    "    fwd = 0\n",
    "    back = len(output) - 1\n",
    "\n",
    "    is_pal = False\n",
    "\n",
    "    for i in range(len(output) // 2):\n",
    "        if output[fwd] != output[back]:\n",
    "            is_pal = False\n",
    "            break\n",
    "        else:\n",
    "            is_pal = True\n",
    "\n",
    "        fwd += 1\n",
    "        back -= 1\n",
    "\n",
    "    return is_pal\n",
    "\n",
    "pal_list = []\n",
    "\n",
    "for num1 in range(999, -1, -1):\n",
    "    for num2 in range(999, -1, -1):\n",
    "        if is_palindrome(num1 * num2):\n",
    "            pal_list.append(num1 * num2)\n",
    "\n",
    "print(np.max(pal_list))"
   ]
  },
  {
   "cell_type": "markdown",
   "metadata": {},
   "source": [
    "**5.** What is the smallest positive number that is evenly divisible by all of the numbers from 1 to 20?"
   ]
  },
  {
   "cell_type": "code",
   "execution_count": 2,
   "metadata": {
    "ExecuteTime": {
     "end_time": "2019-03-08T23:54:11.104941Z",
     "start_time": "2019-03-08T23:54:11.090858Z"
    }
   },
   "outputs": [
    {
     "data": {
      "text/plain": [
       "232792560.0"
      ]
     },
     "execution_count": 2,
     "metadata": {},
     "output_type": "execute_result"
    }
   ],
   "source": [
    "'''\n",
    "    To meet the constaints given, the number must\n",
    "    be a multiple of the least common multiple of all numbers\n",
    "    from 1 to 20 (this generalizes to n)\n",
    "'''\n",
    "\n",
    "def gcd(a,b):\n",
    "    '''\n",
    "        Return greatest common divisor using Euclid's Algorithm.\n",
    "    '''\n",
    "    while b:      \n",
    "        a, b = b, a % b\n",
    "    return a\n",
    "\n",
    "def lcm(a,b):\n",
    "    \"\"\"\n",
    "       Return lowest common multiple.\n",
    "    \"\"\"\n",
    "    return (a*b)/gcd(a,b)\n",
    "\n",
    "def GCD(terms):\n",
    "    '''\n",
    "        Return gcd of a list of numbers.\n",
    "    '''\n",
    "    return reduce(lambda a,b: gcd(a,b), terms)\n",
    "\n",
    "def LCM(terms):\n",
    "    '''\n",
    "        Return lcm of a list of numbers.\n",
    "    '''\n",
    "    result = 1\n",
    "    for t in terms:\n",
    "        result = lcm(result, t)\n",
    "    return result\n",
    "\n",
    "LCM(list(range(1,21)))"
   ]
  },
  {
   "cell_type": "markdown",
   "metadata": {},
   "source": [
    "**6.** Find the difference between the sum of the squares of the first one hundred natural numbers and the square of the sum."
   ]
  },
  {
   "cell_type": "code",
   "execution_count": 27,
   "metadata": {
    "ExecuteTime": {
     "end_time": "2019-03-09T00:09:00.245999Z",
     "start_time": "2019-03-09T00:09:00.240467Z"
    }
   },
   "outputs": [
    {
     "data": {
      "text/plain": [
       "25164150"
      ]
     },
     "execution_count": 27,
     "metadata": {},
     "output_type": "execute_result"
    }
   ],
   "source": [
    "def sum_square_diff_squared_sum(n):\n",
    "    nums = np.array(range(1,n+1))\n",
    "    # sum of squares\n",
    "    return (nums.sum()**2) - (nums**2).sum()\n",
    "\n",
    "sum_square_diff_squared_sum(100)"
   ]
  },
  {
   "cell_type": "markdown",
   "metadata": {
    "ExecuteTime": {
     "end_time": "2019-03-09T00:00:40.253160Z",
     "start_time": "2019-03-09T00:00:40.248483Z"
    }
   },
   "source": [
    "**7.** What is the 10001st prime number?"
   ]
  },
  {
   "cell_type": "code",
   "execution_count": 55,
   "metadata": {
    "ExecuteTime": {
     "end_time": "2019-03-09T00:21:27.001882Z",
     "start_time": "2019-03-09T00:21:26.997771Z"
    }
   },
   "outputs": [],
   "source": [
    "def nthprime(n):\n",
    "    import math\n",
    "    start = 2\n",
    "    count = 0\n",
    "    while True:\n",
    "        if all([start % i for i in range(2, int(math.sqrt(start)) + 1)]) != 0:\n",
    "            count += 1\n",
    "            if count == n:\n",
    "                return start\n",
    "        start += 1"
   ]
  },
  {
   "cell_type": "code",
   "execution_count": 58,
   "metadata": {
    "ExecuteTime": {
     "end_time": "2019-03-09T00:22:21.880970Z",
     "start_time": "2019-03-09T00:22:20.579774Z"
    }
   },
   "outputs": [
    {
     "data": {
      "text/plain": [
       "104743"
      ]
     },
     "execution_count": 58,
     "metadata": {},
     "output_type": "execute_result"
    }
   ],
   "source": [
    "nthprime(10001)"
   ]
  },
  {
   "cell_type": "markdown",
   "metadata": {
    "ExecuteTime": {
     "end_time": "2019-03-09T00:13:02.042340Z",
     "start_time": "2019-03-09T00:13:02.037884Z"
    }
   },
   "source": [
    "**8.** Find the thirteen adjacent digits in the 1000-digit number that have the greatest product. What is the value of this product?"
   ]
  },
  {
   "cell_type": "code",
   "execution_count": 92,
   "metadata": {
    "ExecuteTime": {
     "end_time": "2019-03-09T00:50:38.039502Z",
     "start_time": "2019-03-09T00:50:38.029532Z"
    }
   },
   "outputs": [
    {
     "name": "stdout",
     "output_type": "stream",
     "text": [
      "23514624000\n"
     ]
    }
   ],
   "source": [
    "# convert number to string so we can index it\n",
    "num_string = '7316717653133062491922511967442657474235534919493496983520312774506326239578318016984801869478851843858615607891129494954595017379583319528532088055111254069874715852386305071569329096329522744304355766896648950445244523161731856403098711121722383113622298934233803081353362766142828064444866452387493035890729629049156044077239071381051585930796086670172427121883998797908792274921901699720888093776657273330010533678812202354218097512545405947522435258490771167055601360483958644670632441572215539753697817977846174064955149290862569321978468622482839722413756570560574902614079729686524145351004748216637048440319989000889524345065854122758866688116427171479924442928230863465674813919123162824586178664583591245665294765456828489128831426076900422421902267105562632111110937054421750694165896040807198403850962455444362981230987879927244284909188845801561660979191338754992005240636899125607176060588611646710940507754100225698315520005593572972571636269561882670428252483600823257530420752963450'\n",
    "\n",
    "window=13\n",
    "\n",
    "start = 0\n",
    "end = start+window\n",
    "max_prod = 1\n",
    "max_prod_end = 0\n",
    "\n",
    "while end < 1000:\n",
    "    mult_value = 1\n",
    "    mult_digits = num_string[start:end]\n",
    "    for i in mult_digits:\n",
    "        mult_value *= int(i)\n",
    "    if mult_value > max_prod:\n",
    "        max_prod = mult_value\n",
    "        max_prod_end = end\n",
    "    start += 1\n",
    "    end += 1\n",
    "\n",
    "print(max_prod)"
   ]
  },
  {
   "cell_type": "markdown",
   "metadata": {
    "ExecuteTime": {
     "end_time": "2019-03-09T00:45:59.097672Z",
     "start_time": "2019-03-09T00:45:59.092647Z"
    }
   },
   "source": [
    "**9.** Special Pythagorean triplet"
   ]
  },
  {
   "cell_type": "code",
   "execution_count": 98,
   "metadata": {
    "ExecuteTime": {
     "end_time": "2019-03-09T01:03:10.766544Z",
     "start_time": "2019-03-09T01:03:10.291677Z"
    }
   },
   "outputs": [
    {
     "name": "stdout",
     "output_type": "stream",
     "text": [
      "[[375, 200, 425], [200, 375, 425], [-250, 600, 650]]\n",
      "31875000\n"
     ]
    }
   ],
   "source": [
    "possible_solutions = []\n",
    "\n",
    "for c in range(334, 1000):\n",
    "    for b in range(1, c):\n",
    "        a = (1000 - b - c)\n",
    "        if a**2 + b**2 == c**2:\n",
    "            possible_solutions.append([a, b, c])\n",
    "\n",
    "print(possible_solutions)\n",
    "print(possible_solutions[1][0]*possible_solutions[1][1]*possible_solutions[1][2])"
   ]
  },
  {
   "cell_type": "markdown",
   "metadata": {
    "ExecuteTime": {
     "end_time": "2019-03-09T01:04:16.384371Z",
     "start_time": "2019-03-09T01:04:16.380052Z"
    }
   },
   "source": [
    "**10.** Find the sum of all the primes below two million."
   ]
  },
  {
   "cell_type": "code",
   "execution_count": 112,
   "metadata": {
    "ExecuteTime": {
     "end_time": "2019-03-09T01:27:55.231062Z",
     "start_time": "2019-03-09T01:27:42.703847Z"
    }
   },
   "outputs": [
    {
     "name": "stdout",
     "output_type": "stream",
     "text": [
      "142913828922\n",
      "--- 12.521409034729004 seconds ---\n"
     ]
    }
   ],
   "source": [
    "start_time = time.time()\n",
    "\n",
    "def is_prime(number):\n",
    "    for i in range(2, int(math.sqrt(number) + 1)):\n",
    "        if number % i == 0:\n",
    "            return False\n",
    "    #if you plug 1 or 2 or 3 into the is_prime(number), loop won't work, return True for these cases\n",
    "    return True\n",
    "\n",
    "#initialize sum_primes to 2 because 2 is prime and we want to start loop at 3 (bc it's odd)\n",
    "sum_primes = 2\n",
    "\n",
    "for i in range(3, 2000000, 2):\n",
    "    if is_prime(i):\n",
    "        sum_primes += i\n",
    "\n",
    "print(sum_primes)\n",
    "\n",
    "print(\"--- %s seconds ---\" % (time.time() - start_time))"
   ]
  }
 ],
 "metadata": {
  "kernelspec": {
   "display_name": "Python 3",
   "language": "python",
   "name": "python3"
  },
  "language_info": {
   "codemirror_mode": {
    "name": "ipython",
    "version": 3
   },
   "file_extension": ".py",
   "mimetype": "text/x-python",
   "name": "python",
   "nbconvert_exporter": "python",
   "pygments_lexer": "ipython3",
   "version": "3.6.6"
  },
  "latex_envs": {
   "LaTeX_envs_menu_present": true,
   "autoclose": false,
   "autocomplete": true,
   "bibliofile": "biblio.bib",
   "cite_by": "apalike",
   "current_citInitial": 1,
   "eqLabelWithNumbers": true,
   "eqNumInitial": 1,
   "hotkeys": {
    "equation": "Ctrl-E",
    "itemize": "Ctrl-I"
   },
   "labels_anchors": false,
   "latex_user_defs": false,
   "report_style_numbering": false,
   "user_envs_cfg": false
  },
  "toc": {
   "base_numbering": 1,
   "nav_menu": {},
   "number_sections": true,
   "sideBar": true,
   "skip_h1_title": false,
   "title_cell": "Table of Contents",
   "title_sidebar": "Contents",
   "toc_cell": false,
   "toc_position": {},
   "toc_section_display": true,
   "toc_window_display": false
  },
  "varInspector": {
   "cols": {
    "lenName": 16,
    "lenType": 16,
    "lenVar": 40
   },
   "kernels_config": {
    "python": {
     "delete_cmd_postfix": "",
     "delete_cmd_prefix": "del ",
     "library": "var_list.py",
     "varRefreshCmd": "print(var_dic_list())"
    },
    "r": {
     "delete_cmd_postfix": ") ",
     "delete_cmd_prefix": "rm(",
     "library": "var_list.r",
     "varRefreshCmd": "cat(var_dic_list()) "
    }
   },
   "types_to_exclude": [
    "module",
    "function",
    "builtin_function_or_method",
    "instance",
    "_Feature"
   ],
   "window_display": false
  }
 },
 "nbformat": 4,
 "nbformat_minor": 2
}
