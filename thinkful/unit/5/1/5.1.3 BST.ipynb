{
 "cells": [
  {
   "cell_type": "code",
   "execution_count": 1,
   "metadata": {
    "ExecuteTime": {
     "end_time": "2019-03-08T17:00:10.809418Z",
     "start_time": "2019-03-08T17:00:10.804299Z"
    }
   },
   "outputs": [],
   "source": [
    "import random\n",
    "import textwrap\n",
    " \n",
    "class Node:\n",
    "    def __init__(self, val):\n",
    "        self.val = val\n",
    "        self.left = None\n",
    "        self.right = None\n",
    "    \n",
    "    #double underscore methods are special methods that allow you to define how an object of this class behaves\n",
    "    #(eg what happens if you use +, -, < , >, repr, str... )\n",
    "    \n",
    "    def __repr__(self):\n",
    "        #repr will be called by default if you call an instance of the class\n",
    "        #f'' is a formatted string...\n",
    "        my_self = f'Node {self.val} \\n'\n",
    "        \n",
    "        #repr is a built-in fcn that references the special __repr__ function of the class\n",
    "        left_child = textwrap.indent(repr(self.left), '  ') + '\\n'\n",
    "        right_child = textwrap.indent(repr(self.right), '  ') + '\\n'\n",
    "        \n",
    "        return my_self + left_child + right_child\n",
    "        \n",
    "    def can_take_child(self):\n",
    "        return self.left is None or self.right is None"
   ]
  },
  {
   "cell_type": "code",
   "execution_count": 2,
   "metadata": {
    "ExecuteTime": {
     "end_time": "2019-03-08T17:00:23.644847Z",
     "start_time": "2019-03-08T17:00:23.637480Z"
    }
   },
   "outputs": [],
   "source": [
    "#Append to root node in a random way (won't force balanced tree)\n",
    "\n",
    "def build_tree(num_nodes):\n",
    "    nodes_that_can_take_children = []\n",
    "    root = Node(rand_val())\n",
    "    nodes_that_can_take_children.append(root)\n",
    "    \n",
    "    for i in range(num_nodes - 1):\n",
    "        #want to assign a new node to a random eligible parent. randrange will give an index\n",
    "        #want index instead of node because it will find the node to remove in constant time instead of n time (searching list)\n",
    "        index_new_parent = random.randrange(len(nodes_that_can_take_children))\n",
    "        parent = nodes_that_can_take_children[index_new_parent]\n",
    "        \n",
    "        #create the new node, and also add it to list of nodes that can take children\n",
    "        new_node = Node(rand_val())\n",
    "        nodes_that_can_take_children.append(new_node)\n",
    "        \n",
    "        if parent.left is not None:\n",
    "            parent.right = new_node\n",
    "        elif parent.right is not None:\n",
    "            parent.left = new_node\n",
    "            \n",
    "        #if both children nodes are empty for this parent, assign new node at random\n",
    "        elif random.random() < 0.5:\n",
    "            parent.left = new_node\n",
    "        else:\n",
    "            parent.right = new_node\n",
    "        \n",
    "        #if parent is full now, remove it from eligible list\n",
    "        if not parent.can_take_child():\n",
    "            nodes_that_can_take_children.pop(index_new_parent)\n",
    "    \n",
    "    #return a reference to the root. it has all the info we need to traverse the tree\n",
    "    return root\n",
    "    \n",
    "#create a random value 1-100\n",
    "def rand_val():\n",
    "    return int(round(random.random() * 100, 0))"
   ]
  },
  {
   "cell_type": "code",
   "execution_count": 4,
   "metadata": {
    "ExecuteTime": {
     "end_time": "2019-03-08T17:00:50.308844Z",
     "start_time": "2019-03-08T17:00:50.304006Z"
    }
   },
   "outputs": [
    {
     "data": {
      "text/plain": [
       "Node 40 \n",
       "  Node 20 \n",
       "    Node 75 \n",
       "      Node 8 \n",
       "        None\n",
       "        None\n",
       "\n",
       "      Node 84 \n",
       "        None\n",
       "        None\n",
       "\n",
       "\n",
       "    Node 98 \n",
       "      Node 75 \n",
       "        None\n",
       "        None\n",
       "\n",
       "      Node 76 \n",
       "        None\n",
       "        None\n",
       "\n",
       "\n",
       "\n",
       "  Node 85 \n",
       "    Node 46 \n",
       "      Node 90 \n",
       "        Node 82 \n",
       "          Node 50 \n",
       "            None\n",
       "            Node 54 \n",
       "              None\n",
       "              None\n",
       "\n",
       "\n",
       "          None\n",
       "\n",
       "        Node 73 \n",
       "          Node 81 \n",
       "            None\n",
       "            None\n",
       "\n",
       "          Node 67 \n",
       "            None\n",
       "            None\n",
       "\n",
       "\n",
       "\n",
       "      None\n",
       "\n",
       "    Node 7 \n",
       "      Node 77 \n",
       "        None\n",
       "        None\n",
       "\n",
       "      Node 48 \n",
       "        Node 99 \n",
       "          None\n",
       "          None\n",
       "\n",
       "        None\n",
       "\n",
       "\n"
      ]
     },
     "execution_count": 4,
     "metadata": {},
     "output_type": "execute_result"
    }
   ],
   "source": [
    "build_tree(21)"
   ]
  },
  {
   "cell_type": "code",
   "execution_count": null,
   "metadata": {},
   "outputs": [],
   "source": []
  }
 ],
 "metadata": {
  "kernelspec": {
   "display_name": "Python 3",
   "language": "python",
   "name": "python3"
  },
  "language_info": {
   "codemirror_mode": {
    "name": "ipython",
    "version": 3
   },
   "file_extension": ".py",
   "mimetype": "text/x-python",
   "name": "python",
   "nbconvert_exporter": "python",
   "pygments_lexer": "ipython3",
   "version": "3.6.6"
  },
  "latex_envs": {
   "LaTeX_envs_menu_present": true,
   "autoclose": false,
   "autocomplete": true,
   "bibliofile": "biblio.bib",
   "cite_by": "apalike",
   "current_citInitial": 1,
   "eqLabelWithNumbers": true,
   "eqNumInitial": 1,
   "hotkeys": {
    "equation": "Ctrl-E",
    "itemize": "Ctrl-I"
   },
   "labels_anchors": false,
   "latex_user_defs": false,
   "report_style_numbering": false,
   "user_envs_cfg": false
  },
  "toc": {
   "base_numbering": 1,
   "nav_menu": {},
   "number_sections": true,
   "sideBar": true,
   "skip_h1_title": false,
   "title_cell": "Table of Contents",
   "title_sidebar": "Contents",
   "toc_cell": false,
   "toc_position": {},
   "toc_section_display": true,
   "toc_window_display": false
  },
  "varInspector": {
   "cols": {
    "lenName": 16,
    "lenType": 16,
    "lenVar": 40
   },
   "kernels_config": {
    "python": {
     "delete_cmd_postfix": "",
     "delete_cmd_prefix": "del ",
     "library": "var_list.py",
     "varRefreshCmd": "print(var_dic_list())"
    },
    "r": {
     "delete_cmd_postfix": ") ",
     "delete_cmd_prefix": "rm(",
     "library": "var_list.r",
     "varRefreshCmd": "cat(var_dic_list()) "
    }
   },
   "types_to_exclude": [
    "module",
    "function",
    "builtin_function_or_method",
    "instance",
    "_Feature"
   ],
   "window_display": false
  }
 },
 "nbformat": 4,
 "nbformat_minor": 2
}
