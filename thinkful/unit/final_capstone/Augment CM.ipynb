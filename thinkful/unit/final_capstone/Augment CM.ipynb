{
 "cells": [
  {
   "cell_type": "code",
   "execution_count": 1,
   "metadata": {
    "ExecuteTime": {
     "end_time": "2019-04-25T03:07:29.492329Z",
     "start_time": "2019-04-25T03:07:25.828238Z"
    }
   },
   "outputs": [],
   "source": [
    "import pandas as pd\n",
    "import scipy.io\n",
    "import numpy as np\n",
    "from scipy.spatial.distance import pdist, squareform\n",
    "import networkx as nx\n",
    "import matplotlib.pyplot as plt\n",
    "import seaborn as sns\n",
    "%matplotlib inline\n",
    "import tensorflow as tf\n",
    "import time\n",
    "rand_state = 42\n",
    "tf.set_random_seed(rand_state)\n",
    "np.random.seed(rand_state)\n",
    "\n",
    "import warnings\n",
    "warnings.simplefilter('ignore')"
   ]
  },
  {
   "cell_type": "markdown",
   "metadata": {},
   "source": [
    "# Data  \n",
    "\n",
    "I am using the QM7 dataset, which is a subset of GDB-13 (a database of nearly 1 billion stable and synthetically accessible organic molecules) containing up to 7 heavy atoms C, N, O, and S. The 3D Cartesian coordinates of the most stable conformations and their atomization energies were determined using ab-initio density functional theory (PBE0/tier2 basis set). This dataset also provided Coulomb matrices as calculated in [Rupp et al. PRL, 2012]:  \n",
    "  * $C_{i,i} = 0.5 \\cdot Z^{2.4}$  \n",
    "  * $C_{i,j} = Z_i \\cdot \\frac{Z_j}{|(R_i−R_j)|}$ \n",
    "  * $Z_i$ - nuclear charge of atom i  \n",
    "  * $R_i$ - cartesian coordinates of atom i  \n",
    "\n",
    "The data file (.mat format, we recommend using `scipy.io.loadmat` for python users) contains five arrays:  \n",
    "  * \"X\" - (7165 x 23 x 23), Coulomb matrices  \n",
    "  * \"T\" - (7165), atomization energies (unit: kcal/mol)  \n",
    "  * \"P\" - (5 x 1433), cross-validation splits as used in [Montavon et al. NIPS, 2012]  \n",
    "  * \"Z\" - (7165 x 23), atomic charges  \n",
    "  * \"R\" - (7165 x 23 x 3), cartesian coordinate (unit: Bohr) of each atom in the molecules "
   ]
  },
  {
   "cell_type": "code",
   "execution_count": 2,
   "metadata": {
    "ExecuteTime": {
     "end_time": "2019-04-25T03:07:56.357679Z",
     "start_time": "2019-04-25T03:07:56.326470Z"
    }
   },
   "outputs": [],
   "source": [
    "qm7 = scipy.io.loadmat('./data/qm7/qm7.mat')\n",
    "y = np.transpose(qm7['T']).reshape((7165,))\n",
    "R = qm7['R']\n",
    "Z = qm7['Z']"
   ]
  },
  {
   "cell_type": "markdown",
   "metadata": {},
   "source": [
    "## Data Augmentation  \n",
    "\n",
    "We simply do not have enough data for our convnet to be really accurate, so we can simply rearrange the order of the atoms and compute the Coulomb Matrix for that configuration. Note that the charge vector must also be rearranged in the exact same order. Theoretically for every molecule there are 23! permutations, which is a crazy large number so we will simply take 100 of these, so our total data will be 100 times larger. "
   ]
  },
  {
   "cell_type": "code",
   "execution_count": 65,
   "metadata": {
    "ExecuteTime": {
     "end_time": "2019-04-25T03:58:05.255676Z",
     "start_time": "2019-04-25T03:58:05.249757Z"
    }
   },
   "outputs": [],
   "source": [
    "'''\n",
    "If we wanted to randomize the ordering of the atoms,\n",
    "thus changing the Coulomb Matrix but not the atomization energy\n",
    "we first need to generate a permutation of the indices (0 to num_atoms-1)\n",
    "We generate 10 uniform random samples to use as indices to rearrange R and Z\n",
    "and then compute the Coulomb Matrix for this configuration\n",
    "'''\n",
    "np.random.choice()\n",
    "def get_coulomb_matrix(R, Z, indices=None):\n",
    "    CM = np.zeros((num_atoms, num_atoms))\n",
    "    \n",
    "    if indices is not None:\n",
    "        # need to rearrange R and Z\n",
    "        R = R[indices]\n",
    "        Z = Z[indices]\n",
    "    \n",
    "    dist_matrix = squareform(pdist(R))\n",
    "    for i in range(num_atoms):\n",
    "        for j in range(num_atoms):\n",
    "            # diagonals\n",
    "            if i == j:\n",
    "                CM[i,j] = 0.5 * Z[i]**2.4\n",
    "            else:\n",
    "                CM[i,j] = Z[i]*Z[j]/dist_matrix[i,j]\n",
    "    # because dividing by zero results in nan (invisible atoms)\n",
    "    CM[np.isnan(CM)] = 0\n",
    "    return CM"
   ]
  },
  {
   "cell_type": "code",
   "execution_count": 83,
   "metadata": {
    "ExecuteTime": {
     "end_time": "2019-04-25T04:14:26.182271Z",
     "start_time": "2019-04-25T04:12:20.171072Z"
    }
   },
   "outputs": [],
   "source": [
    "# This will increase our examples by a factor of 10\n",
    "augment_factor = 10\n",
    "\n",
    "CM_augmented = np.zeros((qm7['X'].shape[0]*augment_factor, num_atoms, num_atoms)) \n",
    "y_augmented = np.zeros((y.shape[0]*augment_factor,))\n",
    "\n",
    "for i in range(qm7['X'].shape[0]):\n",
    "    for j in range(augment_factor):\n",
    "        rand_indices = np.random.choice(np.arange(num_atoms), num_atoms, replace=False)\n",
    "        CM_augmented[(i*augment_factor)+j] = get_coulomb_matrix(R[i], Z[i], rand_indices)\n",
    "        y_augmented[(i*augment_factor)+j] = y[i]"
   ]
  },
  {
   "cell_type": "code",
   "execution_count": 113,
   "metadata": {
    "ExecuteTime": {
     "end_time": "2019-04-25T04:49:44.400654Z",
     "start_time": "2019-04-25T04:49:44.396340Z"
    }
   },
   "outputs": [
    {
     "data": {
      "text/plain": [
       "(71650, 23, 23, 1)"
      ]
     },
     "execution_count": 113,
     "metadata": {},
     "output_type": "execute_result"
    }
   ],
   "source": [
    "CM_augmented.shape"
   ]
  },
  {
   "cell_type": "code",
   "execution_count": null,
   "metadata": {},
   "outputs": [],
   "source": []
  }
 ],
 "metadata": {
  "kernelspec": {
   "display_name": "Python 3",
   "language": "python",
   "name": "python3"
  },
  "language_info": {
   "codemirror_mode": {
    "name": "ipython",
    "version": 3
   },
   "file_extension": ".py",
   "mimetype": "text/x-python",
   "name": "python",
   "nbconvert_exporter": "python",
   "pygments_lexer": "ipython3",
   "version": "3.6.7"
  },
  "latex_envs": {
   "LaTeX_envs_menu_present": true,
   "autoclose": false,
   "autocomplete": true,
   "bibliofile": "biblio.bib",
   "cite_by": "apalike",
   "current_citInitial": 1,
   "eqLabelWithNumbers": true,
   "eqNumInitial": 1,
   "hotkeys": {
    "equation": "Ctrl-E",
    "itemize": "Ctrl-I"
   },
   "labels_anchors": false,
   "latex_user_defs": false,
   "report_style_numbering": false,
   "user_envs_cfg": false
  },
  "toc": {
   "base_numbering": 1,
   "nav_menu": {},
   "number_sections": true,
   "sideBar": true,
   "skip_h1_title": false,
   "title_cell": "Table of Contents",
   "title_sidebar": "Contents",
   "toc_cell": false,
   "toc_position": {},
   "toc_section_display": true,
   "toc_window_display": false
  },
  "varInspector": {
   "cols": {
    "lenName": 16,
    "lenType": 16,
    "lenVar": 40
   },
   "kernels_config": {
    "python": {
     "delete_cmd_postfix": "",
     "delete_cmd_prefix": "del ",
     "library": "var_list.py",
     "varRefreshCmd": "print(var_dic_list())"
    },
    "r": {
     "delete_cmd_postfix": ") ",
     "delete_cmd_prefix": "rm(",
     "library": "var_list.r",
     "varRefreshCmd": "cat(var_dic_list()) "
    }
   },
   "types_to_exclude": [
    "module",
    "function",
    "builtin_function_or_method",
    "instance",
    "_Feature"
   ],
   "window_display": false
  }
 },
 "nbformat": 4,
 "nbformat_minor": 2
}
