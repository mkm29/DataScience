{
 "cells": [
  {
   "cell_type": "code",
   "execution_count": 141,
   "metadata": {
    "ExecuteTime": {
     "end_time": "2019-04-09T18:13:32.171492Z",
     "start_time": "2019-04-09T18:13:32.165525Z"
    }
   },
   "outputs": [],
   "source": [
    "import pandas as pd\n",
    "import scipy.io\n",
    "import numpy as np\n",
    "from scipy.spatial.distance import pdist, squareform\n",
    "import networkx as nx\n",
    "import matplotlib.pyplot as plt\n",
    "%matplotlib inline\n",
    "rand_state = 42\n",
    "np.random.seed(rand_state)"
   ]
  },
  {
   "cell_type": "markdown",
   "metadata": {},
   "source": [
    "**QM7** is a subset of GDB-13 (a database of nearly 1 billion stable and synthetically accessible organic molecules) containing up to 7 heavy atoms C, N, O, and S. The 3D Cartesian coordinates of the most stable conformations and their atomization energies were determined using ab-initio density functional theory (PBE0/tier2 basis set).This dataset also provided Coulomb matrices as calculated in [Rupp et al. PRL, 2012]:  \n",
    "  * $C_{i,i} = 0.5 \\cdot Z^2.4$  \n",
    "  * $C_{i,j} = Z_i \\cdot \\frac{Z_j}{|(R_i−R_j)|}$ \n",
    "  * $Z_i$ - nuclear charge of atom i  \n",
    "  * $R_i$ - cartesian coordinates of atom i  \n",
    "\n",
    "The data file (.mat format, we recommend using `scipy.io.loadmat` for python users) contains five arrays:  \n",
    "  * \"X\" - (7165 x 23 x 23), Coulomb matrices  \n",
    "  * \"T\" - (7165), atomization energies (unit: kcal/mol)  \n",
    "  * \"P\" - (5 x 1433), cross-validation splits as used in [Montavon et al. NIPS, 2012]  \n",
    "  * \"Z\" - (7165 x 23), atomic charges  \n",
    "  * \"R\" - (7165 x 23 x 3), cartesian coordinate (unit: Bohr) of each atom in the molecules  \n",
    "\n",
    "Reference:  \n",
    "Rupp, Matthias, et al. \"Fast and accurate modeling of molecular atomization energies with machine learning.\" Physical review letters 108.5 (2012): 058301.\n",
    "Montavon, Grégoire, et al. \"Learning invariant representations of molecules for atomization energy prediction.\" Advances in Neural Information Processing Systems. 2012.  \n",
    "\n",
    "For this model, I take the upper triangle of each Coulomb Matrix (with diagonal) and unroll it so each has the shape: (1, num_atoms*(num_atoms+1)/2). I then compute the pairwise distance matrix and from this get the corresponding Eigenvalues and [Eigenvector Centralities](https://en.wikipedia.org/wiki/Eigenvector_centrality). I am attempting to estimate the influence one particular atom plays on the entire molecule; typically this is performed on an adjacency matrix (graph), however, I am assuming the connectivity (bonds) are not known upfront (can be accurately predicted via Monte Carlo simulations).  \n",
    "\n",
    "This study is primarily based off two previous studies: a 2016 publication by [B. Himmetoglu](https://arxiv.org/abs/1609.07124) and a team of researchers at [Stanford](http://moleculenet.ai). The earlier work by Himmetoglu reported a RMSE of 38.75 kcal/mol on the train set and 36.83 on the test set. I was not able to find the full results from the team at Stanford, however, on their [site](http://moleculenet.ai/latest-results) they list a MAE of 8.56 (I am assuming that this metric comes from evaluating their TensorFlow regression model on the test set)."
   ]
  },
  {
   "cell_type": "code",
   "execution_count": 164,
   "metadata": {
    "ExecuteTime": {
     "end_time": "2019-04-09T18:25:17.058457Z",
     "start_time": "2019-04-09T18:24:19.794407Z"
    }
   },
   "outputs": [
    {
     "name": "stderr",
     "output_type": "stream",
     "text": [
      "/Users/mitchellmurphy/anaconda3/envs/python3.5/lib/python3.6/site-packages/ipykernel_launcher.py:23: ComplexWarning: Casting complex values to real discards the imaginary part\n"
     ]
    }
   ],
   "source": [
    "qm7 = scipy.io.loadmat('./data/qm7.mat')\n",
    "X_cm = qm7['X']\n",
    "# compute the Eigenvectors of the pairwise distance matrix?\n",
    "R = qm7['R']\n",
    "y = np.transpose(qm7['T'])\n",
    "\n",
    "\n",
    "k=0 # 0 = include diagnol, 1 = do not include diagnol\n",
    "iu = np.triu_indices(num_atoms,k=k) \n",
    "num_atoms = X_cm.shape[1]\n",
    "data_CM = np.zeros((X_cm.shape[0], num_atoms*(num_atoms+1)//2), dtype=float)\n",
    "data_eigs = np.zeros((X_cm.shape[0], num_atoms), dtype=float)\n",
    "data_centralities = np.zeros((X_cm.shape[0], num_atoms), dtype=float)\n",
    "\n",
    "for i, cm in enumerate(X_cm):\n",
    "    coulomb_vector = cm[iu]\n",
    "    # Sort elements by decreasing order\n",
    "    shuffle = np.argsort(-coulomb_vector)\n",
    "    data_CM[i] = coulomb_vector[shuffle]\n",
    "    \n",
    "    dist = squareform(pdist(R[i]))\n",
    "    w,v = np.linalg.eig((dist))\n",
    "    data_eigs[i] = w[np.argsort(-w)]\n",
    "    \n",
    "    data_centralities[i] = np.array(list(nx.eigenvector_centrality(nx.Graph(dist)).values()))\n",
    "    \n",
    "X = np.concatenate((data_CM, data_eigs, data_centralities), axis=1)"
   ]
  },
  {
   "cell_type": "code",
   "execution_count": 254,
   "metadata": {
    "ExecuteTime": {
     "end_time": "2019-04-09T20:31:05.852153Z",
     "start_time": "2019-04-09T20:31:05.840580Z"
    }
   },
   "outputs": [],
   "source": [
    "from sklearn.model_selection import train_test_split\n",
    "\n",
    "X_train, X_test, y_train, y_test = train_test_split(X, y, \n",
    "                                                    test_size=.3, \n",
    "                                                    random_state=rand_state)\n"
   ]
  },
  {
   "cell_type": "markdown",
   "metadata": {},
   "source": [
    "I am using 5-fold cross validation, so no need to split into train and test sets."
   ]
  },
  {
   "cell_type": "code",
   "execution_count": 294,
   "metadata": {
    "ExecuteTime": {
     "end_time": "2019-04-09T20:48:33.894828Z",
     "start_time": "2019-04-09T20:48:27.453520Z"
    }
   },
   "outputs": [
    {
     "name": "stdout",
     "output_type": "stream",
     "text": [
      "R2 (Train):  0.999136966570304\n",
      "MAE (Train):  5.062065\n",
      "R2 (Test):  0.9965743505441499\n",
      "MAE (test):  8.714102\n"
     ]
    }
   ],
   "source": [
    "import xgboost as xgb\n",
    "from sklearn.metrics import mean_absolute_error, r2_score\n",
    "\n",
    "data_dmatrix = xgb.DMatrix(data=X,label=y)\n",
    "\n",
    "params = {\"objective\":\"reg:linear\",\n",
    "          'subsample': 0.7,\n",
    "          'colsample_bytree': 0.2,\n",
    "          'learning_rate': 0.09,\n",
    "          'max_depth': 6, \n",
    "          'seed': rand_state}\n",
    "\n",
    "model = xgb.XGBRegressor(**params, n_estimators=100)\n",
    "model.fit(X_train, y_train, \n",
    "          verbose=False,\n",
    "          eval_metric='mae', \n",
    "          early_stopping_rounds=50, \n",
    "          eval_set=[(X_test, y_test)] )\n",
    "\n",
    "#res = model.evals_result()['validation_0']['mae']\n",
    "#plt.plot(res)\n",
    "\n",
    "print(\"R2 (Train): \", model.score(X_train, y_train))\n",
    "print(\"MAE (Train): \", mean_absolute_error(y_train, model.predict(X_train)))\n",
    "y_pred = model.predict(X_test)\n",
    "print(\"R2 (Test): \", r2_score(y_test, y_pred))\n",
    "print(\"MAE (test): \", mean_absolute_error(y_test, y_pred))"
   ]
  },
  {
   "cell_type": "code",
   "execution_count": 295,
   "metadata": {
    "ExecuteTime": {
     "end_time": "2019-04-09T20:48:39.580564Z",
     "start_time": "2019-04-09T20:48:36.240982Z"
    }
   },
   "outputs": [
    {
     "data": {
      "text/plain": [
       "<matplotlib.axes._subplots.AxesSubplot at 0xb20b207b8>"
      ]
     },
     "execution_count": 295,
     "metadata": {},
     "output_type": "execute_result"
    },
    {
     "data": {
      "image/png": "[encoded data removed]",
      "text/plain": [
       "<Figure size 432x288 with 1 Axes>"
      ]
     },
     "metadata": {
      "needs_background": "light"
     },
     "output_type": "display_data"
    }
   ],
   "source": [
    "from xgboost import plot_importance\n",
    "\n",
    "# plot feature importance\n",
    "plot_importance(model)"
   ]
  },
  {
   "cell_type": "code",
   "execution_count": null,
   "metadata": {},
   "outputs": [],
   "source": []
  }
 ],
 "metadata": {
  "kernelspec": {
   "display_name": "Python 3",
   "language": "python",
   "name": "python3"
  },
  "latex_envs": {
   "LaTeX_envs_menu_present": true,
   "autoclose": false,
   "autocomplete": true,
   "bibliofile": "biblio.bib",
   "cite_by": "apalike",
   "current_citInitial": 1,
   "eqLabelWithNumbers": true,
   "eqNumInitial": 1,
   "hotkeys": {
    "equation": "Ctrl-E",
    "itemize": "Ctrl-I"
   },
   "labels_anchors": false,
   "latex_user_defs": false,
   "report_style_numbering": false,
   "user_envs_cfg": false
  },
  "toc": {
   "base_numbering": 1,
   "nav_menu": {},
   "number_sections": true,
   "sideBar": true,
   "skip_h1_title": false,
   "title_cell": "Table of Contents",
   "title_sidebar": "Contents",
   "toc_cell": false,
   "toc_position": {},
   "toc_section_display": true,
   "toc_window_display": false
  },
  "varInspector": {
   "cols": {
    "lenName": 16,
    "lenType": 16,
    "lenVar": 40
   },
   "kernels_config": {
    "python": {
     "delete_cmd_postfix": "",
     "delete_cmd_prefix": "del ",
     "library": "var_list.py",
     "varRefreshCmd": "print(var_dic_list())"
    },
    "r": {
     "delete_cmd_postfix": ") ",
     "delete_cmd_prefix": "rm(",
     "library": "var_list.r",
     "varRefreshCmd": "cat(var_dic_list()) "
    }
   },
   "types_to_exclude": [
    "module",
    "function",
    "builtin_function_or_method",
    "instance",
    "_Feature"
   ],
   "window_display": false
  }
 },
 "nbformat": 4,
 "nbformat_minor": 2
}
