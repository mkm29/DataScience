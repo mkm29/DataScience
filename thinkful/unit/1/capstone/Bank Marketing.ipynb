{
 "cells": [
  {
   "cell_type": "code",
   "execution_count": 1,
   "metadata": {
    "ExecuteTime": {
     "end_time": "2018-11-22T16:51:12.810882Z",
     "start_time": "2018-11-22T16:51:11.985725Z"
    }
   },
   "outputs": [],
   "source": [
    "import pandas as pd\n",
    "import numpy as np\n",
    "import datetime\n",
    "import matplotlib.pyplot as plt\n",
    "import seaborn as sns\n",
    "import warnings; warnings.simplefilter('ignore')\n",
    "from mpl_toolkits.mplot3d import Axes3D"
   ]
  },
  {
   "cell_type": "markdown",
   "metadata": {},
   "source": [
    "# Introduction\n",
    "\n",
    "http://media.salford-systems.com/video/tutorial/2015/targeted_marketing.pdf\n",
    "\n",
    "**Problem**: Only about 11% of customers at a Portuguese bank purchased long term deposits. How can the bank increase these numbers? We assume that all term deposits are equivalent in value. "
   ]
  },
  {
   "cell_type": "code",
   "execution_count": 2,
   "metadata": {
    "ExecuteTime": {
     "end_time": "2018-11-22T16:51:14.825202Z",
     "start_time": "2018-11-22T16:51:14.454613Z"
    }
   },
   "outputs": [],
   "source": [
    "def to_int(is_true):\n",
    "    if is_true == 'yes':\n",
    "        return 1\n",
    "    else:\n",
    "        return 0\n",
    "\n",
    "def weekday_to_int(day):\n",
    "    dict = {\"mon\" : 0, \"tue\" : 1, \"wed\" : 2, \"thu\" : 3, \"fri\" : 4}\n",
    "    return dict[day]\n",
    "\n",
    "def month_to_int(month):\n",
    "    dict = {\"jan\" : 0, \n",
    "            \"feb\" : 1, \n",
    "            \"mar\" : 2, \n",
    "            \"apr\" : 3, \n",
    "            \"may\" : 4, \n",
    "            \"jun\" : 5, \n",
    "            \"jul\" : 6, \n",
    "            \"aug\" : 7, \n",
    "            \"sep\" : 8, \n",
    "            \"oct\" : 9, \n",
    "            \"nov\" : 10, \n",
    "            \"dec\" : 11 }\n",
    "    return dict[month]\n",
    "\n",
    "# need to convert poutcome to a numeric variable\n",
    "# currently consists of nonexistent, failure, success\n",
    "\n",
    "def poutcome_to_int(x):\n",
    "    dict = {\"nonexistent\" : np.nan, \"failure\" : 0, \"success\" : 1}\n",
    "    return dict[x]\n",
    "    \n",
    "need_conversion = {\"default\" : to_int,\n",
    "                   \"housing\" : to_int, \n",
    "                   \"loan\" : to_int,\n",
    "                   \"y\" : to_int,\n",
    "                   \"day_of_week\" : weekday_to_int,\n",
    "                   \"month\" : month_to_int, \n",
    "                   \"poutcome\" : poutcome_to_int}\n",
    "\n",
    "types = {\"age\": int, \n",
    "         \"job\" : \"category\",\n",
    "         \"marital\" : \"category\",\n",
    "         \"education\" : \"category\",\n",
    "         \"contact\" : \"category\"}\n",
    "\n",
    "df = pd.read_csv(\"bank-additional-full.csv\", sep=';', converters=need_conversion, dtype=types)\n",
    "\n",
    "age_brackets = [\"19-28\", \"29-38\", \"39-47\", \"48-57\", \"58-67\", \"68-77\", \"78+\"]\n",
    "df[\"age_bracket\"] = pd.cut(df.age, 4, labels=[\"1\",\"2\",\"3\",\"4\"])"
   ]
  },
  {
   "cell_type": "markdown",
   "metadata": {},
   "source": [
    "## Variables\n",
    "\n",
    "Input variables:\n",
    "### bank client data\n",
    "  1. age (numeric)\n",
    "  2. job : type of job (categorical: \"admin.\",\"blue-collar\",\"entrepreneur\",\"housemaid\",\"management\",\"retired\",\"self-employed\",\"services\",\"student\",\"technician\",\"unemployed\",\"unknown\")\n",
    "  3. marital : marital status (categorical: \"divorced\",\"married\",\"single\",\"unknown\"; note: \"divorced\" means divorced or widowed)\n",
    "  4. education (categorical: \"basic.4y\",\"basic.6y\",\"basic.9y\",\"high.school\",\"illiterate\",\"professional.course\",\"university.degree\",\"unknown\")\n",
    "  5. default: has credit in default? (categorical: \"no\",\"yes\",\"unknown\")\n",
    "  6. housing: has housing loan? (categorical: \"no\",\"yes\",\"unknown\")\n",
    "  7. loan: has personal loan? (categorical: \"no\",\"yes\",\"unknown\")\n",
    "\n",
    "\n",
    "### related with the last contact of the current campaign\n",
    "  8. contact: contact communication type (categorical: \"cellular\",\"telephone\") \n",
    "  9. month: last contact month of year (categorical: \"jan\", \"feb\", \"mar\", ..., \"nov\", \"dec\")\n",
    "  10. day_of_week: last contact day of the week (categorical: \"mon\",\"tue\",\"wed\",\"thu\",\"fri\")\n",
    "  11. duration: last contact duration, in seconds (numeric). Important note:  this attribute highly affects the output target (e.g., if duration=0 then y=\"no\"). Yet, the duration is not known before a call is performed. Also, after the end of the call y is obviously known. Thus, this input should only be included for benchmark purposes and should be discarded if the intention is to have a realistic predictive model.\n",
    "   \n",
    "### other attributes\n",
    "  12. campaign: number of contacts performed during this campaign and for this client (numeric, includes last contact)\n",
    "  13. pdays: number of days that passed by after the client was last contacted from a previous campaign (numeric; 999 means client was not previously contacted)\n",
    "  14. previous: number of contacts performed before this campaign and for this client (numeric)\n",
    "  15. poutcome: outcome of the previous marketing campaign (categorical: \"failure\",\"nonexistent\",\"success\")\n",
    "\n",
    "### social and economic context attributes\n",
    "  16. emp.var.rate: employment variation rate - quarterly indicator (numeric)\n",
    "  17. cons.price.idx: consumer price index - monthly indicator (numeric)     \n",
    "  18. cons.conf.idx: consumer confidence index - monthly indicator (numeric)     \n",
    "  19. euribor3m: euribor 3 month rate - daily indicator (numeric)\n",
    "  20. nr.employed: number of employees - quarterly indicator (numeric)\n",
    "  \n",
    "  \n",
    "## notes\n",
    "\n",
    "  Upon reading in the data, we transformed a few of the columns into a format more suitable for analysis, including:\n",
    "  * default, housing, loan, poutcome: binary representation (0 or 1)\n",
    "  * day_of_week: converted string abbreviation (mon, tue) to integers. starting with 0 for \"mon\"\n",
    "  * month: similar to above, but with 0 representing \"jan\" and 11 for \"dec\" \n",
    "  \n",
    "Certain variables only take on a small number of values, so we converted these fields into category variables:\n",
    "  * job, marital, education and contact\n"
   ]
  },
  {
   "cell_type": "code",
   "execution_count": 16,
   "metadata": {
    "ExecuteTime": {
     "end_time": "2018-11-21T18:18:18.840809Z",
     "start_time": "2018-11-21T18:18:18.817534Z"
    }
   },
   "outputs": [
    {
     "name": "stdout",
     "output_type": "stream",
     "text": [
      "<class 'pandas.core.frame.DataFrame'>\n",
      "RangeIndex: 41188 entries, 0 to 41187\n",
      "Data columns (total 22 columns):\n",
      "age               41188 non-null int64\n",
      "job               41188 non-null category\n",
      "marital           41188 non-null category\n",
      "education         41188 non-null category\n",
      "default           41188 non-null int64\n",
      "housing           41188 non-null int64\n",
      "loan              41188 non-null int64\n",
      "contact           41188 non-null category\n",
      "month             41188 non-null int64\n",
      "day_of_week       41188 non-null int64\n",
      "duration          41188 non-null int64\n",
      "campaign          41188 non-null int64\n",
      "pdays             41188 non-null int64\n",
      "previous          41188 non-null int64\n",
      "poutcome          5625 non-null float64\n",
      "emp.var.rate      41188 non-null float64\n",
      "cons.price.idx    41188 non-null float64\n",
      "cons.conf.idx     41188 non-null float64\n",
      "euribor3m         41188 non-null float64\n",
      "nr.employed       41188 non-null float64\n",
      "y                 41188 non-null int64\n",
      "age_bracket       41188 non-null category\n",
      "dtypes: category(5), float64(6), int64(11)\n",
      "memory usage: 5.5 MB\n"
     ]
    }
   ],
   "source": [
    "df.info()"
   ]
  },
  {
   "cell_type": "code",
   "execution_count": 3,
   "metadata": {
    "ExecuteTime": {
     "end_time": "2018-11-21T18:01:35.921994Z",
     "start_time": "2018-11-21T18:01:35.893112Z"
    }
   },
   "outputs": [
    {
     "data": {
      "text/html": [
       "<div>\n",
       "<style scoped>\n",
       "    .dataframe tbody tr th:only-of-type {\n",
       "        vertical-align: middle;\n",
       "    }\n",
       "\n",
       "    .dataframe tbody tr th {\n",
       "        vertical-align: top;\n",
       "    }\n",
       "\n",
       "    .dataframe thead th {\n",
       "        text-align: right;\n",
       "    }\n",
       "</style>\n",
       "<table border=\"1\" class=\"dataframe\">\n",
       "  <thead>\n",
       "    <tr style=\"text-align: right;\">\n",
       "      <th></th>\n",
       "      <th>age</th>\n",
       "      <th>job</th>\n",
       "      <th>marital</th>\n",
       "      <th>education</th>\n",
       "      <th>default</th>\n",
       "      <th>housing</th>\n",
       "      <th>loan</th>\n",
       "      <th>contact</th>\n",
       "      <th>month</th>\n",
       "      <th>day_of_week</th>\n",
       "      <th>...</th>\n",
       "      <th>pdays</th>\n",
       "      <th>previous</th>\n",
       "      <th>poutcome</th>\n",
       "      <th>emp.var.rate</th>\n",
       "      <th>cons.price.idx</th>\n",
       "      <th>cons.conf.idx</th>\n",
       "      <th>euribor3m</th>\n",
       "      <th>nr.employed</th>\n",
       "      <th>y</th>\n",
       "      <th>age_bracket</th>\n",
       "    </tr>\n",
       "  </thead>\n",
       "  <tbody>\n",
       "    <tr>\n",
       "      <th>0</th>\n",
       "      <td>56</td>\n",
       "      <td>housemaid</td>\n",
       "      <td>married</td>\n",
       "      <td>basic.4y</td>\n",
       "      <td>0</td>\n",
       "      <td>0</td>\n",
       "      <td>0</td>\n",
       "      <td>telephone</td>\n",
       "      <td>4</td>\n",
       "      <td>0</td>\n",
       "      <td>...</td>\n",
       "      <td>999</td>\n",
       "      <td>0</td>\n",
       "      <td>NaN</td>\n",
       "      <td>1.1</td>\n",
       "      <td>93.994</td>\n",
       "      <td>-36.4</td>\n",
       "      <td>4.857</td>\n",
       "      <td>5191.0</td>\n",
       "      <td>0</td>\n",
       "      <td>2</td>\n",
       "    </tr>\n",
       "    <tr>\n",
       "      <th>1</th>\n",
       "      <td>57</td>\n",
       "      <td>services</td>\n",
       "      <td>married</td>\n",
       "      <td>high.school</td>\n",
       "      <td>0</td>\n",
       "      <td>0</td>\n",
       "      <td>0</td>\n",
       "      <td>telephone</td>\n",
       "      <td>4</td>\n",
       "      <td>0</td>\n",
       "      <td>...</td>\n",
       "      <td>999</td>\n",
       "      <td>0</td>\n",
       "      <td>NaN</td>\n",
       "      <td>1.1</td>\n",
       "      <td>93.994</td>\n",
       "      <td>-36.4</td>\n",
       "      <td>4.857</td>\n",
       "      <td>5191.0</td>\n",
       "      <td>0</td>\n",
       "      <td>2</td>\n",
       "    </tr>\n",
       "    <tr>\n",
       "      <th>2</th>\n",
       "      <td>37</td>\n",
       "      <td>services</td>\n",
       "      <td>married</td>\n",
       "      <td>high.school</td>\n",
       "      <td>0</td>\n",
       "      <td>1</td>\n",
       "      <td>0</td>\n",
       "      <td>telephone</td>\n",
       "      <td>4</td>\n",
       "      <td>0</td>\n",
       "      <td>...</td>\n",
       "      <td>999</td>\n",
       "      <td>0</td>\n",
       "      <td>NaN</td>\n",
       "      <td>1.1</td>\n",
       "      <td>93.994</td>\n",
       "      <td>-36.4</td>\n",
       "      <td>4.857</td>\n",
       "      <td>5191.0</td>\n",
       "      <td>0</td>\n",
       "      <td>1</td>\n",
       "    </tr>\n",
       "    <tr>\n",
       "      <th>3</th>\n",
       "      <td>40</td>\n",
       "      <td>admin.</td>\n",
       "      <td>married</td>\n",
       "      <td>basic.6y</td>\n",
       "      <td>0</td>\n",
       "      <td>0</td>\n",
       "      <td>0</td>\n",
       "      <td>telephone</td>\n",
       "      <td>4</td>\n",
       "      <td>0</td>\n",
       "      <td>...</td>\n",
       "      <td>999</td>\n",
       "      <td>0</td>\n",
       "      <td>NaN</td>\n",
       "      <td>1.1</td>\n",
       "      <td>93.994</td>\n",
       "      <td>-36.4</td>\n",
       "      <td>4.857</td>\n",
       "      <td>5191.0</td>\n",
       "      <td>0</td>\n",
       "      <td>2</td>\n",
       "    </tr>\n",
       "    <tr>\n",
       "      <th>4</th>\n",
       "      <td>56</td>\n",
       "      <td>services</td>\n",
       "      <td>married</td>\n",
       "      <td>high.school</td>\n",
       "      <td>0</td>\n",
       "      <td>0</td>\n",
       "      <td>1</td>\n",
       "      <td>telephone</td>\n",
       "      <td>4</td>\n",
       "      <td>0</td>\n",
       "      <td>...</td>\n",
       "      <td>999</td>\n",
       "      <td>0</td>\n",
       "      <td>NaN</td>\n",
       "      <td>1.1</td>\n",
       "      <td>93.994</td>\n",
       "      <td>-36.4</td>\n",
       "      <td>4.857</td>\n",
       "      <td>5191.0</td>\n",
       "      <td>0</td>\n",
       "      <td>2</td>\n",
       "    </tr>\n",
       "  </tbody>\n",
       "</table>\n",
       "<p>5 rows × 22 columns</p>\n",
       "</div>"
      ],
      "text/plain": [
       "   age        job  marital    education  default  housing  loan    contact  \\\n",
       "0   56  housemaid  married     basic.4y        0        0     0  telephone   \n",
       "1   57   services  married  high.school        0        0     0  telephone   \n",
       "2   37   services  married  high.school        0        1     0  telephone   \n",
       "3   40     admin.  married     basic.6y        0        0     0  telephone   \n",
       "4   56   services  married  high.school        0        0     1  telephone   \n",
       "\n",
       "   month  day_of_week     ...       pdays  previous  poutcome  emp.var.rate  \\\n",
       "0      4            0     ...         999         0       NaN           1.1   \n",
       "1      4            0     ...         999         0       NaN           1.1   \n",
       "2      4            0     ...         999         0       NaN           1.1   \n",
       "3      4            0     ...         999         0       NaN           1.1   \n",
       "4      4            0     ...         999         0       NaN           1.1   \n",
       "\n",
       "   cons.price.idx  cons.conf.idx  euribor3m  nr.employed  y  age_bracket  \n",
       "0          93.994          -36.4      4.857       5191.0  0            2  \n",
       "1          93.994          -36.4      4.857       5191.0  0            2  \n",
       "2          93.994          -36.4      4.857       5191.0  0            1  \n",
       "3          93.994          -36.4      4.857       5191.0  0            2  \n",
       "4          93.994          -36.4      4.857       5191.0  0            2  \n",
       "\n",
       "[5 rows x 22 columns]"
      ]
     },
     "execution_count": 3,
     "metadata": {},
     "output_type": "execute_result"
    }
   ],
   "source": [
    "df.head()"
   ]
  },
  {
   "cell_type": "code",
   "execution_count": 3,
   "metadata": {
    "ExecuteTime": {
     "end_time": "2018-11-22T15:58:35.210488Z",
     "start_time": "2018-11-22T15:58:35.052218Z"
    }
   },
   "outputs": [
    {
     "data": {
      "text/html": [
       "<div>\n",
       "<style scoped>\n",
       "    .dataframe tbody tr th:only-of-type {\n",
       "        vertical-align: middle;\n",
       "    }\n",
       "\n",
       "    .dataframe tbody tr th {\n",
       "        vertical-align: top;\n",
       "    }\n",
       "\n",
       "    .dataframe thead th {\n",
       "        text-align: right;\n",
       "    }\n",
       "</style>\n",
       "<table border=\"1\" class=\"dataframe\">\n",
       "  <thead>\n",
       "    <tr style=\"text-align: right;\">\n",
       "      <th></th>\n",
       "      <th>age</th>\n",
       "      <th>job</th>\n",
       "      <th>marital</th>\n",
       "      <th>education</th>\n",
       "      <th>default</th>\n",
       "      <th>housing</th>\n",
       "      <th>loan</th>\n",
       "      <th>contact</th>\n",
       "      <th>month</th>\n",
       "      <th>day_of_week</th>\n",
       "      <th>...</th>\n",
       "      <th>pdays</th>\n",
       "      <th>previous</th>\n",
       "      <th>poutcome</th>\n",
       "      <th>emp.var.rate</th>\n",
       "      <th>cons.price.idx</th>\n",
       "      <th>cons.conf.idx</th>\n",
       "      <th>euribor3m</th>\n",
       "      <th>nr.employed</th>\n",
       "      <th>y</th>\n",
       "      <th>age_bracket</th>\n",
       "    </tr>\n",
       "  </thead>\n",
       "  <tbody>\n",
       "    <tr>\n",
       "      <th>count</th>\n",
       "      <td>41188.00000</td>\n",
       "      <td>41188</td>\n",
       "      <td>41188</td>\n",
       "      <td>41188</td>\n",
       "      <td>41188.000000</td>\n",
       "      <td>41188.000000</td>\n",
       "      <td>41188.000000</td>\n",
       "      <td>41188</td>\n",
       "      <td>41188.000000</td>\n",
       "      <td>41188.000000</td>\n",
       "      <td>...</td>\n",
       "      <td>41188.000000</td>\n",
       "      <td>41188.000000</td>\n",
       "      <td>5625.000000</td>\n",
       "      <td>41188.000000</td>\n",
       "      <td>41188.000000</td>\n",
       "      <td>41188.000000</td>\n",
       "      <td>41188.000000</td>\n",
       "      <td>41188.000000</td>\n",
       "      <td>41188.000000</td>\n",
       "      <td>41188</td>\n",
       "    </tr>\n",
       "    <tr>\n",
       "      <th>unique</th>\n",
       "      <td>NaN</td>\n",
       "      <td>12</td>\n",
       "      <td>4</td>\n",
       "      <td>8</td>\n",
       "      <td>NaN</td>\n",
       "      <td>NaN</td>\n",
       "      <td>NaN</td>\n",
       "      <td>2</td>\n",
       "      <td>NaN</td>\n",
       "      <td>NaN</td>\n",
       "      <td>...</td>\n",
       "      <td>NaN</td>\n",
       "      <td>NaN</td>\n",
       "      <td>NaN</td>\n",
       "      <td>NaN</td>\n",
       "      <td>NaN</td>\n",
       "      <td>NaN</td>\n",
       "      <td>NaN</td>\n",
       "      <td>NaN</td>\n",
       "      <td>NaN</td>\n",
       "      <td>4</td>\n",
       "    </tr>\n",
       "    <tr>\n",
       "      <th>top</th>\n",
       "      <td>NaN</td>\n",
       "      <td>admin.</td>\n",
       "      <td>married</td>\n",
       "      <td>university.degree</td>\n",
       "      <td>NaN</td>\n",
       "      <td>NaN</td>\n",
       "      <td>NaN</td>\n",
       "      <td>cellular</td>\n",
       "      <td>NaN</td>\n",
       "      <td>NaN</td>\n",
       "      <td>...</td>\n",
       "      <td>NaN</td>\n",
       "      <td>NaN</td>\n",
       "      <td>NaN</td>\n",
       "      <td>NaN</td>\n",
       "      <td>NaN</td>\n",
       "      <td>NaN</td>\n",
       "      <td>NaN</td>\n",
       "      <td>NaN</td>\n",
       "      <td>NaN</td>\n",
       "      <td>1</td>\n",
       "    </tr>\n",
       "    <tr>\n",
       "      <th>freq</th>\n",
       "      <td>NaN</td>\n",
       "      <td>10422</td>\n",
       "      <td>24928</td>\n",
       "      <td>12168</td>\n",
       "      <td>NaN</td>\n",
       "      <td>NaN</td>\n",
       "      <td>NaN</td>\n",
       "      <td>26144</td>\n",
       "      <td>NaN</td>\n",
       "      <td>NaN</td>\n",
       "      <td>...</td>\n",
       "      <td>NaN</td>\n",
       "      <td>NaN</td>\n",
       "      <td>NaN</td>\n",
       "      <td>NaN</td>\n",
       "      <td>NaN</td>\n",
       "      <td>NaN</td>\n",
       "      <td>NaN</td>\n",
       "      <td>NaN</td>\n",
       "      <td>NaN</td>\n",
       "      <td>19768</td>\n",
       "    </tr>\n",
       "    <tr>\n",
       "      <th>mean</th>\n",
       "      <td>40.02406</td>\n",
       "      <td>NaN</td>\n",
       "      <td>NaN</td>\n",
       "      <td>NaN</td>\n",
       "      <td>0.000073</td>\n",
       "      <td>0.523842</td>\n",
       "      <td>0.151695</td>\n",
       "      <td>NaN</td>\n",
       "      <td>5.607896</td>\n",
       "      <td>1.979581</td>\n",
       "      <td>...</td>\n",
       "      <td>962.475454</td>\n",
       "      <td>0.172963</td>\n",
       "      <td>0.244089</td>\n",
       "      <td>0.081886</td>\n",
       "      <td>93.575664</td>\n",
       "      <td>-40.502600</td>\n",
       "      <td>3.621291</td>\n",
       "      <td>5167.035911</td>\n",
       "      <td>0.112654</td>\n",
       "      <td>NaN</td>\n",
       "    </tr>\n",
       "    <tr>\n",
       "      <th>std</th>\n",
       "      <td>10.42125</td>\n",
       "      <td>NaN</td>\n",
       "      <td>NaN</td>\n",
       "      <td>NaN</td>\n",
       "      <td>0.008534</td>\n",
       "      <td>0.499437</td>\n",
       "      <td>0.358729</td>\n",
       "      <td>NaN</td>\n",
       "      <td>2.040998</td>\n",
       "      <td>1.411514</td>\n",
       "      <td>...</td>\n",
       "      <td>186.910907</td>\n",
       "      <td>0.494901</td>\n",
       "      <td>0.429584</td>\n",
       "      <td>1.570960</td>\n",
       "      <td>0.578840</td>\n",
       "      <td>4.628198</td>\n",
       "      <td>1.734447</td>\n",
       "      <td>72.251528</td>\n",
       "      <td>0.316173</td>\n",
       "      <td>NaN</td>\n",
       "    </tr>\n",
       "    <tr>\n",
       "      <th>min</th>\n",
       "      <td>17.00000</td>\n",
       "      <td>NaN</td>\n",
       "      <td>NaN</td>\n",
       "      <td>NaN</td>\n",
       "      <td>0.000000</td>\n",
       "      <td>0.000000</td>\n",
       "      <td>0.000000</td>\n",
       "      <td>NaN</td>\n",
       "      <td>2.000000</td>\n",
       "      <td>0.000000</td>\n",
       "      <td>...</td>\n",
       "      <td>0.000000</td>\n",
       "      <td>0.000000</td>\n",
       "      <td>0.000000</td>\n",
       "      <td>-3.400000</td>\n",
       "      <td>92.201000</td>\n",
       "      <td>-50.800000</td>\n",
       "      <td>0.634000</td>\n",
       "      <td>4963.600000</td>\n",
       "      <td>0.000000</td>\n",
       "      <td>NaN</td>\n",
       "    </tr>\n",
       "    <tr>\n",
       "      <th>25%</th>\n",
       "      <td>32.00000</td>\n",
       "      <td>NaN</td>\n",
       "      <td>NaN</td>\n",
       "      <td>NaN</td>\n",
       "      <td>0.000000</td>\n",
       "      <td>0.000000</td>\n",
       "      <td>0.000000</td>\n",
       "      <td>NaN</td>\n",
       "      <td>4.000000</td>\n",
       "      <td>1.000000</td>\n",
       "      <td>...</td>\n",
       "      <td>999.000000</td>\n",
       "      <td>0.000000</td>\n",
       "      <td>0.000000</td>\n",
       "      <td>-1.800000</td>\n",
       "      <td>93.075000</td>\n",
       "      <td>-42.700000</td>\n",
       "      <td>1.344000</td>\n",
       "      <td>5099.100000</td>\n",
       "      <td>0.000000</td>\n",
       "      <td>NaN</td>\n",
       "    </tr>\n",
       "    <tr>\n",
       "      <th>50%</th>\n",
       "      <td>38.00000</td>\n",
       "      <td>NaN</td>\n",
       "      <td>NaN</td>\n",
       "      <td>NaN</td>\n",
       "      <td>0.000000</td>\n",
       "      <td>1.000000</td>\n",
       "      <td>0.000000</td>\n",
       "      <td>NaN</td>\n",
       "      <td>5.000000</td>\n",
       "      <td>2.000000</td>\n",
       "      <td>...</td>\n",
       "      <td>999.000000</td>\n",
       "      <td>0.000000</td>\n",
       "      <td>0.000000</td>\n",
       "      <td>1.100000</td>\n",
       "      <td>93.749000</td>\n",
       "      <td>-41.800000</td>\n",
       "      <td>4.857000</td>\n",
       "      <td>5191.000000</td>\n",
       "      <td>0.000000</td>\n",
       "      <td>NaN</td>\n",
       "    </tr>\n",
       "    <tr>\n",
       "      <th>75%</th>\n",
       "      <td>47.00000</td>\n",
       "      <td>NaN</td>\n",
       "      <td>NaN</td>\n",
       "      <td>NaN</td>\n",
       "      <td>0.000000</td>\n",
       "      <td>1.000000</td>\n",
       "      <td>0.000000</td>\n",
       "      <td>NaN</td>\n",
       "      <td>7.000000</td>\n",
       "      <td>3.000000</td>\n",
       "      <td>...</td>\n",
       "      <td>999.000000</td>\n",
       "      <td>0.000000</td>\n",
       "      <td>0.000000</td>\n",
       "      <td>1.400000</td>\n",
       "      <td>93.994000</td>\n",
       "      <td>-36.400000</td>\n",
       "      <td>4.961000</td>\n",
       "      <td>5228.100000</td>\n",
       "      <td>0.000000</td>\n",
       "      <td>NaN</td>\n",
       "    </tr>\n",
       "    <tr>\n",
       "      <th>max</th>\n",
       "      <td>98.00000</td>\n",
       "      <td>NaN</td>\n",
       "      <td>NaN</td>\n",
       "      <td>NaN</td>\n",
       "      <td>1.000000</td>\n",
       "      <td>1.000000</td>\n",
       "      <td>1.000000</td>\n",
       "      <td>NaN</td>\n",
       "      <td>11.000000</td>\n",
       "      <td>4.000000</td>\n",
       "      <td>...</td>\n",
       "      <td>999.000000</td>\n",
       "      <td>7.000000</td>\n",
       "      <td>1.000000</td>\n",
       "      <td>1.400000</td>\n",
       "      <td>94.767000</td>\n",
       "      <td>-26.900000</td>\n",
       "      <td>5.045000</td>\n",
       "      <td>5228.100000</td>\n",
       "      <td>1.000000</td>\n",
       "      <td>NaN</td>\n",
       "    </tr>\n",
       "  </tbody>\n",
       "</table>\n",
       "<p>11 rows × 22 columns</p>\n",
       "</div>"
      ],
      "text/plain": [
       "                age     job  marital          education       default  \\\n",
       "count   41188.00000   41188    41188              41188  41188.000000   \n",
       "unique          NaN      12        4                  8           NaN   \n",
       "top             NaN  admin.  married  university.degree           NaN   \n",
       "freq            NaN   10422    24928              12168           NaN   \n",
       "mean       40.02406     NaN      NaN                NaN      0.000073   \n",
       "std        10.42125     NaN      NaN                NaN      0.008534   \n",
       "min        17.00000     NaN      NaN                NaN      0.000000   \n",
       "25%        32.00000     NaN      NaN                NaN      0.000000   \n",
       "50%        38.00000     NaN      NaN                NaN      0.000000   \n",
       "75%        47.00000     NaN      NaN                NaN      0.000000   \n",
       "max        98.00000     NaN      NaN                NaN      1.000000   \n",
       "\n",
       "             housing          loan   contact         month   day_of_week  \\\n",
       "count   41188.000000  41188.000000     41188  41188.000000  41188.000000   \n",
       "unique           NaN           NaN         2           NaN           NaN   \n",
       "top              NaN           NaN  cellular           NaN           NaN   \n",
       "freq             NaN           NaN     26144           NaN           NaN   \n",
       "mean        0.523842      0.151695       NaN      5.607896      1.979581   \n",
       "std         0.499437      0.358729       NaN      2.040998      1.411514   \n",
       "min         0.000000      0.000000       NaN      2.000000      0.000000   \n",
       "25%         0.000000      0.000000       NaN      4.000000      1.000000   \n",
       "50%         1.000000      0.000000       NaN      5.000000      2.000000   \n",
       "75%         1.000000      0.000000       NaN      7.000000      3.000000   \n",
       "max         1.000000      1.000000       NaN     11.000000      4.000000   \n",
       "\n",
       "           ...              pdays      previous     poutcome  emp.var.rate  \\\n",
       "count      ...       41188.000000  41188.000000  5625.000000  41188.000000   \n",
       "unique     ...                NaN           NaN          NaN           NaN   \n",
       "top        ...                NaN           NaN          NaN           NaN   \n",
       "freq       ...                NaN           NaN          NaN           NaN   \n",
       "mean       ...         962.475454      0.172963     0.244089      0.081886   \n",
       "std        ...         186.910907      0.494901     0.429584      1.570960   \n",
       "min        ...           0.000000      0.000000     0.000000     -3.400000   \n",
       "25%        ...         999.000000      0.000000     0.000000     -1.800000   \n",
       "50%        ...         999.000000      0.000000     0.000000      1.100000   \n",
       "75%        ...         999.000000      0.000000     0.000000      1.400000   \n",
       "max        ...         999.000000      7.000000     1.000000      1.400000   \n",
       "\n",
       "        cons.price.idx  cons.conf.idx     euribor3m   nr.employed  \\\n",
       "count     41188.000000   41188.000000  41188.000000  41188.000000   \n",
       "unique             NaN            NaN           NaN           NaN   \n",
       "top                NaN            NaN           NaN           NaN   \n",
       "freq               NaN            NaN           NaN           NaN   \n",
       "mean         93.575664     -40.502600      3.621291   5167.035911   \n",
       "std           0.578840       4.628198      1.734447     72.251528   \n",
       "min          92.201000     -50.800000      0.634000   4963.600000   \n",
       "25%          93.075000     -42.700000      1.344000   5099.100000   \n",
       "50%          93.749000     -41.800000      4.857000   5191.000000   \n",
       "75%          93.994000     -36.400000      4.961000   5228.100000   \n",
       "max          94.767000     -26.900000      5.045000   5228.100000   \n",
       "\n",
       "                   y  age_bracket  \n",
       "count   41188.000000        41188  \n",
       "unique           NaN            4  \n",
       "top              NaN            1  \n",
       "freq             NaN        19768  \n",
       "mean        0.112654          NaN  \n",
       "std         0.316173          NaN  \n",
       "min         0.000000          NaN  \n",
       "25%         0.000000          NaN  \n",
       "50%         0.000000          NaN  \n",
       "75%         0.000000          NaN  \n",
       "max         1.000000          NaN  \n",
       "\n",
       "[11 rows x 22 columns]"
      ]
     },
     "execution_count": 3,
     "metadata": {},
     "output_type": "execute_result"
    }
   ],
   "source": [
    "df.describe(include='all')"
   ]
  },
  {
   "cell_type": "markdown",
   "metadata": {},
   "source": [
    "## Summary of Data\n",
    "\n",
    "Just to get a brief overview of our data, here is what the typical customer looks like:\n",
    "  * 40 years old\n",
    "  * Married\n",
    "  * Works in the admin field\n",
    "  * Hold a university degree \n",
    "  * Has a housing loan with the bank offering the deposit\n",
    "  * Reached via cellular phone\n",
    "\n",
    "Stats on the current campaign:\n",
    "  * Primarily conducted during the summer months, particularly April\n",
    "  * Calls were made nearly uniform during the week (day)\n",
    "  * Calls lasted an average of 258 seconds (4.3 minutes)\n",
    "  * Each customer was contacted an average of 2.5 times during this campaign\n",
    "\n",
    "Stats on previous campaign(s):\n",
    "  * After being contacted (for a previous campaign), an average of 962 days passed\n",
    "  * During the last campaign, 1 in every 5.8 customers were contacted at least once\n",
    "  * Every customer was contacted at least once during the current campaign\n",
    "  * 24.4% of customers purchased a long-term deposit during the previous campaign\n",
    "  * 86.3% of all customers were not contacted at all during the previous campaign\n",
    "    * Which means only 13.6% of all customers were contacted at least once during both campaigns\n",
    "\n",
    "The standard deviation of the social-economic variables are high (relative to it's mean). "
   ]
  },
  {
   "cell_type": "code",
   "execution_count": 18,
   "metadata": {
    "ExecuteTime": {
     "end_time": "2018-11-21T01:49:48.702543Z",
     "start_time": "2018-11-21T01:49:48.559163Z"
    }
   },
   "outputs": [
    {
     "data": {
      "text/plain": [
       "<matplotlib.legend.Legend at 0x1a25715668>"
      ]
     },
     "execution_count": 18,
     "metadata": {},
     "output_type": "execute_result"
    },
    {
     "data": {
      "image/png": "[encoded data removed]",
      "text/plain": [
       "<Figure size 432x288 with 1 Axes>"
      ]
     },
     "metadata": {
      "needs_background": "light"
     },
     "output_type": "display_data"
    }
   ],
   "source": [
    "ax = sns.countplot(df.y)\n",
    "plt.xticks([0,1],[\"No\", \"Yes\"])\n",
    "ax.set_xlabel(\"Subscribed\")\n",
    "plt.legend([\"Yes: {}%\".format(round(100*mu,1))])"
   ]
  },
  {
   "cell_type": "code",
   "execution_count": 114,
   "metadata": {
    "ExecuteTime": {
     "end_time": "2018-11-21T19:31:06.290325Z",
     "start_time": "2018-11-21T19:31:05.359372Z"
    }
   },
   "outputs": [
    {
     "data": {
      "text/plain": [
       "<matplotlib.axes._subplots.AxesSubplot at 0x1a273a4f60>"
      ]
     },
     "execution_count": 114,
     "metadata": {},
     "output_type": "execute_result"
    },
    {
     "data": {
      "image/png": "[encoded data removed]",
      "text/plain": [
       "<Figure size 864x720 with 4 Axes>"
      ]
     },
     "metadata": {
      "needs_background": "light"
     },
     "output_type": "display_data"
    }
   ],
   "source": [
    "#Creates four polar axes, and accesses them through the returned array\n",
    "# how do you control the figure size?\n",
    "fig, axes = plt.subplots(2, 2)\n",
    "fig.set_figwidth(12)\n",
    "fig.set_figheight(10)\n",
    "fig.tight_layout()\n",
    "sns.despine(fig=fig, left=True, bottom=True)\n",
    "sns.boxplot(x=\"y\", y=\"age\", data=df, ax=axes[0,0], showmeans=True)\n",
    "axes[0,0].set(xlabel = \"\")\n",
    "axes[0,0].set(xticks = [])\n",
    "# so not much difference in age by subscribe type\n",
    "sns.boxplot(x=\"y\", y=\"duration\", data=df, ax=axes[1,0], showmeans=True)\n",
    "axes[1,0].set(xlabel = \"Subscribed\")\n",
    "axes[1,0].set(xticklabels = [\"No\", \"Yes\"])\n",
    "sns.distplot(df.age, ax=axes[0,1])\n",
    "sns.distplot(df.duration, ax=axes[1,1])"
   ]
  },
  {
   "cell_type": "markdown",
   "metadata": {},
   "source": [
    "## Age"
   ]
  },
  {
   "cell_type": "code",
   "execution_count": 50,
   "metadata": {
    "ExecuteTime": {
     "end_time": "2018-11-20T18:28:32.652575Z",
     "start_time": "2018-11-20T18:28:32.626712Z"
    }
   },
   "outputs": [
    {
     "data": {
      "text/html": [
       "<div>\n",
       "<style scoped>\n",
       "    .dataframe tbody tr th:only-of-type {\n",
       "        vertical-align: middle;\n",
       "    }\n",
       "\n",
       "    .dataframe tbody tr th {\n",
       "        vertical-align: top;\n",
       "    }\n",
       "\n",
       "    .dataframe thead th {\n",
       "        text-align: right;\n",
       "    }\n",
       "</style>\n",
       "<table border=\"1\" class=\"dataframe\">\n",
       "  <thead>\n",
       "    <tr style=\"text-align: right;\">\n",
       "      <th></th>\n",
       "      <th>age</th>\n",
       "      <th>default</th>\n",
       "      <th>housing</th>\n",
       "      <th>loan</th>\n",
       "      <th>month</th>\n",
       "      <th>day_of_week</th>\n",
       "      <th>duration</th>\n",
       "      <th>campaign</th>\n",
       "      <th>pdays</th>\n",
       "      <th>previous</th>\n",
       "      <th>poutcome</th>\n",
       "      <th>emp.var.rate</th>\n",
       "      <th>cons.price.idx</th>\n",
       "      <th>cons.conf.idx</th>\n",
       "      <th>euribor3m</th>\n",
       "      <th>nr.employed</th>\n",
       "      <th>y</th>\n",
       "    </tr>\n",
       "    <tr>\n",
       "      <th>age_bracket</th>\n",
       "      <th></th>\n",
       "      <th></th>\n",
       "      <th></th>\n",
       "      <th></th>\n",
       "      <th></th>\n",
       "      <th></th>\n",
       "      <th></th>\n",
       "      <th></th>\n",
       "      <th></th>\n",
       "      <th></th>\n",
       "      <th></th>\n",
       "      <th></th>\n",
       "      <th></th>\n",
       "      <th></th>\n",
       "      <th></th>\n",
       "      <th></th>\n",
       "      <th></th>\n",
       "    </tr>\n",
       "  </thead>\n",
       "  <tbody>\n",
       "    <tr>\n",
       "      <th>1</th>\n",
       "      <td>31.428622</td>\n",
       "      <td>0.000051</td>\n",
       "      <td>0.527722</td>\n",
       "      <td>0.156516</td>\n",
       "      <td>5.530504</td>\n",
       "      <td>2.009915</td>\n",
       "      <td>258.925941</td>\n",
       "      <td>2.532325</td>\n",
       "      <td>960.476983</td>\n",
       "      <td>0.185502</td>\n",
       "      <td>0.239945</td>\n",
       "      <td>-0.033276</td>\n",
       "      <td>93.545186</td>\n",
       "      <td>-40.878915</td>\n",
       "      <td>3.474050</td>\n",
       "      <td>5161.977529</td>\n",
       "      <td>0.120397</td>\n",
       "    </tr>\n",
       "    <tr>\n",
       "      <th>2</th>\n",
       "      <td>46.126850</td>\n",
       "      <td>0.000104</td>\n",
       "      <td>0.519648</td>\n",
       "      <td>0.149677</td>\n",
       "      <td>5.637221</td>\n",
       "      <td>1.951636</td>\n",
       "      <td>256.489004</td>\n",
       "      <td>2.624922</td>\n",
       "      <td>973.745205</td>\n",
       "      <td>0.136492</td>\n",
       "      <td>0.203695</td>\n",
       "      <td>0.309641</td>\n",
       "      <td>93.627169</td>\n",
       "      <td>-40.367417</td>\n",
       "      <td>3.894141</td>\n",
       "      <td>5178.534918</td>\n",
       "      <td>0.086565</td>\n",
       "    </tr>\n",
       "    <tr>\n",
       "      <th>3</th>\n",
       "      <td>61.902989</td>\n",
       "      <td>0.000000</td>\n",
       "      <td>0.519843</td>\n",
       "      <td>0.121999</td>\n",
       "      <td>6.027438</td>\n",
       "      <td>1.956394</td>\n",
       "      <td>267.518373</td>\n",
       "      <td>2.440960</td>\n",
       "      <td>895.352768</td>\n",
       "      <td>0.341989</td>\n",
       "      <td>0.395538</td>\n",
       "      <td>-0.724547</td>\n",
       "      <td>93.421995</td>\n",
       "      <td>-38.444390</td>\n",
       "      <td>2.735225</td>\n",
       "      <td>5120.926948</td>\n",
       "      <td>0.245468</td>\n",
       "    </tr>\n",
       "    <tr>\n",
       "      <th>4</th>\n",
       "      <td>82.743455</td>\n",
       "      <td>0.000000</td>\n",
       "      <td>0.586387</td>\n",
       "      <td>0.172775</td>\n",
       "      <td>6.188482</td>\n",
       "      <td>1.895288</td>\n",
       "      <td>273.712042</td>\n",
       "      <td>1.811518</td>\n",
       "      <td>754.408377</td>\n",
       "      <td>0.732984</td>\n",
       "      <td>0.542169</td>\n",
       "      <td>-2.262304</td>\n",
       "      <td>93.198037</td>\n",
       "      <td>-37.129319</td>\n",
       "      <td>0.917921</td>\n",
       "      <td>5028.080628</td>\n",
       "      <td>0.513089</td>\n",
       "    </tr>\n",
       "  </tbody>\n",
       "</table>\n",
       "</div>"
      ],
      "text/plain": [
       "                   age   default   housing      loan     month  day_of_week  \\\n",
       "age_bracket                                                                   \n",
       "1            31.428622  0.000051  0.527722  0.156516  5.530504     2.009915   \n",
       "2            46.126850  0.000104  0.519648  0.149677  5.637221     1.951636   \n",
       "3            61.902989  0.000000  0.519843  0.121999  6.027438     1.956394   \n",
       "4            82.743455  0.000000  0.586387  0.172775  6.188482     1.895288   \n",
       "\n",
       "               duration  campaign       pdays  previous  poutcome  \\\n",
       "age_bracket                                                         \n",
       "1            258.925941  2.532325  960.476983  0.185502  0.239945   \n",
       "2            256.489004  2.624922  973.745205  0.136492  0.203695   \n",
       "3            267.518373  2.440960  895.352768  0.341989  0.395538   \n",
       "4            273.712042  1.811518  754.408377  0.732984  0.542169   \n",
       "\n",
       "             emp.var.rate  cons.price.idx  cons.conf.idx  euribor3m  \\\n",
       "age_bracket                                                           \n",
       "1               -0.033276       93.545186     -40.878915   3.474050   \n",
       "2                0.309641       93.627169     -40.367417   3.894141   \n",
       "3               -0.724547       93.421995     -38.444390   2.735225   \n",
       "4               -2.262304       93.198037     -37.129319   0.917921   \n",
       "\n",
       "             nr.employed         y  \n",
       "age_bracket                         \n",
       "1            5161.977529  0.120397  \n",
       "2            5178.534918  0.086565  \n",
       "3            5120.926948  0.245468  \n",
       "4            5028.080628  0.513089  "
      ]
     },
     "execution_count": 50,
     "metadata": {},
     "output_type": "execute_result"
    }
   ],
   "source": [
    "df.groupby('age_bracket').mean()"
   ]
  },
  {
   "cell_type": "code",
   "execution_count": 7,
   "metadata": {
    "ExecuteTime": {
     "end_time": "2018-11-21T02:11:06.822852Z",
     "start_time": "2018-11-21T02:11:06.668358Z"
    }
   },
   "outputs": [
    {
     "name": "stdout",
     "output_type": "stream",
     "text": [
      "              size      mean\n",
      "age_bracket                 \n",
      "1            19768  0.120397\n",
      "2            19188  0.086565\n",
      "3             2041  0.245468\n",
      "4              191  0.513089\n"
     ]
    },
    {
     "data": {
      "text/plain": [
       "<matplotlib.axes._subplots.AxesSubplot at 0x1a1feca908>"
      ]
     },
     "execution_count": 7,
     "metadata": {},
     "output_type": "execute_result"
    },
    {
     "data": {
      "image/png": "[encoded data removed]",
      "text/plain": [
       "<Figure size 432x288 with 1 Axes>"
      ]
     },
     "metadata": {
      "needs_background": "light"
     },
     "output_type": "display_data"
    }
   ],
   "source": [
    "# how many in each age bracket?\n",
    "print(df.groupby('age_bracket').y.aggregate([\"size\",\"mean\"]))\n",
    "df.groupby('age_bracket').size().plot.bar()"
   ]
  },
  {
   "cell_type": "markdown",
   "metadata": {},
   "source": [
    "So older customers are called earlier in the week and have a much higher purchase rate than younger customers (51.3% to 12%), however the rate at which they previously purchased a long term deposit is much higher (54.2% to 23.9%). It is important to note that older customers were contacted significantly more prior to this campaign, but significantly less during the current campaign and with more time passing in between last campaign and this, possibly suggesting that these customers were engaged more consistently than younger customers, requiring less \"convincing.\" **Bottom line**: older customers appear to be better candidates to contact. \n",
    "\n",
    "Because the age classes are quite unbalanced, a 2% increase in age group 2 results in 384 conversions, or a little more than twice as many people in all of age group 4. Therefore, time might be better spent focusing on the larger groups. The fairly high rate of previously purchasing a long term deposit and subscribing during the current campaign may suggest that there is very little turnover among these customers. "
   ]
  },
  {
   "cell_type": "code",
   "execution_count": 20,
   "metadata": {
    "ExecuteTime": {
     "end_time": "2018-11-22T16:35:27.501395Z",
     "start_time": "2018-11-22T16:35:21.810095Z"
    }
   },
   "outputs": [
    {
     "data": {
      "image/png": "[encoded data removed]",
      "text/plain": [
       "<Figure size 1008x1008 with 4 Axes>"
      ]
     },
     "metadata": {
      "needs_background": "light"
     },
     "output_type": "display_data"
    }
   ],
   "source": [
    "# lets put 4 pointplots on one figure\n",
    "fig, axes = plt.subplots(2, 2)\n",
    "fig.set_figwidth(14)\n",
    "fig.set_figheight(14)\n",
    "\n",
    "sns.despine(fig=fig, left=True, bottom=True)\n",
    "# pointplot of duration by age bracket\n",
    "sns.pointplot('age_bracket', \"duration\", hue=\"y\", data=df, ax=axes[0,0])\n",
    "axes[0,0].set_xlabel(\"Age Bracket\")\n",
    "sns.pointplot('education', 'duration', hue='y', data=df, ax=axes[0,1])\n",
    "axes[0,1].set_xticklabels(axes[0,1].get_xticklabels(), rotation=60)\n",
    "axes[0,1].set_xlabel(\"Education\")\n",
    "sns.pointplot('job', 'duration', hue='y', data = df, ax=axes[1,0])\n",
    "axes[1,0].set_xticklabels(axes[1,0].get_xticklabels(), rotation=75)\n",
    "axes[1,0].set_xlabel(\"\")\n",
    "sns.pointplot('marital', 'duration', hue='y', data=df, ax=axes[1,1])\n",
    "fig.tight_layout()"
   ]
  },
  {
   "cell_type": "markdown",
   "metadata": {},
   "source": [
    "## Job"
   ]
  },
  {
   "cell_type": "code",
   "execution_count": 51,
   "metadata": {
    "ExecuteTime": {
     "end_time": "2018-11-20T18:28:37.860652Z",
     "start_time": "2018-11-20T18:28:37.830445Z"
    }
   },
   "outputs": [
    {
     "data": {
      "text/html": [
       "<div>\n",
       "<style scoped>\n",
       "    .dataframe tbody tr th:only-of-type {\n",
       "        vertical-align: middle;\n",
       "    }\n",
       "\n",
       "    .dataframe tbody tr th {\n",
       "        vertical-align: top;\n",
       "    }\n",
       "\n",
       "    .dataframe thead th {\n",
       "        text-align: right;\n",
       "    }\n",
       "</style>\n",
       "<table border=\"1\" class=\"dataframe\">\n",
       "  <thead>\n",
       "    <tr style=\"text-align: right;\">\n",
       "      <th></th>\n",
       "      <th>age</th>\n",
       "      <th>default</th>\n",
       "      <th>housing</th>\n",
       "      <th>loan</th>\n",
       "      <th>month</th>\n",
       "      <th>day_of_week</th>\n",
       "      <th>duration</th>\n",
       "      <th>campaign</th>\n",
       "      <th>pdays</th>\n",
       "      <th>previous</th>\n",
       "      <th>poutcome</th>\n",
       "      <th>emp.var.rate</th>\n",
       "      <th>cons.price.idx</th>\n",
       "      <th>cons.conf.idx</th>\n",
       "      <th>euribor3m</th>\n",
       "      <th>nr.employed</th>\n",
       "      <th>y</th>\n",
       "    </tr>\n",
       "    <tr>\n",
       "      <th>job</th>\n",
       "      <th></th>\n",
       "      <th></th>\n",
       "      <th></th>\n",
       "      <th></th>\n",
       "      <th></th>\n",
       "      <th></th>\n",
       "      <th></th>\n",
       "      <th></th>\n",
       "      <th></th>\n",
       "      <th></th>\n",
       "      <th></th>\n",
       "      <th></th>\n",
       "      <th></th>\n",
       "      <th></th>\n",
       "      <th></th>\n",
       "      <th></th>\n",
       "      <th></th>\n",
       "    </tr>\n",
       "  </thead>\n",
       "  <tbody>\n",
       "    <tr>\n",
       "      <th>admin.</th>\n",
       "      <td>38.187296</td>\n",
       "      <td>0.000000</td>\n",
       "      <td>0.533391</td>\n",
       "      <td>0.164076</td>\n",
       "      <td>5.776243</td>\n",
       "      <td>1.992420</td>\n",
       "      <td>254.312128</td>\n",
       "      <td>2.623489</td>\n",
       "      <td>954.319229</td>\n",
       "      <td>0.189023</td>\n",
       "      <td>0.281764</td>\n",
       "      <td>0.015563</td>\n",
       "      <td>93.534054</td>\n",
       "      <td>-40.245433</td>\n",
       "      <td>3.550274</td>\n",
       "      <td>5164.125350</td>\n",
       "      <td>0.129726</td>\n",
       "    </tr>\n",
       "    <tr>\n",
       "      <th>blue-collar</th>\n",
       "      <td>39.555760</td>\n",
       "      <td>0.000000</td>\n",
       "      <td>0.508969</td>\n",
       "      <td>0.147612</td>\n",
       "      <td>5.088286</td>\n",
       "      <td>1.998811</td>\n",
       "      <td>264.542360</td>\n",
       "      <td>2.558461</td>\n",
       "      <td>985.160363</td>\n",
       "      <td>0.122542</td>\n",
       "      <td>0.118408</td>\n",
       "      <td>0.248995</td>\n",
       "      <td>93.656656</td>\n",
       "      <td>-41.375816</td>\n",
       "      <td>3.771996</td>\n",
       "      <td>5175.615150</td>\n",
       "      <td>0.068943</td>\n",
       "    </tr>\n",
       "    <tr>\n",
       "      <th>entrepreneur</th>\n",
       "      <td>41.723214</td>\n",
       "      <td>0.000000</td>\n",
       "      <td>0.535027</td>\n",
       "      <td>0.141484</td>\n",
       "      <td>5.796703</td>\n",
       "      <td>1.969780</td>\n",
       "      <td>263.267857</td>\n",
       "      <td>2.535714</td>\n",
       "      <td>981.267170</td>\n",
       "      <td>0.138736</td>\n",
       "      <td>0.139665</td>\n",
       "      <td>0.158723</td>\n",
       "      <td>93.605372</td>\n",
       "      <td>-41.283654</td>\n",
       "      <td>3.791120</td>\n",
       "      <td>5176.313530</td>\n",
       "      <td>0.085165</td>\n",
       "    </tr>\n",
       "    <tr>\n",
       "      <th>housemaid</th>\n",
       "      <td>45.500000</td>\n",
       "      <td>0.000000</td>\n",
       "      <td>0.509434</td>\n",
       "      <td>0.145283</td>\n",
       "      <td>5.805660</td>\n",
       "      <td>1.875472</td>\n",
       "      <td>250.454717</td>\n",
       "      <td>2.639623</td>\n",
       "      <td>960.579245</td>\n",
       "      <td>0.137736</td>\n",
       "      <td>0.339286</td>\n",
       "      <td>0.433396</td>\n",
       "      <td>93.676576</td>\n",
       "      <td>-39.495283</td>\n",
       "      <td>4.009645</td>\n",
       "      <td>5179.529623</td>\n",
       "      <td>0.100000</td>\n",
       "    </tr>\n",
       "    <tr>\n",
       "      <th>management</th>\n",
       "      <td>42.362859</td>\n",
       "      <td>0.000000</td>\n",
       "      <td>0.509576</td>\n",
       "      <td>0.150137</td>\n",
       "      <td>5.994186</td>\n",
       "      <td>1.927497</td>\n",
       "      <td>257.058140</td>\n",
       "      <td>2.476060</td>\n",
       "      <td>962.647059</td>\n",
       "      <td>0.185021</td>\n",
       "      <td>0.223005</td>\n",
       "      <td>-0.012688</td>\n",
       "      <td>93.522755</td>\n",
       "      <td>-40.489466</td>\n",
       "      <td>3.611316</td>\n",
       "      <td>5166.650513</td>\n",
       "      <td>0.112175</td>\n",
       "    </tr>\n",
       "    <tr>\n",
       "      <th>retired</th>\n",
       "      <td>62.027326</td>\n",
       "      <td>0.000000</td>\n",
       "      <td>0.518605</td>\n",
       "      <td>0.139535</td>\n",
       "      <td>6.019767</td>\n",
       "      <td>1.947674</td>\n",
       "      <td>273.712209</td>\n",
       "      <td>2.476744</td>\n",
       "      <td>897.936047</td>\n",
       "      <td>0.327326</td>\n",
       "      <td>0.407216</td>\n",
       "      <td>-0.698314</td>\n",
       "      <td>93.430786</td>\n",
       "      <td>-38.573081</td>\n",
       "      <td>2.770066</td>\n",
       "      <td>5122.262151</td>\n",
       "      <td>0.252326</td>\n",
       "    </tr>\n",
       "    <tr>\n",
       "      <th>self-employed</th>\n",
       "      <td>39.949331</td>\n",
       "      <td>0.000000</td>\n",
       "      <td>0.520760</td>\n",
       "      <td>0.137227</td>\n",
       "      <td>5.793103</td>\n",
       "      <td>2.013371</td>\n",
       "      <td>264.142153</td>\n",
       "      <td>2.660802</td>\n",
       "      <td>976.621393</td>\n",
       "      <td>0.143561</td>\n",
       "      <td>0.171429</td>\n",
       "      <td>0.094159</td>\n",
       "      <td>93.559982</td>\n",
       "      <td>-40.488107</td>\n",
       "      <td>3.689376</td>\n",
       "      <td>5170.674384</td>\n",
       "      <td>0.104856</td>\n",
       "    </tr>\n",
       "    <tr>\n",
       "      <th>services</th>\n",
       "      <td>37.926430</td>\n",
       "      <td>0.000000</td>\n",
       "      <td>0.516503</td>\n",
       "      <td>0.151424</td>\n",
       "      <td>5.222474</td>\n",
       "      <td>1.966490</td>\n",
       "      <td>258.398085</td>\n",
       "      <td>2.587805</td>\n",
       "      <td>979.974049</td>\n",
       "      <td>0.154951</td>\n",
       "      <td>0.135135</td>\n",
       "      <td>0.175359</td>\n",
       "      <td>93.634659</td>\n",
       "      <td>-41.290048</td>\n",
       "      <td>3.699187</td>\n",
       "      <td>5171.600126</td>\n",
       "      <td>0.081381</td>\n",
       "    </tr>\n",
       "    <tr>\n",
       "      <th>student</th>\n",
       "      <td>25.894857</td>\n",
       "      <td>0.000000</td>\n",
       "      <td>0.538286</td>\n",
       "      <td>0.162286</td>\n",
       "      <td>5.597714</td>\n",
       "      <td>1.994286</td>\n",
       "      <td>283.683429</td>\n",
       "      <td>2.104000</td>\n",
       "      <td>840.217143</td>\n",
       "      <td>0.524571</td>\n",
       "      <td>0.419929</td>\n",
       "      <td>-1.408000</td>\n",
       "      <td>93.331613</td>\n",
       "      <td>-40.187543</td>\n",
       "      <td>1.884224</td>\n",
       "      <td>5085.939086</td>\n",
       "      <td>0.314286</td>\n",
       "    </tr>\n",
       "    <tr>\n",
       "      <th>technician</th>\n",
       "      <td>38.507638</td>\n",
       "      <td>0.000297</td>\n",
       "      <td>0.536260</td>\n",
       "      <td>0.146671</td>\n",
       "      <td>5.856295</td>\n",
       "      <td>1.984280</td>\n",
       "      <td>250.232241</td>\n",
       "      <td>2.577339</td>\n",
       "      <td>964.408127</td>\n",
       "      <td>0.153789</td>\n",
       "      <td>0.254524</td>\n",
       "      <td>0.274566</td>\n",
       "      <td>93.561471</td>\n",
       "      <td>-39.927569</td>\n",
       "      <td>3.820401</td>\n",
       "      <td>5175.648391</td>\n",
       "      <td>0.108260</td>\n",
       "    </tr>\n",
       "    <tr>\n",
       "      <th>unemployed</th>\n",
       "      <td>39.733728</td>\n",
       "      <td>0.000986</td>\n",
       "      <td>0.549310</td>\n",
       "      <td>0.146943</td>\n",
       "      <td>6.003945</td>\n",
       "      <td>2.036489</td>\n",
       "      <td>249.451677</td>\n",
       "      <td>2.564103</td>\n",
       "      <td>935.316568</td>\n",
       "      <td>0.199211</td>\n",
       "      <td>0.397436</td>\n",
       "      <td>-0.111736</td>\n",
       "      <td>93.563781</td>\n",
       "      <td>-40.007594</td>\n",
       "      <td>3.466583</td>\n",
       "      <td>5157.156509</td>\n",
       "      <td>0.142012</td>\n",
       "    </tr>\n",
       "    <tr>\n",
       "      <th>unknown</th>\n",
       "      <td>45.563636</td>\n",
       "      <td>0.000000</td>\n",
       "      <td>0.521212</td>\n",
       "      <td>0.172727</td>\n",
       "      <td>5.396970</td>\n",
       "      <td>1.742424</td>\n",
       "      <td>239.675758</td>\n",
       "      <td>2.648485</td>\n",
       "      <td>938.727273</td>\n",
       "      <td>0.154545</td>\n",
       "      <td>0.513514</td>\n",
       "      <td>0.357879</td>\n",
       "      <td>93.718942</td>\n",
       "      <td>-38.797879</td>\n",
       "      <td>3.949033</td>\n",
       "      <td>5172.931818</td>\n",
       "      <td>0.112121</td>\n",
       "    </tr>\n",
       "  </tbody>\n",
       "</table>\n",
       "</div>"
      ],
      "text/plain": [
       "                     age   default   housing      loan     month  day_of_week  \\\n",
       "job                                                                             \n",
       "admin.         38.187296  0.000000  0.533391  0.164076  5.776243     1.992420   \n",
       "blue-collar    39.555760  0.000000  0.508969  0.147612  5.088286     1.998811   \n",
       "entrepreneur   41.723214  0.000000  0.535027  0.141484  5.796703     1.969780   \n",
       "housemaid      45.500000  0.000000  0.509434  0.145283  5.805660     1.875472   \n",
       "management     42.362859  0.000000  0.509576  0.150137  5.994186     1.927497   \n",
       "retired        62.027326  0.000000  0.518605  0.139535  6.019767     1.947674   \n",
       "self-employed  39.949331  0.000000  0.520760  0.137227  5.793103     2.013371   \n",
       "services       37.926430  0.000000  0.516503  0.151424  5.222474     1.966490   \n",
       "student        25.894857  0.000000  0.538286  0.162286  5.597714     1.994286   \n",
       "technician     38.507638  0.000297  0.536260  0.146671  5.856295     1.984280   \n",
       "unemployed     39.733728  0.000986  0.549310  0.146943  6.003945     2.036489   \n",
       "unknown        45.563636  0.000000  0.521212  0.172727  5.396970     1.742424   \n",
       "\n",
       "                 duration  campaign       pdays  previous  poutcome  \\\n",
       "job                                                                   \n",
       "admin.         254.312128  2.623489  954.319229  0.189023  0.281764   \n",
       "blue-collar    264.542360  2.558461  985.160363  0.122542  0.118408   \n",
       "entrepreneur   263.267857  2.535714  981.267170  0.138736  0.139665   \n",
       "housemaid      250.454717  2.639623  960.579245  0.137736  0.339286   \n",
       "management     257.058140  2.476060  962.647059  0.185021  0.223005   \n",
       "retired        273.712209  2.476744  897.936047  0.327326  0.407216   \n",
       "self-employed  264.142153  2.660802  976.621393  0.143561  0.171429   \n",
       "services       258.398085  2.587805  979.974049  0.154951  0.135135   \n",
       "student        283.683429  2.104000  840.217143  0.524571  0.419929   \n",
       "technician     250.232241  2.577339  964.408127  0.153789  0.254524   \n",
       "unemployed     249.451677  2.564103  935.316568  0.199211  0.397436   \n",
       "unknown        239.675758  2.648485  938.727273  0.154545  0.513514   \n",
       "\n",
       "               emp.var.rate  cons.price.idx  cons.conf.idx  euribor3m  \\\n",
       "job                                                                     \n",
       "admin.             0.015563       93.534054     -40.245433   3.550274   \n",
       "blue-collar        0.248995       93.656656     -41.375816   3.771996   \n",
       "entrepreneur       0.158723       93.605372     -41.283654   3.791120   \n",
       "housemaid          0.433396       93.676576     -39.495283   4.009645   \n",
       "management        -0.012688       93.522755     -40.489466   3.611316   \n",
       "retired           -0.698314       93.430786     -38.573081   2.770066   \n",
       "self-employed      0.094159       93.559982     -40.488107   3.689376   \n",
       "services           0.175359       93.634659     -41.290048   3.699187   \n",
       "student           -1.408000       93.331613     -40.187543   1.884224   \n",
       "technician         0.274566       93.561471     -39.927569   3.820401   \n",
       "unemployed        -0.111736       93.563781     -40.007594   3.466583   \n",
       "unknown            0.357879       93.718942     -38.797879   3.949033   \n",
       "\n",
       "               nr.employed         y  \n",
       "job                                   \n",
       "admin.         5164.125350  0.129726  \n",
       "blue-collar    5175.615150  0.068943  \n",
       "entrepreneur   5176.313530  0.085165  \n",
       "housemaid      5179.529623  0.100000  \n",
       "management     5166.650513  0.112175  \n",
       "retired        5122.262151  0.252326  \n",
       "self-employed  5170.674384  0.104856  \n",
       "services       5171.600126  0.081381  \n",
       "student        5085.939086  0.314286  \n",
       "technician     5175.648391  0.108260  \n",
       "unemployed     5157.156509  0.142012  \n",
       "unknown        5172.931818  0.112121  "
      ]
     },
     "execution_count": 51,
     "metadata": {},
     "output_type": "execute_result"
    }
   ],
   "source": [
    "df.groupby('job').mean()"
   ]
  },
  {
   "cell_type": "code",
   "execution_count": 10,
   "metadata": {
    "ExecuteTime": {
     "end_time": "2018-11-21T02:16:34.207892Z",
     "start_time": "2018-11-21T02:16:34.199493Z"
    }
   },
   "outputs": [
    {
     "data": {
      "text/plain": [
       "job\n",
       "admin.           10422\n",
       "blue-collar       9254\n",
       "entrepreneur      1456\n",
       "housemaid         1060\n",
       "management        2924\n",
       "retired           1720\n",
       "self-employed     1421\n",
       "services          3969\n",
       "student            875\n",
       "technician        6743\n",
       "unemployed        1014\n",
       "unknown            330\n",
       "dtype: int64"
      ]
     },
     "execution_count": 10,
     "metadata": {},
     "output_type": "execute_result"
    }
   ],
   "source": [
    "df.groupby('job').size()"
   ]
  },
  {
   "cell_type": "code",
   "execution_count": 23,
   "metadata": {
    "ExecuteTime": {
     "end_time": "2018-11-22T16:38:04.886415Z",
     "start_time": "2018-11-22T16:38:04.650058Z"
    }
   },
   "outputs": [
    {
     "data": {
      "text/plain": [
       "<matplotlib.axes._subplots.AxesSubplot at 0x1a19b0e898>"
      ]
     },
     "execution_count": 23,
     "metadata": {},
     "output_type": "execute_result"
    },
    {
     "data": {
      "image/png": "[encoded data removed]",
      "text/plain": [
       "<Figure size 432x288 with 1 Axes>"
      ]
     },
     "metadata": {
      "needs_background": "light"
     },
     "output_type": "display_data"
    }
   ],
   "source": [
    "df.groupby(\"job\").size().plot.bar()"
   ]
  },
  {
   "cell_type": "code",
   "execution_count": 19,
   "metadata": {
    "ExecuteTime": {
     "end_time": "2018-11-22T16:34:50.776374Z",
     "start_time": "2018-11-22T16:34:50.456415Z"
    }
   },
   "outputs": [
    {
     "data": {
      "image/png": "[encoded data removed]",
      "text/plain": [
       "<Figure size 720x576 with 1 Axes>"
      ]
     },
     "metadata": {
      "needs_background": "light"
     },
     "output_type": "display_data"
    }
   ],
   "source": [
    "jobs = df.groupby(\"job\").y.aggregate([\"size\", \"mean\"])\n",
    "\n",
    "# want to show a boxplot of rate by job\n",
    "# it would be nice to add the total group size above each bar\n",
    "plt.figure(figsize=(10,8))\n",
    "plt.title(\"Purchase Rate by Job\")\n",
    "ax = np.multiply(jobs[\"mean\"],100).plot.bar()\n",
    "plt.ylabel(\"Purchase Rate (%)\")\n",
    "plt.xticks(rotation=60)\n",
    "plt.xlabel(\"\")\n",
    "counter = 0\n",
    "for p in ax.patches:\n",
    "    height = p.get_height()\n",
    "    ax.text(p.get_x()+p.get_width()/2., \n",
    "            height + 1,jobs[\"size\"][counter],\n",
    "            ha=\"center\")\n",
    "    counter+=1\n",
    "plt.tight_layout()\n",
    "sns.despine()\n",
    "plt.show()"
   ]
  },
  {
   "cell_type": "code",
   "execution_count": 21,
   "metadata": {
    "ExecuteTime": {
     "end_time": "2018-11-22T16:36:09.819720Z",
     "start_time": "2018-11-22T16:36:07.937633Z"
    }
   },
   "outputs": [
    {
     "data": {
      "image/png": "[encoded data removed]",
      "text/plain": [
       "<Figure size 360x360 with 1 Axes>"
      ]
     },
     "metadata": {
      "needs_background": "light"
     },
     "output_type": "display_data"
    },
    {
     "data": {
      "image/png": "[encoded data removed]",
      "text/plain": [
       "<Figure size 360x360 with 1 Axes>"
      ]
     },
     "metadata": {
      "needs_background": "light"
     },
     "output_type": "display_data"
    },
    {
     "data": {
      "text/plain": [
       "<Figure size 432x288 with 0 Axes>"
      ]
     },
     "metadata": {},
     "output_type": "display_data"
    }
   ],
   "source": [
    "daily = df.groupby([\"job\", \"day_of_week\"]).mean()\n",
    "sns.catplot('job','y',data=df, kind=\"point\")\n",
    "plt.xlabel(\"\")\n",
    "plt.xticks(rotation=90)\n",
    "sns.catplot('job', data=df, kind=\"count\")\n",
    "plt.xticks(rotation=90)\n",
    "plt.xlabel(\"\")\n",
    "plt.show()\n",
    "plt.clf()"
   ]
  },
  {
   "cell_type": "code",
   "execution_count": 22,
   "metadata": {
    "ExecuteTime": {
     "end_time": "2018-11-22T16:36:38.791869Z",
     "start_time": "2018-11-22T16:36:38.264523Z"
    }
   },
   "outputs": [
    {
     "data": {
      "text/plain": [
       "[Text(0, 0, '0'),\n",
       " Text(0, 0, '1'),\n",
       " Text(0, 0, '2'),\n",
       " Text(0, 0, '3'),\n",
       " Text(0, 0, '4'),\n",
       " Text(0, 0, '5'),\n",
       " Text(0, 0, '6'),\n",
       " Text(0, 0, '7'),\n",
       " Text(0, 0, '8'),\n",
       " Text(0, 0, '9'),\n",
       " Text(0, 0, '10'),\n",
       " Text(0, 0, '11')]"
      ]
     },
     "execution_count": 22,
     "metadata": {},
     "output_type": "execute_result"
    },
    {
     "data": {
      "image/png": "[encoded data removed]",
      "text/plain": [
       "<Figure size 720x864 with 2 Axes>"
      ]
     },
     "metadata": {
      "needs_background": "light"
     },
     "output_type": "display_data"
    }
   ],
   "source": [
    "fig, (ax1, ax2) = plt.subplots(2, 1, sharex=True)\n",
    "fig.set_figheight(12)\n",
    "fig.set_figwidth(10)\n",
    "jobs = df.groupby(\"job\").y.aggregate([\"size\", \"mean\"])\n",
    "jobs.reset_index(inplace=True)\n",
    "sns.barplot(x=jobs.index, y=jobs[\"size\"].values, ax=ax1)\n",
    "ax1.set_title(\"Calls Per Job, Current Campaign\")\n",
    "sns.despine()\n",
    "ax1.set_xlabel(\"\")\n",
    "ax1.set_ylabel(\"Count\")\n",
    "sns.barplot(x=jobs.index, y=jobs[\"mean\"].values, ax=ax2)\n",
    "ax2.set_title(\"Purchase Rate by Job\")\n",
    "ax2.set_xlabel(\"\")\n",
    "ax2.set_xticklabels(ax2.get_xticklabels(),rotation=90)"
   ]
  },
  {
   "cell_type": "markdown",
   "metadata": {},
   "source": [
    "Housing loans remained relatively similar among jobs, as did personal loans. It is interesting to look at the previous variable (number of contacts performed in the previous campaign), this variable appears to have a positive, linear relationship with the outcome of this campaign. Blue-collar customers had the worst average outcome, as well as the worst previous outcome, so I would minimize calls to this group of customers. Conversely, students had the best subscribe rate, previous rate, and the lowest calls for this campaign. Therefore, it would follow that decreasing the number of calls to those customers holding a blue-collar job and increasing calls to students will increase the overall subscribe rate for this campaign, with significantly less effort. Also notice the nearly 13.7 year gap between the average ages of the two groups; this appears to be anomalous. **Bottom-line:** past history is a fairly good indicator of future purchases when conditioned on the job. Call less blue-collar workers and more retired customers.\n",
    "\n",
    "So you want to target the retired and student populations, however lets look at their respective sizes. Try to identify factor(s) driving unknown job rates to be relatively high with respect to low number of calls. "
   ]
  },
  {
   "cell_type": "markdown",
   "metadata": {},
   "source": [
    "## Duration"
   ]
  },
  {
   "cell_type": "code",
   "execution_count": 28,
   "metadata": {
    "ExecuteTime": {
     "end_time": "2018-11-22T16:42:11.337134Z",
     "start_time": "2018-11-22T16:42:11.324703Z"
    }
   },
   "outputs": [
    {
     "data": {
      "text/plain": [
       "job\n",
       "admin.           248.280477\n",
       "blue-collar      243.347630\n",
       "entrepreneur     228.474026\n",
       "housemaid        256.716216\n",
       "management       244.513595\n",
       "retired          264.386957\n",
       "self-employed    232.765517\n",
       "services         256.781250\n",
       "student          260.650307\n",
       "technician       249.220065\n",
       "unemployed       243.585106\n",
       "unknown          243.388889\n",
       "Name: duration, dtype: float64"
      ]
     },
     "execution_count": 28,
     "metadata": {},
     "output_type": "execute_result"
    }
   ],
   "source": [
    "df.query(\"poutcome == 0\").groupby(\"job\").duration.mean()"
   ]
  },
  {
   "cell_type": "code",
   "execution_count": 29,
   "metadata": {
    "ExecuteTime": {
     "end_time": "2018-11-22T16:42:22.431124Z",
     "start_time": "2018-11-22T16:42:22.416693Z"
    }
   },
   "outputs": [
    {
     "data": {
      "text/plain": [
       "job\n",
       "admin.           318.366822\n",
       "blue-collar      360.420168\n",
       "entrepreneur     321.400000\n",
       "housemaid        356.026316\n",
       "management       331.189474\n",
       "retired          307.772152\n",
       "self-employed    338.933333\n",
       "services         305.542857\n",
       "student          314.000000\n",
       "technician       315.592417\n",
       "unemployed       299.080645\n",
       "unknown          321.368421\n",
       "Name: duration, dtype: float64"
      ]
     },
     "execution_count": 29,
     "metadata": {},
     "output_type": "execute_result"
    }
   ],
   "source": [
    "df.query(\"poutcome == 1\").groupby(\"job\").duration.mean()"
   ]
  },
  {
   "cell_type": "code",
   "execution_count": 32,
   "metadata": {
    "ExecuteTime": {
     "end_time": "2018-11-22T16:43:57.626422Z",
     "start_time": "2018-11-22T16:43:57.254756Z"
    }
   },
   "outputs": [
    {
     "data": {
      "text/plain": [
       "<matplotlib.axes._subplots.AxesSubplot at 0x1a1acebb38>"
      ]
     },
     "execution_count": 32,
     "metadata": {},
     "output_type": "execute_result"
    },
    {
     "data": {
      "image/png": "[encoded data removed]",
      "text/plain": [
       "<Figure size 432x288 with 1 Axes>"
      ]
     },
     "metadata": {
      "needs_background": "light"
     },
     "output_type": "display_data"
    }
   ],
   "source": [
    "sns.distplot(df.query(\"poutcome == 0\").pdays)"
   ]
  },
  {
   "cell_type": "code",
   "execution_count": 33,
   "metadata": {
    "ExecuteTime": {
     "end_time": "2018-11-22T16:44:07.378490Z",
     "start_time": "2018-11-22T16:44:07.028305Z"
    }
   },
   "outputs": [
    {
     "data": {
      "text/plain": [
       "<matplotlib.axes._subplots.AxesSubplot at 0x1a1adbcd68>"
      ]
     },
     "execution_count": 33,
     "metadata": {},
     "output_type": "execute_result"
    },
    {
     "data": {
      "image/png": "[encoded data removed]",
      "text/plain": [
       "<Figure size 432x288 with 1 Axes>"
      ]
     },
     "metadata": {
      "needs_background": "light"
     },
     "output_type": "display_data"
    }
   ],
   "source": [
    "sns.distplot(df.query(\"poutcome == 1\").pdays)"
   ]
  },
  {
   "cell_type": "markdown",
   "metadata": {},
   "source": [
    "From this we can see that the average duration for those customers who did not purchase was 220.8 regardless of group, and that there was little difference among marital groups, but quite a large fluctuation in duration time when it came to job type and education. When looking at the average duration, by job, for purchase and not purchase calls we notice that:\n",
    "  1. Did not purchase\n",
    "    * Blue-collar: 3.8 minutes\n",
    "    * Unknown: 3.4\n",
    "    * Retired: 3.7\n",
    "  2. Purchase\n",
    "    * Blue-collar: 12.2\n",
    "    * Student: 6.7\n",
    "    * Retired: 7\n",
    "\n",
    "Duration is not known before a call, so if we can predict which customers will stay on the phone longer this will identify customers that have a higher chance of subscribing. So this variable should not be used in a predictive model, instead should be a predicted outcome. \n",
    "\n",
    "Customers who previously subscribed spent an average of 29% more time on the phone than those who did not subscribe. Furthermore, 172% more time passed between contacts for customers who previously subscribed versus those customers who did not subscribe. This is a stark difference that should be considered when contacting customers: take the outcome of the previous campaign into account, if a customer purchased last time you do not have to wait as long."
   ]
  },
  {
   "cell_type": "markdown",
   "metadata": {},
   "source": [
    "## Previous Campaign"
   ]
  },
  {
   "cell_type": "code",
   "execution_count": 35,
   "metadata": {
    "ExecuteTime": {
     "end_time": "2018-11-22T16:45:35.214509Z",
     "start_time": "2018-11-22T16:45:35.202591Z"
    }
   },
   "outputs": [
    {
     "data": {
      "text/plain": [
       "0.1422859830667921"
      ]
     },
     "execution_count": 35,
     "metadata": {},
     "output_type": "execute_result"
    }
   ],
   "source": [
    "df.query(\"poutcome == 0\").y.mean()"
   ]
  },
  {
   "cell_type": "code",
   "execution_count": 36,
   "metadata": {
    "ExecuteTime": {
     "end_time": "2018-11-22T16:45:41.811583Z",
     "start_time": "2018-11-22T16:45:41.800507Z"
    }
   },
   "outputs": [
    {
     "data": {
      "text/plain": [
       "0.651128914785142"
      ]
     },
     "execution_count": 36,
     "metadata": {},
     "output_type": "execute_result"
    }
   ],
   "source": [
    "df.query(\"poutcome == 1\").y.mean()"
   ]
  },
  {
   "cell_type": "markdown",
   "metadata": {},
   "source": [
    "65% of those customers who previously subscribed subscribed again, whereas 85% of those customers who did not purchase a long-term deposit during the previous campaign also did not subscribe during this campaign."
   ]
  },
  {
   "cell_type": "markdown",
   "metadata": {},
   "source": [
    "## Education"
   ]
  },
  {
   "cell_type": "code",
   "execution_count": 52,
   "metadata": {
    "ExecuteTime": {
     "end_time": "2018-11-20T18:28:43.194525Z",
     "start_time": "2018-11-20T18:28:43.167123Z"
    }
   },
   "outputs": [
    {
     "data": {
      "text/html": [
       "<div>\n",
       "<style scoped>\n",
       "    .dataframe tbody tr th:only-of-type {\n",
       "        vertical-align: middle;\n",
       "    }\n",
       "\n",
       "    .dataframe tbody tr th {\n",
       "        vertical-align: top;\n",
       "    }\n",
       "\n",
       "    .dataframe thead th {\n",
       "        text-align: right;\n",
       "    }\n",
       "</style>\n",
       "<table border=\"1\" class=\"dataframe\">\n",
       "  <thead>\n",
       "    <tr style=\"text-align: right;\">\n",
       "      <th></th>\n",
       "      <th>age</th>\n",
       "      <th>default</th>\n",
       "      <th>housing</th>\n",
       "      <th>loan</th>\n",
       "      <th>month</th>\n",
       "      <th>day_of_week</th>\n",
       "      <th>duration</th>\n",
       "      <th>campaign</th>\n",
       "      <th>pdays</th>\n",
       "      <th>previous</th>\n",
       "      <th>poutcome</th>\n",
       "      <th>emp.var.rate</th>\n",
       "      <th>cons.price.idx</th>\n",
       "      <th>cons.conf.idx</th>\n",
       "      <th>euribor3m</th>\n",
       "      <th>nr.employed</th>\n",
       "      <th>y</th>\n",
       "    </tr>\n",
       "    <tr>\n",
       "      <th>education</th>\n",
       "      <th></th>\n",
       "      <th></th>\n",
       "      <th></th>\n",
       "      <th></th>\n",
       "      <th></th>\n",
       "      <th></th>\n",
       "      <th></th>\n",
       "      <th></th>\n",
       "      <th></th>\n",
       "      <th></th>\n",
       "      <th></th>\n",
       "      <th></th>\n",
       "      <th></th>\n",
       "      <th></th>\n",
       "      <th></th>\n",
       "      <th></th>\n",
       "      <th></th>\n",
       "    </tr>\n",
       "  </thead>\n",
       "  <tbody>\n",
       "    <tr>\n",
       "      <th>basic.4y</th>\n",
       "      <td>47.596504</td>\n",
       "      <td>0.000000</td>\n",
       "      <td>0.503831</td>\n",
       "      <td>0.149425</td>\n",
       "      <td>5.401820</td>\n",
       "      <td>1.941810</td>\n",
       "      <td>264.827826</td>\n",
       "      <td>2.600575</td>\n",
       "      <td>965.704981</td>\n",
       "      <td>0.147031</td>\n",
       "      <td>0.262500</td>\n",
       "      <td>0.215924</td>\n",
       "      <td>93.658309</td>\n",
       "      <td>-40.239871</td>\n",
       "      <td>3.751768</td>\n",
       "      <td>5170.124880</td>\n",
       "      <td>0.102490</td>\n",
       "    </tr>\n",
       "    <tr>\n",
       "      <th>basic.6y</th>\n",
       "      <td>40.448953</td>\n",
       "      <td>0.000000</td>\n",
       "      <td>0.506981</td>\n",
       "      <td>0.143979</td>\n",
       "      <td>5.146597</td>\n",
       "      <td>2.009599</td>\n",
       "      <td>264.414485</td>\n",
       "      <td>2.556283</td>\n",
       "      <td>980.368237</td>\n",
       "      <td>0.129145</td>\n",
       "      <td>0.155039</td>\n",
       "      <td>0.231152</td>\n",
       "      <td>93.650062</td>\n",
       "      <td>-41.127880</td>\n",
       "      <td>3.772942</td>\n",
       "      <td>5174.718063</td>\n",
       "      <td>0.082024</td>\n",
       "    </tr>\n",
       "    <tr>\n",
       "      <th>basic.9y</th>\n",
       "      <td>39.061208</td>\n",
       "      <td>0.000000</td>\n",
       "      <td>0.521257</td>\n",
       "      <td>0.146071</td>\n",
       "      <td>5.229115</td>\n",
       "      <td>2.001820</td>\n",
       "      <td>261.291811</td>\n",
       "      <td>2.532341</td>\n",
       "      <td>979.133168</td>\n",
       "      <td>0.141439</td>\n",
       "      <td>0.149798</td>\n",
       "      <td>0.159239</td>\n",
       "      <td>93.623399</td>\n",
       "      <td>-41.326749</td>\n",
       "      <td>3.697963</td>\n",
       "      <td>5172.294012</td>\n",
       "      <td>0.078246</td>\n",
       "    </tr>\n",
       "    <tr>\n",
       "      <th>high.school</th>\n",
       "      <td>37.998213</td>\n",
       "      <td>0.000105</td>\n",
       "      <td>0.518339</td>\n",
       "      <td>0.151655</td>\n",
       "      <td>5.471046</td>\n",
       "      <td>1.959432</td>\n",
       "      <td>260.886810</td>\n",
       "      <td>2.568576</td>\n",
       "      <td>964.358382</td>\n",
       "      <td>0.185917</td>\n",
       "      <td>0.208068</td>\n",
       "      <td>0.032937</td>\n",
       "      <td>93.584857</td>\n",
       "      <td>-40.940641</td>\n",
       "      <td>3.556157</td>\n",
       "      <td>5164.994735</td>\n",
       "      <td>0.108355</td>\n",
       "    </tr>\n",
       "    <tr>\n",
       "      <th>illiterate</th>\n",
       "      <td>48.500000</td>\n",
       "      <td>0.000000</td>\n",
       "      <td>0.555556</td>\n",
       "      <td>0.166667</td>\n",
       "      <td>6.277778</td>\n",
       "      <td>2.388889</td>\n",
       "      <td>276.777778</td>\n",
       "      <td>2.277778</td>\n",
       "      <td>943.833333</td>\n",
       "      <td>0.111111</td>\n",
       "      <td>0.500000</td>\n",
       "      <td>-0.133333</td>\n",
       "      <td>93.317333</td>\n",
       "      <td>-39.950000</td>\n",
       "      <td>3.516556</td>\n",
       "      <td>5171.777778</td>\n",
       "      <td>0.222222</td>\n",
       "    </tr>\n",
       "    <tr>\n",
       "      <th>professional.course</th>\n",
       "      <td>40.080107</td>\n",
       "      <td>0.000381</td>\n",
       "      <td>0.541293</td>\n",
       "      <td>0.151249</td>\n",
       "      <td>5.782377</td>\n",
       "      <td>1.981881</td>\n",
       "      <td>252.533855</td>\n",
       "      <td>2.586115</td>\n",
       "      <td>960.765974</td>\n",
       "      <td>0.163075</td>\n",
       "      <td>0.266764</td>\n",
       "      <td>0.173012</td>\n",
       "      <td>93.569864</td>\n",
       "      <td>-40.124108</td>\n",
       "      <td>3.710457</td>\n",
       "      <td>5170.155979</td>\n",
       "      <td>0.113485</td>\n",
       "    </tr>\n",
       "    <tr>\n",
       "      <th>university.degree</th>\n",
       "      <td>38.879191</td>\n",
       "      <td>0.000000</td>\n",
       "      <td>0.534517</td>\n",
       "      <td>0.158613</td>\n",
       "      <td>6.003041</td>\n",
       "      <td>1.979536</td>\n",
       "      <td>253.223373</td>\n",
       "      <td>2.563527</td>\n",
       "      <td>951.807692</td>\n",
       "      <td>0.192390</td>\n",
       "      <td>0.300282</td>\n",
       "      <td>-0.028090</td>\n",
       "      <td>93.493466</td>\n",
       "      <td>-39.975805</td>\n",
       "      <td>3.529663</td>\n",
       "      <td>5163.226298</td>\n",
       "      <td>0.137245</td>\n",
       "    </tr>\n",
       "    <tr>\n",
       "      <th>unknown</th>\n",
       "      <td>43.481225</td>\n",
       "      <td>0.000000</td>\n",
       "      <td>0.505488</td>\n",
       "      <td>0.139804</td>\n",
       "      <td>5.477759</td>\n",
       "      <td>2.053148</td>\n",
       "      <td>262.390526</td>\n",
       "      <td>2.596187</td>\n",
       "      <td>942.830734</td>\n",
       "      <td>0.226459</td>\n",
       "      <td>0.314815</td>\n",
       "      <td>0.059099</td>\n",
       "      <td>93.658615</td>\n",
       "      <td>-39.877816</td>\n",
       "      <td>3.571098</td>\n",
       "      <td>5159.549509</td>\n",
       "      <td>0.145003</td>\n",
       "    </tr>\n",
       "  </tbody>\n",
       "</table>\n",
       "</div>"
      ],
      "text/plain": [
       "                           age   default   housing      loan     month  \\\n",
       "education                                                                \n",
       "basic.4y             47.596504  0.000000  0.503831  0.149425  5.401820   \n",
       "basic.6y             40.448953  0.000000  0.506981  0.143979  5.146597   \n",
       "basic.9y             39.061208  0.000000  0.521257  0.146071  5.229115   \n",
       "high.school          37.998213  0.000105  0.518339  0.151655  5.471046   \n",
       "illiterate           48.500000  0.000000  0.555556  0.166667  6.277778   \n",
       "professional.course  40.080107  0.000381  0.541293  0.151249  5.782377   \n",
       "university.degree    38.879191  0.000000  0.534517  0.158613  6.003041   \n",
       "unknown              43.481225  0.000000  0.505488  0.139804  5.477759   \n",
       "\n",
       "                     day_of_week    duration  campaign       pdays  previous  \\\n",
       "education                                                                      \n",
       "basic.4y                1.941810  264.827826  2.600575  965.704981  0.147031   \n",
       "basic.6y                2.009599  264.414485  2.556283  980.368237  0.129145   \n",
       "basic.9y                2.001820  261.291811  2.532341  979.133168  0.141439   \n",
       "high.school             1.959432  260.886810  2.568576  964.358382  0.185917   \n",
       "illiterate              2.388889  276.777778  2.277778  943.833333  0.111111   \n",
       "professional.course     1.981881  252.533855  2.586115  960.765974  0.163075   \n",
       "university.degree       1.979536  253.223373  2.563527  951.807692  0.192390   \n",
       "unknown                 2.053148  262.390526  2.596187  942.830734  0.226459   \n",
       "\n",
       "                     poutcome  emp.var.rate  cons.price.idx  cons.conf.idx  \\\n",
       "education                                                                    \n",
       "basic.4y             0.262500      0.215924       93.658309     -40.239871   \n",
       "basic.6y             0.155039      0.231152       93.650062     -41.127880   \n",
       "basic.9y             0.149798      0.159239       93.623399     -41.326749   \n",
       "high.school          0.208068      0.032937       93.584857     -40.940641   \n",
       "illiterate           0.500000     -0.133333       93.317333     -39.950000   \n",
       "professional.course  0.266764      0.173012       93.569864     -40.124108   \n",
       "university.degree    0.300282     -0.028090       93.493466     -39.975805   \n",
       "unknown              0.314815      0.059099       93.658615     -39.877816   \n",
       "\n",
       "                     euribor3m  nr.employed         y  \n",
       "education                                              \n",
       "basic.4y              3.751768  5170.124880  0.102490  \n",
       "basic.6y              3.772942  5174.718063  0.082024  \n",
       "basic.9y              3.697963  5172.294012  0.078246  \n",
       "high.school           3.556157  5164.994735  0.108355  \n",
       "illiterate            3.516556  5171.777778  0.222222  \n",
       "professional.course   3.710457  5170.155979  0.113485  \n",
       "university.degree     3.529663  5163.226298  0.137245  \n",
       "unknown               3.571098  5159.549509  0.145003  "
      ]
     },
     "execution_count": 52,
     "metadata": {},
     "output_type": "execute_result"
    }
   ],
   "source": [
    "df.groupby('education').mean()"
   ]
  },
  {
   "cell_type": "code",
   "execution_count": 55,
   "metadata": {
    "ExecuteTime": {
     "end_time": "2018-11-20T18:53:04.975193Z",
     "start_time": "2018-11-20T18:53:04.966431Z"
    }
   },
   "outputs": [
    {
     "data": {
      "text/plain": [
       "education\n",
       "basic.4y                4176\n",
       "basic.6y                2292\n",
       "basic.9y                6045\n",
       "high.school             9515\n",
       "illiterate                18\n",
       "professional.course     5243\n",
       "university.degree      12168\n",
       "unknown                 1731\n",
       "dtype: int64"
      ]
     },
     "execution_count": 55,
     "metadata": {},
     "output_type": "execute_result"
    }
   ],
   "source": [
    "df.groupby('education').size()"
   ]
  },
  {
   "cell_type": "markdown",
   "metadata": {},
   "source": [
    "Strange, it appears the more educated a person is the less likely they will subscribe. This appears to be due to the small sample size of illiterate people compared to the other groups. Ignore this for now. What is basic._Y? Too many questions here so we will not use this information in experimental design."
   ]
  },
  {
   "cell_type": "markdown",
   "metadata": {},
   "source": [
    "## Marital status"
   ]
  },
  {
   "cell_type": "code",
   "execution_count": 49,
   "metadata": {
    "ExecuteTime": {
     "end_time": "2018-11-20T18:28:10.908807Z",
     "start_time": "2018-11-20T18:28:10.878671Z"
    }
   },
   "outputs": [
    {
     "data": {
      "text/html": [
       "<div>\n",
       "<style scoped>\n",
       "    .dataframe tbody tr th:only-of-type {\n",
       "        vertical-align: middle;\n",
       "    }\n",
       "\n",
       "    .dataframe tbody tr th {\n",
       "        vertical-align: top;\n",
       "    }\n",
       "\n",
       "    .dataframe thead th {\n",
       "        text-align: right;\n",
       "    }\n",
       "</style>\n",
       "<table border=\"1\" class=\"dataframe\">\n",
       "  <thead>\n",
       "    <tr style=\"text-align: right;\">\n",
       "      <th></th>\n",
       "      <th>age</th>\n",
       "      <th>default</th>\n",
       "      <th>housing</th>\n",
       "      <th>loan</th>\n",
       "      <th>month</th>\n",
       "      <th>day_of_week</th>\n",
       "      <th>duration</th>\n",
       "      <th>campaign</th>\n",
       "      <th>pdays</th>\n",
       "      <th>previous</th>\n",
       "      <th>poutcome</th>\n",
       "      <th>emp.var.rate</th>\n",
       "      <th>cons.price.idx</th>\n",
       "      <th>cons.conf.idx</th>\n",
       "      <th>euribor3m</th>\n",
       "      <th>nr.employed</th>\n",
       "      <th>y</th>\n",
       "    </tr>\n",
       "    <tr>\n",
       "      <th>marital</th>\n",
       "      <th></th>\n",
       "      <th></th>\n",
       "      <th></th>\n",
       "      <th></th>\n",
       "      <th></th>\n",
       "      <th></th>\n",
       "      <th></th>\n",
       "      <th></th>\n",
       "      <th></th>\n",
       "      <th></th>\n",
       "      <th></th>\n",
       "      <th></th>\n",
       "      <th></th>\n",
       "      <th></th>\n",
       "      <th></th>\n",
       "      <th></th>\n",
       "      <th></th>\n",
       "    </tr>\n",
       "  </thead>\n",
       "  <tbody>\n",
       "    <tr>\n",
       "      <th>divorced</th>\n",
       "      <td>44.899393</td>\n",
       "      <td>0.00000</td>\n",
       "      <td>0.520165</td>\n",
       "      <td>0.146357</td>\n",
       "      <td>5.663487</td>\n",
       "      <td>1.930182</td>\n",
       "      <td>253.790330</td>\n",
       "      <td>2.61340</td>\n",
       "      <td>968.639853</td>\n",
       "      <td>0.168690</td>\n",
       "      <td>0.204437</td>\n",
       "      <td>0.163985</td>\n",
       "      <td>93.606563</td>\n",
       "      <td>-40.707069</td>\n",
       "      <td>3.715603</td>\n",
       "      <td>5170.878643</td>\n",
       "      <td>0.103209</td>\n",
       "    </tr>\n",
       "    <tr>\n",
       "      <th>married</th>\n",
       "      <td>42.307165</td>\n",
       "      <td>0.00012</td>\n",
       "      <td>0.519536</td>\n",
       "      <td>0.151356</td>\n",
       "      <td>5.624799</td>\n",
       "      <td>1.977335</td>\n",
       "      <td>257.438623</td>\n",
       "      <td>2.57281</td>\n",
       "      <td>967.247673</td>\n",
       "      <td>0.155608</td>\n",
       "      <td>0.232700</td>\n",
       "      <td>0.183625</td>\n",
       "      <td>93.597367</td>\n",
       "      <td>-40.270659</td>\n",
       "      <td>3.745832</td>\n",
       "      <td>5171.848772</td>\n",
       "      <td>0.101573</td>\n",
       "    </tr>\n",
       "    <tr>\n",
       "      <th>single</th>\n",
       "      <td>33.158714</td>\n",
       "      <td>0.00000</td>\n",
       "      <td>0.535183</td>\n",
       "      <td>0.154564</td>\n",
       "      <td>5.551089</td>\n",
       "      <td>2.004063</td>\n",
       "      <td>261.524378</td>\n",
       "      <td>2.53380</td>\n",
       "      <td>949.909578</td>\n",
       "      <td>0.211359</td>\n",
       "      <td>0.276083</td>\n",
       "      <td>-0.167989</td>\n",
       "      <td>93.517300</td>\n",
       "      <td>-40.918698</td>\n",
       "      <td>3.317447</td>\n",
       "      <td>5155.199265</td>\n",
       "      <td>0.140041</td>\n",
       "    </tr>\n",
       "    <tr>\n",
       "      <th>unknown</th>\n",
       "      <td>40.275000</td>\n",
       "      <td>0.00000</td>\n",
       "      <td>0.437500</td>\n",
       "      <td>0.150000</td>\n",
       "      <td>5.350000</td>\n",
       "      <td>1.987500</td>\n",
       "      <td>312.725000</td>\n",
       "      <td>3.18750</td>\n",
       "      <td>937.100000</td>\n",
       "      <td>0.275000</td>\n",
       "      <td>0.277778</td>\n",
       "      <td>-0.221250</td>\n",
       "      <td>93.471250</td>\n",
       "      <td>-40.820000</td>\n",
       "      <td>3.313037</td>\n",
       "      <td>5157.393750</td>\n",
       "      <td>0.150000</td>\n",
       "    </tr>\n",
       "  </tbody>\n",
       "</table>\n",
       "</div>"
      ],
      "text/plain": [
       "                age  default   housing      loan     month  day_of_week  \\\n",
       "marital                                                                   \n",
       "divorced  44.899393  0.00000  0.520165  0.146357  5.663487     1.930182   \n",
       "married   42.307165  0.00012  0.519536  0.151356  5.624799     1.977335   \n",
       "single    33.158714  0.00000  0.535183  0.154564  5.551089     2.004063   \n",
       "unknown   40.275000  0.00000  0.437500  0.150000  5.350000     1.987500   \n",
       "\n",
       "            duration  campaign       pdays  previous  poutcome  emp.var.rate  \\\n",
       "marital                                                                        \n",
       "divorced  253.790330   2.61340  968.639853  0.168690  0.204437      0.163985   \n",
       "married   257.438623   2.57281  967.247673  0.155608  0.232700      0.183625   \n",
       "single    261.524378   2.53380  949.909578  0.211359  0.276083     -0.167989   \n",
       "unknown   312.725000   3.18750  937.100000  0.275000  0.277778     -0.221250   \n",
       "\n",
       "          cons.price.idx  cons.conf.idx  euribor3m  nr.employed         y  \n",
       "marital                                                                    \n",
       "divorced       93.606563     -40.707069   3.715603  5170.878643  0.103209  \n",
       "married        93.597367     -40.270659   3.745832  5171.848772  0.101573  \n",
       "single         93.517300     -40.918698   3.317447  5155.199265  0.140041  \n",
       "unknown        93.471250     -40.820000   3.313037  5157.393750  0.150000  "
      ]
     },
     "execution_count": 49,
     "metadata": {},
     "output_type": "execute_result"
    }
   ],
   "source": [
    "df.groupby('marital').mean()"
   ]
  },
  {
   "cell_type": "markdown",
   "metadata": {},
   "source": [
    "Interesting to note that married people subscribe significantly less than single customers, who are much younger and are more likely to have subscribed in the past."
   ]
  },
  {
   "cell_type": "markdown",
   "metadata": {},
   "source": [
    "## Time: Day of the week"
   ]
  },
  {
   "cell_type": "code",
   "execution_count": 53,
   "metadata": {
    "ExecuteTime": {
     "end_time": "2018-11-20T18:29:13.838744Z",
     "start_time": "2018-11-20T18:29:13.814466Z"
    }
   },
   "outputs": [
    {
     "data": {
      "text/html": [
       "<div>\n",
       "<style scoped>\n",
       "    .dataframe tbody tr th:only-of-type {\n",
       "        vertical-align: middle;\n",
       "    }\n",
       "\n",
       "    .dataframe tbody tr th {\n",
       "        vertical-align: top;\n",
       "    }\n",
       "\n",
       "    .dataframe thead th {\n",
       "        text-align: right;\n",
       "    }\n",
       "</style>\n",
       "<table border=\"1\" class=\"dataframe\">\n",
       "  <thead>\n",
       "    <tr style=\"text-align: right;\">\n",
       "      <th></th>\n",
       "      <th>age</th>\n",
       "      <th>default</th>\n",
       "      <th>housing</th>\n",
       "      <th>loan</th>\n",
       "      <th>month</th>\n",
       "      <th>duration</th>\n",
       "      <th>campaign</th>\n",
       "      <th>pdays</th>\n",
       "      <th>previous</th>\n",
       "      <th>poutcome</th>\n",
       "      <th>emp.var.rate</th>\n",
       "      <th>cons.price.idx</th>\n",
       "      <th>cons.conf.idx</th>\n",
       "      <th>euribor3m</th>\n",
       "      <th>nr.employed</th>\n",
       "      <th>y</th>\n",
       "    </tr>\n",
       "    <tr>\n",
       "      <th>day_of_week</th>\n",
       "      <th></th>\n",
       "      <th></th>\n",
       "      <th></th>\n",
       "      <th></th>\n",
       "      <th></th>\n",
       "      <th></th>\n",
       "      <th></th>\n",
       "      <th></th>\n",
       "      <th></th>\n",
       "      <th></th>\n",
       "      <th></th>\n",
       "      <th></th>\n",
       "      <th></th>\n",
       "      <th></th>\n",
       "      <th></th>\n",
       "      <th></th>\n",
       "    </tr>\n",
       "  </thead>\n",
       "  <tbody>\n",
       "    <tr>\n",
       "      <th>0</th>\n",
       "      <td>40.412497</td>\n",
       "      <td>0.000000</td>\n",
       "      <td>0.535941</td>\n",
       "      <td>0.156566</td>\n",
       "      <td>5.519027</td>\n",
       "      <td>246.568358</td>\n",
       "      <td>2.645760</td>\n",
       "      <td>962.852948</td>\n",
       "      <td>0.171012</td>\n",
       "      <td>0.240870</td>\n",
       "      <td>0.026063</td>\n",
       "      <td>93.577108</td>\n",
       "      <td>-40.877790</td>\n",
       "      <td>3.542196</td>\n",
       "      <td>5164.568393</td>\n",
       "      <td>0.099483</td>\n",
       "    </tr>\n",
       "    <tr>\n",
       "      <th>1</th>\n",
       "      <td>40.427441</td>\n",
       "      <td>0.000371</td>\n",
       "      <td>0.512485</td>\n",
       "      <td>0.144623</td>\n",
       "      <td>5.685538</td>\n",
       "      <td>260.455995</td>\n",
       "      <td>2.426823</td>\n",
       "      <td>959.715575</td>\n",
       "      <td>0.173053</td>\n",
       "      <td>0.265511</td>\n",
       "      <td>0.128220</td>\n",
       "      <td>93.577088</td>\n",
       "      <td>-40.034227</td>\n",
       "      <td>3.701038</td>\n",
       "      <td>5168.486094</td>\n",
       "      <td>0.117800</td>\n",
       "    </tr>\n",
       "    <tr>\n",
       "      <th>2</th>\n",
       "      <td>39.526801</td>\n",
       "      <td>0.000000</td>\n",
       "      <td>0.525449</td>\n",
       "      <td>0.150111</td>\n",
       "      <td>5.694615</td>\n",
       "      <td>265.883206</td>\n",
       "      <td>2.449840</td>\n",
       "      <td>962.859970</td>\n",
       "      <td>0.169044</td>\n",
       "      <td>0.251397</td>\n",
       "      <td>0.166745</td>\n",
       "      <td>93.590225</td>\n",
       "      <td>-40.281387</td>\n",
       "      <td>3.726885</td>\n",
       "      <td>5170.425436</td>\n",
       "      <td>0.116671</td>\n",
       "    </tr>\n",
       "    <tr>\n",
       "      <th>3</th>\n",
       "      <td>39.591557</td>\n",
       "      <td>0.000000</td>\n",
       "      <td>0.536240</td>\n",
       "      <td>0.150876</td>\n",
       "      <td>5.672504</td>\n",
       "      <td>265.674591</td>\n",
       "      <td>2.595268</td>\n",
       "      <td>959.501913</td>\n",
       "      <td>0.174417</td>\n",
       "      <td>0.265876</td>\n",
       "      <td>0.058460</td>\n",
       "      <td>93.556380</td>\n",
       "      <td>-40.753323</td>\n",
       "      <td>3.574923</td>\n",
       "      <td>5166.662693</td>\n",
       "      <td>0.121188</td>\n",
       "    </tr>\n",
       "    <tr>\n",
       "      <th>4</th>\n",
       "      <td>40.177846</td>\n",
       "      <td>0.000000</td>\n",
       "      <td>0.507091</td>\n",
       "      <td>0.156254</td>\n",
       "      <td>5.463013</td>\n",
       "      <td>252.748818</td>\n",
       "      <td>2.719944</td>\n",
       "      <td>967.793791</td>\n",
       "      <td>0.177463</td>\n",
       "      <td>0.196619</td>\n",
       "      <td>0.032337</td>\n",
       "      <td>93.578735</td>\n",
       "      <td>-40.532260</td>\n",
       "      <td>3.566249</td>\n",
       "      <td>5165.109799</td>\n",
       "      <td>0.108087</td>\n",
       "    </tr>\n",
       "  </tbody>\n",
       "</table>\n",
       "</div>"
      ],
      "text/plain": [
       "                   age   default   housing      loan     month    duration  \\\n",
       "day_of_week                                                                  \n",
       "0            40.412497  0.000000  0.535941  0.156566  5.519027  246.568358   \n",
       "1            40.427441  0.000371  0.512485  0.144623  5.685538  260.455995   \n",
       "2            39.526801  0.000000  0.525449  0.150111  5.694615  265.883206   \n",
       "3            39.591557  0.000000  0.536240  0.150876  5.672504  265.674591   \n",
       "4            40.177846  0.000000  0.507091  0.156254  5.463013  252.748818   \n",
       "\n",
       "             campaign       pdays  previous  poutcome  emp.var.rate  \\\n",
       "day_of_week                                                           \n",
       "0            2.645760  962.852948  0.171012  0.240870      0.026063   \n",
       "1            2.426823  959.715575  0.173053  0.265511      0.128220   \n",
       "2            2.449840  962.859970  0.169044  0.251397      0.166745   \n",
       "3            2.595268  959.501913  0.174417  0.265876      0.058460   \n",
       "4            2.719944  967.793791  0.177463  0.196619      0.032337   \n",
       "\n",
       "             cons.price.idx  cons.conf.idx  euribor3m  nr.employed         y  \n",
       "day_of_week                                                                   \n",
       "0                 93.577108     -40.877790   3.542196  5164.568393  0.099483  \n",
       "1                 93.577088     -40.034227   3.701038  5168.486094  0.117800  \n",
       "2                 93.590225     -40.281387   3.726885  5170.425436  0.116671  \n",
       "3                 93.556380     -40.753323   3.574923  5166.662693  0.121188  \n",
       "4                 93.578735     -40.532260   3.566249  5165.109799  0.108087  "
      ]
     },
     "execution_count": 53,
     "metadata": {},
     "output_type": "execute_result"
    }
   ],
   "source": [
    "df.groupby(\"day_of_week\").mean()"
   ]
  },
  {
   "cell_type": "code",
   "execution_count": 24,
   "metadata": {
    "ExecuteTime": {
     "end_time": "2018-11-22T16:38:34.566423Z",
     "start_time": "2018-11-22T16:38:34.160048Z"
    }
   },
   "outputs": [
    {
     "data": {
      "image/png": "[encoded data removed]",
      "text/plain": [
       "<Figure size 432x288 with 1 Axes>"
      ]
     },
     "metadata": {
      "needs_background": "light"
     },
     "output_type": "display_data"
    },
    {
     "data": {
      "image/png": "[encoded data removed]",
      "text/plain": [
       "<Figure size 432x288 with 1 Axes>"
      ]
     },
     "metadata": {
      "needs_background": "light"
     },
     "output_type": "display_data"
    }
   ],
   "source": [
    "plt.title(\"Number of calls per month\")\n",
    "months = [\"January\", \"February\", \"March\", \"April\", \n",
    "          \"May\", \"June\", \"July\", \"August\", \"Septermber\", \n",
    "          \"October\", \"November\", \"December\"]\n",
    "# the numbers are not right here...off by 1 month\n",
    "df.groupby(\"month\").size().plot.bar()\n",
    "sns.despine()\n",
    "plt.xticks(range(0,12), months, rotation = 90)\n",
    "plt.show()\n",
    "plt.title(\"Number of calls per weekday\")\n",
    "df.groupby(\"day_of_week\").y.size().plot.bar()\n",
    "plt.xticks([0.3,1.1,1.8,2.7,3.5],[\"Monday\",\"Tuesday\",\"Wednesday\",\"Thursday\",\"Friday\"], rotation = 60)\n",
    "sns.despine()"
   ]
  },
  {
   "cell_type": "code",
   "execution_count": 25,
   "metadata": {
    "ExecuteTime": {
     "end_time": "2018-11-22T16:38:51.954325Z",
     "start_time": "2018-11-22T16:38:51.710947Z"
    }
   },
   "outputs": [
    {
     "data": {
      "image/png": "[encoded data removed]",
      "text/plain": [
       "<Figure size 864x720 with 1 Axes>"
      ]
     },
     "metadata": {
      "needs_background": "light"
     },
     "output_type": "display_data"
    }
   ],
   "source": [
    "plt.figure(figsize=(12,10))\n",
    "ax = sns.lineplot(x=range(0,5), y=df.groupby(\"day_of_week\").y.mean().values)\n",
    "plt.xticks([0,1,1.7,2.5,3.4],[\"Monday\",\"Tuesday\",\"Wednesday\",\"Thursday\",\"Friday\"])\n",
    "plt.ylabel(\"Purchase Rate\")\n",
    "plt.title(\"Purchase Rate vs. Day\")\n",
    "sns.despine(left=True, bottom=True)"
   ]
  },
  {
   "cell_type": "markdown",
   "metadata": {},
   "source": [
    "Not seeing that big of a difference in outcome conditioned on day of week. On Fridays they called less customers who previously subscribed, however according to campaign more calls for this campaign were made on Fridays. Suggestion: call more customers who previously subscribed on Fridays. Over half of all customers have a house loan with this bank and all were around 40 years old.\n",
    "\n",
    "So the current campaign looks as if it was mainly conducted during the summer months (April), but calls were made pretty uniformly throughout each week. \n",
    "\n",
    "So according to the above plots, we should reduce the total number of calls on Mondays and Fridays, especially to those populations that was less likely to purchase long-term deposits (blue-collar employees)."
   ]
  },
  {
   "cell_type": "markdown",
   "metadata": {},
   "source": [
    "## Total Calls"
   ]
  },
  {
   "cell_type": "code",
   "execution_count": 115,
   "metadata": {
    "ExecuteTime": {
     "end_time": "2018-11-21T19:31:37.891977Z",
     "start_time": "2018-11-21T19:31:37.550149Z"
    },
    "scrolled": true
   },
   "outputs": [
    {
     "data": {
      "text/plain": [
       "Text(0, 0.5, 'Purchase Rate')"
      ]
     },
     "execution_count": 115,
     "metadata": {},
     "output_type": "execute_result"
    },
    {
     "data": {
      "image/png": "[encoded data removed]",
      "text/plain": [
       "<Figure size 864x720 with 1 Axes>"
      ]
     },
     "metadata": {
      "needs_background": "light"
     },
     "output_type": "display_data"
    }
   ],
   "source": [
    "# Here I am trying to plot the number of calls versus the purchase rate, colored by job...\n",
    "# and the size of the marker corresponding to ratio of that job's mean rate / alll jobs rate\n",
    "plt.figure(figsize=(12,10))\n",
    "ax = sns.scatterplot(x=jobs[\"size\"], y=jobs[\"mean\"], hue=jobs.job, sizes=10*(jobs[\"mean\"] / df.y.mean()))\n",
    "ax.set_xlabel(\"Total Calls\")\n",
    "ax.set_ylabel(\"Purchase Rate\")"
   ]
  },
  {
   "cell_type": "markdown",
   "metadata": {},
   "source": [
    "## Correlation"
   ]
  },
  {
   "cell_type": "code",
   "execution_count": 26,
   "metadata": {
    "ExecuteTime": {
     "end_time": "2018-11-22T16:39:45.492712Z",
     "start_time": "2018-11-22T16:39:45.454141Z"
    }
   },
   "outputs": [
    {
     "data": {
      "text/plain": [
       "age               0.030399\n",
       "default          -0.003041\n",
       "housing           0.011743\n",
       "loan             -0.004466\n",
       "month             0.037187\n",
       "day_of_week       0.010051\n",
       "duration          0.405274\n",
       "campaign         -0.066357\n",
       "pdays            -0.324914\n",
       "previous          0.230181\n",
       "poutcome          0.494368\n",
       "emp.var.rate     -0.298334\n",
       "cons.price.idx   -0.136211\n",
       "cons.conf.idx     0.054878\n",
       "euribor3m        -0.307771\n",
       "nr.employed      -0.354678\n",
       "y                 1.000000\n",
       "Name: y, dtype: float64"
      ]
     },
     "execution_count": 26,
     "metadata": {},
     "output_type": "execute_result"
    }
   ],
   "source": [
    "df.corr()[\"y\"]"
   ]
  },
  {
   "cell_type": "markdown",
   "metadata": {},
   "source": [
    "Not surprisingly, current campaign purchase rates are correlated with previous outcomes as well as phone call duration, however it is interesting to see are also correlated with social-economic metrics such as the Euribor rate, employee variation rate and number of employees. The latter two metrics may only be relevant to the bank at hand, and if so it appears that the more stable your work environment is, the more conversions you get. \n",
    "The Euro Interbank Offered Rate (Euribor) is a daily reference rate, published by the European Money Markets Institute, based on the averaged interest rates at which Euribor banks offer to lend unsecured funds to other banks in the euro wholesale money market (or interbank market)."
   ]
  },
  {
   "cell_type": "markdown",
   "metadata": {},
   "source": [
    "# Proposal\n",
    "Therefore, a simple allocation adjustment should result in more purchases of long-term deposits.\n",
    "  * Reduce calls to customers who list their job as unknown by about 7.7% (6), call 99 less blue-collar workers (5.4%) and 11 fewer housemaids (4.8%).\n",
    "  * We see a similar trend on Fridays, this time also for blue-collar employees as well as service and entrepreneur jobs. So decrease calls to blue-collar employees by about 4.1% (73), cut call to service workers by about 3.3% (25) and call ~2.6% less entrepreneurs (7).\n",
    "  * This equates to making 221 fewer calls (to populations who purchase less on average), or a little over 15 hours. This time can then be distributed among the jobs that are more likely to purchase. If we want to maximize this, we need to consider the average duration required per job as well as their average purchase rate. \n",
    "    * unemployed (1014): mean rate of 14.2% with an average duration of 249.4 seconds, call 62 more of these customers.\n",
    "    * student (875): rate of 31.4%, mean duration of 283.7 seconds, call 52 more of these customers. \n",
    "    * retired (1720): rate of 25.2% and a mean duration of 273.7 seconds, call 107 more of these customers. \n",
    "  \n",
    "  "
   ]
  }
 ],
 "metadata": {
  "kernelspec": {
   "display_name": "Python 3",
   "language": "python",
   "name": "python3"
  },
  "language_info": {
   "codemirror_mode": {
    "name": "ipython",
    "version": 3
   },
   "file_extension": ".py",
   "mimetype": "text/x-python",
   "name": "python",
   "nbconvert_exporter": "python",
   "pygments_lexer": "ipython3",
   "version": "3.6.7"
  },
  "latex_envs": {
   "LaTeX_envs_menu_present": true,
   "autoclose": false,
   "autocomplete": true,
   "bibliofile": "biblio.bib",
   "cite_by": "apalike",
   "current_citInitial": 1,
   "eqLabelWithNumbers": true,
   "eqNumInitial": 1,
   "hotkeys": {
    "equation": "Ctrl-E",
    "itemize": "Ctrl-I"
   },
   "labels_anchors": false,
   "latex_user_defs": false,
   "report_style_numbering": false,
   "user_envs_cfg": false
  },
  "toc": {
   "base_numbering": 1,
   "nav_menu": {},
   "number_sections": true,
   "sideBar": true,
   "skip_h1_title": false,
   "title_cell": "Table of Contents",
   "title_sidebar": "Contents",
   "toc_cell": false,
   "toc_position": {},
   "toc_section_display": true,
   "toc_window_display": false
  },
  "varInspector": {
   "cols": {
    "lenName": 16,
    "lenType": 16,
    "lenVar": 40
   },
   "kernels_config": {
    "python": {
     "delete_cmd_postfix": "",
     "delete_cmd_prefix": "del ",
     "library": "var_list.py",
     "varRefreshCmd": "print(var_dic_list())"
    },
    "r": {
     "delete_cmd_postfix": ") ",
     "delete_cmd_prefix": "rm(",
     "library": "var_list.r",
     "varRefreshCmd": "cat(var_dic_list()) "
    }
   },
   "types_to_exclude": [
    "module",
    "function",
    "builtin_function_or_method",
    "instance",
    "_Feature"
   ],
   "window_display": false
  }
 },
 "nbformat": 4,
 "nbformat_minor": 2
}
