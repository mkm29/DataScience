{
 "cells": [
  {
   "cell_type": "code",
   "execution_count": 1,
   "metadata": {
    "ExecuteTime": {
     "end_time": "2018-11-08T17:32:22.799030Z",
     "start_time": "2018-11-08T17:32:19.850657Z"
    }
   },
   "outputs": [],
   "source": [
    "import pandas as pd\n",
    "import numpy as np\n",
    "from sqlalchemy import create_engine\n",
    "%matplotlib inline"
   ]
  },
  {
   "cell_type": "code",
   "execution_count": 2,
   "metadata": {
    "ExecuteTime": {
     "end_time": "2018-11-08T17:32:22.862993Z",
     "start_time": "2018-11-08T17:32:22.851737Z"
    }
   },
   "outputs": [],
   "source": [
    "def percent_to_int(percent_string):\n",
    "    try:\n",
    "        return int(percent_string.strip(\"%\"))\n",
    "    except ValueError:\n",
    "        return np.nan\n",
    "\n",
    "def replace_brackets(text):\n",
    "    try:\n",
    "        return text.replace('[','{').replace(']','}')\n",
    "    except ValueError:\n",
    "        return text\n",
    "\n",
    "def to_int(value):\n",
    "    try:\n",
    "        return np.int32(value)\n",
    "    except ValueError:\n",
    "        return np.nan"
   ]
  },
  {
   "cell_type": "code",
   "execution_count": 3,
   "metadata": {
    "ExecuteTime": {
     "end_time": "2018-11-08T17:32:25.318176Z",
     "start_time": "2018-11-08T17:32:25.280815Z"
    }
   },
   "outputs": [],
   "source": [
    "def load_listings():\n",
    "    date_columns = ['last_scraped', \n",
    "                'host_since', \n",
    "                'calendar_last_scraped', \n",
    "                'last_review', \n",
    "                'first_review', \n",
    "                'calendar_updated']\n",
    "    convert_columns = {\"host_response_rate\" : percent_to_int, \n",
    "                       \"host_acceptance_rate\" : percent_to_int, \n",
    "                       \"amenities\" : replace_brackets, \n",
    "                       \"jurisdiction_names\" : replace_brackets, \n",
    "                       \"host_verifications\" : replace_brackets, \n",
    "                       \"zipcode\" : to_int}\n",
    "    dtypes = {\"zipcode\" : np.int32}\n",
    "    listings = pd.read_csv('listings.csv', index_col=\"id\", \n",
    "                     converters=convert_columns, \n",
    "                     sep=',', parse_dates=date_columns, infer_datetime_format=True, \n",
    "                     low_memory=False)\n",
    "    return listings\n",
    "\n",
    "def load_reviews():\n",
    "    reviews = pd.read_csv(\"reviews.csv\", parse_dates=[\"date\"], sep=\",\", \n",
    "                          infer_datetime_format=True)\n",
    "    return reviews\n",
    "\n",
    "def load_calendar():\n",
    "    calendar = pd.read_csv(\"calendar.csv\", parse_dates=[\"date\"], infer_datetime_format=True)\n",
    "    calendar.available = calendar.available.astype(bool)\n",
    "    return calendar"
   ]
  },
  {
   "cell_type": "code",
   "execution_count": 4,
   "metadata": {
    "ExecuteTime": {
     "end_time": "2018-11-08T17:32:43.180473Z",
     "start_time": "2018-11-08T17:32:28.229067Z"
    }
   },
   "outputs": [],
   "source": [
    "listings = load_listings()\n",
    "reviews = load_reviews()\n",
    "calendar = load_calendar()"
   ]
  },
  {
   "cell_type": "code",
   "execution_count": 5,
   "metadata": {
    "ExecuteTime": {
     "end_time": "2018-11-08T17:32:48.734204Z",
     "start_time": "2018-11-08T17:32:47.993556Z"
    }
   },
   "outputs": [
    {
     "data": {
      "text/html": [
       "<div>\n",
       "<style scoped>\n",
       "    .dataframe tbody tr th:only-of-type {\n",
       "        vertical-align: middle;\n",
       "    }\n",
       "\n",
       "    .dataframe tbody tr th {\n",
       "        vertical-align: top;\n",
       "    }\n",
       "\n",
       "    .dataframe thead th {\n",
       "        text-align: right;\n",
       "    }\n",
       "</style>\n",
       "<table border=\"1\" class=\"dataframe\">\n",
       "  <thead>\n",
       "    <tr style=\"text-align: right;\">\n",
       "      <th></th>\n",
       "      <th>scrape_id</th>\n",
       "      <th>thumbnail_url</th>\n",
       "      <th>medium_url</th>\n",
       "      <th>xl_picture_url</th>\n",
       "      <th>host_id</th>\n",
       "      <th>host_response_rate</th>\n",
       "      <th>host_acceptance_rate</th>\n",
       "      <th>host_listings_count</th>\n",
       "      <th>host_total_listings_count</th>\n",
       "      <th>neighbourhood_group_cleansed</th>\n",
       "      <th>...</th>\n",
       "      <th>number_of_reviews</th>\n",
       "      <th>review_scores_rating</th>\n",
       "      <th>review_scores_accuracy</th>\n",
       "      <th>review_scores_cleanliness</th>\n",
       "      <th>review_scores_checkin</th>\n",
       "      <th>review_scores_communication</th>\n",
       "      <th>review_scores_location</th>\n",
       "      <th>review_scores_value</th>\n",
       "      <th>calculated_host_listings_count</th>\n",
       "      <th>reviews_per_month</th>\n",
       "    </tr>\n",
       "  </thead>\n",
       "  <tbody>\n",
       "    <tr>\n",
       "      <th>count</th>\n",
       "      <td>5.105000e+03</td>\n",
       "      <td>0.0</td>\n",
       "      <td>0.0</td>\n",
       "      <td>0.0</td>\n",
       "      <td>5.105000e+03</td>\n",
       "      <td>3719.000000</td>\n",
       "      <td>0.0</td>\n",
       "      <td>5105.000000</td>\n",
       "      <td>5105.000000</td>\n",
       "      <td>0.0</td>\n",
       "      <td>...</td>\n",
       "      <td>5105.000000</td>\n",
       "      <td>4415.00000</td>\n",
       "      <td>4414.000000</td>\n",
       "      <td>4414.00000</td>\n",
       "      <td>4412.000000</td>\n",
       "      <td>4413.000000</td>\n",
       "      <td>4412.000000</td>\n",
       "      <td>4412.000000</td>\n",
       "      <td>5105.000000</td>\n",
       "      <td>4447.000000</td>\n",
       "    </tr>\n",
       "    <tr>\n",
       "      <th>mean</th>\n",
       "      <td>2.018102e+13</td>\n",
       "      <td>NaN</td>\n",
       "      <td>NaN</td>\n",
       "      <td>NaN</td>\n",
       "      <td>6.288486e+07</td>\n",
       "      <td>98.065340</td>\n",
       "      <td>NaN</td>\n",
       "      <td>39.903820</td>\n",
       "      <td>39.903820</td>\n",
       "      <td>NaN</td>\n",
       "      <td>...</td>\n",
       "      <td>38.357493</td>\n",
       "      <td>96.65436</td>\n",
       "      <td>9.840507</td>\n",
       "      <td>9.74966</td>\n",
       "      <td>9.904125</td>\n",
       "      <td>9.900748</td>\n",
       "      <td>9.776065</td>\n",
       "      <td>9.703536</td>\n",
       "      <td>4.973751</td>\n",
       "      <td>2.820832</td>\n",
       "    </tr>\n",
       "    <tr>\n",
       "      <th>std</th>\n",
       "      <td>0.000000e+00</td>\n",
       "      <td>NaN</td>\n",
       "      <td>NaN</td>\n",
       "      <td>NaN</td>\n",
       "      <td>6.090444e+07</td>\n",
       "      <td>9.525102</td>\n",
       "      <td>NaN</td>\n",
       "      <td>199.025546</td>\n",
       "      <td>199.025546</td>\n",
       "      <td>NaN</td>\n",
       "      <td>...</td>\n",
       "      <td>59.962649</td>\n",
       "      <td>5.25215</td>\n",
       "      <td>0.510865</td>\n",
       "      <td>0.58075</td>\n",
       "      <td>0.416842</td>\n",
       "      <td>0.408580</td>\n",
       "      <td>0.500907</td>\n",
       "      <td>0.620482</td>\n",
       "      <td>13.432290</td>\n",
       "      <td>2.508147</td>\n",
       "    </tr>\n",
       "    <tr>\n",
       "      <th>min</th>\n",
       "      <td>2.018102e+13</td>\n",
       "      <td>NaN</td>\n",
       "      <td>NaN</td>\n",
       "      <td>NaN</td>\n",
       "      <td>6.660000e+02</td>\n",
       "      <td>0.000000</td>\n",
       "      <td>NaN</td>\n",
       "      <td>0.000000</td>\n",
       "      <td>0.000000</td>\n",
       "      <td>NaN</td>\n",
       "      <td>...</td>\n",
       "      <td>0.000000</td>\n",
       "      <td>20.00000</td>\n",
       "      <td>2.000000</td>\n",
       "      <td>5.00000</td>\n",
       "      <td>2.000000</td>\n",
       "      <td>2.000000</td>\n",
       "      <td>4.000000</td>\n",
       "      <td>2.000000</td>\n",
       "      <td>1.000000</td>\n",
       "      <td>0.020000</td>\n",
       "    </tr>\n",
       "    <tr>\n",
       "      <th>25%</th>\n",
       "      <td>2.018102e+13</td>\n",
       "      <td>NaN</td>\n",
       "      <td>NaN</td>\n",
       "      <td>NaN</td>\n",
       "      <td>1.361116e+07</td>\n",
       "      <td>100.000000</td>\n",
       "      <td>NaN</td>\n",
       "      <td>1.000000</td>\n",
       "      <td>1.000000</td>\n",
       "      <td>NaN</td>\n",
       "      <td>...</td>\n",
       "      <td>3.000000</td>\n",
       "      <td>96.00000</td>\n",
       "      <td>10.000000</td>\n",
       "      <td>10.00000</td>\n",
       "      <td>10.000000</td>\n",
       "      <td>10.000000</td>\n",
       "      <td>10.000000</td>\n",
       "      <td>10.000000</td>\n",
       "      <td>1.000000</td>\n",
       "      <td>0.820000</td>\n",
       "    </tr>\n",
       "    <tr>\n",
       "      <th>50%</th>\n",
       "      <td>2.018102e+13</td>\n",
       "      <td>NaN</td>\n",
       "      <td>NaN</td>\n",
       "      <td>NaN</td>\n",
       "      <td>4.038135e+07</td>\n",
       "      <td>100.000000</td>\n",
       "      <td>NaN</td>\n",
       "      <td>1.000000</td>\n",
       "      <td>1.000000</td>\n",
       "      <td>NaN</td>\n",
       "      <td>...</td>\n",
       "      <td>15.000000</td>\n",
       "      <td>98.00000</td>\n",
       "      <td>10.000000</td>\n",
       "      <td>10.00000</td>\n",
       "      <td>10.000000</td>\n",
       "      <td>10.000000</td>\n",
       "      <td>10.000000</td>\n",
       "      <td>10.000000</td>\n",
       "      <td>1.000000</td>\n",
       "      <td>2.150000</td>\n",
       "    </tr>\n",
       "    <tr>\n",
       "      <th>75%</th>\n",
       "      <td>2.018102e+13</td>\n",
       "      <td>NaN</td>\n",
       "      <td>NaN</td>\n",
       "      <td>NaN</td>\n",
       "      <td>1.016407e+08</td>\n",
       "      <td>100.000000</td>\n",
       "      <td>NaN</td>\n",
       "      <td>3.000000</td>\n",
       "      <td>3.000000</td>\n",
       "      <td>NaN</td>\n",
       "      <td>...</td>\n",
       "      <td>48.000000</td>\n",
       "      <td>100.00000</td>\n",
       "      <td>10.000000</td>\n",
       "      <td>10.00000</td>\n",
       "      <td>10.000000</td>\n",
       "      <td>10.000000</td>\n",
       "      <td>10.000000</td>\n",
       "      <td>10.000000</td>\n",
       "      <td>2.000000</td>\n",
       "      <td>4.160000</td>\n",
       "    </tr>\n",
       "    <tr>\n",
       "      <th>max</th>\n",
       "      <td>2.018102e+13</td>\n",
       "      <td>NaN</td>\n",
       "      <td>NaN</td>\n",
       "      <td>NaN</td>\n",
       "      <td>2.213500e+08</td>\n",
       "      <td>100.000000</td>\n",
       "      <td>NaN</td>\n",
       "      <td>1275.000000</td>\n",
       "      <td>1275.000000</td>\n",
       "      <td>NaN</td>\n",
       "      <td>...</td>\n",
       "      <td>698.000000</td>\n",
       "      <td>100.00000</td>\n",
       "      <td>10.000000</td>\n",
       "      <td>10.00000</td>\n",
       "      <td>10.000000</td>\n",
       "      <td>10.000000</td>\n",
       "      <td>10.000000</td>\n",
       "      <td>10.000000</td>\n",
       "      <td>82.000000</td>\n",
       "      <td>17.930000</td>\n",
       "    </tr>\n",
       "  </tbody>\n",
       "</table>\n",
       "<p>8 rows × 35 columns</p>\n",
       "</div>"
      ],
      "text/plain": [
       "          scrape_id  thumbnail_url  medium_url  xl_picture_url       host_id  \\\n",
       "count  5.105000e+03            0.0         0.0             0.0  5.105000e+03   \n",
       "mean   2.018102e+13            NaN         NaN             NaN  6.288486e+07   \n",
       "std    0.000000e+00            NaN         NaN             NaN  6.090444e+07   \n",
       "min    2.018102e+13            NaN         NaN             NaN  6.660000e+02   \n",
       "25%    2.018102e+13            NaN         NaN             NaN  1.361116e+07   \n",
       "50%    2.018102e+13            NaN         NaN             NaN  4.038135e+07   \n",
       "75%    2.018102e+13            NaN         NaN             NaN  1.016407e+08   \n",
       "max    2.018102e+13            NaN         NaN             NaN  2.213500e+08   \n",
       "\n",
       "       host_response_rate  host_acceptance_rate  host_listings_count  \\\n",
       "count         3719.000000                   0.0          5105.000000   \n",
       "mean            98.065340                   NaN            39.903820   \n",
       "std              9.525102                   NaN           199.025546   \n",
       "min              0.000000                   NaN             0.000000   \n",
       "25%            100.000000                   NaN             1.000000   \n",
       "50%            100.000000                   NaN             1.000000   \n",
       "75%            100.000000                   NaN             3.000000   \n",
       "max            100.000000                   NaN          1275.000000   \n",
       "\n",
       "       host_total_listings_count  neighbourhood_group_cleansed  \\\n",
       "count                5105.000000                           0.0   \n",
       "mean                   39.903820                           NaN   \n",
       "std                   199.025546                           NaN   \n",
       "min                     0.000000                           NaN   \n",
       "25%                     1.000000                           NaN   \n",
       "50%                     1.000000                           NaN   \n",
       "75%                     3.000000                           NaN   \n",
       "max                  1275.000000                           NaN   \n",
       "\n",
       "             ...          number_of_reviews  review_scores_rating  \\\n",
       "count        ...                5105.000000            4415.00000   \n",
       "mean         ...                  38.357493              96.65436   \n",
       "std          ...                  59.962649               5.25215   \n",
       "min          ...                   0.000000              20.00000   \n",
       "25%          ...                   3.000000              96.00000   \n",
       "50%          ...                  15.000000              98.00000   \n",
       "75%          ...                  48.000000             100.00000   \n",
       "max          ...                 698.000000             100.00000   \n",
       "\n",
       "       review_scores_accuracy  review_scores_cleanliness  \\\n",
       "count             4414.000000                 4414.00000   \n",
       "mean                 9.840507                    9.74966   \n",
       "std                  0.510865                    0.58075   \n",
       "min                  2.000000                    5.00000   \n",
       "25%                 10.000000                   10.00000   \n",
       "50%                 10.000000                   10.00000   \n",
       "75%                 10.000000                   10.00000   \n",
       "max                 10.000000                   10.00000   \n",
       "\n",
       "       review_scores_checkin  review_scores_communication  \\\n",
       "count            4412.000000                  4413.000000   \n",
       "mean                9.904125                     9.900748   \n",
       "std                 0.416842                     0.408580   \n",
       "min                 2.000000                     2.000000   \n",
       "25%                10.000000                    10.000000   \n",
       "50%                10.000000                    10.000000   \n",
       "75%                10.000000                    10.000000   \n",
       "max                10.000000                    10.000000   \n",
       "\n",
       "       review_scores_location  review_scores_value  \\\n",
       "count             4412.000000          4412.000000   \n",
       "mean                 9.776065             9.703536   \n",
       "std                  0.500907             0.620482   \n",
       "min                  4.000000             2.000000   \n",
       "25%                 10.000000            10.000000   \n",
       "50%                 10.000000            10.000000   \n",
       "75%                 10.000000            10.000000   \n",
       "max                 10.000000            10.000000   \n",
       "\n",
       "       calculated_host_listings_count  reviews_per_month  \n",
       "count                     5105.000000        4447.000000  \n",
       "mean                         4.973751           2.820832  \n",
       "std                         13.432290           2.508147  \n",
       "min                          1.000000           0.020000  \n",
       "25%                          1.000000           0.820000  \n",
       "50%                          1.000000           2.150000  \n",
       "75%                          2.000000           4.160000  \n",
       "max                         82.000000          17.930000  \n",
       "\n",
       "[8 rows x 35 columns]"
      ]
     },
     "execution_count": 5,
     "metadata": {},
     "output_type": "execute_result"
    }
   ],
   "source": [
    "cal"
   ]
  },
  {
   "cell_type": "code",
   "execution_count": 58,
   "metadata": {
    "ExecuteTime": {
     "end_time": "2018-11-08T16:30:18.244178Z",
     "start_time": "2018-11-08T16:30:18.133214Z"
    }
   },
   "outputs": [
    {
     "data": {
      "text/plain": [
       "1863325"
      ]
     },
     "execution_count": 58,
     "metadata": {},
     "output_type": "execute_result"
    }
   ],
   "source": [
    "len(calendar[calendar.available==True])"
   ]
  },
  {
   "cell_type": "code",
   "execution_count": 47,
   "metadata": {
    "ExecuteTime": {
     "end_time": "2018-11-08T16:05:46.553553Z",
     "start_time": "2018-11-08T16:05:46.542165Z"
    }
   },
   "outputs": [],
   "source": [
    "listings[\"total_price\"] = listings.price + listings.security_deposit + listings.cleaning_fee"
   ]
  },
  {
   "cell_type": "code",
   "execution_count": 52,
   "metadata": {
    "ExecuteTime": {
     "end_time": "2018-11-08T16:28:49.454184Z",
     "start_time": "2018-11-08T16:28:49.447937Z"
    },
    "scrolled": true
   },
   "outputs": [
    {
     "data": {
      "text/plain": [
       "0          t\n",
       "1          t\n",
       "2          t\n",
       "3          t\n",
       "4          t\n",
       "5          t\n",
       "6          t\n",
       "7          t\n",
       "8          t\n",
       "9          t\n",
       "10         t\n",
       "11         t\n",
       "12         t\n",
       "13         t\n",
       "14         t\n",
       "15         t\n",
       "16         t\n",
       "17         t\n",
       "18         t\n",
       "19         t\n",
       "20         t\n",
       "21         t\n",
       "22         t\n",
       "23         t\n",
       "24         t\n",
       "25         t\n",
       "26         t\n",
       "27         t\n",
       "28         t\n",
       "29         t\n",
       "          ..\n",
       "1863295    f\n",
       "1863296    f\n",
       "1863297    f\n",
       "1863298    f\n",
       "1863299    f\n",
       "1863300    f\n",
       "1863301    f\n",
       "1863302    f\n",
       "1863303    f\n",
       "1863304    f\n",
       "1863305    f\n",
       "1863306    f\n",
       "1863307    f\n",
       "1863308    f\n",
       "1863309    f\n",
       "1863310    f\n",
       "1863311    f\n",
       "1863312    f\n",
       "1863313    f\n",
       "1863314    f\n",
       "1863315    f\n",
       "1863316    f\n",
       "1863317    f\n",
       "1863318    f\n",
       "1863319    f\n",
       "1863320    f\n",
       "1863321    f\n",
       "1863322    f\n",
       "1863323    f\n",
       "1863324    f\n",
       "Name: available, Length: 1863325, dtype: object"
      ]
     },
     "execution_count": 52,
     "metadata": {},
     "output_type": "execute_result"
    }
   ],
   "source": [
    "calendar.available"
   ]
  },
  {
   "cell_type": "code",
   "execution_count": 50,
   "metadata": {
    "ExecuteTime": {
     "end_time": "2018-11-08T16:09:31.016629Z",
     "start_time": "2018-11-08T16:09:31.010458Z"
    }
   },
   "outputs": [
    {
     "data": {
      "text/plain": [
       "id\n",
       "360          1\n",
       "590          1\n",
       "592         30\n",
       "686          2\n",
       "1940         2\n",
       "2086        30\n",
       "21745        2\n",
       "21746        3\n",
       "31503        3\n",
       "39405        1\n",
       "56185        3\n",
       "58598        2\n",
       "59631        1\n",
       "74125        3\n",
       "81540        3\n",
       "90307        1\n",
       "98008        2\n",
       "98014        2\n",
       "142683       1\n",
       "172196       3\n",
       "177942       2\n",
       "182353      30\n",
       "192430      30\n",
       "217715       1\n",
       "217996      30\n",
       "236207       2\n",
       "242859       3\n",
       "283162       4\n",
       "286732       2\n",
       "287392       3\n",
       "            ..\n",
       "29299983     1\n",
       "29300648     2\n",
       "29300850     1\n",
       "29303862    90\n",
       "29310521     1\n",
       "29311926     1\n",
       "29314916     4\n",
       "29315547     1\n",
       "29324718     1\n",
       "29328142     1\n",
       "29330393     2\n",
       "29331459     3\n",
       "29336471     3\n",
       "29336974    30\n",
       "29337651     1\n",
       "29338974    30\n",
       "29341452     1\n",
       "29345990     2\n",
       "29356636     1\n",
       "29356850     1\n",
       "29358825     2\n",
       "29359881     1\n",
       "29363348     1\n",
       "29365696     1\n",
       "29369939     2\n",
       "29370072     1\n",
       "29370634     1\n",
       "29370667     2\n",
       "29378419     1\n",
       "29382405     2\n",
       "Name: minimum_nights, Length: 5105, dtype: int64"
      ]
     },
     "execution_count": 50,
     "metadata": {},
     "output_type": "execute_result"
    }
   ],
   "source": [
    "listings.neighbourhood"
   ]
  },
  {
   "cell_type": "code",
   "execution_count": 44,
   "metadata": {
    "ExecuteTime": {
     "end_time": "2018-11-08T15:55:35.252064Z",
     "start_time": "2018-11-08T15:55:35.247451Z"
    }
   },
   "outputs": [
    {
     "data": {
      "text/plain": [
       "id\n",
       "13523589    91.0\n",
       "Name: review_scores_rating, dtype: float64"
      ]
     },
     "execution_count": 44,
     "metadata": {},
     "output_type": "execute_result"
    }
   ],
   "source": []
  },
  {
   "cell_type": "code",
   "execution_count": 45,
   "metadata": {
    "ExecuteTime": {
     "end_time": "2018-11-08T15:55:47.860960Z",
     "start_time": "2018-11-08T15:55:47.856172Z"
    }
   },
   "outputs": [
    {
     "data": {
      "text/plain": [
       "id\n",
       "13523589    9.0\n",
       "Name: review_scores_value, dtype: float64"
      ]
     },
     "execution_count": 45,
     "metadata": {},
     "output_type": "execute_result"
    }
   ],
   "source": [
    "top_listing.review_scores_value"
   ]
  },
  {
   "cell_type": "code",
   "execution_count": 46,
   "metadata": {
    "ExecuteTime": {
     "end_time": "2018-11-08T15:56:10.309439Z",
     "start_time": "2018-11-08T15:56:10.304117Z"
    }
   },
   "outputs": [
    {
     "data": {
      "text/plain": [
       "id\n",
       "13523589    10.0\n",
       "Name: review_scores_location, dtype: float64"
      ]
     },
     "execution_count": 46,
     "metadata": {},
     "output_type": "execute_result"
    }
   ],
   "source": [
    "top_listing.review_scores_location"
   ]
  },
  {
   "cell_type": "code",
   "execution_count": null,
   "metadata": {},
   "outputs": [],
   "source": []
  },
  {
   "cell_type": "code",
   "execution_count": null,
   "metadata": {},
   "outputs": [],
   "source": []
  }
 ],
 "metadata": {
  "kernelspec": {
   "display_name": "Python 3",
   "language": "python",
   "name": "python3"
  },
  "language_info": {
   "codemirror_mode": {
    "name": "ipython",
    "version": 3
   },
   "file_extension": ".py",
   "mimetype": "text/x-python",
   "name": "python",
   "nbconvert_exporter": "python",
   "pygments_lexer": "ipython3",
   "version": "3.6.6"
  },
  "latex_envs": {
   "LaTeX_envs_menu_present": true,
   "autoclose": false,
   "autocomplete": true,
   "bibliofile": "biblio.bib",
   "cite_by": "apalike",
   "current_citInitial": 1,
   "eqLabelWithNumbers": true,
   "eqNumInitial": 1,
   "hotkeys": {
    "equation": "Ctrl-E",
    "itemize": "Ctrl-I"
   },
   "labels_anchors": false,
   "latex_user_defs": false,
   "report_style_numbering": false,
   "user_envs_cfg": false
  },
  "toc": {
   "base_numbering": 1,
   "nav_menu": {},
   "number_sections": true,
   "sideBar": true,
   "skip_h1_title": false,
   "title_cell": "Table of Contents",
   "title_sidebar": "Contents",
   "toc_cell": false,
   "toc_position": {},
   "toc_section_display": true,
   "toc_window_display": false
  },
  "varInspector": {
   "cols": {
    "lenName": 16,
    "lenType": 16,
    "lenVar": 40
   },
   "kernels_config": {
    "python": {
     "delete_cmd_postfix": "",
     "delete_cmd_prefix": "del ",
     "library": "var_list.py",
     "varRefreshCmd": "print(var_dic_list())"
    },
    "r": {
     "delete_cmd_postfix": ") ",
     "delete_cmd_prefix": "rm(",
     "library": "var_list.r",
     "varRefreshCmd": "cat(var_dic_list()) "
    }
   },
   "types_to_exclude": [
    "module",
    "function",
    "builtin_function_or_method",
    "instance",
    "_Feature"
   ],
   "window_display": false
  }
 },
 "nbformat": 4,
 "nbformat_minor": 2
}
