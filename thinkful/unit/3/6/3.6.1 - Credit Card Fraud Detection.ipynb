{
 "cells": [
  {
   "cell_type": "code",
   "execution_count": 3,
   "metadata": {
    "ExecuteTime": {
     "end_time": "2019-01-24T16:25:17.474250Z",
     "start_time": "2019-01-24T16:25:16.717693Z"
    }
   },
   "outputs": [],
   "source": [
    "import numpy as np\n",
    "import pandas as pd\n",
    "import scipy\n",
    "import matplotlib.pyplot as plt\n",
    "import seaborn as sns\n",
    "from sklearn.model_selection import cross_val_score, cross_val_predict, train_test_split\n",
    "from sklearn.ensemble import RandomForestClassifier\n",
    "from sklearn.metrics import classification_report\n",
    "\n",
    "%matplotlib inline\n",
    "import time\n",
    "import warnings\n",
    "warnings.filterwarnings('ignore')"
   ]
  },
  {
   "cell_type": "code",
   "execution_count": 4,
   "metadata": {
    "ExecuteTime": {
     "end_time": "2019-01-24T16:25:23.339405Z",
     "start_time": "2019-01-24T16:25:19.623231Z"
    }
   },
   "outputs": [
    {
     "data": {
      "text/html": [
       "<div>\n",
       "<style scoped>\n",
       "    .dataframe tbody tr th:only-of-type {\n",
       "        vertical-align: middle;\n",
       "    }\n",
       "\n",
       "    .dataframe tbody tr th {\n",
       "        vertical-align: top;\n",
       "    }\n",
       "\n",
       "    .dataframe thead th {\n",
       "        text-align: right;\n",
       "    }\n",
       "</style>\n",
       "<table border=\"1\" class=\"dataframe\">\n",
       "  <thead>\n",
       "    <tr style=\"text-align: right;\">\n",
       "      <th></th>\n",
       "      <th>Time</th>\n",
       "      <th>V1</th>\n",
       "      <th>V2</th>\n",
       "      <th>V3</th>\n",
       "      <th>V4</th>\n",
       "      <th>V5</th>\n",
       "      <th>V6</th>\n",
       "      <th>V7</th>\n",
       "      <th>V8</th>\n",
       "      <th>V9</th>\n",
       "      <th>...</th>\n",
       "      <th>V21</th>\n",
       "      <th>V22</th>\n",
       "      <th>V23</th>\n",
       "      <th>V24</th>\n",
       "      <th>V25</th>\n",
       "      <th>V26</th>\n",
       "      <th>V27</th>\n",
       "      <th>V28</th>\n",
       "      <th>Amount</th>\n",
       "      <th>Class</th>\n",
       "    </tr>\n",
       "  </thead>\n",
       "  <tbody>\n",
       "    <tr>\n",
       "      <th>181591</th>\n",
       "      <td>125039.0</td>\n",
       "      <td>-1.587509</td>\n",
       "      <td>-0.321973</td>\n",
       "      <td>1.536331</td>\n",
       "      <td>-2.122642</td>\n",
       "      <td>-0.821575</td>\n",
       "      <td>-0.933197</td>\n",
       "      <td>-0.286901</td>\n",
       "      <td>0.519686</td>\n",
       "      <td>-0.947104</td>\n",
       "      <td>...</td>\n",
       "      <td>0.122023</td>\n",
       "      <td>-0.209140</td>\n",
       "      <td>-0.025597</td>\n",
       "      <td>-0.012297</td>\n",
       "      <td>0.450513</td>\n",
       "      <td>-0.385722</td>\n",
       "      <td>0.118299</td>\n",
       "      <td>-0.026919</td>\n",
       "      <td>90.00</td>\n",
       "      <td>0</td>\n",
       "    </tr>\n",
       "    <tr>\n",
       "      <th>28529</th>\n",
       "      <td>35048.0</td>\n",
       "      <td>1.401010</td>\n",
       "      <td>-0.455169</td>\n",
       "      <td>-1.123408</td>\n",
       "      <td>-0.723647</td>\n",
       "      <td>1.645589</td>\n",
       "      <td>3.442337</td>\n",
       "      <td>-0.917911</td>\n",
       "      <td>0.793761</td>\n",
       "      <td>-1.085931</td>\n",
       "      <td>...</td>\n",
       "      <td>-0.298879</td>\n",
       "      <td>-0.472668</td>\n",
       "      <td>-0.089922</td>\n",
       "      <td>0.973110</td>\n",
       "      <td>0.752157</td>\n",
       "      <td>-0.235344</td>\n",
       "      <td>0.051392</td>\n",
       "      <td>0.020176</td>\n",
       "      <td>4.66</td>\n",
       "      <td>0</td>\n",
       "    </tr>\n",
       "    <tr>\n",
       "      <th>47494</th>\n",
       "      <td>43231.0</td>\n",
       "      <td>-0.240917</td>\n",
       "      <td>-0.157289</td>\n",
       "      <td>0.933617</td>\n",
       "      <td>-1.063352</td>\n",
       "      <td>-0.365047</td>\n",
       "      <td>-0.045872</td>\n",
       "      <td>0.739445</td>\n",
       "      <td>-0.194107</td>\n",
       "      <td>-1.006151</td>\n",
       "      <td>...</td>\n",
       "      <td>0.018088</td>\n",
       "      <td>-0.007909</td>\n",
       "      <td>0.134879</td>\n",
       "      <td>-0.383656</td>\n",
       "      <td>0.034841</td>\n",
       "      <td>-0.320431</td>\n",
       "      <td>-0.150678</td>\n",
       "      <td>-0.178252</td>\n",
       "      <td>146.85</td>\n",
       "      <td>0</td>\n",
       "    </tr>\n",
       "    <tr>\n",
       "      <th>31838</th>\n",
       "      <td>36536.0</td>\n",
       "      <td>-0.183988</td>\n",
       "      <td>0.095756</td>\n",
       "      <td>1.654481</td>\n",
       "      <td>-1.283180</td>\n",
       "      <td>-0.566723</td>\n",
       "      <td>-0.346214</td>\n",
       "      <td>0.004623</td>\n",
       "      <td>0.004768</td>\n",
       "      <td>-1.352379</td>\n",
       "      <td>...</td>\n",
       "      <td>0.229341</td>\n",
       "      <td>0.557224</td>\n",
       "      <td>-0.031472</td>\n",
       "      <td>0.101056</td>\n",
       "      <td>-0.109551</td>\n",
       "      <td>-0.296230</td>\n",
       "      <td>0.052858</td>\n",
       "      <td>0.026860</td>\n",
       "      <td>32.00</td>\n",
       "      <td>0</td>\n",
       "    </tr>\n",
       "    <tr>\n",
       "      <th>178000</th>\n",
       "      <td>123431.0</td>\n",
       "      <td>1.835878</td>\n",
       "      <td>-0.579659</td>\n",
       "      <td>-0.606817</td>\n",
       "      <td>0.226223</td>\n",
       "      <td>-0.334289</td>\n",
       "      <td>-0.091943</td>\n",
       "      <td>-0.329841</td>\n",
       "      <td>-0.095206</td>\n",
       "      <td>0.838820</td>\n",
       "      <td>...</td>\n",
       "      <td>-0.161800</td>\n",
       "      <td>-0.538117</td>\n",
       "      <td>0.310582</td>\n",
       "      <td>0.517214</td>\n",
       "      <td>-0.559712</td>\n",
       "      <td>0.240017</td>\n",
       "      <td>-0.048414</td>\n",
       "      <td>-0.017415</td>\n",
       "      <td>110.00</td>\n",
       "      <td>0</td>\n",
       "    </tr>\n",
       "  </tbody>\n",
       "</table>\n",
       "<p>5 rows × 31 columns</p>\n",
       "</div>"
      ],
      "text/plain": [
       "            Time        V1        V2        V3        V4        V5        V6  \\\n",
       "181591  125039.0 -1.587509 -0.321973  1.536331 -2.122642 -0.821575 -0.933197   \n",
       "28529    35048.0  1.401010 -0.455169 -1.123408 -0.723647  1.645589  3.442337   \n",
       "47494    43231.0 -0.240917 -0.157289  0.933617 -1.063352 -0.365047 -0.045872   \n",
       "31838    36536.0 -0.183988  0.095756  1.654481 -1.283180 -0.566723 -0.346214   \n",
       "178000  123431.0  1.835878 -0.579659 -0.606817  0.226223 -0.334289 -0.091943   \n",
       "\n",
       "              V7        V8        V9  ...         V21       V22       V23  \\\n",
       "181591 -0.286901  0.519686 -0.947104  ...    0.122023 -0.209140 -0.025597   \n",
       "28529  -0.917911  0.793761 -1.085931  ...   -0.298879 -0.472668 -0.089922   \n",
       "47494   0.739445 -0.194107 -1.006151  ...    0.018088 -0.007909  0.134879   \n",
       "31838   0.004623  0.004768 -1.352379  ...    0.229341  0.557224 -0.031472   \n",
       "178000 -0.329841 -0.095206  0.838820  ...   -0.161800 -0.538117  0.310582   \n",
       "\n",
       "             V24       V25       V26       V27       V28  Amount  Class  \n",
       "181591 -0.012297  0.450513 -0.385722  0.118299 -0.026919   90.00      0  \n",
       "28529   0.973110  0.752157 -0.235344  0.051392  0.020176    4.66      0  \n",
       "47494  -0.383656  0.034841 -0.320431 -0.150678 -0.178252  146.85      0  \n",
       "31838   0.101056 -0.109551 -0.296230  0.052858  0.026860   32.00      0  \n",
       "178000  0.517214 -0.559712  0.240017 -0.048414 -0.017415  110.00      0  \n",
       "\n",
       "[5 rows x 31 columns]"
      ]
     },
     "execution_count": 4,
     "metadata": {},
     "output_type": "execute_result"
    }
   ],
   "source": [
    "df = pd.read_csv('creditcard.csv')\n",
    "df.sample(5)"
   ]
  },
  {
   "cell_type": "code",
   "execution_count": 5,
   "metadata": {
    "ExecuteTime": {
     "end_time": "2019-01-24T16:25:25.647999Z",
     "start_time": "2019-01-24T16:25:25.447340Z"
    }
   },
   "outputs": [
    {
     "name": "stdout",
     "output_type": "stream",
     "text": [
      "Train: (227845, 30)\n",
      "Test: (56962, 30)\n"
     ]
    }
   ],
   "source": [
    "X = df.drop(['Class'], axis=1)\n",
    "y = df[['Class']]\n",
    "X_train, X_test, y_train, y_test = train_test_split(X, y, test_size = 0.2, random_state = 42)\n",
    "\n",
    "print(\"Train: {}\\nTest: {}\".format(X_train.shape, X_test.shape))"
   ]
  },
  {
   "cell_type": "code",
   "execution_count": 13,
   "metadata": {
    "ExecuteTime": {
     "end_time": "2019-01-24T16:31:55.418846Z",
     "start_time": "2019-01-24T16:30:55.826710Z"
    }
   },
   "outputs": [
    {
     "name": "stdout",
     "output_type": "stream",
     "text": [
      "[0.99938116 0.99947332 0.99949966]\n",
      "3-fold cross validation average accuracy: 0.9995\n"
     ]
    }
   ],
   "source": [
    "rfc = RandomForestClassifier()\n",
    "rfc.fit(X_train, y_train)\n",
    "results = cross_val_score(rfc, X_train, y_train, cv=3)\n",
    "print(results)\n",
    "print(\"3-fold cross validation average accuracy: %.4f\" % (results.mean()))"
   ]
  },
  {
   "cell_type": "markdown",
   "metadata": {
    "ExecuteTime": {
     "end_time": "2019-01-24T16:28:49.634761Z",
     "start_time": "2019-01-24T16:28:04.452813Z"
    }
   },
   "source": [
    "**Evaluation**"
   ]
  },
  {
   "cell_type": "code",
   "execution_count": 12,
   "metadata": {
    "ExecuteTime": {
     "end_time": "2019-01-24T16:30:23.953722Z",
     "start_time": "2019-01-24T16:29:59.572434Z"
    }
   },
   "outputs": [
    {
     "data": {
      "text/plain": [
       "0.9995259997893332"
      ]
     },
     "execution_count": 12,
     "metadata": {},
     "output_type": "execute_result"
    }
   ],
   "source": [
    "rfc.fit(X_train, y_train)\n",
    "rfc.score(X_test, y_test)"
   ]
  },
  {
   "cell_type": "code",
   "execution_count": 16,
   "metadata": {
    "ExecuteTime": {
     "end_time": "2019-01-24T16:32:47.700156Z",
     "start_time": "2019-01-24T16:32:47.559737Z"
    }
   },
   "outputs": [
    {
     "name": "stdout",
     "output_type": "stream",
     "text": [
      "              precision    recall  f1-score   support\n",
      "\n",
      "           0       1.00      1.00      1.00     56864\n",
      "           1       0.96      0.73      0.83        98\n",
      "\n",
      "   micro avg       1.00      1.00      1.00     56962\n",
      "   macro avg       0.98      0.87      0.92     56962\n",
      "weighted avg       1.00      1.00      1.00     56962\n",
      "\n"
     ]
    }
   ],
   "source": [
    "y_pred = rfc.predict(X_test)\n",
    "print(classification_report(y_test, y_pred))"
   ]
  },
  {
   "cell_type": "markdown",
   "metadata": {},
   "source": [
    "**Conclusion**  \n",
    "While the accuracy is quite high (99.95%), the low recall (0.73) suggests there is a problem; this model predicts a lot of false positives (indicating fraud when there actually is not). As this is essentially anomaly detection, the false positive rate must be minimal (27% is unacceptable, in fact 5% might be considered too high). "
   ]
  }
 ],
 "metadata": {
  "kernelspec": {
   "display_name": "Python 3",
   "language": "python",
   "name": "python3"
  },
  "language_info": {
   "codemirror_mode": {
    "name": "ipython",
    "version": 3
   },
   "file_extension": ".py",
   "mimetype": "text/x-python",
   "name": "python",
   "nbconvert_exporter": "python",
   "pygments_lexer": "ipython3",
   "version": "3.6.6"
  },
  "latex_envs": {
   "LaTeX_envs_menu_present": true,
   "autoclose": false,
   "autocomplete": true,
   "bibliofile": "biblio.bib",
   "cite_by": "apalike",
   "current_citInitial": 1,
   "eqLabelWithNumbers": true,
   "eqNumInitial": 1,
   "hotkeys": {
    "equation": "Ctrl-E",
    "itemize": "Ctrl-I"
   },
   "labels_anchors": false,
   "latex_user_defs": false,
   "report_style_numbering": false,
   "user_envs_cfg": false
  },
  "toc": {
   "base_numbering": 1,
   "nav_menu": {},
   "number_sections": true,
   "sideBar": true,
   "skip_h1_title": false,
   "title_cell": "Table of Contents",
   "title_sidebar": "Contents",
   "toc_cell": false,
   "toc_position": {},
   "toc_section_display": true,
   "toc_window_display": false
  },
  "varInspector": {
   "cols": {
    "lenName": 16,
    "lenType": 16,
    "lenVar": 40
   },
   "kernels_config": {
    "python": {
     "delete_cmd_postfix": "",
     "delete_cmd_prefix": "del ",
     "library": "var_list.py",
     "varRefreshCmd": "print(var_dic_list())"
    },
    "r": {
     "delete_cmd_postfix": ") ",
     "delete_cmd_prefix": "rm(",
     "library": "var_list.r",
     "varRefreshCmd": "cat(var_dic_list()) "
    }
   },
   "types_to_exclude": [
    "module",
    "function",
    "builtin_function_or_method",
    "instance",
    "_Feature"
   ],
   "window_display": false
  }
 },
 "nbformat": 4,
 "nbformat_minor": 2
}
