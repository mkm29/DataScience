{
 "cells": [
  {
   "cell_type": "code",
   "execution_count": 60,
   "metadata": {
    "ExecuteTime": {
     "end_time": "2018-12-29T21:40:20.359394Z",
     "start_time": "2018-12-29T21:40:20.218981Z"
    }
   },
   "outputs": [],
   "source": [
    "import pandas as pd\n",
    "import numpy as np\n",
    "import matplotlib.pyplot as plt\n",
    "import seaborn as sns\n",
    "%matplotlib inline"
   ]
  },
  {
   "cell_type": "code",
   "execution_count": 61,
   "metadata": {
    "ExecuteTime": {
     "end_time": "2018-12-29T21:45:04.415756Z",
     "start_time": "2018-12-29T21:45:04.377394Z"
    }
   },
   "outputs": [],
   "source": [
    "florida = pd.read_excel('./florida_2017.xls')\n",
    "headers = ['city', 'population', 'violent_crime', 'murder', 'rape', 'robbery',\n",
    "           'assault', 'property_crime', 'burglary', 'larceny_theft',\n",
    "           'motor_vehicle_theft', 'arson']\n",
    "florida.columns = headers\n",
    "florida.set_index('city', inplace=True)\n",
    "\n",
    "crime_cols = ['violent_crime', 'murder', 'rape', 'robbery', 'assault',\n",
    "                  'property_crime', 'burglary', 'larceny_theft',\n",
    "                  'motor_vehicle_theft', 'arson']"
   ]
  },
  {
   "cell_type": "code",
   "execution_count": 62,
   "metadata": {
    "ExecuteTime": {
     "end_time": "2018-12-29T21:46:47.595658Z",
     "start_time": "2018-12-29T21:46:47.580165Z"
    }
   },
   "outputs": [],
   "source": [
    "for crime in crime_cols:\n",
    "    florida[\"has_\" + crime] = np.where(florida[crime] > 0, 1, 0)\n",
    "    florida[\"log_\" + crime] = np.log1p(florida[crime])"
   ]
  },
  {
   "cell_type": "code",
   "execution_count": 63,
   "metadata": {
    "ExecuteTime": {
     "end_time": "2018-12-29T21:46:50.728128Z",
     "start_time": "2018-12-29T21:46:50.716368Z"
    }
   },
   "outputs": [],
   "source": [
    "florida['total_crimes'] = florida[crime_cols].sum(axis = 1)\n",
    "florida['crime_per_capita']= florida['total_crimes']/florida['population']\n",
    "florida[\"population_log\"] = np.log(florida[\"population\"])\n",
    "florida[\"population_log_group\"] = pd.cut(florida[\"population_log\"], 3, labels=[1,2,3])"
   ]
  },
  {
   "cell_type": "code",
   "execution_count": 77,
   "metadata": {
    "ExecuteTime": {
     "end_time": "2018-12-29T21:50:32.909085Z",
     "start_time": "2018-12-29T21:50:32.902724Z"
    }
   },
   "outputs": [
    {
     "data": {
      "text/plain": [
       "population                   111027\n",
       "violent_crime                   958\n",
       "murder                            8\n",
       "rape                             61\n",
       "robbery                         410\n",
       "assault                         479\n",
       "property_crime                 5330\n",
       "burglary                        898\n",
       "larceny_theft                  3624\n",
       "motor_vehicle_theft             808\n",
       "arson                             8\n",
       "has_violent_crime                 1\n",
       "log_violent_crime           6.86589\n",
       "has_murder                        1\n",
       "log_murder                  2.19722\n",
       "has_rape                          1\n",
       "log_rape                    4.12713\n",
       "has_robbery                       1\n",
       "log_robbery                 6.01859\n",
       "has_assault                       1\n",
       "log_assault                 6.17379\n",
       "has_property_crime                1\n",
       "log_property_crime          8.58129\n",
       "has_burglary                      1\n",
       "log_burglary                6.80128\n",
       "has_larceny_theft                 1\n",
       "log_larceny_theft           8.19561\n",
       "has_motor_vehicle_theft           1\n",
       "log_motor_vehicle_theft      6.6958\n",
       "has_arson                         1\n",
       "log_arson                   2.19722\n",
       "total_crimes                  12584\n",
       "crime_per_capita           0.113342\n",
       "population_log              11.6175\n",
       "population_log_group              3\n",
       "safe_city                         0\n",
       "Name: Pompano Beach, dtype: object"
      ]
     },
     "execution_count": 77,
     "metadata": {},
     "output_type": "execute_result"
    }
   ],
   "source": [
    "florida.loc[florida[\"crime_per_capita\"].idxmax()]"
   ]
  },
  {
   "cell_type": "code",
   "execution_count": 67,
   "metadata": {
    "ExecuteTime": {
     "end_time": "2018-12-29T21:48:36.753920Z",
     "start_time": "2018-12-29T21:48:36.643251Z"
    }
   },
   "outputs": [
    {
     "data": {
      "image/png": "[encoded data removed]",
      "text/plain": [
       "<Figure size 432x288 with 1 Axes>"
      ]
     },
     "metadata": {
      "needs_background": "light"
     },
     "output_type": "display_data"
    }
   ],
   "source": [
    "plt.boxplot(florida[\"crime_per_capita\"])\n",
    "plt.show()"
   ]
  },
  {
   "cell_type": "code",
   "execution_count": 68,
   "metadata": {
    "ExecuteTime": {
     "end_time": "2018-12-29T21:48:39.824552Z",
     "start_time": "2018-12-29T21:48:39.819722Z"
    }
   },
   "outputs": [
    {
     "data": {
      "text/plain": [
       "0.11356295664351337"
      ]
     },
     "execution_count": 68,
     "metadata": {},
     "output_type": "execute_result"
    }
   ],
   "source": [
    "florida[\"crime_per_capita\"].quantile(0.90)"
   ]
  },
  {
   "cell_type": "code",
   "execution_count": 69,
   "metadata": {
    "ExecuteTime": {
     "end_time": "2018-12-29T21:48:50.447916Z",
     "start_time": "2018-12-29T21:48:50.443121Z"
    }
   },
   "outputs": [
    {
     "data": {
      "text/plain": [
       "29"
      ]
     },
     "execution_count": 69,
     "metadata": {},
     "output_type": "execute_result"
    }
   ],
   "source": [
    "(florida[\"crime_per_capita\"] > 0.11356295664351337).sum()"
   ]
  },
  {
   "cell_type": "code",
   "execution_count": 70,
   "metadata": {
    "ExecuteTime": {
     "end_time": "2018-12-29T21:48:58.440333Z",
     "start_time": "2018-12-29T21:48:58.309172Z"
    }
   },
   "outputs": [
    {
     "data": {
      "text/html": [
       "<div>\n",
       "<style scoped>\n",
       "    .dataframe tbody tr th:only-of-type {\n",
       "        vertical-align: middle;\n",
       "    }\n",
       "\n",
       "    .dataframe tbody tr th {\n",
       "        vertical-align: top;\n",
       "    }\n",
       "\n",
       "    .dataframe thead th {\n",
       "        text-align: right;\n",
       "    }\n",
       "</style>\n",
       "<table border=\"1\" class=\"dataframe\">\n",
       "  <thead>\n",
       "    <tr style=\"text-align: right;\">\n",
       "      <th></th>\n",
       "      <th>population</th>\n",
       "      <th>violent_crime</th>\n",
       "      <th>murder</th>\n",
       "      <th>rape</th>\n",
       "      <th>robbery</th>\n",
       "      <th>assault</th>\n",
       "      <th>property_crime</th>\n",
       "      <th>burglary</th>\n",
       "      <th>larceny_theft</th>\n",
       "      <th>motor_vehicle_theft</th>\n",
       "      <th>...</th>\n",
       "      <th>log_burglary</th>\n",
       "      <th>has_larceny_theft</th>\n",
       "      <th>log_larceny_theft</th>\n",
       "      <th>has_motor_vehicle_theft</th>\n",
       "      <th>log_motor_vehicle_theft</th>\n",
       "      <th>has_arson</th>\n",
       "      <th>log_arson</th>\n",
       "      <th>total_crimes</th>\n",
       "      <th>crime_per_capita</th>\n",
       "      <th>population_log</th>\n",
       "    </tr>\n",
       "  </thead>\n",
       "  <tbody>\n",
       "    <tr>\n",
       "      <th>count</th>\n",
       "      <td>29.000000</td>\n",
       "      <td>29.000000</td>\n",
       "      <td>29.000000</td>\n",
       "      <td>29.000000</td>\n",
       "      <td>29.000000</td>\n",
       "      <td>29.000000</td>\n",
       "      <td>29.000000</td>\n",
       "      <td>29.000000</td>\n",
       "      <td>29.000000</td>\n",
       "      <td>29.000000</td>\n",
       "      <td>...</td>\n",
       "      <td>29.000000</td>\n",
       "      <td>29.0</td>\n",
       "      <td>29.000000</td>\n",
       "      <td>29.0</td>\n",
       "      <td>29.000000</td>\n",
       "      <td>29.000000</td>\n",
       "      <td>29.000000</td>\n",
       "      <td>29.000000</td>\n",
       "      <td>29.000000</td>\n",
       "      <td>29.000000</td>\n",
       "    </tr>\n",
       "    <tr>\n",
       "      <th>mean</th>\n",
       "      <td>38223.482759</td>\n",
       "      <td>323.206897</td>\n",
       "      <td>3.724138</td>\n",
       "      <td>26.068966</td>\n",
       "      <td>85.517241</td>\n",
       "      <td>207.896552</td>\n",
       "      <td>2196.413793</td>\n",
       "      <td>330.758621</td>\n",
       "      <td>1696.413793</td>\n",
       "      <td>169.241379</td>\n",
       "      <td>...</td>\n",
       "      <td>4.771895</td>\n",
       "      <td>1.0</td>\n",
       "      <td>6.311958</td>\n",
       "      <td>1.0</td>\n",
       "      <td>3.770465</td>\n",
       "      <td>0.724138</td>\n",
       "      <td>1.122419</td>\n",
       "      <td>5043.034483</td>\n",
       "      <td>0.160261</td>\n",
       "      <td>9.349460</td>\n",
       "    </tr>\n",
       "    <tr>\n",
       "      <th>std</th>\n",
       "      <td>67836.018141</td>\n",
       "      <td>498.002752</td>\n",
       "      <td>5.737698</td>\n",
       "      <td>50.462809</td>\n",
       "      <td>147.081275</td>\n",
       "      <td>306.600292</td>\n",
       "      <td>3713.672417</td>\n",
       "      <td>566.315640</td>\n",
       "      <td>2840.983828</td>\n",
       "      <td>322.138574</td>\n",
       "      <td>...</td>\n",
       "      <td>1.476440</td>\n",
       "      <td>0.0</td>\n",
       "      <td>1.584902</td>\n",
       "      <td>0.0</td>\n",
       "      <td>1.725640</td>\n",
       "      <td>0.454859</td>\n",
       "      <td>0.939620</td>\n",
       "      <td>8410.193282</td>\n",
       "      <td>0.084574</td>\n",
       "      <td>1.627535</td>\n",
       "    </tr>\n",
       "    <tr>\n",
       "      <th>min</th>\n",
       "      <td>466.000000</td>\n",
       "      <td>3.000000</td>\n",
       "      <td>0.000000</td>\n",
       "      <td>0.000000</td>\n",
       "      <td>0.000000</td>\n",
       "      <td>2.000000</td>\n",
       "      <td>25.000000</td>\n",
       "      <td>5.000000</td>\n",
       "      <td>14.000000</td>\n",
       "      <td>1.000000</td>\n",
       "      <td>...</td>\n",
       "      <td>1.791759</td>\n",
       "      <td>1.0</td>\n",
       "      <td>2.708050</td>\n",
       "      <td>1.0</td>\n",
       "      <td>0.693147</td>\n",
       "      <td>0.000000</td>\n",
       "      <td>0.000000</td>\n",
       "      <td>56.000000</td>\n",
       "      <td>0.113658</td>\n",
       "      <td>6.144186</td>\n",
       "    </tr>\n",
       "    <tr>\n",
       "      <th>25%</th>\n",
       "      <td>2836.000000</td>\n",
       "      <td>45.000000</td>\n",
       "      <td>0.000000</td>\n",
       "      <td>3.000000</td>\n",
       "      <td>7.000000</td>\n",
       "      <td>34.000000</td>\n",
       "      <td>244.000000</td>\n",
       "      <td>62.000000</td>\n",
       "      <td>187.000000</td>\n",
       "      <td>8.000000</td>\n",
       "      <td>...</td>\n",
       "      <td>4.143135</td>\n",
       "      <td>1.0</td>\n",
       "      <td>5.236442</td>\n",
       "      <td>1.0</td>\n",
       "      <td>2.197225</td>\n",
       "      <td>0.000000</td>\n",
       "      <td>0.000000</td>\n",
       "      <td>579.000000</td>\n",
       "      <td>0.122047</td>\n",
       "      <td>7.950150</td>\n",
       "    </tr>\n",
       "    <tr>\n",
       "      <th>50%</th>\n",
       "      <td>11478.000000</td>\n",
       "      <td>109.000000</td>\n",
       "      <td>2.000000</td>\n",
       "      <td>6.000000</td>\n",
       "      <td>26.000000</td>\n",
       "      <td>65.000000</td>\n",
       "      <td>741.000000</td>\n",
       "      <td>122.000000</td>\n",
       "      <td>627.000000</td>\n",
       "      <td>39.000000</td>\n",
       "      <td>...</td>\n",
       "      <td>4.812184</td>\n",
       "      <td>1.0</td>\n",
       "      <td>6.442540</td>\n",
       "      <td>1.0</td>\n",
       "      <td>3.688879</td>\n",
       "      <td>1.000000</td>\n",
       "      <td>1.098612</td>\n",
       "      <td>1638.000000</td>\n",
       "      <td>0.135279</td>\n",
       "      <td>9.348187</td>\n",
       "    </tr>\n",
       "    <tr>\n",
       "      <th>75%</th>\n",
       "      <td>22763.000000</td>\n",
       "      <td>325.000000</td>\n",
       "      <td>4.000000</td>\n",
       "      <td>12.000000</td>\n",
       "      <td>78.000000</td>\n",
       "      <td>225.000000</td>\n",
       "      <td>1319.000000</td>\n",
       "      <td>256.000000</td>\n",
       "      <td>977.000000</td>\n",
       "      <td>123.000000</td>\n",
       "      <td>...</td>\n",
       "      <td>5.549076</td>\n",
       "      <td>1.0</td>\n",
       "      <td>6.885510</td>\n",
       "      <td>1.0</td>\n",
       "      <td>4.820282</td>\n",
       "      <td>1.000000</td>\n",
       "      <td>1.791759</td>\n",
       "      <td>3109.000000</td>\n",
       "      <td>0.161469</td>\n",
       "      <td>10.032892</td>\n",
       "    </tr>\n",
       "    <tr>\n",
       "      <th>max</th>\n",
       "      <td>283982.000000</td>\n",
       "      <td>2113.000000</td>\n",
       "      <td>23.000000</td>\n",
       "      <td>190.000000</td>\n",
       "      <td>605.000000</td>\n",
       "      <td>1302.000000</td>\n",
       "      <td>15490.000000</td>\n",
       "      <td>2388.000000</td>\n",
       "      <td>11715.000000</td>\n",
       "      <td>1387.000000</td>\n",
       "      <td>...</td>\n",
       "      <td>7.778630</td>\n",
       "      <td>1.0</td>\n",
       "      <td>9.368711</td>\n",
       "      <td>1.0</td>\n",
       "      <td>7.235619</td>\n",
       "      <td>1.000000</td>\n",
       "      <td>3.135494</td>\n",
       "      <td>35228.000000</td>\n",
       "      <td>0.552133</td>\n",
       "      <td>12.556666</td>\n",
       "    </tr>\n",
       "  </tbody>\n",
       "</table>\n",
       "<p>8 rows × 34 columns</p>\n",
       "</div>"
      ],
      "text/plain": [
       "          population  violent_crime     murder        rape     robbery  \\\n",
       "count      29.000000      29.000000  29.000000   29.000000   29.000000   \n",
       "mean    38223.482759     323.206897   3.724138   26.068966   85.517241   \n",
       "std     67836.018141     498.002752   5.737698   50.462809  147.081275   \n",
       "min       466.000000       3.000000   0.000000    0.000000    0.000000   \n",
       "25%      2836.000000      45.000000   0.000000    3.000000    7.000000   \n",
       "50%     11478.000000     109.000000   2.000000    6.000000   26.000000   \n",
       "75%     22763.000000     325.000000   4.000000   12.000000   78.000000   \n",
       "max    283982.000000    2113.000000  23.000000  190.000000  605.000000   \n",
       "\n",
       "           assault  property_crime     burglary  larceny_theft  \\\n",
       "count    29.000000       29.000000    29.000000      29.000000   \n",
       "mean    207.896552     2196.413793   330.758621    1696.413793   \n",
       "std     306.600292     3713.672417   566.315640    2840.983828   \n",
       "min       2.000000       25.000000     5.000000      14.000000   \n",
       "25%      34.000000      244.000000    62.000000     187.000000   \n",
       "50%      65.000000      741.000000   122.000000     627.000000   \n",
       "75%     225.000000     1319.000000   256.000000     977.000000   \n",
       "max    1302.000000    15490.000000  2388.000000   11715.000000   \n",
       "\n",
       "       motor_vehicle_theft       ...        log_burglary  has_larceny_theft  \\\n",
       "count            29.000000       ...           29.000000               29.0   \n",
       "mean            169.241379       ...            4.771895                1.0   \n",
       "std             322.138574       ...            1.476440                0.0   \n",
       "min               1.000000       ...            1.791759                1.0   \n",
       "25%               8.000000       ...            4.143135                1.0   \n",
       "50%              39.000000       ...            4.812184                1.0   \n",
       "75%             123.000000       ...            5.549076                1.0   \n",
       "max            1387.000000       ...            7.778630                1.0   \n",
       "\n",
       "       log_larceny_theft  has_motor_vehicle_theft  log_motor_vehicle_theft  \\\n",
       "count          29.000000                     29.0                29.000000   \n",
       "mean            6.311958                      1.0                 3.770465   \n",
       "std             1.584902                      0.0                 1.725640   \n",
       "min             2.708050                      1.0                 0.693147   \n",
       "25%             5.236442                      1.0                 2.197225   \n",
       "50%             6.442540                      1.0                 3.688879   \n",
       "75%             6.885510                      1.0                 4.820282   \n",
       "max             9.368711                      1.0                 7.235619   \n",
       "\n",
       "       has_arson  log_arson  total_crimes  crime_per_capita  population_log  \n",
       "count  29.000000  29.000000     29.000000         29.000000       29.000000  \n",
       "mean    0.724138   1.122419   5043.034483          0.160261        9.349460  \n",
       "std     0.454859   0.939620   8410.193282          0.084574        1.627535  \n",
       "min     0.000000   0.000000     56.000000          0.113658        6.144186  \n",
       "25%     0.000000   0.000000    579.000000          0.122047        7.950150  \n",
       "50%     1.000000   1.098612   1638.000000          0.135279        9.348187  \n",
       "75%     1.000000   1.791759   3109.000000          0.161469       10.032892  \n",
       "max     1.000000   3.135494  35228.000000          0.552133       12.556666  \n",
       "\n",
       "[8 rows x 34 columns]"
      ]
     },
     "execution_count": 70,
     "metadata": {},
     "output_type": "execute_result"
    }
   ],
   "source": [
    "# so there are 29 cities with extremely high crime per capita\n",
    "outliers = florida[florida[\"crime_per_capita\"] > 0.11356295664351337]\n",
    "outliers.describe()"
   ]
  },
  {
   "cell_type": "code",
   "execution_count": 71,
   "metadata": {
    "ExecuteTime": {
     "end_time": "2018-12-29T21:49:01.872221Z",
     "start_time": "2018-12-29T21:49:01.715551Z"
    }
   },
   "outputs": [
    {
     "data": {
      "text/plain": [
       "<matplotlib.collections.PathCollection at 0x11e5ef240>"
      ]
     },
     "execution_count": 71,
     "metadata": {},
     "output_type": "execute_result"
    },
    {
     "data": {
      "image/png": "[encoded data removed]",
      "text/plain": [
       "<Figure size 432x288 with 1 Axes>"
      ]
     },
     "metadata": {
      "needs_background": "light"
     },
     "output_type": "display_data"
    }
   ],
   "source": [
    "plt.scatter(np.log(outliers.population), outliers[\"crime_per_capita\"])"
   ]
  },
  {
   "cell_type": "code",
   "execution_count": 72,
   "metadata": {
    "ExecuteTime": {
     "end_time": "2018-12-29T21:49:10.288036Z",
     "start_time": "2018-12-29T21:49:10.283823Z"
    }
   },
   "outputs": [],
   "source": [
    "florida = florida.drop(list(outliers.index))"
   ]
  },
  {
   "cell_type": "code",
   "execution_count": 73,
   "metadata": {
    "ExecuteTime": {
     "end_time": "2018-12-29T21:49:12.554640Z",
     "start_time": "2018-12-29T21:49:12.444664Z"
    }
   },
   "outputs": [
    {
     "data": {
      "image/png": "[encoded data removed]",
      "text/plain": [
       "<Figure size 432x288 with 1 Axes>"
      ]
     },
     "metadata": {
      "needs_background": "light"
     },
     "output_type": "display_data"
    }
   ],
   "source": [
    "plt.boxplot(florida[\"crime_per_capita\"])\n",
    "plt.show()"
   ]
  },
  {
   "cell_type": "code",
   "execution_count": 74,
   "metadata": {
    "ExecuteTime": {
     "end_time": "2018-12-29T21:49:16.723857Z",
     "start_time": "2018-12-29T21:49:16.715837Z"
    }
   },
   "outputs": [
    {
     "data": {
      "text/plain": [
       "count    255.000000\n",
       "mean       0.055822\n",
       "std        0.026524\n",
       "min        0.002291\n",
       "25%        0.034960\n",
       "50%        0.052758\n",
       "75%        0.076976\n",
       "max        0.113342\n",
       "Name: crime_per_capita, dtype: float64"
      ]
     },
     "execution_count": 74,
     "metadata": {},
     "output_type": "execute_result"
    }
   ],
   "source": [
    "# that looks better :)\n",
    "# now lets make a target variable\n",
    "florida[\"crime_per_capita\"].describe()"
   ]
  },
  {
   "cell_type": "code",
   "execution_count": 75,
   "metadata": {
    "ExecuteTime": {
     "end_time": "2018-12-29T21:49:26.352089Z",
     "start_time": "2018-12-29T21:49:26.347878Z"
    }
   },
   "outputs": [],
   "source": [
    "# lets mark cities with a crime_per_capita < 0.034267 as Safe\n",
    "florida['safe_city'] = np.where(florida['crime_per_capita'] <= 0.034267, 1, 0)"
   ]
  },
  {
   "cell_type": "code",
   "execution_count": 78,
   "metadata": {
    "ExecuteTime": {
     "end_time": "2018-12-29T21:51:25.284806Z",
     "start_time": "2018-12-29T21:51:25.280514Z"
    }
   },
   "outputs": [],
   "source": [
    "model_vars = ['violent_crime', 'murder', 'rape', 'robbery', 'assault',\n",
    "       'property_crime', 'burglary', 'larceny_theft', 'motor_vehicle_theft',\n",
    "       'arson', 'has_violent_crime', 'log_violent_crime', 'has_murder',\n",
    "       'log_murder', 'has_rape', 'log_rape', 'has_robbery', 'log_robbery',\n",
    "       'has_assault', 'log_assault', 'has_property_crime',\n",
    "       'log_property_crime', 'has_burglary', 'log_burglary',\n",
    "       'has_larceny_theft', 'log_larceny_theft', 'has_motor_vehicle_theft',\n",
    "       'log_motor_vehicle_theft', 'has_arson', 'log_arson', 'population_log', 'population_log_group']"
   ]
  },
  {
   "cell_type": "markdown",
   "metadata": {},
   "source": [
    "# Vanilla Logistic Regression"
   ]
  },
  {
   "cell_type": "code",
   "execution_count": 79,
   "metadata": {
    "ExecuteTime": {
     "end_time": "2018-12-29T21:51:31.070575Z",
     "start_time": "2018-12-29T21:51:31.064522Z"
    }
   },
   "outputs": [],
   "source": [
    "from sklearn.model_selection import train_test_split\n",
    "y = florida['safe_city']\n",
    "X = florida[model_vars]\n",
    "\n",
    "X_train, X_test, y_train, y_test = train_test_split(X, y, test_size=0.70)"
   ]
  },
  {
   "cell_type": "code",
   "execution_count": 110,
   "metadata": {
    "ExecuteTime": {
     "end_time": "2018-12-29T22:06:17.952490Z",
     "start_time": "2018-12-29T22:06:17.941844Z"
    }
   },
   "outputs": [
    {
     "name": "stdout",
     "output_type": "stream",
     "text": [
      "Score on train set: 1.000\n",
      "Score on test set: 0.855\n"
     ]
    }
   ],
   "source": [
    "from sklearn.linear_model import LogisticRegression\n",
    "from sklearn import metrics\n",
    "\n",
    "lr = LogisticRegression(C=1e9, solver='liblinear')\n",
    "lr.fit(X_train, y_train)\n",
    "train_score = lr.score(X_train, y_train)\n",
    "test_score = lr.score(X_test, y_test)\n",
    "print(\"Score on train set: {:.3f}\".format(train_score))\n",
    "print(\"Score on test set: {:.3f}\".format(test_score))"
   ]
  },
  {
   "cell_type": "code",
   "execution_count": 107,
   "metadata": {
    "ExecuteTime": {
     "end_time": "2018-12-29T22:05:31.835118Z",
     "start_time": "2018-12-29T22:05:31.823194Z"
    },
    "scrolled": true
   },
   "outputs": [
    {
     "data": {
      "text/html": [
       "<div>\n",
       "<style scoped>\n",
       "    .dataframe tbody tr th:only-of-type {\n",
       "        vertical-align: middle;\n",
       "    }\n",
       "\n",
       "    .dataframe tbody tr th {\n",
       "        vertical-align: top;\n",
       "    }\n",
       "\n",
       "    .dataframe thead th {\n",
       "        text-align: right;\n",
       "    }\n",
       "</style>\n",
       "<table border=\"1\" class=\"dataframe\">\n",
       "  <thead>\n",
       "    <tr style=\"text-align: right;\">\n",
       "      <th></th>\n",
       "      <th>feature</th>\n",
       "      <th>coeffecient</th>\n",
       "    </tr>\n",
       "  </thead>\n",
       "  <tbody>\n",
       "    <tr>\n",
       "      <th>0</th>\n",
       "      <td>violent_crime</td>\n",
       "      <td>-0.376970</td>\n",
       "    </tr>\n",
       "    <tr>\n",
       "      <th>1</th>\n",
       "      <td>murder</td>\n",
       "      <td>-0.184217</td>\n",
       "    </tr>\n",
       "    <tr>\n",
       "      <th>2</th>\n",
       "      <td>rape</td>\n",
       "      <td>0.914052</td>\n",
       "    </tr>\n",
       "    <tr>\n",
       "      <th>3</th>\n",
       "      <td>robbery</td>\n",
       "      <td>-0.673650</td>\n",
       "    </tr>\n",
       "    <tr>\n",
       "      <th>4</th>\n",
       "      <td>assault</td>\n",
       "      <td>-0.433154</td>\n",
       "    </tr>\n",
       "    <tr>\n",
       "      <th>5</th>\n",
       "      <td>property_crime</td>\n",
       "      <td>0.066017</td>\n",
       "    </tr>\n",
       "    <tr>\n",
       "      <th>6</th>\n",
       "      <td>burglary</td>\n",
       "      <td>0.199753</td>\n",
       "    </tr>\n",
       "    <tr>\n",
       "      <th>7</th>\n",
       "      <td>larceny_theft</td>\n",
       "      <td>-0.042653</td>\n",
       "    </tr>\n",
       "    <tr>\n",
       "      <th>8</th>\n",
       "      <td>motor_vehicle_theft</td>\n",
       "      <td>-0.091083</td>\n",
       "    </tr>\n",
       "    <tr>\n",
       "      <th>9</th>\n",
       "      <td>arson</td>\n",
       "      <td>-1.855926</td>\n",
       "    </tr>\n",
       "    <tr>\n",
       "      <th>10</th>\n",
       "      <td>has_violent_crime</td>\n",
       "      <td>-3.041885</td>\n",
       "    </tr>\n",
       "    <tr>\n",
       "      <th>11</th>\n",
       "      <td>log_violent_crime</td>\n",
       "      <td>-1.936866</td>\n",
       "    </tr>\n",
       "    <tr>\n",
       "      <th>12</th>\n",
       "      <td>has_murder</td>\n",
       "      <td>0.444779</td>\n",
       "    </tr>\n",
       "    <tr>\n",
       "      <th>13</th>\n",
       "      <td>log_murder</td>\n",
       "      <td>0.169363</td>\n",
       "    </tr>\n",
       "    <tr>\n",
       "      <th>14</th>\n",
       "      <td>has_rape</td>\n",
       "      <td>-0.251058</td>\n",
       "    </tr>\n",
       "    <tr>\n",
       "      <th>15</th>\n",
       "      <td>log_rape</td>\n",
       "      <td>0.740641</td>\n",
       "    </tr>\n",
       "    <tr>\n",
       "      <th>16</th>\n",
       "      <td>has_robbery</td>\n",
       "      <td>-0.941507</td>\n",
       "    </tr>\n",
       "    <tr>\n",
       "      <th>17</th>\n",
       "      <td>log_robbery</td>\n",
       "      <td>0.822291</td>\n",
       "    </tr>\n",
       "    <tr>\n",
       "      <th>18</th>\n",
       "      <td>has_assault</td>\n",
       "      <td>0.439707</td>\n",
       "    </tr>\n",
       "    <tr>\n",
       "      <th>19</th>\n",
       "      <td>log_assault</td>\n",
       "      <td>2.292438</td>\n",
       "    </tr>\n",
       "    <tr>\n",
       "      <th>20</th>\n",
       "      <td>has_property_crime</td>\n",
       "      <td>-2.201167</td>\n",
       "    </tr>\n",
       "    <tr>\n",
       "      <th>21</th>\n",
       "      <td>log_property_crime</td>\n",
       "      <td>-5.136184</td>\n",
       "    </tr>\n",
       "    <tr>\n",
       "      <th>22</th>\n",
       "      <td>has_burglary</td>\n",
       "      <td>-2.201167</td>\n",
       "    </tr>\n",
       "    <tr>\n",
       "      <th>23</th>\n",
       "      <td>log_burglary</td>\n",
       "      <td>-3.377920</td>\n",
       "    </tr>\n",
       "    <tr>\n",
       "      <th>24</th>\n",
       "      <td>has_larceny_theft</td>\n",
       "      <td>-2.201167</td>\n",
       "    </tr>\n",
       "    <tr>\n",
       "      <th>25</th>\n",
       "      <td>log_larceny_theft</td>\n",
       "      <td>-5.700039</td>\n",
       "    </tr>\n",
       "    <tr>\n",
       "      <th>26</th>\n",
       "      <td>has_motor_vehicle_theft</td>\n",
       "      <td>-4.673916</td>\n",
       "    </tr>\n",
       "    <tr>\n",
       "      <th>27</th>\n",
       "      <td>log_motor_vehicle_theft</td>\n",
       "      <td>3.061142</td>\n",
       "    </tr>\n",
       "    <tr>\n",
       "      <th>28</th>\n",
       "      <td>has_arson</td>\n",
       "      <td>1.080183</td>\n",
       "    </tr>\n",
       "    <tr>\n",
       "      <th>29</th>\n",
       "      <td>log_arson</td>\n",
       "      <td>-0.228386</td>\n",
       "    </tr>\n",
       "    <tr>\n",
       "      <th>30</th>\n",
       "      <td>population_log</td>\n",
       "      <td>6.874337</td>\n",
       "    </tr>\n",
       "    <tr>\n",
       "      <th>31</th>\n",
       "      <td>population_log_group</td>\n",
       "      <td>2.098261</td>\n",
       "    </tr>\n",
       "  </tbody>\n",
       "</table>\n",
       "</div>"
      ],
      "text/plain": [
       "                    feature  coeffecient\n",
       "0             violent_crime    -0.376970\n",
       "1                    murder    -0.184217\n",
       "2                      rape     0.914052\n",
       "3                   robbery    -0.673650\n",
       "4                   assault    -0.433154\n",
       "5            property_crime     0.066017\n",
       "6                  burglary     0.199753\n",
       "7             larceny_theft    -0.042653\n",
       "8       motor_vehicle_theft    -0.091083\n",
       "9                     arson    -1.855926\n",
       "10        has_violent_crime    -3.041885\n",
       "11        log_violent_crime    -1.936866\n",
       "12               has_murder     0.444779\n",
       "13               log_murder     0.169363\n",
       "14                 has_rape    -0.251058\n",
       "15                 log_rape     0.740641\n",
       "16              has_robbery    -0.941507\n",
       "17              log_robbery     0.822291\n",
       "18              has_assault     0.439707\n",
       "19              log_assault     2.292438\n",
       "20       has_property_crime    -2.201167\n",
       "21       log_property_crime    -5.136184\n",
       "22             has_burglary    -2.201167\n",
       "23             log_burglary    -3.377920\n",
       "24        has_larceny_theft    -2.201167\n",
       "25        log_larceny_theft    -5.700039\n",
       "26  has_motor_vehicle_theft    -4.673916\n",
       "27  log_motor_vehicle_theft     3.061142\n",
       "28                has_arson     1.080183\n",
       "29                log_arson    -0.228386\n",
       "30           population_log     6.874337\n",
       "31     population_log_group     2.098261"
      ]
     },
     "execution_count": 107,
     "metadata": {},
     "output_type": "execute_result"
    }
   ],
   "source": [
    "coeffecients = pd.DataFrame(model_vars, columns=[\"feature\"])\n",
    "coeffecients[\"coeffecient\"] = lr.coef_.reshape(32,1)\n",
    "coeffecients"
   ]
  },
  {
   "cell_type": "code",
   "execution_count": 118,
   "metadata": {
    "ExecuteTime": {
     "end_time": "2018-12-29T22:14:07.265607Z",
     "start_time": "2018-12-29T22:14:07.257703Z"
    }
   },
   "outputs": [
    {
     "data": {
      "text/plain": [
       "count    32.000000\n",
       "mean     -0.510811\n",
       "std       2.453219\n",
       "min      -5.700039\n",
       "25%      -2.002941\n",
       "50%      -0.206302\n",
       "75%       0.518745\n",
       "max       6.874337\n",
       "Name: coeffecient, dtype: float64"
      ]
     },
     "execution_count": 118,
     "metadata": {},
     "output_type": "execute_result"
    }
   ],
   "source": [
    "coeffecients.coeffecient.describe()"
   ]
  },
  {
   "cell_type": "markdown",
   "metadata": {},
   "source": [
    "*Those features with coefficients close to 0 might be able to be removed without losing a lot of predictive power.*"
   ]
  },
  {
   "cell_type": "code",
   "execution_count": 112,
   "metadata": {
    "ExecuteTime": {
     "end_time": "2018-12-29T22:07:19.011660Z",
     "start_time": "2018-12-29T22:07:18.823599Z"
    }
   },
   "outputs": [
    {
     "data": {
      "image/png": "[encoded data removed]",
      "text/plain": [
       "<Figure size 360x288 with 2 Axes>"
      ]
     },
     "metadata": {
      "needs_background": "light"
     },
     "output_type": "display_data"
    }
   ],
   "source": [
    "#Confusion Matrix\n",
    "cm_lr = metrics.confusion_matrix(y_true=y_test, y_pred=lr.predict(X_test))\n",
    "f,ax = plt.subplots(figsize=(5, 4))\n",
    "sns.heatmap(cm_lr, annot=True, linewidths=.5, fmt= '.1f',ax=ax);"
   ]
  },
  {
   "cell_type": "markdown",
   "metadata": {
    "ExecuteTime": {
     "end_time": "2018-12-29T22:01:40.772309Z",
     "start_time": "2018-12-29T22:01:40.768498Z"
    }
   },
   "source": [
    "# Ridge Regression"
   ]
  },
  {
   "cell_type": "code",
   "execution_count": 114,
   "metadata": {
    "ExecuteTime": {
     "end_time": "2018-12-29T22:11:23.167647Z",
     "start_time": "2018-12-29T22:11:23.157620Z"
    }
   },
   "outputs": [
    {
     "name": "stdout",
     "output_type": "stream",
     "text": [
      "Score on train set: 0.961\n",
      "Score on test set: 0.827\n"
     ]
    }
   ],
   "source": [
    "rr = LogisticRegression(penalty ='l2', solver='liblinear')\n",
    "rr.fit(X_train, y_train)\n",
    "train_score_rr = rr.score(X_train, y_train)\n",
    "test_score_rr = rr.score(X_test, y_test)\n",
    "print(\"Score on train set: {:.3f}\".format(train_score_rr))\n",
    "print(\"Score on test set: {:.3f}\".format(test_score_rr))"
   ]
  },
  {
   "cell_type": "code",
   "execution_count": 115,
   "metadata": {
    "ExecuteTime": {
     "end_time": "2018-12-29T22:12:15.890950Z",
     "start_time": "2018-12-29T22:12:15.878653Z"
    },
    "scrolled": true
   },
   "outputs": [
    {
     "data": {
      "text/html": [
       "<div>\n",
       "<style scoped>\n",
       "    .dataframe tbody tr th:only-of-type {\n",
       "        vertical-align: middle;\n",
       "    }\n",
       "\n",
       "    .dataframe tbody tr th {\n",
       "        vertical-align: top;\n",
       "    }\n",
       "\n",
       "    .dataframe thead th {\n",
       "        text-align: right;\n",
       "    }\n",
       "</style>\n",
       "<table border=\"1\" class=\"dataframe\">\n",
       "  <thead>\n",
       "    <tr style=\"text-align: right;\">\n",
       "      <th></th>\n",
       "      <th>feature</th>\n",
       "      <th>coeffecient</th>\n",
       "    </tr>\n",
       "  </thead>\n",
       "  <tbody>\n",
       "    <tr>\n",
       "      <th>0</th>\n",
       "      <td>violent_crime</td>\n",
       "      <td>-0.136340</td>\n",
       "    </tr>\n",
       "    <tr>\n",
       "      <th>1</th>\n",
       "      <td>murder</td>\n",
       "      <td>-0.053893</td>\n",
       "    </tr>\n",
       "    <tr>\n",
       "      <th>2</th>\n",
       "      <td>rape</td>\n",
       "      <td>0.229790</td>\n",
       "    </tr>\n",
       "    <tr>\n",
       "      <th>3</th>\n",
       "      <td>robbery</td>\n",
       "      <td>-0.295506</td>\n",
       "    </tr>\n",
       "    <tr>\n",
       "      <th>4</th>\n",
       "      <td>assault</td>\n",
       "      <td>-0.016730</td>\n",
       "    </tr>\n",
       "    <tr>\n",
       "      <th>5</th>\n",
       "      <td>property_crime</td>\n",
       "      <td>0.022788</td>\n",
       "    </tr>\n",
       "    <tr>\n",
       "      <th>6</th>\n",
       "      <td>burglary</td>\n",
       "      <td>0.042659</td>\n",
       "    </tr>\n",
       "    <tr>\n",
       "      <th>7</th>\n",
       "      <td>larceny_theft</td>\n",
       "      <td>-0.016547</td>\n",
       "    </tr>\n",
       "    <tr>\n",
       "      <th>8</th>\n",
       "      <td>motor_vehicle_theft</td>\n",
       "      <td>-0.003324</td>\n",
       "    </tr>\n",
       "    <tr>\n",
       "      <th>9</th>\n",
       "      <td>arson</td>\n",
       "      <td>-0.319909</td>\n",
       "    </tr>\n",
       "    <tr>\n",
       "      <th>10</th>\n",
       "      <td>has_violent_crime</td>\n",
       "      <td>-0.291058</td>\n",
       "    </tr>\n",
       "    <tr>\n",
       "      <th>11</th>\n",
       "      <td>log_violent_crime</td>\n",
       "      <td>-0.463921</td>\n",
       "    </tr>\n",
       "    <tr>\n",
       "      <th>12</th>\n",
       "      <td>has_murder</td>\n",
       "      <td>0.133137</td>\n",
       "    </tr>\n",
       "    <tr>\n",
       "      <th>13</th>\n",
       "      <td>log_murder</td>\n",
       "      <td>0.033039</td>\n",
       "    </tr>\n",
       "    <tr>\n",
       "      <th>14</th>\n",
       "      <td>has_rape</td>\n",
       "      <td>-0.142889</td>\n",
       "    </tr>\n",
       "    <tr>\n",
       "      <th>15</th>\n",
       "      <td>log_rape</td>\n",
       "      <td>-0.029703</td>\n",
       "    </tr>\n",
       "    <tr>\n",
       "      <th>16</th>\n",
       "      <td>has_robbery</td>\n",
       "      <td>-0.351358</td>\n",
       "    </tr>\n",
       "    <tr>\n",
       "      <th>17</th>\n",
       "      <td>log_robbery</td>\n",
       "      <td>-0.183156</td>\n",
       "    </tr>\n",
       "    <tr>\n",
       "      <th>18</th>\n",
       "      <td>has_assault</td>\n",
       "      <td>0.073349</td>\n",
       "    </tr>\n",
       "    <tr>\n",
       "      <th>19</th>\n",
       "      <td>log_assault</td>\n",
       "      <td>-0.039320</td>\n",
       "    </tr>\n",
       "    <tr>\n",
       "      <th>20</th>\n",
       "      <td>has_property_crime</td>\n",
       "      <td>-0.100577</td>\n",
       "    </tr>\n",
       "    <tr>\n",
       "      <th>21</th>\n",
       "      <td>log_property_crime</td>\n",
       "      <td>-0.843784</td>\n",
       "    </tr>\n",
       "    <tr>\n",
       "      <th>22</th>\n",
       "      <td>has_burglary</td>\n",
       "      <td>-0.100577</td>\n",
       "    </tr>\n",
       "    <tr>\n",
       "      <th>23</th>\n",
       "      <td>log_burglary</td>\n",
       "      <td>-1.111063</td>\n",
       "    </tr>\n",
       "    <tr>\n",
       "      <th>24</th>\n",
       "      <td>has_larceny_theft</td>\n",
       "      <td>-0.100577</td>\n",
       "    </tr>\n",
       "    <tr>\n",
       "      <th>25</th>\n",
       "      <td>log_larceny_theft</td>\n",
       "      <td>-0.942069</td>\n",
       "    </tr>\n",
       "    <tr>\n",
       "      <th>26</th>\n",
       "      <td>has_motor_vehicle_theft</td>\n",
       "      <td>-0.432013</td>\n",
       "    </tr>\n",
       "    <tr>\n",
       "      <th>27</th>\n",
       "      <td>log_motor_vehicle_theft</td>\n",
       "      <td>0.293541</td>\n",
       "    </tr>\n",
       "    <tr>\n",
       "      <th>28</th>\n",
       "      <td>has_arson</td>\n",
       "      <td>0.254248</td>\n",
       "    </tr>\n",
       "    <tr>\n",
       "      <th>29</th>\n",
       "      <td>log_arson</td>\n",
       "      <td>-0.011516</td>\n",
       "    </tr>\n",
       "    <tr>\n",
       "      <th>30</th>\n",
       "      <td>population_log</td>\n",
       "      <td>1.309712</td>\n",
       "    </tr>\n",
       "    <tr>\n",
       "      <th>31</th>\n",
       "      <td>population_log_group</td>\n",
       "      <td>0.263912</td>\n",
       "    </tr>\n",
       "  </tbody>\n",
       "</table>\n",
       "</div>"
      ],
      "text/plain": [
       "                    feature  coeffecient\n",
       "0             violent_crime    -0.136340\n",
       "1                    murder    -0.053893\n",
       "2                      rape     0.229790\n",
       "3                   robbery    -0.295506\n",
       "4                   assault    -0.016730\n",
       "5            property_crime     0.022788\n",
       "6                  burglary     0.042659\n",
       "7             larceny_theft    -0.016547\n",
       "8       motor_vehicle_theft    -0.003324\n",
       "9                     arson    -0.319909\n",
       "10        has_violent_crime    -0.291058\n",
       "11        log_violent_crime    -0.463921\n",
       "12               has_murder     0.133137\n",
       "13               log_murder     0.033039\n",
       "14                 has_rape    -0.142889\n",
       "15                 log_rape    -0.029703\n",
       "16              has_robbery    -0.351358\n",
       "17              log_robbery    -0.183156\n",
       "18              has_assault     0.073349\n",
       "19              log_assault    -0.039320\n",
       "20       has_property_crime    -0.100577\n",
       "21       log_property_crime    -0.843784\n",
       "22             has_burglary    -0.100577\n",
       "23             log_burglary    -1.111063\n",
       "24        has_larceny_theft    -0.100577\n",
       "25        log_larceny_theft    -0.942069\n",
       "26  has_motor_vehicle_theft    -0.432013\n",
       "27  log_motor_vehicle_theft     0.293541\n",
       "28                has_arson     0.254248\n",
       "29                log_arson    -0.011516\n",
       "30           population_log     1.309712\n",
       "31     population_log_group     0.263912"
      ]
     },
     "execution_count": 115,
     "metadata": {},
     "output_type": "execute_result"
    }
   ],
   "source": [
    "coeffecients_rr = pd.DataFrame(model_vars, columns=[\"feature\"])\n",
    "coeffecients_rr[\"coeffecient\"] = rr.coef_.reshape(32,1)\n",
    "coeffecients_rr"
   ]
  },
  {
   "cell_type": "markdown",
   "metadata": {},
   "source": [
    "*Notice that ridge regression drastically reduced the magnitude of all of the coefficients.*"
   ]
  },
  {
   "cell_type": "code",
   "execution_count": 117,
   "metadata": {
    "ExecuteTime": {
     "end_time": "2018-12-29T22:13:43.412414Z",
     "start_time": "2018-12-29T22:13:43.404336Z"
    }
   },
   "outputs": [
    {
     "data": {
      "text/plain": [
       "count    32.000000\n",
       "mean     -0.104052\n",
       "std       0.417799\n",
       "min      -1.111063\n",
       "25%      -0.292170\n",
       "50%      -0.046607\n",
       "75%       0.035444\n",
       "max       1.309712\n",
       "Name: coeffecient, dtype: float64"
      ]
     },
     "execution_count": 117,
     "metadata": {},
     "output_type": "execute_result"
    }
   ],
   "source": [
    "coeffecients_rr.coeffecient.describe()"
   ]
  },
  {
   "cell_type": "code",
   "execution_count": 119,
   "metadata": {
    "ExecuteTime": {
     "end_time": "2018-12-29T22:15:00.240060Z",
     "start_time": "2018-12-29T22:15:00.072853Z"
    }
   },
   "outputs": [
    {
     "data": {
      "image/png": "[encoded data removed]",
      "text/plain": [
       "<Figure size 360x288 with 2 Axes>"
      ]
     },
     "metadata": {
      "needs_background": "light"
     },
     "output_type": "display_data"
    }
   ],
   "source": [
    "#Confusion Matrix\n",
    "cm_rr = metrics.confusion_matrix(y_true=y_test, y_pred=rr.predict(X_test))\n",
    "f,ax = plt.subplots(figsize=(5, 4))\n",
    "sns.heatmap(cm_rr, annot=True, linewidths=.5, fmt= '.1f',ax=ax);"
   ]
  },
  {
   "cell_type": "markdown",
   "metadata": {},
   "source": [
    "# LASSO Regression"
   ]
  },
  {
   "cell_type": "code",
   "execution_count": 123,
   "metadata": {
    "ExecuteTime": {
     "end_time": "2018-12-29T22:17:38.195086Z",
     "start_time": "2018-12-29T22:17:38.183668Z"
    }
   },
   "outputs": [
    {
     "name": "stdout",
     "output_type": "stream",
     "text": [
      "Score on train set: 0.947\n",
      "Score on test set: 0.827\n"
     ]
    }
   ],
   "source": [
    "lassoregr = LogisticRegression(penalty ='l1', solver='liblinear')\n",
    "lassoregr.fit(X_train, y_train)\n",
    "train_score_lasso = lassoregr.score(X_train, y_train)\n",
    "test_score_lasso = lassoregr.score(X_test, y_test)\n",
    "print(\"Score on train set: {:.3f}\".format(train_score_lasso))\n",
    "print(\"Score on test set: {:.3f}\".format(test_score_lasso))"
   ]
  },
  {
   "cell_type": "code",
   "execution_count": 124,
   "metadata": {
    "ExecuteTime": {
     "end_time": "2018-12-29T22:18:18.030733Z",
     "start_time": "2018-12-29T22:18:18.018771Z"
    },
    "scrolled": true
   },
   "outputs": [
    {
     "data": {
      "text/html": [
       "<div>\n",
       "<style scoped>\n",
       "    .dataframe tbody tr th:only-of-type {\n",
       "        vertical-align: middle;\n",
       "    }\n",
       "\n",
       "    .dataframe tbody tr th {\n",
       "        vertical-align: top;\n",
       "    }\n",
       "\n",
       "    .dataframe thead th {\n",
       "        text-align: right;\n",
       "    }\n",
       "</style>\n",
       "<table border=\"1\" class=\"dataframe\">\n",
       "  <thead>\n",
       "    <tr style=\"text-align: right;\">\n",
       "      <th></th>\n",
       "      <th>feature</th>\n",
       "      <th>coeffecient</th>\n",
       "    </tr>\n",
       "  </thead>\n",
       "  <tbody>\n",
       "    <tr>\n",
       "      <th>0</th>\n",
       "      <td>violent_crime</td>\n",
       "      <td>-0.064947</td>\n",
       "    </tr>\n",
       "    <tr>\n",
       "      <th>1</th>\n",
       "      <td>murder</td>\n",
       "      <td>0.000000</td>\n",
       "    </tr>\n",
       "    <tr>\n",
       "      <th>2</th>\n",
       "      <td>rape</td>\n",
       "      <td>0.085216</td>\n",
       "    </tr>\n",
       "    <tr>\n",
       "      <th>3</th>\n",
       "      <td>robbery</td>\n",
       "      <td>-0.514343</td>\n",
       "    </tr>\n",
       "    <tr>\n",
       "      <th>4</th>\n",
       "      <td>assault</td>\n",
       "      <td>-0.084967</td>\n",
       "    </tr>\n",
       "    <tr>\n",
       "      <th>5</th>\n",
       "      <td>property_crime</td>\n",
       "      <td>0.006134</td>\n",
       "    </tr>\n",
       "    <tr>\n",
       "      <th>6</th>\n",
       "      <td>burglary</td>\n",
       "      <td>0.056782</td>\n",
       "    </tr>\n",
       "    <tr>\n",
       "      <th>7</th>\n",
       "      <td>larceny_theft</td>\n",
       "      <td>0.004246</td>\n",
       "    </tr>\n",
       "    <tr>\n",
       "      <th>8</th>\n",
       "      <td>motor_vehicle_theft</td>\n",
       "      <td>0.010976</td>\n",
       "    </tr>\n",
       "    <tr>\n",
       "      <th>9</th>\n",
       "      <td>arson</td>\n",
       "      <td>0.000000</td>\n",
       "    </tr>\n",
       "    <tr>\n",
       "      <th>10</th>\n",
       "      <td>has_violent_crime</td>\n",
       "      <td>0.000000</td>\n",
       "    </tr>\n",
       "    <tr>\n",
       "      <th>11</th>\n",
       "      <td>log_violent_crime</td>\n",
       "      <td>-0.285779</td>\n",
       "    </tr>\n",
       "    <tr>\n",
       "      <th>12</th>\n",
       "      <td>has_murder</td>\n",
       "      <td>0.000000</td>\n",
       "    </tr>\n",
       "    <tr>\n",
       "      <th>13</th>\n",
       "      <td>log_murder</td>\n",
       "      <td>0.000000</td>\n",
       "    </tr>\n",
       "    <tr>\n",
       "      <th>14</th>\n",
       "      <td>has_rape</td>\n",
       "      <td>0.000000</td>\n",
       "    </tr>\n",
       "    <tr>\n",
       "      <th>15</th>\n",
       "      <td>log_rape</td>\n",
       "      <td>0.000000</td>\n",
       "    </tr>\n",
       "    <tr>\n",
       "      <th>16</th>\n",
       "      <td>has_robbery</td>\n",
       "      <td>0.000000</td>\n",
       "    </tr>\n",
       "    <tr>\n",
       "      <th>17</th>\n",
       "      <td>log_robbery</td>\n",
       "      <td>0.000000</td>\n",
       "    </tr>\n",
       "    <tr>\n",
       "      <th>18</th>\n",
       "      <td>has_assault</td>\n",
       "      <td>0.000000</td>\n",
       "    </tr>\n",
       "    <tr>\n",
       "      <th>19</th>\n",
       "      <td>log_assault</td>\n",
       "      <td>0.000000</td>\n",
       "    </tr>\n",
       "    <tr>\n",
       "      <th>20</th>\n",
       "      <td>has_property_crime</td>\n",
       "      <td>0.000000</td>\n",
       "    </tr>\n",
       "    <tr>\n",
       "      <th>21</th>\n",
       "      <td>log_property_crime</td>\n",
       "      <td>-0.223111</td>\n",
       "    </tr>\n",
       "    <tr>\n",
       "      <th>22</th>\n",
       "      <td>has_burglary</td>\n",
       "      <td>0.000000</td>\n",
       "    </tr>\n",
       "    <tr>\n",
       "      <th>23</th>\n",
       "      <td>log_burglary</td>\n",
       "      <td>-1.437238</td>\n",
       "    </tr>\n",
       "    <tr>\n",
       "      <th>24</th>\n",
       "      <td>has_larceny_theft</td>\n",
       "      <td>0.000000</td>\n",
       "    </tr>\n",
       "    <tr>\n",
       "      <th>25</th>\n",
       "      <td>log_larceny_theft</td>\n",
       "      <td>-1.602371</td>\n",
       "    </tr>\n",
       "    <tr>\n",
       "      <th>26</th>\n",
       "      <td>has_motor_vehicle_theft</td>\n",
       "      <td>0.000000</td>\n",
       "    </tr>\n",
       "    <tr>\n",
       "      <th>27</th>\n",
       "      <td>log_motor_vehicle_theft</td>\n",
       "      <td>0.000000</td>\n",
       "    </tr>\n",
       "    <tr>\n",
       "      <th>28</th>\n",
       "      <td>has_arson</td>\n",
       "      <td>0.000000</td>\n",
       "    </tr>\n",
       "    <tr>\n",
       "      <th>29</th>\n",
       "      <td>log_arson</td>\n",
       "      <td>0.000000</td>\n",
       "    </tr>\n",
       "    <tr>\n",
       "      <th>30</th>\n",
       "      <td>population_log</td>\n",
       "      <td>1.312874</td>\n",
       "    </tr>\n",
       "    <tr>\n",
       "      <th>31</th>\n",
       "      <td>population_log_group</td>\n",
       "      <td>0.000000</td>\n",
       "    </tr>\n",
       "  </tbody>\n",
       "</table>\n",
       "</div>"
      ],
      "text/plain": [
       "                    feature  coeffecient\n",
       "0             violent_crime    -0.064947\n",
       "1                    murder     0.000000\n",
       "2                      rape     0.085216\n",
       "3                   robbery    -0.514343\n",
       "4                   assault    -0.084967\n",
       "5            property_crime     0.006134\n",
       "6                  burglary     0.056782\n",
       "7             larceny_theft     0.004246\n",
       "8       motor_vehicle_theft     0.010976\n",
       "9                     arson     0.000000\n",
       "10        has_violent_crime     0.000000\n",
       "11        log_violent_crime    -0.285779\n",
       "12               has_murder     0.000000\n",
       "13               log_murder     0.000000\n",
       "14                 has_rape     0.000000\n",
       "15                 log_rape     0.000000\n",
       "16              has_robbery     0.000000\n",
       "17              log_robbery     0.000000\n",
       "18              has_assault     0.000000\n",
       "19              log_assault     0.000000\n",
       "20       has_property_crime     0.000000\n",
       "21       log_property_crime    -0.223111\n",
       "22             has_burglary     0.000000\n",
       "23             log_burglary    -1.437238\n",
       "24        has_larceny_theft     0.000000\n",
       "25        log_larceny_theft    -1.602371\n",
       "26  has_motor_vehicle_theft     0.000000\n",
       "27  log_motor_vehicle_theft     0.000000\n",
       "28                has_arson     0.000000\n",
       "29                log_arson     0.000000\n",
       "30           population_log     1.312874\n",
       "31     population_log_group     0.000000"
      ]
     },
     "execution_count": 124,
     "metadata": {},
     "output_type": "execute_result"
    }
   ],
   "source": [
    "coeffecients_lasso = pd.DataFrame(model_vars, columns=[\"feature\"])\n",
    "coeffecients_lasso[\"coeffecient\"] = lassoregr.coef_.reshape(32,1)\n",
    "coeffecients_lasso"
   ]
  },
  {
   "cell_type": "markdown",
   "metadata": {
    "ExecuteTime": {
     "end_time": "2018-12-29T22:19:07.692079Z",
     "start_time": "2018-12-29T22:19:07.686747Z"
    }
   },
   "source": [
    "*With LASSO regression, we have \"shrunk\" 19 features to absolute zero, aka we can reduce the dimensions from 32 to 13.*"
   ]
  },
  {
   "cell_type": "code",
   "execution_count": 127,
   "metadata": {
    "ExecuteTime": {
     "end_time": "2018-12-29T22:20:34.576188Z",
     "start_time": "2018-12-29T22:20:34.568412Z"
    }
   },
   "outputs": [
    {
     "data": {
      "text/plain": [
       "count    32.000000\n",
       "mean     -0.085516\n",
       "std       0.459346\n",
       "min      -1.602371\n",
       "25%       0.000000\n",
       "50%       0.000000\n",
       "75%       0.000000\n",
       "max       1.312874\n",
       "Name: coeffecient, dtype: float64"
      ]
     },
     "execution_count": 127,
     "metadata": {},
     "output_type": "execute_result"
    }
   ],
   "source": [
    "coeffecients_lasso.coeffecient.describe()"
   ]
  },
  {
   "cell_type": "code",
   "execution_count": 128,
   "metadata": {
    "ExecuteTime": {
     "end_time": "2018-12-29T22:21:12.214184Z",
     "start_time": "2018-12-29T22:21:12.056745Z"
    }
   },
   "outputs": [
    {
     "data": {
      "image/png": "[encoded data removed]",
      "text/plain": [
       "<Figure size 360x288 with 2 Axes>"
      ]
     },
     "metadata": {
      "needs_background": "light"
     },
     "output_type": "display_data"
    }
   ],
   "source": [
    "#Confusion Matrix\n",
    "cm_lasso = metrics.confusion_matrix(y_true=y_test, y_pred=lassoregr.predict(X_test))\n",
    "f,ax = plt.subplots(figsize=(5, 4))\n",
    "sns.heatmap(cm_lasso, annot=True, linewidths=.5, fmt= '.1f',ax=ax);"
   ]
  }
 ],
 "metadata": {
  "kernelspec": {
   "display_name": "Python 3",
   "language": "python",
   "name": "python3"
  },
  "language_info": {
   "codemirror_mode": {
    "name": "ipython",
    "version": 3
   },
   "file_extension": ".py",
   "mimetype": "text/x-python",
   "name": "python",
   "nbconvert_exporter": "python",
   "pygments_lexer": "ipython3",
   "version": "3.6.7"
  },
  "latex_envs": {
   "LaTeX_envs_menu_present": true,
   "autoclose": false,
   "autocomplete": true,
   "bibliofile": "biblio.bib",
   "cite_by": "apalike",
   "current_citInitial": 1,
   "eqLabelWithNumbers": true,
   "eqNumInitial": 1,
   "hotkeys": {
    "equation": "Ctrl-E",
    "itemize": "Ctrl-I"
   },
   "labels_anchors": false,
   "latex_user_defs": false,
   "report_style_numbering": false,
   "user_envs_cfg": false
  },
  "toc": {
   "base_numbering": 1,
   "nav_menu": {},
   "number_sections": true,
   "sideBar": true,
   "skip_h1_title": false,
   "title_cell": "Table of Contents",
   "title_sidebar": "Contents",
   "toc_cell": false,
   "toc_position": {},
   "toc_section_display": true,
   "toc_window_display": false
  },
  "varInspector": {
   "cols": {
    "lenName": 16,
    "lenType": 16,
    "lenVar": 40
   },
   "kernels_config": {
    "python": {
     "delete_cmd_postfix": "",
     "delete_cmd_prefix": "del ",
     "library": "var_list.py",
     "varRefreshCmd": "print(var_dic_list())"
    },
    "r": {
     "delete_cmd_postfix": ") ",
     "delete_cmd_prefix": "rm(",
     "library": "var_list.r",
     "varRefreshCmd": "cat(var_dic_list()) "
    }
   },
   "types_to_exclude": [
    "module",
    "function",
    "builtin_function_or_method",
    "instance",
    "_Feature"
   ],
   "window_display": false
  }
 },
 "nbformat": 4,
 "nbformat_minor": 2
}
