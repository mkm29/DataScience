{
 "cells": [
  {
   "cell_type": "code",
   "execution_count": 3,
   "metadata": {
    "ExecuteTime": {
     "end_time": "2019-01-01T22:22:30.808246Z",
     "start_time": "2019-01-01T22:22:30.800946Z"
    }
   },
   "outputs": [],
   "source": [
    "import numpy as np\n",
    "import pandas as pd\n",
    "import scipy\n",
    "import matplotlib.pyplot as plt\n",
    "import seaborn as sns\n",
    "from sklearn.feature_selection import SelectKBest, f_classif\n",
    "from sklearn.svm import SVC, SVR\n",
    "from sklearn.pipeline import make_pipeline\n",
    "from sklearn.model_selection import cross_val_score\n",
    "from sklearn.ensemble import RandomForestClassifier\n",
    "from sklearn.model_selection import train_test_split\n",
    "from sklearn import metrics\n",
    "import warnings\n",
    "warnings.filterwarnings('ignore')\n",
    "%matplotlib inline"
   ]
  },
  {
   "cell_type": "markdown",
   "metadata": {},
   "source": [
    "# Data"
   ]
  },
  {
   "cell_type": "code",
   "execution_count": 2,
   "metadata": {
    "ExecuteTime": {
     "end_time": "2019-01-01T22:22:02.557140Z",
     "start_time": "2019-01-01T22:22:00.201830Z"
    }
   },
   "outputs": [],
   "source": [
    "raw_data = pd.read_csv('epi_r.csv')"
   ]
  },
  {
   "cell_type": "code",
   "execution_count": 3,
   "metadata": {
    "ExecuteTime": {
     "end_time": "2019-01-01T21:26:22.486495Z",
     "start_time": "2019-01-01T21:26:22.479150Z"
    }
   },
   "outputs": [
    {
     "data": {
      "text/plain": [
       "4.375    8019\n",
       "3.750    5169\n",
       "5.000    2719\n",
       "0.000    1836\n",
       "3.125    1489\n",
       "2.500     532\n",
       "1.250     164\n",
       "1.875     124\n",
       "Name: rating, dtype: int64"
      ]
     },
     "execution_count": 3,
     "metadata": {},
     "output_type": "execute_result"
    }
   ],
   "source": [
    "# First lets look at the ratings.\n",
    "raw_data.rating.value_counts()"
   ]
  },
  {
   "cell_type": "code",
   "execution_count": 4,
   "metadata": {
    "ExecuteTime": {
     "end_time": "2019-01-01T21:26:24.600782Z",
     "start_time": "2019-01-01T21:26:24.595823Z"
    }
   },
   "outputs": [
    {
     "data": {
      "text/plain": [
       "array([1.25 , 0.625, 0.625, 0.625, 0.625, 0.625, 0.625])"
      ]
     },
     "execution_count": 4,
     "metadata": {},
     "output_type": "execute_result"
    }
   ],
   "source": [
    "np.diff(np.array([0.0, 1.25, 1.875, 2.5, 3.125, 3.75, 4.375, 5.0]))"
   ]
  },
  {
   "cell_type": "markdown",
   "metadata": {},
   "source": [
    "Since the ratings are actually discrete, a classifier makes more sense. Note that the rating levels are not uniformly distributed. \n",
    "\n",
    "First lets add a binary feature to indicate if the recipe lists calories that are in the top 75% of all ratings, as well as some group some highly correlated features."
   ]
  },
  {
   "cell_type": "markdown",
   "metadata": {
    "ExecuteTime": {
     "end_time": "2019-01-01T18:58:25.150005Z",
     "start_time": "2019-01-01T18:58:25.145053Z"
    }
   },
   "source": [
    "# Split"
   ]
  },
  {
   "cell_type": "code",
   "execution_count": 4,
   "metadata": {
    "ExecuteTime": {
     "end_time": "2019-01-01T22:22:41.298952Z",
     "start_time": "2019-01-01T22:22:40.574304Z"
    }
   },
   "outputs": [],
   "source": [
    "X = raw_data.dropna().drop(['rating', 'title'], axis = 1)\n",
    "X_test, X_train, y_test, y_train = train_test_split(X, raw_data.dropna().rating, test_size=0.70)"
   ]
  },
  {
   "cell_type": "code",
   "execution_count": 5,
   "metadata": {
    "ExecuteTime": {
     "end_time": "2019-01-01T22:22:43.277617Z",
     "start_time": "2019-01-01T22:22:43.104932Z"
    }
   },
   "outputs": [
    {
     "data": {
      "text/plain": [
       "(array([ 900.,    0.,   92.,   60.,    0.,  281.,  824., 2908., 4593.,\n",
       "        1447.]),\n",
       " array([0. , 0.5, 1. , 1.5, 2. , 2.5, 3. , 3.5, 4. , 4.5, 5. ]),\n",
       " <a list of 10 Patch objects>)"
      ]
     },
     "execution_count": 5,
     "metadata": {},
     "output_type": "execute_result"
    },
    {
     "data": {
      "image/png": "[encoded data removed]",
      "text/plain": [
       "<Figure size 432x288 with 1 Axes>"
      ]
     },
     "metadata": {
      "needs_background": "light"
     },
     "output_type": "display_data"
    }
   ],
   "source": [
    "plt.hist(y_train)"
   ]
  },
  {
   "cell_type": "code",
   "execution_count": 6,
   "metadata": {
    "ExecuteTime": {
     "end_time": "2019-01-01T22:22:57.112573Z",
     "start_time": "2019-01-01T22:22:49.473044Z"
    }
   },
   "outputs": [
    {
     "data": {
      "text/plain": [
       "calories       sodium           0.996547\n",
       "sodium         calories         0.996547\n",
       "calories       fat              0.996492\n",
       "fat            calories         0.996492\n",
       "               sodium           0.986393\n",
       "sodium         fat              0.986393\n",
       "peanut free    soy free         0.940443\n",
       "soy free       peanut free      0.940443\n",
       "pescatarian    kosher           0.876206\n",
       "kosher         pescatarian      0.876206\n",
       "drink          alcoholic        0.851875\n",
       "alcoholic      drink            0.851875\n",
       "snack week     snack            0.819680\n",
       "snack          snack week       0.819680\n",
       "tree nut free  peanut free      0.819604\n",
       "peanut free    tree nut free    0.819604\n",
       "protein        sodium           0.817770\n",
       "sodium         protein          0.817770\n",
       "protein        calories         0.802612\n",
       "calories       protein          0.802612\n",
       "tree nut free  soy free         0.787444\n",
       "soy free       tree nut free    0.787444\n",
       "illinois       chicago          0.774527\n",
       "chicago        illinois         0.774527\n",
       "protein        fat              0.769683\n",
       "fat            protein          0.769683\n",
       "pescatarian    vegetarian       0.744437\n",
       "vegetarian     pescatarian      0.744437\n",
       "               kosher           0.738762\n",
       "kosher         vegetarian       0.738762\n",
       "pescatarian    peanut free      0.737516\n",
       "peanut free    pescatarian      0.737516\n",
       "soy free       pescatarian      0.737504\n",
       "pescatarian    soy free         0.737504\n",
       "breakfast      brunch           0.737185\n",
       "brunch         breakfast        0.737185\n",
       "peanut free    kosher           0.733474\n",
       "kosher         peanut free      0.733474\n",
       "               soy free         0.727231\n",
       "soy free       kosher           0.727231\n",
       "dtype: float64"
      ]
     },
     "execution_count": 6,
     "metadata": {},
     "output_type": "execute_result"
    }
   ],
   "source": [
    "# lets see what features are extrmely correlated\n",
    "cm = X_train.corr()\n",
    "s = cm.unstack()\n",
    "so = s[s!=1.0].sort_values(kind=\"quicksort\", ascending=False)\n",
    "so[so>=0.7]"
   ]
  },
  {
   "cell_type": "code",
   "execution_count": 7,
   "metadata": {
    "ExecuteTime": {
     "end_time": "2019-01-01T22:23:09.062699Z",
     "start_time": "2019-01-01T22:23:07.456323Z"
    }
   },
   "outputs": [],
   "source": [
    "# features to combine* (binary interaction)\n",
    "features1 = ['calories', 'calories', 'sodium', 'peanut free', \n",
    "             'pescatarian', 'drink', 'peanut free', 'portland', \n",
    "             'soy free', 'sodium', 'vegetarian', 'snack week', \n",
    "             'pescatarian', 'kosher', 'peanut free', 'peanut free', \n",
    "             'soy free', 'calories', 'brunch', 'kentucky', 'denver', \n",
    "             'louisiana', 'new orleans']\n",
    "\n",
    "features2 = ['sodium', 'fat', 'fat', 'soy free', 'kosher', 'alcoholic', \n",
    "             'tree nut free', 'oregon', 'tree nut free', 'protein', \n",
    "             'pescatarian', 'snack', 'soy free', 'vegetarian', \n",
    "             'pescatarian', 'kosher', 'kosher', 'protein', 'breakfast', \n",
    "             'louisville', 'omelet', 'kitchen olympics', 'louisiana']\n",
    "\n",
    "for a,b in zip(features1, features2):\n",
    "    X_train[a + \"_\" + b] = X_train[a] * X_train[b]\n",
    "    X_test[a + \"_\" + b] = X_test[a] * X_test[b]"
   ]
  },
  {
   "cell_type": "markdown",
   "metadata": {},
   "source": [
    "# Feature Selection  \n",
    "## Random Forest  \n",
    "\n",
    "We will first predict how likely the recipe is a high (>=2.5 rating) or low (<2.5), and given this predicted probability we can feed the data to a further model (2 layer)."
   ]
  },
  {
   "cell_type": "code",
   "execution_count": 8,
   "metadata": {
    "ExecuteTime": {
     "end_time": "2019-01-01T22:23:12.223981Z",
     "start_time": "2019-01-01T22:23:11.879998Z"
    }
   },
   "outputs": [],
   "source": [
    "X_train_dummy = pd.get_dummies(X_train)\n",
    "# convert all columns to int's and make source_pc binary\n",
    "X_train_dummy = X_train_dummy.astype(int)"
   ]
  },
  {
   "cell_type": "markdown",
   "metadata": {},
   "source": [
    "**High or Low rating?** (<= 2.5)"
   ]
  },
  {
   "cell_type": "code",
   "execution_count": 9,
   "metadata": {
    "ExecuteTime": {
     "end_time": "2019-01-01T22:23:14.138103Z",
     "start_time": "2019-01-01T22:23:14.134135Z"
    }
   },
   "outputs": [],
   "source": [
    "# Features & Target\n",
    "y_low = y_train <= 2.5\n",
    "\n",
    "#Pipeline Construction.\n",
    "anova_low = SelectKBest(f_classif, k=30)\n",
    "svc_low = SVC(kernel='linear')\n",
    "anova_svc = make_pipeline(anova_low, svc_low)"
   ]
  },
  {
   "cell_type": "code",
   "execution_count": 10,
   "metadata": {
    "ExecuteTime": {
     "end_time": "2019-01-01T22:23:21.181842Z",
     "start_time": "2019-01-01T22:23:16.173720Z"
    }
   },
   "outputs": [
    {
     "name": "stdout",
     "output_type": "stream",
     "text": [
      "Cross-Validation Scores: [0.88388839 0.88433843 0.88698784 0.88153153 0.88423423]\n",
      "Cross-Validation Score Averaged Across Folds: 88.42%.\n",
      "\n",
      "Selected Features: ['alcoholic', 'bake', 'bitters', 'bon appétit', 'cocktail', 'cocktail party', 'condiment', 'créme de cacao', 'drink', 'fall', 'gin', 'harpercollins', 'house & garden', 'liqueur', 'non-alcoholic', 'peanut free', 'pickles', 'punch', 'rum', 'sauce', 'sauté', 'soy free', 'spirit', 'vegan', 'vermouth', 'weelicious', 'winter', 'leftovers', 'peanut free_soy free', 'drink_alcoholic']\n",
      "\n"
     ]
    }
   ],
   "source": [
    "#Fitting & Cross-Validation.\n",
    "anova_svc.fit(X_train_dummy,y_low)\n",
    "scores_low = cross_val_score(anova_svc, X_train_dummy, y_low, cv=5)\n",
    "\n",
    "#De-Masking Selected Features.\n",
    "features_low = anova_low.get_support(indices=True)\n",
    "selected_features_low = list(X_train_dummy.columns[features_low])\n",
    "\n",
    "#Printing Outcomes.\n",
    "print('Cross-Validation Scores: {}'.format(scores_low))\n",
    "print('Cross-Validation Score Averaged Across Folds: {:.2%}.\\n'.format(scores_low.mean()))\n",
    "print('Selected Features: {}\\n'.format(selected_features_low))"
   ]
  },
  {
   "cell_type": "code",
   "execution_count": 11,
   "metadata": {
    "ExecuteTime": {
     "end_time": "2019-01-01T22:23:29.297053Z",
     "start_time": "2019-01-01T22:23:27.489703Z"
    }
   },
   "outputs": [
    {
     "data": {
      "text/plain": [
       "SVC(C=1.0, cache_size=200, class_weight=None, coef0=0.0,\n",
       "  decision_function_shape='ovr', degree=3, gamma='auto_deprecated',\n",
       "  kernel='rbf', max_iter=-1, probability=False, random_state=None,\n",
       "  shrinking=True, tol=0.001, verbose=False)"
      ]
     },
     "execution_count": 11,
     "metadata": {},
     "output_type": "execute_result"
    }
   ],
   "source": [
    "svc_1ow = SVC()\n",
    "X_low = X_train[selected_features_low]\n",
    "svc_1ow.fit(X_low,y_low)"
   ]
  },
  {
   "cell_type": "code",
   "execution_count": 12,
   "metadata": {
    "ExecuteTime": {
     "end_time": "2019-01-01T22:23:38.064700Z",
     "start_time": "2019-01-01T22:23:31.689283Z"
    }
   },
   "outputs": [
    {
     "name": "stdout",
     "output_type": "stream",
     "text": [
      "Cross-Validation Scores: [0.88748875 0.88388839 0.88698784 0.88198198 0.88513514]\n",
      "Cross-Validation Score Averaged Across Folds: 88.51%.\n",
      "\n"
     ]
    }
   ],
   "source": [
    "scores_low = cross_val_score(svc_1ow, X_train[selected_features_low], y_low, cv=5)\n",
    "print('Cross-Validation Scores: {}'.format(scores_low))\n",
    "print('Cross-Validation Score Averaged Across Folds: {:.2%}.\\n'.format(scores_low.mean()))"
   ]
  },
  {
   "cell_type": "code",
   "execution_count": 13,
   "metadata": {
    "ExecuteTime": {
     "end_time": "2019-01-01T22:23:41.438188Z",
     "start_time": "2019-01-01T22:23:40.213041Z"
    }
   },
   "outputs": [],
   "source": [
    "y_pred_train = svc_1ow.predict(X_train[selected_features_low]).astype(int)"
   ]
  },
  {
   "cell_type": "markdown",
   "metadata": {},
   "source": [
    "This model simply predicts if the given recipe will be rated high or low. Let's see how it performs on the test set.  "
   ]
  },
  {
   "cell_type": "code",
   "execution_count": 16,
   "metadata": {
    "ExecuteTime": {
     "end_time": "2019-01-01T22:24:36.960821Z",
     "start_time": "2019-01-01T22:24:36.793680Z"
    }
   },
   "outputs": [
    {
     "name": "stdout",
     "output_type": "stream",
     "text": [
      "              precision    recall  f1-score   support\n",
      "\n",
      "           0       0.89      1.00      0.94      9772\n",
      "           1       0.74      0.07      0.13      1333\n",
      "\n",
      "   micro avg       0.89      0.89      0.89     11105\n",
      "   macro avg       0.81      0.53      0.53     11105\n",
      "weighted avg       0.87      0.89      0.84     11105\n",
      "\n"
     ]
    },
    {
     "data": {
      "image/png": "[encoded data removed]",
      "text/plain": [
       "<Figure size 360x288 with 2 Axes>"
      ]
     },
     "metadata": {
      "needs_background": "light"
     },
     "output_type": "display_data"
    }
   ],
   "source": [
    "#Clasification report\n",
    "results_train = metrics.classification_report(y_true=(y_train<=2.5).astype(int), y_pred=y_pred_train)\n",
    "print(results_train)\n",
    "\n",
    "#Confusion Matrix\n",
    "cm_low = metrics.confusion_matrix(y_true=(y_train<=2.5).astype(int), y_pred=y_pred_train)\n",
    "f,ax = plt.subplots(figsize=(5, 4))\n",
    "sns.heatmap(cm_low, annot=True, linewidths=.5, fmt= '.1f',ax=ax);"
   ]
  },
  {
   "cell_type": "markdown",
   "metadata": {},
   "source": [
    "### Evaluation"
   ]
  },
  {
   "cell_type": "code",
   "execution_count": 17,
   "metadata": {
    "ExecuteTime": {
     "end_time": "2019-01-01T22:25:29.549216Z",
     "start_time": "2019-01-01T22:25:28.829057Z"
    }
   },
   "outputs": [
    {
     "name": "stdout",
     "output_type": "stream",
     "text": [
      "              precision    recall  f1-score   support\n",
      "\n",
      "           0       0.89      1.00      0.94      4187\n",
      "           1       0.74      0.08      0.14       572\n",
      "\n",
      "   micro avg       0.89      0.89      0.89      4759\n",
      "   macro avg       0.81      0.54      0.54      4759\n",
      "weighted avg       0.87      0.89      0.84      4759\n",
      "\n"
     ]
    },
    {
     "data": {
      "image/png": "[encoded data removed]",
      "text/plain": [
       "<Figure size 360x288 with 2 Axes>"
      ]
     },
     "metadata": {
      "needs_background": "light"
     },
     "output_type": "display_data"
    }
   ],
   "source": [
    "y_pred_test = svc_1ow.predict(X_test[selected_features_low])\n",
    "#Clasification report\n",
    "results_test = metrics.classification_report(y_true=(y_test<=2.5).astype(int), y_pred=y_pred_test)\n",
    "print(results_test)\n",
    "\n",
    "#Confusion Matrix\n",
    "cm_test = metrics.confusion_matrix(y_true=(y_test<=2.5).astype(int), y_pred=y_pred_test)\n",
    "f,ax = plt.subplots(figsize=(5, 4))\n",
    "sns.heatmap(cm_test, annot=True, linewidths=.5, fmt= '.1f',ax=ax);"
   ]
  },
  {
   "cell_type": "markdown",
   "metadata": {},
   "source": [
    "## Further classification  \n",
    "The above model will predict whether or not the given recipe will be a low or high rating. If, instead, we want to predict the overall rating (7 levels from 0 to 5), we can still use a classifier, but this time with 8 possible outcomes. First let's define that mapping."
   ]
  },
  {
   "cell_type": "code",
   "execution_count": 18,
   "metadata": {
    "ExecuteTime": {
     "end_time": "2019-01-01T22:25:39.408331Z",
     "start_time": "2019-01-01T22:25:39.404760Z"
    }
   },
   "outputs": [],
   "source": [
    "z = {0.0: 0, 1.25: 1, 1.875: 2, 2.5: 3, 3.125: 4, 3.75: 5, 4.375: 6, 5.0: 7}"
   ]
  },
  {
   "cell_type": "code",
   "execution_count": 19,
   "metadata": {
    "ExecuteTime": {
     "end_time": "2019-01-01T22:26:05.294797Z",
     "start_time": "2019-01-01T22:25:43.684855Z"
    }
   },
   "outputs": [
    {
     "name": "stdout",
     "output_type": "stream",
     "text": [
      "Cross-Validation Scores: [0.88748875 0.88388839 0.88698784 0.88198198 0.88513514]\n",
      "Cross-Validation Score Averaged Across Folds: 88.51%.\n",
      "\n",
      "Selected Features: ['alcoholic', 'bake', 'bitters', 'bon appétit', 'chile pepper', 'cocktail', 'cocktail party', 'condiment', 'créme de cacao', 'crêpe', 'drink', 'fall', 'fruit juice', 'gin', 'gourmet', 'harpercollins', 'house & garden', 'lasagna', 'lime juice', 'liqueur', 'non-alcoholic', 'pasta', 'quick & easy', 'rum', 'sauce', 'sauté', 'spirit', 'vegetable', 'winter', 'drink_alcoholic']\n",
      "\n"
     ]
    }
   ],
   "source": [
    "# Features & Target\n",
    "y = y_train.map(z)\n",
    "\n",
    "#Pipeline Construction.\n",
    "anova = SelectKBest(f_classif, k=30)\n",
    "svc = SVC(kernel='linear')\n",
    "anova_svc = make_pipeline(anova, svc)\n",
    "\n",
    "#Fitting & Cross-Validation.\n",
    "anova_svc.fit(X_train_dummy,y)\n",
    "scores = cross_val_score(anova_svc, X_train_dummy, y, cv=5)\n",
    "#De-Masking Selected Features.\n",
    "features = anova.get_support(indices=True)  \n",
    "selected_features = list(X_train_dummy.columns[features])\n",
    "\n",
    "#Printing Outcomes.\n",
    "print('Cross-Validation Scores: {}'.format(scores_low))\n",
    "print('Cross-Validation Score Averaged Across Folds: {:.2%}.\\n'.format(scores_low.mean()))\n",
    "print('Selected Features: {}\\n'.format(selected_features))"
   ]
  },
  {
   "cell_type": "code",
   "execution_count": 20,
   "metadata": {
    "ExecuteTime": {
     "end_time": "2019-01-01T22:29:05.281677Z",
     "start_time": "2019-01-01T22:26:11.803846Z"
    }
   },
   "outputs": [
    {
     "name": "stdout",
     "output_type": "stream",
     "text": [
      "Cross-Validation Scores: [0.42940647 0.42735043 0.43628996 0.42767012 0.42605951]\n",
      "Cross-Validation Score Averaged Across Folds: 42.94%.\n",
      "\n"
     ]
    }
   ],
   "source": [
    "svc2 = SVC(probability=True)\n",
    "X = X_train[selected_features]\n",
    "svc2.fit(X,y)\n",
    "\n",
    "scores2 = cross_val_score(svc2, X_train[selected_features], y, cv=5)\n",
    "print('Cross-Validation Scores: {}'.format(scores2))\n",
    "print('Cross-Validation Score Averaged Across Folds: {:.2%}.\\n'.format(scores2.mean()))\n",
    "\n",
    "p_pred = svc2.predict_proba(X_test[selected_features])"
   ]
  },
  {
   "cell_type": "code",
   "execution_count": 21,
   "metadata": {
    "ExecuteTime": {
     "end_time": "2019-01-01T22:33:00.571211Z",
     "start_time": "2019-01-01T22:33:00.559982Z"
    }
   },
   "outputs": [
    {
     "name": "stdout",
     "output_type": "stream",
     "text": [
      "              precision    recall  f1-score   support\n",
      "\n",
      "           0       0.47      0.30      0.36       396\n",
      "           1       0.00      0.00      0.00        31\n",
      "           2       0.00      0.00      0.00        21\n",
      "           3       0.00      0.00      0.00       124\n",
      "           4       0.00      0.00      0.00       341\n",
      "           5       0.00      0.00      0.00      1228\n",
      "           6       0.43      0.98      0.60      1959\n",
      "           7       0.41      0.01      0.03       659\n",
      "\n",
      "   micro avg       0.43      0.43      0.43      4759\n",
      "   macro avg       0.16      0.16      0.12      4759\n",
      "weighted avg       0.27      0.43      0.28      4759\n",
      "\n"
     ]
    }
   ],
   "source": [
    "y_pred_test = p_pred.argmax(axis=1)\n",
    "#Clasification report\n",
    "results = metrics.classification_report(y_true=y_test.map(z), y_pred=y_pred_test)\n",
    "print(results)"
   ]
  },
  {
   "cell_type": "markdown",
   "metadata": {},
   "source": [
    "So this model is only ok with those recipes with a 0, 4.375 or 5 rating, which is likely a result of the original distribution of ratings (as well as other things). These groups have larger sample sizes, but it is interesting to notice that it was unable to classify any review with a rating of 3.75 even though this group has a relatively large group size."
   ]
  },
  {
   "cell_type": "code",
   "execution_count": 89,
   "metadata": {
    "ExecuteTime": {
     "end_time": "2019-01-01T22:09:24.392318Z",
     "start_time": "2019-01-01T22:09:24.386242Z"
    }
   },
   "outputs": [
    {
     "data": {
      "text/plain": [
       "0.000    1836\n",
       "1.250     164\n",
       "1.875     124\n",
       "2.500     532\n",
       "3.125    1489\n",
       "3.750    5169\n",
       "4.375    8019\n",
       "5.000    2719\n",
       "Name: rating, dtype: int64"
      ]
     },
     "execution_count": 89,
     "metadata": {},
     "output_type": "execute_result"
    }
   ],
   "source": [
    "raw_data.rating.value_counts().sort_index()"
   ]
  },
  {
   "cell_type": "markdown",
   "metadata": {
    "ExecuteTime": {
     "end_time": "2019-01-01T22:33:46.704332Z",
     "start_time": "2019-01-01T22:33:46.700195Z"
    }
   },
   "source": [
    "**Improvements**  \n",
    "\n",
    "This is a pretty small set of features, try doubling this?"
   ]
  },
  {
   "cell_type": "code",
   "execution_count": 24,
   "metadata": {
    "ExecuteTime": {
     "end_time": "2019-01-01T22:35:53.507239Z",
     "start_time": "2019-01-01T22:35:09.364207Z"
    }
   },
   "outputs": [
    {
     "name": "stdout",
     "output_type": "stream",
     "text": [
      "Cross-Validation Scores: [0.88748875 0.88388839 0.88698784 0.88198198 0.88513514]\n",
      "Cross-Validation Score Averaged Across Folds: 88.51%.\n",
      "\n",
      "Selected Features: ['alcoholic', 'backyard bbq', 'bake', 'bitters', 'bon appétit', 'brandy', 'bread', 'champagne', 'cheese', 'chicken', 'chile pepper', 'cocktail', 'cocktail party', 'condiment', 'cornmeal', 'créme de cacao', 'crêpe', 'drink', 'fall', 'fortified wine', 'fruit juice', 'gin', 'gourmet', 'harpercollins', 'house & garden', 'lasagna', 'lemon juice', 'lime juice', 'liqueur', 'low cholesterol', 'no sugar added', 'non-alcoholic', 'onion', 'orange juice', 'pasta', 'peanut free', 'pickles', 'punch', 'quick & easy', 'quick and healthy', 'roast', 'rum', 'sauce', 'sauté', 'side', 'soy free', 'spirit', 'thanksgiving', 'tree nut free', 'vegan', 'vegetable', 'vegetarian', 'vermouth', 'vodka', 'weelicious', 'winter', 'leftovers', 'peanut free_soy free', 'drink_alcoholic', 'peanut free_tree nut free']\n",
      "\n"
     ]
    }
   ],
   "source": [
    "# Features & Target\n",
    "y = y_train.map(z)\n",
    "\n",
    "#Pipeline Construction.\n",
    "anova = SelectKBest(f_classif, k=60)\n",
    "svc = SVC(kernel='linear')\n",
    "anova_svc = make_pipeline(anova, svc)\n",
    "\n",
    "#Fitting & Cross-Validation.\n",
    "anova_svc.fit(X_train_dummy,y)\n",
    "scores = cross_val_score(anova_svc, X_train_dummy, y, cv=5)\n",
    "#De-Masking Selected Features.\n",
    "features = anova.get_support(indices=True)  \n",
    "selected_features = list(X_train_dummy.columns[features])\n",
    "\n",
    "#Printing Outcomes.\n",
    "print('Cross-Validation Scores: {}'.format(scores_low))\n",
    "print('Cross-Validation Score Averaged Across Folds: {:.2%}.\\n'.format(scores_low.mean()))\n",
    "print('Selected Features: {}\\n'.format(selected_features))"
   ]
  },
  {
   "cell_type": "code",
   "execution_count": 26,
   "metadata": {
    "ExecuteTime": {
     "end_time": "2019-01-01T22:44:08.217601Z",
     "start_time": "2019-01-01T22:38:48.307221Z"
    }
   },
   "outputs": [
    {
     "name": "stdout",
     "output_type": "stream",
     "text": [
      "Cross-Validation Scores: [0.43030576 0.42420153 0.43493922 0.42767012 0.42651037]\n",
      "Cross-Validation Score Averaged Across Folds: 42.87%.\n",
      "\n"
     ]
    }
   ],
   "source": [
    "svc2 = SVC(probability=True)\n",
    "X = X_train[selected_features]\n",
    "svc2.fit(X,y)\n",
    "\n",
    "scores2 = cross_val_score(svc2, X_train[selected_features], y, cv=5)\n",
    "print('Cross-Validation Scores: {}'.format(scores2))\n",
    "print('Cross-Validation Score Averaged Across Folds: {:.2%}.\\n'.format(scores2.mean()))\n",
    "\n",
    "p_pred = svc2.predict_proba(X_test[selected_features])"
   ]
  },
  {
   "cell_type": "code",
   "execution_count": 27,
   "metadata": {
    "ExecuteTime": {
     "end_time": "2019-01-01T22:44:22.853556Z",
     "start_time": "2019-01-01T22:44:22.841779Z"
    }
   },
   "outputs": [
    {
     "name": "stdout",
     "output_type": "stream",
     "text": [
      "              precision    recall  f1-score   support\n",
      "\n",
      "           0       0.45      0.26      0.33       396\n",
      "           1       0.00      0.00      0.00        31\n",
      "           2       0.00      0.00      0.00        21\n",
      "           3       0.00      0.00      0.00       124\n",
      "           4       0.00      0.00      0.00       341\n",
      "           5       0.33      0.00      0.00      1228\n",
      "           6       0.42      0.98      0.59      1959\n",
      "           7       0.22      0.00      0.01       659\n",
      "\n",
      "   micro avg       0.43      0.43      0.43      4759\n",
      "   macro avg       0.18      0.16      0.12      4759\n",
      "weighted avg       0.33      0.43      0.27      4759\n",
      "\n"
     ]
    }
   ],
   "source": [
    "y_pred_test = p_pred.argmax(axis=1)\n",
    "#Clasification report\n",
    "results = metrics.classification_report(y_true=y_test.map(z), y_pred=y_pred_test)\n",
    "print(results)"
   ]
  },
  {
   "cell_type": "markdown",
   "metadata": {},
   "source": [
    "So by adding these 30 features we are now able to pick up on the 3.75 rating class, but at the cost of 0 and 5 ratings. LASSO regression might next be used to identify features.  \n",
    "\n",
    "**LASSO Regression**  "
   ]
  },
  {
   "cell_type": "code",
   "execution_count": 40,
   "metadata": {
    "ExecuteTime": {
     "end_time": "2019-01-01T22:54:00.804107Z",
     "start_time": "2019-01-01T22:52:50.335767Z"
    },
    "collapsed": true
   },
   "outputs": [
    {
     "ename": "ValueError",
     "evalue": "Classification metrics can't handle a mix of continuous and binary targets",
     "output_type": "error",
     "traceback": [
      "\u001b[0;31m---------------------------------------------------------------------------\u001b[0m",
      "\u001b[0;31mValueError\u001b[0m                                Traceback (most recent call last)",
      "\u001b[0;32m<ipython-input-40-d567b69af839>\u001b[0m in \u001b[0;36m<module>\u001b[0;34m\u001b[0m\n\u001b[1;32m      3\u001b[0m \u001b[0mlassoregr\u001b[0m \u001b[0;34m=\u001b[0m \u001b[0mLogisticRegression\u001b[0m\u001b[0;34m(\u001b[0m\u001b[0mpenalty\u001b[0m \u001b[0;34m=\u001b[0m\u001b[0;34m'l1'\u001b[0m\u001b[0;34m,\u001b[0m \u001b[0msolver\u001b[0m\u001b[0;34m=\u001b[0m\u001b[0msolvers\u001b[0m\u001b[0;34m[\u001b[0m\u001b[0;36m4\u001b[0m\u001b[0;34m]\u001b[0m\u001b[0;34m,\u001b[0m \u001b[0mmulti_class\u001b[0m\u001b[0;34m=\u001b[0m\u001b[0;34m'multinomial'\u001b[0m\u001b[0;34m)\u001b[0m\u001b[0;34m\u001b[0m\u001b[0;34m\u001b[0m\u001b[0m\n\u001b[1;32m      4\u001b[0m \u001b[0mlassoregr\u001b[0m\u001b[0;34m.\u001b[0m\u001b[0mfit\u001b[0m\u001b[0;34m(\u001b[0m\u001b[0mX_train\u001b[0m\u001b[0;34m,\u001b[0m \u001b[0my_train\u001b[0m\u001b[0;34m.\u001b[0m\u001b[0mmap\u001b[0m\u001b[0;34m(\u001b[0m\u001b[0mz\u001b[0m\u001b[0;34m)\u001b[0m\u001b[0;34m)\u001b[0m\u001b[0;34m\u001b[0m\u001b[0;34m\u001b[0m\u001b[0m\n\u001b[0;32m----> 5\u001b[0;31m \u001b[0mtrain_score_lasso\u001b[0m \u001b[0;34m=\u001b[0m \u001b[0mlassoregr\u001b[0m\u001b[0;34m.\u001b[0m\u001b[0mscore\u001b[0m\u001b[0;34m(\u001b[0m\u001b[0mX_train\u001b[0m\u001b[0;34m,\u001b[0m \u001b[0my_train\u001b[0m\u001b[0;34m)\u001b[0m\u001b[0;34m\u001b[0m\u001b[0;34m\u001b[0m\u001b[0m\n\u001b[0m\u001b[1;32m      6\u001b[0m \u001b[0mtest_score_lasso\u001b[0m \u001b[0;34m=\u001b[0m \u001b[0mlassoregr\u001b[0m\u001b[0;34m.\u001b[0m\u001b[0mscore\u001b[0m\u001b[0;34m(\u001b[0m\u001b[0mX_test\u001b[0m\u001b[0;34m,\u001b[0m \u001b[0my_test\u001b[0m\u001b[0;34m)\u001b[0m\u001b[0;34m\u001b[0m\u001b[0;34m\u001b[0m\u001b[0m\n\u001b[1;32m      7\u001b[0m \u001b[0mprint\u001b[0m\u001b[0;34m(\u001b[0m\u001b[0;34m\"Score on train set: {:.3f}\"\u001b[0m\u001b[0;34m.\u001b[0m\u001b[0mformat\u001b[0m\u001b[0;34m(\u001b[0m\u001b[0mtrain_score_lasso\u001b[0m\u001b[0;34m)\u001b[0m\u001b[0;34m)\u001b[0m\u001b[0;34m\u001b[0m\u001b[0;34m\u001b[0m\u001b[0m\n",
      "\u001b[0;32m~/anaconda3/envs/python3.5/lib/python3.6/site-packages/sklearn/base.py\u001b[0m in \u001b[0;36mscore\u001b[0;34m(self, X, y, sample_weight)\u001b[0m\n\u001b[1;32m    286\u001b[0m         \"\"\"\n\u001b[1;32m    287\u001b[0m         \u001b[0;32mfrom\u001b[0m \u001b[0;34m.\u001b[0m\u001b[0mmetrics\u001b[0m \u001b[0;32mimport\u001b[0m \u001b[0maccuracy_score\u001b[0m\u001b[0;34m\u001b[0m\u001b[0;34m\u001b[0m\u001b[0m\n\u001b[0;32m--> 288\u001b[0;31m         \u001b[0;32mreturn\u001b[0m \u001b[0maccuracy_score\u001b[0m\u001b[0;34m(\u001b[0m\u001b[0my\u001b[0m\u001b[0;34m,\u001b[0m \u001b[0mself\u001b[0m\u001b[0;34m.\u001b[0m\u001b[0mpredict\u001b[0m\u001b[0;34m(\u001b[0m\u001b[0mX\u001b[0m\u001b[0;34m)\u001b[0m\u001b[0;34m,\u001b[0m \u001b[0msample_weight\u001b[0m\u001b[0;34m=\u001b[0m\u001b[0msample_weight\u001b[0m\u001b[0;34m)\u001b[0m\u001b[0;34m\u001b[0m\u001b[0;34m\u001b[0m\u001b[0m\n\u001b[0m\u001b[1;32m    289\u001b[0m \u001b[0;34m\u001b[0m\u001b[0m\n\u001b[1;32m    290\u001b[0m \u001b[0;34m\u001b[0m\u001b[0m\n",
      "\u001b[0;32m~/anaconda3/envs/python3.5/lib/python3.6/site-packages/sklearn/metrics/classification.py\u001b[0m in \u001b[0;36maccuracy_score\u001b[0;34m(y_true, y_pred, normalize, sample_weight)\u001b[0m\n\u001b[1;32m    174\u001b[0m \u001b[0;34m\u001b[0m\u001b[0m\n\u001b[1;32m    175\u001b[0m     \u001b[0;31m# Compute accuracy for each possible representation\u001b[0m\u001b[0;34m\u001b[0m\u001b[0;34m\u001b[0m\u001b[0;34m\u001b[0m\u001b[0m\n\u001b[0;32m--> 176\u001b[0;31m     \u001b[0my_type\u001b[0m\u001b[0;34m,\u001b[0m \u001b[0my_true\u001b[0m\u001b[0;34m,\u001b[0m \u001b[0my_pred\u001b[0m \u001b[0;34m=\u001b[0m \u001b[0m_check_targets\u001b[0m\u001b[0;34m(\u001b[0m\u001b[0my_true\u001b[0m\u001b[0;34m,\u001b[0m \u001b[0my_pred\u001b[0m\u001b[0;34m)\u001b[0m\u001b[0;34m\u001b[0m\u001b[0;34m\u001b[0m\u001b[0m\n\u001b[0m\u001b[1;32m    177\u001b[0m     \u001b[0mcheck_consistent_length\u001b[0m\u001b[0;34m(\u001b[0m\u001b[0my_true\u001b[0m\u001b[0;34m,\u001b[0m \u001b[0my_pred\u001b[0m\u001b[0;34m,\u001b[0m \u001b[0msample_weight\u001b[0m\u001b[0;34m)\u001b[0m\u001b[0;34m\u001b[0m\u001b[0;34m\u001b[0m\u001b[0m\n\u001b[1;32m    178\u001b[0m     \u001b[0;32mif\u001b[0m \u001b[0my_type\u001b[0m\u001b[0;34m.\u001b[0m\u001b[0mstartswith\u001b[0m\u001b[0;34m(\u001b[0m\u001b[0;34m'multilabel'\u001b[0m\u001b[0;34m)\u001b[0m\u001b[0;34m:\u001b[0m\u001b[0;34m\u001b[0m\u001b[0;34m\u001b[0m\u001b[0m\n",
      "\u001b[0;32m~/anaconda3/envs/python3.5/lib/python3.6/site-packages/sklearn/metrics/classification.py\u001b[0m in \u001b[0;36m_check_targets\u001b[0;34m(y_true, y_pred)\u001b[0m\n\u001b[1;32m     79\u001b[0m     \u001b[0;32mif\u001b[0m \u001b[0mlen\u001b[0m\u001b[0;34m(\u001b[0m\u001b[0my_type\u001b[0m\u001b[0;34m)\u001b[0m \u001b[0;34m>\u001b[0m \u001b[0;36m1\u001b[0m\u001b[0;34m:\u001b[0m\u001b[0;34m\u001b[0m\u001b[0;34m\u001b[0m\u001b[0m\n\u001b[1;32m     80\u001b[0m         raise ValueError(\"Classification metrics can't handle a mix of {0} \"\n\u001b[0;32m---> 81\u001b[0;31m                          \"and {1} targets\".format(type_true, type_pred))\n\u001b[0m\u001b[1;32m     82\u001b[0m \u001b[0;34m\u001b[0m\u001b[0m\n\u001b[1;32m     83\u001b[0m     \u001b[0;31m# We can't have more than one value on y_type => The set is no more needed\u001b[0m\u001b[0;34m\u001b[0m\u001b[0;34m\u001b[0m\u001b[0;34m\u001b[0m\u001b[0m\n",
      "\u001b[0;31mValueError\u001b[0m: Classification metrics can't handle a mix of continuous and binary targets"
     ]
    }
   ],
   "source": [
    "from sklearn.linear_model import LogisticRegression\n",
    "solvers = ['newton-cg', 'lbfgs', 'liblinear', 'sag', 'saga']\n",
    "lassoregr = LogisticRegression(penalty ='l1', solver=solvers[4], multi_class='multinomial')\n",
    "lassoregr.fit(X_train, y_train.map(z))"
   ]
  },
  {
   "cell_type": "code",
   "execution_count": 51,
   "metadata": {
    "ExecuteTime": {
     "end_time": "2019-01-01T22:58:57.575509Z",
     "start_time": "2019-01-01T22:58:57.540681Z"
    }
   },
   "outputs": [
    {
     "data": {
      "text/html": [
       "<div>\n",
       "<style scoped>\n",
       "    .dataframe tbody tr th:only-of-type {\n",
       "        vertical-align: middle;\n",
       "    }\n",
       "\n",
       "    .dataframe tbody tr th {\n",
       "        vertical-align: top;\n",
       "    }\n",
       "\n",
       "    .dataframe thead th {\n",
       "        text-align: right;\n",
       "    }\n",
       "</style>\n",
       "<table border=\"1\" class=\"dataframe\">\n",
       "  <thead>\n",
       "    <tr style=\"text-align: right;\">\n",
       "      <th></th>\n",
       "      <th>0</th>\n",
       "      <th>1</th>\n",
       "      <th>2</th>\n",
       "      <th>3</th>\n",
       "      <th>4</th>\n",
       "      <th>5</th>\n",
       "      <th>6</th>\n",
       "      <th>7</th>\n",
       "    </tr>\n",
       "  </thead>\n",
       "  <tbody>\n",
       "    <tr>\n",
       "      <th>calories</th>\n",
       "      <td>-9.980576e-22</td>\n",
       "      <td>-1.173644e-21</td>\n",
       "      <td>-1.180486e-21</td>\n",
       "      <td>-1.128764e-21</td>\n",
       "      <td>-9.926100e-22</td>\n",
       "      <td>-3.342642e-22</td>\n",
       "      <td>2.307668e-21</td>\n",
       "      <td>3.500160e-21</td>\n",
       "    </tr>\n",
       "    <tr>\n",
       "      <th>protein</th>\n",
       "      <td>-3.918569e-23</td>\n",
       "      <td>-4.462204e-23</td>\n",
       "      <td>-4.514650e-23</td>\n",
       "      <td>-4.307765e-23</td>\n",
       "      <td>-3.691815e-23</td>\n",
       "      <td>-6.435165e-24</td>\n",
       "      <td>2.105342e-23</td>\n",
       "      <td>1.943341e-22</td>\n",
       "    </tr>\n",
       "    <tr>\n",
       "      <th>fat</th>\n",
       "      <td>-4.461992e-23</td>\n",
       "      <td>-5.328645e-23</td>\n",
       "      <td>-5.337042e-23</td>\n",
       "      <td>-5.069906e-23</td>\n",
       "      <td>-4.298885e-23</td>\n",
       "      <td>-5.347411e-24</td>\n",
       "      <td>1.618871e-22</td>\n",
       "      <td>8.842730e-23</td>\n",
       "    </tr>\n",
       "    <tr>\n",
       "      <th>sodium</th>\n",
       "      <td>-1.132785e-21</td>\n",
       "      <td>-1.425945e-21</td>\n",
       "      <td>-1.421294e-21</td>\n",
       "      <td>-1.357832e-21</td>\n",
       "      <td>-1.213062e-21</td>\n",
       "      <td>-1.634740e-22</td>\n",
       "      <td>2.089790e-21</td>\n",
       "      <td>4.624604e-21</td>\n",
       "    </tr>\n",
       "    <tr>\n",
       "      <th>#cakeweek</th>\n",
       "      <td>0.000000e+00</td>\n",
       "      <td>0.000000e+00</td>\n",
       "      <td>0.000000e+00</td>\n",
       "      <td>0.000000e+00</td>\n",
       "      <td>0.000000e+00</td>\n",
       "      <td>7.850701e-28</td>\n",
       "      <td>0.000000e+00</td>\n",
       "      <td>0.000000e+00</td>\n",
       "    </tr>\n",
       "    <tr>\n",
       "      <th>#wasteless</th>\n",
       "      <td>0.000000e+00</td>\n",
       "      <td>0.000000e+00</td>\n",
       "      <td>0.000000e+00</td>\n",
       "      <td>0.000000e+00</td>\n",
       "      <td>0.000000e+00</td>\n",
       "      <td>0.000000e+00</td>\n",
       "      <td>0.000000e+00</td>\n",
       "      <td>0.000000e+00</td>\n",
       "    </tr>\n",
       "    <tr>\n",
       "      <th>22-minute meals</th>\n",
       "      <td>-7.436133e-29</td>\n",
       "      <td>-7.436133e-29</td>\n",
       "      <td>-7.436133e-29</td>\n",
       "      <td>-7.436133e-29</td>\n",
       "      <td>-7.436133e-29</td>\n",
       "      <td>0.000000e+00</td>\n",
       "      <td>1.641791e-27</td>\n",
       "      <td>0.000000e+00</td>\n",
       "    </tr>\n",
       "    <tr>\n",
       "      <th>3-ingredient recipes</th>\n",
       "      <td>1.812755e-27</td>\n",
       "      <td>0.000000e+00</td>\n",
       "      <td>-5.143416e-28</td>\n",
       "      <td>-5.143416e-28</td>\n",
       "      <td>0.000000e+00</td>\n",
       "      <td>7.296658e-29</td>\n",
       "      <td>0.000000e+00</td>\n",
       "      <td>0.000000e+00</td>\n",
       "    </tr>\n",
       "    <tr>\n",
       "      <th>30 days of groceries</th>\n",
       "      <td>0.000000e+00</td>\n",
       "      <td>0.000000e+00</td>\n",
       "      <td>0.000000e+00</td>\n",
       "      <td>0.000000e+00</td>\n",
       "      <td>0.000000e+00</td>\n",
       "      <td>2.312250e-28</td>\n",
       "      <td>0.000000e+00</td>\n",
       "      <td>0.000000e+00</td>\n",
       "    </tr>\n",
       "    <tr>\n",
       "      <th>advance prep required</th>\n",
       "      <td>1.743212e-27</td>\n",
       "      <td>-2.339009e-27</td>\n",
       "      <td>-3.447194e-27</td>\n",
       "      <td>-1.728337e-27</td>\n",
       "      <td>-7.262074e-30</td>\n",
       "      <td>2.293851e-27</td>\n",
       "      <td>2.328199e-27</td>\n",
       "      <td>1.154265e-27</td>\n",
       "    </tr>\n",
       "    <tr>\n",
       "      <th>alabama</th>\n",
       "      <td>0.000000e+00</td>\n",
       "      <td>0.000000e+00</td>\n",
       "      <td>0.000000e+00</td>\n",
       "      <td>0.000000e+00</td>\n",
       "      <td>0.000000e+00</td>\n",
       "      <td>0.000000e+00</td>\n",
       "      <td>0.000000e+00</td>\n",
       "      <td>0.000000e+00</td>\n",
       "    </tr>\n",
       "    <tr>\n",
       "      <th>alaska</th>\n",
       "      <td>0.000000e+00</td>\n",
       "      <td>0.000000e+00</td>\n",
       "      <td>0.000000e+00</td>\n",
       "      <td>0.000000e+00</td>\n",
       "      <td>0.000000e+00</td>\n",
       "      <td>0.000000e+00</td>\n",
       "      <td>0.000000e+00</td>\n",
       "      <td>0.000000e+00</td>\n",
       "    </tr>\n",
       "    <tr>\n",
       "      <th>alcoholic</th>\n",
       "      <td>7.127592e-26</td>\n",
       "      <td>-2.350617e-26</td>\n",
       "      <td>-2.752278e-26</td>\n",
       "      <td>-2.349463e-26</td>\n",
       "      <td>-1.950631e-26</td>\n",
       "      <td>-2.841862e-27</td>\n",
       "      <td>-3.353835e-27</td>\n",
       "      <td>3.123672e-26</td>\n",
       "    </tr>\n",
       "    <tr>\n",
       "      <th>almond</th>\n",
       "      <td>-5.794340e-27</td>\n",
       "      <td>-2.191258e-26</td>\n",
       "      <td>-2.307776e-26</td>\n",
       "      <td>-2.020575e-26</td>\n",
       "      <td>-1.151877e-26</td>\n",
       "      <td>1.879624e-26</td>\n",
       "      <td>5.930910e-26</td>\n",
       "      <td>5.547133e-27</td>\n",
       "    </tr>\n",
       "    <tr>\n",
       "      <th>amaretto</th>\n",
       "      <td>-1.012260e-27</td>\n",
       "      <td>-1.012260e-27</td>\n",
       "      <td>-1.012260e-27</td>\n",
       "      <td>-1.012260e-27</td>\n",
       "      <td>0.000000e+00</td>\n",
       "      <td>2.423547e-27</td>\n",
       "      <td>3.075727e-27</td>\n",
       "      <td>0.000000e+00</td>\n",
       "    </tr>\n",
       "    <tr>\n",
       "      <th>anchovy</th>\n",
       "      <td>1.102247e-27</td>\n",
       "      <td>-6.570532e-28</td>\n",
       "      <td>-6.570532e-28</td>\n",
       "      <td>-6.570532e-28</td>\n",
       "      <td>-6.570532e-28</td>\n",
       "      <td>-6.996657e-29</td>\n",
       "      <td>4.950812e-28</td>\n",
       "      <td>2.235523e-27</td>\n",
       "    </tr>\n",
       "    <tr>\n",
       "      <th>anise</th>\n",
       "      <td>-2.019313e-27</td>\n",
       "      <td>-3.741912e-27</td>\n",
       "      <td>-3.169237e-27</td>\n",
       "      <td>-2.590971e-27</td>\n",
       "      <td>-3.046748e-28</td>\n",
       "      <td>7.177540e-27</td>\n",
       "      <td>6.634796e-27</td>\n",
       "      <td>0.000000e+00</td>\n",
       "    </tr>\n",
       "    <tr>\n",
       "      <th>anniversary</th>\n",
       "      <td>-3.208167e-27</td>\n",
       "      <td>-3.802091e-27</td>\n",
       "      <td>-3.223790e-27</td>\n",
       "      <td>-2.657600e-27</td>\n",
       "      <td>-3.220323e-27</td>\n",
       "      <td>5.406764e-27</td>\n",
       "      <td>1.106678e-26</td>\n",
       "      <td>7.889907e-28</td>\n",
       "    </tr>\n",
       "    <tr>\n",
       "      <th>anthony bourdain</th>\n",
       "      <td>0.000000e+00</td>\n",
       "      <td>0.000000e+00</td>\n",
       "      <td>0.000000e+00</td>\n",
       "      <td>0.000000e+00</td>\n",
       "      <td>0.000000e+00</td>\n",
       "      <td>0.000000e+00</td>\n",
       "      <td>0.000000e+00</td>\n",
       "      <td>0.000000e+00</td>\n",
       "    </tr>\n",
       "    <tr>\n",
       "      <th>aperitif</th>\n",
       "      <td>2.151638e-28</td>\n",
       "      <td>0.000000e+00</td>\n",
       "      <td>0.000000e+00</td>\n",
       "      <td>0.000000e+00</td>\n",
       "      <td>0.000000e+00</td>\n",
       "      <td>2.206865e-28</td>\n",
       "      <td>0.000000e+00</td>\n",
       "      <td>0.000000e+00</td>\n",
       "    </tr>\n",
       "    <tr>\n",
       "      <th>appetizer</th>\n",
       "      <td>-3.529775e-26</td>\n",
       "      <td>-4.911109e-26</td>\n",
       "      <td>-4.851055e-26</td>\n",
       "      <td>-3.874952e-26</td>\n",
       "      <td>-1.300315e-26</td>\n",
       "      <td>5.866752e-26</td>\n",
       "      <td>1.365361e-25</td>\n",
       "      <td>-8.244331e-27</td>\n",
       "    </tr>\n",
       "    <tr>\n",
       "      <th>apple</th>\n",
       "      <td>-1.421556e-26</td>\n",
       "      <td>-2.511838e-26</td>\n",
       "      <td>-2.517662e-26</td>\n",
       "      <td>-2.115831e-26</td>\n",
       "      <td>-1.191476e-26</td>\n",
       "      <td>2.775202e-26</td>\n",
       "      <td>7.432839e-26</td>\n",
       "      <td>-2.209715e-27</td>\n",
       "    </tr>\n",
       "    <tr>\n",
       "      <th>apple juice</th>\n",
       "      <td>0.000000e+00</td>\n",
       "      <td>0.000000e+00</td>\n",
       "      <td>0.000000e+00</td>\n",
       "      <td>0.000000e+00</td>\n",
       "      <td>0.000000e+00</td>\n",
       "      <td>0.000000e+00</td>\n",
       "      <td>0.000000e+00</td>\n",
       "      <td>0.000000e+00</td>\n",
       "    </tr>\n",
       "    <tr>\n",
       "      <th>apricot</th>\n",
       "      <td>-4.152541e-27</td>\n",
       "      <td>-1.048556e-26</td>\n",
       "      <td>-1.048556e-26</td>\n",
       "      <td>-8.204871e-27</td>\n",
       "      <td>-5.280655e-27</td>\n",
       "      <td>8.999891e-27</td>\n",
       "      <td>3.039117e-26</td>\n",
       "      <td>3.706836e-28</td>\n",
       "    </tr>\n",
       "    <tr>\n",
       "      <th>arizona</th>\n",
       "      <td>0.000000e+00</td>\n",
       "      <td>0.000000e+00</td>\n",
       "      <td>0.000000e+00</td>\n",
       "      <td>0.000000e+00</td>\n",
       "      <td>0.000000e+00</td>\n",
       "      <td>2.139683e-28</td>\n",
       "      <td>2.147483e-28</td>\n",
       "      <td>0.000000e+00</td>\n",
       "    </tr>\n",
       "    <tr>\n",
       "      <th>artichoke</th>\n",
       "      <td>-2.532555e-27</td>\n",
       "      <td>-4.821166e-27</td>\n",
       "      <td>-5.383161e-27</td>\n",
       "      <td>-3.685139e-27</td>\n",
       "      <td>-1.946749e-27</td>\n",
       "      <td>1.128540e-26</td>\n",
       "      <td>1.131937e-26</td>\n",
       "      <td>-1.950697e-27</td>\n",
       "    </tr>\n",
       "    <tr>\n",
       "      <th>arugula</th>\n",
       "      <td>-6.669969e-27</td>\n",
       "      <td>-1.009028e-26</td>\n",
       "      <td>-1.009028e-26</td>\n",
       "      <td>-8.954095e-27</td>\n",
       "      <td>-4.871690e-27</td>\n",
       "      <td>8.340373e-27</td>\n",
       "      <td>3.427210e-26</td>\n",
       "      <td>0.000000e+00</td>\n",
       "    </tr>\n",
       "    <tr>\n",
       "      <th>asian pear</th>\n",
       "      <td>0.000000e+00</td>\n",
       "      <td>-2.207413e-28</td>\n",
       "      <td>-2.207413e-28</td>\n",
       "      <td>-2.207413e-28</td>\n",
       "      <td>0.000000e+00</td>\n",
       "      <td>9.368318e-28</td>\n",
       "      <td>9.535666e-28</td>\n",
       "      <td>0.000000e+00</td>\n",
       "    </tr>\n",
       "    <tr>\n",
       "      <th>asparagus</th>\n",
       "      <td>-4.835738e-27</td>\n",
       "      <td>-6.522612e-27</td>\n",
       "      <td>-7.114281e-27</td>\n",
       "      <td>-5.393187e-27</td>\n",
       "      <td>-2.526829e-27</td>\n",
       "      <td>8.979009e-27</td>\n",
       "      <td>2.044259e-26</td>\n",
       "      <td>-7.634137e-28</td>\n",
       "    </tr>\n",
       "    <tr>\n",
       "      <th>aspen</th>\n",
       "      <td>0.000000e+00</td>\n",
       "      <td>0.000000e+00</td>\n",
       "      <td>0.000000e+00</td>\n",
       "      <td>0.000000e+00</td>\n",
       "      <td>0.000000e+00</td>\n",
       "      <td>0.000000e+00</td>\n",
       "      <td>0.000000e+00</td>\n",
       "      <td>0.000000e+00</td>\n",
       "    </tr>\n",
       "    <tr>\n",
       "      <th>...</th>\n",
       "      <td>...</td>\n",
       "      <td>...</td>\n",
       "      <td>...</td>\n",
       "      <td>...</td>\n",
       "      <td>...</td>\n",
       "      <td>...</td>\n",
       "      <td>...</td>\n",
       "      <td>...</td>\n",
       "    </tr>\n",
       "    <tr>\n",
       "      <th>yuca</th>\n",
       "      <td>0.000000e+00</td>\n",
       "      <td>0.000000e+00</td>\n",
       "      <td>0.000000e+00</td>\n",
       "      <td>0.000000e+00</td>\n",
       "      <td>0.000000e+00</td>\n",
       "      <td>0.000000e+00</td>\n",
       "      <td>8.032753e-28</td>\n",
       "      <td>0.000000e+00</td>\n",
       "    </tr>\n",
       "    <tr>\n",
       "      <th>zucchini</th>\n",
       "      <td>-7.600368e-27</td>\n",
       "      <td>-9.918194e-27</td>\n",
       "      <td>-1.108024e-26</td>\n",
       "      <td>-8.187080e-27</td>\n",
       "      <td>-1.312724e-27</td>\n",
       "      <td>2.171202e-26</td>\n",
       "      <td>2.285639e-26</td>\n",
       "      <td>-4.182496e-27</td>\n",
       "    </tr>\n",
       "    <tr>\n",
       "      <th>cookbooks</th>\n",
       "      <td>0.000000e+00</td>\n",
       "      <td>0.000000e+00</td>\n",
       "      <td>0.000000e+00</td>\n",
       "      <td>0.000000e+00</td>\n",
       "      <td>0.000000e+00</td>\n",
       "      <td>0.000000e+00</td>\n",
       "      <td>0.000000e+00</td>\n",
       "      <td>0.000000e+00</td>\n",
       "    </tr>\n",
       "    <tr>\n",
       "      <th>leftovers</th>\n",
       "      <td>1.941097e-27</td>\n",
       "      <td>0.000000e+00</td>\n",
       "      <td>0.000000e+00</td>\n",
       "      <td>0.000000e+00</td>\n",
       "      <td>0.000000e+00</td>\n",
       "      <td>0.000000e+00</td>\n",
       "      <td>0.000000e+00</td>\n",
       "      <td>0.000000e+00</td>\n",
       "    </tr>\n",
       "    <tr>\n",
       "      <th>snack</th>\n",
       "      <td>2.353823e-27</td>\n",
       "      <td>0.000000e+00</td>\n",
       "      <td>-5.007936e-28</td>\n",
       "      <td>-5.007936e-28</td>\n",
       "      <td>0.000000e+00</td>\n",
       "      <td>0.000000e+00</td>\n",
       "      <td>0.000000e+00</td>\n",
       "      <td>8.139068e-29</td>\n",
       "    </tr>\n",
       "    <tr>\n",
       "      <th>snack week</th>\n",
       "      <td>2.871632e-28</td>\n",
       "      <td>0.000000e+00</td>\n",
       "      <td>-2.875620e-28</td>\n",
       "      <td>-2.875620e-28</td>\n",
       "      <td>0.000000e+00</td>\n",
       "      <td>0.000000e+00</td>\n",
       "      <td>0.000000e+00</td>\n",
       "      <td>2.945792e-28</td>\n",
       "    </tr>\n",
       "    <tr>\n",
       "      <th>turkey</th>\n",
       "      <td>-3.075642e-27</td>\n",
       "      <td>-1.575367e-26</td>\n",
       "      <td>-1.631765e-26</td>\n",
       "      <td>-1.514840e-26</td>\n",
       "      <td>-7.699961e-27</td>\n",
       "      <td>5.318704e-27</td>\n",
       "      <td>3.507090e-26</td>\n",
       "      <td>1.877406e-26</td>\n",
       "    </tr>\n",
       "    <tr>\n",
       "      <th>calories_sodium</th>\n",
       "      <td>-6.240544e-15</td>\n",
       "      <td>-6.240787e-15</td>\n",
       "      <td>-6.240794e-15</td>\n",
       "      <td>-6.240757e-15</td>\n",
       "      <td>-6.240638e-15</td>\n",
       "      <td>-6.239272e-15</td>\n",
       "      <td>2.461812e-14</td>\n",
       "      <td>1.282467e-14</td>\n",
       "    </tr>\n",
       "    <tr>\n",
       "      <th>calories_fat</th>\n",
       "      <td>-2.802870e-16</td>\n",
       "      <td>-2.803072e-16</td>\n",
       "      <td>-2.803065e-16</td>\n",
       "      <td>-2.803052e-16</td>\n",
       "      <td>-2.802982e-16</td>\n",
       "      <td>-2.802140e-16</td>\n",
       "      <td>1.771372e-15</td>\n",
       "      <td>-8.965392e-17</td>\n",
       "    </tr>\n",
       "    <tr>\n",
       "      <th>sodium_fat</th>\n",
       "      <td>-2.563434e-16</td>\n",
       "      <td>-2.563581e-16</td>\n",
       "      <td>-2.563582e-16</td>\n",
       "      <td>-2.563562e-16</td>\n",
       "      <td>-2.563489e-16</td>\n",
       "      <td>-2.562745e-16</td>\n",
       "      <td>1.622414e-15</td>\n",
       "      <td>-8.437475e-17</td>\n",
       "    </tr>\n",
       "    <tr>\n",
       "      <th>peanut free_soy free</th>\n",
       "      <td>-1.719631e-25</td>\n",
       "      <td>-3.017682e-25</td>\n",
       "      <td>-3.058210e-25</td>\n",
       "      <td>-2.505107e-25</td>\n",
       "      <td>-1.204685e-25</td>\n",
       "      <td>3.176800e-25</td>\n",
       "      <td>7.980863e-25</td>\n",
       "      <td>3.590934e-26</td>\n",
       "    </tr>\n",
       "    <tr>\n",
       "      <th>pescatarian_kosher</th>\n",
       "      <td>-1.079821e-25</td>\n",
       "      <td>-2.077827e-25</td>\n",
       "      <td>-2.141491e-25</td>\n",
       "      <td>-1.737519e-25</td>\n",
       "      <td>-6.546242e-26</td>\n",
       "      <td>2.224788e-25</td>\n",
       "      <td>5.288109e-25</td>\n",
       "      <td>1.898456e-26</td>\n",
       "    </tr>\n",
       "    <tr>\n",
       "      <th>drink_alcoholic</th>\n",
       "      <td>6.960739e-26</td>\n",
       "      <td>-2.285919e-26</td>\n",
       "      <td>-2.687580e-26</td>\n",
       "      <td>-2.284765e-26</td>\n",
       "      <td>-1.943087e-26</td>\n",
       "      <td>-2.194930e-27</td>\n",
       "      <td>-3.862148e-27</td>\n",
       "      <td>3.075011e-26</td>\n",
       "    </tr>\n",
       "    <tr>\n",
       "      <th>peanut free_tree nut free</th>\n",
       "      <td>-1.497936e-25</td>\n",
       "      <td>-2.571270e-25</td>\n",
       "      <td>-2.606251e-25</td>\n",
       "      <td>-2.117552e-25</td>\n",
       "      <td>-1.027949e-25</td>\n",
       "      <td>2.857236e-25</td>\n",
       "      <td>6.708718e-25</td>\n",
       "      <td>2.664424e-26</td>\n",
       "    </tr>\n",
       "    <tr>\n",
       "      <th>portland_oregon</th>\n",
       "      <td>7.952046e-28</td>\n",
       "      <td>0.000000e+00</td>\n",
       "      <td>0.000000e+00</td>\n",
       "      <td>0.000000e+00</td>\n",
       "      <td>0.000000e+00</td>\n",
       "      <td>0.000000e+00</td>\n",
       "      <td>0.000000e+00</td>\n",
       "      <td>0.000000e+00</td>\n",
       "    </tr>\n",
       "    <tr>\n",
       "      <th>soy free_tree nut free</th>\n",
       "      <td>-1.420662e-25</td>\n",
       "      <td>-2.488474e-25</td>\n",
       "      <td>-2.494670e-25</td>\n",
       "      <td>-2.040241e-25</td>\n",
       "      <td>-9.850516e-26</td>\n",
       "      <td>2.709562e-25</td>\n",
       "      <td>6.479438e-25</td>\n",
       "      <td>2.515368e-26</td>\n",
       "    </tr>\n",
       "    <tr>\n",
       "      <th>sodium_protein</th>\n",
       "      <td>-1.477492e-16</td>\n",
       "      <td>-1.477628e-16</td>\n",
       "      <td>-1.477636e-16</td>\n",
       "      <td>-1.477620e-16</td>\n",
       "      <td>-1.477520e-16</td>\n",
       "      <td>-1.476536e-16</td>\n",
       "      <td>-2.804191e-17</td>\n",
       "      <td>9.144851e-16</td>\n",
       "    </tr>\n",
       "    <tr>\n",
       "      <th>vegetarian_pescatarian</th>\n",
       "      <td>-1.010227e-25</td>\n",
       "      <td>-1.967737e-25</td>\n",
       "      <td>-2.031401e-25</td>\n",
       "      <td>-1.644968e-25</td>\n",
       "      <td>-6.366878e-26</td>\n",
       "      <td>2.115811e-25</td>\n",
       "      <td>5.007928e-25</td>\n",
       "      <td>1.787481e-26</td>\n",
       "    </tr>\n",
       "    <tr>\n",
       "      <th>snack week_snack</th>\n",
       "      <td>3.584920e-28</td>\n",
       "      <td>0.000000e+00</td>\n",
       "      <td>-2.158297e-28</td>\n",
       "      <td>-2.158297e-28</td>\n",
       "      <td>0.000000e+00</td>\n",
       "      <td>0.000000e+00</td>\n",
       "      <td>0.000000e+00</td>\n",
       "      <td>3.663076e-28</td>\n",
       "    </tr>\n",
       "    <tr>\n",
       "      <th>pescatarian_soy free</th>\n",
       "      <td>-1.114299e-25</td>\n",
       "      <td>-2.176418e-25</td>\n",
       "      <td>-2.211130e-25</td>\n",
       "      <td>-1.801443e-25</td>\n",
       "      <td>-7.015962e-26</td>\n",
       "      <td>2.242132e-25</td>\n",
       "      <td>5.573321e-25</td>\n",
       "      <td>2.008762e-26</td>\n",
       "    </tr>\n",
       "    <tr>\n",
       "      <th>kosher_vegetarian</th>\n",
       "      <td>-1.022478e-25</td>\n",
       "      <td>-1.985715e-25</td>\n",
       "      <td>-2.049380e-25</td>\n",
       "      <td>-1.662947e-25</td>\n",
       "      <td>-6.432492e-26</td>\n",
       "      <td>2.132124e-25</td>\n",
       "      <td>5.082515e-25</td>\n",
       "      <td>1.606130e-26</td>\n",
       "    </tr>\n",
       "    <tr>\n",
       "      <th>peanut free_pescatarian</th>\n",
       "      <td>-1.136084e-25</td>\n",
       "      <td>-2.192411e-25</td>\n",
       "      <td>-2.261817e-25</td>\n",
       "      <td>-1.811677e-25</td>\n",
       "      <td>-7.121031e-26</td>\n",
       "      <td>2.284058e-25</td>\n",
       "      <td>5.656192e-25</td>\n",
       "      <td>1.852837e-26</td>\n",
       "    </tr>\n",
       "    <tr>\n",
       "      <th>peanut free_kosher</th>\n",
       "      <td>-1.189890e-25</td>\n",
       "      <td>-2.211886e-25</td>\n",
       "      <td>-2.280732e-25</td>\n",
       "      <td>-1.842178e-25</td>\n",
       "      <td>-7.078621e-26</td>\n",
       "      <td>2.418109e-25</td>\n",
       "      <td>5.614019e-25</td>\n",
       "      <td>2.118615e-26</td>\n",
       "    </tr>\n",
       "    <tr>\n",
       "      <th>soy free_kosher</th>\n",
       "      <td>-1.150246e-25</td>\n",
       "      <td>-2.189424e-25</td>\n",
       "      <td>-2.217994e-25</td>\n",
       "      <td>-1.808561e-25</td>\n",
       "      <td>-7.027740e-26</td>\n",
       "      <td>2.348406e-25</td>\n",
       "      <td>5.526829e-25</td>\n",
       "      <td>2.052064e-26</td>\n",
       "    </tr>\n",
       "    <tr>\n",
       "      <th>calories_protein</th>\n",
       "      <td>-1.357485e-16</td>\n",
       "      <td>-1.357586e-16</td>\n",
       "      <td>-1.357596e-16</td>\n",
       "      <td>-1.357580e-16</td>\n",
       "      <td>-1.357508e-16</td>\n",
       "      <td>-1.356939e-16</td>\n",
       "      <td>3.290880e-17</td>\n",
       "      <td>7.815606e-16</td>\n",
       "    </tr>\n",
       "    <tr>\n",
       "      <th>brunch_breakfast</th>\n",
       "      <td>-8.965866e-27</td>\n",
       "      <td>-2.099393e-26</td>\n",
       "      <td>-2.100909e-26</td>\n",
       "      <td>-1.697048e-26</td>\n",
       "      <td>-9.576978e-27</td>\n",
       "      <td>2.732843e-26</td>\n",
       "      <td>4.934359e-26</td>\n",
       "      <td>1.988787e-27</td>\n",
       "    </tr>\n",
       "    <tr>\n",
       "      <th>kentucky_louisville</th>\n",
       "      <td>0.000000e+00</td>\n",
       "      <td>0.000000e+00</td>\n",
       "      <td>0.000000e+00</td>\n",
       "      <td>0.000000e+00</td>\n",
       "      <td>0.000000e+00</td>\n",
       "      <td>0.000000e+00</td>\n",
       "      <td>0.000000e+00</td>\n",
       "      <td>0.000000e+00</td>\n",
       "    </tr>\n",
       "    <tr>\n",
       "      <th>denver_omelet</th>\n",
       "      <td>0.000000e+00</td>\n",
       "      <td>0.000000e+00</td>\n",
       "      <td>0.000000e+00</td>\n",
       "      <td>0.000000e+00</td>\n",
       "      <td>0.000000e+00</td>\n",
       "      <td>0.000000e+00</td>\n",
       "      <td>0.000000e+00</td>\n",
       "      <td>0.000000e+00</td>\n",
       "    </tr>\n",
       "    <tr>\n",
       "      <th>louisiana_kitchen olympics</th>\n",
       "      <td>0.000000e+00</td>\n",
       "      <td>0.000000e+00</td>\n",
       "      <td>0.000000e+00</td>\n",
       "      <td>0.000000e+00</td>\n",
       "      <td>0.000000e+00</td>\n",
       "      <td>0.000000e+00</td>\n",
       "      <td>0.000000e+00</td>\n",
       "      <td>0.000000e+00</td>\n",
       "    </tr>\n",
       "    <tr>\n",
       "      <th>new orleans_louisiana</th>\n",
       "      <td>0.000000e+00</td>\n",
       "      <td>0.000000e+00</td>\n",
       "      <td>0.000000e+00</td>\n",
       "      <td>0.000000e+00</td>\n",
       "      <td>0.000000e+00</td>\n",
       "      <td>0.000000e+00</td>\n",
       "      <td>0.000000e+00</td>\n",
       "      <td>0.000000e+00</td>\n",
       "    </tr>\n",
       "  </tbody>\n",
       "</table>\n",
       "<p>701 rows × 8 columns</p>\n",
       "</div>"
      ],
      "text/plain": [
       "                                       0             1             2  \\\n",
       "calories                   -9.980576e-22 -1.173644e-21 -1.180486e-21   \n",
       "protein                    -3.918569e-23 -4.462204e-23 -4.514650e-23   \n",
       "fat                        -4.461992e-23 -5.328645e-23 -5.337042e-23   \n",
       "sodium                     -1.132785e-21 -1.425945e-21 -1.421294e-21   \n",
       "#cakeweek                   0.000000e+00  0.000000e+00  0.000000e+00   \n",
       "#wasteless                  0.000000e+00  0.000000e+00  0.000000e+00   \n",
       "22-minute meals            -7.436133e-29 -7.436133e-29 -7.436133e-29   \n",
       "3-ingredient recipes        1.812755e-27  0.000000e+00 -5.143416e-28   \n",
       "30 days of groceries        0.000000e+00  0.000000e+00  0.000000e+00   \n",
       "advance prep required       1.743212e-27 -2.339009e-27 -3.447194e-27   \n",
       "alabama                     0.000000e+00  0.000000e+00  0.000000e+00   \n",
       "alaska                      0.000000e+00  0.000000e+00  0.000000e+00   \n",
       "alcoholic                   7.127592e-26 -2.350617e-26 -2.752278e-26   \n",
       "almond                     -5.794340e-27 -2.191258e-26 -2.307776e-26   \n",
       "amaretto                   -1.012260e-27 -1.012260e-27 -1.012260e-27   \n",
       "anchovy                     1.102247e-27 -6.570532e-28 -6.570532e-28   \n",
       "anise                      -2.019313e-27 -3.741912e-27 -3.169237e-27   \n",
       "anniversary                -3.208167e-27 -3.802091e-27 -3.223790e-27   \n",
       "anthony bourdain            0.000000e+00  0.000000e+00  0.000000e+00   \n",
       "aperitif                    2.151638e-28  0.000000e+00  0.000000e+00   \n",
       "appetizer                  -3.529775e-26 -4.911109e-26 -4.851055e-26   \n",
       "apple                      -1.421556e-26 -2.511838e-26 -2.517662e-26   \n",
       "apple juice                 0.000000e+00  0.000000e+00  0.000000e+00   \n",
       "apricot                    -4.152541e-27 -1.048556e-26 -1.048556e-26   \n",
       "arizona                     0.000000e+00  0.000000e+00  0.000000e+00   \n",
       "artichoke                  -2.532555e-27 -4.821166e-27 -5.383161e-27   \n",
       "arugula                    -6.669969e-27 -1.009028e-26 -1.009028e-26   \n",
       "asian pear                  0.000000e+00 -2.207413e-28 -2.207413e-28   \n",
       "asparagus                  -4.835738e-27 -6.522612e-27 -7.114281e-27   \n",
       "aspen                       0.000000e+00  0.000000e+00  0.000000e+00   \n",
       "...                                  ...           ...           ...   \n",
       "yuca                        0.000000e+00  0.000000e+00  0.000000e+00   \n",
       "zucchini                   -7.600368e-27 -9.918194e-27 -1.108024e-26   \n",
       "cookbooks                   0.000000e+00  0.000000e+00  0.000000e+00   \n",
       "leftovers                   1.941097e-27  0.000000e+00  0.000000e+00   \n",
       "snack                       2.353823e-27  0.000000e+00 -5.007936e-28   \n",
       "snack week                  2.871632e-28  0.000000e+00 -2.875620e-28   \n",
       "turkey                     -3.075642e-27 -1.575367e-26 -1.631765e-26   \n",
       "calories_sodium            -6.240544e-15 -6.240787e-15 -6.240794e-15   \n",
       "calories_fat               -2.802870e-16 -2.803072e-16 -2.803065e-16   \n",
       "sodium_fat                 -2.563434e-16 -2.563581e-16 -2.563582e-16   \n",
       "peanut free_soy free       -1.719631e-25 -3.017682e-25 -3.058210e-25   \n",
       "pescatarian_kosher         -1.079821e-25 -2.077827e-25 -2.141491e-25   \n",
       "drink_alcoholic             6.960739e-26 -2.285919e-26 -2.687580e-26   \n",
       "peanut free_tree nut free  -1.497936e-25 -2.571270e-25 -2.606251e-25   \n",
       "portland_oregon             7.952046e-28  0.000000e+00  0.000000e+00   \n",
       "soy free_tree nut free     -1.420662e-25 -2.488474e-25 -2.494670e-25   \n",
       "sodium_protein             -1.477492e-16 -1.477628e-16 -1.477636e-16   \n",
       "vegetarian_pescatarian     -1.010227e-25 -1.967737e-25 -2.031401e-25   \n",
       "snack week_snack            3.584920e-28  0.000000e+00 -2.158297e-28   \n",
       "pescatarian_soy free       -1.114299e-25 -2.176418e-25 -2.211130e-25   \n",
       "kosher_vegetarian          -1.022478e-25 -1.985715e-25 -2.049380e-25   \n",
       "peanut free_pescatarian    -1.136084e-25 -2.192411e-25 -2.261817e-25   \n",
       "peanut free_kosher         -1.189890e-25 -2.211886e-25 -2.280732e-25   \n",
       "soy free_kosher            -1.150246e-25 -2.189424e-25 -2.217994e-25   \n",
       "calories_protein           -1.357485e-16 -1.357586e-16 -1.357596e-16   \n",
       "brunch_breakfast           -8.965866e-27 -2.099393e-26 -2.100909e-26   \n",
       "kentucky_louisville         0.000000e+00  0.000000e+00  0.000000e+00   \n",
       "denver_omelet               0.000000e+00  0.000000e+00  0.000000e+00   \n",
       "louisiana_kitchen olympics  0.000000e+00  0.000000e+00  0.000000e+00   \n",
       "new orleans_louisiana       0.000000e+00  0.000000e+00  0.000000e+00   \n",
       "\n",
       "                                       3             4             5  \\\n",
       "calories                   -1.128764e-21 -9.926100e-22 -3.342642e-22   \n",
       "protein                    -4.307765e-23 -3.691815e-23 -6.435165e-24   \n",
       "fat                        -5.069906e-23 -4.298885e-23 -5.347411e-24   \n",
       "sodium                     -1.357832e-21 -1.213062e-21 -1.634740e-22   \n",
       "#cakeweek                   0.000000e+00  0.000000e+00  7.850701e-28   \n",
       "#wasteless                  0.000000e+00  0.000000e+00  0.000000e+00   \n",
       "22-minute meals            -7.436133e-29 -7.436133e-29  0.000000e+00   \n",
       "3-ingredient recipes       -5.143416e-28  0.000000e+00  7.296658e-29   \n",
       "30 days of groceries        0.000000e+00  0.000000e+00  2.312250e-28   \n",
       "advance prep required      -1.728337e-27 -7.262074e-30  2.293851e-27   \n",
       "alabama                     0.000000e+00  0.000000e+00  0.000000e+00   \n",
       "alaska                      0.000000e+00  0.000000e+00  0.000000e+00   \n",
       "alcoholic                  -2.349463e-26 -1.950631e-26 -2.841862e-27   \n",
       "almond                     -2.020575e-26 -1.151877e-26  1.879624e-26   \n",
       "amaretto                   -1.012260e-27  0.000000e+00  2.423547e-27   \n",
       "anchovy                    -6.570532e-28 -6.570532e-28 -6.996657e-29   \n",
       "anise                      -2.590971e-27 -3.046748e-28  7.177540e-27   \n",
       "anniversary                -2.657600e-27 -3.220323e-27  5.406764e-27   \n",
       "anthony bourdain            0.000000e+00  0.000000e+00  0.000000e+00   \n",
       "aperitif                    0.000000e+00  0.000000e+00  2.206865e-28   \n",
       "appetizer                  -3.874952e-26 -1.300315e-26  5.866752e-26   \n",
       "apple                      -2.115831e-26 -1.191476e-26  2.775202e-26   \n",
       "apple juice                 0.000000e+00  0.000000e+00  0.000000e+00   \n",
       "apricot                    -8.204871e-27 -5.280655e-27  8.999891e-27   \n",
       "arizona                     0.000000e+00  0.000000e+00  2.139683e-28   \n",
       "artichoke                  -3.685139e-27 -1.946749e-27  1.128540e-26   \n",
       "arugula                    -8.954095e-27 -4.871690e-27  8.340373e-27   \n",
       "asian pear                 -2.207413e-28  0.000000e+00  9.368318e-28   \n",
       "asparagus                  -5.393187e-27 -2.526829e-27  8.979009e-27   \n",
       "aspen                       0.000000e+00  0.000000e+00  0.000000e+00   \n",
       "...                                  ...           ...           ...   \n",
       "yuca                        0.000000e+00  0.000000e+00  0.000000e+00   \n",
       "zucchini                   -8.187080e-27 -1.312724e-27  2.171202e-26   \n",
       "cookbooks                   0.000000e+00  0.000000e+00  0.000000e+00   \n",
       "leftovers                   0.000000e+00  0.000000e+00  0.000000e+00   \n",
       "snack                      -5.007936e-28  0.000000e+00  0.000000e+00   \n",
       "snack week                 -2.875620e-28  0.000000e+00  0.000000e+00   \n",
       "turkey                     -1.514840e-26 -7.699961e-27  5.318704e-27   \n",
       "calories_sodium            -6.240757e-15 -6.240638e-15 -6.239272e-15   \n",
       "calories_fat               -2.803052e-16 -2.802982e-16 -2.802140e-16   \n",
       "sodium_fat                 -2.563562e-16 -2.563489e-16 -2.562745e-16   \n",
       "peanut free_soy free       -2.505107e-25 -1.204685e-25  3.176800e-25   \n",
       "pescatarian_kosher         -1.737519e-25 -6.546242e-26  2.224788e-25   \n",
       "drink_alcoholic            -2.284765e-26 -1.943087e-26 -2.194930e-27   \n",
       "peanut free_tree nut free  -2.117552e-25 -1.027949e-25  2.857236e-25   \n",
       "portland_oregon             0.000000e+00  0.000000e+00  0.000000e+00   \n",
       "soy free_tree nut free     -2.040241e-25 -9.850516e-26  2.709562e-25   \n",
       "sodium_protein             -1.477620e-16 -1.477520e-16 -1.476536e-16   \n",
       "vegetarian_pescatarian     -1.644968e-25 -6.366878e-26  2.115811e-25   \n",
       "snack week_snack           -2.158297e-28  0.000000e+00  0.000000e+00   \n",
       "pescatarian_soy free       -1.801443e-25 -7.015962e-26  2.242132e-25   \n",
       "kosher_vegetarian          -1.662947e-25 -6.432492e-26  2.132124e-25   \n",
       "peanut free_pescatarian    -1.811677e-25 -7.121031e-26  2.284058e-25   \n",
       "peanut free_kosher         -1.842178e-25 -7.078621e-26  2.418109e-25   \n",
       "soy free_kosher            -1.808561e-25 -7.027740e-26  2.348406e-25   \n",
       "calories_protein           -1.357580e-16 -1.357508e-16 -1.356939e-16   \n",
       "brunch_breakfast           -1.697048e-26 -9.576978e-27  2.732843e-26   \n",
       "kentucky_louisville         0.000000e+00  0.000000e+00  0.000000e+00   \n",
       "denver_omelet               0.000000e+00  0.000000e+00  0.000000e+00   \n",
       "louisiana_kitchen olympics  0.000000e+00  0.000000e+00  0.000000e+00   \n",
       "new orleans_louisiana       0.000000e+00  0.000000e+00  0.000000e+00   \n",
       "\n",
       "                                       6             7  \n",
       "calories                    2.307668e-21  3.500160e-21  \n",
       "protein                     2.105342e-23  1.943341e-22  \n",
       "fat                         1.618871e-22  8.842730e-23  \n",
       "sodium                      2.089790e-21  4.624604e-21  \n",
       "#cakeweek                   0.000000e+00  0.000000e+00  \n",
       "#wasteless                  0.000000e+00  0.000000e+00  \n",
       "22-minute meals             1.641791e-27  0.000000e+00  \n",
       "3-ingredient recipes        0.000000e+00  0.000000e+00  \n",
       "30 days of groceries        0.000000e+00  0.000000e+00  \n",
       "advance prep required       2.328199e-27  1.154265e-27  \n",
       "alabama                     0.000000e+00  0.000000e+00  \n",
       "alaska                      0.000000e+00  0.000000e+00  \n",
       "alcoholic                  -3.353835e-27  3.123672e-26  \n",
       "almond                      5.930910e-26  5.547133e-27  \n",
       "amaretto                    3.075727e-27  0.000000e+00  \n",
       "anchovy                     4.950812e-28  2.235523e-27  \n",
       "anise                       6.634796e-27  0.000000e+00  \n",
       "anniversary                 1.106678e-26  7.889907e-28  \n",
       "anthony bourdain            0.000000e+00  0.000000e+00  \n",
       "aperitif                    0.000000e+00  0.000000e+00  \n",
       "appetizer                   1.365361e-25 -8.244331e-27  \n",
       "apple                       7.432839e-26 -2.209715e-27  \n",
       "apple juice                 0.000000e+00  0.000000e+00  \n",
       "apricot                     3.039117e-26  3.706836e-28  \n",
       "arizona                     2.147483e-28  0.000000e+00  \n",
       "artichoke                   1.131937e-26 -1.950697e-27  \n",
       "arugula                     3.427210e-26  0.000000e+00  \n",
       "asian pear                  9.535666e-28  0.000000e+00  \n",
       "asparagus                   2.044259e-26 -7.634137e-28  \n",
       "aspen                       0.000000e+00  0.000000e+00  \n",
       "...                                  ...           ...  \n",
       "yuca                        8.032753e-28  0.000000e+00  \n",
       "zucchini                    2.285639e-26 -4.182496e-27  \n",
       "cookbooks                   0.000000e+00  0.000000e+00  \n",
       "leftovers                   0.000000e+00  0.000000e+00  \n",
       "snack                       0.000000e+00  8.139068e-29  \n",
       "snack week                  0.000000e+00  2.945792e-28  \n",
       "turkey                      3.507090e-26  1.877406e-26  \n",
       "calories_sodium             2.461812e-14  1.282467e-14  \n",
       "calories_fat                1.771372e-15 -8.965392e-17  \n",
       "sodium_fat                  1.622414e-15 -8.437475e-17  \n",
       "peanut free_soy free        7.980863e-25  3.590934e-26  \n",
       "pescatarian_kosher          5.288109e-25  1.898456e-26  \n",
       "drink_alcoholic            -3.862148e-27  3.075011e-26  \n",
       "peanut free_tree nut free   6.708718e-25  2.664424e-26  \n",
       "portland_oregon             0.000000e+00  0.000000e+00  \n",
       "soy free_tree nut free      6.479438e-25  2.515368e-26  \n",
       "sodium_protein             -2.804191e-17  9.144851e-16  \n",
       "vegetarian_pescatarian      5.007928e-25  1.787481e-26  \n",
       "snack week_snack            0.000000e+00  3.663076e-28  \n",
       "pescatarian_soy free        5.573321e-25  2.008762e-26  \n",
       "kosher_vegetarian           5.082515e-25  1.606130e-26  \n",
       "peanut free_pescatarian     5.656192e-25  1.852837e-26  \n",
       "peanut free_kosher          5.614019e-25  2.118615e-26  \n",
       "soy free_kosher             5.526829e-25  2.052064e-26  \n",
       "calories_protein            3.290880e-17  7.815606e-16  \n",
       "brunch_breakfast            4.934359e-26  1.988787e-27  \n",
       "kentucky_louisville         0.000000e+00  0.000000e+00  \n",
       "denver_omelet               0.000000e+00  0.000000e+00  \n",
       "louisiana_kitchen olympics  0.000000e+00  0.000000e+00  \n",
       "new orleans_louisiana       0.000000e+00  0.000000e+00  \n",
       "\n",
       "[701 rows x 8 columns]"
      ]
     },
     "execution_count": 51,
     "metadata": {},
     "output_type": "execute_result"
    }
   ],
   "source": [
    "coeffs = pd.DataFrame(lassoregr.coef_.transpose())\n",
    "coeffs.index = X_train.columns\n",
    "coeffs"
   ]
  },
  {
   "cell_type": "markdown",
   "metadata": {},
   "source": [
    "It would be easier to visualize if we first converted the above matrix into rankings (along each column). Say we wanted to optimize the model to perform on those recipes with a 3.125 rating, then we take the top k features for the 5th column."
   ]
  },
  {
   "cell_type": "code",
   "execution_count": 53,
   "metadata": {
    "ExecuteTime": {
     "end_time": "2019-01-01T23:02:47.485952Z",
     "start_time": "2019-01-01T23:02:47.479303Z"
    }
   },
   "outputs": [
    {
     "data": {
      "text/plain": [
       "0.000     900\n",
       "1.250      92\n",
       "1.875      60\n",
       "2.500     281\n",
       "3.125     824\n",
       "3.750    2908\n",
       "4.375    4593\n",
       "5.000    1447\n",
       "Name: rating, dtype: int64"
      ]
     },
     "execution_count": 53,
     "metadata": {},
     "output_type": "execute_result"
    }
   ],
   "source": [
    "y_train.value_counts().sort_index()"
   ]
  },
  {
   "cell_type": "code",
   "execution_count": 65,
   "metadata": {
    "ExecuteTime": {
     "end_time": "2019-01-01T23:09:08.656475Z",
     "start_time": "2019-01-01T23:07:54.367670Z"
    }
   },
   "outputs": [
    {
     "data": {
      "text/plain": [
       "SVC(C=1.0, cache_size=200, class_weight=None, coef0=0.0,\n",
       "  decision_function_shape='ovr', degree=3, gamma='auto_deprecated',\n",
       "  kernel='rbf', max_iter=-1, probability=True, random_state=None,\n",
       "  shrinking=True, tol=0.001, verbose=False)"
      ]
     },
     "execution_count": 65,
     "metadata": {},
     "output_type": "execute_result"
    }
   ],
   "source": [
    "new_features = coeffs.iloc[:,4].sort_values().index[:29]\n",
    "# Features & Target\n",
    "y_new = y_train.map(z)\n",
    "\n",
    "svc_new = SVC(probability=True)\n",
    "svc_new.fit(X_train[new_features], y_train.map(z))"
   ]
  },
  {
   "cell_type": "code",
   "execution_count": 68,
   "metadata": {
    "ExecuteTime": {
     "end_time": "2019-01-01T23:13:51.556041Z",
     "start_time": "2019-01-01T23:13:49.857280Z"
    }
   },
   "outputs": [
    {
     "name": "stdout",
     "output_type": "stream",
     "text": [
      "Cross-Validation Scores: [0.47751799 0.48538012 0.46555606 0.47408743 0.47339946]\n",
      "Cross-Validation Score Averaged Across Folds: 47.52%.\n",
      "\n"
     ]
    }
   ],
   "source": [
    "scores_new = cross_val_score(svc_new, X_train[new_features], y_new, cv=5)\n",
    "print('Cross-Validation Scores: {}'.format(scores_new))\n",
    "print('Cross-Validation Score Averaged Across Folds: {:.2%}.\\n'.format(scores_new.mean()))\n",
    "\n",
    "p_pred_new= svc_new.predict_proba(X_test[new_features])"
   ]
  },
  {
   "cell_type": "code",
   "execution_count": 80,
   "metadata": {
    "ExecuteTime": {
     "end_time": "2019-01-01T23:50:34.985371Z",
     "start_time": "2019-01-01T23:50:34.973813Z"
    }
   },
   "outputs": [
    {
     "name": "stdout",
     "output_type": "stream",
     "text": [
      "              precision    recall  f1-score   support\n",
      "\n",
      "           0       0.84      0.19      0.32       396\n",
      "           1       1.00      0.10      0.18        31\n",
      "           2       0.00      0.00      0.00        21\n",
      "           3       0.89      0.14      0.24       124\n",
      "           4       0.90      0.11      0.20       341\n",
      "           5       0.91      0.12      0.21      1228\n",
      "           6       0.45      0.99      0.62      1959\n",
      "           7       0.91      0.19      0.32       659\n",
      "\n",
      "   micro avg       0.49      0.49      0.49      4759\n",
      "   macro avg       0.74      0.23      0.26      4759\n",
      "weighted avg       0.71      0.49      0.40      4759\n",
      "\n"
     ]
    }
   ],
   "source": [
    "y_pred_new = p_pred_new.argmax(axis=1)\n",
    "#Clasification report\n",
    "results_new = metrics.classification_report(y_true=y_test.map(z), y_pred=y_pred_new)\n",
    "print(results_new)"
   ]
  },
  {
   "cell_type": "markdown",
   "metadata": {},
   "source": [
    "Whoa this set of features appears to improve on all classes (note no change to rating of 1.875)."
   ]
  }
 ],
 "metadata": {
  "kernelspec": {
   "display_name": "Python 3",
   "language": "python",
   "name": "python3"
  },
  "language_info": {
   "codemirror_mode": {
    "name": "ipython",
    "version": 3
   },
   "file_extension": ".py",
   "mimetype": "text/x-python",
   "name": "python",
   "nbconvert_exporter": "python",
   "pygments_lexer": "ipython3",
   "version": "3.6.7"
  },
  "latex_envs": {
   "LaTeX_envs_menu_present": true,
   "autoclose": false,
   "autocomplete": true,
   "bibliofile": "biblio.bib",
   "cite_by": "apalike",
   "current_citInitial": 1,
   "eqLabelWithNumbers": true,
   "eqNumInitial": 1,
   "hotkeys": {
    "equation": "Ctrl-E",
    "itemize": "Ctrl-I"
   },
   "labels_anchors": false,
   "latex_user_defs": false,
   "report_style_numbering": false,
   "user_envs_cfg": false
  },
  "toc": {
   "base_numbering": 1,
   "nav_menu": {},
   "number_sections": true,
   "sideBar": true,
   "skip_h1_title": false,
   "title_cell": "Table of Contents",
   "title_sidebar": "Contents",
   "toc_cell": false,
   "toc_position": {},
   "toc_section_display": true,
   "toc_window_display": false
  },
  "varInspector": {
   "cols": {
    "lenName": 16,
    "lenType": 16,
    "lenVar": 40
   },
   "kernels_config": {
    "python": {
     "delete_cmd_postfix": "",
     "delete_cmd_prefix": "del ",
     "library": "var_list.py",
     "varRefreshCmd": "print(var_dic_list())"
    },
    "r": {
     "delete_cmd_postfix": ") ",
     "delete_cmd_prefix": "rm(",
     "library": "var_list.r",
     "varRefreshCmd": "cat(var_dic_list()) "
    }
   },
   "types_to_exclude": [
    "module",
    "function",
    "builtin_function_or_method",
    "instance",
    "_Feature"
   ],
   "window_display": false
  }
 },
 "nbformat": 4,
 "nbformat_minor": 2
}
