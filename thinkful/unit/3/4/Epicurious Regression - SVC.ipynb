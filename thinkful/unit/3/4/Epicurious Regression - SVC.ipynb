{
 "cells": [
  {
   "cell_type": "code",
   "execution_count": 75,
   "metadata": {
    "ExecuteTime": {
     "end_time": "2019-01-01T22:01:17.808342Z",
     "start_time": "2019-01-01T22:01:17.801462Z"
    }
   },
   "outputs": [],
   "source": [
    "import numpy as np\n",
    "import pandas as pd\n",
    "import scipy\n",
    "import matplotlib.pyplot as plt\n",
    "import seaborn as sns\n",
    "from sklearn.feature_selection import SelectKBest, f_classif\n",
    "from sklearn.svm import SVC, SVR\n",
    "from sklearn.pipeline import make_pipeline\n",
    "from sklearn.model_selection import cross_val_score\n",
    "from sklearn.ensemble import RandomForestClassifier\n",
    "from sklearn import metrics\n",
    "import warnings\n",
    "warnings.filterwarnings('ignore')\n",
    "%matplotlib inline"
   ]
  },
  {
   "cell_type": "markdown",
   "metadata": {},
   "source": [
    "# Data"
   ]
  },
  {
   "cell_type": "code",
   "execution_count": 2,
   "metadata": {
    "ExecuteTime": {
     "end_time": "2019-01-01T21:26:19.226769Z",
     "start_time": "2019-01-01T21:26:16.776517Z"
    }
   },
   "outputs": [],
   "source": [
    "raw_data = pd.read_csv('epi_r.csv')"
   ]
  },
  {
   "cell_type": "code",
   "execution_count": 3,
   "metadata": {
    "ExecuteTime": {
     "end_time": "2019-01-01T21:26:22.486495Z",
     "start_time": "2019-01-01T21:26:22.479150Z"
    }
   },
   "outputs": [
    {
     "data": {
      "text/plain": [
       "4.375    8019\n",
       "3.750    5169\n",
       "5.000    2719\n",
       "0.000    1836\n",
       "3.125    1489\n",
       "2.500     532\n",
       "1.250     164\n",
       "1.875     124\n",
       "Name: rating, dtype: int64"
      ]
     },
     "execution_count": 3,
     "metadata": {},
     "output_type": "execute_result"
    }
   ],
   "source": [
    "# First lets look at the ratings.\n",
    "raw_data.rating.value_counts()"
   ]
  },
  {
   "cell_type": "code",
   "execution_count": 4,
   "metadata": {
    "ExecuteTime": {
     "end_time": "2019-01-01T21:26:24.600782Z",
     "start_time": "2019-01-01T21:26:24.595823Z"
    }
   },
   "outputs": [
    {
     "data": {
      "text/plain": [
       "array([1.25 , 0.625, 0.625, 0.625, 0.625, 0.625, 0.625])"
      ]
     },
     "execution_count": 4,
     "metadata": {},
     "output_type": "execute_result"
    }
   ],
   "source": [
    "np.diff(np.array([0.0, 1.25, 1.875, 2.5, 3.125, 3.75, 4.375, 5.0]))"
   ]
  },
  {
   "cell_type": "markdown",
   "metadata": {},
   "source": [
    "Since the ratings are actually discrete, a classifier makes more sense. Note that the rating levels are not uniformly distributed. \n",
    "\n",
    "First lets add a binary feature to indicate if the recipe lists calories that are in the top 75% of all ratings, as well as some group some highly correlated features."
   ]
  },
  {
   "cell_type": "markdown",
   "metadata": {
    "ExecuteTime": {
     "end_time": "2019-01-01T18:58:25.150005Z",
     "start_time": "2019-01-01T18:58:25.145053Z"
    }
   },
   "source": [
    "# Split"
   ]
  },
  {
   "cell_type": "code",
   "execution_count": 5,
   "metadata": {
    "ExecuteTime": {
     "end_time": "2019-01-01T21:28:10.172049Z",
     "start_time": "2019-01-01T21:28:09.437407Z"
    }
   },
   "outputs": [],
   "source": [
    "from sklearn.model_selection import train_test_split\n",
    "X = raw_data.dropna().drop(['rating', 'title'], axis = 1)\n",
    "X_test, X_train, y_test, y_train = train_test_split(X, raw_data.dropna().rating, test_size=0.70)"
   ]
  },
  {
   "cell_type": "code",
   "execution_count": 6,
   "metadata": {
    "ExecuteTime": {
     "end_time": "2019-01-01T21:28:12.214783Z",
     "start_time": "2019-01-01T21:28:12.041654Z"
    }
   },
   "outputs": [
    {
     "data": {
      "text/plain": [
       "(array([ 892.,    0.,   83.,   56.,    0.,  293.,  806., 2895., 4601.,\n",
       "        1479.]),\n",
       " array([0. , 0.5, 1. , 1.5, 2. , 2.5, 3. , 3.5, 4. , 4.5, 5. ]),\n",
       " <a list of 10 Patch objects>)"
      ]
     },
     "execution_count": 6,
     "metadata": {},
     "output_type": "execute_result"
    },
    {
     "data": {
      "image/png": "[encoded data removed]",
      "text/plain": [
       "<Figure size 432x288 with 1 Axes>"
      ]
     },
     "metadata": {
      "needs_background": "light"
     },
     "output_type": "display_data"
    }
   ],
   "source": [
    "plt.hist(y_train)"
   ]
  },
  {
   "cell_type": "code",
   "execution_count": 7,
   "metadata": {
    "ExecuteTime": {
     "end_time": "2019-01-01T21:28:26.546975Z",
     "start_time": "2019-01-01T21:28:19.034436Z"
    }
   },
   "outputs": [
    {
     "data": {
      "text/plain": [
       "fat            calories         0.999977\n",
       "calories       fat              0.999977\n",
       "fat            sodium           0.999857\n",
       "sodium         fat              0.999857\n",
       "               calories         0.999793\n",
       "calories       sodium           0.999793\n",
       "soy free       peanut free      0.939265\n",
       "peanut free    soy free         0.939265\n",
       "pescatarian    kosher           0.882544\n",
       "kosher         pescatarian      0.882544\n",
       "alcoholic      drink            0.853555\n",
       "drink          alcoholic        0.853555\n",
       "protein        calories         0.835902\n",
       "calories       protein          0.835902\n",
       "protein        fat              0.832247\n",
       "fat            protein          0.832247\n",
       "sodium         protein          0.827546\n",
       "protein        sodium           0.827546\n",
       "peanut free    tree nut free    0.820729\n",
       "tree nut free  peanut free      0.820729\n",
       "soy free       tree nut free    0.790030\n",
       "tree nut free  soy free         0.790030\n",
       "portland       oregon           0.769592\n",
       "oregon         portland         0.769592\n",
       "pescatarian    vegetarian       0.744338\n",
       "vegetarian     pescatarian      0.744338\n",
       "peanut free    pescatarian      0.742952\n",
       "pescatarian    peanut free      0.742952\n",
       "soy free       pescatarian      0.740513\n",
       "pescatarian    soy free         0.740513\n",
       "kosher         vegetarian       0.739038\n",
       "vegetarian     kosher           0.739038\n",
       "peanut free    kosher           0.738745\n",
       "kosher         peanut free      0.738745\n",
       "               soy free         0.735159\n",
       "soy free       kosher           0.735159\n",
       "brunch         breakfast        0.729079\n",
       "breakfast      brunch           0.729079\n",
       "louisville     kentucky         0.707075\n",
       "kentucky       louisville       0.707075\n",
       "omelet         muffin           0.707075\n",
       "muffin         omelet           0.707075\n",
       "hummus         israel           0.707075\n",
       "israel         hummus           0.707075\n",
       "dtype: float64"
      ]
     },
     "execution_count": 7,
     "metadata": {},
     "output_type": "execute_result"
    }
   ],
   "source": [
    "# lets see what features are extrmely correlated\n",
    "cm = X_train.corr()\n",
    "s = cm.unstack()\n",
    "so = s[s!=1.0].sort_values(kind=\"quicksort\", ascending=False)\n",
    "so[so>=0.7]"
   ]
  },
  {
   "cell_type": "code",
   "execution_count": 8,
   "metadata": {
    "ExecuteTime": {
     "end_time": "2019-01-01T21:28:47.270522Z",
     "start_time": "2019-01-01T21:28:45.929462Z"
    }
   },
   "outputs": [],
   "source": [
    "# features to combine* (binary interaction)\n",
    "features1 = ['calories', 'calories', 'sodium', 'peanut free', \n",
    "             'pescatarian', 'drink', 'peanut free', 'portland', \n",
    "             'soy free', 'sodium', 'vegetarian', 'snack week', \n",
    "             'pescatarian', 'kosher', 'peanut free', 'peanut free', \n",
    "             'soy free', 'calories', 'brunch', 'kentucky', 'denver', \n",
    "             'louisiana', 'new orleans']\n",
    "\n",
    "features2 = ['sodium', 'fat', 'fat', 'soy free', 'kosher', 'alcoholic', \n",
    "             'tree nut free', 'oregon', 'tree nut free', 'protein', \n",
    "             'pescatarian', 'snack', 'soy free', 'vegetarian', \n",
    "             'pescatarian', 'kosher', 'kosher', 'protein', 'breakfast', \n",
    "             'louisville', 'omelet', 'kitchen olympics', 'louisiana']\n",
    "\n",
    "for a,b in zip(features1, features2):\n",
    "    X_train[a + \"_\" + b] = X_train[a] * X_train[b]\n",
    "    X_test[a + \"_\" + b] = X_test[a] * X_test[b]"
   ]
  },
  {
   "cell_type": "markdown",
   "metadata": {},
   "source": [
    "# Feature Selection  \n",
    "## Random Forest  \n",
    "\n",
    "We will first predict how likely the recipe is a high (>=2.5 rating) or low (<2.5), and given this predicted probability we can feed the data to a further model (2 layer)."
   ]
  },
  {
   "cell_type": "code",
   "execution_count": 9,
   "metadata": {
    "ExecuteTime": {
     "end_time": "2019-01-01T21:28:53.896078Z",
     "start_time": "2019-01-01T21:28:53.543954Z"
    }
   },
   "outputs": [],
   "source": [
    "X_train_dummy = pd.get_dummies(X_train)\n",
    "# convert all columns to int's and make source_pc binary\n",
    "X_train_dummy = X_train_dummy.astype(int)"
   ]
  },
  {
   "cell_type": "markdown",
   "metadata": {},
   "source": [
    "**High or Low rating?** (<= 2.5)"
   ]
  },
  {
   "cell_type": "code",
   "execution_count": 10,
   "metadata": {
    "ExecuteTime": {
     "end_time": "2019-01-01T21:29:00.355461Z",
     "start_time": "2019-01-01T21:29:00.351439Z"
    }
   },
   "outputs": [],
   "source": [
    "# Features & Target\n",
    "y_low = y_train <= 2.5\n",
    "\n",
    "#Pipeline Construction.\n",
    "anova_low = SelectKBest(f_classif, k=30)\n",
    "svc_low = SVC(kernel='linear')\n",
    "anova_svc = make_pipeline(anova_low, svc_low)"
   ]
  },
  {
   "cell_type": "code",
   "execution_count": 16,
   "metadata": {
    "ExecuteTime": {
     "end_time": "2019-01-01T21:30:39.753829Z",
     "start_time": "2019-01-01T21:30:34.689559Z"
    }
   },
   "outputs": [
    {
     "name": "stdout",
     "output_type": "stream",
     "text": [
      "Cross-Validation Scores: [0.88388839 0.88788834 0.88293561 0.88608735 0.88243243]\n",
      "Cross-Validation Score Averaged Across Folds: 88.46%.\n",
      "\n",
      "Selected Features: Index(['alcoholic', 'bake', 'bitters', 'bon appétit', 'brandy', 'chile pepper',\n",
      "       'cocktail', 'cocktail party', 'condiment', 'créme de cacao', 'drink',\n",
      "       'fall', 'gin', 'harpercollins', 'house & garden', 'liqueur',\n",
      "       'non-alcoholic', 'peanut free', 'roast', 'rum', 'rye', 'sauté',\n",
      "       'soy free', 'spirit', 'tree nut free', 'vegan', 'weelicious', 'winter',\n",
      "       'peanut free_soy free', 'drink_alcoholic'],\n",
      "      dtype='object')\n",
      "\n"
     ]
    }
   ],
   "source": [
    "#Fitting & Cross-Validation.\n",
    "anova_svc.fit(X_train_dummy,y_low)\n",
    "scores_low = cross_val_score(anova_svc, X_train_dummy, y_low, cv=5)\n",
    "\n",
    "#De-Masking Selected Features.\n",
    "features_low = anova_low.get_support(indices=True)\n",
    "selected_features_low = list(X_train_dummy.columns[features_low])\n",
    "\n",
    "#Printing Outcomes.\n",
    "print('Cross-Validation Scores: {}'.format(scores_low))\n",
    "print('Cross-Validation Score Averaged Across Folds: {:.2%}.\\n'.format(scores_low.mean()))\n",
    "print('Selected Features: {}\\n'.format(selected_features_low))"
   ]
  },
  {
   "cell_type": "code",
   "execution_count": 76,
   "metadata": {
    "ExecuteTime": {
     "end_time": "2019-01-01T22:01:39.624541Z",
     "start_time": "2019-01-01T22:01:37.778736Z"
    }
   },
   "outputs": [
    {
     "data": {
      "text/plain": [
       "SVC(C=1.0, cache_size=200, class_weight=None, coef0=0.0,\n",
       "  decision_function_shape='ovr', degree=3, gamma='auto_deprecated',\n",
       "  kernel='rbf', max_iter=-1, probability=False, random_state=None,\n",
       "  shrinking=True, tol=0.001, verbose=False)"
      ]
     },
     "execution_count": 76,
     "metadata": {},
     "output_type": "execute_result"
    }
   ],
   "source": [
    "svc_1ow = SVC()\n",
    "X_low = X_train[selected_features_low]\n",
    "svc_1ow.fit(X_low,y_low)"
   ]
  },
  {
   "cell_type": "code",
   "execution_count": 38,
   "metadata": {
    "ExecuteTime": {
     "end_time": "2019-01-01T21:44:01.700059Z",
     "start_time": "2019-01-01T21:43:54.954511Z"
    }
   },
   "outputs": [
    {
     "name": "stdout",
     "output_type": "stream",
     "text": [
      "Cross-Validation Scores: [0.88613861 0.89104007 0.88608735 0.88833859 0.88468468]\n",
      "Cross-Validation Score Averaged Across Folds: 88.73%.\n",
      "\n"
     ]
    }
   ],
   "source": [
    "scores_low = cross_val_score(svc_1ow, X_train[selected_features_low], y_low, cv=5)\n",
    "print('Cross-Validation Scores: {}'.format(scores_low))\n",
    "print('Cross-Validation Score Averaged Across Folds: {:.2%}.\\n'.format(scores_low.mean()))"
   ]
  },
  {
   "cell_type": "code",
   "execution_count": 77,
   "metadata": {
    "ExecuteTime": {
     "end_time": "2019-01-01T22:01:58.359213Z",
     "start_time": "2019-01-01T22:01:57.119802Z"
    }
   },
   "outputs": [],
   "source": [
    "y_pred_train = svc_1ow.predict(X_train[selected_features_low]).astype(int)"
   ]
  },
  {
   "cell_type": "markdown",
   "metadata": {},
   "source": [
    "This model simply predicts if the given recipe will be rated high or low. Let's see how it performs on the test set.  "
   ]
  },
  {
   "cell_type": "code",
   "execution_count": 80,
   "metadata": {
    "ExecuteTime": {
     "end_time": "2019-01-01T22:03:28.175132Z",
     "start_time": "2019-01-01T22:03:28.161460Z"
    }
   },
   "outputs": [
    {
     "name": "stdout",
     "output_type": "stream",
     "text": [
      "              precision    recall  f1-score   support\n",
      "\n",
      "           0       0.89      1.00      0.94      9781\n",
      "           1       0.86      0.07      0.13      1324\n",
      "\n",
      "   micro avg       0.89      0.89      0.89     11105\n",
      "   macro avg       0.88      0.54      0.54     11105\n",
      "weighted avg       0.89      0.89      0.84     11105\n",
      "\n"
     ]
    }
   ],
   "source": [
    "#Clasification report\n",
    "results_train = metrics.classification_report(y_true=(y_train<=2.5).astype(int), y_pred=y_pred_train)\n",
    "print(results_train)"
   ]
  },
  {
   "cell_type": "markdown",
   "metadata": {},
   "source": [
    "### Evaluation"
   ]
  },
  {
   "cell_type": "code",
   "execution_count": 81,
   "metadata": {
    "ExecuteTime": {
     "end_time": "2019-01-01T22:05:26.741454Z",
     "start_time": "2019-01-01T22:05:26.209677Z"
    }
   },
   "outputs": [
    {
     "name": "stdout",
     "output_type": "stream",
     "text": [
      "              precision    recall  f1-score   support\n",
      "\n",
      "           0       0.89      1.00      0.94      4178\n",
      "           1       0.84      0.07      0.13       581\n",
      "\n",
      "   micro avg       0.88      0.88      0.88      4759\n",
      "   macro avg       0.86      0.53      0.53      4759\n",
      "weighted avg       0.88      0.88      0.84      4759\n",
      "\n"
     ]
    }
   ],
   "source": [
    "y_pred_test = svc_1ow.predict(X_test[selected_features_low])\n",
    "#Clasification report\n",
    "results_test = metrics.classification_report(y_true=(y_test<=2.5).astype(int), y_pred=y_pred_test)\n",
    "print(results_test)"
   ]
  },
  {
   "cell_type": "markdown",
   "metadata": {},
   "source": [
    "## Further classification  \n",
    "The above model will predict whether or not the given recipe will be a low or high rating. If, instead, we want to predict the overall rating (7 levels from 0 to 5), we can still use a classifier, but this time with 8 possible outcomes. First let's define that mapping."
   ]
  },
  {
   "cell_type": "code",
   "execution_count": 82,
   "metadata": {
    "ExecuteTime": {
     "end_time": "2019-01-01T22:05:33.494578Z",
     "start_time": "2019-01-01T22:05:33.490926Z"
    }
   },
   "outputs": [],
   "source": [
    "z = {0.0: 0, 1.25: 1, 1.875: 2, 2.5: 3, 3.125: 4, 3.75: 5, 4.375: 6, 5.0: 7}"
   ]
  },
  {
   "cell_type": "code",
   "execution_count": 83,
   "metadata": {
    "ExecuteTime": {
     "end_time": "2019-01-01T22:05:57.819747Z",
     "start_time": "2019-01-01T22:05:35.554864Z"
    }
   },
   "outputs": [
    {
     "name": "stdout",
     "output_type": "stream",
     "text": [
      "Cross-Validation Scores: [0.88613861 0.89104007 0.88608735 0.88833859 0.88468468]\n",
      "Cross-Validation Score Averaged Across Folds: 88.73%.\n",
      "\n",
      "Selected Features: ['alcoholic', 'bake', 'bitters', 'bon appétit', 'brandy', 'chile pepper', 'cocktail', 'cocktail party', 'condiment', 'drink', 'fall', 'fruit juice', 'gin', 'gourmet', 'harpercollins', 'house & garden', 'lime juice', 'liqueur', 'non-alcoholic', 'pasta', 'quick & easy', 'rum', 'sauce', 'sauté', 'spirit', 'tested & improved', 'thanksgiving', 'vegan', 'vegetable', 'drink_alcoholic']\n",
      "\n"
     ]
    }
   ],
   "source": [
    "# Features & Target\n",
    "y = y_train.map(z)\n",
    "\n",
    "#Pipeline Construction.\n",
    "anova = SelectKBest(f_classif, k=30)\n",
    "svc = SVC(kernel='linear')\n",
    "anova_svc = make_pipeline(anova, svc)\n",
    "\n",
    "#Fitting & Cross-Validation.\n",
    "anova_svc.fit(X_train_dummy,y)\n",
    "scores = cross_val_score(anova_svc, X_train_dummy, y, cv=5)\n",
    "#De-Masking Selected Features.\n",
    "features = anova.get_support(indices=True)  \n",
    "selected_features = list(X_train_dummy.columns[features])\n",
    "\n",
    "#Printing Outcomes.\n",
    "print('Cross-Validation Scores: {}'.format(scores_low))\n",
    "print('Cross-Validation Score Averaged Across Folds: {:.2%}.\\n'.format(scores_low.mean()))\n",
    "print('Selected Features: {}\\n'.format(selected_features))"
   ]
  },
  {
   "cell_type": "code",
   "execution_count": 54,
   "metadata": {
    "ExecuteTime": {
     "end_time": "2019-01-01T21:50:05.568435Z",
     "start_time": "2019-01-01T21:47:09.700419Z"
    }
   },
   "outputs": [
    {
     "name": "stdout",
     "output_type": "stream",
     "text": [
      "Cross-Validation Scores: [0.42382022 0.43519352 0.429086   0.42721947 0.42921551]\n",
      "Cross-Validation Score Averaged Across Folds: 42.89%.\n",
      "\n"
     ]
    }
   ],
   "source": [
    "svc2 = SVC(probability=True)\n",
    "X = X_train[selected_features]\n",
    "svc2.fit(X,y)\n",
    "\n",
    "scores2 = cross_val_score(svc2, X_train[selected_features], y, cv=5)\n",
    "print('Cross-Validation Scores: {}'.format(scores2))\n",
    "print('Cross-Validation Score Averaged Across Folds: {:.2%}.\\n'.format(scores2.mean()))\n",
    "\n",
    "p_pred = svc2.predict_proba(X_test[selected_features])"
   ]
  },
  {
   "cell_type": "code",
   "execution_count": 85,
   "metadata": {
    "ExecuteTime": {
     "end_time": "2019-01-01T22:07:13.529216Z",
     "start_time": "2019-01-01T22:07:13.517889Z"
    }
   },
   "outputs": [
    {
     "name": "stdout",
     "output_type": "stream",
     "text": [
      "              precision    recall  f1-score   support\n",
      "\n",
      "           0       0.53      0.27      0.36       404\n",
      "           1       0.00      0.00      0.00        40\n",
      "           2       0.00      0.00      0.00        25\n",
      "           3       0.00      0.00      0.00       112\n",
      "           4       0.00      0.00      0.00       359\n",
      "           5       0.00      0.00      0.00      1241\n",
      "           6       0.43      0.98      0.59      1951\n",
      "           7       0.39      0.03      0.06       627\n",
      "\n",
      "   micro avg       0.43      0.43      0.43      4759\n",
      "   macro avg       0.17      0.16      0.13      4759\n",
      "weighted avg       0.27      0.43      0.28      4759\n",
      "\n"
     ]
    }
   ],
   "source": [
    "y_pred_test = p_pred.argmax(axis=1)\n",
    "#Clasification report\n",
    "results = metrics.classification_report(y_true=y_test.map(z), y_pred=y_pred_test)\n",
    "print(results)"
   ]
  },
  {
   "cell_type": "markdown",
   "metadata": {},
   "source": [
    "So this model is only ok with those recipes with a 0, 4.375 or 5 rating, which is likely a result of the original distribution of ratings (as well as other things). These groups have larger sample sizes, but it is interesting to notice that it was unable to classify any review with a rating of 3.75 even though this group has a relatively large group size."
   ]
  },
  {
   "cell_type": "code",
   "execution_count": 89,
   "metadata": {
    "ExecuteTime": {
     "end_time": "2019-01-01T22:09:24.392318Z",
     "start_time": "2019-01-01T22:09:24.386242Z"
    }
   },
   "outputs": [
    {
     "data": {
      "text/plain": [
       "0.000    1836\n",
       "1.250     164\n",
       "1.875     124\n",
       "2.500     532\n",
       "3.125    1489\n",
       "3.750    5169\n",
       "4.375    8019\n",
       "5.000    2719\n",
       "Name: rating, dtype: int64"
      ]
     },
     "execution_count": 89,
     "metadata": {},
     "output_type": "execute_result"
    }
   ],
   "source": [
    "raw_data.rating.value_counts().sort_index()"
   ]
  }
 ],
 "metadata": {
  "kernelspec": {
   "display_name": "Python 3",
   "language": "python",
   "name": "python3"
  },
  "latex_envs": {
   "LaTeX_envs_menu_present": true,
   "autoclose": false,
   "autocomplete": true,
   "bibliofile": "biblio.bib",
   "cite_by": "apalike",
   "current_citInitial": 1,
   "eqLabelWithNumbers": true,
   "eqNumInitial": 1,
   "hotkeys": {
    "equation": "Ctrl-E",
    "itemize": "Ctrl-I"
   },
   "labels_anchors": false,
   "latex_user_defs": false,
   "report_style_numbering": false,
   "user_envs_cfg": false
  },
  "toc": {
   "base_numbering": 1,
   "nav_menu": {},
   "number_sections": true,
   "sideBar": true,
   "skip_h1_title": false,
   "title_cell": "Table of Contents",
   "title_sidebar": "Contents",
   "toc_cell": false,
   "toc_position": {},
   "toc_section_display": true,
   "toc_window_display": false
  },
  "varInspector": {
   "cols": {
    "lenName": 16,
    "lenType": 16,
    "lenVar": 40
   },
   "kernels_config": {
    "python": {
     "delete_cmd_postfix": "",
     "delete_cmd_prefix": "del ",
     "library": "var_list.py",
     "varRefreshCmd": "print(var_dic_list())"
    },
    "r": {
     "delete_cmd_postfix": ") ",
     "delete_cmd_prefix": "rm(",
     "library": "var_list.r",
     "varRefreshCmd": "cat(var_dic_list()) "
    }
   },
   "types_to_exclude": [
    "module",
    "function",
    "builtin_function_or_method",
    "instance",
    "_Feature"
   ],
   "window_display": false
  }
 },
 "nbformat": 4,
 "nbformat_minor": 2
}
