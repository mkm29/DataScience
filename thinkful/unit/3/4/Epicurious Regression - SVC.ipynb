{
 "cells": [
  {
   "cell_type": "code",
   "execution_count": 1,
   "metadata": {
    "ExecuteTime": {
     "end_time": "2019-01-02T00:09:48.459045Z",
     "start_time": "2019-01-02T00:09:47.175127Z"
    }
   },
   "outputs": [],
   "source": [
    "import numpy as np\n",
    "import pandas as pd\n",
    "import scipy\n",
    "import matplotlib.pyplot as plt\n",
    "import seaborn as sns\n",
    "from sklearn.feature_selection import SelectKBest, f_classif\n",
    "from sklearn.svm import SVC, SVR\n",
    "from sklearn.pipeline import make_pipeline\n",
    "from sklearn.model_selection import cross_val_score\n",
    "from sklearn.ensemble import RandomForestClassifier\n",
    "from sklearn.model_selection import train_test_split\n",
    "from sklearn import metrics\n",
    "import warnings\n",
    "warnings.filterwarnings('ignore')\n",
    "%matplotlib inline"
   ]
  },
  {
   "cell_type": "markdown",
   "metadata": {},
   "source": [
    "# Data"
   ]
  },
  {
   "cell_type": "code",
   "execution_count": 2,
   "metadata": {
    "ExecuteTime": {
     "end_time": "2019-01-02T00:09:53.007359Z",
     "start_time": "2019-01-02T00:09:50.833581Z"
    }
   },
   "outputs": [],
   "source": [
    "raw_data = pd.read_csv('epi_r.csv')"
   ]
  },
  {
   "cell_type": "code",
   "execution_count": 3,
   "metadata": {
    "ExecuteTime": {
     "end_time": "2019-01-01T21:26:22.486495Z",
     "start_time": "2019-01-01T21:26:22.479150Z"
    }
   },
   "outputs": [
    {
     "data": {
      "text/plain": [
       "4.375    8019\n",
       "3.750    5169\n",
       "5.000    2719\n",
       "0.000    1836\n",
       "3.125    1489\n",
       "2.500     532\n",
       "1.250     164\n",
       "1.875     124\n",
       "Name: rating, dtype: int64"
      ]
     },
     "execution_count": 3,
     "metadata": {},
     "output_type": "execute_result"
    }
   ],
   "source": [
    "# First lets look at the ratings.\n",
    "raw_data.rating.value_counts()"
   ]
  },
  {
   "cell_type": "code",
   "execution_count": 4,
   "metadata": {
    "ExecuteTime": {
     "end_time": "2019-01-01T21:26:24.600782Z",
     "start_time": "2019-01-01T21:26:24.595823Z"
    }
   },
   "outputs": [
    {
     "data": {
      "text/plain": [
       "array([1.25 , 0.625, 0.625, 0.625, 0.625, 0.625, 0.625])"
      ]
     },
     "execution_count": 4,
     "metadata": {},
     "output_type": "execute_result"
    }
   ],
   "source": [
    "np.diff(np.array([0.0, 1.25, 1.875, 2.5, 3.125, 3.75, 4.375, 5.0]))"
   ]
  },
  {
   "cell_type": "markdown",
   "metadata": {},
   "source": [
    "Since the ratings are actually discrete, a classifier makes more sense. Note that the rating levels are not uniformly distributed. \n",
    "\n",
    "First lets add a binary feature to indicate if the recipe lists calories that are in the top 75% of all ratings, as well as some group some highly correlated features."
   ]
  },
  {
   "cell_type": "markdown",
   "metadata": {
    "ExecuteTime": {
     "end_time": "2019-01-01T18:58:25.150005Z",
     "start_time": "2019-01-01T18:58:25.145053Z"
    }
   },
   "source": [
    "# Split"
   ]
  },
  {
   "cell_type": "code",
   "execution_count": 3,
   "metadata": {
    "ExecuteTime": {
     "end_time": "2019-01-02T00:10:01.713804Z",
     "start_time": "2019-01-02T00:10:00.986151Z"
    }
   },
   "outputs": [],
   "source": [
    "X = raw_data.dropna().drop(['rating', 'title'], axis = 1)\n",
    "X_test, X_train, y_test, y_train = train_test_split(X, raw_data.dropna().rating, test_size=0.70)"
   ]
  },
  {
   "cell_type": "code",
   "execution_count": 5,
   "metadata": {
    "ExecuteTime": {
     "end_time": "2019-01-01T22:22:43.277617Z",
     "start_time": "2019-01-01T22:22:43.104932Z"
    }
   },
   "outputs": [
    {
     "data": {
      "text/plain": [
       "(array([ 900.,    0.,   92.,   60.,    0.,  281.,  824., 2908., 4593.,\n",
       "        1447.]),\n",
       " array([0. , 0.5, 1. , 1.5, 2. , 2.5, 3. , 3.5, 4. , 4.5, 5. ]),\n",
       " <a list of 10 Patch objects>)"
      ]
     },
     "execution_count": 5,
     "metadata": {},
     "output_type": "execute_result"
    },
    {
     "data": {
      "image/png": "[encoded data removed]",
      "text/plain": [
       "<Figure size 432x288 with 1 Axes>"
      ]
     },
     "metadata": {
      "needs_background": "light"
     },
     "output_type": "display_data"
    }
   ],
   "source": [
    "plt.hist(y_train)"
   ]
  },
  {
   "cell_type": "code",
   "execution_count": 6,
   "metadata": {
    "ExecuteTime": {
     "end_time": "2019-01-01T22:22:57.112573Z",
     "start_time": "2019-01-01T22:22:49.473044Z"
    }
   },
   "outputs": [
    {
     "data": {
      "text/plain": [
       "calories       sodium           0.996547\n",
       "sodium         calories         0.996547\n",
       "calories       fat              0.996492\n",
       "fat            calories         0.996492\n",
       "               sodium           0.986393\n",
       "sodium         fat              0.986393\n",
       "peanut free    soy free         0.940443\n",
       "soy free       peanut free      0.940443\n",
       "pescatarian    kosher           0.876206\n",
       "kosher         pescatarian      0.876206\n",
       "drink          alcoholic        0.851875\n",
       "alcoholic      drink            0.851875\n",
       "snack week     snack            0.819680\n",
       "snack          snack week       0.819680\n",
       "tree nut free  peanut free      0.819604\n",
       "peanut free    tree nut free    0.819604\n",
       "protein        sodium           0.817770\n",
       "sodium         protein          0.817770\n",
       "protein        calories         0.802612\n",
       "calories       protein          0.802612\n",
       "tree nut free  soy free         0.787444\n",
       "soy free       tree nut free    0.787444\n",
       "illinois       chicago          0.774527\n",
       "chicago        illinois         0.774527\n",
       "protein        fat              0.769683\n",
       "fat            protein          0.769683\n",
       "pescatarian    vegetarian       0.744437\n",
       "vegetarian     pescatarian      0.744437\n",
       "               kosher           0.738762\n",
       "kosher         vegetarian       0.738762\n",
       "pescatarian    peanut free      0.737516\n",
       "peanut free    pescatarian      0.737516\n",
       "soy free       pescatarian      0.737504\n",
       "pescatarian    soy free         0.737504\n",
       "breakfast      brunch           0.737185\n",
       "brunch         breakfast        0.737185\n",
       "peanut free    kosher           0.733474\n",
       "kosher         peanut free      0.733474\n",
       "               soy free         0.727231\n",
       "soy free       kosher           0.727231\n",
       "dtype: float64"
      ]
     },
     "execution_count": 6,
     "metadata": {},
     "output_type": "execute_result"
    }
   ],
   "source": [
    "# lets see what features are extrmely correlated\n",
    "cm = X_train.corr()\n",
    "s = cm.unstack()\n",
    "so = s[s!=1.0].sort_values(kind=\"quicksort\", ascending=False)\n",
    "so[so>=0.7]"
   ]
  },
  {
   "cell_type": "code",
   "execution_count": 4,
   "metadata": {
    "ExecuteTime": {
     "end_time": "2019-01-02T00:10:09.131154Z",
     "start_time": "2019-01-02T00:10:07.826822Z"
    }
   },
   "outputs": [],
   "source": [
    "# features to combine* (binary interaction)\n",
    "features1 = ['calories', 'calories', 'sodium', 'peanut free', \n",
    "             'pescatarian', 'drink', 'peanut free', 'portland', \n",
    "             'soy free', 'sodium', 'vegetarian', 'snack week', \n",
    "             'pescatarian', 'kosher', 'peanut free', 'peanut free', \n",
    "             'soy free', 'calories', 'brunch', 'kentucky', 'denver', \n",
    "             'louisiana', 'new orleans']\n",
    "\n",
    "features2 = ['sodium', 'fat', 'fat', 'soy free', 'kosher', 'alcoholic', \n",
    "             'tree nut free', 'oregon', 'tree nut free', 'protein', \n",
    "             'pescatarian', 'snack', 'soy free', 'vegetarian', \n",
    "             'pescatarian', 'kosher', 'kosher', 'protein', 'breakfast', \n",
    "             'louisville', 'omelet', 'kitchen olympics', 'louisiana']\n",
    "\n",
    "for a,b in zip(features1, features2):\n",
    "    X_train[a + \"_\" + b] = X_train[a] * X_train[b]\n",
    "    X_test[a + \"_\" + b] = X_test[a] * X_test[b]"
   ]
  },
  {
   "cell_type": "markdown",
   "metadata": {},
   "source": [
    "# Feature Selection  \n",
    "## Random Forest  \n",
    "\n",
    "We will first predict how likely the recipe is a high (>=2.5 rating) or low (<2.5), and given this predicted probability we can feed the data to a further model (2 layer)."
   ]
  },
  {
   "cell_type": "code",
   "execution_count": 5,
   "metadata": {
    "ExecuteTime": {
     "end_time": "2019-01-02T00:10:12.106977Z",
     "start_time": "2019-01-02T00:10:11.779701Z"
    }
   },
   "outputs": [],
   "source": [
    "X_train_dummy = pd.get_dummies(X_train)\n",
    "# convert all columns to int's and make source_pc binary\n",
    "X_train_dummy = X_train_dummy.astype(int)"
   ]
  },
  {
   "cell_type": "markdown",
   "metadata": {},
   "source": [
    "**High or Low rating?** (<= 2.5)"
   ]
  },
  {
   "cell_type": "code",
   "execution_count": 6,
   "metadata": {
    "ExecuteTime": {
     "end_time": "2019-01-02T00:10:14.310353Z",
     "start_time": "2019-01-02T00:10:14.305939Z"
    }
   },
   "outputs": [],
   "source": [
    "# Features & Target\n",
    "y_low = y_train <= 2.5\n",
    "\n",
    "#Pipeline Construction.\n",
    "anova_low = SelectKBest(f_classif, k=30)\n",
    "svc_low = SVC(kernel='linear')\n",
    "anova_svc = make_pipeline(anova_low, svc_low)"
   ]
  },
  {
   "cell_type": "code",
   "execution_count": 7,
   "metadata": {
    "ExecuteTime": {
     "end_time": "2019-01-02T00:10:26.459196Z",
     "start_time": "2019-01-02T00:10:21.201463Z"
    }
   },
   "outputs": [
    {
     "name": "stdout",
     "output_type": "stream",
     "text": [
      "Cross-Validation Scores: [0.87983798 0.88073807 0.87843314 0.88828829 0.88423423]\n",
      "Cross-Validation Score Averaged Across Folds: 88.23%.\n",
      "\n",
      "Selected Features: ['alcoholic', 'bake', 'bitters', 'bon appétit', 'brandy', 'chartreuse', 'chile pepper', 'cocktail', 'cocktail party', 'condiment', 'créme de cacao', 'drink', 'fall', 'fortified wine', 'gin', 'harpercollins', 'house & garden', 'liqueur', 'non-alcoholic', 'punch', 'roast', 'rum', 'rye', 'sauce', 'sauté', 'spirit', 'vegan', 'weelicious', 'winter', 'drink_alcoholic']\n",
      "\n"
     ]
    }
   ],
   "source": [
    "#Fitting & Cross-Validation.\n",
    "anova_svc.fit(X_train_dummy,y_low)\n",
    "scores_low = cross_val_score(anova_svc, X_train_dummy, y_low, cv=5)\n",
    "\n",
    "#De-Masking Selected Features.\n",
    "features_low = anova_low.get_support(indices=True)\n",
    "selected_features_low = list(X_train_dummy.columns[features_low])\n",
    "\n",
    "#Printing Outcomes.\n",
    "print('Cross-Validation Scores: {}'.format(scores_low))\n",
    "print('Cross-Validation Score Averaged Across Folds: {:.2%}.\\n'.format(scores_low.mean()))\n",
    "print('Selected Features: {}\\n'.format(selected_features_low))"
   ]
  },
  {
   "cell_type": "code",
   "execution_count": 8,
   "metadata": {
    "ExecuteTime": {
     "end_time": "2019-01-02T00:10:34.288990Z",
     "start_time": "2019-01-02T00:10:32.549960Z"
    }
   },
   "outputs": [
    {
     "data": {
      "text/plain": [
       "SVC(C=1.0, cache_size=200, class_weight=None, coef0=0.0,\n",
       "  decision_function_shape='ovr', degree=3, gamma='auto_deprecated',\n",
       "  kernel='rbf', max_iter=-1, probability=False, random_state=None,\n",
       "  shrinking=True, tol=0.001, verbose=False)"
      ]
     },
     "execution_count": 8,
     "metadata": {},
     "output_type": "execute_result"
    }
   ],
   "source": [
    "svc_1ow = SVC()\n",
    "X_low = X_train[selected_features_low]\n",
    "svc_1ow.fit(X_low,y_low)"
   ]
  },
  {
   "cell_type": "code",
   "execution_count": 9,
   "metadata": {
    "ExecuteTime": {
     "end_time": "2019-01-02T00:10:48.984773Z",
     "start_time": "2019-01-02T00:10:42.633567Z"
    }
   },
   "outputs": [
    {
     "name": "stdout",
     "output_type": "stream",
     "text": [
      "Cross-Validation Scores: [0.88658866 0.88253825 0.88473661 0.88603604 0.88198198]\n",
      "Cross-Validation Score Averaged Across Folds: 88.44%.\n",
      "\n"
     ]
    }
   ],
   "source": [
    "scores_low = cross_val_score(svc_1ow, X_train[selected_features_low], y_low, cv=5)\n",
    "print('Cross-Validation Scores: {}'.format(scores_low))\n",
    "print('Cross-Validation Score Averaged Across Folds: {:.2%}.\\n'.format(scores_low.mean()))"
   ]
  },
  {
   "cell_type": "code",
   "execution_count": 10,
   "metadata": {
    "ExecuteTime": {
     "end_time": "2019-01-02T00:11:11.435519Z",
     "start_time": "2019-01-02T00:11:10.220434Z"
    }
   },
   "outputs": [],
   "source": [
    "y_pred_train = svc_1ow.predict(X_train[selected_features_low]).astype(int)"
   ]
  },
  {
   "cell_type": "markdown",
   "metadata": {},
   "source": [
    "This model simply predicts if the given recipe will be rated high or low. Let's see how it performs on the test set.  "
   ]
  },
  {
   "cell_type": "code",
   "execution_count": 11,
   "metadata": {
    "ExecuteTime": {
     "end_time": "2019-01-02T00:11:13.829740Z",
     "start_time": "2019-01-02T00:11:13.650359Z"
    }
   },
   "outputs": [
    {
     "name": "stdout",
     "output_type": "stream",
     "text": [
      "              precision    recall  f1-score   support\n",
      "\n",
      "           0       0.89      1.00      0.94      9762\n",
      "           1       0.81      0.08      0.15      1343\n",
      "\n",
      "   micro avg       0.89      0.89      0.89     11105\n",
      "   macro avg       0.85      0.54      0.54     11105\n",
      "weighted avg       0.88      0.89      0.84     11105\n",
      "\n"
     ]
    },
    {
     "data": {
      "image/png": "[encoded data removed]",
      "text/plain": [
       "<Figure size 360x288 with 2 Axes>"
      ]
     },
     "metadata": {
      "needs_background": "light"
     },
     "output_type": "display_data"
    }
   ],
   "source": [
    "#Clasification report\n",
    "results_train = metrics.classification_report(y_true=(y_train<=2.5).astype(int), y_pred=y_pred_train)\n",
    "print(results_train)\n",
    "\n",
    "#Confusion Matrix\n",
    "cm_low = metrics.confusion_matrix(y_true=(y_train<=2.5).astype(int), y_pred=y_pred_train)\n",
    "f,ax = plt.subplots(figsize=(5, 4))\n",
    "sns.heatmap(cm_low, annot=True, linewidths=.5, fmt= '.1f',ax=ax);"
   ]
  },
  {
   "cell_type": "markdown",
   "metadata": {},
   "source": [
    "### Evaluation"
   ]
  },
  {
   "cell_type": "code",
   "execution_count": 12,
   "metadata": {
    "ExecuteTime": {
     "end_time": "2019-01-02T00:11:28.941614Z",
     "start_time": "2019-01-02T00:11:28.225581Z"
    }
   },
   "outputs": [
    {
     "name": "stdout",
     "output_type": "stream",
     "text": [
      "              precision    recall  f1-score   support\n",
      "\n",
      "           0       0.89      1.00      0.94      4197\n",
      "           1       0.78      0.06      0.12       562\n",
      "\n",
      "   micro avg       0.89      0.89      0.89      4759\n",
      "   macro avg       0.83      0.53      0.53      4759\n",
      "weighted avg       0.88      0.89      0.84      4759\n",
      "\n"
     ]
    },
    {
     "data": {
      "image/png": "[encoded data removed]",
      "text/plain": [
       "<Figure size 360x288 with 2 Axes>"
      ]
     },
     "metadata": {
      "needs_background": "light"
     },
     "output_type": "display_data"
    }
   ],
   "source": [
    "y_pred_test = svc_1ow.predict(X_test[selected_features_low])\n",
    "#Clasification report\n",
    "results_test = metrics.classification_report(y_true=(y_test<=2.5).astype(int), y_pred=y_pred_test)\n",
    "print(results_test)\n",
    "\n",
    "#Confusion Matrix\n",
    "cm_test = metrics.confusion_matrix(y_true=(y_test<=2.5).astype(int), y_pred=y_pred_test)\n",
    "f,ax = plt.subplots(figsize=(5, 4))\n",
    "sns.heatmap(cm_test, annot=True, linewidths=.5, fmt= '.1f',ax=ax);"
   ]
  },
  {
   "cell_type": "markdown",
   "metadata": {},
   "source": [
    "## Further classification  \n",
    "The above model will predict whether or not the given recipe will be a low or high rating. If, instead, we want to predict the overall rating (7 levels from 0 to 5), we can still use a classifier, but this time with 8 possible outcomes. First let's define that mapping."
   ]
  },
  {
   "cell_type": "code",
   "execution_count": 13,
   "metadata": {
    "ExecuteTime": {
     "end_time": "2019-01-02T00:11:52.098096Z",
     "start_time": "2019-01-02T00:11:52.094660Z"
    }
   },
   "outputs": [],
   "source": [
    "z = {0.0: 0, 1.25: 1, 1.875: 2, 2.5: 3, 3.125: 4, 3.75: 5, 4.375: 6, 5.0: 7}"
   ]
  },
  {
   "cell_type": "code",
   "execution_count": 14,
   "metadata": {
    "ExecuteTime": {
     "end_time": "2019-01-02T00:12:16.967147Z",
     "start_time": "2019-01-02T00:11:55.167252Z"
    }
   },
   "outputs": [
    {
     "name": "stdout",
     "output_type": "stream",
     "text": [
      "Cross-Validation Scores: [0.88658866 0.88253825 0.88473661 0.88603604 0.88198198]\n",
      "Cross-Validation Score Averaged Across Folds: 88.44%.\n",
      "\n",
      "Selected Features: ['alcoholic', 'bake', 'bitters', 'bon appétit', 'brandy', 'chile pepper', 'cocktail', 'cocktail party', 'condiment', 'crêpe', 'drink', 'fall', 'gin', 'gourmet', 'harpercollins', 'house & garden', 'lime juice', 'liqueur', 'pasta', 'peanut free', 'quick & easy', 'rum', 'sauce', 'sauté', 'soy free', 'spirit', 'tested & improved', 'vegetable', 'peanut free_soy free', 'drink_alcoholic']\n",
      "\n"
     ]
    }
   ],
   "source": [
    "# Features & Target\n",
    "y = y_train.map(z)\n",
    "\n",
    "#Pipeline Construction.\n",
    "anova = SelectKBest(f_classif, k=30)\n",
    "svc = SVC(kernel='linear')\n",
    "anova_svc = make_pipeline(anova, svc)\n",
    "\n",
    "#Fitting & Cross-Validation.\n",
    "anova_svc.fit(X_train_dummy,y)\n",
    "scores = cross_val_score(anova_svc, X_train_dummy, y, cv=5)\n",
    "#De-Masking Selected Features.\n",
    "features = anova.get_support(indices=True)  \n",
    "selected_features = list(X_train_dummy.columns[features])\n",
    "\n",
    "#Printing Outcomes.\n",
    "print('Cross-Validation Scores: {}'.format(scores_low))\n",
    "print('Cross-Validation Score Averaged Across Folds: {:.2%}.\\n'.format(scores_low.mean()))\n",
    "print('Selected Features: {}\\n'.format(selected_features))"
   ]
  },
  {
   "cell_type": "code",
   "execution_count": 15,
   "metadata": {
    "ExecuteTime": {
     "end_time": "2019-01-02T00:15:22.606570Z",
     "start_time": "2019-01-02T00:12:20.307764Z"
    }
   },
   "outputs": [
    {
     "name": "stdout",
     "output_type": "stream",
     "text": [
      "Cross-Validation Scores: [0.4260009  0.42825011 0.42503377 0.42683476 0.43527289]\n",
      "Cross-Validation Score Averaged Across Folds: 42.83%.\n",
      "\n"
     ]
    }
   ],
   "source": [
    "svc2 = SVC(probability=True)\n",
    "X = X_train[selected_features]\n",
    "svc2.fit(X,y)\n",
    "\n",
    "scores2 = cross_val_score(svc2, X_train[selected_features], y, cv=5)\n",
    "print('Cross-Validation Scores: {}'.format(scores2))\n",
    "print('Cross-Validation Score Averaged Across Folds: {:.2%}.\\n'.format(scores2.mean()))\n",
    "\n",
    "p_pred = svc2.predict_proba(X_test[selected_features])"
   ]
  },
  {
   "cell_type": "code",
   "execution_count": 16,
   "metadata": {
    "ExecuteTime": {
     "end_time": "2019-01-02T00:15:26.234427Z",
     "start_time": "2019-01-02T00:15:26.222573Z"
    }
   },
   "outputs": [
    {
     "name": "stdout",
     "output_type": "stream",
     "text": [
      "              precision    recall  f1-score   support\n",
      "\n",
      "           0       0.44      0.24      0.31       381\n",
      "           1       0.00      0.00      0.00        34\n",
      "           2       0.00      0.00      0.00        22\n",
      "           3       0.00      0.00      0.00       125\n",
      "           4       0.00      0.00      0.00       353\n",
      "           5       0.40      0.03      0.06      1217\n",
      "           6       0.43      0.96      0.59      1973\n",
      "           7       0.43      0.02      0.04       654\n",
      "\n",
      "   micro avg       0.43      0.43      0.43      4759\n",
      "   macro avg       0.21      0.16      0.13      4759\n",
      "weighted avg       0.37      0.43      0.29      4759\n",
      "\n"
     ]
    }
   ],
   "source": [
    "y_pred_test = p_pred.argmax(axis=1)\n",
    "#Clasification report\n",
    "results = metrics.classification_report(y_true=y_test.map(z), y_pred=y_pred_test)\n",
    "print(results)"
   ]
  },
  {
   "cell_type": "markdown",
   "metadata": {},
   "source": [
    "So this model is only ok with those recipes with a 0, 4.375 or 5 rating, which is likely a result of the original distribution of ratings (as well as other things). These groups have larger sample sizes, but it is interesting to notice that it was unable to classify any review with a rating of 3.75 even though this group has a relatively large group size."
   ]
  },
  {
   "cell_type": "code",
   "execution_count": 89,
   "metadata": {
    "ExecuteTime": {
     "end_time": "2019-01-01T22:09:24.392318Z",
     "start_time": "2019-01-01T22:09:24.386242Z"
    }
   },
   "outputs": [
    {
     "data": {
      "text/plain": [
       "0.000    1836\n",
       "1.250     164\n",
       "1.875     124\n",
       "2.500     532\n",
       "3.125    1489\n",
       "3.750    5169\n",
       "4.375    8019\n",
       "5.000    2719\n",
       "Name: rating, dtype: int64"
      ]
     },
     "execution_count": 89,
     "metadata": {},
     "output_type": "execute_result"
    }
   ],
   "source": [
    "raw_data.rating.value_counts().sort_index()"
   ]
  },
  {
   "cell_type": "markdown",
   "metadata": {
    "ExecuteTime": {
     "end_time": "2019-01-01T22:33:46.704332Z",
     "start_time": "2019-01-01T22:33:46.700195Z"
    }
   },
   "source": [
    "**Improvements**  \n",
    "\n",
    "This is a pretty small set of features, try doubling this?"
   ]
  },
  {
   "cell_type": "code",
   "execution_count": 17,
   "metadata": {
    "ExecuteTime": {
     "end_time": "2019-01-02T00:16:37.360339Z",
     "start_time": "2019-01-02T00:15:50.768283Z"
    }
   },
   "outputs": [
    {
     "name": "stdout",
     "output_type": "stream",
     "text": [
      "Cross-Validation Scores: [0.88658866 0.88253825 0.88473661 0.88603604 0.88198198]\n",
      "Cross-Validation Score Averaged Across Folds: 88.44%.\n",
      "\n",
      "Selected Features: ['alcoholic', 'backyard bbq', 'bake', 'bitters', 'bon appétit', 'brandy', 'bread', 'chartreuse', 'cheese', 'chicken', 'chile pepper', 'cocktail', 'cocktail party', 'condiment', 'créme de cacao', 'crêpe', 'dinner', 'drink', 'fall', 'fat free', 'fortified wine', 'fruit juice', 'gin', 'gourmet', 'harpercollins', 'house & garden', 'lime juice', 'liqueur', 'no sugar added', 'non-alcoholic', 'party', 'pasta', 'peanut free', 'pescatarian', 'punch', 'quick & easy', 'roast', 'rum', 'rye', 'sauce', 'sauté', 'side', 'soy free', 'spirit', 'tested & improved', 'thanksgiving', 'tomato', 'tree nut free', 'vegan', 'vegetable', 'vegetarian', 'vodka', 'weelicious', 'winter', 'leftovers', 'peanut free_soy free', 'drink_alcoholic', 'peanut free_tree nut free', 'soy free_tree nut free', 'peanut free_pescatarian']\n",
      "\n"
     ]
    }
   ],
   "source": [
    "# Features & Target\n",
    "y = y_train.map(z)\n",
    "\n",
    "#Pipeline Construction.\n",
    "anova = SelectKBest(f_classif, k=60)\n",
    "svc = SVC(kernel='linear')\n",
    "anova_svc = make_pipeline(anova, svc)\n",
    "\n",
    "#Fitting & Cross-Validation.\n",
    "anova_svc.fit(X_train_dummy,y)\n",
    "scores = cross_val_score(anova_svc, X_train_dummy, y, cv=5)\n",
    "#De-Masking Selected Features.\n",
    "features = anova.get_support(indices=True)  \n",
    "selected_features = list(X_train_dummy.columns[features])\n",
    "\n",
    "#Printing Outcomes.\n",
    "print('Cross-Validation Scores: {}'.format(scores_low))\n",
    "print('Cross-Validation Score Averaged Across Folds: {:.2%}.\\n'.format(scores_low.mean()))\n",
    "print('Selected Features: {}\\n'.format(selected_features))"
   ]
  },
  {
   "cell_type": "code",
   "execution_count": 18,
   "metadata": {
    "ExecuteTime": {
     "end_time": "2019-01-02T00:24:15.182357Z",
     "start_time": "2019-01-02T00:18:37.577436Z"
    }
   },
   "outputs": [
    {
     "name": "stdout",
     "output_type": "stream",
     "text": [
      "Cross-Validation Scores: [0.42465137 0.42375169 0.42503377 0.42233228 0.42805593]\n",
      "Cross-Validation Score Averaged Across Folds: 42.48%.\n",
      "\n"
     ]
    }
   ],
   "source": [
    "svc2 = SVC(probability=True)\n",
    "X = X_train[selected_features]\n",
    "svc2.fit(X,y)\n",
    "\n",
    "scores2 = cross_val_score(svc2, X_train[selected_features], y, cv=5)\n",
    "print('Cross-Validation Scores: {}'.format(scores2))\n",
    "print('Cross-Validation Score Averaged Across Folds: {:.2%}.\\n'.format(scores2.mean()))\n",
    "\n",
    "p_pred = svc2.predict_proba(X_test[selected_features])"
   ]
  },
  {
   "cell_type": "code",
   "execution_count": 19,
   "metadata": {
    "ExecuteTime": {
     "end_time": "2019-01-02T00:26:28.813853Z",
     "start_time": "2019-01-02T00:26:28.802364Z"
    }
   },
   "outputs": [
    {
     "name": "stdout",
     "output_type": "stream",
     "text": [
      "              precision    recall  f1-score   support\n",
      "\n",
      "           0       0.44      0.25      0.32       381\n",
      "           1       0.00      0.00      0.00        34\n",
      "           2       0.00      0.00      0.00        22\n",
      "           3       0.00      0.00      0.00       125\n",
      "           4       0.00      0.00      0.00       353\n",
      "           5       0.38      0.07      0.11      1217\n",
      "           6       0.43      0.93      0.59      1973\n",
      "           7       0.56      0.02      0.03       654\n",
      "\n",
      "   micro avg       0.43      0.43      0.43      4759\n",
      "   macro avg       0.22      0.16      0.13      4759\n",
      "weighted avg       0.38      0.43      0.30      4759\n",
      "\n"
     ]
    }
   ],
   "source": [
    "y_pred_test = p_pred.argmax(axis=1)\n",
    "#Clasification report\n",
    "results = metrics.classification_report(y_true=y_test.map(z), y_pred=y_pred_test)\n",
    "print(results)"
   ]
  },
  {
   "cell_type": "markdown",
   "metadata": {},
   "source": [
    "So by adding these 30 features we are now able to pick up on the 3.75 rating class, but at the cost of 0 and 5 ratings. LASSO regression might next be used to identify features.  \n",
    "\n",
    "**LASSO Regression**  "
   ]
  },
  {
   "cell_type": "code",
   "execution_count": 20,
   "metadata": {
    "ExecuteTime": {
     "end_time": "2019-01-02T00:27:47.714111Z",
     "start_time": "2019-01-02T00:26:37.570981Z"
    }
   },
   "outputs": [
    {
     "data": {
      "text/plain": [
       "LogisticRegression(C=1.0, class_weight=None, dual=False, fit_intercept=True,\n",
       "          intercept_scaling=1, max_iter=100, multi_class='multinomial',\n",
       "          n_jobs=None, penalty='l1', random_state=None, solver='saga',\n",
       "          tol=0.0001, verbose=0, warm_start=False)"
      ]
     },
     "execution_count": 20,
     "metadata": {},
     "output_type": "execute_result"
    }
   ],
   "source": [
    "from sklearn.linear_model import LogisticRegression\n",
    "solvers = ['newton-cg', 'lbfgs', 'liblinear', 'sag', 'saga']\n",
    "lassoregr = LogisticRegression(penalty ='l1', solver=solvers[4], multi_class='multinomial')\n",
    "lassoregr.fit(X_train, y_train.map(z))"
   ]
  },
  {
   "cell_type": "code",
   "execution_count": 21,
   "metadata": {
    "ExecuteTime": {
     "end_time": "2019-01-02T00:27:53.948332Z",
     "start_time": "2019-01-02T00:27:53.913128Z"
    }
   },
   "outputs": [
    {
     "data": {
      "text/html": [
       "<div>\n",
       "<style scoped>\n",
       "    .dataframe tbody tr th:only-of-type {\n",
       "        vertical-align: middle;\n",
       "    }\n",
       "\n",
       "    .dataframe tbody tr th {\n",
       "        vertical-align: top;\n",
       "    }\n",
       "\n",
       "    .dataframe thead th {\n",
       "        text-align: right;\n",
       "    }\n",
       "</style>\n",
       "<table border=\"1\" class=\"dataframe\">\n",
       "  <thead>\n",
       "    <tr style=\"text-align: right;\">\n",
       "      <th></th>\n",
       "      <th>0</th>\n",
       "      <th>1</th>\n",
       "      <th>2</th>\n",
       "      <th>3</th>\n",
       "      <th>4</th>\n",
       "      <th>5</th>\n",
       "      <th>6</th>\n",
       "      <th>7</th>\n",
       "    </tr>\n",
       "  </thead>\n",
       "  <tbody>\n",
       "    <tr>\n",
       "      <th>calories</th>\n",
       "      <td>-1.709866e-21</td>\n",
       "      <td>-1.874135e-21</td>\n",
       "      <td>-1.882918e-21</td>\n",
       "      <td>-1.833163e-21</td>\n",
       "      <td>2.062439e-21</td>\n",
       "      <td>-1.035701e-21</td>\n",
       "      <td>1.369090e-21</td>\n",
       "      <td>4.904255e-21</td>\n",
       "    </tr>\n",
       "    <tr>\n",
       "      <th>protein</th>\n",
       "      <td>-6.236033e-23</td>\n",
       "      <td>-6.729945e-23</td>\n",
       "      <td>-6.774123e-23</td>\n",
       "      <td>-6.593807e-23</td>\n",
       "      <td>4.538165e-24</td>\n",
       "      <td>-3.064876e-23</td>\n",
       "      <td>-1.355278e-23</td>\n",
       "      <td>3.030044e-22</td>\n",
       "    </tr>\n",
       "    <tr>\n",
       "      <th>fat</th>\n",
       "      <td>-8.402358e-23</td>\n",
       "      <td>-9.176471e-23</td>\n",
       "      <td>-9.215952e-23</td>\n",
       "      <td>-8.955485e-23</td>\n",
       "      <td>1.298931e-22</td>\n",
       "      <td>-4.421476e-23</td>\n",
       "      <td>1.118184e-22</td>\n",
       "      <td>1.600071e-22</td>\n",
       "    </tr>\n",
       "    <tr>\n",
       "      <th>sodium</th>\n",
       "      <td>-1.762513e-21</td>\n",
       "      <td>-2.076050e-21</td>\n",
       "      <td>-2.086904e-21</td>\n",
       "      <td>-2.014142e-21</td>\n",
       "      <td>1.969075e-21</td>\n",
       "      <td>-9.244801e-22</td>\n",
       "      <td>1.273072e-21</td>\n",
       "      <td>5.621944e-21</td>\n",
       "    </tr>\n",
       "    <tr>\n",
       "      <th>#cakeweek</th>\n",
       "      <td>0.000000e+00</td>\n",
       "      <td>0.000000e+00</td>\n",
       "      <td>0.000000e+00</td>\n",
       "      <td>0.000000e+00</td>\n",
       "      <td>0.000000e+00</td>\n",
       "      <td>0.000000e+00</td>\n",
       "      <td>0.000000e+00</td>\n",
       "      <td>0.000000e+00</td>\n",
       "    </tr>\n",
       "    <tr>\n",
       "      <th>#wasteless</th>\n",
       "      <td>0.000000e+00</td>\n",
       "      <td>0.000000e+00</td>\n",
       "      <td>0.000000e+00</td>\n",
       "      <td>0.000000e+00</td>\n",
       "      <td>0.000000e+00</td>\n",
       "      <td>0.000000e+00</td>\n",
       "      <td>0.000000e+00</td>\n",
       "      <td>0.000000e+00</td>\n",
       "    </tr>\n",
       "    <tr>\n",
       "      <th>22-minute meals</th>\n",
       "      <td>-7.396022e-29</td>\n",
       "      <td>-7.396022e-29</td>\n",
       "      <td>-7.396022e-29</td>\n",
       "      <td>-7.396022e-29</td>\n",
       "      <td>-7.396023e-29</td>\n",
       "      <td>0.000000e+00</td>\n",
       "      <td>1.090525e-27</td>\n",
       "      <td>5.205354e-28</td>\n",
       "    </tr>\n",
       "    <tr>\n",
       "      <th>3-ingredient recipes</th>\n",
       "      <td>2.671136e-27</td>\n",
       "      <td>-3.034730e-28</td>\n",
       "      <td>-3.034730e-28</td>\n",
       "      <td>-3.034730e-28</td>\n",
       "      <td>0.000000e+00</td>\n",
       "      <td>0.000000e+00</td>\n",
       "      <td>0.000000e+00</td>\n",
       "      <td>0.000000e+00</td>\n",
       "    </tr>\n",
       "    <tr>\n",
       "      <th>30 days of groceries</th>\n",
       "      <td>0.000000e+00</td>\n",
       "      <td>0.000000e+00</td>\n",
       "      <td>0.000000e+00</td>\n",
       "      <td>0.000000e+00</td>\n",
       "      <td>0.000000e+00</td>\n",
       "      <td>2.229999e-28</td>\n",
       "      <td>0.000000e+00</td>\n",
       "      <td>0.000000e+00</td>\n",
       "    </tr>\n",
       "    <tr>\n",
       "      <th>advance prep required</th>\n",
       "      <td>1.909118e-27</td>\n",
       "      <td>-2.773355e-27</td>\n",
       "      <td>-3.359696e-27</td>\n",
       "      <td>-2.780635e-27</td>\n",
       "      <td>-4.318050e-28</td>\n",
       "      <td>3.053374e-27</td>\n",
       "      <td>3.666585e-27</td>\n",
       "      <td>7.214542e-28</td>\n",
       "    </tr>\n",
       "    <tr>\n",
       "      <th>alabama</th>\n",
       "      <td>0.000000e+00</td>\n",
       "      <td>0.000000e+00</td>\n",
       "      <td>0.000000e+00</td>\n",
       "      <td>0.000000e+00</td>\n",
       "      <td>0.000000e+00</td>\n",
       "      <td>0.000000e+00</td>\n",
       "      <td>0.000000e+00</td>\n",
       "      <td>0.000000e+00</td>\n",
       "    </tr>\n",
       "    <tr>\n",
       "      <th>alaska</th>\n",
       "      <td>0.000000e+00</td>\n",
       "      <td>0.000000e+00</td>\n",
       "      <td>0.000000e+00</td>\n",
       "      <td>0.000000e+00</td>\n",
       "      <td>0.000000e+00</td>\n",
       "      <td>0.000000e+00</td>\n",
       "      <td>0.000000e+00</td>\n",
       "      <td>0.000000e+00</td>\n",
       "    </tr>\n",
       "    <tr>\n",
       "      <th>alcoholic</th>\n",
       "      <td>7.862488e-26</td>\n",
       "      <td>-2.576267e-26</td>\n",
       "      <td>-2.980986e-26</td>\n",
       "      <td>-2.450213e-26</td>\n",
       "      <td>-2.227231e-26</td>\n",
       "      <td>-3.540275e-27</td>\n",
       "      <td>-1.204842e-27</td>\n",
       "      <td>3.078188e-26</td>\n",
       "    </tr>\n",
       "    <tr>\n",
       "      <th>almond</th>\n",
       "      <td>-6.397487e-27</td>\n",
       "      <td>-2.325494e-26</td>\n",
       "      <td>-2.384633e-26</td>\n",
       "      <td>-2.089394e-26</td>\n",
       "      <td>-9.861858e-27</td>\n",
       "      <td>1.012023e-26</td>\n",
       "      <td>7.004562e-26</td>\n",
       "      <td>5.260025e-27</td>\n",
       "    </tr>\n",
       "    <tr>\n",
       "      <th>amaretto</th>\n",
       "      <td>-1.018718e-27</td>\n",
       "      <td>-1.018718e-27</td>\n",
       "      <td>-1.018718e-27</td>\n",
       "      <td>-1.018718e-27</td>\n",
       "      <td>0.000000e+00</td>\n",
       "      <td>1.302969e-27</td>\n",
       "      <td>3.066945e-27</td>\n",
       "      <td>7.298647e-28</td>\n",
       "    </tr>\n",
       "    <tr>\n",
       "      <th>anchovy</th>\n",
       "      <td>1.050952e-27</td>\n",
       "      <td>-7.343573e-28</td>\n",
       "      <td>-7.343573e-28</td>\n",
       "      <td>-7.343573e-28</td>\n",
       "      <td>-7.343573e-28</td>\n",
       "      <td>0.000000e+00</td>\n",
       "      <td>1.004696e-27</td>\n",
       "      <td>1.631079e-27</td>\n",
       "    </tr>\n",
       "    <tr>\n",
       "      <th>anise</th>\n",
       "      <td>-1.115976e-27</td>\n",
       "      <td>-4.017957e-27</td>\n",
       "      <td>-3.428242e-27</td>\n",
       "      <td>-1.681136e-27</td>\n",
       "      <td>-2.273464e-27</td>\n",
       "      <td>5.929434e-27</td>\n",
       "      <td>9.442283e-27</td>\n",
       "      <td>-5.347764e-28</td>\n",
       "    </tr>\n",
       "    <tr>\n",
       "      <th>anniversary</th>\n",
       "      <td>-3.213258e-27</td>\n",
       "      <td>-4.376483e-27</td>\n",
       "      <td>-3.807434e-27</td>\n",
       "      <td>-2.631828e-27</td>\n",
       "      <td>-3.814497e-27</td>\n",
       "      <td>6.152374e-27</td>\n",
       "      <td>1.199756e-26</td>\n",
       "      <td>8.567019e-28</td>\n",
       "    </tr>\n",
       "    <tr>\n",
       "      <th>anthony bourdain</th>\n",
       "      <td>0.000000e+00</td>\n",
       "      <td>0.000000e+00</td>\n",
       "      <td>0.000000e+00</td>\n",
       "      <td>0.000000e+00</td>\n",
       "      <td>0.000000e+00</td>\n",
       "      <td>0.000000e+00</td>\n",
       "      <td>0.000000e+00</td>\n",
       "      <td>0.000000e+00</td>\n",
       "    </tr>\n",
       "    <tr>\n",
       "      <th>aperitif</th>\n",
       "      <td>0.000000e+00</td>\n",
       "      <td>0.000000e+00</td>\n",
       "      <td>0.000000e+00</td>\n",
       "      <td>0.000000e+00</td>\n",
       "      <td>0.000000e+00</td>\n",
       "      <td>4.654337e-28</td>\n",
       "      <td>0.000000e+00</td>\n",
       "      <td>0.000000e+00</td>\n",
       "    </tr>\n",
       "    <tr>\n",
       "      <th>appetizer</th>\n",
       "      <td>-3.267120e-26</td>\n",
       "      <td>-5.071898e-26</td>\n",
       "      <td>-5.186803e-26</td>\n",
       "      <td>-4.085190e-26</td>\n",
       "      <td>-1.227630e-26</td>\n",
       "      <td>5.477466e-26</td>\n",
       "      <td>1.446773e-25</td>\n",
       "      <td>-8.744141e-27</td>\n",
       "    </tr>\n",
       "    <tr>\n",
       "      <th>apple</th>\n",
       "      <td>-9.141867e-27</td>\n",
       "      <td>-2.723707e-26</td>\n",
       "      <td>-2.601171e-26</td>\n",
       "      <td>-2.487672e-26</td>\n",
       "      <td>-1.497335e-26</td>\n",
       "      <td>3.470897e-26</td>\n",
       "      <td>7.545985e-26</td>\n",
       "      <td>-5.606302e-27</td>\n",
       "    </tr>\n",
       "    <tr>\n",
       "      <th>apple juice</th>\n",
       "      <td>0.000000e+00</td>\n",
       "      <td>0.000000e+00</td>\n",
       "      <td>0.000000e+00</td>\n",
       "      <td>0.000000e+00</td>\n",
       "      <td>0.000000e+00</td>\n",
       "      <td>0.000000e+00</td>\n",
       "      <td>0.000000e+00</td>\n",
       "      <td>0.000000e+00</td>\n",
       "    </tr>\n",
       "    <tr>\n",
       "      <th>apricot</th>\n",
       "      <td>-3.634566e-27</td>\n",
       "      <td>-1.066527e-26</td>\n",
       "      <td>-1.124514e-26</td>\n",
       "      <td>-9.524116e-27</td>\n",
       "      <td>-4.784992e-27</td>\n",
       "      <td>5.674538e-27</td>\n",
       "      <td>3.323839e-26</td>\n",
       "      <td>2.105112e-27</td>\n",
       "    </tr>\n",
       "    <tr>\n",
       "      <th>arizona</th>\n",
       "      <td>0.000000e+00</td>\n",
       "      <td>0.000000e+00</td>\n",
       "      <td>0.000000e+00</td>\n",
       "      <td>0.000000e+00</td>\n",
       "      <td>0.000000e+00</td>\n",
       "      <td>0.000000e+00</td>\n",
       "      <td>1.294975e-27</td>\n",
       "      <td>0.000000e+00</td>\n",
       "    </tr>\n",
       "    <tr>\n",
       "      <th>artichoke</th>\n",
       "      <td>-3.153867e-27</td>\n",
       "      <td>-5.467847e-27</td>\n",
       "      <td>-6.059509e-27</td>\n",
       "      <td>-4.304114e-27</td>\n",
       "      <td>-2.571161e-27</td>\n",
       "      <td>1.263025e-26</td>\n",
       "      <td>1.438417e-26</td>\n",
       "      <td>-3.136027e-27</td>\n",
       "    </tr>\n",
       "    <tr>\n",
       "      <th>arugula</th>\n",
       "      <td>-5.997931e-27</td>\n",
       "      <td>-9.500572e-27</td>\n",
       "      <td>-1.007984e-26</td>\n",
       "      <td>-8.344406e-27</td>\n",
       "      <td>-4.776802e-27</td>\n",
       "      <td>6.296592e-27</td>\n",
       "      <td>3.489504e-26</td>\n",
       "      <td>-1.745843e-28</td>\n",
       "    </tr>\n",
       "    <tr>\n",
       "      <th>asian pear</th>\n",
       "      <td>0.000000e+00</td>\n",
       "      <td>-2.963865e-28</td>\n",
       "      <td>-2.963865e-28</td>\n",
       "      <td>-2.963865e-28</td>\n",
       "      <td>-2.963865e-28</td>\n",
       "      <td>8.902802e-28</td>\n",
       "      <td>1.438494e-27</td>\n",
       "      <td>0.000000e+00</td>\n",
       "    </tr>\n",
       "    <tr>\n",
       "      <th>asparagus</th>\n",
       "      <td>-5.096943e-27</td>\n",
       "      <td>-6.851137e-27</td>\n",
       "      <td>-7.438251e-27</td>\n",
       "      <td>-6.253662e-27</td>\n",
       "      <td>-3.363762e-27</td>\n",
       "      <td>1.236970e-26</td>\n",
       "      <td>2.225827e-26</td>\n",
       "      <td>-3.305495e-27</td>\n",
       "    </tr>\n",
       "    <tr>\n",
       "      <th>aspen</th>\n",
       "      <td>0.000000e+00</td>\n",
       "      <td>0.000000e+00</td>\n",
       "      <td>0.000000e+00</td>\n",
       "      <td>0.000000e+00</td>\n",
       "      <td>0.000000e+00</td>\n",
       "      <td>0.000000e+00</td>\n",
       "      <td>0.000000e+00</td>\n",
       "      <td>0.000000e+00</td>\n",
       "    </tr>\n",
       "    <tr>\n",
       "      <th>...</th>\n",
       "      <td>...</td>\n",
       "      <td>...</td>\n",
       "      <td>...</td>\n",
       "      <td>...</td>\n",
       "      <td>...</td>\n",
       "      <td>...</td>\n",
       "      <td>...</td>\n",
       "      <td>...</td>\n",
       "    </tr>\n",
       "    <tr>\n",
       "      <th>yuca</th>\n",
       "      <td>0.000000e+00</td>\n",
       "      <td>0.000000e+00</td>\n",
       "      <td>0.000000e+00</td>\n",
       "      <td>0.000000e+00</td>\n",
       "      <td>0.000000e+00</td>\n",
       "      <td>0.000000e+00</td>\n",
       "      <td>3.355596e-28</td>\n",
       "      <td>0.000000e+00</td>\n",
       "    </tr>\n",
       "    <tr>\n",
       "      <th>zucchini</th>\n",
       "      <td>-6.123114e-27</td>\n",
       "      <td>-9.020146e-27</td>\n",
       "      <td>-9.031987e-27</td>\n",
       "      <td>-7.295973e-27</td>\n",
       "      <td>-1.405481e-27</td>\n",
       "      <td>2.357854e-26</td>\n",
       "      <td>1.650214e-26</td>\n",
       "      <td>-4.911532e-27</td>\n",
       "    </tr>\n",
       "    <tr>\n",
       "      <th>cookbooks</th>\n",
       "      <td>0.000000e+00</td>\n",
       "      <td>0.000000e+00</td>\n",
       "      <td>0.000000e+00</td>\n",
       "      <td>0.000000e+00</td>\n",
       "      <td>0.000000e+00</td>\n",
       "      <td>0.000000e+00</td>\n",
       "      <td>0.000000e+00</td>\n",
       "      <td>0.000000e+00</td>\n",
       "    </tr>\n",
       "    <tr>\n",
       "      <th>leftovers</th>\n",
       "      <td>2.002315e-27</td>\n",
       "      <td>0.000000e+00</td>\n",
       "      <td>0.000000e+00</td>\n",
       "      <td>0.000000e+00</td>\n",
       "      <td>0.000000e+00</td>\n",
       "      <td>0.000000e+00</td>\n",
       "      <td>0.000000e+00</td>\n",
       "      <td>0.000000e+00</td>\n",
       "    </tr>\n",
       "    <tr>\n",
       "      <th>snack</th>\n",
       "      <td>2.949990e-27</td>\n",
       "      <td>0.000000e+00</td>\n",
       "      <td>-5.084525e-28</td>\n",
       "      <td>-5.084525e-28</td>\n",
       "      <td>0.000000e+00</td>\n",
       "      <td>0.000000e+00</td>\n",
       "      <td>0.000000e+00</td>\n",
       "      <td>0.000000e+00</td>\n",
       "    </tr>\n",
       "    <tr>\n",
       "      <th>snack week</th>\n",
       "      <td>0.000000e+00</td>\n",
       "      <td>0.000000e+00</td>\n",
       "      <td>-1.481762e-28</td>\n",
       "      <td>-1.481762e-28</td>\n",
       "      <td>0.000000e+00</td>\n",
       "      <td>0.000000e+00</td>\n",
       "      <td>0.000000e+00</td>\n",
       "      <td>0.000000e+00</td>\n",
       "    </tr>\n",
       "    <tr>\n",
       "      <th>turkey</th>\n",
       "      <td>-4.306515e-27</td>\n",
       "      <td>-1.653490e-26</td>\n",
       "      <td>-1.653490e-26</td>\n",
       "      <td>-1.478256e-26</td>\n",
       "      <td>-8.366658e-27</td>\n",
       "      <td>5.030889e-27</td>\n",
       "      <td>3.768990e-26</td>\n",
       "      <td>1.896242e-26</td>\n",
       "    </tr>\n",
       "    <tr>\n",
       "      <th>calories_sodium</th>\n",
       "      <td>-8.680331e-15</td>\n",
       "      <td>-8.680553e-15</td>\n",
       "      <td>-8.680561e-15</td>\n",
       "      <td>-8.680525e-15</td>\n",
       "      <td>2.603718e-15</td>\n",
       "      <td>-8.679271e-15</td>\n",
       "      <td>2.524492e-14</td>\n",
       "      <td>1.555261e-14</td>\n",
       "    </tr>\n",
       "    <tr>\n",
       "      <th>calories_fat</th>\n",
       "      <td>-4.312110e-16</td>\n",
       "      <td>-4.312230e-16</td>\n",
       "      <td>-4.312234e-16</td>\n",
       "      <td>-4.312214e-16</td>\n",
       "      <td>1.813208e-16</td>\n",
       "      <td>-4.311386e-16</td>\n",
       "      <td>1.832927e-15</td>\n",
       "      <td>1.417698e-16</td>\n",
       "    </tr>\n",
       "    <tr>\n",
       "      <th>sodium_fat</th>\n",
       "      <td>-3.941704e-16</td>\n",
       "      <td>-3.941829e-16</td>\n",
       "      <td>-3.941831e-16</td>\n",
       "      <td>-3.941812e-16</td>\n",
       "      <td>2.489917e-16</td>\n",
       "      <td>-3.941173e-16</td>\n",
       "      <td>1.679691e-15</td>\n",
       "      <td>4.215184e-17</td>\n",
       "    </tr>\n",
       "    <tr>\n",
       "      <th>peanut free_soy free</th>\n",
       "      <td>-1.793397e-25</td>\n",
       "      <td>-3.074024e-25</td>\n",
       "      <td>-3.125648e-25</td>\n",
       "      <td>-2.444698e-25</td>\n",
       "      <td>-1.204583e-25</td>\n",
       "      <td>3.159784e-25</td>\n",
       "      <td>8.070438e-25</td>\n",
       "      <td>4.237371e-26</td>\n",
       "    </tr>\n",
       "    <tr>\n",
       "      <th>pescatarian_kosher</th>\n",
       "      <td>-1.134015e-25</td>\n",
       "      <td>-2.142691e-25</td>\n",
       "      <td>-2.200596e-25</td>\n",
       "      <td>-1.675790e-25</td>\n",
       "      <td>-6.796694e-26</td>\n",
       "      <td>2.286257e-25</td>\n",
       "      <td>5.365737e-25</td>\n",
       "      <td>1.923720e-26</td>\n",
       "    </tr>\n",
       "    <tr>\n",
       "      <th>drink_alcoholic</th>\n",
       "      <td>7.647096e-26</td>\n",
       "      <td>-2.504029e-26</td>\n",
       "      <td>-2.908748e-26</td>\n",
       "      <td>-2.377979e-26</td>\n",
       "      <td>-2.211619e-26</td>\n",
       "      <td>-3.400316e-27</td>\n",
       "      <td>-1.063231e-27</td>\n",
       "      <td>3.032995e-26</td>\n",
       "    </tr>\n",
       "    <tr>\n",
       "      <th>peanut free_tree nut free</th>\n",
       "      <td>-1.528543e-25</td>\n",
       "      <td>-2.622744e-25</td>\n",
       "      <td>-2.680534e-25</td>\n",
       "      <td>-2.075190e-25</td>\n",
       "      <td>-1.063839e-25</td>\n",
       "      <td>2.850702e-25</td>\n",
       "      <td>6.758965e-25</td>\n",
       "      <td>3.727921e-26</td>\n",
       "    </tr>\n",
       "    <tr>\n",
       "      <th>portland_oregon</th>\n",
       "      <td>1.149259e-27</td>\n",
       "      <td>-1.640592e-30</td>\n",
       "      <td>-1.640592e-30</td>\n",
       "      <td>-1.640592e-30</td>\n",
       "      <td>-1.640593e-30</td>\n",
       "      <td>0.000000e+00</td>\n",
       "      <td>9.483812e-30</td>\n",
       "      <td>0.000000e+00</td>\n",
       "    </tr>\n",
       "    <tr>\n",
       "      <th>soy free_tree nut free</th>\n",
       "      <td>-1.471155e-25</td>\n",
       "      <td>-2.518645e-25</td>\n",
       "      <td>-2.558955e-25</td>\n",
       "      <td>-1.988193e-25</td>\n",
       "      <td>-9.938441e-26</td>\n",
       "      <td>2.728207e-25</td>\n",
       "      <td>6.517119e-25</td>\n",
       "      <td>2.970720e-26</td>\n",
       "    </tr>\n",
       "    <tr>\n",
       "      <th>sodium_protein</th>\n",
       "      <td>-2.214376e-16</td>\n",
       "      <td>-2.214501e-16</td>\n",
       "      <td>-2.214511e-16</td>\n",
       "      <td>-2.214495e-16</td>\n",
       "      <td>-1.834468e-17</td>\n",
       "      <td>-2.213832e-16</td>\n",
       "      <td>-1.180061e-16</td>\n",
       "      <td>1.243522e-15</td>\n",
       "    </tr>\n",
       "    <tr>\n",
       "      <th>vegetarian_pescatarian</th>\n",
       "      <td>-1.072619e-25</td>\n",
       "      <td>-2.028966e-25</td>\n",
       "      <td>-2.086871e-25</td>\n",
       "      <td>-1.591041e-25</td>\n",
       "      <td>-6.537878e-26</td>\n",
       "      <td>2.172832e-25</td>\n",
       "      <td>5.106532e-25</td>\n",
       "      <td>1.655247e-26</td>\n",
       "    </tr>\n",
       "    <tr>\n",
       "      <th>snack week_snack</th>\n",
       "      <td>0.000000e+00</td>\n",
       "      <td>0.000000e+00</td>\n",
       "      <td>-7.597611e-29</td>\n",
       "      <td>-7.597611e-29</td>\n",
       "      <td>0.000000e+00</td>\n",
       "      <td>0.000000e+00</td>\n",
       "      <td>0.000000e+00</td>\n",
       "      <td>0.000000e+00</td>\n",
       "    </tr>\n",
       "    <tr>\n",
       "      <th>pescatarian_soy free</th>\n",
       "      <td>-1.171040e-25</td>\n",
       "      <td>-2.220462e-25</td>\n",
       "      <td>-2.278314e-25</td>\n",
       "      <td>-1.730518e-25</td>\n",
       "      <td>-7.168755e-26</td>\n",
       "      <td>2.256494e-25</td>\n",
       "      <td>5.676153e-25</td>\n",
       "      <td>1.961677e-26</td>\n",
       "    </tr>\n",
       "    <tr>\n",
       "      <th>kosher_vegetarian</th>\n",
       "      <td>-1.072744e-25</td>\n",
       "      <td>-2.046461e-25</td>\n",
       "      <td>-2.104366e-25</td>\n",
       "      <td>-1.608537e-25</td>\n",
       "      <td>-6.594949e-26</td>\n",
       "      <td>2.161211e-25</td>\n",
       "      <td>5.182470e-25</td>\n",
       "      <td>1.595239e-26</td>\n",
       "    </tr>\n",
       "    <tr>\n",
       "      <th>peanut free_pescatarian</th>\n",
       "      <td>-1.169630e-25</td>\n",
       "      <td>-2.248054e-25</td>\n",
       "      <td>-2.317523e-25</td>\n",
       "      <td>-1.740634e-25</td>\n",
       "      <td>-7.335633e-26</td>\n",
       "      <td>2.263476e-25</td>\n",
       "      <td>5.743264e-25</td>\n",
       "      <td>2.142717e-26</td>\n",
       "    </tr>\n",
       "    <tr>\n",
       "      <th>peanut free_kosher</th>\n",
       "      <td>-1.235520e-25</td>\n",
       "      <td>-2.279098e-25</td>\n",
       "      <td>-2.348639e-25</td>\n",
       "      <td>-1.806362e-25</td>\n",
       "      <td>-7.691245e-26</td>\n",
       "      <td>2.424947e-25</td>\n",
       "      <td>5.759308e-25</td>\n",
       "      <td>2.660961e-26</td>\n",
       "    </tr>\n",
       "    <tr>\n",
       "      <th>soy free_kosher</th>\n",
       "      <td>-1.217161e-25</td>\n",
       "      <td>-2.243197e-25</td>\n",
       "      <td>-2.289525e-25</td>\n",
       "      <td>-1.764732e-25</td>\n",
       "      <td>-7.388172e-26</td>\n",
       "      <td>2.385300e-25</td>\n",
       "      <td>5.641739e-25</td>\n",
       "      <td>2.379980e-26</td>\n",
       "    </tr>\n",
       "    <tr>\n",
       "      <th>calories_protein</th>\n",
       "      <td>-2.258680e-16</td>\n",
       "      <td>-2.258747e-16</td>\n",
       "      <td>-2.258756e-16</td>\n",
       "      <td>-2.258742e-16</td>\n",
       "      <td>-2.668937e-17</td>\n",
       "      <td>-2.258241e-16</td>\n",
       "      <td>-7.267316e-17</td>\n",
       "      <td>1.228679e-15</td>\n",
       "    </tr>\n",
       "    <tr>\n",
       "      <th>brunch_breakfast</th>\n",
       "      <td>-1.101566e-26</td>\n",
       "      <td>-2.092073e-26</td>\n",
       "      <td>-2.032546e-26</td>\n",
       "      <td>-1.687015e-26</td>\n",
       "      <td>-5.767416e-27</td>\n",
       "      <td>2.690054e-26</td>\n",
       "      <td>5.146151e-26</td>\n",
       "      <td>-1.141229e-27</td>\n",
       "    </tr>\n",
       "    <tr>\n",
       "      <th>kentucky_louisville</th>\n",
       "      <td>0.000000e+00</td>\n",
       "      <td>0.000000e+00</td>\n",
       "      <td>0.000000e+00</td>\n",
       "      <td>0.000000e+00</td>\n",
       "      <td>0.000000e+00</td>\n",
       "      <td>0.000000e+00</td>\n",
       "      <td>0.000000e+00</td>\n",
       "      <td>0.000000e+00</td>\n",
       "    </tr>\n",
       "    <tr>\n",
       "      <th>denver_omelet</th>\n",
       "      <td>0.000000e+00</td>\n",
       "      <td>0.000000e+00</td>\n",
       "      <td>0.000000e+00</td>\n",
       "      <td>0.000000e+00</td>\n",
       "      <td>0.000000e+00</td>\n",
       "      <td>0.000000e+00</td>\n",
       "      <td>0.000000e+00</td>\n",
       "      <td>0.000000e+00</td>\n",
       "    </tr>\n",
       "    <tr>\n",
       "      <th>louisiana_kitchen olympics</th>\n",
       "      <td>0.000000e+00</td>\n",
       "      <td>0.000000e+00</td>\n",
       "      <td>0.000000e+00</td>\n",
       "      <td>0.000000e+00</td>\n",
       "      <td>0.000000e+00</td>\n",
       "      <td>0.000000e+00</td>\n",
       "      <td>0.000000e+00</td>\n",
       "      <td>0.000000e+00</td>\n",
       "    </tr>\n",
       "    <tr>\n",
       "      <th>new orleans_louisiana</th>\n",
       "      <td>0.000000e+00</td>\n",
       "      <td>0.000000e+00</td>\n",
       "      <td>0.000000e+00</td>\n",
       "      <td>0.000000e+00</td>\n",
       "      <td>0.000000e+00</td>\n",
       "      <td>0.000000e+00</td>\n",
       "      <td>0.000000e+00</td>\n",
       "      <td>0.000000e+00</td>\n",
       "    </tr>\n",
       "  </tbody>\n",
       "</table>\n",
       "<p>701 rows × 8 columns</p>\n",
       "</div>"
      ],
      "text/plain": [
       "                                       0             1             2  \\\n",
       "calories                   -1.709866e-21 -1.874135e-21 -1.882918e-21   \n",
       "protein                    -6.236033e-23 -6.729945e-23 -6.774123e-23   \n",
       "fat                        -8.402358e-23 -9.176471e-23 -9.215952e-23   \n",
       "sodium                     -1.762513e-21 -2.076050e-21 -2.086904e-21   \n",
       "#cakeweek                   0.000000e+00  0.000000e+00  0.000000e+00   \n",
       "#wasteless                  0.000000e+00  0.000000e+00  0.000000e+00   \n",
       "22-minute meals            -7.396022e-29 -7.396022e-29 -7.396022e-29   \n",
       "3-ingredient recipes        2.671136e-27 -3.034730e-28 -3.034730e-28   \n",
       "30 days of groceries        0.000000e+00  0.000000e+00  0.000000e+00   \n",
       "advance prep required       1.909118e-27 -2.773355e-27 -3.359696e-27   \n",
       "alabama                     0.000000e+00  0.000000e+00  0.000000e+00   \n",
       "alaska                      0.000000e+00  0.000000e+00  0.000000e+00   \n",
       "alcoholic                   7.862488e-26 -2.576267e-26 -2.980986e-26   \n",
       "almond                     -6.397487e-27 -2.325494e-26 -2.384633e-26   \n",
       "amaretto                   -1.018718e-27 -1.018718e-27 -1.018718e-27   \n",
       "anchovy                     1.050952e-27 -7.343573e-28 -7.343573e-28   \n",
       "anise                      -1.115976e-27 -4.017957e-27 -3.428242e-27   \n",
       "anniversary                -3.213258e-27 -4.376483e-27 -3.807434e-27   \n",
       "anthony bourdain            0.000000e+00  0.000000e+00  0.000000e+00   \n",
       "aperitif                    0.000000e+00  0.000000e+00  0.000000e+00   \n",
       "appetizer                  -3.267120e-26 -5.071898e-26 -5.186803e-26   \n",
       "apple                      -9.141867e-27 -2.723707e-26 -2.601171e-26   \n",
       "apple juice                 0.000000e+00  0.000000e+00  0.000000e+00   \n",
       "apricot                    -3.634566e-27 -1.066527e-26 -1.124514e-26   \n",
       "arizona                     0.000000e+00  0.000000e+00  0.000000e+00   \n",
       "artichoke                  -3.153867e-27 -5.467847e-27 -6.059509e-27   \n",
       "arugula                    -5.997931e-27 -9.500572e-27 -1.007984e-26   \n",
       "asian pear                  0.000000e+00 -2.963865e-28 -2.963865e-28   \n",
       "asparagus                  -5.096943e-27 -6.851137e-27 -7.438251e-27   \n",
       "aspen                       0.000000e+00  0.000000e+00  0.000000e+00   \n",
       "...                                  ...           ...           ...   \n",
       "yuca                        0.000000e+00  0.000000e+00  0.000000e+00   \n",
       "zucchini                   -6.123114e-27 -9.020146e-27 -9.031987e-27   \n",
       "cookbooks                   0.000000e+00  0.000000e+00  0.000000e+00   \n",
       "leftovers                   2.002315e-27  0.000000e+00  0.000000e+00   \n",
       "snack                       2.949990e-27  0.000000e+00 -5.084525e-28   \n",
       "snack week                  0.000000e+00  0.000000e+00 -1.481762e-28   \n",
       "turkey                     -4.306515e-27 -1.653490e-26 -1.653490e-26   \n",
       "calories_sodium            -8.680331e-15 -8.680553e-15 -8.680561e-15   \n",
       "calories_fat               -4.312110e-16 -4.312230e-16 -4.312234e-16   \n",
       "sodium_fat                 -3.941704e-16 -3.941829e-16 -3.941831e-16   \n",
       "peanut free_soy free       -1.793397e-25 -3.074024e-25 -3.125648e-25   \n",
       "pescatarian_kosher         -1.134015e-25 -2.142691e-25 -2.200596e-25   \n",
       "drink_alcoholic             7.647096e-26 -2.504029e-26 -2.908748e-26   \n",
       "peanut free_tree nut free  -1.528543e-25 -2.622744e-25 -2.680534e-25   \n",
       "portland_oregon             1.149259e-27 -1.640592e-30 -1.640592e-30   \n",
       "soy free_tree nut free     -1.471155e-25 -2.518645e-25 -2.558955e-25   \n",
       "sodium_protein             -2.214376e-16 -2.214501e-16 -2.214511e-16   \n",
       "vegetarian_pescatarian     -1.072619e-25 -2.028966e-25 -2.086871e-25   \n",
       "snack week_snack            0.000000e+00  0.000000e+00 -7.597611e-29   \n",
       "pescatarian_soy free       -1.171040e-25 -2.220462e-25 -2.278314e-25   \n",
       "kosher_vegetarian          -1.072744e-25 -2.046461e-25 -2.104366e-25   \n",
       "peanut free_pescatarian    -1.169630e-25 -2.248054e-25 -2.317523e-25   \n",
       "peanut free_kosher         -1.235520e-25 -2.279098e-25 -2.348639e-25   \n",
       "soy free_kosher            -1.217161e-25 -2.243197e-25 -2.289525e-25   \n",
       "calories_protein           -2.258680e-16 -2.258747e-16 -2.258756e-16   \n",
       "brunch_breakfast           -1.101566e-26 -2.092073e-26 -2.032546e-26   \n",
       "kentucky_louisville         0.000000e+00  0.000000e+00  0.000000e+00   \n",
       "denver_omelet               0.000000e+00  0.000000e+00  0.000000e+00   \n",
       "louisiana_kitchen olympics  0.000000e+00  0.000000e+00  0.000000e+00   \n",
       "new orleans_louisiana       0.000000e+00  0.000000e+00  0.000000e+00   \n",
       "\n",
       "                                       3             4             5  \\\n",
       "calories                   -1.833163e-21  2.062439e-21 -1.035701e-21   \n",
       "protein                    -6.593807e-23  4.538165e-24 -3.064876e-23   \n",
       "fat                        -8.955485e-23  1.298931e-22 -4.421476e-23   \n",
       "sodium                     -2.014142e-21  1.969075e-21 -9.244801e-22   \n",
       "#cakeweek                   0.000000e+00  0.000000e+00  0.000000e+00   \n",
       "#wasteless                  0.000000e+00  0.000000e+00  0.000000e+00   \n",
       "22-minute meals            -7.396022e-29 -7.396023e-29  0.000000e+00   \n",
       "3-ingredient recipes       -3.034730e-28  0.000000e+00  0.000000e+00   \n",
       "30 days of groceries        0.000000e+00  0.000000e+00  2.229999e-28   \n",
       "advance prep required      -2.780635e-27 -4.318050e-28  3.053374e-27   \n",
       "alabama                     0.000000e+00  0.000000e+00  0.000000e+00   \n",
       "alaska                      0.000000e+00  0.000000e+00  0.000000e+00   \n",
       "alcoholic                  -2.450213e-26 -2.227231e-26 -3.540275e-27   \n",
       "almond                     -2.089394e-26 -9.861858e-27  1.012023e-26   \n",
       "amaretto                   -1.018718e-27  0.000000e+00  1.302969e-27   \n",
       "anchovy                    -7.343573e-28 -7.343573e-28  0.000000e+00   \n",
       "anise                      -1.681136e-27 -2.273464e-27  5.929434e-27   \n",
       "anniversary                -2.631828e-27 -3.814497e-27  6.152374e-27   \n",
       "anthony bourdain            0.000000e+00  0.000000e+00  0.000000e+00   \n",
       "aperitif                    0.000000e+00  0.000000e+00  4.654337e-28   \n",
       "appetizer                  -4.085190e-26 -1.227630e-26  5.477466e-26   \n",
       "apple                      -2.487672e-26 -1.497335e-26  3.470897e-26   \n",
       "apple juice                 0.000000e+00  0.000000e+00  0.000000e+00   \n",
       "apricot                    -9.524116e-27 -4.784992e-27  5.674538e-27   \n",
       "arizona                     0.000000e+00  0.000000e+00  0.000000e+00   \n",
       "artichoke                  -4.304114e-27 -2.571161e-27  1.263025e-26   \n",
       "arugula                    -8.344406e-27 -4.776802e-27  6.296592e-27   \n",
       "asian pear                 -2.963865e-28 -2.963865e-28  8.902802e-28   \n",
       "asparagus                  -6.253662e-27 -3.363762e-27  1.236970e-26   \n",
       "aspen                       0.000000e+00  0.000000e+00  0.000000e+00   \n",
       "...                                  ...           ...           ...   \n",
       "yuca                        0.000000e+00  0.000000e+00  0.000000e+00   \n",
       "zucchini                   -7.295973e-27 -1.405481e-27  2.357854e-26   \n",
       "cookbooks                   0.000000e+00  0.000000e+00  0.000000e+00   \n",
       "leftovers                   0.000000e+00  0.000000e+00  0.000000e+00   \n",
       "snack                      -5.084525e-28  0.000000e+00  0.000000e+00   \n",
       "snack week                 -1.481762e-28  0.000000e+00  0.000000e+00   \n",
       "turkey                     -1.478256e-26 -8.366658e-27  5.030889e-27   \n",
       "calories_sodium            -8.680525e-15  2.603718e-15 -8.679271e-15   \n",
       "calories_fat               -4.312214e-16  1.813208e-16 -4.311386e-16   \n",
       "sodium_fat                 -3.941812e-16  2.489917e-16 -3.941173e-16   \n",
       "peanut free_soy free       -2.444698e-25 -1.204583e-25  3.159784e-25   \n",
       "pescatarian_kosher         -1.675790e-25 -6.796694e-26  2.286257e-25   \n",
       "drink_alcoholic            -2.377979e-26 -2.211619e-26 -3.400316e-27   \n",
       "peanut free_tree nut free  -2.075190e-25 -1.063839e-25  2.850702e-25   \n",
       "portland_oregon            -1.640592e-30 -1.640593e-30  0.000000e+00   \n",
       "soy free_tree nut free     -1.988193e-25 -9.938441e-26  2.728207e-25   \n",
       "sodium_protein             -2.214495e-16 -1.834468e-17 -2.213832e-16   \n",
       "vegetarian_pescatarian     -1.591041e-25 -6.537878e-26  2.172832e-25   \n",
       "snack week_snack           -7.597611e-29  0.000000e+00  0.000000e+00   \n",
       "pescatarian_soy free       -1.730518e-25 -7.168755e-26  2.256494e-25   \n",
       "kosher_vegetarian          -1.608537e-25 -6.594949e-26  2.161211e-25   \n",
       "peanut free_pescatarian    -1.740634e-25 -7.335633e-26  2.263476e-25   \n",
       "peanut free_kosher         -1.806362e-25 -7.691245e-26  2.424947e-25   \n",
       "soy free_kosher            -1.764732e-25 -7.388172e-26  2.385300e-25   \n",
       "calories_protein           -2.258742e-16 -2.668937e-17 -2.258241e-16   \n",
       "brunch_breakfast           -1.687015e-26 -5.767416e-27  2.690054e-26   \n",
       "kentucky_louisville         0.000000e+00  0.000000e+00  0.000000e+00   \n",
       "denver_omelet               0.000000e+00  0.000000e+00  0.000000e+00   \n",
       "louisiana_kitchen olympics  0.000000e+00  0.000000e+00  0.000000e+00   \n",
       "new orleans_louisiana       0.000000e+00  0.000000e+00  0.000000e+00   \n",
       "\n",
       "                                       6             7  \n",
       "calories                    1.369090e-21  4.904255e-21  \n",
       "protein                    -1.355278e-23  3.030044e-22  \n",
       "fat                         1.118184e-22  1.600071e-22  \n",
       "sodium                      1.273072e-21  5.621944e-21  \n",
       "#cakeweek                   0.000000e+00  0.000000e+00  \n",
       "#wasteless                  0.000000e+00  0.000000e+00  \n",
       "22-minute meals             1.090525e-27  5.205354e-28  \n",
       "3-ingredient recipes        0.000000e+00  0.000000e+00  \n",
       "30 days of groceries        0.000000e+00  0.000000e+00  \n",
       "advance prep required       3.666585e-27  7.214542e-28  \n",
       "alabama                     0.000000e+00  0.000000e+00  \n",
       "alaska                      0.000000e+00  0.000000e+00  \n",
       "alcoholic                  -1.204842e-27  3.078188e-26  \n",
       "almond                      7.004562e-26  5.260025e-27  \n",
       "amaretto                    3.066945e-27  7.298647e-28  \n",
       "anchovy                     1.004696e-27  1.631079e-27  \n",
       "anise                       9.442283e-27 -5.347764e-28  \n",
       "anniversary                 1.199756e-26  8.567019e-28  \n",
       "anthony bourdain            0.000000e+00  0.000000e+00  \n",
       "aperitif                    0.000000e+00  0.000000e+00  \n",
       "appetizer                   1.446773e-25 -8.744141e-27  \n",
       "apple                       7.545985e-26 -5.606302e-27  \n",
       "apple juice                 0.000000e+00  0.000000e+00  \n",
       "apricot                     3.323839e-26  2.105112e-27  \n",
       "arizona                     1.294975e-27  0.000000e+00  \n",
       "artichoke                   1.438417e-26 -3.136027e-27  \n",
       "arugula                     3.489504e-26 -1.745843e-28  \n",
       "asian pear                  1.438494e-27  0.000000e+00  \n",
       "asparagus                   2.225827e-26 -3.305495e-27  \n",
       "aspen                       0.000000e+00  0.000000e+00  \n",
       "...                                  ...           ...  \n",
       "yuca                        3.355596e-28  0.000000e+00  \n",
       "zucchini                    1.650214e-26 -4.911532e-27  \n",
       "cookbooks                   0.000000e+00  0.000000e+00  \n",
       "leftovers                   0.000000e+00  0.000000e+00  \n",
       "snack                       0.000000e+00  0.000000e+00  \n",
       "snack week                  0.000000e+00  0.000000e+00  \n",
       "turkey                      3.768990e-26  1.896242e-26  \n",
       "calories_sodium             2.524492e-14  1.555261e-14  \n",
       "calories_fat                1.832927e-15  1.417698e-16  \n",
       "sodium_fat                  1.679691e-15  4.215184e-17  \n",
       "peanut free_soy free        8.070438e-25  4.237371e-26  \n",
       "pescatarian_kosher          5.365737e-25  1.923720e-26  \n",
       "drink_alcoholic            -1.063231e-27  3.032995e-26  \n",
       "peanut free_tree nut free   6.758965e-25  3.727921e-26  \n",
       "portland_oregon             9.483812e-30  0.000000e+00  \n",
       "soy free_tree nut free      6.517119e-25  2.970720e-26  \n",
       "sodium_protein             -1.180061e-16  1.243522e-15  \n",
       "vegetarian_pescatarian      5.106532e-25  1.655247e-26  \n",
       "snack week_snack            0.000000e+00  0.000000e+00  \n",
       "pescatarian_soy free        5.676153e-25  1.961677e-26  \n",
       "kosher_vegetarian           5.182470e-25  1.595239e-26  \n",
       "peanut free_pescatarian     5.743264e-25  2.142717e-26  \n",
       "peanut free_kosher          5.759308e-25  2.660961e-26  \n",
       "soy free_kosher             5.641739e-25  2.379980e-26  \n",
       "calories_protein           -7.267316e-17  1.228679e-15  \n",
       "brunch_breakfast            5.146151e-26 -1.141229e-27  \n",
       "kentucky_louisville         0.000000e+00  0.000000e+00  \n",
       "denver_omelet               0.000000e+00  0.000000e+00  \n",
       "louisiana_kitchen olympics  0.000000e+00  0.000000e+00  \n",
       "new orleans_louisiana       0.000000e+00  0.000000e+00  \n",
       "\n",
       "[701 rows x 8 columns]"
      ]
     },
     "execution_count": 21,
     "metadata": {},
     "output_type": "execute_result"
    }
   ],
   "source": [
    "coeffs = pd.DataFrame(lassoregr.coef_.transpose())\n",
    "coeffs.index = X_train.columns\n",
    "coeffs"
   ]
  },
  {
   "cell_type": "markdown",
   "metadata": {},
   "source": [
    "It would be easier to visualize if we first converted the above matrix into rankings (along each column). Say we wanted to optimize the model to perform on those recipes with a 3.125 rating, then we take the top k features for the 5th column."
   ]
  },
  {
   "cell_type": "code",
   "execution_count": 22,
   "metadata": {
    "ExecuteTime": {
     "end_time": "2019-01-02T00:27:59.085010Z",
     "start_time": "2019-01-02T00:27:59.077903Z"
    }
   },
   "outputs": [
    {
     "data": {
      "text/plain": [
       "0.000     915\n",
       "1.250      89\n",
       "1.875      59\n",
       "2.500     280\n",
       "3.125     812\n",
       "3.750    2919\n",
       "4.375    4579\n",
       "5.000    1452\n",
       "Name: rating, dtype: int64"
      ]
     },
     "execution_count": 22,
     "metadata": {},
     "output_type": "execute_result"
    }
   ],
   "source": [
    "y_train.value_counts().sort_index()"
   ]
  },
  {
   "cell_type": "code",
   "execution_count": 23,
   "metadata": {
    "ExecuteTime": {
     "end_time": "2019-01-02T00:29:14.720358Z",
     "start_time": "2019-01-02T00:28:01.652459Z"
    }
   },
   "outputs": [
    {
     "data": {
      "text/plain": [
       "SVC(C=1.0, cache_size=200, class_weight=None, coef0=0.0,\n",
       "  decision_function_shape='ovr', degree=3, gamma='auto_deprecated',\n",
       "  kernel='rbf', max_iter=-1, probability=True, random_state=None,\n",
       "  shrinking=True, tol=0.001, verbose=False)"
      ]
     },
     "execution_count": 23,
     "metadata": {},
     "output_type": "execute_result"
    }
   ],
   "source": [
    "new_features = coeffs.iloc[:,4].sort_values().index[:29]\n",
    "\n",
    "svc_new = SVC(probability=True)\n",
    "svc_new.fit(X_train[new_features], y_train.map(z))"
   ]
  },
  {
   "cell_type": "code",
   "execution_count": 25,
   "metadata": {
    "ExecuteTime": {
     "end_time": "2019-01-02T00:33:28.902961Z",
     "start_time": "2019-01-02T00:29:33.561335Z"
    }
   },
   "outputs": [
    {
     "name": "stdout",
     "output_type": "stream",
     "text": [
      "Cross-Validation Scores: [0.46558704 0.46378767 0.46825754 0.46330482 0.46955345]\n",
      "Cross-Validation Score Averaged Across Folds: 46.61%.\n",
      "\n"
     ]
    }
   ],
   "source": [
    "scores_new = cross_val_score(svc_new, X_train[new_features], y_train.map(z), cv=5)\n",
    "print('Cross-Validation Scores: {}'.format(scores_new))\n",
    "print('Cross-Validation Score Averaged Across Folds: {:.2%}.\\n'.format(scores_new.mean()))\n",
    "\n",
    "p_pred_new = svc_new.predict_proba(X_test[new_features])"
   ]
  },
  {
   "cell_type": "code",
   "execution_count": 26,
   "metadata": {
    "ExecuteTime": {
     "end_time": "2019-01-02T00:33:58.026635Z",
     "start_time": "2019-01-02T00:33:58.015254Z"
    }
   },
   "outputs": [
    {
     "name": "stdout",
     "output_type": "stream",
     "text": [
      "              precision    recall  f1-score   support\n",
      "\n",
      "           0       0.53      0.28      0.36       381\n",
      "           1       0.75      0.18      0.29        34\n",
      "           2       0.00      0.00      0.00        22\n",
      "           3       0.80      0.06      0.12       125\n",
      "           4       0.83      0.12      0.21       353\n",
      "           5       0.60      0.12      0.20      1217\n",
      "           6       0.46      0.96      0.62      1973\n",
      "           7       0.75      0.17      0.28       654\n",
      "\n",
      "   micro avg       0.49      0.49      0.49      4759\n",
      "   macro avg       0.59      0.24      0.26      4759\n",
      "weighted avg       0.58      0.49      0.40      4759\n",
      "\n"
     ]
    }
   ],
   "source": [
    "y_pred_new = p_pred_new.argmax(axis=1)\n",
    "#Clasification report\n",
    "results_new = metrics.classification_report(y_true=y_test.map(z), y_pred=y_pred_new)\n",
    "print(results_new)"
   ]
  },
  {
   "cell_type": "markdown",
   "metadata": {},
   "source": [
    "Whoa this set of features appears to improve on all classes (note no change to rating of 1.875)."
   ]
  }
 ],
 "metadata": {
  "kernelspec": {
   "display_name": "Python 3",
   "language": "python",
   "name": "python3"
  },
  "language_info": {
   "codemirror_mode": {
    "name": "ipython",
    "version": 3
   },
   "file_extension": ".py",
   "mimetype": "text/x-python",
   "name": "python",
   "nbconvert_exporter": "python",
   "pygments_lexer": "ipython3",
   "version": "3.6.7"
  },
  "latex_envs": {
   "LaTeX_envs_menu_present": true,
   "autoclose": false,
   "autocomplete": true,
   "bibliofile": "biblio.bib",
   "cite_by": "apalike",
   "current_citInitial": 1,
   "eqLabelWithNumbers": true,
   "eqNumInitial": 1,
   "hotkeys": {
    "equation": "Ctrl-E",
    "itemize": "Ctrl-I"
   },
   "labels_anchors": false,
   "latex_user_defs": false,
   "report_style_numbering": false,
   "user_envs_cfg": false
  },
  "toc": {
   "base_numbering": 1,
   "nav_menu": {},
   "number_sections": true,
   "sideBar": true,
   "skip_h1_title": false,
   "title_cell": "Table of Contents",
   "title_sidebar": "Contents",
   "toc_cell": false,
   "toc_position": {},
   "toc_section_display": true,
   "toc_window_display": false
  },
  "varInspector": {
   "cols": {
    "lenName": 16,
    "lenType": 16,
    "lenVar": 40
   },
   "kernels_config": {
    "python": {
     "delete_cmd_postfix": "",
     "delete_cmd_prefix": "del ",
     "library": "var_list.py",
     "varRefreshCmd": "print(var_dic_list())"
    },
    "r": {
     "delete_cmd_postfix": ") ",
     "delete_cmd_prefix": "rm(",
     "library": "var_list.r",
     "varRefreshCmd": "cat(var_dic_list()) "
    }
   },
   "types_to_exclude": [
    "module",
    "function",
    "builtin_function_or_method",
    "instance",
    "_Feature"
   ],
   "window_display": false
  }
 },
 "nbformat": 4,
 "nbformat_minor": 2
}
