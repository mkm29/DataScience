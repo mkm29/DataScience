{
 "cells": [
  {
   "cell_type": "code",
   "execution_count": 1,
   "metadata": {
    "ExecuteTime": {
     "end_time": "2019-03-27T19:50:20.393834Z",
     "start_time": "2019-03-27T19:50:17.897098Z"
    }
   },
   "outputs": [
    {
     "name": "stderr",
     "output_type": "stream",
     "text": [
      "Using TensorFlow backend.\n"
     ]
    }
   ],
   "source": [
    "import pandas as pd\n",
    "import numpy as np\n",
    "import matplotlib.pyplot as plt\n",
    "import matplotlib.mlab as mlab\n",
    "\n",
    "import tensorflow as tf\n",
    "rand_state = np.random.randint(0, 100)\n",
    "tf.set_random_seed(rand_state)\n",
    "np.random.seed(rand_state)\n",
    "\n",
    "from skimage import exposure\n",
    "import cv2\n",
    "import glob\n",
    "import time\n",
    "import matplotlib.pyplot as plt\n",
    "from keras.utils.vis_utils import plot_model"
   ]
  },
  {
   "cell_type": "markdown",
   "metadata": {},
   "source": [
    "# Introduction  \n",
    "\n",
    "\"What would you say if I told you there is a app on the market that tell you if you have a hotdog or not a hotdog. It is very good and I do not want to work on it any more. You can hire someone else.\" - Jian-Yang, [Silicon Valley](https://www.youtube.com/watch?v=ACmydtFDTGs)\n",
    "\n",
    "Sounds simple enough, right? It's actually a little more complex, referring to the theory behind convolutional neural networks (CNN) and their applications in image classification. However, Keras makes it relatively easy to setup and evaluate a CNN!  \n",
    "\n",
    "The objective of this project is simple: given a picture, does it contain a hot dog or not?\n",
    "\n",
    "## Data\n",
    "\n",
    "This data was extracted from the Food 101 dataset. A full version of the dataset is available [here](https://www.kaggle.com/dansbecker/food-101). This is a binary classification task, while not very interesting a similar approach can be taken to extend this to multiple food categories. Note that multiple terms can refer to what is essentially the same object, in this case the difference appears to primarily be regional: a frankfurter, wienerwurst or hot dog. Thanks to [DanB](https://www.kaggle.com/dansbecker) for extracting the dataset ([kaggle](https://www.kaggle.com/dansbecker/hot-dog-not-hot-dog)) \n",
    "\n",
    "To simplify this project, the data is completely balanced: 50% hot dog images and 50% not hot dog images. We will then use 498 images to train our model, and 500 labeled images to test it on.\n",
    "\n",
    "**Data augmentation**:  \n",
    "Neural networks perform much better when fed large amounts of data, and we only have 500 images for each class. We could just download more images from a source like ImageNet, but I will just augment this data set: add random rotation and or blur to our existing images to get 20,000 images for each class. **I also resize the images to 32 x 32.**"
   ]
  },
  {
   "cell_type": "code",
   "execution_count": 2,
   "metadata": {
    "ExecuteTime": {
     "end_time": "2019-03-27T19:51:02.545134Z",
     "start_time": "2019-03-27T19:51:02.534716Z"
    }
   },
   "outputs": [],
   "source": [
    "def rotateImage(img, angle):\n",
    "    (rows, cols, ch) = img.shape\n",
    "    M = cv2.getRotationMatrix2D((cols/2,rows/2), angle, 1)\n",
    "    return cv2.warpAffine(img, M, (cols,rows))\n",
    "    \n",
    "    \n",
    "def loadBlurImg(path, imgSize):\n",
    "    img = cv2.imread(path)\n",
    "    angle = np.random.randint(0, 360)\n",
    "    img = rotateImage(img, angle)\n",
    "    img = cv2.blur(img,(5,5))\n",
    "    img = cv2.resize(img, imgSize)\n",
    "    return img\n",
    "\n",
    "def loadImgClass(classPath, classLable, classSize, imgSize):\n",
    "    x = []\n",
    "    y = []\n",
    "    \n",
    "    for path in classPath:\n",
    "        img = loadBlurImg(path, imgSize)        \n",
    "        x.append(img)\n",
    "        y.append(classLable)\n",
    "        \n",
    "    while len(x) < classSize:\n",
    "        randIdx = np.random.randint(0, len(classPath))\n",
    "        img = loadBlurImg(classPath[randIdx], imgSize)\n",
    "        x.append(img)\n",
    "        y.append(classLable)\n",
    "        \n",
    "    return x, y\n",
    "\n",
    "def loadData(img_size, classSize):\n",
    "    hotdogs = glob.glob('./hotdog/**/*.jpg', recursive=True)\n",
    "    notHotdogs = glob.glob('./not-hotdog/**/*.jpg', recursive=True)\n",
    "    \n",
    "    \n",
    "    imgSize = (img_size, img_size)\n",
    "    xHotdog, yHotdog = loadImgClass(hotdogs, 0, classSize, imgSize)\n",
    "    xNotHotdog, yNotHotdog = loadImgClass(notHotdogs, 1, classSize, imgSize)\n",
    "    print(\"There are\", len(xHotdog), \"hotdog images\")\n",
    "    print(\"There are\", len(xNotHotdog), \"not hotdog images\")\n",
    "    \n",
    "    X = np.array(xHotdog + xNotHotdog)\n",
    "    y = np.array(yHotdog + yNotHotdog)\n",
    "    \n",
    "    return X, y"
   ]
  },
  {
   "cell_type": "markdown",
   "metadata": {},
   "source": [
    "Normalization and histogram [equalization](https://en.wikipedia.org/wiki/Histogram_equalization)"
   ]
  },
  {
   "cell_type": "code",
   "execution_count": 3,
   "metadata": {
    "ExecuteTime": {
     "end_time": "2019-03-27T19:51:04.468011Z",
     "start_time": "2019-03-27T19:51:04.462324Z"
    }
   },
   "outputs": [],
   "source": [
    "def toGray(images):\n",
    "    # rgb2gray converts RGB values to grayscale values by forming a weighted sum of the R, G, and B components:\n",
    "    # 0.2989 * R + 0.5870 * G + 0.1140 * B \n",
    "    # source: https://www.mathworks.com/help/matlab/ref/rgb2gray.html\n",
    "    \n",
    "    images = 0.2989*images[:,:,:,0] + 0.5870*images[:,:,:,1] + 0.1140*images[:,:,:,2]\n",
    "    return images\n",
    "\n",
    "def normalizeImages(images):\n",
    "    # use Histogram equalization to get a better range\n",
    "    # source http://scikit-image.org/docs/dev/api/skimage.exposure.html#skimage.exposure.equalize_hist\n",
    "    images = (images / 255.).astype(np.float32)\n",
    "    \n",
    "    for i in range(images.shape[0]):\n",
    "        images[i] = exposure.equalize_hist(images[i])\n",
    "    \n",
    "    images = images.reshape(images.shape + (1,)) \n",
    "    return images\n",
    "\n",
    "def preprocessData(images):\n",
    "    grayImages = toGray(images)\n",
    "    return normalizeImages(grayImages)"
   ]
  },
  {
   "cell_type": "code",
   "execution_count": 4,
   "metadata": {
    "ExecuteTime": {
     "end_time": "2019-03-27T19:57:00.244418Z",
     "start_time": "2019-03-27T19:51:06.690847Z"
    }
   },
   "outputs": [
    {
     "name": "stdout",
     "output_type": "stream",
     "text": [
      "There are 20000 hotdog images\n",
      "There are 20000 not hotdog images\n",
      "y shape (40000, 2)\n",
      "train shape X (32000, 32, 32, 1)\n",
      "train shape y (32000, 2)\n",
      "Test shape X: (8000, 32, 32, 1)\n",
      "Test shape y:  (8000, 2)\n"
     ]
    }
   ],
   "source": [
    "from keras.utils.np_utils import to_categorical\n",
    "from sklearn.model_selection import train_test_split\n",
    "\n",
    "size = 32\n",
    "classSize = 20000\n",
    "'''\n",
    "I saved the transformed images (of size 20000,128,128,1) so I do not have to recreate it\n",
    "\n",
    "scaled_X, y = loadData(size, classSize)\n",
    "scaled_X = preprocessData(scaled_X)\n",
    "scaled_X.tofile('scaled_X.dat')\n",
    "'''\n",
    "scaled_X, y = loadData(size, classSize)\n",
    "scaled_X = preprocessData(scaled_X)\n",
    "y = to_categorical(y)\n",
    "#y.tofile('y.dat')\n",
    "\n",
    "# scaled_X = np.fromfile('scaled_X.dat', dtype=float)\n",
    "# scaled_X = scaled_X.reshape((classSize,size,size,1))\n",
    "\n",
    "\n",
    "# y = np.fromfile('y.dat', dtype=float)\n",
    "n_classes=2\n",
    "print(\"y shape\", y.shape)\n",
    "X_train, X_test, y_train, y_test = train_test_split(scaled_X, y, \n",
    "                                                    test_size=0.2, \n",
    "                                                    random_state=rand_state)\n",
    "\n",
    "print(\"train shape X\", X_train.shape)\n",
    "print(\"train shape y\", y_train.shape)\n",
    "print(\"Test shape X:\", X_test.shape)\n",
    "print(\"Test shape y: \", y_test.shape)\n",
    "\n",
    "inputShape = (size, size, 1)"
   ]
  },
  {
   "cell_type": "code",
   "execution_count": 5,
   "metadata": {
    "ExecuteTime": {
     "end_time": "2019-03-27T19:58:42.245280Z",
     "start_time": "2019-03-27T19:58:42.240419Z"
    }
   },
   "outputs": [
    {
     "name": "stdout",
     "output_type": "stream",
     "text": [
      "32000 train samples\n",
      "8000 test samples\n"
     ]
    }
   ],
   "source": [
    "# Change shape \n",
    "# Note that our images are 128*128 pixels, so in reshaping to arrays we want\n",
    "# 4,000 arrays of length 16384, one for each image\n",
    "X_train_reshaped = X_train.reshape(X_train.shape[0], size*size)\n",
    "X_test_reshaped = X_test.reshape(X_test.shape[0], size*size)\n",
    "\n",
    "# Print sample sizes\n",
    "print(X_train_reshaped.shape[0], 'train samples')\n",
    "print(X_test_reshaped.shape[0], 'test samples')"
   ]
  },
  {
   "cell_type": "code",
   "execution_count": 6,
   "metadata": {
    "ExecuteTime": {
     "end_time": "2019-03-27T19:58:46.212062Z",
     "start_time": "2019-03-27T19:58:46.200353Z"
    }
   },
   "outputs": [],
   "source": [
    "def plot_history(history):\n",
    "    loss_list = [s for s in history.history.keys() if 'loss' in s and 'val' not in s]\n",
    "    val_loss_list = [s for s in history.history.keys() if 'loss' in s and 'val' in s]\n",
    "    acc_list = [s for s in history.history.keys() if 'acc' in s and 'val' not in s]\n",
    "    val_acc_list = [s for s in history.history.keys() if 'acc' in s and 'val' in s]\n",
    "    \n",
    "    if len(loss_list) == 0:\n",
    "        print('Loss is missing in history')\n",
    "        return \n",
    "    \n",
    "    ## As loss always exists\n",
    "    epochs = range(1,len(history.history[loss_list[0]]) + 1)\n",
    "    \n",
    "    ## Loss\n",
    "    plt.figure(1)\n",
    "    for l in loss_list:\n",
    "        plt.plot(epochs, history.history[l], 'b', label='Training loss (' + str(str(format(history.history[l][-1],'.5f'))+')'))\n",
    "    for l in val_loss_list:\n",
    "        plt.plot(epochs, history.history[l], 'g', label='Validation loss (' + str(str(format(history.history[l][-1],'.5f'))+')'))\n",
    "    \n",
    "    plt.title('Loss')\n",
    "    plt.xlabel('Epochs')\n",
    "    plt.ylabel('Loss')\n",
    "    plt.legend()\n",
    "    \n",
    "    ## Accuracy\n",
    "    plt.figure(2)\n",
    "    for l in acc_list:\n",
    "        plt.plot(epochs, history.history[l], 'b', label='Training accuracy (' + str(format(history.history[l][-1],'.5f'))+')')\n",
    "    for l in val_acc_list:    \n",
    "        plt.plot(epochs, history.history[l], 'g', label='Validation accuracy (' + str(format(history.history[l][-1],'.5f'))+')')\n",
    "\n",
    "    plt.title('Accuracy')\n",
    "    plt.xlabel('Epochs')\n",
    "    plt.ylabel('Accuracy')\n",
    "    plt.legend()\n",
    "    plt.show()"
   ]
  },
  {
   "cell_type": "markdown",
   "metadata": {
    "ExecuteTime": {
     "end_time": "2019-03-24T02:05:22.240315Z",
     "start_time": "2019-03-24T02:05:22.235143Z"
    }
   },
   "source": [
    "# Models  \n",
    "\n",
    "## Multi Layer Perceptron  \n",
    "_Feedforward neural network_"
   ]
  },
  {
   "cell_type": "markdown",
   "metadata": {},
   "source": [
    "======================"
   ]
  },
  {
   "cell_type": "code",
   "execution_count": 10,
   "metadata": {
    "ExecuteTime": {
     "end_time": "2019-03-27T20:12:19.515964Z",
     "start_time": "2019-03-27T20:05:39.053466Z"
    },
    "scrolled": true
   },
   "outputs": [
    {
     "name": "stdout",
     "output_type": "stream",
     "text": [
      "_________________________________________________________________\n",
      "Layer (type)                 Output Shape              Param #   \n",
      "=================================================================\n",
      "dense_7 (Dense)              (None, 256)               262400    \n",
      "_________________________________________________________________\n",
      "dropout_5 (Dropout)          (None, 256)               0         \n",
      "_________________________________________________________________\n",
      "dense_8 (Dense)              (None, 256)               65792     \n",
      "_________________________________________________________________\n",
      "dropout_6 (Dropout)          (None, 256)               0         \n",
      "_________________________________________________________________\n",
      "dense_9 (Dense)              (None, 2)                 514       \n",
      "=================================================================\n",
      "Total params: 328,706\n",
      "Trainable params: 328,706\n",
      "Non-trainable params: 0\n",
      "_________________________________________________________________\n",
      "Train on 32000 samples, validate on 8000 samples\n",
      "Epoch 1/100\n",
      "32000/32000 [==============================] - 8s 243us/step - loss: 1.9953 - acc: 0.5701 - val_loss: 1.8643 - val_acc: 0.6185\n",
      "Epoch 2/100\n",
      "32000/32000 [==============================] - 7s 222us/step - loss: 1.7719 - acc: 0.6242 - val_loss: 1.6781 - val_acc: 0.6340\n",
      "Epoch 3/100\n",
      "32000/32000 [==============================] - 7s 225us/step - loss: 1.6041 - acc: 0.6473 - val_loss: 1.5317 - val_acc: 0.6625\n",
      "Epoch 4/100\n",
      "32000/32000 [==============================] - 8s 242us/step - loss: 1.4823 - acc: 0.6630 - val_loss: 1.4384 - val_acc: 0.6489\n",
      "Epoch 5/100\n",
      "32000/32000 [==============================] - 8s 240us/step - loss: 1.3888 - acc: 0.6718 - val_loss: 1.3482 - val_acc: 0.6729\n",
      "Epoch 6/100\n",
      "32000/32000 [==============================] - 8s 242us/step - loss: 1.3118 - acc: 0.6822 - val_loss: 1.2931 - val_acc: 0.6613\n",
      "Epoch 7/100\n",
      "32000/32000 [==============================] - 8s 238us/step - loss: 1.2526 - acc: 0.6880 - val_loss: 1.2332 - val_acc: 0.6773\n",
      "Epoch 8/100\n",
      "32000/32000 [==============================] - 8s 240us/step - loss: 1.2007 - acc: 0.6932 - val_loss: 1.1831 - val_acc: 0.6969\n",
      "Epoch 9/100\n",
      "32000/32000 [==============================] - 8s 245us/step - loss: 1.1565 - acc: 0.7052 - val_loss: 1.1476 - val_acc: 0.6943\n",
      "Epoch 10/100\n",
      "32000/32000 [==============================] - 7s 208us/step - loss: 1.1183 - acc: 0.7116 - val_loss: 1.1141 - val_acc: 0.7051\n",
      "Epoch 11/100\n",
      "32000/32000 [==============================] - 7s 213us/step - loss: 1.0878 - acc: 0.7129 - val_loss: 1.0830 - val_acc: 0.7094\n",
      "Epoch 12/100\n",
      "32000/32000 [==============================] - 7s 216us/step - loss: 1.0575 - acc: 0.7222 - val_loss: 1.0595 - val_acc: 0.7087\n",
      "Epoch 13/100\n",
      "32000/32000 [==============================] - 7s 211us/step - loss: 1.0331 - acc: 0.7268 - val_loss: 1.0385 - val_acc: 0.7083\n",
      "Epoch 14/100\n",
      "32000/32000 [==============================] - 7s 212us/step - loss: 1.0081 - acc: 0.7322 - val_loss: 1.0273 - val_acc: 0.7071\n",
      "Epoch 15/100\n",
      "32000/32000 [==============================] - 8s 236us/step - loss: 0.9859 - acc: 0.7363 - val_loss: 1.0095 - val_acc: 0.7125\n",
      "Epoch 16/100\n",
      "32000/32000 [==============================] - 8s 235us/step - loss: 0.9642 - acc: 0.7433 - val_loss: 0.9854 - val_acc: 0.7164\n",
      "Epoch 17/100\n",
      "32000/32000 [==============================] - 8s 237us/step - loss: 0.9465 - acc: 0.7482 - val_loss: 0.9693 - val_acc: 0.7231\n",
      "Epoch 18/100\n",
      "32000/32000 [==============================] - 8s 242us/step - loss: 0.9266 - acc: 0.7548 - val_loss: 0.9572 - val_acc: 0.7248\n",
      "Epoch 19/100\n",
      "32000/32000 [==============================] - 8s 239us/step - loss: 0.9117 - acc: 0.7568 - val_loss: 0.9467 - val_acc: 0.7314\n",
      "Epoch 20/100\n",
      "32000/32000 [==============================] - 8s 252us/step - loss: 0.8925 - acc: 0.7642 - val_loss: 0.9376 - val_acc: 0.7321\n",
      "Epoch 21/100\n",
      "32000/32000 [==============================] - 7s 234us/step - loss: 0.8764 - acc: 0.7711 - val_loss: 0.9368 - val_acc: 0.7300\n",
      "Epoch 22/100\n",
      "32000/32000 [==============================] - 8s 235us/step - loss: 0.8647 - acc: 0.7742 - val_loss: 0.9116 - val_acc: 0.7369\n",
      "Epoch 23/100\n",
      "32000/32000 [==============================] - 8s 236us/step - loss: 0.8500 - acc: 0.7797 - val_loss: 0.9075 - val_acc: 0.7378\n",
      "Epoch 24/100\n",
      "32000/32000 [==============================] - 8s 235us/step - loss: 0.8328 - acc: 0.7841 - val_loss: 0.9064 - val_acc: 0.7400\n",
      "Epoch 25/100\n",
      "32000/32000 [==============================] - 8s 237us/step - loss: 0.8236 - acc: 0.7897 - val_loss: 0.8891 - val_acc: 0.7411\n",
      "Epoch 26/100\n",
      "32000/32000 [==============================] - 7s 234us/step - loss: 0.8098 - acc: 0.7934 - val_loss: 0.8730 - val_acc: 0.7535\n",
      "Epoch 27/100\n",
      "32000/32000 [==============================] - 8s 254us/step - loss: 0.7972 - acc: 0.7995 - val_loss: 0.8732 - val_acc: 0.7459\n",
      "Epoch 28/100\n",
      "32000/32000 [==============================] - 8s 237us/step - loss: 0.7863 - acc: 0.8023 - val_loss: 0.8570 - val_acc: 0.7528\n",
      "Epoch 29/100\n",
      "32000/32000 [==============================] - 7s 230us/step - loss: 0.7740 - acc: 0.8092 - val_loss: 0.8509 - val_acc: 0.7579\n",
      "Epoch 30/100\n",
      "32000/32000 [==============================] - 7s 232us/step - loss: 0.7613 - acc: 0.8117 - val_loss: 0.8457 - val_acc: 0.7641\n",
      "Epoch 31/100\n",
      "32000/32000 [==============================] - 7s 231us/step - loss: 0.7490 - acc: 0.8173 - val_loss: 0.8481 - val_acc: 0.7568\n",
      "Epoch 32/100\n",
      "32000/32000 [==============================] - 7s 228us/step - loss: 0.7383 - acc: 0.8229 - val_loss: 0.8374 - val_acc: 0.7632\n",
      "Epoch 33/100\n",
      "32000/32000 [==============================] - 7s 228us/step - loss: 0.7302 - acc: 0.8240 - val_loss: 0.8423 - val_acc: 0.7559\n",
      "Epoch 34/100\n",
      "32000/32000 [==============================] - 7s 228us/step - loss: 0.7186 - acc: 0.8298 - val_loss: 0.8278 - val_acc: 0.7745\n",
      "Epoch 35/100\n",
      "32000/32000 [==============================] - 7s 229us/step - loss: 0.7076 - acc: 0.8334 - val_loss: 0.8163 - val_acc: 0.7739\n",
      "Epoch 36/100\n",
      "32000/32000 [==============================] - 7s 225us/step - loss: 0.6984 - acc: 0.8379 - val_loss: 0.8155 - val_acc: 0.7745\n",
      "Epoch 37/100\n",
      "32000/32000 [==============================] - 7s 225us/step - loss: 0.6882 - acc: 0.8417 - val_loss: 0.8298 - val_acc: 0.7634\n",
      "Epoch 38/100\n",
      "32000/32000 [==============================] - 7s 230us/step - loss: 0.6817 - acc: 0.8448 - val_loss: 0.8259 - val_acc: 0.7644\n",
      "Epoch 39/100\n",
      "32000/32000 [==============================] - 7s 225us/step - loss: 0.6720 - acc: 0.8499 - val_loss: 0.8024 - val_acc: 0.7785\n",
      "Epoch 40/100\n",
      "32000/32000 [==============================] - 7s 226us/step - loss: 0.6583 - acc: 0.8540 - val_loss: 0.8051 - val_acc: 0.7781\n",
      "Epoch 41/100\n",
      "32000/32000 [==============================] - 7s 226us/step - loss: 0.6526 - acc: 0.8568 - val_loss: 0.7944 - val_acc: 0.7874\n",
      "Epoch 42/100\n",
      "32000/32000 [==============================] - 7s 225us/step - loss: 0.6437 - acc: 0.8589 - val_loss: 0.8213 - val_acc: 0.7695\n",
      "Epoch 43/100\n",
      "32000/32000 [==============================] - 7s 225us/step - loss: 0.6351 - acc: 0.8633 - val_loss: 0.7831 - val_acc: 0.7943\n",
      "Epoch 44/100\n",
      "32000/32000 [==============================] - 7s 226us/step - loss: 0.6273 - acc: 0.8651 - val_loss: 0.7824 - val_acc: 0.7943\n",
      "Epoch 45/100\n",
      "32000/32000 [==============================] - 7s 229us/step - loss: 0.6178 - acc: 0.8712 - val_loss: 0.7813 - val_acc: 0.7927\n",
      "Epoch 46/100\n",
      "32000/32000 [==============================] - 7s 234us/step - loss: 0.6104 - acc: 0.8730 - val_loss: 0.7913 - val_acc: 0.7894\n",
      "Epoch 47/100\n",
      "32000/32000 [==============================] - 7s 228us/step - loss: 0.6003 - acc: 0.8786 - val_loss: 0.7891 - val_acc: 0.7911\n",
      "Epoch 48/100\n",
      "32000/32000 [==============================] - 7s 227us/step - loss: 0.5935 - acc: 0.8829 - val_loss: 0.7803 - val_acc: 0.7919\n",
      "Epoch 49/100\n",
      "32000/32000 [==============================] - 7s 227us/step - loss: 0.5917 - acc: 0.8807 - val_loss: 0.7733 - val_acc: 0.7981\n",
      "Epoch 50/100\n",
      "32000/32000 [==============================] - 7s 234us/step - loss: 0.5788 - acc: 0.8873 - val_loss: 0.7852 - val_acc: 0.7886\n",
      "Epoch 51/100\n",
      "32000/32000 [==============================] - 7s 229us/step - loss: 0.5749 - acc: 0.8865 - val_loss: 0.7665 - val_acc: 0.8027\n",
      "Epoch 52/100\n",
      "32000/32000 [==============================] - 7s 224us/step - loss: 0.5677 - acc: 0.8894 - val_loss: 0.7742 - val_acc: 0.7996\n",
      "Epoch 53/100\n",
      "32000/32000 [==============================] - 7s 224us/step - loss: 0.5634 - acc: 0.8920 - val_loss: 0.7758 - val_acc: 0.8004\n",
      "Epoch 54/100\n",
      "32000/32000 [==============================] - 7s 228us/step - loss: 0.5532 - acc: 0.8946 - val_loss: 0.7680 - val_acc: 0.8033\n",
      "Execution time: 400.0516023635864\n",
      "\n"
     ]
    },
    {
     "data": {
      "image/png": "[encoded data removed]",
      "text/plain": [
       "<Figure size 432x288 with 1 Axes>"
      ]
     },
     "metadata": {
      "needs_background": "light"
     },
     "output_type": "display_data"
    },
    {
     "data": {
      "image/png": "[encoded data removed]",
      "text/plain": [
       "<Figure size 432x288 with 1 Axes>"
      ]
     },
     "metadata": {
      "needs_background": "light"
     },
     "output_type": "display_data"
    }
   ],
   "source": [
    "import keras\n",
    "from keras.models import Sequential\n",
    "from keras.layers import Dense, Dropout, Flatten\n",
    "from keras.callbacks import EarlyStopping, ModelCheckpoint\n",
    "\n",
    "start = time.time()\n",
    "# Start with a simple sequential model\n",
    "model_1 = Sequential()\n",
    "\n",
    "# Add dense layers to create a fully connected MLP\n",
    "# Note that we specify an input shape for the first layer, but only the first layer.\n",
    "# Relu is the activation function used\n",
    "model_1.add(Dense(256, activation='relu',\n",
    "                  kernel_initializer='he_normal',\n",
    "                  kernel_regularizer=keras.regularizers.l1_l2(l1=.0001, l2=.001), \n",
    "                  input_shape=(size*size,)))\n",
    "# Dropout layers remove features and fight overfitting\n",
    "model_1.add(Dropout(0.2))\n",
    "model_1.add(Dense(256, activation='relu', activity_regularizer=keras.regularizers.l2(.0001)))\n",
    "model_1.add(Dropout(0.2))\n",
    "# End with a number of units equal to the number of classes we have for our outcome\n",
    "model_1.add(Dense(2, activation='softmax'))\n",
    "\n",
    "model_1.summary()\n",
    "\n",
    "# Set callback functions to early stop training and save the best model so far\n",
    "callbacks_1 = [EarlyStopping(monitor='val_loss', patience=3),\n",
    "             ModelCheckpoint(filepath='model_1.h5', monitor='val_acc', save_best_only=True)]\n",
    "\n",
    "# Compile the model to put it all together.\n",
    "model_1.compile(loss='binary_crossentropy',\n",
    "              optimizer=keras.optimizers.Adamax(lr=1e-4),\n",
    "              metrics=['accuracy'])\n",
    "\n",
    "history_1 = model_1.fit(X_train_reshaped, y_train,\n",
    "                      batch_size=16,\n",
    "                      epochs=100,\n",
    "                      callbacks=callbacks_1,\n",
    "                      verbose=1, \n",
    "                      validation_data=(X_test_reshaped, y_test))\n",
    "\n",
    "end = time.time()\n",
    "print(\"Execution time: {}\\n\".format(end-start))\n",
    "\n",
    "plot_history(history_1)"
   ]
  },
  {
   "cell_type": "markdown",
   "metadata": {},
   "source": [
    "With early stopping (max of 50), our best model comes at **55** epochs where we achieve an accuracy of **80.32%** on the test set. Notice that after about epoch 10 the gap between train and test accuracy grows, indicating that the model begins to overfit the train data (89% on the test set).  \n",
    "\n",
    "By simply rescaling the input images to 32 by 32, we sped our MLP model up to train in under 7 minutes!\n",
    "\n",
    "## Convolutional Neural Network (CNN)"
   ]
  },
  {
   "cell_type": "code",
   "execution_count": 11,
   "metadata": {
    "ExecuteTime": {
     "end_time": "2019-03-27T20:54:10.525986Z",
     "start_time": "2019-03-27T20:14:33.470059Z"
    },
    "scrolled": true
   },
   "outputs": [
    {
     "name": "stdout",
     "output_type": "stream",
     "text": [
      "_________________________________________________________________\n",
      "Layer (type)                 Output Shape              Param #   \n",
      "=================================================================\n",
      "conv2d_1 (Conv2D)            (None, 30, 30, 32)        320       \n",
      "_________________________________________________________________\n",
      "max_pooling2d_1 (MaxPooling2 (None, 15, 15, 32)        0         \n",
      "_________________________________________________________________\n",
      "dropout_7 (Dropout)          (None, 15, 15, 32)        0         \n",
      "_________________________________________________________________\n",
      "conv2d_2 (Conv2D)            (None, 13, 13, 64)        18496     \n",
      "_________________________________________________________________\n",
      "max_pooling2d_2 (MaxPooling2 (None, 6, 6, 64)          0         \n",
      "_________________________________________________________________\n",
      "dropout_8 (Dropout)          (None, 6, 6, 64)          0         \n",
      "_________________________________________________________________\n",
      "conv2d_3 (Conv2D)            (None, 4, 4, 128)         73856     \n",
      "_________________________________________________________________\n",
      "dropout_9 (Dropout)          (None, 4, 4, 128)         0         \n",
      "_________________________________________________________________\n",
      "flatten_1 (Flatten)          (None, 2048)              0         \n",
      "_________________________________________________________________\n",
      "dense_10 (Dense)             (None, 128)               262272    \n",
      "_________________________________________________________________\n",
      "dropout_10 (Dropout)         (None, 128)               0         \n",
      "_________________________________________________________________\n",
      "dense_11 (Dense)             (None, 2)                 258       \n",
      "=================================================================\n",
      "Total params: 355,202\n",
      "Trainable params: 355,202\n",
      "Non-trainable params: 0\n",
      "_________________________________________________________________\n",
      "Train on 32000 samples, validate on 8000 samples\n",
      "Epoch 1/100\n",
      "32000/32000 [==============================] - 41s 1ms/step - loss: 0.7002 - acc: 0.5125 - val_loss: 0.6919 - val_acc: 0.5467\n",
      "Epoch 2/100\n",
      "32000/32000 [==============================] - 41s 1ms/step - loss: 0.6852 - acc: 0.5475 - val_loss: 0.6786 - val_acc: 0.5526\n",
      "Epoch 3/100\n",
      "32000/32000 [==============================] - 41s 1ms/step - loss: 0.6655 - acc: 0.5979 - val_loss: 0.6593 - val_acc: 0.5991\n",
      "Epoch 4/100\n",
      "32000/32000 [==============================] - 43s 1ms/step - loss: 0.6451 - acc: 0.6293 - val_loss: 0.6389 - val_acc: 0.6348\n",
      "Epoch 5/100\n",
      "32000/32000 [==============================] - 40s 1ms/step - loss: 0.6307 - acc: 0.6469 - val_loss: 0.6226 - val_acc: 0.6529\n",
      "Epoch 6/100\n",
      "32000/32000 [==============================] - 37s 1ms/step - loss: 0.6117 - acc: 0.6641 - val_loss: 0.5956 - val_acc: 0.6735\n",
      "Epoch 7/100\n",
      "32000/32000 [==============================] - 37s 1ms/step - loss: 0.5926 - acc: 0.6765 - val_loss: 0.5693 - val_acc: 0.6904\n",
      "Epoch 8/100\n",
      "32000/32000 [==============================] - 36s 1ms/step - loss: 0.5709 - acc: 0.6945 - val_loss: 0.5476 - val_acc: 0.7163\n",
      "Epoch 9/100\n",
      "32000/32000 [==============================] - 36s 1ms/step - loss: 0.5533 - acc: 0.7154 - val_loss: 0.5278 - val_acc: 0.7219\n",
      "Epoch 10/100\n",
      "32000/32000 [==============================] - 37s 1ms/step - loss: 0.5336 - acc: 0.7269 - val_loss: 0.5028 - val_acc: 0.7434\n",
      "Epoch 11/100\n",
      "32000/32000 [==============================] - 41s 1ms/step - loss: 0.5189 - acc: 0.7377 - val_loss: 0.4971 - val_acc: 0.7482\n",
      "Epoch 12/100\n",
      "32000/32000 [==============================] - 42s 1ms/step - loss: 0.5061 - acc: 0.7483 - val_loss: 0.4753 - val_acc: 0.7611\n",
      "Epoch 13/100\n",
      "32000/32000 [==============================] - 42s 1ms/step - loss: 0.4912 - acc: 0.7556 - val_loss: 0.4571 - val_acc: 0.7750\n",
      "Epoch 14/100\n",
      "32000/32000 [==============================] - 38s 1ms/step - loss: 0.4796 - acc: 0.7628 - val_loss: 0.4399 - val_acc: 0.7921\n",
      "Epoch 15/100\n",
      "32000/32000 [==============================] - 38s 1ms/step - loss: 0.4633 - acc: 0.7781 - val_loss: 0.4256 - val_acc: 0.7997\n",
      "Epoch 16/100\n",
      "32000/32000 [==============================] - 37s 1ms/step - loss: 0.4510 - acc: 0.7840 - val_loss: 0.4155 - val_acc: 0.8063\n",
      "Epoch 17/100\n",
      "32000/32000 [==============================] - 40s 1ms/step - loss: 0.4383 - acc: 0.7907 - val_loss: 0.3976 - val_acc: 0.8235\n",
      "Epoch 18/100\n",
      "32000/32000 [==============================] - 39s 1ms/step - loss: 0.4248 - acc: 0.8014 - val_loss: 0.3810 - val_acc: 0.8276\n",
      "Epoch 19/100\n",
      "32000/32000 [==============================] - 37s 1ms/step - loss: 0.4143 - acc: 0.8088 - val_loss: 0.3738 - val_acc: 0.8367\n",
      "Epoch 20/100\n",
      "32000/32000 [==============================] - 36s 1ms/step - loss: 0.3992 - acc: 0.8170 - val_loss: 0.3558 - val_acc: 0.8438\n",
      "Epoch 21/100\n",
      "32000/32000 [==============================] - 38s 1ms/step - loss: 0.3899 - acc: 0.8217 - val_loss: 0.3434 - val_acc: 0.8508\n",
      "Epoch 22/100\n",
      "32000/32000 [==============================] - 37s 1ms/step - loss: 0.3783 - acc: 0.8275 - val_loss: 0.3292 - val_acc: 0.8616\n",
      "Epoch 23/100\n",
      "32000/32000 [==============================] - 36s 1ms/step - loss: 0.3644 - acc: 0.8368 - val_loss: 0.3172 - val_acc: 0.8682\n",
      "Epoch 24/100\n",
      "32000/32000 [==============================] - 36s 1ms/step - loss: 0.3570 - acc: 0.8399 - val_loss: 0.3143 - val_acc: 0.8685\n",
      "Epoch 25/100\n",
      "32000/32000 [==============================] - 36s 1ms/step - loss: 0.3416 - acc: 0.8488 - val_loss: 0.2967 - val_acc: 0.8829\n",
      "Epoch 26/100\n",
      "32000/32000 [==============================] - 36s 1ms/step - loss: 0.3352 - acc: 0.8525 - val_loss: 0.2883 - val_acc: 0.8844\n",
      "Epoch 27/100\n",
      "32000/32000 [==============================] - 38s 1ms/step - loss: 0.3249 - acc: 0.8572 - val_loss: 0.2767 - val_acc: 0.8888\n",
      "Epoch 28/100\n",
      "32000/32000 [==============================] - 41s 1ms/step - loss: 0.3135 - acc: 0.8641 - val_loss: 0.2684 - val_acc: 0.8979\n",
      "Epoch 29/100\n",
      "32000/32000 [==============================] - 42s 1ms/step - loss: 0.3040 - acc: 0.8703 - val_loss: 0.2561 - val_acc: 0.9034\n",
      "Epoch 30/100\n",
      "32000/32000 [==============================] - 42s 1ms/step - loss: 0.2946 - acc: 0.8739 - val_loss: 0.2448 - val_acc: 0.9094\n",
      "Epoch 31/100\n",
      "32000/32000 [==============================] - 47s 1ms/step - loss: 0.2848 - acc: 0.8775 - val_loss: 0.2375 - val_acc: 0.9124\n",
      "Epoch 32/100\n",
      "32000/32000 [==============================] - 42s 1ms/step - loss: 0.2758 - acc: 0.8828 - val_loss: 0.2284 - val_acc: 0.9164\n",
      "Epoch 33/100\n",
      "32000/32000 [==============================] - 40s 1ms/step - loss: 0.2678 - acc: 0.8885 - val_loss: 0.2302 - val_acc: 0.9166\n",
      "Epoch 34/100\n",
      "32000/32000 [==============================] - 41s 1ms/step - loss: 0.2614 - acc: 0.8912 - val_loss: 0.2131 - val_acc: 0.9244\n",
      "Epoch 35/100\n",
      "32000/32000 [==============================] - 45s 1ms/step - loss: 0.2532 - acc: 0.8958 - val_loss: 0.2055 - val_acc: 0.9264\n",
      "Epoch 36/100\n",
      "32000/32000 [==============================] - 45s 1ms/step - loss: 0.2461 - acc: 0.8982 - val_loss: 0.2052 - val_acc: 0.9266\n",
      "Epoch 37/100\n",
      "32000/32000 [==============================] - 46s 1ms/step - loss: 0.2395 - acc: 0.9023 - val_loss: 0.1904 - val_acc: 0.9324\n",
      "Epoch 38/100\n",
      "32000/32000 [==============================] - 45s 1ms/step - loss: 0.2346 - acc: 0.9034 - val_loss: 0.1885 - val_acc: 0.9345\n",
      "Epoch 39/100\n",
      "32000/32000 [==============================] - 38s 1ms/step - loss: 0.2320 - acc: 0.9045 - val_loss: 0.1899 - val_acc: 0.9345\n",
      "Epoch 40/100\n",
      "32000/32000 [==============================] - 37s 1ms/step - loss: 0.2193 - acc: 0.9107 - val_loss: 0.1722 - val_acc: 0.9403\n",
      "Epoch 41/100\n",
      "32000/32000 [==============================] - 37s 1ms/step - loss: 0.2153 - acc: 0.9106 - val_loss: 0.1712 - val_acc: 0.9421\n",
      "Epoch 42/100\n",
      "32000/32000 [==============================] - 41s 1ms/step - loss: 0.2063 - acc: 0.9174 - val_loss: 0.1629 - val_acc: 0.9456\n",
      "Epoch 43/100\n",
      "32000/32000 [==============================] - 42s 1ms/step - loss: 0.2082 - acc: 0.9155 - val_loss: 0.1617 - val_acc: 0.9445\n",
      "Epoch 44/100\n",
      "32000/32000 [==============================] - 40s 1ms/step - loss: 0.1987 - acc: 0.9197 - val_loss: 0.1562 - val_acc: 0.9476\n",
      "Epoch 45/100\n",
      "32000/32000 [==============================] - 45s 1ms/step - loss: 0.1939 - acc: 0.9225 - val_loss: 0.1557 - val_acc: 0.9454\n"
     ]
    },
    {
     "name": "stdout",
     "output_type": "stream",
     "text": [
      "Epoch 46/100\n",
      "32000/32000 [==============================] - 41s 1ms/step - loss: 0.1910 - acc: 0.9232 - val_loss: 0.1488 - val_acc: 0.9495\n",
      "Epoch 47/100\n",
      "32000/32000 [==============================] - 37s 1ms/step - loss: 0.1857 - acc: 0.9248 - val_loss: 0.1475 - val_acc: 0.9505\n",
      "Epoch 48/100\n",
      "32000/32000 [==============================] - 37s 1ms/step - loss: 0.1840 - acc: 0.9250 - val_loss: 0.1445 - val_acc: 0.9507\n",
      "Epoch 49/100\n",
      "32000/32000 [==============================] - 37s 1ms/step - loss: 0.1792 - acc: 0.9290 - val_loss: 0.1419 - val_acc: 0.9517\n",
      "Epoch 50/100\n",
      "32000/32000 [==============================] - 40s 1ms/step - loss: 0.1780 - acc: 0.9294 - val_loss: 0.1328 - val_acc: 0.9544\n",
      "Epoch 51/100\n",
      "32000/32000 [==============================] - 37s 1ms/step - loss: 0.1693 - acc: 0.9325 - val_loss: 0.1343 - val_acc: 0.9541\n",
      "Epoch 52/100\n",
      "32000/32000 [==============================] - 37s 1ms/step - loss: 0.1645 - acc: 0.9355 - val_loss: 0.1323 - val_acc: 0.9540\n",
      "Epoch 53/100\n",
      "32000/32000 [==============================] - 37s 1ms/step - loss: 0.1635 - acc: 0.9358 - val_loss: 0.1322 - val_acc: 0.9567\n",
      "Epoch 54/100\n",
      "32000/32000 [==============================] - 36s 1ms/step - loss: 0.1582 - acc: 0.9378 - val_loss: 0.1251 - val_acc: 0.9573\n",
      "Epoch 55/100\n",
      "32000/32000 [==============================] - 39s 1ms/step - loss: 0.1554 - acc: 0.9396 - val_loss: 0.1211 - val_acc: 0.9594\n",
      "Epoch 56/100\n",
      "32000/32000 [==============================] - 40s 1ms/step - loss: 0.1540 - acc: 0.9393 - val_loss: 0.1227 - val_acc: 0.9591\n",
      "Epoch 57/100\n",
      "32000/32000 [==============================] - 40s 1ms/step - loss: 0.1511 - acc: 0.9404 - val_loss: 0.1201 - val_acc: 0.9594\n",
      "Epoch 58/100\n",
      "32000/32000 [==============================] - 40s 1ms/step - loss: 0.1487 - acc: 0.9414 - val_loss: 0.1146 - val_acc: 0.9624\n",
      "Epoch 59/100\n",
      "32000/32000 [==============================] - 40s 1ms/step - loss: 0.1409 - acc: 0.9450 - val_loss: 0.1160 - val_acc: 0.9597\n",
      "Epoch 60/100\n",
      "32000/32000 [==============================] - 43s 1ms/step - loss: 0.1439 - acc: 0.9437 - val_loss: 0.1191 - val_acc: 0.9599\n",
      "Execution time:  2376.893105983734\n"
     ]
    }
   ],
   "source": [
    "from keras.layers import Conv2D, MaxPooling2D\n",
    "from keras.layers.normalization import BatchNormalization\n",
    "\n",
    "\n",
    "model_2 = Sequential()\n",
    "model_2.add(Conv2D(32, kernel_size=(3, 3),\n",
    "                 activation='relu',\n",
    "                 kernel_initializer='he_normal',\n",
    "                 input_shape=inputShape))\n",
    "model_2.add(MaxPooling2D((2, 2)))\n",
    "model_2.add(Dropout(0.25))\n",
    "model_2.add(Conv2D(64, (3, 3), activation='relu'))\n",
    "model_2.add(MaxPooling2D(pool_size=(2, 2)))\n",
    "model_2.add(Dropout(0.25))\n",
    "model_2.add(Conv2D(128, (3, 3), activation='relu'))\n",
    "model_2.add(Dropout(0.4))\n",
    "model_2.add(Flatten())\n",
    "model_2.add(Dense(128, activation='relu'))\n",
    "model_2.add(Dropout(0.3))\n",
    "model_2.add(Dense(2, activation='softmax'))\n",
    "\n",
    "model_2.compile(loss=keras.losses.binary_crossentropy,\n",
    "              optimizer=keras.optimizers.Adam(lr=1e-4),\n",
    "              metrics=['accuracy'])\n",
    "\n",
    "start = time.time()\n",
    "\n",
    "model_2.summary()\n",
    "# Set callback functions to early stop training and save the best model so far\n",
    "callbacks_2 = [EarlyStopping(monitor='val_loss', patience=2),\n",
    "             ModelCheckpoint(filepath='model_2.h5', monitor='val_acc', save_best_only=True)]\n",
    "\n",
    "history_2 = model_2.fit(X_train, y_train,\n",
    "                      batch_size=16,\n",
    "                      epochs=100, \n",
    "                      callbacks=callbacks_2,\n",
    "                      verbose=1,\n",
    "                      validation_data=(X_test, y_test))\n",
    "\n",
    "end = time.time()\n",
    "print('Execution time: ', end-start)"
   ]
  },
  {
   "cell_type": "code",
   "execution_count": 12,
   "metadata": {
    "ExecuteTime": {
     "end_time": "2019-03-27T20:54:51.467033Z",
     "start_time": "2019-03-27T20:54:51.150983Z"
    }
   },
   "outputs": [
    {
     "data": {
      "image/png": "[encoded data removed]",
      "text/plain": [
       "<Figure size 432x288 with 1 Axes>"
      ]
     },
     "metadata": {
      "needs_background": "light"
     },
     "output_type": "display_data"
    },
    {
     "data": {
      "image/png": "[encoded data removed]",
      "text/plain": [
       "<Figure size 432x288 with 1 Axes>"
      ]
     },
     "metadata": {
      "needs_background": "light"
     },
     "output_type": "display_data"
    }
   ],
   "source": [
    "plot_history(history_2)"
   ]
  },
  {
   "cell_type": "markdown",
   "metadata": {},
   "source": [
    "As I mentioned previously, it is not clear to me how you design a network architecture so I \"borrowed\" the one used [here](https://www.kaggle.com/bugraokcu/cnn-with-keras) (Fashion-MNIST dataset). I did tune the model:\n",
    "  1. [Adam](https://machinelearningmastery.com/adam-optimization-algorithm-for-deep-learning/) optimization algorithm\n",
    "  2. learning rate to 0.0001\n",
    "  3. Initialize weights using [He Normal](https://medium.com/@prateekvishnu/xavier-and-he-normal-he-et-al-initialization-8e3d7a087528)\n",
    "  4. early stopping\n",
    "\n",
    "Earlier models that I built (using this architecture) suffered from really bad overfitting, but rescaling the input images, and doubling the number of examples I was able to overcome this problem, as well as significantly speeding up training. resulting in \n",
    "\n",
    "Our final model was at epoch 16 and achieved **96.24**% accuracy on the test set! This model also slightly underfit the data (not such a bad thing here). Note this model did take 39 minutes to train."
   ]
  },
  {
   "cell_type": "markdown",
   "metadata": {},
   "source": [
    "## Hierarchical Recurrrent Neural Network  \n",
    "\n",
    "[Link](http://www.telesens.co/2018/03/11/object-detection-and-classification-using-r-cnns/)"
   ]
  },
  {
   "cell_type": "code",
   "execution_count": 35,
   "metadata": {
    "ExecuteTime": {
     "end_time": "2019-03-27T22:34:18.020331Z",
     "start_time": "2019-03-27T22:18:13.909718Z"
    }
   },
   "outputs": [
    {
     "name": "stdout",
     "output_type": "stream",
     "text": [
      "_________________________________________________________________\n",
      "Layer (type)                 Output Shape              Param #   \n",
      "=================================================================\n",
      "input_15 (InputLayer)        (None, 32, 32, 1)         0         \n",
      "_________________________________________________________________\n",
      "time_distributed_15 (TimeDis (None, 32, 32)            4352      \n",
      "_________________________________________________________________\n",
      "lstm_30 (LSTM)               (None, 32)                8320      \n",
      "_________________________________________________________________\n",
      "dense_26 (Dense)             (None, 2)                 66        \n",
      "=================================================================\n",
      "Total params: 12,738\n",
      "Trainable params: 12,738\n",
      "Non-trainable params: 0\n",
      "_________________________________________________________________\n",
      "Train on 32000 samples, validate on 8000 samples\n",
      "Epoch 1/20\n",
      "32000/32000 [==============================] - 75s 2ms/step - loss: 0.6866 - acc: 0.5514 - val_loss: 0.6746 - val_acc: 0.6035\n",
      "Epoch 2/20\n",
      "32000/32000 [==============================] - 68s 2ms/step - loss: 0.6603 - acc: 0.6148 - val_loss: 0.6406 - val_acc: 0.6392\n",
      "Epoch 3/20\n",
      "32000/32000 [==============================] - 68s 2ms/step - loss: 0.6344 - acc: 0.6413 - val_loss: 0.6229 - val_acc: 0.6579\n",
      "Epoch 4/20\n",
      "32000/32000 [==============================] - 69s 2ms/step - loss: 0.6162 - acc: 0.6587 - val_loss: 0.6080 - val_acc: 0.6801\n",
      "Epoch 5/20\n",
      "32000/32000 [==============================] - 68s 2ms/step - loss: 0.6067 - acc: 0.6732 - val_loss: 0.6026 - val_acc: 0.6817\n",
      "Epoch 6/20\n",
      "32000/32000 [==============================] - 69s 2ms/step - loss: 0.6009 - acc: 0.6783 - val_loss: 0.6001 - val_acc: 0.6816\n",
      "Epoch 7/20\n",
      "32000/32000 [==============================] - 69s 2ms/step - loss: 0.5970 - acc: 0.6819 - val_loss: 0.5944 - val_acc: 0.6907\n",
      "Epoch 8/20\n",
      "32000/32000 [==============================] - 69s 2ms/step - loss: 0.5911 - acc: 0.6864 - val_loss: 0.5935 - val_acc: 0.6829\n",
      "Epoch 9/20\n",
      "32000/32000 [==============================] - 69s 2ms/step - loss: 0.5885 - acc: 0.6889 - val_loss: 0.5854 - val_acc: 0.6947\n",
      "Epoch 10/20\n",
      "32000/32000 [==============================] - 65s 2ms/step - loss: 0.5858 - acc: 0.6906 - val_loss: 0.5867 - val_acc: 0.6916\n",
      "Epoch 11/20\n",
      "32000/32000 [==============================] - 67s 2ms/step - loss: 0.5822 - acc: 0.6953 - val_loss: 0.5832 - val_acc: 0.6903\n",
      "Epoch 12/20\n",
      "32000/32000 [==============================] - 68s 2ms/step - loss: 0.5800 - acc: 0.6951 - val_loss: 0.5778 - val_acc: 0.6986\n",
      "Epoch 13/20\n",
      "32000/32000 [==============================] - 66s 2ms/step - loss: 0.5779 - acc: 0.6944 - val_loss: 0.5780 - val_acc: 0.6974\n",
      "Epoch 14/20\n",
      "32000/32000 [==============================] - 69s 2ms/step - loss: 0.5768 - acc: 0.6986 - val_loss: 0.5810 - val_acc: 0.6887\n",
      "Execution time:  963.7105407714844\n"
     ]
    }
   ],
   "source": [
    "from keras.layers import Input, TimeDistributed, LSTM\n",
    "from keras.models import Model\n",
    "from keras import regularizers\n",
    "\n",
    "row, col, pixel = X_train.shape[1:]\n",
    "\n",
    "# 4D input.\n",
    "x = Input(shape=(row, col, pixel))\n",
    "\n",
    "lstm = LSTM(size, activation='relu')\n",
    "\n",
    "# Encodes a row of pixels using TimeDistributed Wrapper.\n",
    "encoded_rows = TimeDistributed(lstm)(x)\n",
    "\n",
    "# Encodes columns of encoded rows.\n",
    "encoded_columns = LSTM(size)(encoded_rows)\n",
    "\n",
    "# Final predictions and model.\n",
    "prediction = Dense(2, activation='softmax')(encoded_columns)\n",
    "model_3 = Model(x, prediction)\n",
    "\n",
    "model_3.summary()\n",
    "\n",
    "model_3.compile(loss='binary_crossentropy',\n",
    "              optimizer=keras.optimizers.Adam(lr=1e-3),\n",
    "              metrics=['accuracy'])\n",
    "\n",
    "start = time.time()\n",
    "\n",
    "callbacks_3 = [EarlyStopping(monitor='val_loss', patience=2),\n",
    "             ModelCheckpoint(filepath='model_3.h5', monitor='val_acc', save_best_only=True)]\n",
    "\n",
    "# Training.\n",
    "history_3 = model_3.fit(X_train, y_train,\n",
    "                        batch_size=64,\n",
    "                        epochs=20,\n",
    "                        callbacks=callbacks_3,\n",
    "                        verbose=1,\n",
    "                        validation_data=(X_test, y_test))\n",
    "\n",
    "end = time.time()\n",
    "print('Execution time: ', end-start)"
   ]
  },
  {
   "cell_type": "code",
   "execution_count": 36,
   "metadata": {
    "ExecuteTime": {
     "end_time": "2019-03-27T22:37:11.550273Z",
     "start_time": "2019-03-27T22:37:11.227113Z"
    }
   },
   "outputs": [
    {
     "data": {
      "image/png": "[encoded data removed]",
      "text/plain": [
       "<Figure size 432x288 with 1 Axes>"
      ]
     },
     "metadata": {
      "needs_background": "light"
     },
     "output_type": "display_data"
    },
    {
     "data": {
      "image/png": "[encoded data removed]",
      "text/plain": [
       "<Figure size 432x288 with 1 Axes>"
      ]
     },
     "metadata": {
      "needs_background": "light"
     },
     "output_type": "display_data"
    }
   ],
   "source": [
    "plot_history(history_3)"
   ]
  },
  {
   "cell_type": "markdown",
   "metadata": {},
   "source": [
    "This model only took 19 minutes to train (versus 39 for our CNN), but was not very accurate. Bottom line: LSTM's would not be my go to for image classification, CNN's are perfect for this task! "
   ]
  },
  {
   "cell_type": "code",
   "execution_count": null,
   "metadata": {},
   "outputs": [],
   "source": []
  }
 ],
 "metadata": {
  "kernelspec": {
   "display_name": "Python 3",
   "language": "python",
   "name": "python3"
  },
  "language_info": {
   "codemirror_mode": {
    "name": "ipython",
    "version": 3
   },
   "file_extension": ".py",
   "mimetype": "text/x-python",
   "name": "python",
   "nbconvert_exporter": "python",
   "pygments_lexer": "ipython3",
   "version": "3.6.6"
  },
  "latex_envs": {
   "LaTeX_envs_menu_present": true,
   "autoclose": false,
   "autocomplete": true,
   "bibliofile": "biblio.bib",
   "cite_by": "apalike",
   "current_citInitial": 1,
   "eqLabelWithNumbers": true,
   "eqNumInitial": 1,
   "hotkeys": {
    "equation": "Ctrl-E",
    "itemize": "Ctrl-I"
   },
   "labels_anchors": false,
   "latex_user_defs": false,
   "report_style_numbering": false,
   "user_envs_cfg": false
  },
  "toc": {
   "base_numbering": 1,
   "nav_menu": {},
   "number_sections": true,
   "sideBar": true,
   "skip_h1_title": false,
   "title_cell": "Table of Contents",
   "title_sidebar": "Contents",
   "toc_cell": false,
   "toc_position": {},
   "toc_section_display": true,
   "toc_window_display": false
  },
  "varInspector": {
   "cols": {
    "lenName": 16,
    "lenType": 16,
    "lenVar": 40
   },
   "kernels_config": {
    "python": {
     "delete_cmd_postfix": "",
     "delete_cmd_prefix": "del ",
     "library": "var_list.py",
     "varRefreshCmd": "print(var_dic_list())"
    },
    "r": {
     "delete_cmd_postfix": ") ",
     "delete_cmd_prefix": "rm(",
     "library": "var_list.r",
     "varRefreshCmd": "cat(var_dic_list()) "
    }
   },
   "types_to_exclude": [
    "module",
    "function",
    "builtin_function_or_method",
    "instance",
    "_Feature"
   ],
   "window_display": false
  }
 },
 "nbformat": 4,
 "nbformat_minor": 2
}
