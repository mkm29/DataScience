{
 "cells": [
  {
   "cell_type": "code",
   "execution_count": 1,
   "metadata": {
    "ExecuteTime": {
     "end_time": "2018-12-03T16:21:57.756038Z",
     "start_time": "2018-12-03T16:21:55.378961Z"
    }
   },
   "outputs": [],
   "source": [
    "from sentiment_analysis import *"
   ]
  },
  {
   "cell_type": "code",
   "execution_count": 2,
   "metadata": {
    "ExecuteTime": {
     "end_time": "2018-12-03T16:21:57.849805Z",
     "start_time": "2018-12-03T16:21:57.832766Z"
    }
   },
   "outputs": [],
   "source": [
    "reviews = pd.read_csv('./amazon_cells_labelled.txt', sep='\\t', header=None)\n",
    "reviews.columns = ['review', 'score']"
   ]
  },
  {
   "cell_type": "code",
   "execution_count": 3,
   "metadata": {
    "ExecuteTime": {
     "end_time": "2018-12-02T06:00:20.495846Z",
     "start_time": "2018-12-02T06:00:20.489514Z"
    },
    "collapsed": true
   },
   "outputs": [
    {
     "data": {
      "text/plain": [
       "'\\nThis is what the first 5 reviews look like\\n\\nSo there is no way for me to plug it in here in the US unless I go by a converter.\\t0\\nGood case, Excellent value.\\t1\\nGreat for the jawbone.\\t1\\nTied to charger for conversations lasting more than 45 minutes.MAJOR PROBLEMS!!\\t0\\nThe mic is great.\\t1\\n\\n'"
      ]
     },
     "execution_count": 3,
     "metadata": {},
     "output_type": "execute_result"
    }
   ],
   "source": [
    "'''\n",
    "This is what the first 5 reviews look like\n",
    "\n",
    "So there is no way for me to plug it in here in the US unless I go by a converter.\t0\n",
    "Good case, Excellent value.\t1\n",
    "Great for the jawbone.\t1\n",
    "Tied to charger for conversations lasting more than 45 minutes.MAJOR PROBLEMS!!\t0\n",
    "The mic is great.\t1\n",
    "\n",
    "'''"
   ]
  },
  {
   "cell_type": "code",
   "execution_count": 3,
   "metadata": {
    "ExecuteTime": {
     "end_time": "2018-12-03T16:21:58.762666Z",
     "start_time": "2018-12-03T16:21:58.683648Z"
    }
   },
   "outputs": [],
   "source": [
    "reviews['exclamation'] = reviews.review.str.contains(\"!\")\n",
    "reviews[\"single_quote\"] = reviews.review.str.contains(\"\\'\")\n",
    "reviews[\"allcaps\"] = reviews.review.str.isupper()\n",
    "reviews[\"num_capitalized_words\"] = reviews.review.apply(lambda x: percent_capitalized_words(x, True) )\n",
    "reviews[\"percent_capitalized_words\"] = reviews.review.apply(percent_capitalized_words)\n",
    "# now lets make a copy of this data for the other 4 models\n",
    "neg_words, pos_words = get_top_words(reviews, 20)"
   ]
  },
  {
   "cell_type": "code",
   "execution_count": 7,
   "metadata": {
    "ExecuteTime": {
     "end_time": "2018-12-03T14:36:58.777137Z",
     "start_time": "2018-12-03T14:36:58.759929Z"
    }
   },
   "outputs": [
    {
     "data": {
      "text/html": [
       "<div>\n",
       "<style scoped>\n",
       "    .dataframe tbody tr th:only-of-type {\n",
       "        vertical-align: middle;\n",
       "    }\n",
       "\n",
       "    .dataframe tbody tr th {\n",
       "        vertical-align: top;\n",
       "    }\n",
       "\n",
       "    .dataframe thead th {\n",
       "        text-align: right;\n",
       "    }\n",
       "</style>\n",
       "<table border=\"1\" class=\"dataframe\">\n",
       "  <thead>\n",
       "    <tr style=\"text-align: right;\">\n",
       "      <th></th>\n",
       "      <th>exclamation</th>\n",
       "      <th>single_quote</th>\n",
       "      <th>allcaps</th>\n",
       "      <th>num_capitalized_words</th>\n",
       "      <th>percent_capitalized_words</th>\n",
       "    </tr>\n",
       "    <tr>\n",
       "      <th>score</th>\n",
       "      <th></th>\n",
       "      <th></th>\n",
       "      <th></th>\n",
       "      <th></th>\n",
       "      <th></th>\n",
       "    </tr>\n",
       "  </thead>\n",
       "  <tbody>\n",
       "    <tr>\n",
       "      <th>0</th>\n",
       "      <td>0.074</td>\n",
       "      <td>0.194</td>\n",
       "      <td>0.02</td>\n",
       "      <td>0.214</td>\n",
       "      <td>0.142633</td>\n",
       "    </tr>\n",
       "    <tr>\n",
       "      <th>1</th>\n",
       "      <td>0.156</td>\n",
       "      <td>0.124</td>\n",
       "      <td>0.01</td>\n",
       "      <td>0.084</td>\n",
       "      <td>0.047067</td>\n",
       "    </tr>\n",
       "  </tbody>\n",
       "</table>\n",
       "</div>"
      ],
      "text/plain": [
       "       exclamation  single_quote  allcaps  num_capitalized_words  \\\n",
       "score                                                              \n",
       "0            0.074         0.194     0.02                  0.214   \n",
       "1            0.156         0.124     0.01                  0.084   \n",
       "\n",
       "       percent_capitalized_words  \n",
       "score                             \n",
       "0                       0.142633  \n",
       "1                       0.047067  "
      ]
     },
     "execution_count": 7,
     "metadata": {},
     "output_type": "execute_result"
    }
   ],
   "source": [
    "reviews.groupby(\"score\").mean()"
   ]
  },
  {
   "cell_type": "markdown",
   "metadata": {},
   "source": [
    "**Takeaways**\n",
    "  * When there is an exclamation mark in the review, the chance it will be negative are more than double the chances it is positive. \n",
    "  * Basically no difference for all caps - this scenario does not happen often, better to check if the review **contains ONE word in all caps**\n",
    "  * So we computed the number of words in all caps for each review: in negative reviews every 4.6 words are in all caps, whereas only one in 11.9 words in positive reviews are negative"
   ]
  },
  {
   "cell_type": "code",
   "execution_count": 16,
   "metadata": {
    "ExecuteTime": {
     "end_time": "2018-12-03T14:46:21.824622Z",
     "start_time": "2018-12-03T14:46:21.777177Z"
    }
   },
   "outputs": [],
   "source": [
    "scores_by_num_cap_words = []\n",
    "\n",
    "for threshold in range(0,15):\n",
    "    scores_by_num_cap_words.append( reviews.query(\"num_capitalized_words >= {}\".format(threshold)).score.mean() )"
   ]
  },
  {
   "cell_type": "code",
   "execution_count": 17,
   "metadata": {
    "ExecuteTime": {
     "end_time": "2018-12-03T14:46:23.982248Z",
     "start_time": "2018-12-03T14:46:23.813599Z"
    }
   },
   "outputs": [
    {
     "data": {
      "image/png": "[encoded data removed]",
      "text/plain": [
       "<Figure size 720x576 with 1 Axes>"
      ]
     },
     "metadata": {
      "needs_background": "light"
     },
     "output_type": "display_data"
    }
   ],
   "source": [
    "fig = plt.figure(figsize=(10,8))\n",
    "plt.plot(scores_by_num_cap_words)\n",
    "sns.despine(fig=fig)\n",
    "plt.xlabel(\"Number of all-caps words\")\n",
    "plt.ylabel(\"Average Score\")\n",
    "plt.show()"
   ]
  },
  {
   "cell_type": "code",
   "execution_count": 22,
   "metadata": {
    "ExecuteTime": {
     "end_time": "2018-12-03T14:47:44.794457Z",
     "start_time": "2018-12-03T14:47:44.766789Z"
    }
   },
   "outputs": [
    {
     "name": "stdout",
     "output_type": "stream",
     "text": [
      "0.0\n",
      "0.1\n",
      "0.2\n",
      "0.3\n",
      "0.4\n",
      "0.5\n",
      "0.6\n",
      "0.7\n",
      "0.8\n",
      "0.9\n",
      "1.0\n"
     ]
    }
   ],
   "source": [
    "scores_by_percent_cap_words = []\n",
    "for percent in range(0,11):\n",
    "    percent = percent / 10\n",
    "    print(percent)\n",
    "    scores_by_percent_cap_words.append( reviews.query(\"percent_capitalized_words >= {}\".format(percent)).score.mean() )"
   ]
  },
  {
   "cell_type": "code",
   "execution_count": 24,
   "metadata": {
    "ExecuteTime": {
     "end_time": "2018-12-03T14:48:11.779734Z",
     "start_time": "2018-12-03T14:48:11.768494Z"
    }
   },
   "outputs": [
    {
     "data": {
      "text/plain": [
       "count    1000.00000\n",
       "mean        0.09485\n",
       "std         0.59288\n",
       "min         0.00000\n",
       "25%         0.00000\n",
       "50%         0.00000\n",
       "75%         0.00000\n",
       "max        12.00000\n",
       "Name: percent_capitalized_words, dtype: float64"
      ]
     },
     "execution_count": 24,
     "metadata": {},
     "output_type": "execute_result"
    }
   ],
   "source": [
    "reviews.percent_capitalized_words.describe()"
   ]
  },
  {
   "cell_type": "code",
   "execution_count": 16,
   "metadata": {
    "ExecuteTime": {
     "end_time": "2018-12-02T06:50:12.550570Z",
     "start_time": "2018-12-02T06:50:12.534414Z"
    }
   },
   "outputs": [
    {
     "data": {
      "text/html": [
       "<div>\n",
       "<style scoped>\n",
       "    .dataframe tbody tr th:only-of-type {\n",
       "        vertical-align: middle;\n",
       "    }\n",
       "\n",
       "    .dataframe tbody tr th {\n",
       "        vertical-align: top;\n",
       "    }\n",
       "\n",
       "    .dataframe thead th {\n",
       "        text-align: right;\n",
       "    }\n",
       "</style>\n",
       "<table border=\"1\" class=\"dataframe\">\n",
       "  <thead>\n",
       "    <tr style=\"text-align: right;\">\n",
       "      <th></th>\n",
       "      <th>score</th>\n",
       "      <th>qingle_quote</th>\n",
       "      <th>allcaps</th>\n",
       "      <th>single_quote</th>\n",
       "    </tr>\n",
       "    <tr>\n",
       "      <th>exclamation</th>\n",
       "      <th></th>\n",
       "      <th></th>\n",
       "      <th></th>\n",
       "      <th></th>\n",
       "    </tr>\n",
       "  </thead>\n",
       "  <tbody>\n",
       "    <tr>\n",
       "      <th>False</th>\n",
       "      <td>0.476836</td>\n",
       "      <td>0.166102</td>\n",
       "      <td>0.012429</td>\n",
       "      <td>0.166102</td>\n",
       "    </tr>\n",
       "    <tr>\n",
       "      <th>True</th>\n",
       "      <td>0.678261</td>\n",
       "      <td>0.104348</td>\n",
       "      <td>0.034783</td>\n",
       "      <td>0.104348</td>\n",
       "    </tr>\n",
       "  </tbody>\n",
       "</table>\n",
       "</div>"
      ],
      "text/plain": [
       "                score  qingle_quote   allcaps  single_quote\n",
       "exclamation                                                \n",
       "False        0.476836      0.166102  0.012429      0.166102\n",
       "True         0.678261      0.104348  0.034783      0.104348"
      ]
     },
     "execution_count": 16,
     "metadata": {},
     "output_type": "execute_result"
    }
   ],
   "source": [
    "# basically what we are looking for here are drastic differences in the means of the 2 groups (score)\n",
    "reviews.groupby(\"exclamation\").mean()"
   ]
  },
  {
   "cell_type": "code",
   "execution_count": 4,
   "metadata": {
    "ExecuteTime": {
     "end_time": "2018-12-03T16:22:18.785669Z",
     "start_time": "2018-12-03T16:22:10.115660Z"
    }
   },
   "outputs": [],
   "source": [
    "scores = reviews.review.apply(nltk_sentiment)\n",
    "reviews[\"neg\"] = [score[0] for score in scores]\n",
    "reviews[\"neu\"] = [score[1] for score in scores]\n",
    "reviews[\"pos\"] = [score[2] for score in scores]\n",
    "reviews[\"compound\"] = [score[3] for score in scores]"
   ]
  },
  {
   "cell_type": "code",
   "execution_count": 37,
   "metadata": {
    "ExecuteTime": {
     "end_time": "2018-12-02T23:56:32.739908Z",
     "start_time": "2018-12-02T23:56:32.726442Z"
    }
   },
   "outputs": [
    {
     "data": {
      "text/html": [
       "<div>\n",
       "<style scoped>\n",
       "    .dataframe tbody tr th:only-of-type {\n",
       "        vertical-align: middle;\n",
       "    }\n",
       "\n",
       "    .dataframe tbody tr th {\n",
       "        vertical-align: top;\n",
       "    }\n",
       "\n",
       "    .dataframe thead th {\n",
       "        text-align: right;\n",
       "    }\n",
       "</style>\n",
       "<table border=\"1\" class=\"dataframe\">\n",
       "  <thead>\n",
       "    <tr style=\"text-align: right;\">\n",
       "      <th></th>\n",
       "      <th>neg</th>\n",
       "      <th>neu</th>\n",
       "      <th>pos</th>\n",
       "      <th>compound</th>\n",
       "    </tr>\n",
       "    <tr>\n",
       "      <th>score</th>\n",
       "      <th></th>\n",
       "      <th></th>\n",
       "      <th></th>\n",
       "      <th></th>\n",
       "    </tr>\n",
       "  </thead>\n",
       "  <tbody>\n",
       "    <tr>\n",
       "      <th>0</th>\n",
       "      <td>0.197146</td>\n",
       "      <td>0.752554</td>\n",
       "      <td>0.050308</td>\n",
       "      <td>-0.185386</td>\n",
       "    </tr>\n",
       "    <tr>\n",
       "      <th>1</th>\n",
       "      <td>0.012796</td>\n",
       "      <td>0.632062</td>\n",
       "      <td>0.355148</td>\n",
       "      <td>0.459773</td>\n",
       "    </tr>\n",
       "  </tbody>\n",
       "</table>\n",
       "</div>"
      ],
      "text/plain": [
       "            neg       neu       pos  compound\n",
       "score                                        \n",
       "0      0.197146  0.752554  0.050308 -0.185386\n",
       "1      0.012796  0.632062  0.355148  0.459773"
      ]
     },
     "execution_count": 37,
     "metadata": {},
     "output_type": "execute_result"
    }
   ],
   "source": [
    "reviews.groupby(\"score\").mean()"
   ]
  },
  {
   "cell_type": "markdown",
   "metadata": {},
   "source": [
    "Not surprisingly, there is not much difference in the neutral score the [VADER](http://comp.social.gatech.edu/papers/icwsm14.vader.hutto.pdf) sentiment system assigns our reviews, while there is a significant difference in the positive and compound scores, and a noticeable difference in the negative scores. This appears to be pretty promising for our model. "
   ]
  },
  {
   "cell_type": "code",
   "execution_count": 5,
   "metadata": {
    "ExecuteTime": {
     "end_time": "2018-12-03T16:22:26.198444Z",
     "start_time": "2018-12-03T16:22:26.193412Z"
    }
   },
   "outputs": [],
   "source": [
    "def analyze_review(review):\n",
    "    splitter = Splitter()\n",
    "    postagger = POSTagger()\n",
    "    splitted_sentences = splitter.split(review)\n",
    "    pos_tagged_sentences = postagger.pos_tag(splitted_sentences)\n",
    "    \n",
    "    dicttagger = DictionaryTagger([ 'dicts/positive.yml', 'dicts/negative.yml', 'dicts/inc.yml', 'dicts/dec.yml', 'dicts/inv.yml'])\n",
    "    dict_tagged_sentences = dicttagger.tag(pos_tagged_sentences)\n",
    "\n",
    "    return sentiment_score(dict_tagged_sentences)"
   ]
  },
  {
   "cell_type": "code",
   "execution_count": 6,
   "metadata": {
    "ExecuteTime": {
     "end_time": "2018-12-03T16:22:43.681301Z",
     "start_time": "2018-12-03T16:22:31.615154Z"
    }
   },
   "outputs": [],
   "source": [
    "reviews[\"sentiment_score\"] = reviews.review.apply(analyze_review)"
   ]
  },
  {
   "cell_type": "code",
   "execution_count": 44,
   "metadata": {
    "ExecuteTime": {
     "end_time": "2018-12-03T00:06:56.999313Z",
     "start_time": "2018-12-03T00:06:56.983672Z"
    }
   },
   "outputs": [
    {
     "data": {
      "text/html": [
       "<div>\n",
       "<style scoped>\n",
       "    .dataframe tbody tr th:only-of-type {\n",
       "        vertical-align: middle;\n",
       "    }\n",
       "\n",
       "    .dataframe tbody tr th {\n",
       "        vertical-align: top;\n",
       "    }\n",
       "\n",
       "    .dataframe thead th {\n",
       "        text-align: right;\n",
       "    }\n",
       "</style>\n",
       "<table border=\"1\" class=\"dataframe\">\n",
       "  <thead>\n",
       "    <tr style=\"text-align: right;\">\n",
       "      <th></th>\n",
       "      <th>review</th>\n",
       "      <th>score</th>\n",
       "      <th>neg</th>\n",
       "      <th>neu</th>\n",
       "      <th>pos</th>\n",
       "      <th>compound</th>\n",
       "      <th>exclamation</th>\n",
       "      <th>single_quote</th>\n",
       "      <th>allcaps</th>\n",
       "      <th>num_allcaps_words</th>\n",
       "      <th>sentiment_score</th>\n",
       "    </tr>\n",
       "  </thead>\n",
       "  <tbody>\n",
       "    <tr>\n",
       "      <th>0</th>\n",
       "      <td>So there is no way for me to plug it in here i...</td>\n",
       "      <td>0</td>\n",
       "      <td>0.120</td>\n",
       "      <td>0.880</td>\n",
       "      <td>0.000</td>\n",
       "      <td>-0.3535</td>\n",
       "      <td>False</td>\n",
       "      <td>False</td>\n",
       "      <td>False</td>\n",
       "      <td>0</td>\n",
       "      <td>0.0</td>\n",
       "    </tr>\n",
       "    <tr>\n",
       "      <th>1</th>\n",
       "      <td>Good case, Excellent value.</td>\n",
       "      <td>1</td>\n",
       "      <td>0.000</td>\n",
       "      <td>0.100</td>\n",
       "      <td>0.900</td>\n",
       "      <td>0.8402</td>\n",
       "      <td>False</td>\n",
       "      <td>False</td>\n",
       "      <td>False</td>\n",
       "      <td>0</td>\n",
       "      <td>2.0</td>\n",
       "    </tr>\n",
       "    <tr>\n",
       "      <th>2</th>\n",
       "      <td>Great for the jawbone.</td>\n",
       "      <td>1</td>\n",
       "      <td>0.000</td>\n",
       "      <td>0.423</td>\n",
       "      <td>0.577</td>\n",
       "      <td>0.6249</td>\n",
       "      <td>False</td>\n",
       "      <td>False</td>\n",
       "      <td>False</td>\n",
       "      <td>0</td>\n",
       "      <td>1.0</td>\n",
       "    </tr>\n",
       "    <tr>\n",
       "      <th>3</th>\n",
       "      <td>Tied to charger for conversations lasting more...</td>\n",
       "      <td>0</td>\n",
       "      <td>0.287</td>\n",
       "      <td>0.713</td>\n",
       "      <td>0.000</td>\n",
       "      <td>-0.6145</td>\n",
       "      <td>True</td>\n",
       "      <td>False</td>\n",
       "      <td>False</td>\n",
       "      <td>2</td>\n",
       "      <td>0.0</td>\n",
       "    </tr>\n",
       "    <tr>\n",
       "      <th>4</th>\n",
       "      <td>The mic is great.</td>\n",
       "      <td>1</td>\n",
       "      <td>0.000</td>\n",
       "      <td>0.423</td>\n",
       "      <td>0.577</td>\n",
       "      <td>0.6249</td>\n",
       "      <td>False</td>\n",
       "      <td>False</td>\n",
       "      <td>False</td>\n",
       "      <td>0</td>\n",
       "      <td>1.0</td>\n",
       "    </tr>\n",
       "  </tbody>\n",
       "</table>\n",
       "</div>"
      ],
      "text/plain": [
       "                                              review  score    neg    neu  \\\n",
       "0  So there is no way for me to plug it in here i...      0  0.120  0.880   \n",
       "1                        Good case, Excellent value.      1  0.000  0.100   \n",
       "2                             Great for the jawbone.      1  0.000  0.423   \n",
       "3  Tied to charger for conversations lasting more...      0  0.287  0.713   \n",
       "4                                  The mic is great.      1  0.000  0.423   \n",
       "\n",
       "     pos  compound  exclamation  single_quote  allcaps  num_allcaps_words  \\\n",
       "0  0.000   -0.3535        False         False    False                  0   \n",
       "1  0.900    0.8402        False         False    False                  0   \n",
       "2  0.577    0.6249        False         False    False                  0   \n",
       "3  0.000   -0.6145         True         False    False                  2   \n",
       "4  0.577    0.6249        False         False    False                  0   \n",
       "\n",
       "   sentiment_score  \n",
       "0              0.0  \n",
       "1              2.0  \n",
       "2              1.0  \n",
       "3              0.0  \n",
       "4              1.0  "
      ]
     },
     "execution_count": 44,
     "metadata": {},
     "output_type": "execute_result"
    }
   ],
   "source": [
    "reviews.head()"
   ]
  },
  {
   "cell_type": "code",
   "execution_count": 7,
   "metadata": {
    "ExecuteTime": {
     "end_time": "2018-12-03T16:22:51.408972Z",
     "start_time": "2018-12-03T16:22:51.386583Z"
    }
   },
   "outputs": [
    {
     "data": {
      "text/html": [
       "<div>\n",
       "<style scoped>\n",
       "    .dataframe tbody tr th:only-of-type {\n",
       "        vertical-align: middle;\n",
       "    }\n",
       "\n",
       "    .dataframe tbody tr th {\n",
       "        vertical-align: top;\n",
       "    }\n",
       "\n",
       "    .dataframe thead th {\n",
       "        text-align: right;\n",
       "    }\n",
       "</style>\n",
       "<table border=\"1\" class=\"dataframe\">\n",
       "  <thead>\n",
       "    <tr style=\"text-align: right;\">\n",
       "      <th></th>\n",
       "      <th>exclamation</th>\n",
       "      <th>single_quote</th>\n",
       "      <th>allcaps</th>\n",
       "      <th>num_capitalized_words</th>\n",
       "      <th>percent_capitalized_words</th>\n",
       "      <th>neg</th>\n",
       "      <th>neu</th>\n",
       "      <th>pos</th>\n",
       "      <th>compound</th>\n",
       "      <th>sentiment_score</th>\n",
       "    </tr>\n",
       "    <tr>\n",
       "      <th>score</th>\n",
       "      <th></th>\n",
       "      <th></th>\n",
       "      <th></th>\n",
       "      <th></th>\n",
       "      <th></th>\n",
       "      <th></th>\n",
       "      <th></th>\n",
       "      <th></th>\n",
       "      <th></th>\n",
       "      <th></th>\n",
       "    </tr>\n",
       "  </thead>\n",
       "  <tbody>\n",
       "    <tr>\n",
       "      <th>0</th>\n",
       "      <td>0.074</td>\n",
       "      <td>0.194</td>\n",
       "      <td>0.02</td>\n",
       "      <td>0.214</td>\n",
       "      <td>0.142633</td>\n",
       "      <td>0.197146</td>\n",
       "      <td>0.752554</td>\n",
       "      <td>0.050308</td>\n",
       "      <td>-0.185386</td>\n",
       "      <td>-0.195</td>\n",
       "    </tr>\n",
       "    <tr>\n",
       "      <th>1</th>\n",
       "      <td>0.156</td>\n",
       "      <td>0.124</td>\n",
       "      <td>0.01</td>\n",
       "      <td>0.084</td>\n",
       "      <td>0.047067</td>\n",
       "      <td>0.012796</td>\n",
       "      <td>0.632062</td>\n",
       "      <td>0.355148</td>\n",
       "      <td>0.459773</td>\n",
       "      <td>0.877</td>\n",
       "    </tr>\n",
       "  </tbody>\n",
       "</table>\n",
       "</div>"
      ],
      "text/plain": [
       "       exclamation  single_quote  allcaps  num_capitalized_words  \\\n",
       "score                                                              \n",
       "0            0.074         0.194     0.02                  0.214   \n",
       "1            0.156         0.124     0.01                  0.084   \n",
       "\n",
       "       percent_capitalized_words       neg       neu       pos  compound  \\\n",
       "score                                                                      \n",
       "0                       0.142633  0.197146  0.752554  0.050308 -0.185386   \n",
       "1                       0.047067  0.012796  0.632062  0.355148  0.459773   \n",
       "\n",
       "       sentiment_score  \n",
       "score                   \n",
       "0               -0.195  \n",
       "1                0.877  "
      ]
     },
     "execution_count": 7,
     "metadata": {},
     "output_type": "execute_result"
    }
   ],
   "source": [
    "reviews.groupby(\"score\").mean()"
   ]
  },
  {
   "cell_type": "markdown",
   "metadata": {},
   "source": [
    "There is a significant difference in the average score (from NLTK) for negative reviews versus positive reviews."
   ]
  },
  {
   "cell_type": "code",
   "execution_count": 46,
   "metadata": {
    "ExecuteTime": {
     "end_time": "2018-12-03T00:08:13.959236Z",
     "start_time": "2018-12-03T00:08:13.608391Z"
    }
   },
   "outputs": [
    {
     "name": "stderr",
     "output_type": "stream",
     "text": [
      "/Users/mitchellmurphy/anaconda3/envs/python3.5/lib/python3.6/site-packages/scipy/stats/stats.py:1713: FutureWarning: Using a non-tuple sequence for multidimensional indexing is deprecated; use `arr[tuple(seq)]` instead of `arr[seq]`. In the future this will be interpreted as an array index, `arr[np.array(seq)]`, which will result either in an error or a different result.\n",
      "  return np.add.reduce(sorted[indexer] * weights, axis=axis) / sumval\n"
     ]
    },
    {
     "data": {
      "image/png": "[encoded data removed]",
      "text/plain": [
       "<Figure size 720x576 with 1 Axes>"
      ]
     },
     "metadata": {
      "needs_background": "light"
     },
     "output_type": "display_data"
    }
   ],
   "source": [
    "fig = plt.figure(figsize=(10,8))\n",
    "sns.lineplot(x=reviews.sentiment_score, y=reviews.score)\n",
    "sns.despine(fig=fig)\n",
    "plt.xlabel(\"My Score\")\n",
    "plt.ylabel(\"Sentiment Score\")\n",
    "plt.show()"
   ]
  },
  {
   "cell_type": "markdown",
   "metadata": {},
   "source": [
    "  * This is very promising!"
   ]
  },
  {
   "cell_type": "code",
   "execution_count": 47,
   "metadata": {
    "ExecuteTime": {
     "end_time": "2018-12-03T00:08:47.494933Z",
     "start_time": "2018-12-03T00:08:47.247757Z"
    }
   },
   "outputs": [
    {
     "data": {
      "image/png": "[encoded data removed]",
      "text/plain": [
       "<Figure size 720x576 with 1 Axes>"
      ]
     },
     "metadata": {
      "needs_background": "light"
     },
     "output_type": "display_data"
    }
   ],
   "source": [
    "fig = plt.figure(figsize=(10,8))\n",
    "sns.distplot(reviews.sentiment_score)\n",
    "sns.despine(fig=fig)\n",
    "plt.show()"
   ]
  },
  {
   "cell_type": "code",
   "execution_count": 8,
   "metadata": {
    "ExecuteTime": {
     "end_time": "2018-12-03T16:23:04.154316Z",
     "start_time": "2018-12-03T16:23:04.038073Z"
    }
   },
   "outputs": [],
   "source": [
    "x = [num/10 for num in range(-11,51)]\n",
    "y = []\n",
    "for num in x:\n",
    "    y.append(reviews.query(\"sentiment_score <= {}\".format(num)).score.mean())\n",
    "data = pd.DataFrame([x, y]).transpose()\n",
    "data.columns = ['x','y']"
   ]
  },
  {
   "cell_type": "code",
   "execution_count": 9,
   "metadata": {
    "ExecuteTime": {
     "end_time": "2018-12-03T16:23:06.102518Z",
     "start_time": "2018-12-03T16:23:05.872826Z"
    }
   },
   "outputs": [
    {
     "data": {
      "image/png": "[encoded data removed]",
      "text/plain": [
       "<Figure size 720x576 with 1 Axes>"
      ]
     },
     "metadata": {
      "needs_background": "light"
     },
     "output_type": "display_data"
    }
   ],
   "source": [
    "fig = plt.figure(figsize=(10,8))\n",
    "sns.lineplot(x=x,y=y)\n",
    "sns.despine(fig=fig)\n",
    "plt.xlabel(\"NLTK Sentiment Score\")\n",
    "plt.ylabel(\"Amazon Sentiment Score\")\n",
    "plt.show()"
   ]
  },
  {
   "cell_type": "markdown",
   "metadata": {},
   "source": [
    "So most are at 0, a few less than 0, whereas a lot more at 1 and same number of reviews scored 2 as scored -1."
   ]
  },
  {
   "cell_type": "code",
   "execution_count": 14,
   "metadata": {
    "ExecuteTime": {
     "end_time": "2018-12-02T17:03:44.580674Z",
     "start_time": "2018-12-02T17:03:44.566518Z"
    }
   },
   "outputs": [
    {
     "data": {
      "text/html": [
       "<div>\n",
       "<style scoped>\n",
       "    .dataframe tbody tr th:only-of-type {\n",
       "        vertical-align: middle;\n",
       "    }\n",
       "\n",
       "    .dataframe tbody tr th {\n",
       "        vertical-align: top;\n",
       "    }\n",
       "\n",
       "    .dataframe thead th {\n",
       "        text-align: right;\n",
       "    }\n",
       "</style>\n",
       "<table border=\"1\" class=\"dataframe\">\n",
       "  <thead>\n",
       "    <tr style=\"text-align: right;\">\n",
       "      <th></th>\n",
       "      <th>exclamation</th>\n",
       "      <th>single_quote</th>\n",
       "      <th>allcaps</th>\n",
       "      <th>num_allcaps_words</th>\n",
       "      <th>sentiment_score</th>\n",
       "    </tr>\n",
       "    <tr>\n",
       "      <th>score</th>\n",
       "      <th></th>\n",
       "      <th></th>\n",
       "      <th></th>\n",
       "      <th></th>\n",
       "      <th></th>\n",
       "    </tr>\n",
       "  </thead>\n",
       "  <tbody>\n",
       "    <tr>\n",
       "      <th>0</th>\n",
       "      <td>0.074</td>\n",
       "      <td>0.194</td>\n",
       "      <td>0.02</td>\n",
       "      <td>0.214</td>\n",
       "      <td>-0.195</td>\n",
       "    </tr>\n",
       "    <tr>\n",
       "      <th>1</th>\n",
       "      <td>0.156</td>\n",
       "      <td>0.124</td>\n",
       "      <td>0.01</td>\n",
       "      <td>0.084</td>\n",
       "      <td>0.877</td>\n",
       "    </tr>\n",
       "  </tbody>\n",
       "</table>\n",
       "</div>"
      ],
      "text/plain": [
       "       exclamation  single_quote  allcaps  num_allcaps_words  sentiment_score\n",
       "score                                                                        \n",
       "0            0.074         0.194     0.02              0.214           -0.195\n",
       "1            0.156         0.124     0.01              0.084            0.877"
      ]
     },
     "execution_count": 14,
     "metadata": {},
     "output_type": "execute_result"
    }
   ],
   "source": [
    "# find out the point (my score) where score = 0.5\n",
    "# looks to be slightly above 0\n",
    "reviews.groupby(\"score\").mean()"
   ]
  },
  {
   "cell_type": "markdown",
   "metadata": {},
   "source": [
    "# Models\n",
    "\n",
    "## Model 1\n",
    "*positive, negative keywords, has exclamation mark, is all caps and number of all caps words*"
   ]
  },
  {
   "cell_type": "code",
   "execution_count": 10,
   "metadata": {
    "ExecuteTime": {
     "end_time": "2018-12-03T16:23:12.514810Z",
     "start_time": "2018-12-03T16:23:12.413774Z"
    }
   },
   "outputs": [],
   "source": [
    "for word in neg_words:\n",
    "    # Note that we add spaces around the key so that we're getting the word,\n",
    "    # not just pattern matching.\n",
    "    reviews[str(word)] = reviews.review.str.contains(\n",
    "        ' ' + str(word) + ' ',\n",
    "        case=False\n",
    "    )\n",
    "    \n",
    "for word in pos_words:\n",
    "    # Note that we add spaces around the key so that we're getting the word,\n",
    "    # not just pattern matching.\n",
    "    reviews[str(word)] = reviews.review.str.contains(\n",
    "        ' ' + str(word) + ' ',\n",
    "        case=False\n",
    "    )"
   ]
  },
  {
   "cell_type": "code",
   "execution_count": 11,
   "metadata": {
    "ExecuteTime": {
     "end_time": "2018-12-03T16:23:18.627191Z",
     "start_time": "2018-12-03T16:23:18.616927Z"
    }
   },
   "outputs": [],
   "source": [
    "def build_evaluate_model(reviews, features):\n",
    "    data = reviews[features]\n",
    "    target = reviews['score']\n",
    "    # Instantiate our model and store it in a new variable.\n",
    "    bnb = BernoulliNB()\n",
    "\n",
    "    # Fit our model to the data.\n",
    "    bnb.fit(data, target)\n",
    "\n",
    "    # Classify, storing the result in a new variable.\n",
    "    y_pred = bnb.predict(data)\n",
    "\n",
    "    n = data.shape[0]\n",
    "    # Display our results.\n",
    "    print(\"Number of mislabeled points out of a total {} points : {}\".format(\n",
    "        n,\n",
    "        (target != y_pred).sum()\n",
    "    ))\n",
    "\n",
    "    correct = (n - (target != y_pred).sum())/n * 100\n",
    "    print(\"Accuracy: {}%\".format(correct))\n",
    "    \n",
    "    cv = cross_val_score(bnb, data, target, cv=5)\n",
    "    print(cv)\n",
    "    print(\"cv average is = {:.2f}%\".format(cv.mean()*100))\n",
    "    \n",
    "    cm = confusion_matrix(target, y_pred)\n",
    "    print(cm)\n",
    "    print(\"True Positive = {:.2f}%\".format(cm[1,1]/10))\n",
    "    print(\"False Positive = {:.2f}%\".format(cm[0,1]/10))\n",
    "    print(\"True Negative = {:.2f}%\".format(cm[0,0]/10))\n",
    "    print(\"False Negative = {:.2f}%\".format(cm[1,0]/10))\n",
    "    print(\"sensitivity or hit rate is {:.2f}%\".format(cm[1,1]/(cm[1,0]+cm[1,1])*100))\n",
    "    # sensitivity (recall) is the percentage of positives identified or TP/FN+TP\n",
    "    print(\"specificity or True Negative rate is {:.2f}%\".format(cm[0,0]/(cm[0,0]+cm[0,1])*100))"
   ]
  },
  {
   "cell_type": "code",
   "execution_count": 12,
   "metadata": {
    "ExecuteTime": {
     "end_time": "2018-12-03T16:23:23.782654Z",
     "start_time": "2018-12-03T16:23:23.733129Z"
    }
   },
   "outputs": [
    {
     "name": "stdout",
     "output_type": "stream",
     "text": [
      "Number of mislabeled points out of a total 1000 points : 327\n",
      "Accuracy: 67.30000000000001%\n",
      "[0.72  0.675 0.66  0.67  0.62 ]\n",
      "cv average is = 66.90%\n",
      "[[463  37]\n",
      " [290 210]]\n",
      "True Positive = 21.00%\n",
      "False Positive = 3.70%\n",
      "True Negative = 46.30%\n",
      "False Negative = 29.00%\n",
      "sensitivity or hit rate is 42.00%\n",
      "specificity or True Negative rate is 92.60%\n"
     ]
    }
   ],
   "source": [
    "features = list(pos_words) + list(neg_words) + [\"exclamation\", \"allcaps\"]\n",
    "build_evaluate_model(reviews, features)"
   ]
  },
  {
   "cell_type": "markdown",
   "metadata": {},
   "source": [
    "## Model 2\n",
    "*now include the number of all-cap words, and word pairs*"
   ]
  },
  {
   "cell_type": "code",
   "execution_count": 13,
   "metadata": {
    "ExecuteTime": {
     "end_time": "2018-12-03T16:23:26.850752Z",
     "start_time": "2018-12-03T16:23:26.846415Z"
    }
   },
   "outputs": [],
   "source": [
    "word_pairs = ['do not', 'no problem', 'the best', 'loved it','the best', 'the greatest','so good','so great', 'not good', 'not bad', 'really great','really bad', 'really good', \"very good\", \n",
    "          'not impressed','very impressive', 'well made', 'badly made', 'not great', 'too big', 'too small', \n",
    "          'very poor', 'not working','working good', \"doesn't work\", \"didn't work\", \"doesn't fit\", \n",
    "          \"wouldn't recommend\", 'would recommend', 'not nice', 'not working','not easy', 'not happy']"
   ]
  },
  {
   "cell_type": "code",
   "execution_count": 15,
   "metadata": {
    "ExecuteTime": {
     "end_time": "2018-12-03T16:23:59.788439Z",
     "start_time": "2018-12-03T16:23:59.761640Z"
    }
   },
   "outputs": [
    {
     "data": {
      "text/html": [
       "<div>\n",
       "<style scoped>\n",
       "    .dataframe tbody tr th:only-of-type {\n",
       "        vertical-align: middle;\n",
       "    }\n",
       "\n",
       "    .dataframe tbody tr th {\n",
       "        vertical-align: top;\n",
       "    }\n",
       "\n",
       "    .dataframe thead th {\n",
       "        text-align: right;\n",
       "    }\n",
       "</style>\n",
       "<table border=\"1\" class=\"dataframe\">\n",
       "  <thead>\n",
       "    <tr style=\"text-align: right;\">\n",
       "      <th></th>\n",
       "      <th>review</th>\n",
       "      <th>score</th>\n",
       "      <th>exclamation</th>\n",
       "      <th>single_quote</th>\n",
       "      <th>allcaps</th>\n",
       "      <th>num_capitalized_words</th>\n",
       "      <th>percent_capitalized_words</th>\n",
       "      <th>neg</th>\n",
       "      <th>neu</th>\n",
       "      <th>pos</th>\n",
       "      <th>...</th>\n",
       "      <th>not working</th>\n",
       "      <th>working good</th>\n",
       "      <th>doesn't work</th>\n",
       "      <th>didn't work</th>\n",
       "      <th>doesn't fit</th>\n",
       "      <th>wouldn't recommend</th>\n",
       "      <th>would recommend</th>\n",
       "      <th>not nice</th>\n",
       "      <th>not easy</th>\n",
       "      <th>not happy</th>\n",
       "    </tr>\n",
       "  </thead>\n",
       "  <tbody>\n",
       "    <tr>\n",
       "      <th>0</th>\n",
       "      <td>So there is no way for me to plug it in here i...</td>\n",
       "      <td>0</td>\n",
       "      <td>False</td>\n",
       "      <td>False</td>\n",
       "      <td>False</td>\n",
       "      <td>0</td>\n",
       "      <td>0.0</td>\n",
       "      <td>0.120</td>\n",
       "      <td>0.880</td>\n",
       "      <td>0.000</td>\n",
       "      <td>...</td>\n",
       "      <td>False</td>\n",
       "      <td>False</td>\n",
       "      <td>False</td>\n",
       "      <td>False</td>\n",
       "      <td>False</td>\n",
       "      <td>False</td>\n",
       "      <td>False</td>\n",
       "      <td>False</td>\n",
       "      <td>False</td>\n",
       "      <td>False</td>\n",
       "    </tr>\n",
       "    <tr>\n",
       "      <th>1</th>\n",
       "      <td>Good case, Excellent value.</td>\n",
       "      <td>1</td>\n",
       "      <td>False</td>\n",
       "      <td>False</td>\n",
       "      <td>False</td>\n",
       "      <td>0</td>\n",
       "      <td>0.0</td>\n",
       "      <td>0.000</td>\n",
       "      <td>0.100</td>\n",
       "      <td>0.900</td>\n",
       "      <td>...</td>\n",
       "      <td>False</td>\n",
       "      <td>False</td>\n",
       "      <td>False</td>\n",
       "      <td>False</td>\n",
       "      <td>False</td>\n",
       "      <td>False</td>\n",
       "      <td>False</td>\n",
       "      <td>False</td>\n",
       "      <td>False</td>\n",
       "      <td>False</td>\n",
       "    </tr>\n",
       "    <tr>\n",
       "      <th>2</th>\n",
       "      <td>Great for the jawbone.</td>\n",
       "      <td>1</td>\n",
       "      <td>False</td>\n",
       "      <td>False</td>\n",
       "      <td>False</td>\n",
       "      <td>0</td>\n",
       "      <td>0.0</td>\n",
       "      <td>0.000</td>\n",
       "      <td>0.423</td>\n",
       "      <td>0.577</td>\n",
       "      <td>...</td>\n",
       "      <td>False</td>\n",
       "      <td>False</td>\n",
       "      <td>False</td>\n",
       "      <td>False</td>\n",
       "      <td>False</td>\n",
       "      <td>False</td>\n",
       "      <td>False</td>\n",
       "      <td>False</td>\n",
       "      <td>False</td>\n",
       "      <td>False</td>\n",
       "    </tr>\n",
       "    <tr>\n",
       "      <th>3</th>\n",
       "      <td>Tied to charger for conversations lasting more...</td>\n",
       "      <td>0</td>\n",
       "      <td>True</td>\n",
       "      <td>False</td>\n",
       "      <td>False</td>\n",
       "      <td>2</td>\n",
       "      <td>1.0</td>\n",
       "      <td>0.287</td>\n",
       "      <td>0.713</td>\n",
       "      <td>0.000</td>\n",
       "      <td>...</td>\n",
       "      <td>False</td>\n",
       "      <td>False</td>\n",
       "      <td>False</td>\n",
       "      <td>False</td>\n",
       "      <td>False</td>\n",
       "      <td>False</td>\n",
       "      <td>False</td>\n",
       "      <td>False</td>\n",
       "      <td>False</td>\n",
       "      <td>False</td>\n",
       "    </tr>\n",
       "    <tr>\n",
       "      <th>4</th>\n",
       "      <td>The mic is great.</td>\n",
       "      <td>1</td>\n",
       "      <td>False</td>\n",
       "      <td>False</td>\n",
       "      <td>False</td>\n",
       "      <td>0</td>\n",
       "      <td>0.0</td>\n",
       "      <td>0.000</td>\n",
       "      <td>0.423</td>\n",
       "      <td>0.577</td>\n",
       "      <td>...</td>\n",
       "      <td>False</td>\n",
       "      <td>False</td>\n",
       "      <td>False</td>\n",
       "      <td>False</td>\n",
       "      <td>False</td>\n",
       "      <td>False</td>\n",
       "      <td>False</td>\n",
       "      <td>False</td>\n",
       "      <td>False</td>\n",
       "      <td>False</td>\n",
       "    </tr>\n",
       "  </tbody>\n",
       "</table>\n",
       "<p>5 rows × 81 columns</p>\n",
       "</div>"
      ],
      "text/plain": [
       "                                              review  score  exclamation  \\\n",
       "0  So there is no way for me to plug it in here i...      0        False   \n",
       "1                        Good case, Excellent value.      1        False   \n",
       "2                             Great for the jawbone.      1        False   \n",
       "3  Tied to charger for conversations lasting more...      0         True   \n",
       "4                                  The mic is great.      1        False   \n",
       "\n",
       "   single_quote  allcaps  num_capitalized_words  percent_capitalized_words  \\\n",
       "0         False    False                      0                        0.0   \n",
       "1         False    False                      0                        0.0   \n",
       "2         False    False                      0                        0.0   \n",
       "3         False    False                      2                        1.0   \n",
       "4         False    False                      0                        0.0   \n",
       "\n",
       "     neg    neu    pos    ...      not working  working good  doesn't work  \\\n",
       "0  0.120  0.880  0.000    ...            False         False         False   \n",
       "1  0.000  0.100  0.900    ...            False         False         False   \n",
       "2  0.000  0.423  0.577    ...            False         False         False   \n",
       "3  0.287  0.713  0.000    ...            False         False         False   \n",
       "4  0.000  0.423  0.577    ...            False         False         False   \n",
       "\n",
       "   didn't work  doesn't fit  wouldn't recommend  would recommend  not nice  \\\n",
       "0        False        False               False            False     False   \n",
       "1        False        False               False            False     False   \n",
       "2        False        False               False            False     False   \n",
       "3        False        False               False            False     False   \n",
       "4        False        False               False            False     False   \n",
       "\n",
       "   not easy  not happy  \n",
       "0     False      False  \n",
       "1     False      False  \n",
       "2     False      False  \n",
       "3     False      False  \n",
       "4     False      False  \n",
       "\n",
       "[5 rows x 81 columns]"
      ]
     },
     "execution_count": 15,
     "metadata": {},
     "output_type": "execute_result"
    }
   ],
   "source": [
    "reviews.head()"
   ]
  },
  {
   "cell_type": "code",
   "execution_count": 14,
   "metadata": {
    "ExecuteTime": {
     "end_time": "2018-12-03T16:23:28.448908Z",
     "start_time": "2018-12-03T16:23:28.372915Z"
    }
   },
   "outputs": [],
   "source": [
    "for pair in word_pairs:\n",
    "    # Note that we add spaces around the key so that we're getting the word,\n",
    "    # not just pattern matching.\n",
    "    reviews[str(pair)] = reviews.review.str.contains(\n",
    "       str(pair) ,\n",
    "        case=False\n",
    "    )"
   ]
  },
  {
   "cell_type": "code",
   "execution_count": 24,
   "metadata": {
    "ExecuteTime": {
     "end_time": "2018-12-03T16:26:13.171182Z",
     "start_time": "2018-12-03T16:26:13.088453Z"
    }
   },
   "outputs": [
    {
     "name": "stdout",
     "output_type": "stream",
     "text": [
      "Number of mislabeled points out of a total 1000 points : 314\n",
      "Accuracy: 68.60000000000001%\n",
      "[0.725 0.68  0.7   0.685 0.635]\n",
      "cv average is = 68.50%\n",
      "[[464  36]\n",
      " [278 222]]\n",
      "True Positive = 22.20%\n",
      "False Positive = 3.60%\n",
      "True Negative = 46.40%\n",
      "False Negative = 27.80%\n",
      "sensitivity or hit rate is 44.40%\n",
      "specificity or True Negative rate is 92.80%\n"
     ]
    }
   ],
   "source": [
    "features = list(pos_words) + list(neg_words) + word_pairs + [\"exclamation\", \"num_capitalized_words\", \"percent_capitalized_words\"]\n",
    "build_evaluate_model(reviews, features)"
   ]
  },
  {
   "cell_type": "code",
   "execution_count": 25,
   "metadata": {
    "ExecuteTime": {
     "end_time": "2018-12-03T16:26:27.438767Z",
     "start_time": "2018-12-03T16:26:27.413649Z"
    }
   },
   "outputs": [
    {
     "data": {
      "text/html": [
       "<div>\n",
       "<style scoped>\n",
       "    .dataframe tbody tr th:only-of-type {\n",
       "        vertical-align: middle;\n",
       "    }\n",
       "\n",
       "    .dataframe tbody tr th {\n",
       "        vertical-align: top;\n",
       "    }\n",
       "\n",
       "    .dataframe thead th {\n",
       "        text-align: right;\n",
       "    }\n",
       "</style>\n",
       "<table border=\"1\" class=\"dataframe\">\n",
       "  <thead>\n",
       "    <tr style=\"text-align: right;\">\n",
       "      <th></th>\n",
       "      <th>exclamation</th>\n",
       "      <th>single_quote</th>\n",
       "      <th>allcaps</th>\n",
       "      <th>num_capitalized_words</th>\n",
       "      <th>percent_capitalized_words</th>\n",
       "      <th>neg</th>\n",
       "      <th>neu</th>\n",
       "      <th>pos</th>\n",
       "      <th>compound</th>\n",
       "      <th>sentiment_score</th>\n",
       "      <th>...</th>\n",
       "      <th>not working</th>\n",
       "      <th>working good</th>\n",
       "      <th>doesn't work</th>\n",
       "      <th>didn't work</th>\n",
       "      <th>doesn't fit</th>\n",
       "      <th>wouldn't recommend</th>\n",
       "      <th>would recommend</th>\n",
       "      <th>not nice</th>\n",
       "      <th>not easy</th>\n",
       "      <th>not happy</th>\n",
       "    </tr>\n",
       "    <tr>\n",
       "      <th>score</th>\n",
       "      <th></th>\n",
       "      <th></th>\n",
       "      <th></th>\n",
       "      <th></th>\n",
       "      <th></th>\n",
       "      <th></th>\n",
       "      <th></th>\n",
       "      <th></th>\n",
       "      <th></th>\n",
       "      <th></th>\n",
       "      <th></th>\n",
       "      <th></th>\n",
       "      <th></th>\n",
       "      <th></th>\n",
       "      <th></th>\n",
       "      <th></th>\n",
       "      <th></th>\n",
       "      <th></th>\n",
       "      <th></th>\n",
       "      <th></th>\n",
       "      <th></th>\n",
       "    </tr>\n",
       "  </thead>\n",
       "  <tbody>\n",
       "    <tr>\n",
       "      <th>0</th>\n",
       "      <td>0.074</td>\n",
       "      <td>0.194</td>\n",
       "      <td>0.02</td>\n",
       "      <td>0.214</td>\n",
       "      <td>0.142633</td>\n",
       "      <td>0.197146</td>\n",
       "      <td>0.752554</td>\n",
       "      <td>0.050308</td>\n",
       "      <td>-0.185386</td>\n",
       "      <td>-0.195</td>\n",
       "      <td>...</td>\n",
       "      <td>0.002</td>\n",
       "      <td>0.000</td>\n",
       "      <td>0.01</td>\n",
       "      <td>0.004</td>\n",
       "      <td>0.002</td>\n",
       "      <td>0.002</td>\n",
       "      <td>0.000</td>\n",
       "      <td>0.0</td>\n",
       "      <td>0.0</td>\n",
       "      <td>0.004</td>\n",
       "    </tr>\n",
       "    <tr>\n",
       "      <th>1</th>\n",
       "      <td>0.156</td>\n",
       "      <td>0.124</td>\n",
       "      <td>0.01</td>\n",
       "      <td>0.084</td>\n",
       "      <td>0.047067</td>\n",
       "      <td>0.012796</td>\n",
       "      <td>0.632062</td>\n",
       "      <td>0.355148</td>\n",
       "      <td>0.459773</td>\n",
       "      <td>0.877</td>\n",
       "      <td>...</td>\n",
       "      <td>0.000</td>\n",
       "      <td>0.002</td>\n",
       "      <td>0.00</td>\n",
       "      <td>0.000</td>\n",
       "      <td>0.000</td>\n",
       "      <td>0.000</td>\n",
       "      <td>0.012</td>\n",
       "      <td>0.0</td>\n",
       "      <td>0.0</td>\n",
       "      <td>0.000</td>\n",
       "    </tr>\n",
       "  </tbody>\n",
       "</table>\n",
       "<p>2 rows × 79 columns</p>\n",
       "</div>"
      ],
      "text/plain": [
       "       exclamation  single_quote  allcaps  num_capitalized_words  \\\n",
       "score                                                              \n",
       "0            0.074         0.194     0.02                  0.214   \n",
       "1            0.156         0.124     0.01                  0.084   \n",
       "\n",
       "       percent_capitalized_words       neg       neu       pos  compound  \\\n",
       "score                                                                      \n",
       "0                       0.142633  0.197146  0.752554  0.050308 -0.185386   \n",
       "1                       0.047067  0.012796  0.632062  0.355148  0.459773   \n",
       "\n",
       "       sentiment_score    ...      not working  working good  doesn't work  \\\n",
       "score                     ...                                                \n",
       "0               -0.195    ...            0.002         0.000          0.01   \n",
       "1                0.877    ...            0.000         0.002          0.00   \n",
       "\n",
       "       didn't work  doesn't fit  wouldn't recommend  would recommend  \\\n",
       "score                                                                  \n",
       "0            0.004        0.002               0.002            0.000   \n",
       "1            0.000        0.000               0.000            0.012   \n",
       "\n",
       "       not nice  not easy  not happy  \n",
       "score                                 \n",
       "0           0.0       0.0      0.004  \n",
       "1           0.0       0.0      0.000  \n",
       "\n",
       "[2 rows x 79 columns]"
      ]
     },
     "execution_count": 25,
     "metadata": {},
     "output_type": "execute_result"
    }
   ],
   "source": [
    "reviews.groupby(\"score\").mean()"
   ]
  },
  {
   "cell_type": "markdown",
   "metadata": {},
   "source": [
    "**These numbers are great!**\n",
    "While accuracy is good, we really want to get the true positive up and the false negative rate down though."
   ]
  },
  {
   "cell_type": "markdown",
   "metadata": {
    "ExecuteTime": {
     "end_time": "2018-12-03T16:29:14.414428Z",
     "start_time": "2018-12-03T16:29:14.410124Z"
    }
   },
   "source": [
    "## Model 3\n",
    "*This model will only use the sentiment score that we calculated*"
   ]
  },
  {
   "cell_type": "code",
   "execution_count": 28,
   "metadata": {
    "ExecuteTime": {
     "end_time": "2018-12-03T16:29:53.259254Z",
     "start_time": "2018-12-03T16:29:53.224863Z"
    }
   },
   "outputs": [
    {
     "name": "stdout",
     "output_type": "stream",
     "text": [
      "Number of mislabeled points out of a total 1000 points : 226\n",
      "Accuracy: 77.4%\n",
      "[0.81  0.79  0.765 0.72  0.785]\n",
      "cv average is = 77.40%\n",
      "[[465  35]\n",
      " [191 309]]\n",
      "True Positive = 30.90%\n",
      "False Positive = 3.50%\n",
      "True Negative = 46.50%\n",
      "False Negative = 19.10%\n",
      "sensitivity or hit rate is 61.80%\n",
      "specificity or True Negative rate is 93.00%\n"
     ]
    }
   ],
   "source": [
    "build_evaluate_model(reviews, [\"sentiment_score\"])"
   ]
  },
  {
   "cell_type": "markdown",
   "metadata": {},
   "source": [
    "## Model 4\n",
    "\n",
    "*Now we will just be using the VADER sentiment scores and number of all caps words.*"
   ]
  },
  {
   "cell_type": "code",
   "execution_count": 26,
   "metadata": {
    "ExecuteTime": {
     "end_time": "2018-12-03T16:26:35.756222Z",
     "start_time": "2018-12-03T16:26:35.728509Z"
    }
   },
   "outputs": [
    {
     "name": "stdout",
     "output_type": "stream",
     "text": [
      "Number of mislabeled points out of a total 1000 points : 167\n",
      "Accuracy: 83.3%\n",
      "[0.825 0.875 0.815 0.8   0.85 ]\n",
      "cv average is = 83.30%\n",
      "[[423  77]\n",
      " [ 90 410]]\n",
      "True Positive = 41.00%\n",
      "False Positive = 7.70%\n",
      "True Negative = 42.30%\n",
      "False Negative = 9.00%\n",
      "sensitivity or hit rate is 82.00%\n",
      "specificity or True Negative rate is 84.60%\n"
     ]
    }
   ],
   "source": [
    "features = [\"neg\", \"neu\", \"pos\", \"compound\"]\n",
    "build_evaluate_model(reviews, features)"
   ]
  },
  {
   "cell_type": "markdown",
   "metadata": {
    "ExecuteTime": {
     "end_time": "2018-12-03T00:32:29.742007Z",
     "start_time": "2018-12-03T00:32:29.716327Z"
    }
   },
   "source": [
    "This model is the best yet! Notice false negative rate (FPR) is down (drastically) and the true positive rate (TPR) is double what it was in the previous model. Sensitivity and specificity are both relatively high (and the differential between the two is low)."
   ]
  },
  {
   "cell_type": "markdown",
   "metadata": {},
   "source": [
    "## Model 5\n",
    "\n",
    "*This model will use both the sentiment score that we computed as well as the scores that VADER gave us.*"
   ]
  },
  {
   "cell_type": "code",
   "execution_count": 29,
   "metadata": {
    "ExecuteTime": {
     "end_time": "2018-12-03T16:31:14.508581Z",
     "start_time": "2018-12-03T16:31:14.479498Z"
    }
   },
   "outputs": [
    {
     "name": "stdout",
     "output_type": "stream",
     "text": [
      "Number of mislabeled points out of a total 1000 points : 167\n",
      "Accuracy: 83.3%\n",
      "[0.825 0.87  0.815 0.785 0.85 ]\n",
      "cv average is = 82.90%\n",
      "[[423  77]\n",
      " [ 90 410]]\n",
      "True Positive = 41.00%\n",
      "False Positive = 7.70%\n",
      "True Negative = 42.30%\n",
      "False Negative = 9.00%\n",
      "sensitivity or hit rate is 82.00%\n",
      "specificity or True Negative rate is 84.60%\n"
     ]
    }
   ],
   "source": [
    "features = [\"neg\", \"neu\", \"pos\", \"compound\", \"sentiment_score\"]\n",
    "build_evaluate_model(reviews, features)"
   ]
  },
  {
   "cell_type": "markdown",
   "metadata": {},
   "source": [
    "# Conclusions\n",
    "\n",
    "We observed the best overall accuracy and sensitivity in **Model 4**, but a slightly higher specificity in **Model 5.** Our basic sentiment analysis that we manually performed is the best indicator of review sentiment, and if we further tweak the yaml files (pos/neg/inc/dec/inv.yml) we should be able to improve these rates further.  "
   ]
  }
 ],
 "metadata": {
  "kernelspec": {
   "display_name": "Python 3",
   "language": "python",
   "name": "python3"
  },
  "language_info": {
   "codemirror_mode": {
    "name": "ipython",
    "version": 3
   },
   "file_extension": ".py",
   "mimetype": "text/x-python",
   "name": "python",
   "nbconvert_exporter": "python",
   "pygments_lexer": "ipython3",
   "version": "3.6.6"
  },
  "latex_envs": {
   "LaTeX_envs_menu_present": true,
   "autoclose": false,
   "autocomplete": true,
   "bibliofile": "biblio.bib",
   "cite_by": "apalike",
   "current_citInitial": 1,
   "eqLabelWithNumbers": true,
   "eqNumInitial": 1,
   "hotkeys": {
    "equation": "Ctrl-E",
    "itemize": "Ctrl-I"
   },
   "labels_anchors": false,
   "latex_user_defs": false,
   "report_style_numbering": false,
   "user_envs_cfg": false
  },
  "toc": {
   "base_numbering": 1,
   "nav_menu": {},
   "number_sections": true,
   "sideBar": true,
   "skip_h1_title": false,
   "title_cell": "Table of Contents",
   "title_sidebar": "Contents",
   "toc_cell": false,
   "toc_position": {},
   "toc_section_display": true,
   "toc_window_display": false
  },
  "varInspector": {
   "cols": {
    "lenName": 16,
    "lenType": 16,
    "lenVar": 40
   },
   "kernels_config": {
    "python": {
     "delete_cmd_postfix": "",
     "delete_cmd_prefix": "del ",
     "library": "var_list.py",
     "varRefreshCmd": "print(var_dic_list())"
    },
    "r": {
     "delete_cmd_postfix": ") ",
     "delete_cmd_prefix": "rm(",
     "library": "var_list.r",
     "varRefreshCmd": "cat(var_dic_list()) "
    }
   },
   "types_to_exclude": [
    "module",
    "function",
    "builtin_function_or_method",
    "instance",
    "_Feature"
   ],
   "window_display": false
  }
 },
 "nbformat": 4,
 "nbformat_minor": 2
}
