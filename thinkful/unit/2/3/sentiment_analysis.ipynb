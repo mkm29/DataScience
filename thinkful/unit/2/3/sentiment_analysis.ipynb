{
 "cells": [
  {
   "cell_type": "code",
   "execution_count": 1,
   "metadata": {
    "ExecuteTime": {
     "end_time": "2018-12-02T17:51:45.132424Z",
     "start_time": "2018-12-02T17:51:43.851127Z"
    }
   },
   "outputs": [],
   "source": [
    "from sentiment_analysis import *"
   ]
  },
  {
   "cell_type": "code",
   "execution_count": 2,
   "metadata": {
    "ExecuteTime": {
     "end_time": "2018-12-02T17:51:46.060862Z",
     "start_time": "2018-12-02T17:51:46.049423Z"
    }
   },
   "outputs": [],
   "source": [
    "reviews = pd.read_csv('./amazon_cells_labelled.txt', sep='\\t', header=None)\n",
    "reviews.columns = ['review', 'score']"
   ]
  },
  {
   "cell_type": "code",
   "execution_count": 3,
   "metadata": {
    "ExecuteTime": {
     "end_time": "2018-12-02T06:00:20.495846Z",
     "start_time": "2018-12-02T06:00:20.489514Z"
    }
   },
   "outputs": [
    {
     "data": {
      "text/plain": [
       "'\\nThis is what the first 5 reviews look like\\n\\nSo there is no way for me to plug it in here in the US unless I go by a converter.\\t0\\nGood case, Excellent value.\\t1\\nGreat for the jawbone.\\t1\\nTied to charger for conversations lasting more than 45 minutes.MAJOR PROBLEMS!!\\t0\\nThe mic is great.\\t1\\n\\n'"
      ]
     },
     "execution_count": 3,
     "metadata": {},
     "output_type": "execute_result"
    }
   ],
   "source": [
    "'''\n",
    "This is what the first 5 reviews look like\n",
    "\n",
    "So there is no way for me to plug it in here in the US unless I go by a converter.\t0\n",
    "Good case, Excellent value.\t1\n",
    "Great for the jawbone.\t1\n",
    "Tied to charger for conversations lasting more than 45 minutes.MAJOR PROBLEMS!!\t0\n",
    "The mic is great.\t1\n",
    "\n",
    "'''"
   ]
  },
  {
   "cell_type": "code",
   "execution_count": 3,
   "metadata": {
    "ExecuteTime": {
     "end_time": "2018-12-02T17:51:49.350349Z",
     "start_time": "2018-12-02T17:51:49.285245Z"
    }
   },
   "outputs": [],
   "source": [
    "reviews['exclamation'] = reviews.review.str.contains(\"!\")\n",
    "reviews[\"single_quote\"] = reviews.review.str.contains(\"\\'\")\n",
    "reviews[\"allcaps\"] = reviews.review.str.isupper()\n",
    "reviews[\"num_allcaps_words\"] = reviews.review.apply(number_capitalized_words)\n",
    "# now lets make a copy of this data for the other 4 models\n",
    "neg_words, pos_words = get_top_words(reviews, 20)"
   ]
  },
  {
   "cell_type": "code",
   "execution_count": 4,
   "metadata": {
    "ExecuteTime": {
     "end_time": "2018-12-02T17:51:51.905908Z",
     "start_time": "2018-12-02T17:51:51.889540Z"
    }
   },
   "outputs": [
    {
     "data": {
      "text/html": [
       "<div>\n",
       "<style scoped>\n",
       "    .dataframe tbody tr th:only-of-type {\n",
       "        vertical-align: middle;\n",
       "    }\n",
       "\n",
       "    .dataframe tbody tr th {\n",
       "        vertical-align: top;\n",
       "    }\n",
       "\n",
       "    .dataframe thead th {\n",
       "        text-align: right;\n",
       "    }\n",
       "</style>\n",
       "<table border=\"1\" class=\"dataframe\">\n",
       "  <thead>\n",
       "    <tr style=\"text-align: right;\">\n",
       "      <th></th>\n",
       "      <th>exclamation</th>\n",
       "      <th>single_quote</th>\n",
       "      <th>allcaps</th>\n",
       "      <th>num_allcaps_words</th>\n",
       "    </tr>\n",
       "    <tr>\n",
       "      <th>score</th>\n",
       "      <th></th>\n",
       "      <th></th>\n",
       "      <th></th>\n",
       "      <th></th>\n",
       "    </tr>\n",
       "  </thead>\n",
       "  <tbody>\n",
       "    <tr>\n",
       "      <th>0</th>\n",
       "      <td>0.074</td>\n",
       "      <td>0.194</td>\n",
       "      <td>0.02</td>\n",
       "      <td>0.214</td>\n",
       "    </tr>\n",
       "    <tr>\n",
       "      <th>1</th>\n",
       "      <td>0.156</td>\n",
       "      <td>0.124</td>\n",
       "      <td>0.01</td>\n",
       "      <td>0.084</td>\n",
       "    </tr>\n",
       "  </tbody>\n",
       "</table>\n",
       "</div>"
      ],
      "text/plain": [
       "       exclamation  single_quote  allcaps  num_allcaps_words\n",
       "score                                                       \n",
       "0            0.074         0.194     0.02              0.214\n",
       "1            0.156         0.124     0.01              0.084"
      ]
     },
     "execution_count": 4,
     "metadata": {},
     "output_type": "execute_result"
    }
   ],
   "source": [
    "reviews.groupby(\"score\").mean()"
   ]
  },
  {
   "cell_type": "code",
   "execution_count": 5,
   "metadata": {
    "ExecuteTime": {
     "end_time": "2018-12-02T17:51:56.865978Z",
     "start_time": "2018-12-02T17:51:56.836813Z"
    }
   },
   "outputs": [],
   "source": [
    "mean_scores = []\n",
    "for threshold in range(0,15):\n",
    "    mean_scores.append( reviews.query(\"num_allcaps_words >= {}\".format(threshold)).score.mean() )"
   ]
  },
  {
   "cell_type": "code",
   "execution_count": 6,
   "metadata": {
    "ExecuteTime": {
     "end_time": "2018-12-02T17:51:59.150279Z",
     "start_time": "2018-12-02T17:51:58.973213Z"
    }
   },
   "outputs": [
    {
     "data": {
      "image/png": "[encoded data removed]",
      "text/plain": [
       "<Figure size 720x576 with 1 Axes>"
      ]
     },
     "metadata": {
      "needs_background": "light"
     },
     "output_type": "display_data"
    }
   ],
   "source": [
    "fig = plt.figure(figsize=(10,8))\n",
    "plt.plot(mean_scores)\n",
    "sns.despine(fig=fig)\n",
    "plt.xlabel(\"Number of all-caps words\")\n",
    "plt.ylabel(\"Average Score\")\n",
    "plt.show()"
   ]
  },
  {
   "cell_type": "code",
   "execution_count": 16,
   "metadata": {
    "ExecuteTime": {
     "end_time": "2018-12-02T06:50:12.550570Z",
     "start_time": "2018-12-02T06:50:12.534414Z"
    }
   },
   "outputs": [
    {
     "data": {
      "text/html": [
       "<div>\n",
       "<style scoped>\n",
       "    .dataframe tbody tr th:only-of-type {\n",
       "        vertical-align: middle;\n",
       "    }\n",
       "\n",
       "    .dataframe tbody tr th {\n",
       "        vertical-align: top;\n",
       "    }\n",
       "\n",
       "    .dataframe thead th {\n",
       "        text-align: right;\n",
       "    }\n",
       "</style>\n",
       "<table border=\"1\" class=\"dataframe\">\n",
       "  <thead>\n",
       "    <tr style=\"text-align: right;\">\n",
       "      <th></th>\n",
       "      <th>score</th>\n",
       "      <th>qingle_quote</th>\n",
       "      <th>allcaps</th>\n",
       "      <th>single_quote</th>\n",
       "    </tr>\n",
       "    <tr>\n",
       "      <th>exclamation</th>\n",
       "      <th></th>\n",
       "      <th></th>\n",
       "      <th></th>\n",
       "      <th></th>\n",
       "    </tr>\n",
       "  </thead>\n",
       "  <tbody>\n",
       "    <tr>\n",
       "      <th>False</th>\n",
       "      <td>0.476836</td>\n",
       "      <td>0.166102</td>\n",
       "      <td>0.012429</td>\n",
       "      <td>0.166102</td>\n",
       "    </tr>\n",
       "    <tr>\n",
       "      <th>True</th>\n",
       "      <td>0.678261</td>\n",
       "      <td>0.104348</td>\n",
       "      <td>0.034783</td>\n",
       "      <td>0.104348</td>\n",
       "    </tr>\n",
       "  </tbody>\n",
       "</table>\n",
       "</div>"
      ],
      "text/plain": [
       "                score  qingle_quote   allcaps  single_quote\n",
       "exclamation                                                \n",
       "False        0.476836      0.166102  0.012429      0.166102\n",
       "True         0.678261      0.104348  0.034783      0.104348"
      ]
     },
     "execution_count": 16,
     "metadata": {},
     "output_type": "execute_result"
    }
   ],
   "source": [
    "# basically what we are looking for here are drastic differences in the means of the 2 groups (score)\n",
    "reviews.groupby(\"exclamation\").mean()"
   ]
  },
  {
   "cell_type": "markdown",
   "metadata": {},
   "source": [
    "**Takeaways**\n",
    "  * When there is an exclamation mark in the review, the chance it will be negative are 20% higher\n",
    "  * Basically no difference for all caps - this scenario does not happen often, better to check if the review **contains ONE word in all caps**\n",
    "  * Do some more comparisons like this."
   ]
  },
  {
   "cell_type": "code",
   "execution_count": 7,
   "metadata": {
    "ExecuteTime": {
     "end_time": "2018-12-02T17:52:04.217226Z",
     "start_time": "2018-12-02T17:52:04.213040Z"
    }
   },
   "outputs": [],
   "source": [
    "def analyze_review(review):\n",
    "    splitter = Splitter()\n",
    "    postagger = POSTagger()\n",
    "    splitted_sentences = splitter.split(review)\n",
    "    pos_tagged_sentences = postagger.pos_tag(splitted_sentences)\n",
    "    \n",
    "    dicttagger = DictionaryTagger([ 'dicts/positive.yml', 'dicts/negative.yml', 'dicts/inc.yml', 'dicts/dec.yml', 'dicts/inv.yml'])\n",
    "    dict_tagged_sentences = dicttagger.tag(pos_tagged_sentences)\n",
    "\n",
    "    return sentiment_score(dict_tagged_sentences)"
   ]
  },
  {
   "cell_type": "code",
   "execution_count": 8,
   "metadata": {
    "ExecuteTime": {
     "end_time": "2018-12-02T17:52:21.217199Z",
     "start_time": "2018-12-02T17:52:09.260609Z"
    }
   },
   "outputs": [],
   "source": [
    "reviews[\"sentiment_score\"] = reviews.review.apply(analyze_review)"
   ]
  },
  {
   "cell_type": "code",
   "execution_count": 9,
   "metadata": {
    "ExecuteTime": {
     "end_time": "2018-12-02T16:59:01.820667Z",
     "start_time": "2018-12-02T16:59:01.807814Z"
    }
   },
   "outputs": [
    {
     "data": {
      "text/html": [
       "<div>\n",
       "<style scoped>\n",
       "    .dataframe tbody tr th:only-of-type {\n",
       "        vertical-align: middle;\n",
       "    }\n",
       "\n",
       "    .dataframe tbody tr th {\n",
       "        vertical-align: top;\n",
       "    }\n",
       "\n",
       "    .dataframe thead th {\n",
       "        text-align: right;\n",
       "    }\n",
       "</style>\n",
       "<table border=\"1\" class=\"dataframe\">\n",
       "  <thead>\n",
       "    <tr style=\"text-align: right;\">\n",
       "      <th></th>\n",
       "      <th>review</th>\n",
       "      <th>score</th>\n",
       "      <th>exclamation</th>\n",
       "      <th>single_quote</th>\n",
       "      <th>allcaps</th>\n",
       "      <th>num_allcaps_words</th>\n",
       "      <th>sentiment_score</th>\n",
       "    </tr>\n",
       "  </thead>\n",
       "  <tbody>\n",
       "    <tr>\n",
       "      <th>0</th>\n",
       "      <td>So there is no way for me to plug it in here i...</td>\n",
       "      <td>0</td>\n",
       "      <td>False</td>\n",
       "      <td>False</td>\n",
       "      <td>False</td>\n",
       "      <td>0</td>\n",
       "      <td>0.0</td>\n",
       "    </tr>\n",
       "    <tr>\n",
       "      <th>1</th>\n",
       "      <td>Good case, Excellent value.</td>\n",
       "      <td>1</td>\n",
       "      <td>False</td>\n",
       "      <td>False</td>\n",
       "      <td>False</td>\n",
       "      <td>0</td>\n",
       "      <td>2.0</td>\n",
       "    </tr>\n",
       "    <tr>\n",
       "      <th>2</th>\n",
       "      <td>Great for the jawbone.</td>\n",
       "      <td>1</td>\n",
       "      <td>False</td>\n",
       "      <td>False</td>\n",
       "      <td>False</td>\n",
       "      <td>0</td>\n",
       "      <td>1.0</td>\n",
       "    </tr>\n",
       "    <tr>\n",
       "      <th>3</th>\n",
       "      <td>Tied to charger for conversations lasting more...</td>\n",
       "      <td>0</td>\n",
       "      <td>True</td>\n",
       "      <td>False</td>\n",
       "      <td>False</td>\n",
       "      <td>2</td>\n",
       "      <td>0.0</td>\n",
       "    </tr>\n",
       "    <tr>\n",
       "      <th>4</th>\n",
       "      <td>The mic is great.</td>\n",
       "      <td>1</td>\n",
       "      <td>False</td>\n",
       "      <td>False</td>\n",
       "      <td>False</td>\n",
       "      <td>0</td>\n",
       "      <td>1.0</td>\n",
       "    </tr>\n",
       "  </tbody>\n",
       "</table>\n",
       "</div>"
      ],
      "text/plain": [
       "                                              review  score  exclamation  \\\n",
       "0  So there is no way for me to plug it in here i...      0        False   \n",
       "1                        Good case, Excellent value.      1        False   \n",
       "2                             Great for the jawbone.      1        False   \n",
       "3  Tied to charger for conversations lasting more...      0         True   \n",
       "4                                  The mic is great.      1        False   \n",
       "\n",
       "   single_quote  allcaps  num_allcaps_words  sentiment_score  \n",
       "0         False    False                  0              0.0  \n",
       "1         False    False                  0              2.0  \n",
       "2         False    False                  0              1.0  \n",
       "3         False    False                  2              0.0  \n",
       "4         False    False                  0              1.0  "
      ]
     },
     "execution_count": 9,
     "metadata": {},
     "output_type": "execute_result"
    }
   ],
   "source": [
    "reviews.head()"
   ]
  },
  {
   "cell_type": "code",
   "execution_count": 10,
   "metadata": {
    "ExecuteTime": {
     "end_time": "2018-12-02T16:59:19.541180Z",
     "start_time": "2018-12-02T16:59:19.526565Z"
    }
   },
   "outputs": [
    {
     "data": {
      "text/html": [
       "<div>\n",
       "<style scoped>\n",
       "    .dataframe tbody tr th:only-of-type {\n",
       "        vertical-align: middle;\n",
       "    }\n",
       "\n",
       "    .dataframe tbody tr th {\n",
       "        vertical-align: top;\n",
       "    }\n",
       "\n",
       "    .dataframe thead th {\n",
       "        text-align: right;\n",
       "    }\n",
       "</style>\n",
       "<table border=\"1\" class=\"dataframe\">\n",
       "  <thead>\n",
       "    <tr style=\"text-align: right;\">\n",
       "      <th></th>\n",
       "      <th>exclamation</th>\n",
       "      <th>single_quote</th>\n",
       "      <th>allcaps</th>\n",
       "      <th>num_allcaps_words</th>\n",
       "      <th>sentiment_score</th>\n",
       "    </tr>\n",
       "    <tr>\n",
       "      <th>score</th>\n",
       "      <th></th>\n",
       "      <th></th>\n",
       "      <th></th>\n",
       "      <th></th>\n",
       "      <th></th>\n",
       "    </tr>\n",
       "  </thead>\n",
       "  <tbody>\n",
       "    <tr>\n",
       "      <th>0</th>\n",
       "      <td>0.074</td>\n",
       "      <td>0.194</td>\n",
       "      <td>0.02</td>\n",
       "      <td>0.214</td>\n",
       "      <td>-0.195</td>\n",
       "    </tr>\n",
       "    <tr>\n",
       "      <th>1</th>\n",
       "      <td>0.156</td>\n",
       "      <td>0.124</td>\n",
       "      <td>0.01</td>\n",
       "      <td>0.084</td>\n",
       "      <td>0.877</td>\n",
       "    </tr>\n",
       "  </tbody>\n",
       "</table>\n",
       "</div>"
      ],
      "text/plain": [
       "       exclamation  single_quote  allcaps  num_allcaps_words  sentiment_score\n",
       "score                                                                        \n",
       "0            0.074         0.194     0.02              0.214           -0.195\n",
       "1            0.156         0.124     0.01              0.084            0.877"
      ]
     },
     "execution_count": 10,
     "metadata": {},
     "output_type": "execute_result"
    }
   ],
   "source": [
    "reviews.groupby(\"score\").mean()"
   ]
  },
  {
   "cell_type": "code",
   "execution_count": 9,
   "metadata": {
    "ExecuteTime": {
     "end_time": "2018-12-02T17:54:18.812680Z",
     "start_time": "2018-12-02T17:54:18.465341Z"
    }
   },
   "outputs": [
    {
     "name": "stderr",
     "output_type": "stream",
     "text": [
      "/Users/mitchellmurphy/anaconda3/envs/python3.5/lib/python3.6/site-packages/scipy/stats/stats.py:1713: FutureWarning: Using a non-tuple sequence for multidimensional indexing is deprecated; use `arr[tuple(seq)]` instead of `arr[seq]`. In the future this will be interpreted as an array index, `arr[np.array(seq)]`, which will result either in an error or a different result.\n",
      "  return np.add.reduce(sorted[indexer] * weights, axis=axis) / sumval\n"
     ]
    },
    {
     "data": {
      "image/png": "[encoded data removed]",
      "text/plain": [
       "<Figure size 720x576 with 1 Axes>"
      ]
     },
     "metadata": {
      "needs_background": "light"
     },
     "output_type": "display_data"
    }
   ],
   "source": [
    "fig = plt.figure(figsize=(10,8))\n",
    "sns.lineplot(x=reviews.sentiment_score, y=reviews.score)\n",
    "sns.despine(fig=fig)\n",
    "plt.xlabel(\"My Score\")\n",
    "plt.ylabel(\"Sentiment Score\")\n",
    "plt.show()"
   ]
  },
  {
   "cell_type": "markdown",
   "metadata": {},
   "source": [
    "  * This is very promising!"
   ]
  },
  {
   "cell_type": "code",
   "execution_count": 38,
   "metadata": {
    "ExecuteTime": {
     "end_time": "2018-12-02T18:07:01.296711Z",
     "start_time": "2018-12-02T18:07:01.054679Z"
    }
   },
   "outputs": [
    {
     "name": "stderr",
     "output_type": "stream",
     "text": [
      "/Users/mitchellmurphy/anaconda3/envs/python3.5/lib/python3.6/site-packages/scipy/stats/stats.py:1713: FutureWarning: Using a non-tuple sequence for multidimensional indexing is deprecated; use `arr[tuple(seq)]` instead of `arr[seq]`. In the future this will be interpreted as an array index, `arr[np.array(seq)]`, which will result either in an error or a different result.\n",
      "  return np.add.reduce(sorted[indexer] * weights, axis=axis) / sumval\n"
     ]
    },
    {
     "data": {
      "image/png": "[encoded data removed]",
      "text/plain": [
       "<Figure size 720x576 with 1 Axes>"
      ]
     },
     "metadata": {
      "needs_background": "light"
     },
     "output_type": "display_data"
    }
   ],
   "source": [
    "fig = plt.figure(figsize=(10,8))\n",
    "sns.distplot(reviews.sentiment_score)\n",
    "sns.despine(fig=fig)\n",
    "plt.show()"
   ]
  },
  {
   "cell_type": "markdown",
   "metadata": {},
   "source": [
    "So most are at 0, a few less than 0, whereas a lot more at 1 and same number of reviews scored 2 as scored -1."
   ]
  },
  {
   "cell_type": "code",
   "execution_count": 14,
   "metadata": {
    "ExecuteTime": {
     "end_time": "2018-12-02T17:03:44.580674Z",
     "start_time": "2018-12-02T17:03:44.566518Z"
    }
   },
   "outputs": [
    {
     "data": {
      "text/html": [
       "<div>\n",
       "<style scoped>\n",
       "    .dataframe tbody tr th:only-of-type {\n",
       "        vertical-align: middle;\n",
       "    }\n",
       "\n",
       "    .dataframe tbody tr th {\n",
       "        vertical-align: top;\n",
       "    }\n",
       "\n",
       "    .dataframe thead th {\n",
       "        text-align: right;\n",
       "    }\n",
       "</style>\n",
       "<table border=\"1\" class=\"dataframe\">\n",
       "  <thead>\n",
       "    <tr style=\"text-align: right;\">\n",
       "      <th></th>\n",
       "      <th>exclamation</th>\n",
       "      <th>single_quote</th>\n",
       "      <th>allcaps</th>\n",
       "      <th>num_allcaps_words</th>\n",
       "      <th>sentiment_score</th>\n",
       "    </tr>\n",
       "    <tr>\n",
       "      <th>score</th>\n",
       "      <th></th>\n",
       "      <th></th>\n",
       "      <th></th>\n",
       "      <th></th>\n",
       "      <th></th>\n",
       "    </tr>\n",
       "  </thead>\n",
       "  <tbody>\n",
       "    <tr>\n",
       "      <th>0</th>\n",
       "      <td>0.074</td>\n",
       "      <td>0.194</td>\n",
       "      <td>0.02</td>\n",
       "      <td>0.214</td>\n",
       "      <td>-0.195</td>\n",
       "    </tr>\n",
       "    <tr>\n",
       "      <th>1</th>\n",
       "      <td>0.156</td>\n",
       "      <td>0.124</td>\n",
       "      <td>0.01</td>\n",
       "      <td>0.084</td>\n",
       "      <td>0.877</td>\n",
       "    </tr>\n",
       "  </tbody>\n",
       "</table>\n",
       "</div>"
      ],
      "text/plain": [
       "       exclamation  single_quote  allcaps  num_allcaps_words  sentiment_score\n",
       "score                                                                        \n",
       "0            0.074         0.194     0.02              0.214           -0.195\n",
       "1            0.156         0.124     0.01              0.084            0.877"
      ]
     },
     "execution_count": 14,
     "metadata": {},
     "output_type": "execute_result"
    }
   ],
   "source": [
    "# find out the point (my score) where score = 0.5\n",
    "# looks to be slightly above 0\n",
    "reviews.groupby(\"score\").mean()"
   ]
  },
  {
   "cell_type": "markdown",
   "metadata": {},
   "source": [
    "# Models\n",
    "\n",
    "## Model 1\n",
    "*positive and negative keywords only*"
   ]
  },
  {
   "cell_type": "code",
   "execution_count": 15,
   "metadata": {
    "ExecuteTime": {
     "end_time": "2018-12-02T17:05:24.974450Z",
     "start_time": "2018-12-02T17:05:24.868034Z"
    }
   },
   "outputs": [],
   "source": [
    "for word in neg_words:\n",
    "    # Note that we add spaces around the key so that we're getting the word,\n",
    "    # not just pattern matching.\n",
    "    reviews[str(word)] = reviews.review.str.contains(\n",
    "        ' ' + str(word) + ' ',\n",
    "        case=False\n",
    "    )\n",
    "    \n",
    "for word in pos_words:\n",
    "    # Note that we add spaces around the key so that we're getting the word,\n",
    "    # not just pattern matching.\n",
    "    reviews[str(word)] = reviews.review.str.contains(\n",
    "        ' ' + str(word) + ' ',\n",
    "        case=False\n",
    "    )"
   ]
  },
  {
   "cell_type": "code",
   "execution_count": 20,
   "metadata": {
    "ExecuteTime": {
     "end_time": "2018-12-02T17:12:01.030620Z",
     "start_time": "2018-12-02T17:12:01.021191Z"
    }
   },
   "outputs": [],
   "source": [
    "def build_evaluate_model(reviews, features):\n",
    "    data = reviews[features]\n",
    "    target = reviews['score']\n",
    "    # Instantiate our model and store it in a new variable.\n",
    "    bnb = BernoulliNB()\n",
    "\n",
    "    # Fit our model to the data.\n",
    "    bnb.fit(data, target)\n",
    "\n",
    "    # Classify, storing the result in a new variable.\n",
    "    y_pred = bnb.predict(data)\n",
    "\n",
    "    n = data.shape[0]\n",
    "    # Display our results.\n",
    "    print(\"Number of mislabeled points out of a total {} points : {}\".format(\n",
    "        n,\n",
    "        (target != y_pred).sum()\n",
    "    ))\n",
    "\n",
    "    correct = (n - (target != y_pred).sum())/n * 100\n",
    "    print(\"Accuracy: {}%\".format(correct))\n",
    "    \n",
    "    cv = cross_val_score(bnb, data, target, cv=5)\n",
    "    print(cv)\n",
    "    print(\"cv average is = {:.2f}%\".format(cv.mean()*100))\n",
    "    \n",
    "    cm = confusion_matrix(target, y_pred)\n",
    "    print(cm)\n",
    "    print(\"True Positive = {:.2f}%\".format(cm[1,1]/10))\n",
    "    print(\"False Positive = {:.2f}%\".format(cm[0,1]/10))\n",
    "    print(\"True Negative = {:.2f}%\".format(cm[0,0]/10))\n",
    "    print(\"False Negative = {:.2f}%\".format(cm[1,0]/10))\n",
    "    print(\"sensitivity or hit rate is {:.2f}%\".format(cm[1,1]/(cm[1,0]+cm[1,1])*100))\n",
    "    # sensitivity (recall) is the percentage of positives identified or TP/FN+TP\n",
    "    print(\"specificity or True Negative rate is {:.2f}%\".format(cm[0,0]/(cm[0,0]+cm[0,1])*100))"
   ]
  },
  {
   "cell_type": "code",
   "execution_count": 25,
   "metadata": {
    "ExecuteTime": {
     "end_time": "2018-12-02T17:13:32.536501Z",
     "start_time": "2018-12-02T17:13:32.502239Z"
    }
   },
   "outputs": [
    {
     "name": "stdout",
     "output_type": "stream",
     "text": [
      "Number of mislabeled points out of a total 1000 points : 355\n",
      "Accuracy: 64.5%\n",
      "[0.655 0.65  0.645 0.655 0.605]\n",
      "cv average is = 64.20%\n",
      "[[486  14]\n",
      " [341 159]]\n",
      "True Positive = 15.90%\n",
      "False Positive = 1.40%\n",
      "True Negative = 48.60%\n",
      "False Negative = 34.10%\n",
      "sensitivity or hit rate is 31.80%\n",
      "specificity or True Negative rate is 97.20%\n"
     ]
    }
   ],
   "source": [
    "# First model only uses keywords\n",
    "build_evaluate_model(reviews, list(pos_words) + list(neg_words))"
   ]
  },
  {
   "cell_type": "markdown",
   "metadata": {
    "ExecuteTime": {
     "end_time": "2018-12-02T17:06:53.989327Z",
     "start_time": "2018-12-02T17:06:53.984874Z"
    }
   },
   "source": [
    "## Model 2\n",
    "*Include exclamation marks as well as number of all-caps words*"
   ]
  },
  {
   "cell_type": "code",
   "execution_count": 26,
   "metadata": {
    "ExecuteTime": {
     "end_time": "2018-12-02T17:14:21.601309Z",
     "start_time": "2018-12-02T17:14:21.564969Z"
    }
   },
   "outputs": [
    {
     "name": "stdout",
     "output_type": "stream",
     "text": [
      "Number of mislabeled points out of a total 1000 points : 327\n",
      "Accuracy: 67.30000000000001%\n",
      "[0.72  0.675 0.66  0.67  0.62 ]\n",
      "cv average is = 66.90%\n",
      "[[463  37]\n",
      " [290 210]]\n",
      "True Positive = 21.00%\n",
      "False Positive = 3.70%\n",
      "True Negative = 46.30%\n",
      "False Negative = 29.00%\n",
      "sensitivity or hit rate is 42.00%\n",
      "specificity or True Negative rate is 92.60%\n"
     ]
    }
   ],
   "source": [
    "build_evaluate_model(reviews, list(pos_words) + list(neg_words) + [\"exclamation\", \"allcaps\"])"
   ]
  },
  {
   "cell_type": "markdown",
   "metadata": {},
   "source": [
    "## Model 3\n",
    "*now include the number of all-cap words*"
   ]
  },
  {
   "cell_type": "code",
   "execution_count": 29,
   "metadata": {
    "ExecuteTime": {
     "end_time": "2018-12-02T17:16:44.392796Z",
     "start_time": "2018-12-02T17:16:44.327999Z"
    }
   },
   "outputs": [
    {
     "name": "stdout",
     "output_type": "stream",
     "text": [
      "Number of mislabeled points out of a total 1000 points : 329\n",
      "Accuracy: 67.10000000000001%\n",
      "[0.72  0.675 0.66  0.67  0.615]\n",
      "cv average is = 66.80%\n",
      "[[463  37]\n",
      " [292 208]]\n",
      "True Positive = 20.80%\n",
      "False Positive = 3.70%\n",
      "True Negative = 46.30%\n",
      "False Negative = 29.20%\n",
      "sensitivity or hit rate is 41.60%\n",
      "specificity or True Negative rate is 92.60%\n"
     ]
    }
   ],
   "source": [
    "build_evaluate_model(reviews, list(pos_words) + list(neg_words) + [\"exclamation\", \"allcaps\", \"num_allcaps_words\"])"
   ]
  },
  {
   "cell_type": "code",
   "execution_count": 28,
   "metadata": {
    "ExecuteTime": {
     "end_time": "2018-12-02T17:16:13.212099Z",
     "start_time": "2018-12-02T17:16:13.185221Z"
    }
   },
   "outputs": [
    {
     "data": {
      "text/html": [
       "<div>\n",
       "<style scoped>\n",
       "    .dataframe tbody tr th:only-of-type {\n",
       "        vertical-align: middle;\n",
       "    }\n",
       "\n",
       "    .dataframe tbody tr th {\n",
       "        vertical-align: top;\n",
       "    }\n",
       "\n",
       "    .dataframe thead th {\n",
       "        text-align: right;\n",
       "    }\n",
       "</style>\n",
       "<table border=\"1\" class=\"dataframe\">\n",
       "  <thead>\n",
       "    <tr style=\"text-align: right;\">\n",
       "      <th></th>\n",
       "      <th>exclamation</th>\n",
       "      <th>single_quote</th>\n",
       "      <th>allcaps</th>\n",
       "      <th>num_allcaps_words</th>\n",
       "      <th>sentiment_score</th>\n",
       "      <th>don't</th>\n",
       "      <th>waste</th>\n",
       "      <th>not</th>\n",
       "      <th>worst</th>\n",
       "      <th>money</th>\n",
       "      <th>...</th>\n",
       "      <th>excellent</th>\n",
       "      <th>good.</th>\n",
       "      <th>fine</th>\n",
       "      <th>fine.</th>\n",
       "      <th>great!</th>\n",
       "      <th>data</th>\n",
       "      <th>job</th>\n",
       "      <th>sturdy</th>\n",
       "      <th>far.</th>\n",
       "      <th>phone.</th>\n",
       "    </tr>\n",
       "    <tr>\n",
       "      <th>score</th>\n",
       "      <th></th>\n",
       "      <th></th>\n",
       "      <th></th>\n",
       "      <th></th>\n",
       "      <th></th>\n",
       "      <th></th>\n",
       "      <th></th>\n",
       "      <th></th>\n",
       "      <th></th>\n",
       "      <th></th>\n",
       "      <th></th>\n",
       "      <th></th>\n",
       "      <th></th>\n",
       "      <th></th>\n",
       "      <th></th>\n",
       "      <th></th>\n",
       "      <th></th>\n",
       "      <th></th>\n",
       "      <th></th>\n",
       "      <th></th>\n",
       "      <th></th>\n",
       "    </tr>\n",
       "  </thead>\n",
       "  <tbody>\n",
       "    <tr>\n",
       "      <th>0</th>\n",
       "      <td>0.074</td>\n",
       "      <td>0.194</td>\n",
       "      <td>0.02</td>\n",
       "      <td>0.214</td>\n",
       "      <td>-0.195</td>\n",
       "      <td>0.022</td>\n",
       "      <td>0.022</td>\n",
       "      <td>0.168</td>\n",
       "      <td>0.014</td>\n",
       "      <td>0.014</td>\n",
       "      <td>...</td>\n",
       "      <td>0.000</td>\n",
       "      <td>0.000</td>\n",
       "      <td>0.000</td>\n",
       "      <td>0.002</td>\n",
       "      <td>0.0</td>\n",
       "      <td>0.000</td>\n",
       "      <td>0.000</td>\n",
       "      <td>0.000</td>\n",
       "      <td>0.000</td>\n",
       "      <td>0.010</td>\n",
       "    </tr>\n",
       "    <tr>\n",
       "      <th>1</th>\n",
       "      <td>0.156</td>\n",
       "      <td>0.124</td>\n",
       "      <td>0.01</td>\n",
       "      <td>0.084</td>\n",
       "      <td>0.877</td>\n",
       "      <td>0.010</td>\n",
       "      <td>0.000</td>\n",
       "      <td>0.024</td>\n",
       "      <td>0.000</td>\n",
       "      <td>0.000</td>\n",
       "      <td>...</td>\n",
       "      <td>0.016</td>\n",
       "      <td>0.002</td>\n",
       "      <td>0.012</td>\n",
       "      <td>0.002</td>\n",
       "      <td>0.0</td>\n",
       "      <td>0.006</td>\n",
       "      <td>0.008</td>\n",
       "      <td>0.008</td>\n",
       "      <td>0.004</td>\n",
       "      <td>0.014</td>\n",
       "    </tr>\n",
       "  </tbody>\n",
       "</table>\n",
       "<p>2 rows × 43 columns</p>\n",
       "</div>"
      ],
      "text/plain": [
       "       exclamation  single_quote  allcaps  num_allcaps_words  sentiment_score  \\\n",
       "score                                                                           \n",
       "0            0.074         0.194     0.02              0.214           -0.195   \n",
       "1            0.156         0.124     0.01              0.084            0.877   \n",
       "\n",
       "       don't  waste    not  worst  money   ...    excellent  good.   fine  \\\n",
       "score                                      ...                              \n",
       "0      0.022  0.022  0.168  0.014  0.014   ...        0.000  0.000  0.000   \n",
       "1      0.010  0.000  0.024  0.000  0.000   ...        0.016  0.002  0.012   \n",
       "\n",
       "       fine.  great!   data    job  sturdy   far.  phone.  \n",
       "score                                                      \n",
       "0      0.002     0.0  0.000  0.000   0.000  0.000   0.010  \n",
       "1      0.002     0.0  0.006  0.008   0.008  0.004   0.014  \n",
       "\n",
       "[2 rows x 43 columns]"
      ]
     },
     "execution_count": 28,
     "metadata": {},
     "output_type": "execute_result"
    }
   ],
   "source": [
    "reviews.groupby(\"score\").mean()"
   ]
  },
  {
   "cell_type": "markdown",
   "metadata": {},
   "source": [
    "## Model 4\n",
    "\n",
    "*Now we will just be using the sentiment score we computed and the number of all caps words.*"
   ]
  },
  {
   "cell_type": "code",
   "execution_count": 35,
   "metadata": {
    "ExecuteTime": {
     "end_time": "2018-12-02T17:19:36.584260Z",
     "start_time": "2018-12-02T17:19:36.552407Z"
    }
   },
   "outputs": [
    {
     "name": "stdout",
     "output_type": "stream",
     "text": [
      "Number of mislabeled points out of a total 1000 points : 226\n",
      "Accuracy: 77.4%\n",
      "[0.81  0.79  0.765 0.72  0.785]\n",
      "cv average is = 77.40%\n",
      "[[465  35]\n",
      " [191 309]]\n",
      "True Positive = 30.90%\n",
      "False Positive = 3.50%\n",
      "True Negative = 46.50%\n",
      "False Negative = 19.10%\n",
      "sensitivity or hit rate is 61.80%\n",
      "specificity or True Negative rate is 93.00%\n"
     ]
    }
   ],
   "source": [
    "build_evaluate_model(reviews, [\"num_allcaps_words\", \"sentiment_score\"])"
   ]
  },
  {
   "cell_type": "markdown",
   "metadata": {},
   "source": [
    "**These numbers are great!**\n",
    "While accuracy is good, we really want to get the true positive up and the false negative rate down though."
   ]
  },
  {
   "cell_type": "markdown",
   "metadata": {},
   "source": [
    "## Model 5\n",
    "\n",
    "* multinomial version of model 4*"
   ]
  },
  {
   "cell_type": "code",
   "execution_count": 36,
   "metadata": {
    "ExecuteTime": {
     "end_time": "2018-12-02T17:21:55.498145Z",
     "start_time": "2018-12-02T17:21:55.494797Z"
    }
   },
   "outputs": [],
   "source": [
    "from sklearn.naive_bayes import MultinomialNB"
   ]
  },
  {
   "cell_type": "code",
   "execution_count": 65,
   "metadata": {
    "ExecuteTime": {
     "end_time": "2018-12-02T17:36:13.322017Z",
     "start_time": "2018-12-02T17:36:13.316457Z"
    }
   },
   "outputs": [],
   "source": [
    "features = [\"num_allcaps_words\", \"sentiment_score\"]\n",
    "data = reviews[features]\n",
    "# if sentiment_score is negative, assign 0. \n",
    "# if positive assign 1\n",
    "reviews[\"sentiment_score_scaled\"] = data.sentiment_score.map(lambda x: x > 0)"
   ]
  },
  {
   "cell_type": "code",
   "execution_count": 45,
   "metadata": {
    "ExecuteTime": {
     "end_time": "2018-12-02T17:30:33.398263Z",
     "start_time": "2018-12-02T17:30:33.200480Z"
    }
   },
   "outputs": [
    {
     "data": {
      "text/plain": [
       "<matplotlib.axes._subplots.AxesSubplot at 0x1a2476e630>"
      ]
     },
     "execution_count": 45,
     "metadata": {},
     "output_type": "execute_result"
    },
    {
     "data": {
      "image/png": "[encoded data removed]",
      "text/plain": [
       "<Figure size 432x288 with 1 Axes>"
      ]
     },
     "metadata": {
      "needs_background": "light"
     },
     "output_type": "display_data"
    }
   ],
   "source": [
    "reviews.sentiment_score.plot.hist()"
   ]
  },
  {
   "cell_type": "code",
   "execution_count": 67,
   "metadata": {
    "ExecuteTime": {
     "end_time": "2018-12-02T17:37:00.633107Z",
     "start_time": "2018-12-02T17:37:00.594907Z"
    }
   },
   "outputs": [
    {
     "name": "stdout",
     "output_type": "stream",
     "text": [
      "Number of mislabeled points out of a total 1000 points : 248\n",
      "Accuracy = 75.20%\n",
      "[0.795 0.78  0.73  0.68  0.775]\n",
      "cv average is = 75.20%\n",
      "[[467  33]\n",
      " [215 285]]\n",
      "True Positive = 28.50%\n",
      "False Positive = 3.30%\n",
      "True Negative = 46.70%\n",
      "False Negative = 21.50%\n",
      "sensitivity or hit rate is 57.00%\n",
      "specificity or True Negative rate is 93.40%\n"
     ]
    }
   ],
   "source": [
    "features = [\"num_allcaps_words\", \"sentiment_score_scaled\"]\n",
    "data = reviews[features]\n",
    "target = reviews['score']\n",
    "\n",
    "\n",
    "# before we can feed this data to a multinomial model, we must scale the \n",
    "# sentiment_score feature to be between 0 and 1\n",
    "\n",
    "# Instantiate our model and store it in a new variable.\n",
    "bnb = MultinomialNB()\n",
    "\n",
    "# Fit our model to the data.\n",
    "bnb.fit(data, target)\n",
    "\n",
    "# Classify, storing the result in a new variable.\n",
    "y_pred = bnb.predict(data)\n",
    "\n",
    "n = data.shape[0]\n",
    "correct = (n - (target != y_pred).sum())/n * 100\n",
    "\n",
    "# Display our results.\n",
    "print(\"Number of mislabeled points out of a total {} points : {}\".format(\n",
    "    data.shape[0],\n",
    "    (target != y_pred).sum()\n",
    "))\n",
    "\n",
    "print(\"Accuracy = {:.2f}%\".format(correct))\n",
    "\n",
    "cv = cross_val_score(bnb, data, target, cv=5)\n",
    "print(cv)\n",
    "print(\"cv average is = {:.2f}%\".format(cv.mean()*100))\n",
    "\n",
    "cm = confusion_matrix(target, y_pred)\n",
    "print(cm)\n",
    "print(\"True Positive = {:.2f}%\".format(cm[1,1]/10))\n",
    "print(\"False Positive = {:.2f}%\".format(cm[0,1]/10))\n",
    "print(\"True Negative = {:.2f}%\".format(cm[0,0]/10))\n",
    "print(\"False Negative = {:.2f}%\".format(cm[1,0]/10))\n",
    "print(\"sensitivity or hit rate is {:.2f}%\".format(cm[1,1]/(cm[1,0]+cm[1,1])*100))\n",
    "# sensitivity (recall) is the percentage of positives identified or TP/FN+TP\n",
    "print(\"specificity or True Negative rate is {:.2f}%\".format(cm[0,0]/(cm[0,0]+cm[0,1])*100))"
   ]
  },
  {
   "cell_type": "markdown",
   "metadata": {},
   "source": [
    "# Conclusions\n",
    "\n",
    "We observed the best overall accuracy and sensitivity in **Model 4**, but a slightly higher specificity in **Model 5.** Our basic sentiment analysis that we manually performed is the best indicator of review sentiment, and if we further tweak the yaml files (pos/neg/inc/dec/inv.yml) we should be able to improve these rates further.  "
   ]
  }
 ],
 "metadata": {
  "kernelspec": {
   "display_name": "Python 3",
   "language": "python",
   "name": "python3"
  },
  "language_info": {
   "codemirror_mode": {
    "name": "ipython",
    "version": 3
   },
   "file_extension": ".py",
   "mimetype": "text/x-python",
   "name": "python",
   "nbconvert_exporter": "python",
   "pygments_lexer": "ipython3",
   "version": "3.6.6"
  },
  "latex_envs": {
   "LaTeX_envs_menu_present": true,
   "autoclose": false,
   "autocomplete": true,
   "bibliofile": "biblio.bib",
   "cite_by": "apalike",
   "current_citInitial": 1,
   "eqLabelWithNumbers": true,
   "eqNumInitial": 1,
   "hotkeys": {
    "equation": "Ctrl-E",
    "itemize": "Ctrl-I"
   },
   "labels_anchors": false,
   "latex_user_defs": false,
   "report_style_numbering": false,
   "user_envs_cfg": false
  },
  "toc": {
   "base_numbering": 1,
   "nav_menu": {},
   "number_sections": true,
   "sideBar": true,
   "skip_h1_title": false,
   "title_cell": "Table of Contents",
   "title_sidebar": "Contents",
   "toc_cell": false,
   "toc_position": {},
   "toc_section_display": true,
   "toc_window_display": false
  },
  "varInspector": {
   "cols": {
    "lenName": 16,
    "lenType": 16,
    "lenVar": 40
   },
   "kernels_config": {
    "python": {
     "delete_cmd_postfix": "",
     "delete_cmd_prefix": "del ",
     "library": "var_list.py",
     "varRefreshCmd": "print(var_dic_list())"
    },
    "r": {
     "delete_cmd_postfix": ") ",
     "delete_cmd_prefix": "rm(",
     "library": "var_list.r",
     "varRefreshCmd": "cat(var_dic_list()) "
    }
   },
   "types_to_exclude": [
    "module",
    "function",
    "builtin_function_or_method",
    "instance",
    "_Feature"
   ],
   "window_display": false
  }
 },
 "nbformat": 4,
 "nbformat_minor": 2
}
