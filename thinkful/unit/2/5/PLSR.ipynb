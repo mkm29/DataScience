{
 "cells": [
  {
   "cell_type": "code",
   "execution_count": 1,
   "metadata": {
    "ExecuteTime": {
     "end_time": "2018-12-17T05:09:53.072615Z",
     "start_time": "2018-12-17T05:09:52.195566Z"
    }
   },
   "outputs": [],
   "source": [
    "from crime_util import *\n",
    "import warnings\n",
    "\n",
    "# Display preferences.\n",
    "%matplotlib inline\n",
    "pd.options.display.float_format = '{:.3f}'.format\n",
    "\n",
    "# Suppress annoying harmless error.\n",
    "warnings.simplefilter(action='ignore', category=FutureWarning)"
   ]
  },
  {
   "cell_type": "code",
   "execution_count": 2,
   "metadata": {
    "ExecuteTime": {
     "end_time": "2018-12-17T05:09:53.548017Z",
     "start_time": "2018-12-17T05:09:53.485543Z"
    }
   },
   "outputs": [
    {
     "data": {
      "text/plain": [
       "(255, 11)"
      ]
     },
     "execution_count": 2,
     "metadata": {},
     "output_type": "execute_result"
    }
   ],
   "source": [
    "crime_cols = ['violent_crime', 'murder', 'rape', 'robbery', \n",
    "              'assault', 'property_crime', 'burglary', 'larceny_theft', \n",
    "              'motor_vehicle_theft', 'arson']\n",
    "florida = read_data(only_florida=True)\n",
    "florida.shape"
   ]
  },
  {
   "cell_type": "code",
   "execution_count": 3,
   "metadata": {
    "ExecuteTime": {
     "end_time": "2018-12-17T05:09:54.924604Z",
     "start_time": "2018-12-17T05:09:54.859242Z"
    }
   },
   "outputs": [
    {
     "data": {
      "text/plain": [
       "0.15868782903110912"
      ]
     },
     "execution_count": 3,
     "metadata": {},
     "output_type": "execute_result"
    }
   ],
   "source": [
    "florida = transform_data(florida)\n",
    "florida, bc_lambda = boxcox_transform(florida)\n",
    "bc_lambda"
   ]
  },
  {
   "cell_type": "code",
   "execution_count": 4,
   "metadata": {
    "ExecuteTime": {
     "end_time": "2018-12-17T05:09:57.194913Z",
     "start_time": "2018-12-17T05:09:57.186911Z"
    }
   },
   "outputs": [
    {
     "name": "stdout",
     "output_type": "stream",
     "text": [
      "Train shape: (178, 24)\n",
      "Test shape: (77, 24)\n"
     ]
    }
   ],
   "source": [
    "train, test = split(florida)\n",
    "print(\"Train shape: {}\".format(train.shape))\n",
    "print(\"Test shape: {}\".format(test.shape))"
   ]
  },
  {
   "cell_type": "code",
   "execution_count": 5,
   "metadata": {
    "ExecuteTime": {
     "end_time": "2018-12-17T04:02:56.676778Z",
     "start_time": "2018-12-17T04:02:56.667671Z"
    }
   },
   "outputs": [
    {
     "data": {
      "text/plain": [
       "1    112\n",
       "3     21\n",
       "2     21\n",
       "4     14\n",
       "5     10\n",
       "Name: population_group, dtype: int64"
      ]
     },
     "execution_count": 5,
     "metadata": {},
     "output_type": "execute_result"
    }
   ],
   "source": [
    "train.population_group.value_counts()"
   ]
  },
  {
   "cell_type": "code",
   "execution_count": 6,
   "metadata": {
    "ExecuteTime": {
     "end_time": "2018-12-17T04:02:59.839534Z",
     "start_time": "2018-12-17T04:02:59.829687Z"
    }
   },
   "outputs": [
    {
     "data": {
      "text/plain": [
       "1    47\n",
       "2    21\n",
       "3     6\n",
       "5     2\n",
       "4     1\n",
       "Name: population_group, dtype: int64"
      ]
     },
     "execution_count": 6,
     "metadata": {},
     "output_type": "execute_result"
    }
   ],
   "source": [
    "test.population_group.value_counts()"
   ]
  },
  {
   "cell_type": "markdown",
   "metadata": {},
   "source": [
    "*As the population seems to play a large role in crimes, this class imbalance could be an issue...*"
   ]
  },
  {
   "cell_type": "code",
   "execution_count": 9,
   "metadata": {
    "ExecuteTime": {
     "end_time": "2018-12-17T05:11:47.939951Z",
     "start_time": "2018-12-17T05:11:47.846251Z"
    }
   },
   "outputs": [
    {
     "name": "stdout",
     "output_type": "stream",
     "text": [
      "R-squared (after reverse property crime Box-Cox): 0.9099\n",
      "Train\n",
      "-------------------------------------------------------------\n",
      "\n",
      "[0.98802228 0.99355375 0.98685684 0.99299431 0.9918634 ]\n",
      "cv average is = 99.07%\n",
      "\n",
      "BEFORE reversing predicted Box-Cox transform of property crime\n",
      "Mean Residual: -0.00345\n",
      "RMSE: 0.37\n",
      "\n",
      "AFTER reversing predicted Box-Cox transform of property crime\n",
      "Mean Residual: -15.832161302097354\n",
      "RMSE: 117.39055717336542\n",
      "Average Error: 49.873277619039975\n",
      "\n",
      "Test\n",
      "-------------------------------------------------------------\n",
      "\n",
      "[0.9681024  0.97362241 0.972376   0.96850824 0.95885343]\n",
      "cv average is = 96.83%\n",
      "\n",
      "BEFORE reversing predicted Box-Cox transform of property crime\n",
      "Mean Residual: -0.01390\n",
      "RMSE: 0.53\n",
      "\n",
      "AFTER reversing predicted Box-Cox transform of property crime\n",
      "Mean Residual: -13.479515341914954\n",
      "RMSE: 161.88815820579867\n",
      "Average Error: 46.71692050547322\n",
      "\n"
     ]
    }
   ],
   "source": [
    "model_vars = ['population_log', \"population_group\",  \n",
    "              \"burglary_cube_root\", \"larceny_theft_cube_root\"]\n",
    "model1 = build_evaluate_model(train, test, bc_lambda, model_vars)\n",
    "model1_model = model1[0]\n",
    "model1_resids_train = model1[1]\n",
    "model1_resids_test = model1[2]"
   ]
  },
  {
   "cell_type": "code",
   "execution_count": 13,
   "metadata": {
    "ExecuteTime": {
     "end_time": "2018-12-17T05:15:03.409231Z",
     "start_time": "2018-12-17T05:15:03.279712Z"
    }
   },
   "outputs": [
    {
     "name": "stdout",
     "output_type": "stream",
     "text": [
      "R-squared PLSR (Train): 0.9913736333392721\n",
      "Train\n",
      "-------------------------------------------------------------\n",
      "\n",
      "[0.98802228 0.99355375 0.98685684 0.99299431 0.9918634 ]\n",
      "cv average is = 99.07%\n",
      "\n",
      "BEFORE reversing predicted Box-Cox transform of property crime\n",
      "Mean Residual: -0.00345\n",
      "RMSE: 0.37\n",
      "\n",
      "AFTER reversing predicted Box-Cox transform of property crime\n",
      "Mean Residual: -15.832161302097354\n",
      "RMSE: 117.39055717336552\n",
      "Average Error: 49.873277619040046\n",
      "\n",
      "R-squared PLSR (Test): 0.9841260438735928\n",
      "Test\n",
      "-------------------------------------------------------------\n",
      "\n",
      "[0.9681024  0.97362241 0.972376   0.96850824 0.95885343]\n",
      "cv average is = 96.83%\n",
      "\n",
      "BEFORE reversing predicted Box-Cox transform of property crime\n",
      "Mean Residual: -0.01390\n",
      "RMSE: 0.53\n",
      "\n",
      "AFTER reversing predicted Box-Cox transform of property crime\n",
      "Mean Residual: -13.479515341914619\n",
      "RMSE: 161.88815820579853\n",
      "Average Error: 46.716920505473304\n",
      "\n"
     ]
    }
   ],
   "source": [
    "pls4 = build_evaluate_pls_model(train, test, 4, bc_lambda, model_vars)\n",
    "pls4_model = pls6[0]\n",
    "pls4_resids_train = pls6[1]\n",
    "pls4_resids_test = pls6[2]"
   ]
  },
  {
   "cell_type": "code",
   "execution_count": 28,
   "metadata": {
    "ExecuteTime": {
     "end_time": "2018-12-17T05:35:46.760850Z",
     "start_time": "2018-12-17T05:35:46.614089Z"
    }
   },
   "outputs": [
    {
     "data": {
      "image/png": "[encoded data removed]",
      "text/plain": [
       "<Figure size 432x288 with 1 Axes>"
      ]
     },
     "metadata": {
      "needs_background": "light"
     },
     "output_type": "display_data"
    }
   ],
   "source": [
    "# Compare the predictions of the two models\n",
    "plt.scatter(inv_boxcox(pls4_model.predict(train[model_vars]),bc_lambda), train[\"property_crime\"])\n",
    "plt.xlabel('Predicted by original 4 features')\n",
    "plt.ylabel('Actual')\n",
    "plt.title('Comparing LR and PLSR predictions')\n",
    "plt.show()"
   ]
  },
  {
   "cell_type": "code",
   "execution_count": 14,
   "metadata": {
    "ExecuteTime": {
     "end_time": "2018-12-17T05:15:46.224962Z",
     "start_time": "2018-12-17T05:15:46.106004Z"
    }
   },
   "outputs": [
    {
     "name": "stdout",
     "output_type": "stream",
     "text": [
      "R-squared PLSR (Train): 0.9911836217312561\n",
      "Train\n",
      "-------------------------------------------------------------\n",
      "\n",
      "[0.98775704 0.99378863 0.98687837 0.99263187 0.99128869]\n",
      "cv average is = 99.05%\n",
      "\n",
      "BEFORE reversing predicted Box-Cox transform of property crime\n",
      "Mean Residual: -0.00326\n",
      "RMSE: 0.38\n",
      "\n",
      "AFTER reversing predicted Box-Cox transform of property crime\n",
      "Mean Residual: -17.672789259180472\n",
      "RMSE: 129.973745158026\n",
      "Average Error: 53.95833785754057\n",
      "\n",
      "R-squared PLSR (Test): 0.9832855930303378\n",
      "Test\n",
      "-------------------------------------------------------------\n",
      "\n",
      "[0.97889294 0.97854812 0.96565374 0.96396834 0.94040814]\n",
      "cv average is = 96.55%\n",
      "\n",
      "BEFORE reversing predicted Box-Cox transform of property crime\n",
      "Mean Residual: -0.01556\n",
      "RMSE: 0.50\n",
      "\n",
      "AFTER reversing predicted Box-Cox transform of property crime\n",
      "Mean Residual: -14.17683349029155\n",
      "RMSE: 144.0415399179624\n",
      "Average Error: 44.49565281931429\n",
      "\n"
     ]
    }
   ],
   "source": [
    "pls3 = build_evaluate_pls_model(train, test, 3, bc_lambda, model_vars)\n",
    "pls3_model = pls3[0]\n",
    "pls3_resids_train = pls3[1]\n",
    "pls3_resids_test = pls3[2]"
   ]
  },
  {
   "cell_type": "code",
   "execution_count": 26,
   "metadata": {
    "ExecuteTime": {
     "end_time": "2018-12-17T05:34:45.921962Z",
     "start_time": "2018-12-17T05:34:45.781111Z"
    }
   },
   "outputs": [
    {
     "data": {
      "image/png": "[encoded data removed]",
      "text/plain": [
       "<Figure size 432x288 with 1 Axes>"
      ]
     },
     "metadata": {
      "needs_background": "light"
     },
     "output_type": "display_data"
    }
   ],
   "source": [
    "# Compare the predictions of the two models\n",
    "plt.scatter(inv_boxcox(pls4_model.predict(train[model_vars]),bc_lambda), inv_boxcox(pls3_model.predict(train[model_vars]), bc_lambda))\n",
    "plt.xlabel('Predicted by original 4 features')\n",
    "plt.ylabel('Predicted by 3 features')\n",
    "plt.title('Comparing LR and PLSR predictions')\n",
    "plt.show()"
   ]
  },
  {
   "cell_type": "code",
   "execution_count": 15,
   "metadata": {
    "ExecuteTime": {
     "end_time": "2018-12-17T05:17:29.368458Z",
     "start_time": "2018-12-17T05:17:29.262111Z"
    }
   },
   "outputs": [
    {
     "name": "stdout",
     "output_type": "stream",
     "text": [
      "R-squared PLSR (Train): 0.9827013493892043\n",
      "Train\n",
      "-------------------------------------------------------------\n",
      "\n",
      "[0.98058148 0.98046383 0.97511012 0.98389074 0.98614889]\n",
      "cv average is = 98.12%\n",
      "\n",
      "BEFORE reversing predicted Box-Cox transform of property crime\n",
      "Mean Residual: -0.00217\n",
      "RMSE: 0.51\n",
      "\n",
      "AFTER reversing predicted Box-Cox transform of property crime\n",
      "Mean Residual: -2.3628866553708603\n",
      "RMSE: 106.95355232864826\n",
      "Average Error: 59.48470886477599\n",
      "\n",
      "R-squared PLSR (Test): 0.9734518413991314\n",
      "Test\n",
      "-------------------------------------------------------------\n",
      "\n",
      "[0.96303415 0.97483089 0.96641051 0.96394405 0.92304388]\n",
      "cv average is = 95.83%\n",
      "\n",
      "BEFORE reversing predicted Box-Cox transform of property crime\n",
      "Mean Residual: -0.01023\n",
      "RMSE: 0.61\n",
      "\n",
      "AFTER reversing predicted Box-Cox transform of property crime\n",
      "Mean Residual: -5.5800234301524005\n",
      "RMSE: 134.5503760869639\n",
      "Average Error: 55.08427052553962\n",
      "\n"
     ]
    }
   ],
   "source": [
    "pls2 = build_evaluate_pls_model(train, test, 2, bc_lambda, model_vars)\n",
    "pls2_model = pls2[0]\n",
    "pls2_resids_train = pls2[1]\n",
    "pls2_resids_test = pls2[2]"
   ]
  },
  {
   "cell_type": "code",
   "execution_count": 25,
   "metadata": {
    "ExecuteTime": {
     "end_time": "2018-12-17T05:34:14.552980Z",
     "start_time": "2018-12-17T05:34:14.394650Z"
    }
   },
   "outputs": [
    {
     "data": {
      "image/png": "[encoded data removed]",
      "text/plain": [
       "<Figure size 432x288 with 1 Axes>"
      ]
     },
     "metadata": {
      "needs_background": "light"
     },
     "output_type": "display_data"
    }
   ],
   "source": [
    "# Compare the predictions of the two models\n",
    "plt.scatter(inv_boxcox(pls4_model.predict(train[model_vars]),bc_lambda), inv_boxcox(pls2_model.predict(train[model_vars]), bc_lambda))\n",
    "plt.xlabel('Predicted by original 4 features')\n",
    "plt.ylabel('Predicted by 2 features')\n",
    "plt.title('Comparing LR and PLSR predictions')\n",
    "plt.show()"
   ]
  },
  {
   "cell_type": "code",
   "execution_count": 31,
   "metadata": {
    "ExecuteTime": {
     "end_time": "2018-12-17T05:37:18.780252Z",
     "start_time": "2018-12-17T05:37:18.604786Z"
    }
   },
   "outputs": [
    {
     "data": {
      "image/png": "[encoded data removed]",
      "text/plain": [
       "<Figure size 432x288 with 1 Axes>"
      ]
     },
     "metadata": {
      "needs_background": "light"
     },
     "output_type": "display_data"
    }
   ],
   "source": [
    "# Compare the predictions of the two models\n",
    "plt.scatter(inv_boxcox(pls2_model.predict(train[model_vars]),bc_lambda), train[\"property_crime\"])\n",
    "plt.xlabel('Predicted by 2 features')\n",
    "plt.ylabel('Actual')\n",
    "plt.title('Comparing LR and PLSR predictions')\n",
    "plt.show()"
   ]
  },
  {
   "cell_type": "markdown",
   "metadata": {
    "ExecuteTime": {
     "end_time": "2018-12-15T23:17:41.444463Z",
     "start_time": "2018-12-15T23:17:41.260557Z"
    }
   },
   "source": [
    "In assessing model performance, we are mainly concerned with it's performance out of sample (so on the test set). While PLSR may result in lower R-Squared values (as the number of components decreases), this does not necessarily result in higher RMSE's, particularly since we are predicting the Box-Cox transform of property crime. RMSE decreased from 161.9 to 144 and 134.5 when using 4, 3 and 2 components. For this dataset, PLSR is not necessary. "
   ]
  }
 ],
 "metadata": {
  "kernelspec": {
   "display_name": "Python 3",
   "language": "python",
   "name": "python3"
  },
  "language_info": {
   "codemirror_mode": {
    "name": "ipython",
    "version": 3
   },
   "file_extension": ".py",
   "mimetype": "text/x-python",
   "name": "python",
   "nbconvert_exporter": "python",
   "pygments_lexer": "ipython3",
   "version": "3.6.7"
  },
  "latex_envs": {
   "LaTeX_envs_menu_present": true,
   "autoclose": false,
   "autocomplete": true,
   "bibliofile": "biblio.bib",
   "cite_by": "apalike",
   "current_citInitial": 1,
   "eqLabelWithNumbers": true,
   "eqNumInitial": 1,
   "hotkeys": {
    "equation": "Ctrl-E",
    "itemize": "Ctrl-I"
   },
   "labels_anchors": false,
   "latex_user_defs": false,
   "report_style_numbering": false,
   "user_envs_cfg": false
  },
  "toc": {
   "base_numbering": 1,
   "nav_menu": {},
   "number_sections": true,
   "sideBar": true,
   "skip_h1_title": false,
   "title_cell": "Table of Contents",
   "title_sidebar": "Contents",
   "toc_cell": false,
   "toc_position": {},
   "toc_section_display": true,
   "toc_window_display": false
  },
  "varInspector": {
   "cols": {
    "lenName": 16,
    "lenType": 16,
    "lenVar": 40
   },
   "kernels_config": {
    "python": {
     "delete_cmd_postfix": "",
     "delete_cmd_prefix": "del ",
     "library": "var_list.py",
     "varRefreshCmd": "print(var_dic_list())"
    },
    "r": {
     "delete_cmd_postfix": ") ",
     "delete_cmd_prefix": "rm(",
     "library": "var_list.r",
     "varRefreshCmd": "cat(var_dic_list()) "
    }
   },
   "types_to_exclude": [
    "module",
    "function",
    "builtin_function_or_method",
    "instance",
    "_Feature"
   ],
   "window_display": false
  }
 },
 "nbformat": 4,
 "nbformat_minor": 2
}
