{
 "cells": [
  {
   "cell_type": "code",
   "execution_count": 1,
   "metadata": {
    "ExecuteTime": {
     "end_time": "2018-12-13T16:32:32.958888Z",
     "start_time": "2018-12-13T16:32:31.964191Z"
    }
   },
   "outputs": [],
   "source": [
    "import math\n",
    "import warnings\n",
    "\n",
    "from matplotlib import pyplot as plt\n",
    "import numpy as np\n",
    "import pandas as pd\n",
    "import seaborn as sns\n",
    "from sklearn import linear_model\n",
    "from sklearn.linear_model import LinearRegression\n",
    "from sklearn.cross_decomposition import PLSRegression\n",
    "from sklearn.model_selection import cross_val_score, cross_val_predict\n",
    "from scipy.stats import boxcox\n",
    "from scipy.special import inv_boxcox\n",
    "import random\n",
    "import warnings\n",
    "\n",
    "# Display preferences.\n",
    "%matplotlib inline\n",
    "pd.options.display.float_format = '{:.3f}'.format\n",
    "\n",
    "# Suppress annoying harmless error.\n",
    "warnings.simplefilter(action='ignore', category=FutureWarning)"
   ]
  },
  {
   "cell_type": "code",
   "execution_count": 2,
   "metadata": {
    "ExecuteTime": {
     "end_time": "2018-12-13T16:32:33.053341Z",
     "start_time": "2018-12-13T16:32:32.982843Z"
    }
   },
   "outputs": [],
   "source": [
    "florida = pd.read_excel('./florida_2017.xls')\n",
    "headers = ['city', 'population', 'violent_crime', 'murder', 'rape', 'robbery',\n",
    "       'assault', 'property_crime', 'burglary', 'larceny_theft',\n",
    "       'motor_vehicle_theft', 'arson']\n",
    "florida.columns = headers\n",
    "florida.set_index('city', inplace=True)"
   ]
  },
  {
   "cell_type": "code",
   "execution_count": 3,
   "metadata": {
    "ExecuteTime": {
     "end_time": "2018-12-13T16:32:34.275073Z",
     "start_time": "2018-12-13T16:32:34.268698Z"
    }
   },
   "outputs": [],
   "source": [
    "crime_cols = ['violent_crime', 'murder', 'rape', 'robbery', \n",
    "              'assault', 'property_crime', 'burglary', 'larceny_theft', \n",
    "              'motor_vehicle_theft', 'arson']\n",
    "# so we will want to remove some outliers\n",
    "florida = florida[florida.population<florida.population.quantile(0.9)]"
   ]
  },
  {
   "cell_type": "code",
   "execution_count": 4,
   "metadata": {
    "ExecuteTime": {
     "end_time": "2018-12-13T16:32:35.996935Z",
     "start_time": "2018-12-13T16:32:35.922113Z"
    }
   },
   "outputs": [],
   "source": [
    "# add a log odds variable (do not include property crimes though)\n",
    "cols = ['violent_crime', 'murder', 'rape', 'robbery', \n",
    "        'assault', 'burglary', 'larceny_theft', \n",
    "        'motor_vehicle_theft', 'arson']\n",
    "florida[\"log_odds\"] = np.log1p(florida.population / florida[cols].sum(axis=1))"
   ]
  },
  {
   "cell_type": "code",
   "execution_count": 5,
   "metadata": {
    "ExecuteTime": {
     "end_time": "2018-12-13T16:32:37.087270Z",
     "start_time": "2018-12-13T16:32:37.062765Z"
    }
   },
   "outputs": [],
   "source": [
    "# log population\n",
    "florida[\"population_log\"] = np.log(florida.population)\n",
    "\n",
    "# log1p first adds 1 to x then logs the result\n",
    "florida[\"property_crime_log\"] = np.log1p(florida.property_crime)\n",
    "\n",
    "# create a population_medium indicator variable\n",
    "# these are going to be relative to the population in each state\n",
    "# the medium group is the interquartile range on population (between 1st and 3rd quantiles)\n",
    "florida[\"population_medium\"] = (florida.population.between(3620.0, 24929.5)).astype(\"int\")\n",
    "\n",
    "# create n population groups\n",
    "florida[\"population_group\"] = pd.cut(florida.population, 5, labels=list(range(1,6)))\n",
    "\n",
    "# create robbery dummy var\n",
    "florida[\"has_robbery\"] = np.where(florida.robbery>0,1,0)\n",
    "\n",
    "# because box-cox transforms require x>0, when property_crime is 0 we add 1, else we leave it alone\n",
    "florida[\"property_crime_2\"] = florida[\"property_crime\"].apply(lambda x: x+1 if x == 0 else x)\n",
    "\n",
    "# burglary_cube_root\n",
    "florida[\"burglary_cube_root\"] = florida.burglary**(1/3)\n",
    "\n",
    "# assault_log\n",
    "florida[\"assault_log\"] = np.log1p(florida.assault)\n",
    "\n",
    "# larceny_theft_cube_root\n",
    "florida[\"larceny_theft_cube_root\"] = florida.larceny_theft ** (1/3)\n",
    "\n",
    "# robbery_log\n",
    "florida[\"robbery_log\"] = np.log1p(florida.robbery)\n",
    "\n",
    "# motor_vehicle_theft_log\n",
    "florida[\"motor_vehicle_theft_log\"] = np.log1p(florida.motor_vehicle_theft)"
   ]
  },
  {
   "cell_type": "code",
   "execution_count": 6,
   "metadata": {
    "ExecuteTime": {
     "end_time": "2018-12-13T16:32:38.377593Z",
     "start_time": "2018-12-13T16:32:38.371447Z"
    }
   },
   "outputs": [],
   "source": [
    "bc1 = boxcox(florida[\"property_crime_2\"])\n",
    "florida['property_crime_bc'] = bc1[0]\n",
    "florida_bc_lambda = bc1[1]"
   ]
  },
  {
   "cell_type": "code",
   "execution_count": 7,
   "metadata": {
    "ExecuteTime": {
     "end_time": "2018-12-13T16:32:39.373600Z",
     "start_time": "2018-12-13T16:32:39.365233Z"
    }
   },
   "outputs": [
    {
     "name": "stdout",
     "output_type": "stream",
     "text": [
      "Train shape: (178, 24)\n",
      "Test shape: (77, 24)\n"
     ]
    }
   ],
   "source": [
    "florida_train = florida.sample(frac=0.7, random_state=41)\n",
    "florida_test_cities = list(set(florida.index).difference(set(florida_train.index)))\n",
    "florida_test = florida.loc[florida_test_cities,:]\n",
    "print(\"Train shape: {}\".format(florida_train.shape))\n",
    "print(\"Test shape: {}\".format(florida_test.shape))"
   ]
  },
  {
   "cell_type": "code",
   "execution_count": 8,
   "metadata": {
    "ExecuteTime": {
     "end_time": "2018-12-13T16:32:41.123697Z",
     "start_time": "2018-12-13T16:32:41.103941Z"
    }
   },
   "outputs": [
    {
     "data": {
      "text/plain": [
       "LinearRegression(copy_X=True, fit_intercept=True, n_jobs=None,\n",
       "         normalize=False)"
      ]
     },
     "execution_count": 8,
     "metadata": {},
     "output_type": "execute_result"
    }
   ],
   "source": [
    "# Now lets see how well we can predict the boxcox transform of property_crime\n",
    "\n",
    "model_vars = ['population_log', 'has_robbery', \n",
    "              'population_medium',\n",
    "              \"robbery_log\", \"burglary_cube_root\",\n",
    "              \"larceny_theft_cube_root\", \"motor_vehicle_theft_log\"]\n",
    "\n",
    "X = florida_train[model_vars]\n",
    "y = florida_train[\"property_crime_bc\"]\n",
    "\n",
    "model = LinearRegression()\n",
    "model.fit(X, y)"
   ]
  },
  {
   "cell_type": "code",
   "execution_count": 9,
   "metadata": {
    "ExecuteTime": {
     "end_time": "2018-12-13T16:32:44.560630Z",
     "start_time": "2018-12-13T16:32:44.554474Z"
    }
   },
   "outputs": [],
   "source": [
    "def evaluate_pslr_model(X, y, n_components):\n",
    "    # Fit a linear model with all 10 features.\n",
    "    regr = linear_model.LinearRegression()\n",
    "    regr.fit(X, y)\n",
    "\n",
    "    # Save predicted values.\n",
    "    Y_pred = regr.predict(X)\n",
    "    print('R-squared regression:', regr.score(X, y))\n",
    "\n",
    "    # Fit a linear model using Partial Least Squares Regression.\n",
    "    # Reduce feature space to 3 dimensions.\n",
    "    pls1 = PLSRegression(n_components=n_components)\n",
    "\n",
    "    # Reduce X to R(X) and regress on y.\n",
    "    pls1.fit(X, y)\n",
    "\n",
    "    # Save predicted values.\n",
    "    Y_PLS_pred = pls1.predict(X)\n",
    "    print('R-squared PLSR:', pls1.score(X, y))\n",
    "\n",
    "    # Compare the predictions of the two models\n",
    "    plt.scatter(Y_pred,Y_PLS_pred) \n",
    "    plt.xlabel('Predicted by original 10 features')\n",
    "    plt.ylabel('Predicted by 3 features')\n",
    "    plt.title('Comparing LR and PLSR predictions')\n",
    "    plt.show()\n",
    "    return (Y_pred, Y_PLS_pred)"
   ]
  },
  {
   "cell_type": "code",
   "execution_count": 10,
   "metadata": {
    "ExecuteTime": {
     "end_time": "2018-12-13T16:32:54.285354Z",
     "start_time": "2018-12-13T16:32:54.039409Z"
    }
   },
   "outputs": [
    {
     "name": "stdout",
     "output_type": "stream",
     "text": [
      "R-squared regression: 0.992875090110715\n",
      "R-squared PLSR: 0.9928747923772733\n"
     ]
    },
    {
     "data": {
      "image/png": "[encoded data removed]",
      "text/plain": [
       "<Figure size 432x288 with 1 Axes>"
      ]
     },
     "metadata": {
      "needs_background": "light"
     },
     "output_type": "display_data"
    }
   ],
   "source": [
    "(Y_pred, Y_PLS_pred6) = evaluate_pslr_model(X, y, 6)"
   ]
  },
  {
   "cell_type": "code",
   "execution_count": 26,
   "metadata": {
    "ExecuteTime": {
     "end_time": "2018-12-13T16:27:39.528636Z",
     "start_time": "2018-12-13T16:27:39.227360Z"
    }
   },
   "outputs": [
    {
     "name": "stdout",
     "output_type": "stream",
     "text": [
      "R-squared regression: 0.992875090110715\n",
      "R-squared PLSR: 0.9928494458121468\n"
     ]
    },
    {
     "data": {
      "image/png": "[encoded data removed]",
      "text/plain": [
       "<Figure size 432x288 with 1 Axes>"
      ]
     },
     "metadata": {
      "needs_background": "light"
     },
     "output_type": "display_data"
    }
   ],
   "source": [
    "(Y_pred, Y_PLS_pred5) = evaluate_pslr_model(X, y, 5)"
   ]
  },
  {
   "cell_type": "code",
   "execution_count": 27,
   "metadata": {
    "ExecuteTime": {
     "end_time": "2018-12-13T16:27:46.318893Z",
     "start_time": "2018-12-13T16:27:46.085720Z"
    }
   },
   "outputs": [
    {
     "name": "stdout",
     "output_type": "stream",
     "text": [
      "R-squared regression: 0.992875090110715\n",
      "R-squared PLSR: 0.9919076410804375\n"
     ]
    },
    {
     "data": {
      "image/png": "[encoded data removed]",
      "text/plain": [
       "<Figure size 432x288 with 1 Axes>"
      ]
     },
     "metadata": {
      "needs_background": "light"
     },
     "output_type": "display_data"
    }
   ],
   "source": [
    "(Y_pred, Y_PLS_pred4) = evaluate_pslr_model(X, y, 4)"
   ]
  },
  {
   "cell_type": "code",
   "execution_count": 28,
   "metadata": {
    "ExecuteTime": {
     "end_time": "2018-12-13T16:27:53.121774Z",
     "start_time": "2018-12-13T16:27:52.910178Z"
    }
   },
   "outputs": [
    {
     "name": "stdout",
     "output_type": "stream",
     "text": [
      "R-squared regression: 0.992875090110715\n",
      "R-squared PLSR: 0.9859791077255515\n"
     ]
    },
    {
     "data": {
      "image/png": "[encoded data removed]",
      "text/plain": [
       "<Figure size 432x288 with 1 Axes>"
      ]
     },
     "metadata": {
      "needs_background": "light"
     },
     "output_type": "display_data"
    }
   ],
   "source": [
    "(Y_pred, Y_PLS_pred3) = evaluate_pslr_model(X, y, 3)"
   ]
  },
  {
   "cell_type": "code",
   "execution_count": 29,
   "metadata": {
    "ExecuteTime": {
     "end_time": "2018-12-13T16:27:58.291469Z",
     "start_time": "2018-12-13T16:27:58.075642Z"
    }
   },
   "outputs": [
    {
     "name": "stdout",
     "output_type": "stream",
     "text": [
      "R-squared regression: 0.992875090110715\n",
      "R-squared PLSR: 0.9776519913096948\n"
     ]
    },
    {
     "data": {
      "image/png": "[encoded data removed]",
      "text/plain": [
       "<Figure size 432x288 with 1 Axes>"
      ]
     },
     "metadata": {
      "needs_background": "light"
     },
     "output_type": "display_data"
    }
   ],
   "source": [
    "(Y_pred, Y_PLS_pred2) = evaluate_pslr_model(X, y, 2)"
   ]
  },
  {
   "cell_type": "code",
   "execution_count": 30,
   "metadata": {
    "ExecuteTime": {
     "end_time": "2018-12-13T16:28:04.705447Z",
     "start_time": "2018-12-13T16:28:04.487568Z"
    }
   },
   "outputs": [
    {
     "name": "stdout",
     "output_type": "stream",
     "text": [
      "R-squared regression: 0.992875090110715\n",
      "R-squared PLSR: 0.9641878558256956\n"
     ]
    },
    {
     "data": {
      "image/png": "[encoded data removed]",
      "text/plain": [
       "<Figure size 432x288 with 1 Axes>"
      ]
     },
     "metadata": {
      "needs_background": "light"
     },
     "output_type": "display_data"
    }
   ],
   "source": [
    "(Y_pred, Y_PLS_pred1) = evaluate_pslr_model(X, y, 1)"
   ]
  },
  {
   "cell_type": "code",
   "execution_count": 32,
   "metadata": {
    "ExecuteTime": {
     "end_time": "2018-12-13T16:29:35.520831Z",
     "start_time": "2018-12-13T16:29:35.514724Z"
    }
   },
   "outputs": [
    {
     "name": "stdout",
     "output_type": "stream",
     "text": [
      "Average Residual: -14.952154942633944\n",
      "RMSE: 1079.784106904346\n"
     ]
    }
   ],
   "source": [
    "# get these prediction back to property_crime (right now property_crime_bc)\n",
    "predicted6 = inv_boxcox(Y_PLS_pred6, florida_bc_lambda)\n",
    "residuals6 = florida_train[\"property_crime\"].values - predicted6\n",
    "print(\"Average Residual: {}\\nRMSE: {}\".format(residuals6.mean(), residuals6.std()))"
   ]
  },
  {
   "cell_type": "code",
   "execution_count": 33,
   "metadata": {
    "ExecuteTime": {
     "end_time": "2018-12-13T16:29:59.707397Z",
     "start_time": "2018-12-13T16:29:59.701029Z"
    }
   },
   "outputs": [
    {
     "name": "stdout",
     "output_type": "stream",
     "text": [
      "Average Residual: -15.0587462881256\n",
      "RMSE: 1080.345238202234\n"
     ]
    }
   ],
   "source": [
    "# get these prediction back to property_crime (right now property_crime_bc)\n",
    "predicted5 = inv_boxcox(Y_PLS_pred5, florida_bc_lambda)\n",
    "residuals5 = florida_train[\"property_crime\"].values - predicted5\n",
    "print(\"Average Residual: {}\\nRMSE: {}\".format(residuals5.mean(), residuals5.std()))"
   ]
  },
  {
   "cell_type": "code",
   "execution_count": 34,
   "metadata": {
    "ExecuteTime": {
     "end_time": "2018-12-13T16:30:30.598387Z",
     "start_time": "2018-12-13T16:30:30.593513Z"
    }
   },
   "outputs": [
    {
     "name": "stdout",
     "output_type": "stream",
     "text": [
      "Average Residual: -11.25601448748528\n",
      "RMSE: 1066.9751779410103\n"
     ]
    }
   ],
   "source": [
    "# get these prediction back to property_crime (right now property_crime_bc)\n",
    "predicted4 = inv_boxcox(Y_PLS_pred4, florida_bc_lambda)\n",
    "residuals4 = florida_train[\"property_crime\"].values - predicted4\n",
    "print(\"Average Residual: {}\\nRMSE: {}\".format(residuals4.mean(), residuals4.std()))"
   ]
  },
  {
   "cell_type": "code",
   "execution_count": 35,
   "metadata": {
    "ExecuteTime": {
     "end_time": "2018-12-13T16:30:51.884465Z",
     "start_time": "2018-12-13T16:30:51.879860Z"
    }
   },
   "outputs": [
    {
     "name": "stdout",
     "output_type": "stream",
     "text": [
      "Average Residual: -20.527359416875115\n",
      "RMSE: 1086.563391169296\n"
     ]
    }
   ],
   "source": [
    "# get these prediction back to property_crime (right now property_crime_bc)\n",
    "predicted3 = inv_boxcox(Y_PLS_pred3, florida_bc_lambda)\n",
    "residuals3 = florida_train[\"property_crime\"].values - predicted3\n",
    "print(\"Average Residual: {}\\nRMSE: {}\".format(residuals3.mean(), residuals3.std()))"
   ]
  },
  {
   "cell_type": "code",
   "execution_count": 36,
   "metadata": {
    "ExecuteTime": {
     "end_time": "2018-12-13T16:31:15.608944Z",
     "start_time": "2018-12-13T16:31:15.602257Z"
    }
   },
   "outputs": [
    {
     "name": "stdout",
     "output_type": "stream",
     "text": [
      "Average Residual: -3.123798823673391\n",
      "RMSE: 1038.0104351582154\n"
     ]
    }
   ],
   "source": [
    "# get these prediction back to property_crime (right now property_crime_bc)\n",
    "predicted2 = inv_boxcox(Y_PLS_pred2, florida_bc_lambda)\n",
    "residuals2 = florida_train[\"property_crime\"].values - predicted2\n",
    "print(\"Average Residual: {}\\nRMSE: {}\".format(residuals2.mean(), residuals2.std()))"
   ]
  },
  {
   "cell_type": "code",
   "execution_count": 37,
   "metadata": {
    "ExecuteTime": {
     "end_time": "2018-12-13T16:31:38.324156Z",
     "start_time": "2018-12-13T16:31:38.318201Z"
    }
   },
   "outputs": [
    {
     "name": "stdout",
     "output_type": "stream",
     "text": [
      "Average Residual: 6.257827888722345\n",
      "RMSE: 1017.5217876709307\n"
     ]
    }
   ],
   "source": [
    "# get these prediction back to property_crime (right now property_crime_bc)\n",
    "predicted1 = inv_boxcox(Y_PLS_pred1, florida_bc_lambda)\n",
    "residuals1 = florida_train[\"property_crime\"].values - predicted1\n",
    "print(\"Average Residual: {}\\nRMSE: {}\".format(residuals1.mean(), residuals1.std()))"
   ]
  },
  {
   "cell_type": "markdown",
   "metadata": {},
   "source": [
    "**Using only 1 component we get the best combination of mean error and RMSE!**"
   ]
  },
  {
   "cell_type": "code",
   "execution_count": 14,
   "metadata": {
    "ExecuteTime": {
     "end_time": "2018-12-13T16:38:22.289378Z",
     "start_time": "2018-12-13T16:38:22.061853Z"
    }
   },
   "outputs": [
    {
     "name": "stdout",
     "output_type": "stream",
     "text": [
      "R-squared regression: 0.9890800278642469\n",
      "R-squared PLSR: 0.950968815934705\n"
     ]
    },
    {
     "data": {
      "image/png": "[encoded data removed]",
      "text/plain": [
       "<Figure size 432x288 with 1 Axes>"
      ]
     },
     "metadata": {
      "needs_background": "light"
     },
     "output_type": "display_data"
    }
   ],
   "source": [
    "# X and Y now need to represent the test set\n",
    "X_test = florida_test[model_vars]\n",
    "y_test = florida_test[\"property_crime_bc\"]\n",
    "\n",
    "model_test = LinearRegression()\n",
    "model_test.fit(X_test, y_test)\n",
    "\n",
    "(Y_pred1_test, Y_PLS_pred1_test) = evaluate_pslr_model(X_test, y_test, 1)"
   ]
  },
  {
   "cell_type": "code",
   "execution_count": 15,
   "metadata": {
    "ExecuteTime": {
     "end_time": "2018-12-13T16:38:53.684623Z",
     "start_time": "2018-12-13T16:38:53.679013Z"
    }
   },
   "outputs": [
    {
     "name": "stdout",
     "output_type": "stream",
     "text": [
      "Average Residual: 7.668273047279359\n",
      "RMSE: 742.0842647286122\n"
     ]
    }
   ],
   "source": [
    "# get these prediction back to property_crime (right now property_crime_bc)\n",
    "predicted1_test = inv_boxcox(Y_PLS_pred1_test, florida_bc_lambda)\n",
    "residuals1_test = florida_test[\"property_crime\"].values - predicted1_test\n",
    "print(\"Average Residual: {}\\nRMSE: {}\".format(residuals1_test.mean(), residuals1_test.std()))"
   ]
  },
  {
   "cell_type": "markdown",
   "metadata": {},
   "source": [
    "Not bad! The mean error increased by a little over 1, but the RMSE decreased by 27% and we used PLSR with only 1 component."
   ]
  }
 ],
 "metadata": {
  "kernelspec": {
   "display_name": "Python 3",
   "language": "python",
   "name": "python3"
  },
  "language_info": {
   "codemirror_mode": {
    "name": "ipython",
    "version": 3
   },
   "file_extension": ".py",
   "mimetype": "text/x-python",
   "name": "python",
   "nbconvert_exporter": "python",
   "pygments_lexer": "ipython3",
   "version": "3.6.7"
  },
  "latex_envs": {
   "LaTeX_envs_menu_present": true,
   "autoclose": false,
   "autocomplete": true,
   "bibliofile": "biblio.bib",
   "cite_by": "apalike",
   "current_citInitial": 1,
   "eqLabelWithNumbers": true,
   "eqNumInitial": 1,
   "hotkeys": {
    "equation": "Ctrl-E",
    "itemize": "Ctrl-I"
   },
   "labels_anchors": false,
   "latex_user_defs": false,
   "report_style_numbering": false,
   "user_envs_cfg": false
  },
  "toc": {
   "base_numbering": 1,
   "nav_menu": {},
   "number_sections": true,
   "sideBar": true,
   "skip_h1_title": false,
   "title_cell": "Table of Contents",
   "title_sidebar": "Contents",
   "toc_cell": false,
   "toc_position": {},
   "toc_section_display": true,
   "toc_window_display": false
  },
  "varInspector": {
   "cols": {
    "lenName": 16,
    "lenType": 16,
    "lenVar": 40
   },
   "kernels_config": {
    "python": {
     "delete_cmd_postfix": "",
     "delete_cmd_prefix": "del ",
     "library": "var_list.py",
     "varRefreshCmd": "print(var_dic_list())"
    },
    "r": {
     "delete_cmd_postfix": ") ",
     "delete_cmd_prefix": "rm(",
     "library": "var_list.r",
     "varRefreshCmd": "cat(var_dic_list()) "
    }
   },
   "types_to_exclude": [
    "module",
    "function",
    "builtin_function_or_method",
    "instance",
    "_Feature"
   ],
   "window_display": false
  }
 },
 "nbformat": 4,
 "nbformat_minor": 2
}
