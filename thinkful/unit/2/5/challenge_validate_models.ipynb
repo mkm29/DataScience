{
 "cells": [
  {
   "cell_type": "code",
   "execution_count": 1,
   "metadata": {
    "ExecuteTime": {
     "end_time": "2018-12-13T14:44:12.164899Z",
     "start_time": "2018-12-13T14:44:10.555266Z"
    }
   },
   "outputs": [],
   "source": [
    "import math\n",
    "import warnings\n",
    "\n",
    "from matplotlib import pyplot as plt\n",
    "import numpy as np\n",
    "import pandas as pd\n",
    "import seaborn as sns\n",
    "from sklearn import linear_model\n",
    "import statsmodels.formula.api as smf\n",
    "from scipy.stats import mstats\n",
    "import statsmodels.api as sm\n",
    "from sklearn.linear_model import LinearRegression\n",
    "from sklearn.model_selection import cross_val_score, cross_val_predict\n",
    "from scipy.stats import boxcox\n",
    "from sklearn.metrics import confusion_matrix\n",
    "import random\n",
    "import warnings\n",
    "\n",
    "# Display preferences.\n",
    "%matplotlib inline\n",
    "pd.options.display.float_format = '{:.3f}'.format\n",
    "\n",
    "# Suppress annoying harmless error.\n",
    "warnings.simplefilter(action='ignore', category=FutureWarning)"
   ]
  },
  {
   "cell_type": "markdown",
   "metadata": {},
   "source": [
    "# Data\n",
    "\n",
    "## Import\n",
    "\n",
    "I originally built my models from Florida crime data (2017), and will use crime data from Michigan, North Carolina and Ohio to validate the models."
   ]
  },
  {
   "cell_type": "code",
   "execution_count": 2,
   "metadata": {
    "ExecuteTime": {
     "end_time": "2018-12-13T14:44:13.401986Z",
     "start_time": "2018-12-13T14:44:13.135284Z"
    }
   },
   "outputs": [],
   "source": [
    "florida = pd.read_excel('./florida_2017.xls')\n",
    "headers = ['city', 'population', 'violent_crime', 'murder', 'rape', 'robbery',\n",
    "       'assault', 'property_crime', 'burglary', 'larceny_theft',\n",
    "       'motor_vehicle_theft', 'arson']\n",
    "florida.columns = headers\n",
    "florida.set_index('city', inplace=True)\n",
    "\n",
    "# read in other states for validation purposes\n",
    "ohio = pd.read_excel('./ohio_2017.xls')\n",
    "ohio.columns = headers\n",
    "ohio.set_index('city', inplace=True)\n",
    "\n",
    "michigan = pd.read_excel('./michigan_2017.xls')\n",
    "michigan.columns = headers\n",
    "michigan.set_index('city', inplace = True)\n",
    "\n",
    "north_carolina = pd.read_excel('./north-carolina_2017.xls')\n",
    "north_carolina.columns = headers\n",
    "north_carolina.set_index('city', inplace=True)\n",
    "\n",
    "\n",
    "crime_cols = ['violent_crime', 'murder', 'rape', 'robbery', \n",
    "              'assault', 'property_crime', 'burglary', 'larceny_theft', \n",
    "              'motor_vehicle_theft', 'arson']\n",
    "# so we will want to remove some outliers\n",
    "florida = florida[florida.population<florida.population.quantile(0.9)]\n",
    "michigan = michigan[michigan.population < michigan.population.quantile(0.9)]\n",
    "north_carolina = north_carolina[north_carolina.population < north_carolina.population.quantile(0.9)]\n",
    "ohio = ohio[ohio.population < ohio.population.quantile(0.9)]"
   ]
  },
  {
   "cell_type": "markdown",
   "metadata": {},
   "source": [
    "## Transform\n",
    "\n",
    "I previously conducted [research](https://github.com/mkm29/DataScience/blob/master/thinkful/unit/2/4/challenge_crime_regression.ipynb) into optimal feature engineering, so I am simply going to use only the transformations that I ended up using in my models."
   ]
  },
  {
   "cell_type": "code",
   "execution_count": 3,
   "metadata": {
    "ExecuteTime": {
     "end_time": "2018-12-13T14:44:14.887900Z",
     "start_time": "2018-12-13T14:44:14.735217Z"
    }
   },
   "outputs": [],
   "source": [
    "# add a log odds variable (do not include property crimes though)\n",
    "cols = ['violent_crime', 'murder', 'rape', 'robbery', \n",
    "        'assault', 'burglary', 'larceny_theft', \n",
    "        'motor_vehicle_theft', 'arson']\n",
    "florida[\"log_odds\"] = np.log1p(florida.population / florida[cols].sum(axis=1))\n",
    "michigan[\"log_odds\"] = np.log1p(michigan.population / michigan[cols].sum(axis = 1))\n",
    "north_carolina[\"log_odds\"] = np.log1p(north_carolina.population / north_carolina[cols].sum(axis=1))\n",
    "ohio[\"log_odds\"] = np.log1p(ohio.population / ohio[cols].sum(axis=1))"
   ]
  },
  {
   "cell_type": "code",
   "execution_count": 4,
   "metadata": {
    "ExecuteTime": {
     "end_time": "2018-12-13T14:44:16.452459Z",
     "start_time": "2018-12-13T14:44:16.396893Z"
    }
   },
   "outputs": [],
   "source": [
    "# log population\n",
    "florida[\"population_log\"] = np.log(florida.population)\n",
    "michigan[\"population_log\"] = np.log(michigan.population)\n",
    "north_carolina[\"population_log\"] = np.log(north_carolina.population)\n",
    "ohio[\"population_log\"] = np.log(ohio.population)\n",
    "\n",
    "# log1p first adds 1 to x then logs the result\n",
    "florida[\"property_crime_log\"] = np.log1p(florida.property_crime)\n",
    "michigan[\"property_crime_log\"] = np.log1p(michigan.property_crime)\n",
    "north_carolina[\"property_crime_log\"] = np.log1p(north_carolina.property_crime)\n",
    "ohio[\"property_crime_log\"] = np.log1p(ohio.property_crime)\n",
    "\n",
    "# create a population_medium indicator variable\n",
    "# these are going to be relative to the population in each state\n",
    "# the medium group is the interquartile range on population (between 1st and 3rd quantiles)\n",
    "florida[\"population_medium\"] = (florida.population.between(3620.0, 24929.5)).astype(\"int\")\n",
    "michigan[\"population_medium\"] = (michigan.population.between(1882.0, 9860.0)).astype(\"int\")\n",
    "north_carolina[\"population_medium\"] = (north_carolina.population.between(2344.0, 10823.0)).astype(\"int\")\n",
    "ohio[\"population_medium\"] = (ohio.population.between(3566.0,13972.0)).astype(\"int\")\n",
    "\n",
    "# create n population groups\n",
    "florida[\"population_group\"] = pd.cut(florida.population, 5, labels=list(range(1,6)))\n",
    "michigan[\"population_group\"] = pd.cut(michigan.population, 5, labels=list(range(1,6)))\n",
    "north_carolina[\"population_group\"] = pd.cut(north_carolina.population, 5, labels=list(range(1,6)))\n",
    "ohio[\"population_group\"] = pd.cut(ohio.population, 5, labels=list(range(1,6)))\n",
    "\n",
    "# create robbery dummy var\n",
    "florida[\"has_robbery\"] = np.where(florida.robbery>0,1,0)\n",
    "michigan[\"has_robbery\"] = np.where(michigan.robbery>0,1,0)\n",
    "north_carolina[\"has_robbery\"] = np.where(north_carolina.robbery>0,1,0)\n",
    "ohio[\"has_robbery\"] = np.where(ohio.robbery>0,1,0)\n",
    "\n",
    "# because box-cox transforms require x>0, when property_crime is 0 we add 1, else we leave it alone\n",
    "florida[\"property_crime_2\"] = florida[\"property_crime\"].apply(lambda x: x+1 if x == 0 else x)\n",
    "michigan[\"property_crime_2\"] = michigan[\"property_crime\"].apply(lambda x: x+1 if x == 0 else x)\n",
    "north_carolina[\"property_crime_2\"] = north_carolina[\"property_crime\"].apply(lambda x: x+1 if x == 0 else x)\n",
    "ohio[\"property_crime_2\"] = ohio[\"property_crime\"].apply(lambda x: x+1 if x == 0 else x)\n",
    "\n",
    "\n",
    "# burglary_cube_root\n",
    "florida[\"burglary_cube_root\"] = florida.burglary**(1/3)\n",
    "michigan[\"burglary_cube_root\"] = michigan.burglary**(1/3)\n",
    "north_carolina[\"burglary_cube_root\"] = north_carolina.burglary ** (1/3)\n",
    "ohio[\"burglary_cube_root\"] = ohio.burglary ** (1/3)\n",
    "\n",
    "# assault_log\n",
    "florida[\"assault_log\"] = np.log1p(florida.assault)\n",
    "michigan[\"assault_log\"] = np.log1p(michigan.assault)\n",
    "north_carolina[\"assault_log\"] = np.log1p(north_carolina.assault)\n",
    "ohio[\"assault_log\"] = np.log1p(ohio.assault)\n",
    "\n",
    "# larceny_theft_cube_root\n",
    "florida[\"larceny_theft_cube_root\"] = florida.larceny_theft ** (1/3)\n",
    "michigan[\"larceny_theft_cube_root\"] = michigan.larceny_theft ** (1/3)\n",
    "north_carolina[\"larceny_theft_cube_root\"] = north_carolina.larceny_theft ** (1/3)\n",
    "ohio[\"larceny_theft_cube_root\"] = ohio.larceny_theft ** (1/3)\n",
    "\n",
    "# robbery_log\n",
    "florida[\"robbery_log\"] = np.log1p(florida.robbery)\n",
    "michigan[\"robbery_log\"] = np.log1p(michigan.robbery)\n",
    "north_carolina[\"robbery_log\"] = np.log1p(north_carolina.robbery)\n",
    "ohio[\"robbery_log\"] = np.log1p(ohio.robbery)\n",
    "\n",
    "# motor_vehicle_theft_log\n",
    "florida[\"motor_vehicle_theft_log\"] = np.log1p(florida.motor_vehicle_theft)\n",
    "michigan[\"motor_vehicle_theft_log\"] = np.log1p(michigan.motor_vehicle_theft)\n",
    "north_carolina[\"motor_vehicle_theft_log\"] = np.log1p(north_carolina.motor_vehicle_theft)\n",
    "ohio[\"motor_vehicle_theft_log\"] = np.log1p(ohio.motor_vehicle_theft)\n",
    "\n"
   ]
  },
  {
   "cell_type": "markdown",
   "metadata": {},
   "source": [
    "**Box-Cox transform property crime**"
   ]
  },
  {
   "cell_type": "code",
   "execution_count": 5,
   "metadata": {
    "ExecuteTime": {
     "end_time": "2018-12-13T14:44:18.481511Z",
     "start_time": "2018-12-13T14:44:18.466141Z"
    }
   },
   "outputs": [],
   "source": [
    "bc1 = boxcox(florida[\"property_crime_2\"])\n",
    "florida['property_crime_bc'] = bc1[0]\n",
    "florida_bc_lambda = bc1[1]\n",
    "\n",
    "bc2 = boxcox(michigan[\"property_crime_2\"])\n",
    "michigan['property_crime_bc'] = bc2[0]\n",
    "michigan_bc_lambda = bc2[1]\n",
    "\n",
    "bc3 = boxcox(north_carolina[\"property_crime_2\"])\n",
    "north_carolina['property_crime_bc'] = bc3[0]\n",
    "north_carolina_bc_lambda = bc3[1]\n",
    "\n",
    "bc4 = boxcox(ohio[\"property_crime_2\"])\n",
    "ohio['property_crime_bc'] = bc4[0]\n",
    "ohio_bc_lambda = bc4[1]"
   ]
  },
  {
   "cell_type": "code",
   "execution_count": 6,
   "metadata": {
    "ExecuteTime": {
     "end_time": "2018-12-13T14:44:20.875168Z",
     "start_time": "2018-12-13T14:44:20.316286Z"
    }
   },
   "outputs": [
    {
     "data": {
      "image/png": "[encoded data removed]",
      "text/plain": [
       "<Figure size 432x288 with 1 Axes>"
      ]
     },
     "metadata": {
      "needs_background": "light"
     },
     "output_type": "display_data"
    },
    {
     "data": {
      "image/png": "[encoded data removed]",
      "text/plain": [
       "<Figure size 432x288 with 1 Axes>"
      ]
     },
     "metadata": {
      "needs_background": "light"
     },
     "output_type": "display_data"
    },
    {
     "data": {
      "image/png": "[encoded data removed]",
      "text/plain": [
       "<Figure size 432x288 with 1 Axes>"
      ]
     },
     "metadata": {
      "needs_background": "light"
     },
     "output_type": "display_data"
    },
    {
     "data": {
      "image/png": "[encoded data removed]",
      "text/plain": [
       "<Figure size 432x288 with 1 Axes>"
      ]
     },
     "metadata": {
      "needs_background": "light"
     },
     "output_type": "display_data"
    }
   ],
   "source": [
    "plt.scatter(florida[\"property_crime_log\"], bc1[0])\n",
    "plt.show()\n",
    "plt.scatter(michigan[\"property_crime_log\"], bc2[0])\n",
    "plt.show()\n",
    "plt.scatter(north_carolina[\"property_crime_log\"], bc3[0])\n",
    "plt.show()\n",
    "plt.scatter(ohio[\"property_crime_log\"], bc4[0])\n",
    "plt.show()"
   ]
  },
  {
   "cell_type": "markdown",
   "metadata": {},
   "source": [
    "## Split\n",
    "\n",
    "Split each state's data into a train and test set."
   ]
  },
  {
   "cell_type": "code",
   "execution_count": 7,
   "metadata": {
    "ExecuteTime": {
     "end_time": "2018-12-13T14:44:22.642982Z",
     "start_time": "2018-12-13T14:44:22.634590Z"
    }
   },
   "outputs": [
    {
     "name": "stdout",
     "output_type": "stream",
     "text": [
      "Train shape: (178, 24)\n",
      "Test shape: (77, 24)\n"
     ]
    }
   ],
   "source": [
    "florida_train = florida.sample(frac=0.7, random_state=41)\n",
    "florida_test_cities = list(set(florida.index).difference(set(florida_train.index)))\n",
    "florida_test = florida.loc[florida_test_cities,:]\n",
    "print(\"Train shape: {}\".format(florida_train.shape))\n",
    "print(\"Test shape: {}\".format(florida_test.shape))"
   ]
  },
  {
   "cell_type": "code",
   "execution_count": 8,
   "metadata": {
    "ExecuteTime": {
     "end_time": "2018-12-13T14:44:26.753814Z",
     "start_time": "2018-12-13T14:44:26.746305Z"
    }
   },
   "outputs": [
    {
     "name": "stdout",
     "output_type": "stream",
     "text": [
      "Train shape: (265, 24)\n",
      "Test shape: (114, 24)\n"
     ]
    }
   ],
   "source": [
    "michigan_train = michigan.sample(frac=0.7, random_state=41)\n",
    "michigan_test_cities = list(set(michigan.index).difference(set(michigan_train.index)))\n",
    "michigan_test = michigan.loc[michigan_test_cities,:]\n",
    "print(\"Train shape: {}\".format(michigan_train.shape))\n",
    "print(\"Test shape: {}\".format(michigan_test.shape))"
   ]
  },
  {
   "cell_type": "code",
   "execution_count": 9,
   "metadata": {
    "ExecuteTime": {
     "end_time": "2018-12-13T14:44:28.101146Z",
     "start_time": "2018-12-13T14:44:28.093293Z"
    }
   },
   "outputs": [
    {
     "name": "stdout",
     "output_type": "stream",
     "text": [
      "Train shape: (118, 24)\n",
      "Test shape: (51, 24)\n"
     ]
    }
   ],
   "source": [
    "north_carolina_train = north_carolina.sample(frac=0.7, random_state=41)\n",
    "north_carolina_test_cities = list(set(north_carolina.index).difference(set(north_carolina_train.index)))\n",
    "north_carolina_test = north_carolina.loc[north_carolina_test_cities,:]\n",
    "print(\"Train shape: {}\".format(north_carolina_train.shape))\n",
    "print(\"Test shape: {}\".format(north_carolina_test.shape))"
   ]
  },
  {
   "cell_type": "code",
   "execution_count": 10,
   "metadata": {
    "ExecuteTime": {
     "end_time": "2018-12-13T14:44:29.207174Z",
     "start_time": "2018-12-13T14:44:29.198533Z"
    }
   },
   "outputs": [
    {
     "name": "stdout",
     "output_type": "stream",
     "text": [
      "Train shape: (233, 24)\n",
      "Test shape: (100, 24)\n"
     ]
    }
   ],
   "source": [
    "ohio_train = ohio.sample(frac=0.7, random_state=41)\n",
    "ohio_test_cities = list(set(ohio.index).difference(set(ohio_train.index)))\n",
    "ohio_test = ohio.loc[ohio_test_cities,:]\n",
    "print(\"Train shape: {}\".format(ohio_train.shape))\n",
    "print(\"Test shape: {}\".format(ohio_test.shape))"
   ]
  },
  {
   "cell_type": "markdown",
   "metadata": {},
   "source": [
    "# Model\n",
    "\n",
    "For this exercise, we are simply going to use model 3 from the previous exercise:\n",
    "\n",
    "\\begin{equation}\\label{eq:}\n",
    "PropertyCrime_{BoxCox} = 0.1328*Population_{log} + 0.5590*Robbery_{has} + 0.3989*Population_{Medium} - 0.1726*Robbery_{log} + 0.4324*\\sqrt[3]{Burglary} + 0.8481*\\sqrt[3]{Larceny} + 0.2094*VehicleTheft\n",
    "\\end{equation}\n"
   ]
  },
  {
   "cell_type": "code",
   "execution_count": 11,
   "metadata": {
    "ExecuteTime": {
     "end_time": "2018-12-13T14:44:38.829351Z",
     "start_time": "2018-12-13T14:44:38.797816Z"
    }
   },
   "outputs": [
    {
     "data": {
      "text/plain": [
       "LinearRegression(copy_X=True, fit_intercept=True, n_jobs=None,\n",
       "         normalize=False)"
      ]
     },
     "execution_count": 11,
     "metadata": {},
     "output_type": "execute_result"
    }
   ],
   "source": [
    "# Now lets see how well we can predict the boxcox transform of property_crime\n",
    "\n",
    "model_vars = ['population_log', 'has_robbery', \n",
    "              'population_medium',\n",
    "              \"robbery_log\", \"burglary_cube_root\",\n",
    "              \"larceny_theft_cube_root\", \"motor_vehicle_theft_log\"]\n",
    "\n",
    "\n",
    "formula = \"property_crime_bc ~ \" + ' + '.join(model_vars)\n",
    "lm_florida = smf.ols(formula=formula, data=florida_train).fit()\n",
    "lm_florida.summary()\n",
    "\n",
    "model = LinearRegression()\n",
    "model.fit(florida_train[model_vars], florida_train[\"property_crime_bc\"])"
   ]
  },
  {
   "cell_type": "code",
   "execution_count": 12,
   "metadata": {
    "ExecuteTime": {
     "end_time": "2018-12-13T14:44:41.621254Z",
     "start_time": "2018-12-13T14:44:41.548748Z"
    }
   },
   "outputs": [
    {
     "name": "stdout",
     "output_type": "stream",
     "text": [
      "Florida: Train\n",
      "-------------------------------------------------------------\n",
      "\n",
      "[0.98927829 0.99120578 0.99214133 0.99412577 0.99172054]\n",
      "cv average is = 99.17%\n",
      "\n",
      "Florida: Test\n",
      "-------------------------------------------------------------\n",
      "\n",
      "[0.98129632 0.98384013 0.99050872 0.98460912 0.94591881]\n",
      "cv average is = 97.72%\n"
     ]
    }
   ],
   "source": [
    "model = LinearRegression()\n",
    "model.fit(florida_train[model_vars], florida_train[\"property_crime_bc\"])\n",
    "\n",
    "y_pred = cross_val_predict(model, florida_train[model_vars], florida_train[\"property_crime_bc\"])\n",
    "cv = cross_val_score(model, florida_train[model_vars], florida_train[\"property_crime_bc\"], cv=5)\n",
    "print(\"Florida: Train\\n-------------------------------------------------------------\\n\")\n",
    "print(cv)\n",
    "print(\"cv average is = {:.2f}%\".format(cv.mean()*100))\n",
    "\n",
    "model = LinearRegression()\n",
    "model.fit(florida_test[model_vars], florida_test[\"property_crime_bc\"])\n",
    "\n",
    "y_pred = cross_val_predict(model, florida_test[model_vars], florida_test[\"property_crime_bc\"])\n",
    "cv = cross_val_score(model, florida_test[model_vars], florida_test[\"property_crime_bc\"], cv=5)\n",
    "print(\"\\nFlorida: Test\\n-------------------------------------------------------------\\n\")\n",
    "print(cv)\n",
    "print(\"cv average is = {:.2f}%\".format(cv.mean()*100))"
   ]
  },
  {
   "cell_type": "code",
   "execution_count": 13,
   "metadata": {
    "ExecuteTime": {
     "end_time": "2018-12-13T14:47:19.313653Z",
     "start_time": "2018-12-13T14:47:19.233036Z"
    }
   },
   "outputs": [
    {
     "name": "stdout",
     "output_type": "stream",
     "text": [
      "Florida: Train\n",
      "-------------------------------------------------------------\n",
      "\n",
      "[0.98142064 0.97498128 0.97110761 0.97513666 0.98209063]\n",
      "cv average is = 97.69%\n",
      "\n",
      "Florida: Test\n",
      "-------------------------------------------------------------\n",
      "\n",
      "[0.97807477 0.96783801 0.97896    0.94942933 0.92304751]\n",
      "cv average is = 95.95%\n"
     ]
    }
   ],
   "source": [
    "model2 = LinearRegression()\n",
    "model2.fit(michigan_train[model_vars], michigan_train[\"property_crime_bc\"])\n",
    "\n",
    "y_pred2 = cross_val_predict(model2, michigan_train[model_vars], michigan_train[\"property_crime_bc\"])\n",
    "cv2 = cross_val_score(model2, michigan_train[model_vars], michigan_train[\"property_crime_bc\"], cv=5)\n",
    "print(\"Michigan: Train\\n-------------------------------------------------------------\\n\")\n",
    "print(cv2)\n",
    "print(\"cv average is = {:.2f}%\".format(cv2.mean()*100))\n",
    "\n",
    "model3 = LinearRegression()\n",
    "model3.fit(michigan_test[model_vars], michigan_test[\"property_crime_bc\"])\n",
    "\n",
    "y_pred3 = cross_val_predict(model3, michigan_test[model_vars], michigan_test[\"property_crime_bc\"])\n",
    "cv3 = cross_val_score(model3, michigan_test[model_vars], michigan_test[\"property_crime_bc\"], cv=5)\n",
    "print(\"\\Michigan: Test\\n-------------------------------------------------------------\\n\")\n",
    "print(cv3)\n",
    "print(\"cv average is = {:.2f}%\".format(cv3.mean()*100))"
   ]
  },
  {
   "cell_type": "code",
   "execution_count": 16,
   "metadata": {
    "ExecuteTime": {
     "end_time": "2018-12-13T14:50:38.892042Z",
     "start_time": "2018-12-13T14:50:38.813888Z"
    }
   },
   "outputs": [
    {
     "name": "stdout",
     "output_type": "stream",
     "text": [
      "North Carolina: Train\n",
      "-------------------------------------------------------------\n",
      "\n",
      "[0.98701665 0.9797715  0.97811143 0.97181197 0.96895229]\n",
      "cv average is = 97.71%\n",
      "\n",
      "North Carolina: Test\n",
      "-------------------------------------------------------------\n",
      "\n",
      "[0.93965604 0.95395873 0.97135466 0.99130652 0.97312872]\n",
      "cv average is = 96.59%\n"
     ]
    }
   ],
   "source": [
    "model4 = LinearRegression()\n",
    "model4.fit(north_carolina_train[model_vars], north_carolina_train[\"property_crime_bc\"])\n",
    "\n",
    "y_pred4 = cross_val_predict(model4, north_carolina_train[model_vars], north_carolina_train[\"property_crime_bc\"])\n",
    "cv4 = cross_val_score(model4, north_carolina_train[model_vars], north_carolina_train[\"property_crime_bc\"], cv=5)\n",
    "print(\"North Carolina: Train\\n-------------------------------------------------------------\\n\")\n",
    "print(cv4)\n",
    "print(\"cv average is = {:.2f}%\".format(cv4.mean()*100))\n",
    "\n",
    "model5 = LinearRegression()\n",
    "model5.fit(michigan_test[model_vars], michigan_test[\"property_crime_bc\"])\n",
    "\n",
    "y_pred5 = cross_val_predict(model4, north_carolina_test[model_vars], north_carolina_test[\"property_crime_bc\"])\n",
    "cv5 = cross_val_score(model4, north_carolina_test[model_vars], north_carolina_test[\"property_crime_bc\"], cv=5)\n",
    "print(\"\\nNorth Carolina: Test\\n-------------------------------------------------------------\\n\")\n",
    "print(cv5)\n",
    "print(\"cv average is = {:.2f}%\".format(cv5.mean()*100))"
   ]
  },
  {
   "cell_type": "code",
   "execution_count": 17,
   "metadata": {
    "ExecuteTime": {
     "end_time": "2018-12-13T14:53:08.200083Z",
     "start_time": "2018-12-13T14:53:08.127413Z"
    }
   },
   "outputs": [
    {
     "name": "stdout",
     "output_type": "stream",
     "text": [
      "Ohio: Train\n",
      "-------------------------------------------------------------\n",
      "\n",
      "[0.97476465 0.95563911 0.98319925 0.9542107  0.98314419]\n",
      "cv average is = 97.02%\n",
      "\n",
      "Ohio: Test\n",
      "-------------------------------------------------------------\n",
      "\n",
      "[0.97142026 0.96997553 0.98234723 0.97019772 0.96543547]\n",
      "cv average is = 97.19%\n"
     ]
    }
   ],
   "source": [
    "model6 = LinearRegression()\n",
    "model6.fit(ohio_train[model_vars], ohio_train[\"property_crime_bc\"])\n",
    "\n",
    "y_pred6 = cross_val_predict(model6, ohio_train[model_vars], ohio_train[\"property_crime_bc\"])\n",
    "cv6 = cross_val_score(model6, ohio_train[model_vars], ohio_train[\"property_crime_bc\"], cv=5)\n",
    "print(\"Ohio: Train\\n-------------------------------------------------------------\\n\")\n",
    "print(cv6)\n",
    "print(\"cv average is = {:.2f}%\".format(cv6.mean()*100))\n",
    "\n",
    "model7 = LinearRegression()\n",
    "model7.fit(michigan_test[model_vars], michigan_test[\"property_crime_bc\"])\n",
    "\n",
    "y_pred7 = cross_val_predict(model7, ohio_test[model_vars], ohio_test[\"property_crime_bc\"])\n",
    "cv7 = cross_val_score(model7, ohio_test[model_vars], ohio_test[\"property_crime_bc\"], cv=5)\n",
    "print(\"\\nOhio: Test\\n-------------------------------------------------------------\\n\")\n",
    "print(cv7)\n",
    "print(\"cv average is = {:.2f}%\".format(cv7.mean()*100))"
   ]
  }
 ],
 "metadata": {
  "kernelspec": {
   "display_name": "Python 3",
   "language": "python",
   "name": "python3"
  },
  "language_info": {
   "codemirror_mode": {
    "name": "ipython",
    "version": 3
   },
   "file_extension": ".py",
   "mimetype": "text/x-python",
   "name": "python",
   "nbconvert_exporter": "python",
   "pygments_lexer": "ipython3",
   "version": "3.6.7"
  },
  "latex_envs": {
   "LaTeX_envs_menu_present": true,
   "autoclose": false,
   "autocomplete": true,
   "bibliofile": "biblio.bib",
   "cite_by": "apalike",
   "current_citInitial": 1,
   "eqLabelWithNumbers": true,
   "eqNumInitial": 1,
   "hotkeys": {
    "equation": "Ctrl-E",
    "itemize": "Ctrl-I"
   },
   "labels_anchors": false,
   "latex_user_defs": false,
   "report_style_numbering": false,
   "user_envs_cfg": false
  },
  "toc": {
   "base_numbering": 1,
   "nav_menu": {},
   "number_sections": true,
   "sideBar": true,
   "skip_h1_title": false,
   "title_cell": "Table of Contents",
   "title_sidebar": "Contents",
   "toc_cell": false,
   "toc_position": {},
   "toc_section_display": true,
   "toc_window_display": false
  },
  "varInspector": {
   "cols": {
    "lenName": 16,
    "lenType": 16,
    "lenVar": 40
   },
   "kernels_config": {
    "python": {
     "delete_cmd_postfix": "",
     "delete_cmd_prefix": "del ",
     "library": "var_list.py",
     "varRefreshCmd": "print(var_dic_list())"
    },
    "r": {
     "delete_cmd_postfix": ") ",
     "delete_cmd_prefix": "rm(",
     "library": "var_list.r",
     "varRefreshCmd": "cat(var_dic_list()) "
    }
   },
   "types_to_exclude": [
    "module",
    "function",
    "builtin_function_or_method",
    "instance",
    "_Feature"
   ],
   "window_display": false
  }
 },
 "nbformat": 4,
 "nbformat_minor": 2
}
