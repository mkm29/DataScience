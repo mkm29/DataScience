{
 "cells": [
  {
   "cell_type": "code",
   "execution_count": 6,
   "metadata": {
    "ExecuteTime": {
     "end_time": "2018-12-16T19:28:38.955682Z",
     "start_time": "2018-12-16T19:28:38.947136Z"
    }
   },
   "outputs": [],
   "source": [
    "from crime_util import *"
   ]
  },
  {
   "cell_type": "code",
   "execution_count": 7,
   "metadata": {
    "ExecuteTime": {
     "end_time": "2018-12-16T19:28:46.638432Z",
     "start_time": "2018-12-16T19:28:46.632364Z"
    }
   },
   "outputs": [],
   "source": [
    "import warnings\n",
    "\n",
    "# Display preferences.\n",
    "%matplotlib inline\n",
    "pd.options.display.float_format = '{:.3f}'.format\n",
    "\n",
    "# Suppress annoying harmless error.\n",
    "warnings.simplefilter(action='ignore', category=FutureWarning)"
   ]
  },
  {
   "cell_type": "markdown",
   "metadata": {},
   "source": [
    "# Data\n",
    "\n",
    "## Import\n",
    "\n",
    "I originally built my models from Florida crime data (2017), and will use crime data from Michigan, North Carolina and Ohio to validate the models."
   ]
  },
  {
   "cell_type": "code",
   "execution_count": 8,
   "metadata": {
    "ExecuteTime": {
     "end_time": "2018-12-16T19:29:15.536640Z",
     "start_time": "2018-12-16T19:29:15.388780Z"
    }
   },
   "outputs": [],
   "source": [
    "(florida, michigan, nc, ohio) = read_data()"
   ]
  },
  {
   "cell_type": "code",
   "execution_count": 9,
   "metadata": {
    "ExecuteTime": {
     "end_time": "2018-12-16T19:29:17.916495Z",
     "start_time": "2018-12-16T19:29:17.904795Z"
    }
   },
   "outputs": [
    {
     "data": {
      "text/plain": [
       "count     255.000\n",
       "mean    18254.416\n",
       "std     19431.924\n",
       "min        92.000\n",
       "25%      3620.000\n",
       "50%     10679.000\n",
       "75%     24929.500\n",
       "max     79918.000\n",
       "Name: population, dtype: float64"
      ]
     },
     "execution_count": 9,
     "metadata": {},
     "output_type": "execute_result"
    }
   ],
   "source": [
    "florida.population.describe()"
   ]
  },
  {
   "cell_type": "markdown",
   "metadata": {},
   "source": [
    "## Transform\n",
    "\n",
    "I previously conducted [research](https://github.com/mkm29/DataScience/blob/master/thinkful/unit/2/4/challenge_crime_regression.ipynb) into optimal feature engineering, so I am simply going to use only the transformations that I ended up using in my models."
   ]
  },
  {
   "cell_type": "code",
   "execution_count": 10,
   "metadata": {
    "ExecuteTime": {
     "end_time": "2018-12-16T19:29:33.998807Z",
     "start_time": "2018-12-16T19:29:33.597240Z"
    }
   },
   "outputs": [],
   "source": [
    "florida = transform_data(florida)\n",
    "michigan = transform_data(michigan)\n",
    "nc = transform_data(nc)\n",
    "ohio = transform_data(ohio)"
   ]
  },
  {
   "cell_type": "code",
   "execution_count": 11,
   "metadata": {
    "ExecuteTime": {
     "end_time": "2018-12-16T19:31:06.792104Z",
     "start_time": "2018-12-16T19:31:06.773765Z"
    }
   },
   "outputs": [
    {
     "name": "stdout",
     "output_type": "stream",
     "text": [
      "Box-Cox Lambda's\n",
      "******************\n",
      "Florida: 0.1587\n",
      "Michigan: 0.0884\n",
      "North Carolina: 0.0747\n",
      "Ohio: 0.0757\n"
     ]
    }
   ],
   "source": [
    "# Property crime is not linear with population. It starts off linear, however at a certain point\n",
    "# it begind to \"flatten\" out, so we Box-cox transformed the property crime variable\n",
    "# (those cases where property crime is 0 we added 1)\n",
    "# add Box-Cox property crime\n",
    "florida, florida_bc_lambda = boxcox_transform(florida)\n",
    "michigan, michigan_bc_lambda = boxcox_transform(michigan)\n",
    "nc, nc_bc_lambda = boxcox_transform(nc)\n",
    "ohio, ohio_bc_lambda = boxcox_transform(ohio)\n",
    "\n",
    "print(\"Box-Cox Lambda's\\n******************\")\n",
    "print(\"Florida: {:.4f}\".format(florida_bc_lambda))\n",
    "print(\"Michigan: {:.4f}\".format(michigan_bc_lambda))\n",
    "print(\"North Carolina: {:.4f}\".format(nc_bc_lambda))\n",
    "print(\"Ohio: {:.4f}\".format(ohio_bc_lambda))"
   ]
  },
  {
   "cell_type": "code",
   "execution_count": 19,
   "metadata": {
    "ExecuteTime": {
     "end_time": "2018-12-16T19:34:25.925428Z",
     "start_time": "2018-12-16T19:34:25.293853Z"
    }
   },
   "outputs": [
    {
     "data": {
      "image/png": "[encoded data removed]",
      "text/plain": [
       "<Figure size 432x288 with 1 Axes>"
      ]
     },
     "metadata": {
      "needs_background": "light"
     },
     "output_type": "display_data"
    },
    {
     "data": {
      "image/png": "[encoded data removed]",
      "text/plain": [
       "<Figure size 432x288 with 1 Axes>"
      ]
     },
     "metadata": {
      "needs_background": "light"
     },
     "output_type": "display_data"
    },
    {
     "data": {
      "image/png": "[encoded data removed]",
      "text/plain": [
       "<Figure size 432x288 with 1 Axes>"
      ]
     },
     "metadata": {
      "needs_background": "light"
     },
     "output_type": "display_data"
    },
    {
     "data": {
      "image/png": "[encoded data removed]",
      "text/plain": [
       "<Figure size 432x288 with 1 Axes>"
      ]
     },
     "metadata": {
      "needs_background": "light"
     },
     "output_type": "display_data"
    }
   ],
   "source": [
    "plt.scatter(florida[\"property_crime_log\"], florida[\"property_crime_bc\"])\n",
    "plt.show()\n",
    "plt.scatter(michigan[\"property_crime_log\"], michigan[\"property_crime_bc\"])\n",
    "plt.show()\n",
    "plt.scatter(nc[\"property_crime_log\"], nc[\"property_crime_bc\"])\n",
    "plt.show()\n",
    "plt.scatter(ohio[\"property_crime_log\"], ohio[\"property_crime_bc\"])\n",
    "plt.show()"
   ]
  },
  {
   "cell_type": "markdown",
   "metadata": {},
   "source": [
    "## Split\n",
    "\n",
    "Split each state's data into a train and test set."
   ]
  },
  {
   "cell_type": "code",
   "execution_count": 20,
   "metadata": {
    "ExecuteTime": {
     "end_time": "2018-12-16T19:34:40.262578Z",
     "start_time": "2018-12-16T19:34:40.247197Z"
    }
   },
   "outputs": [],
   "source": [
    "florida_train, florida_test = split(florida)\n",
    "michigan_train, michigan_test = split(michigan)\n",
    "nc_train, nc_test = split(nc)\n",
    "ohio_train, ohio_test = split(ohio)"
   ]
  },
  {
   "cell_type": "markdown",
   "metadata": {},
   "source": [
    "# Model\n",
    "\n",
    "For this exercise, we are simply going to use model 3 from the previous exercise:\n",
    "\n",
    "\\begin{equation}\\label{eq:}\n",
    "PropertyCrime_{BoxCox} = 0.1328*Population_{log} + 0.5590*Robbery_{has} + 0.3989*Population_{Medium} - 0.1726*Robbery_{log} + 0.4324*\\sqrt[3]{Burglary} + 0.8481*\\sqrt[3]{Larceny} + 0.2094*VehicleTheft\n",
    "\\end{equation}\n"
   ]
  },
  {
   "cell_type": "code",
   "execution_count": 21,
   "metadata": {
    "ExecuteTime": {
     "end_time": "2018-12-16T19:35:00.477110Z",
     "start_time": "2018-12-16T19:35:00.404147Z"
    }
   },
   "outputs": [
    {
     "name": "stdout",
     "output_type": "stream",
     "text": [
      "-----\n",
      "TRAIN\n",
      "-----\n",
      "                             OLS Regression Results                            \n",
      "==============================================================================\n",
      "Dep. Variable:      property_crime_bc   R-squared:                       0.992\n",
      "Model:                            OLS   Adj. R-squared:                  0.991\n",
      "Method:                 Least Squares   F-statistic:                     2843.\n",
      "Date:                Sun, 16 Dec 2018   Prob (F-statistic):          1.52e-172\n",
      "Time:                        14:35:00   Log-Likelihood:                -64.272\n",
      "No. Observations:                 178   AIC:                             144.5\n",
      "Df Residuals:                     170   BIC:                             170.0\n",
      "Df Model:                           7                                         \n",
      "Covariance Type:            nonrobust                                         \n",
      "===========================================================================================\n",
      "                              coef    std err          t      P>|t|      [0.025      0.975]\n",
      "-------------------------------------------------------------------------------------------\n",
      "Intercept                  -2.2802      0.402     -5.677      0.000      -3.073      -1.487\n",
      "population_group[T.2]      -0.3251      0.106     -3.080      0.002      -0.534      -0.117\n",
      "population_group[T.3]      -0.8724      0.124     -7.062      0.000      -1.116      -0.629\n",
      "population_group[T.4]      -1.2815      0.147     -8.731      0.000      -1.571      -0.992\n",
      "population_group[T.5]      -1.5083      0.165     -9.129      0.000      -1.834      -1.182\n",
      "population_log              0.4745      0.056      8.430      0.000       0.363       0.586\n",
      "burglary_cube_root          0.4098      0.043      9.532      0.000       0.325       0.495\n",
      "larceny_theft_cube_root     0.9117      0.028     32.055      0.000       0.856       0.968\n",
      "==============================================================================\n",
      "Omnibus:                       50.981   Durbin-Watson:                   2.037\n",
      "Prob(Omnibus):                  0.000   Jarque-Bera (JB):              129.762\n",
      "Skew:                          -1.213   Prob(JB):                     6.65e-29\n",
      "Kurtosis:                       6.407   Cond. No.                         194.\n",
      "==============================================================================\n",
      "\n",
      "Warnings:\n",
      "[1] Standard Errors assume that the covariance matrix of the errors is correctly specified.\n",
      "-----\n",
      "TEST\n",
      "-----\n",
      "                             OLS Regression Results                            \n",
      "==============================================================================\n",
      "Dep. Variable:      property_crime_bc   R-squared:                       0.987\n",
      "Model:                            OLS   Adj. R-squared:                  0.986\n",
      "Method:                 Least Squares   F-statistic:                     766.3\n",
      "Date:                Sun, 16 Dec 2018   Prob (F-statistic):           8.81e-63\n",
      "Time:                        14:35:00   Log-Likelihood:                -27.119\n",
      "No. Observations:                  77   AIC:                             70.24\n",
      "Df Residuals:                      69   BIC:                             88.99\n",
      "Df Model:                           7                                         \n",
      "Covariance Type:            nonrobust                                         \n",
      "===========================================================================================\n",
      "                              coef    std err          t      P>|t|      [0.025      0.975]\n",
      "-------------------------------------------------------------------------------------------\n",
      "Intercept                  -2.0296      0.493     -4.118      0.000      -3.013      -1.046\n",
      "population_group[T.2]      -0.4336      0.131     -3.321      0.001      -0.694      -0.173\n",
      "population_group[T.3]      -0.8592      0.199     -4.326      0.000      -1.255      -0.463\n",
      "population_group[T.4]      -2.4956      0.436     -5.723      0.000      -3.365      -1.626\n",
      "population_group[T.5]      -1.4227      0.305     -4.664      0.000      -2.031      -0.814\n",
      "population_log              0.4463      0.069      6.514      0.000       0.310       0.583\n",
      "burglary_cube_root          0.3959      0.069      5.776      0.000       0.259       0.533\n",
      "larceny_theft_cube_root     0.9430      0.050     18.902      0.000       0.843       1.043\n",
      "==============================================================================\n",
      "Omnibus:                       12.086   Durbin-Watson:                   2.064\n",
      "Prob(Omnibus):                  0.002   Jarque-Bera (JB):               24.154\n",
      "Skew:                           0.466   Prob(JB):                     5.69e-06\n",
      "Kurtosis:                       5.581   Cond. No.                         151.\n",
      "==============================================================================\n",
      "\n",
      "Warnings:\n",
      "[1] Standard Errors assume that the covariance matrix of the errors is correctly specified.\n"
     ]
    }
   ],
   "source": [
    "model_florida_train, model_florida_test = build_model(florida_train, florida_test)"
   ]
  },
  {
   "cell_type": "code",
   "execution_count": 22,
   "metadata": {
    "ExecuteTime": {
     "end_time": "2018-12-16T19:35:11.224632Z",
     "start_time": "2018-12-16T19:35:11.167276Z"
    }
   },
   "outputs": [
    {
     "name": "stdout",
     "output_type": "stream",
     "text": [
      "-----\n",
      "TRAIN\n",
      "-----\n",
      "                             OLS Regression Results                            \n",
      "==============================================================================\n",
      "Dep. Variable:      property_crime_bc   R-squared:                       0.978\n",
      "Model:                            OLS   Adj. R-squared:                  0.977\n",
      "Method:                 Least Squares   F-statistic:                     1623.\n",
      "Date:                Sun, 16 Dec 2018   Prob (F-statistic):          1.11e-208\n",
      "Time:                        14:35:11   Log-Likelihood:                -69.424\n",
      "No. Observations:                 265   AIC:                             154.8\n",
      "Df Residuals:                     257   BIC:                             183.5\n",
      "Df Model:                           7                                         \n",
      "Covariance Type:            nonrobust                                         \n",
      "===========================================================================================\n",
      "                              coef    std err          t      P>|t|      [0.025      0.975]\n",
      "-------------------------------------------------------------------------------------------\n",
      "Intercept                  -1.7276      0.255     -6.769      0.000      -2.230      -1.225\n",
      "population_group[T.2]      -0.2821      0.069     -4.079      0.000      -0.418      -0.146\n",
      "population_group[T.3]      -0.5292      0.111     -4.760      0.000      -0.748      -0.310\n",
      "population_group[T.4]      -1.1877      0.134     -8.869      0.000      -1.451      -0.924\n",
      "population_group[T.5]      -1.5181      0.148    -10.245      0.000      -1.810      -1.226\n",
      "population_log              0.3152      0.036      8.644      0.000       0.243       0.387\n",
      "burglary_cube_root          0.2755      0.033      8.358      0.000       0.211       0.340\n",
      "larceny_theft_cube_root     0.9272      0.025     37.780      0.000       0.879       0.976\n",
      "==============================================================================\n",
      "Omnibus:                      109.543   Durbin-Watson:                   1.938\n",
      "Prob(Omnibus):                  0.000   Jarque-Bera (JB):              493.791\n",
      "Skew:                          -1.663   Prob(JB):                    5.95e-108\n",
      "Kurtosis:                       8.802   Cond. No.                         139.\n",
      "==============================================================================\n",
      "\n",
      "Warnings:\n",
      "[1] Standard Errors assume that the covariance matrix of the errors is correctly specified.\n",
      "-----\n",
      "TEST\n",
      "-----\n",
      "                             OLS Regression Results                            \n",
      "==============================================================================\n",
      "Dep. Variable:      property_crime_bc   R-squared:                       0.975\n",
      "Model:                            OLS   Adj. R-squared:                  0.973\n",
      "Method:                 Least Squares   F-statistic:                     589.2\n",
      "Date:                Sun, 16 Dec 2018   Prob (F-statistic):           8.71e-82\n",
      "Time:                        14:35:11   Log-Likelihood:                -43.460\n",
      "No. Observations:                 114   AIC:                             102.9\n",
      "Df Residuals:                     106   BIC:                             124.8\n",
      "Df Model:                           7                                         \n",
      "Covariance Type:            nonrobust                                         \n",
      "===========================================================================================\n",
      "                              coef    std err          t      P>|t|      [0.025      0.975]\n",
      "-------------------------------------------------------------------------------------------\n",
      "Intercept                  -1.2667      0.460     -2.756      0.007      -2.178      -0.355\n",
      "population_group[T.2]      -0.2036      0.124     -1.645      0.103      -0.449       0.042\n",
      "population_group[T.3]      -0.4227      0.160     -2.642      0.009      -0.740      -0.106\n",
      "population_group[T.4]      -0.8838      0.229     -3.852      0.000      -1.339      -0.429\n",
      "population_group[T.5]      -1.2435      0.248     -5.020      0.000      -1.735      -0.752\n",
      "population_log              0.2480      0.063      3.964      0.000       0.124       0.372\n",
      "burglary_cube_root          0.2552      0.060      4.232      0.000       0.136       0.375\n",
      "larceny_theft_cube_root     0.9453      0.034     27.917      0.000       0.878       1.012\n",
      "==============================================================================\n",
      "Omnibus:                       29.709   Durbin-Watson:                   2.129\n",
      "Prob(Omnibus):                  0.000   Jarque-Bera (JB):               50.731\n",
      "Skew:                          -1.153   Prob(JB):                     9.64e-12\n",
      "Kurtosis:                       5.315   Cond. No.                         147.\n",
      "==============================================================================\n",
      "\n",
      "Warnings:\n",
      "[1] Standard Errors assume that the covariance matrix of the errors is correctly specified.\n"
     ]
    }
   ],
   "source": [
    "model_michigan_train, model_michigan_test = build_model(michigan_train, michigan_test)"
   ]
  },
  {
   "cell_type": "markdown",
   "metadata": {
    "ExecuteTime": {
     "end_time": "2018-12-13T14:47:19.313653Z",
     "start_time": "2018-12-13T14:47:19.233036Z"
    }
   },
   "source": [
    "*So for the state of Michigan, the second population group is less important on predicting property crime than Florida.*"
   ]
  },
  {
   "cell_type": "code",
   "execution_count": 23,
   "metadata": {
    "ExecuteTime": {
     "end_time": "2018-12-16T19:35:35.600229Z",
     "start_time": "2018-12-16T19:35:35.544369Z"
    }
   },
   "outputs": [
    {
     "name": "stdout",
     "output_type": "stream",
     "text": [
      "-----\n",
      "TRAIN\n",
      "-----\n",
      "                             OLS Regression Results                            \n",
      "==============================================================================\n",
      "Dep. Variable:      property_crime_bc   R-squared:                       0.979\n",
      "Model:                            OLS   Adj. R-squared:                  0.977\n",
      "Method:                 Least Squares   F-statistic:                     723.2\n",
      "Date:                Sun, 16 Dec 2018   Prob (F-statistic):           7.30e-89\n",
      "Time:                        14:35:35   Log-Likelihood:                -4.6175\n",
      "No. Observations:                 118   AIC:                             25.23\n",
      "Df Residuals:                     110   BIC:                             47.40\n",
      "Df Model:                           7                                         \n",
      "Covariance Type:            nonrobust                                         \n",
      "===========================================================================================\n",
      "                              coef    std err          t      P>|t|      [0.025      0.975]\n",
      "-------------------------------------------------------------------------------------------\n",
      "Intercept                  -0.3465      0.309     -1.120      0.265      -0.960       0.267\n",
      "population_group[T.2]      -0.3547      0.081     -4.361      0.000      -0.516      -0.194\n",
      "population_group[T.3]      -0.6984      0.144     -4.841      0.000      -0.984      -0.413\n",
      "population_group[T.4]      -0.8300      0.160     -5.199      0.000      -1.146      -0.514\n",
      "population_group[T.5]      -1.1360      0.212     -5.348      0.000      -1.557      -0.715\n",
      "population_log              0.2764      0.045      6.179      0.000       0.188       0.365\n",
      "burglary_cube_root          0.2718      0.033      8.288      0.000       0.207       0.337\n",
      "larceny_theft_cube_root     0.6578      0.026     25.049      0.000       0.606       0.710\n",
      "==============================================================================\n",
      "Omnibus:                        9.768   Durbin-Watson:                   2.105\n",
      "Prob(Omnibus):                  0.008   Jarque-Bera (JB):               10.029\n",
      "Skew:                          -0.591   Prob(JB):                      0.00664\n",
      "Kurtosis:                       3.801   Cond. No.                         152.\n",
      "==============================================================================\n",
      "\n",
      "Warnings:\n",
      "[1] Standard Errors assume that the covariance matrix of the errors is correctly specified.\n",
      "-----\n",
      "TEST\n",
      "-----\n",
      "                             OLS Regression Results                            \n",
      "==============================================================================\n",
      "Dep. Variable:      property_crime_bc   R-squared:                       0.979\n",
      "Model:                            OLS   Adj. R-squared:                  0.976\n",
      "Method:                 Least Squares   F-statistic:                     288.1\n",
      "Date:                Sun, 16 Dec 2018   Prob (F-statistic):           5.56e-34\n",
      "Time:                        14:35:35   Log-Likelihood:                -3.3146\n",
      "No. Observations:                  51   AIC:                             22.63\n",
      "Df Residuals:                      43   BIC:                             38.08\n",
      "Df Model:                           7                                         \n",
      "Covariance Type:            nonrobust                                         \n",
      "===========================================================================================\n",
      "                              coef    std err          t      P>|t|      [0.025      0.975]\n",
      "-------------------------------------------------------------------------------------------\n",
      "Intercept                  -0.6518      0.711     -0.916      0.365      -2.086       0.783\n",
      "population_group[T.2]      -0.3750      0.162     -2.314      0.025      -0.702      -0.048\n",
      "population_group[T.3]      -0.7258      0.237     -3.057      0.004      -1.205      -0.247\n",
      "population_group[T.4]      -1.0723      0.265     -4.039      0.000      -1.608      -0.537\n",
      "population_group[T.5]      -1.4180      0.327     -4.332      0.000      -2.078      -0.758\n",
      "population_log              0.3463      0.098      3.536      0.001       0.149       0.544\n",
      "burglary_cube_root          0.2947      0.047      6.258      0.000       0.200       0.390\n",
      "larceny_theft_cube_root     0.6052      0.041     14.726      0.000       0.522       0.688\n",
      "==============================================================================\n",
      "Omnibus:                       25.134   Durbin-Watson:                   2.072\n",
      "Prob(Omnibus):                  0.000   Jarque-Bera (JB):               56.252\n",
      "Skew:                          -1.367   Prob(JB):                     6.10e-13\n",
      "Kurtosis:                       7.358   Cond. No.                         226.\n",
      "==============================================================================\n",
      "\n",
      "Warnings:\n",
      "[1] Standard Errors assume that the covariance matrix of the errors is correctly specified.\n"
     ]
    }
   ],
   "source": [
    "model_nc_train, model_nc_test = build_model(nc_train, nc_test)"
   ]
  },
  {
   "cell_type": "code",
   "execution_count": 24,
   "metadata": {
    "ExecuteTime": {
     "end_time": "2018-12-16T19:35:51.643089Z",
     "start_time": "2018-12-16T19:35:51.483692Z"
    }
   },
   "outputs": [
    {
     "name": "stdout",
     "output_type": "stream",
     "text": [
      "-----\n",
      "TRAIN\n",
      "-----\n",
      "                             OLS Regression Results                            \n",
      "==============================================================================\n",
      "Dep. Variable:      property_crime_bc   R-squared:                       0.971\n",
      "Model:                            OLS   Adj. R-squared:                  0.970\n",
      "Method:                 Least Squares   F-statistic:                     1076.\n",
      "Date:                Sun, 16 Dec 2018   Prob (F-statistic):          4.25e-169\n",
      "Time:                        14:35:51   Log-Likelihood:                -73.730\n",
      "No. Observations:                 233   AIC:                             163.5\n",
      "Df Residuals:                     225   BIC:                             191.1\n",
      "Df Model:                           7                                         \n",
      "Covariance Type:            nonrobust                                         \n",
      "===========================================================================================\n",
      "                              coef    std err          t      P>|t|      [0.025      0.975]\n",
      "-------------------------------------------------------------------------------------------\n",
      "Intercept                  -0.9274      0.408     -2.274      0.024      -1.731      -0.124\n",
      "population_group[T.2]      -0.1268      0.083     -1.523      0.129      -0.291       0.037\n",
      "population_group[T.3]      -0.3984      0.113     -3.518      0.001      -0.622      -0.175\n",
      "population_group[T.4]      -0.6629      0.146     -4.538      0.000      -0.951      -0.375\n",
      "population_group[T.5]      -0.8030      0.154     -5.226      0.000      -1.106      -0.500\n",
      "population_log              0.2989      0.052      5.712      0.000       0.196       0.402\n",
      "burglary_cube_root          0.2122      0.033      6.391      0.000       0.147       0.278\n",
      "larceny_theft_cube_root     0.7390      0.022     34.017      0.000       0.696       0.782\n",
      "==============================================================================\n",
      "Omnibus:                       49.934   Durbin-Watson:                   2.050\n",
      "Prob(Omnibus):                  0.000   Jarque-Bera (JB):              150.000\n",
      "Skew:                          -0.893   Prob(JB):                     2.68e-33\n",
      "Kurtosis:                       6.501   Cond. No.                         218.\n",
      "==============================================================================\n",
      "\n",
      "Warnings:\n",
      "[1] Standard Errors assume that the covariance matrix of the errors is correctly specified.\n",
      "-----\n",
      "TEST\n",
      "-----\n",
      "                             OLS Regression Results                            \n",
      "==============================================================================\n",
      "Dep. Variable:      property_crime_bc   R-squared:                       0.972\n",
      "Model:                            OLS   Adj. R-squared:                  0.970\n",
      "Method:                 Least Squares   F-statistic:                     458.7\n",
      "Date:                Sun, 16 Dec 2018   Prob (F-statistic):           1.29e-68\n",
      "Time:                        14:35:51   Log-Likelihood:                -13.131\n",
      "No. Observations:                 100   AIC:                             42.26\n",
      "Df Residuals:                      92   BIC:                             63.10\n",
      "Df Model:                           7                                         \n",
      "Covariance Type:            nonrobust                                         \n",
      "===========================================================================================\n",
      "                              coef    std err          t      P>|t|      [0.025      0.975]\n",
      "-------------------------------------------------------------------------------------------\n",
      "Intercept                   0.2393      0.583      0.411      0.682      -0.918       1.396\n",
      "population_group[T.2]      -0.0440      0.108     -0.409      0.684      -0.258       0.170\n",
      "population_group[T.3]      -0.5068      0.157     -3.229      0.002      -0.819      -0.195\n",
      "population_group[T.4]      -0.3724      0.222     -1.680      0.096      -0.813       0.068\n",
      "population_group[T.5]      -0.3239      0.330     -0.982      0.329      -0.979       0.331\n",
      "population_log              0.1259      0.076      1.666      0.099      -0.024       0.276\n",
      "burglary_cube_root          0.2184      0.050      4.406      0.000       0.120       0.317\n",
      "larceny_theft_cube_root     0.8109      0.038     21.578      0.000       0.736       0.886\n",
      "==============================================================================\n",
      "Omnibus:                       27.892   Durbin-Watson:                   1.999\n",
      "Prob(Omnibus):                  0.000   Jarque-Bera (JB):               41.746\n",
      "Skew:                          -1.287   Prob(JB):                     8.61e-10\n",
      "Kurtosis:                       4.842   Cond. No.                         225.\n",
      "==============================================================================\n",
      "\n",
      "Warnings:\n",
      "[1] Standard Errors assume that the covariance matrix of the errors is correctly specified.\n"
     ]
    }
   ],
   "source": [
    "model_ohio_train, model_ohio_test = build_model(ohio_train, ohio_test)"
   ]
  },
  {
   "cell_type": "markdown",
   "metadata": {},
   "source": [
    "*For the state of Ohio, population groups 2 and 5 are not statistically significant for this model, as is population log.*"
   ]
  },
  {
   "cell_type": "code",
   "execution_count": 25,
   "metadata": {
    "ExecuteTime": {
     "end_time": "2018-12-16T19:36:19.726590Z",
     "start_time": "2018-12-16T19:36:19.636141Z"
    }
   },
   "outputs": [
    {
     "name": "stdout",
     "output_type": "stream",
     "text": [
      "Florida (Train)\n",
      "-------------------------------------------------------------\n",
      "\n",
      "[0.98802228 0.99355375 0.98685684 0.99299431 0.9918634 ]\n",
      "cv average is = 99.07%\n",
      "Mean Residual: -15.832161302097354\n",
      "RMSE: 117.39055717336542\n",
      "Average Error: 49.873277619039975\n",
      "\n",
      "Florida (Test)\n",
      "-------------------------------------------------------------\n",
      "\n",
      "[0.96627775 0.98187414 0.94319806 0.9875762  0.97108743]\n",
      "cv average is = 97.00%\n",
      "Mean Residual: -16.305567326825862\n",
      "RMSE: 163.15553195825035\n",
      "Average Error: 50.26135044953447\n",
      "\n"
     ]
    }
   ],
   "source": [
    "florida[\"residuals_train\"] = evaluate_model(model_florida_train, florida_train, florida_bc_lambda, \"Florida (Train)\")\n",
    "florida[\"residuals_test\"] = evaluate_model(model_florida_test, florida_test, florida_bc_lambda, \"Florida (Test)\")"
   ]
  },
  {
   "cell_type": "code",
   "execution_count": 26,
   "metadata": {
    "ExecuteTime": {
     "end_time": "2018-12-16T19:36:29.486126Z",
     "start_time": "2018-12-16T19:36:29.387940Z"
    }
   },
   "outputs": [
    {
     "name": "stdout",
     "output_type": "stream",
     "text": [
      "Michigan (Train)\n",
      "-------------------------------------------------------------\n",
      "\n",
      "[0.97712176 0.97798051 0.95496192 0.97324833 0.98320281]\n",
      "cv average is = 97.33%\n",
      "Mean Residual: -12.6315505020503\n",
      "RMSE: 101.93706116052121\n",
      "Average Error: 27.565430780597712\n",
      "\n",
      "Michigan (Test)\n",
      "-------------------------------------------------------------\n",
      "\n",
      "[0.9597424  0.93340758 0.98021523 0.98062448 0.97121825]\n",
      "cv average is = 96.50%\n",
      "Mean Residual: -25.70657590486674\n",
      "RMSE: 200.75913024111986\n",
      "Average Error: 42.47778172095505\n",
      "\n"
     ]
    }
   ],
   "source": [
    "michigan[\"residuals_train\"] = evaluate_model(model_michigan_train, michigan_train, michigan_bc_lambda, \"Michigan (Train)\")\n",
    "michigan[\"residuals_test\"] = evaluate_model(model_michigan_test, michigan_test, michigan_bc_lambda, \"Michigan (Test)\")"
   ]
  },
  {
   "cell_type": "code",
   "execution_count": 27,
   "metadata": {
    "ExecuteTime": {
     "end_time": "2018-12-16T19:36:39.449181Z",
     "start_time": "2018-12-16T19:36:39.357293Z"
    }
   },
   "outputs": [
    {
     "name": "stdout",
     "output_type": "stream",
     "text": [
      "North Carolina (Train)\n",
      "-------------------------------------------------------------\n",
      "\n",
      "[0.98276256 0.95810304 0.97650167 0.97387176 0.97393562]\n",
      "cv average is = 97.30%\n",
      "Mean Residual: -11.880686203115351\n",
      "RMSE: 95.29617943949341\n",
      "Average Error: 36.31838479084797\n",
      "\n",
      "North Carolina (Test)\n",
      "-------------------------------------------------------------\n",
      "\n",
      "[0.98179468 0.94522469 0.98337091 0.97540822 0.96959419]\n",
      "cv average is = 97.11%\n",
      "Mean Residual: -14.416297161797587\n",
      "RMSE: 118.31340555212634\n",
      "Average Error: 55.2514883278376\n",
      "\n"
     ]
    }
   ],
   "source": [
    "nc[\"residuals_train\"] = evaluate_model(model_nc_train, nc_train, nc_bc_lambda, \"North Carolina (Train)\")\n",
    "nc[\"residuals_test\"] = evaluate_model(model_nc_test, nc_test, nc_bc_lambda, \"North Carolina (Test)\")"
   ]
  },
  {
   "cell_type": "code",
   "execution_count": 28,
   "metadata": {
    "ExecuteTime": {
     "end_time": "2018-12-16T19:36:48.515480Z",
     "start_time": "2018-12-16T19:36:48.427692Z"
    }
   },
   "outputs": [
    {
     "name": "stdout",
     "output_type": "stream",
     "text": [
      "Ohio (Train)\n",
      "-------------------------------------------------------------\n",
      "\n",
      "[0.96664621 0.95729597 0.98096973 0.95380925 0.98014758]\n",
      "cv average is = 96.78%\n",
      "Mean Residual: -25.003103025071226\n",
      "RMSE: 167.1677011672147\n",
      "Average Error: 53.661805620093524\n",
      "\n",
      "Ohio (Test)\n",
      "-------------------------------------------------------------\n",
      "\n",
      "[0.95505202 0.94616295 0.96585903 0.95475216 0.99101635]\n",
      "cv average is = 96.26%\n",
      "Mean Residual: -20.210918944062012\n",
      "RMSE: 154.94913987646294\n",
      "Average Error: 39.11477888948355\n",
      "\n"
     ]
    }
   ],
   "source": [
    "ohio[\"residuals_train\"] = evaluate_model(model_ohio_train, ohio_train, ohio_bc_lambda, \"Ohio (Train)\")\n",
    "ohio[\"residuals_test\"] = evaluate_model(model_ohio_test, ohio_test, ohio_bc_lambda, \"Ohio (Test)\")"
   ]
  },
  {
   "cell_type": "markdown",
   "metadata": {},
   "source": [
    "## Residual Analysis"
   ]
  },
  {
   "cell_type": "markdown",
   "metadata": {},
   "source": [
    "### Florida"
   ]
  },
  {
   "cell_type": "code",
   "execution_count": 29,
   "metadata": {
    "ExecuteTime": {
     "end_time": "2018-12-16T19:37:06.697111Z",
     "start_time": "2018-12-16T19:37:06.689705Z"
    }
   },
   "outputs": [
    {
     "data": {
      "text/plain": [
       "1.2266756762021922"
      ]
     },
     "execution_count": 29,
     "metadata": {},
     "output_type": "execute_result"
    }
   ],
   "source": [
    "florida_residuals = np.concatenate((florida[\"residuals_train\"].dropna().values, florida[\"residuals_test\"].dropna().values))\n",
    "florida_percent_off = (florida[\"property_crime_2\"] - florida_residuals) / florida[\"property_crime_2\"]\n",
    "np.abs(florida_percent_off).sum() / florida_percent_off.shape[0]"
   ]
  },
  {
   "cell_type": "code",
   "execution_count": 30,
   "metadata": {
    "ExecuteTime": {
     "end_time": "2018-12-16T19:37:12.969639Z",
     "start_time": "2018-12-16T19:37:12.963853Z"
    }
   },
   "outputs": [
    {
     "data": {
      "text/plain": [
       "0.4823529411764706"
      ]
     },
     "execution_count": 30,
     "metadata": {},
     "output_type": "execute_result"
    }
   ],
   "source": [
    "(florida_residuals<0).sum()/florida_residuals.shape[0]"
   ]
  },
  {
   "cell_type": "markdown",
   "metadata": {},
   "source": [
    "### Michigan"
   ]
  },
  {
   "cell_type": "code",
   "execution_count": 31,
   "metadata": {
    "ExecuteTime": {
     "end_time": "2018-12-16T19:37:59.809282Z",
     "start_time": "2018-12-16T19:37:59.800250Z"
    }
   },
   "outputs": [
    {
     "data": {
      "text/plain": [
       "1.757007485059597"
      ]
     },
     "execution_count": 31,
     "metadata": {},
     "output_type": "execute_result"
    }
   ],
   "source": [
    "michigan_residuals = np.concatenate((michigan[\"residuals_train\"].dropna().values, michigan[\"residuals_test\"].dropna().values ))\n",
    "michigan_percent_off = (michigan[\"property_crime_2\"] - michigan_residuals) / michigan[\"property_crime_2\"]\n",
    "np.abs(michigan_percent_off).sum() / michigan_percent_off.shape[0]"
   ]
  },
  {
   "cell_type": "code",
   "execution_count": 32,
   "metadata": {
    "ExecuteTime": {
     "end_time": "2018-12-16T19:38:05.635538Z",
     "start_time": "2018-12-16T19:38:05.630729Z"
    }
   },
   "outputs": [
    {
     "data": {
      "text/plain": [
       "0.40897097625329815"
      ]
     },
     "execution_count": 32,
     "metadata": {},
     "output_type": "execute_result"
    }
   ],
   "source": [
    "(michigan_residuals<0).sum() / michigan_residuals.shape[0]"
   ]
  },
  {
   "cell_type": "markdown",
   "metadata": {},
   "source": [
    "### North Carolina"
   ]
  },
  {
   "cell_type": "code",
   "execution_count": 33,
   "metadata": {
    "ExecuteTime": {
     "end_time": "2018-12-16T19:38:20.499013Z",
     "start_time": "2018-12-16T19:38:20.490668Z"
    }
   },
   "outputs": [
    {
     "data": {
      "text/plain": [
       "1.0666514134217582"
      ]
     },
     "execution_count": 33,
     "metadata": {},
     "output_type": "execute_result"
    }
   ],
   "source": [
    "nc_residuals = np.concatenate((nc[\"residuals_train\"].dropna().values, nc[\"residuals_test\"].dropna().values))\n",
    "nc_percent_off = (nc[\"property_crime_2\"] - nc_residuals) / nc[\"property_crime_2\"]\n",
    "np.abs(nc_percent_off).sum() / nc_percent_off.shape[0]"
   ]
  },
  {
   "cell_type": "code",
   "execution_count": 34,
   "metadata": {
    "ExecuteTime": {
     "end_time": "2018-12-16T19:38:29.746684Z",
     "start_time": "2018-12-16T19:38:29.741763Z"
    }
   },
   "outputs": [
    {
     "data": {
      "text/plain": [
       "0.38461538461538464"
      ]
     },
     "execution_count": 34,
     "metadata": {},
     "output_type": "execute_result"
    }
   ],
   "source": [
    "(nc_residuals<0).sum()/nc_residuals.shape[0]"
   ]
  },
  {
   "cell_type": "markdown",
   "metadata": {},
   "source": [
    "### Ohio"
   ]
  },
  {
   "cell_type": "code",
   "execution_count": 35,
   "metadata": {
    "ExecuteTime": {
     "end_time": "2018-12-16T19:38:57.997489Z",
     "start_time": "2018-12-16T19:38:57.990252Z"
    }
   },
   "outputs": [
    {
     "data": {
      "text/plain": [
       "5.426191498820303"
      ]
     },
     "execution_count": 35,
     "metadata": {},
     "output_type": "execute_result"
    }
   ],
   "source": [
    "ohio_residuals = np.concatenate((ohio[\"residuals_train\"].dropna().values, ohio[\"residuals_test\"].dropna().values))\n",
    "ohio_percent_off = (ohio[\"property_crime_2\"] - ohio_residuals) / ohio[\"property_crime_2\"]\n",
    "np.abs(ohio_percent_off).sum() / ohio_percent_off.shape[0]"
   ]
  },
  {
   "cell_type": "code",
   "execution_count": 36,
   "metadata": {
    "ExecuteTime": {
     "end_time": "2018-12-16T19:39:04.094595Z",
     "start_time": "2018-12-16T19:39:04.088526Z"
    }
   },
   "outputs": [
    {
     "data": {
      "text/plain": [
       "0.37537537537537535"
      ]
     },
     "execution_count": 36,
     "metadata": {},
     "output_type": "execute_result"
    }
   ],
   "source": [
    "(ohio_residuals<0).sum()/ohio_residuals.shape[0]"
   ]
  },
  {
   "cell_type": "markdown",
   "metadata": {},
   "source": [
    "# Conclusion\n",
    "\n",
    "By itself, the model that I propose for predicting property crime in Florida (2017) has a RMSE of 122.5 (on the test set), the same model on Michigan crime data has a RMSE of 225.1, 161.2 for North Carolina and 184.7 on Ohio data. There are obvious population dynamic differences among the states (as shown by the insignificance of population groups in Michigan and Ohio). Therefore, different models should be used for these states. \n",
    "\n",
    "According to the total percent each prediction is to the observed values, the model appears to work best on North Carolina data, with only about a 6% difference, whereas when using this model to predict Michigan property crimes it is off by 442%."
   ]
  }
 ],
 "metadata": {
  "kernelspec": {
   "display_name": "Python 3",
   "language": "python",
   "name": "python3"
  },
  "language_info": {
   "codemirror_mode": {
    "name": "ipython",
    "version": 3
   },
   "file_extension": ".py",
   "mimetype": "text/x-python",
   "name": "python",
   "nbconvert_exporter": "python",
   "pygments_lexer": "ipython3",
   "version": "3.6.7"
  },
  "latex_envs": {
   "LaTeX_envs_menu_present": true,
   "autoclose": false,
   "autocomplete": true,
   "bibliofile": "biblio.bib",
   "cite_by": "apalike",
   "current_citInitial": 1,
   "eqLabelWithNumbers": true,
   "eqNumInitial": 1,
   "hotkeys": {
    "equation": "Ctrl-E",
    "itemize": "Ctrl-I"
   },
   "labels_anchors": false,
   "latex_user_defs": false,
   "report_style_numbering": false,
   "user_envs_cfg": false
  },
  "toc": {
   "base_numbering": 1,
   "nav_menu": {},
   "number_sections": true,
   "sideBar": true,
   "skip_h1_title": false,
   "title_cell": "Table of Contents",
   "title_sidebar": "Contents",
   "toc_cell": false,
   "toc_position": {},
   "toc_section_display": true,
   "toc_window_display": false
  },
  "varInspector": {
   "cols": {
    "lenName": 16,
    "lenType": 16,
    "lenVar": 40
   },
   "kernels_config": {
    "python": {
     "delete_cmd_postfix": "",
     "delete_cmd_prefix": "del ",
     "library": "var_list.py",
     "varRefreshCmd": "print(var_dic_list())"
    },
    "r": {
     "delete_cmd_postfix": ") ",
     "delete_cmd_prefix": "rm(",
     "library": "var_list.r",
     "varRefreshCmd": "cat(var_dic_list()) "
    }
   },
   "types_to_exclude": [
    "module",
    "function",
    "builtin_function_or_method",
    "instance",
    "_Feature"
   ],
   "window_display": false
  }
 },
 "nbformat": 4,
 "nbformat_minor": 2
}
