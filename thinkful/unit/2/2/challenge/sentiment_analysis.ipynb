{
 "cells": [
  {
   "cell_type": "code",
   "execution_count": 86,
   "metadata": {
    "ExecuteTime": {
     "end_time": "2018-12-01T02:11:26.770911Z",
     "start_time": "2018-12-01T02:11:26.766976Z"
    }
   },
   "outputs": [],
   "source": [
    "import pandas as pd\n",
    "import numpy as np\n",
    "import matplotlib.pyplot as plt\n",
    "import seaborn as sns\n",
    "import scipy\n",
    "from sklearn.naive_bayes import BernoulliNB"
   ]
  },
  {
   "cell_type": "markdown",
   "metadata": {},
   "source": [
    "# Sentiment Analysis\n",
    "\n",
    "## Amazon"
   ]
  },
  {
   "cell_type": "code",
   "execution_count": 2,
   "metadata": {
    "ExecuteTime": {
     "end_time": "2018-12-01T01:11:03.176769Z",
     "start_time": "2018-12-01T01:11:03.166612Z"
    }
   },
   "outputs": [],
   "source": [
    "reviews = pd.read_csv('./amazon_cells_labelled.txt', sep='\\t', header=None)\n",
    "reviews.columns = ['review', 'score']"
   ]
  },
  {
   "cell_type": "code",
   "execution_count": 49,
   "metadata": {
    "ExecuteTime": {
     "end_time": "2018-12-01T01:36:24.072660Z",
     "start_time": "2018-12-01T01:36:24.044218Z"
    }
   },
   "outputs": [],
   "source": [
    "# lets determine which \"buzzwords\" are more frequent \n",
    "word_counts_positive = reviews.query(\"score == 1\").review.str.split(expand=True).stack().value_counts()\n",
    "word_counts_negative = reviews.query(\"score == 0\").review.str.split(expand=True).stack().value_counts()\n",
    "# get the words unique to negative review\n",
    "words_negative = word_counts_negative.index.difference(word_counts_positive.index)\n",
    "words_positive = word_counts_positive.index.difference(word_counts_negative.index)"
   ]
  },
  {
   "cell_type": "code",
   "execution_count": 53,
   "metadata": {
    "ExecuteTime": {
     "end_time": "2018-12-01T01:37:16.916623Z",
     "start_time": "2018-12-01T01:37:16.909686Z"
    }
   },
   "outputs": [
    {
     "data": {
      "text/plain": [
       "array(['great', 'works', 'love', 'best', 'works', 'good', 'nice',\n",
       "       'working', 'nice', 'pretty', 'excellent', 'good.', 'fine', 'fine.',\n",
       "       'great!', 'data', 'job', 'sturdy', 'far.', 'phone.'], dtype=object)"
      ]
     },
     "execution_count": 53,
     "metadata": {},
     "output_type": "execute_result"
    }
   ],
   "source": [
    "x = word_counts_positive[words_positive].sort_values(ascending = False).head(20).index\n",
    "pos_words = x.to_series().apply(str.lower).values\n",
    "# also need to pull out the punctuation\n",
    "pos_words"
   ]
  },
  {
   "cell_type": "code",
   "execution_count": 54,
   "metadata": {
    "ExecuteTime": {
     "end_time": "2018-12-01T01:37:18.890083Z",
     "start_time": "2018-12-01T01:37:18.882479Z"
    }
   },
   "outputs": [
    {
     "data": {
      "text/plain": [
       "array([\"don't\", 'waste', 'not', 'worst', 'money', 'unit', \"didn't\", 'bad',\n",
       "       'difficult', 'what', 'poor', 'poor.', \"doesn't\", 'return', 'week',\n",
       "       'do', 'broke', 'stay', 'buying', 'unfortunately'], dtype=object)"
      ]
     },
     "execution_count": 54,
     "metadata": {},
     "output_type": "execute_result"
    }
   ],
   "source": [
    "y = word_counts_negative[words_negative].sort_values(ascending = False).head(20).index\n",
    "neg_words = y.to_series().apply(str.lower).values\n",
    "neg_words"
   ]
  },
  {
   "cell_type": "markdown",
   "metadata": {},
   "source": [
    "These words are unique to each class:\n",
    "\n",
    "### Positive\n",
    "  1. great\n",
    "  2. works\n",
    "  3. love\n",
    "  4. best\n",
    "  5. good\n",
    "  6. nice\n",
    "  7. working\n",
    "  8. excellent\n",
    "  9. good\n",
    "  10. fine\n",
    "  11. sturdy\n",
    "\n",
    "### Negative\n",
    "  1. don't\n",
    "  2. waste\n",
    "  3. not\n",
    "  4. worst\n",
    "  5. didn't\n",
    "  6. bad\n",
    "  7. difficult\n",
    "  8. poor\n",
    "  9. doesn't\n",
    "  10. return\n",
    "  11. broke\n",
    "  "
   ]
  },
  {
   "cell_type": "code",
   "execution_count": 56,
   "metadata": {
    "ExecuteTime": {
     "end_time": "2018-12-01T01:40:47.340899Z",
     "start_time": "2018-12-01T01:40:47.337348Z"
    }
   },
   "outputs": [],
   "source": [
    "pos_words = ['great','works','love','best',\n",
    "             'good','nice','working','excellent',\n",
    "             'good','fine','sturdy']\n",
    "neg_words = [\"don't\",\"waste\",\"not\",\"worst\",\n",
    "             \"didn't\",\"bad\",\"difficult\",\"poor\",\n",
    "             \"doesn't\",\"return\",\"broke\"]"
   ]
  },
  {
   "cell_type": "code",
   "execution_count": 74,
   "metadata": {
    "ExecuteTime": {
     "end_time": "2018-12-01T01:59:30.288685Z",
     "start_time": "2018-12-01T01:59:30.236759Z"
    }
   },
   "outputs": [],
   "source": [
    "for word in neg_words:\n",
    "    # Note that we add spaces around the key so that we're getting the word,\n",
    "    # not just pattern matching.\n",
    "    reviews[str(word)] = reviews.review.str.contains(\n",
    "        ' ' + str(word) + ' ',\n",
    "        case=False\n",
    "    )\n",
    "    \n",
    "for word in pos_words:\n",
    "    # Note that we add spaces around the key so that we're getting the word,\n",
    "    # not just pattern matching.\n",
    "    reviews[str(word)] = reviews.review.str.contains(\n",
    "        ' ' + str(word) + ' ',\n",
    "        case=False\n",
    "    )"
   ]
  },
  {
   "cell_type": "markdown",
   "metadata": {},
   "source": [
    "Let's add a few more."
   ]
  },
  {
   "cell_type": "code",
   "execution_count": 42,
   "metadata": {
    "ExecuteTime": {
     "end_time": "2018-12-01T00:53:53.593388Z",
     "start_time": "2018-12-01T00:53:53.585986Z"
    }
   },
   "outputs": [
    {
     "data": {
      "text/plain": [
       "27.027027027027028"
      ]
     },
     "execution_count": 42,
     "metadata": {},
     "output_type": "execute_result"
    }
   ],
   "source": [
    "# I would guess that positive reviews have more exclamation marks than negative ones\n",
    "1 / (reviews.query(\"score == 0\").review.str.contains(\"!\").sum() / len(reviews))"
   ]
  },
  {
   "cell_type": "code",
   "execution_count": 41,
   "metadata": {
    "ExecuteTime": {
     "end_time": "2018-12-01T00:53:40.548075Z",
     "start_time": "2018-12-01T00:53:40.540987Z"
    }
   },
   "outputs": [
    {
     "data": {
      "text/plain": [
       "12.820512820512821"
      ]
     },
     "execution_count": 41,
     "metadata": {},
     "output_type": "execute_result"
    }
   ],
   "source": [
    "1 / (reviews.query(\"score == 1\").review.str.contains(\"!\").sum() / len(reviews))"
   ]
  },
  {
   "cell_type": "markdown",
   "metadata": {},
   "source": [
    "  * So essentially what this tells us is that 1 in every 12.8 **positive** reviews contain an exclamation mark, while only 1 in every 27 **negative** reviews contain an exclamation mark. Let's add this!\n",
    "  * 1 in every 3 **positive** reviews is in all caps, while 2 in every 3 **negative** reviews are in all caps - so add this as well!"
   ]
  },
  {
   "cell_type": "code",
   "execution_count": 62,
   "metadata": {
    "ExecuteTime": {
     "end_time": "2018-12-01T01:46:13.279385Z",
     "start_time": "2018-12-01T01:46:13.273908Z"
    }
   },
   "outputs": [],
   "source": [
    "reviews['exclamation'] = reviews.review.str.contains(\"!\")\n",
    "reviews[\"allcaps\"] = reviews.review.str.isupper()"
   ]
  },
  {
   "cell_type": "code",
   "execution_count": 63,
   "metadata": {
    "ExecuteTime": {
     "end_time": "2018-12-01T01:46:56.808062Z",
     "start_time": "2018-12-01T01:46:56.802932Z"
    }
   },
   "outputs": [],
   "source": [
    "data = reviews[neg_words + pos_words]\n",
    "target = reviews['score']"
   ]
  },
  {
   "cell_type": "code",
   "execution_count": 66,
   "metadata": {
    "ExecuteTime": {
     "end_time": "2018-12-01T01:50:26.956503Z",
     "start_time": "2018-12-01T01:50:26.461654Z"
    }
   },
   "outputs": [
    {
     "data": {
      "image/png": "[encoded data removed]",
      "text/plain": [
       "<Figure size 1008x864 with 2 Axes>"
      ]
     },
     "metadata": {
      "needs_background": "light"
     },
     "output_type": "display_data"
    }
   ],
   "source": [
    "plt.figure(figsize=(14,12))\n",
    "sns.heatmap(reviews.corr())\n",
    "plt.show()"
   ]
  },
  {
   "cell_type": "markdown",
   "metadata": {},
   "source": [
    "  * So our input words appear to be uncorrelated\n",
    "  \n",
    "  ### Model"
   ]
  },
  {
   "cell_type": "code",
   "execution_count": 71,
   "metadata": {
    "ExecuteTime": {
     "end_time": "2018-12-01T01:56:02.630381Z",
     "start_time": "2018-12-01T01:56:02.620485Z"
    }
   },
   "outputs": [
    {
     "name": "stdout",
     "output_type": "stream",
     "text": [
      "Number of mislabeled points out of a total 1000 points : 366\n",
      "Accuracy: 63.4%\n"
     ]
    }
   ],
   "source": [
    "# Instantiate our model and store it in a new variable.\n",
    "bnb = BernoulliNB()\n",
    "\n",
    "# Fit our model to the data.\n",
    "bnb.fit(data, target)\n",
    "\n",
    "# Classify, storing the result in a new variable.\n",
    "y_pred = bnb.predict(data)\n",
    "\n",
    "n = data.shape[0]\n",
    "# Display our results.\n",
    "print(\"Number of mislabeled points out of a total {} points : {}\".format(\n",
    "    n,\n",
    "    (target != y_pred).sum()\n",
    "))\n",
    "\n",
    "correct = (n - (target != y_pred).sum())/n * 100\n",
    "print(\"Accuracy: {}%\".format(correct))"
   ]
  },
  {
   "cell_type": "markdown",
   "metadata": {},
   "source": [
    "  * This model is roughly **63.4%**\n",
    "  \n",
    "  \n",
    "\n",
    "# Now we will use the same model on other company reviews\n",
    "\n",
    "## IMDB"
   ]
  },
  {
   "cell_type": "code",
   "execution_count": 72,
   "metadata": {
    "ExecuteTime": {
     "end_time": "2018-12-01T01:58:41.965629Z",
     "start_time": "2018-12-01T01:58:41.957699Z"
    }
   },
   "outputs": [],
   "source": [
    "imdb = pd.read_csv('./imdb_labelled.txt', sep='\\t', header=None)\n",
    "imdb.columns = ['review', 'score']"
   ]
  },
  {
   "cell_type": "code",
   "execution_count": 82,
   "metadata": {
    "ExecuteTime": {
     "end_time": "2018-12-01T02:04:11.630120Z",
     "start_time": "2018-12-01T02:04:11.571358Z"
    }
   },
   "outputs": [],
   "source": [
    "for word in neg_words:\n",
    "    # Note that we add spaces around the key so that we're getting the word,\n",
    "    # not just pattern matching.\n",
    "    imdb[str(word)] = imdb.review.str.contains(\n",
    "        ' ' + str(word) + ' ',\n",
    "        case=False\n",
    "    )\n",
    "    \n",
    "for word in pos_words:\n",
    "    # Note that we add spaces around the key so that we're getting the word,\n",
    "    # not just pattern matching.\n",
    "    imdb[str(word)] = imdb.review.str.contains(\n",
    "        ' ' + str(word) + ' ',\n",
    "        case=False\n",
    "    )\n",
    "imdb['exclamation'] = imdb.review.str.contains(\"!\")\n",
    "imdb[\"allcaps\"] = imdb.review.str.isupper()"
   ]
  },
  {
   "cell_type": "code",
   "execution_count": 83,
   "metadata": {
    "ExecuteTime": {
     "end_time": "2018-12-01T02:04:17.529370Z",
     "start_time": "2018-12-01T02:04:17.524517Z"
    }
   },
   "outputs": [],
   "source": [
    "data_imdb = imdb[neg_words + pos_words]\n",
    "target_imdb = imdb['score']"
   ]
  },
  {
   "cell_type": "code",
   "execution_count": 84,
   "metadata": {
    "ExecuteTime": {
     "end_time": "2018-12-01T02:04:33.528625Z",
     "start_time": "2018-12-01T02:04:33.031475Z"
    }
   },
   "outputs": [
    {
     "data": {
      "image/png": "[encoded data removed]",
      "text/plain": [
       "<Figure size 1008x864 with 2 Axes>"
      ]
     },
     "metadata": {
      "needs_background": "light"
     },
     "output_type": "display_data"
    }
   ],
   "source": [
    "plt.figure(figsize=(14,12))\n",
    "sns.heatmap(imdb.corr())\n",
    "plt.show()"
   ]
  },
  {
   "cell_type": "markdown",
   "metadata": {},
   "source": [
    "  * So difficult and sturdy do not show up in any IMDB reviews, and there are a few more words that are correlated (which could be an issue for our model, however none of the correlations appear to be greater than 0.5)"
   ]
  },
  {
   "cell_type": "code",
   "execution_count": 85,
   "metadata": {
    "ExecuteTime": {
     "end_time": "2018-12-01T02:08:42.701919Z",
     "start_time": "2018-12-01T02:08:42.692600Z"
    }
   },
   "outputs": [
    {
     "name": "stdout",
     "output_type": "stream",
     "text": [
      "Number of mislabeled points out of a total 748 points : 296\n",
      "Accuracy: 60.42780748663101%\n"
     ]
    }
   ],
   "source": [
    "# Instantiate our model and store it in a new variable.\n",
    "bnb = BernoulliNB()\n",
    "\n",
    "# Fit our model to the data.\n",
    "bnb.fit(data_imdb, target_imdb)\n",
    "\n",
    "# Classify, storing the result in a new variable.\n",
    "y_pred = bnb.predict(data_imdb)\n",
    "\n",
    "n = data_imdb.shape[0]\n",
    "# Display our results.\n",
    "print(\"Number of mislabeled points out of a total {} points : {}\".format(\n",
    "    n,\n",
    "    (target_imdb != y_pred).sum()\n",
    "))\n",
    "\n",
    "correct = (n - (target_imdb != y_pred).sum())/n * 100\n",
    "print(\"Accuracy: {}%\".format(correct))"
   ]
  },
  {
   "cell_type": "markdown",
   "metadata": {},
   "source": [
    "* This model is roughly **60.4%** accurate"
   ]
  },
  {
   "cell_type": "markdown",
   "metadata": {},
   "source": [
    "## Yelp"
   ]
  },
  {
   "cell_type": "code",
   "execution_count": 87,
   "metadata": {
    "ExecuteTime": {
     "end_time": "2018-12-01T02:12:43.458378Z",
     "start_time": "2018-12-01T02:12:43.450012Z"
    }
   },
   "outputs": [],
   "source": [
    "yelp = pd.read_csv('./yelp_labelled.txt', sep='\\t', header=None)\n",
    "yelp.columns = ['review', 'score']"
   ]
  },
  {
   "cell_type": "code",
   "execution_count": 88,
   "metadata": {
    "ExecuteTime": {
     "end_time": "2018-12-01T02:13:56.041567Z",
     "start_time": "2018-12-01T02:13:55.982997Z"
    }
   },
   "outputs": [],
   "source": [
    "for word in neg_words:\n",
    "    # Note that we add spaces around the key so that we're getting the word,\n",
    "    # not just pattern matching.\n",
    "    yelp[str(word)] = yelp.review.str.contains(\n",
    "        ' ' + str(word) + ' ',\n",
    "        case=False\n",
    "    )\n",
    "    \n",
    "for word in pos_words:\n",
    "    # Note that we add spaces around the key so that we're getting the word,\n",
    "    # not just pattern matching.\n",
    "    yelp[str(word)] = yelp.review.str.contains(\n",
    "        ' ' + str(word) + ' ',\n",
    "        case=False\n",
    "    )\n",
    "yelp['exclamation'] = yelp.review.str.contains(\"!\")\n",
    "yelp[\"allcaps\"] = yelp.review.str.isupper()"
   ]
  },
  {
   "cell_type": "code",
   "execution_count": 90,
   "metadata": {
    "ExecuteTime": {
     "end_time": "2018-12-01T02:14:43.573233Z",
     "start_time": "2018-12-01T02:14:43.069750Z"
    }
   },
   "outputs": [
    {
     "data": {
      "image/png": "[encoded data removed]",
      "text/plain": [
       "<Figure size 1008x864 with 2 Axes>"
      ]
     },
     "metadata": {
      "needs_background": "light"
     },
     "output_type": "display_data"
    }
   ],
   "source": [
    "plt.figure(figsize=(14,12))\n",
    "sns.heatmap(yelp.corr())\n",
    "plt.show()"
   ]
  },
  {
   "cell_type": "markdown",
   "metadata": {},
   "source": [
    "  * Yelp reviews do not contain the words difficult, doesn't, broke, working or sturdy\n",
    "  * otherwise appear to be uncorrelated"
   ]
  },
  {
   "cell_type": "code",
   "execution_count": 91,
   "metadata": {
    "ExecuteTime": {
     "end_time": "2018-12-01T02:15:45.635672Z",
     "start_time": "2018-12-01T02:15:45.631302Z"
    }
   },
   "outputs": [],
   "source": [
    "data_yelp = yelp[neg_words + pos_words]\n",
    "target_yelp = yelp['score']"
   ]
  },
  {
   "cell_type": "code",
   "execution_count": 92,
   "metadata": {
    "ExecuteTime": {
     "end_time": "2018-12-01T02:16:43.534858Z",
     "start_time": "2018-12-01T02:16:43.524812Z"
    }
   },
   "outputs": [
    {
     "name": "stdout",
     "output_type": "stream",
     "text": [
      "Number of mislabeled points out of a total 1000 points : 391\n",
      "Accuracy: 60.9%\n"
     ]
    }
   ],
   "source": [
    "# Instantiate our model and store it in a new variable.\n",
    "bnb = BernoulliNB()\n",
    "\n",
    "# Fit our model to the data.\n",
    "bnb.fit(data_yelp, target_yelp)\n",
    "\n",
    "# Classify, storing the result in a new variable.\n",
    "y_pred = bnb.predict(data_yelp)\n",
    "\n",
    "n = data_yelp.shape[0]\n",
    "# Display our results.\n",
    "print(\"Number of mislabeled points out of a total {} points : {}\".format(\n",
    "    n,\n",
    "    (target_yelp != y_pred).sum()\n",
    "))\n",
    "\n",
    "correct = (n - (target_yelp != y_pred).sum())/n * 100\n",
    "print(\"Accuracy: {}%\".format(correct))"
   ]
  },
  {
   "cell_type": "markdown",
   "metadata": {},
   "source": [
    "  * This model is roughly **60.9%** accurate\n",
    "  \n",
    "  # Conclusion\n",
    "  \n",
    "  We constructed a Naive Bayes classification model by simply using the top frequently used words that were unique to positive and negative reviews, as well as if a review contains an exclamation mark and if the review is all caps (using Amazon reviews). Here were the accuracy rates for each dataset:\n",
    "    1. Amazon: 63.4\n",
    "    2. IMDB: 60.4\n",
    "    3. Yelp: 60.9\n",
    "    \n",
    "  It is not surprising that the model that we trained using top keywords among Amazon reviews is less accurate when predicting the sentiment for IMDB and Yelp reviews, however the rates are quite similar."
   ]
  }
 ],
 "metadata": {
  "kernelspec": {
   "display_name": "Python 3",
   "language": "python",
   "name": "python3"
  },
  "language_info": {
   "codemirror_mode": {
    "name": "ipython",
    "version": 3
   },
   "file_extension": ".py",
   "mimetype": "text/x-python",
   "name": "python",
   "nbconvert_exporter": "python",
   "pygments_lexer": "ipython3",
   "version": "3.6.7"
  },
  "latex_envs": {
   "LaTeX_envs_menu_present": true,
   "autoclose": false,
   "autocomplete": true,
   "bibliofile": "biblio.bib",
   "cite_by": "apalike",
   "current_citInitial": 1,
   "eqLabelWithNumbers": true,
   "eqNumInitial": 1,
   "hotkeys": {
    "equation": "Ctrl-E",
    "itemize": "Ctrl-I"
   },
   "labels_anchors": false,
   "latex_user_defs": false,
   "report_style_numbering": false,
   "user_envs_cfg": false
  },
  "toc": {
   "base_numbering": 1,
   "nav_menu": {},
   "number_sections": true,
   "sideBar": true,
   "skip_h1_title": false,
   "title_cell": "Table of Contents",
   "title_sidebar": "Contents",
   "toc_cell": false,
   "toc_position": {},
   "toc_section_display": true,
   "toc_window_display": false
  },
  "varInspector": {
   "cols": {
    "lenName": 16,
    "lenType": 16,
    "lenVar": 40
   },
   "kernels_config": {
    "python": {
     "delete_cmd_postfix": "",
     "delete_cmd_prefix": "del ",
     "library": "var_list.py",
     "varRefreshCmd": "print(var_dic_list())"
    },
    "r": {
     "delete_cmd_postfix": ") ",
     "delete_cmd_prefix": "rm(",
     "library": "var_list.r",
     "varRefreshCmd": "cat(var_dic_list()) "
    }
   },
   "types_to_exclude": [
    "module",
    "function",
    "builtin_function_or_method",
    "instance",
    "_Feature"
   ],
   "window_display": false
  }
 },
 "nbformat": 4,
 "nbformat_minor": 2
}
