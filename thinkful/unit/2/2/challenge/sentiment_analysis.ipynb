{
 "cells": [
  {
   "cell_type": "code",
   "execution_count": 27,
   "metadata": {
    "ExecuteTime": {
     "end_time": "2018-12-03T18:30:25.604157Z",
     "start_time": "2018-12-03T18:30:25.600466Z"
    }
   },
   "outputs": [],
   "source": [
    "import pandas as pd\n",
    "import numpy as np\n",
    "import matplotlib.pyplot as plt\n",
    "import seaborn as sns\n",
    "import scipy\n",
    "from sklearn.naive_bayes import BernoulliNB\n",
    "from sklearn.model_selection import cross_val_score, cross_val_predict\n",
    "from sklearn.metrics import confusion_matrix\n",
    "import re"
   ]
  },
  {
   "cell_type": "markdown",
   "metadata": {},
   "source": [
    "# Sentiment Analysis\n",
    "\n",
    "## Amazon"
   ]
  },
  {
   "cell_type": "code",
   "execution_count": 2,
   "metadata": {
    "ExecuteTime": {
     "end_time": "2018-12-03T18:14:48.758729Z",
     "start_time": "2018-12-03T18:14:48.748116Z"
    }
   },
   "outputs": [],
   "source": [
    "reviews = pd.read_csv('./amazon_cells_labelled.txt', sep='\\t', header=None)\n",
    "reviews.columns = ['review', 'score']"
   ]
  },
  {
   "cell_type": "code",
   "execution_count": 3,
   "metadata": {
    "ExecuteTime": {
     "end_time": "2018-12-01T21:43:10.888883Z",
     "start_time": "2018-12-01T21:43:10.882209Z"
    }
   },
   "outputs": [
    {
     "data": {
      "text/plain": [
       "score\n",
       "0    500\n",
       "1    500\n",
       "dtype: int64"
      ]
     },
     "execution_count": 3,
     "metadata": {},
     "output_type": "execute_result"
    }
   ],
   "source": [
    "reviews.groupby(\"score\").size()"
   ]
  },
  {
   "cell_type": "markdown",
   "metadata": {},
   "source": [
    "*So the classes are perfectly balanced.*"
   ]
  },
  {
   "cell_type": "code",
   "execution_count": 3,
   "metadata": {
    "ExecuteTime": {
     "end_time": "2018-12-03T18:14:50.449531Z",
     "start_time": "2018-12-03T18:14:50.411894Z"
    }
   },
   "outputs": [
    {
     "name": "stdout",
     "output_type": "stream",
     "text": [
      "Positive Keywords: \n",
      "['great' 'works' 'love' 'best' 'works' 'good' 'nice' 'working' 'nice'\n",
      " 'pretty' 'excellent' 'good.' 'fine' 'fine.' 'great!' 'data' 'job'\n",
      " 'sturdy' 'far.' 'phone.']\n",
      "\n",
      "Negative Keywords:\n",
      "[\"don't\" 'waste' 'not' 'worst' 'money' 'unit' \"didn't\" 'bad' 'difficult'\n",
      " 'what' 'poor' 'poor.' \"doesn't\" 'return' 'week' 'do' 'broke' 'stay'\n",
      " 'buying' 'unfortunately']\n"
     ]
    }
   ],
   "source": [
    "# lets determine which \"buzzwords\" are more frequent \n",
    "word_counts_positive = reviews.query(\"score == 1\").review.str.split(expand=True).stack().value_counts()\n",
    "word_counts_negative = reviews.query(\"score == 0\").review.str.split(expand=True).stack().value_counts()\n",
    "# get the words unique to negative review\n",
    "words_negative = word_counts_negative.index.difference(word_counts_positive.index)\n",
    "words_positive = word_counts_positive.index.difference(word_counts_negative.index)\n",
    "x = word_counts_positive[words_positive].sort_values(ascending = False).head(20).index\n",
    "pos_words = x.to_series().apply(str.lower).values\n",
    "# also need to pull out the punctuation\n",
    "y = word_counts_negative[words_negative].sort_values(ascending = False).head(20).index\n",
    "neg_words = y.to_series().apply(str.lower).values\n",
    "print(\"Positive Keywords: \\n{}\\n\\nNegative Keywords:\\n{}\".format(pos_words, neg_words))"
   ]
  },
  {
   "cell_type": "code",
   "execution_count": 4,
   "metadata": {
    "ExecuteTime": {
     "end_time": "2018-12-03T18:14:52.453748Z",
     "start_time": "2018-12-03T18:14:52.447729Z"
    }
   },
   "outputs": [],
   "source": [
    "def percent_capitalized_words(review, return_number = False):\n",
    "    # first we need to get each sentence\n",
    "    pattern = re.compile(\"[A-Z]{2,}\")\n",
    "    words_to_ignore = [\"US\", \"USA\", \"PC\", \"AC\", \"DC\", \"MP\", \"PDA\",\n",
    "                    \"RAZR\", \"QWERTY\", \"BT\", \"DNA\", \"HS850\", \"OS\"]\n",
    "    found = 0  \n",
    "\n",
    "    sentences = review.split('.')\n",
    "    num_words = len(sentences)\n",
    "    for sentence in sentences:\n",
    "        words = sentence.split(' ') \n",
    "        for word in words:\n",
    "            if word in words_to_ignore:\n",
    "                continue\n",
    "            if pattern.match(word):\n",
    "                found += 1\n",
    "    if return_number:\n",
    "        return found\n",
    "    else:\n",
    "        return found / num_words"
   ]
  },
  {
   "cell_type": "code",
   "execution_count": 4,
   "metadata": {
    "ExecuteTime": {
     "end_time": "2018-12-03T18:07:47.376671Z",
     "start_time": "2018-12-03T18:07:47.373095Z"
    }
   },
   "outputs": [],
   "source": [
    "pos_words = ['great','works','love','best',\n",
    "             'good','nice','working','excellent',\n",
    "             'good','fine','sturdy']\n",
    "neg_words = [\"don't\",\"waste\",\"not\",\"worst\",\n",
    "             \"didn't\",\"bad\",\"difficult\",\"poor\",\n",
    "             \"doesn't\",\"return\",\"broke\"]"
   ]
  },
  {
   "cell_type": "code",
   "execution_count": 5,
   "metadata": {
    "ExecuteTime": {
     "end_time": "2018-12-03T18:14:53.984989Z",
     "start_time": "2018-12-03T18:14:53.883508Z"
    }
   },
   "outputs": [],
   "source": [
    "for word in neg_words:\n",
    "    # Note that we add spaces around the key so that we're getting the word,\n",
    "    # not just pattern matching.\n",
    "    reviews[str(word)] = reviews.review.str.contains(\n",
    "        ' ' + str(word) + ' ',\n",
    "        case=False\n",
    "    )\n",
    "    \n",
    "for word in pos_words:\n",
    "    # Note that we add spaces around the key so that we're getting the word,\n",
    "    # not just pattern matching.\n",
    "    reviews[str(word)] = reviews.review.str.contains(\n",
    "        ' ' + str(word) + ' ',\n",
    "        case=False\n",
    "    )"
   ]
  },
  {
   "cell_type": "markdown",
   "metadata": {},
   "source": [
    "Let's add a few more."
   ]
  },
  {
   "cell_type": "code",
   "execution_count": 6,
   "metadata": {
    "ExecuteTime": {
     "end_time": "2018-12-03T18:07:54.698707Z",
     "start_time": "2018-12-03T18:07:54.687962Z"
    }
   },
   "outputs": [
    {
     "data": {
      "text/plain": [
       "27.027027027027028"
      ]
     },
     "execution_count": 6,
     "metadata": {},
     "output_type": "execute_result"
    }
   ],
   "source": [
    "# I would guess that positive reviews have more exclamation marks than negative ones\n",
    "1 / (reviews.query(\"score == 0\").review.str.contains(\"!\").sum() / len(reviews))"
   ]
  },
  {
   "cell_type": "code",
   "execution_count": 7,
   "metadata": {
    "ExecuteTime": {
     "end_time": "2018-12-03T18:07:56.867285Z",
     "start_time": "2018-12-03T18:07:56.859286Z"
    }
   },
   "outputs": [
    {
     "data": {
      "text/plain": [
       "12.820512820512821"
      ]
     },
     "execution_count": 7,
     "metadata": {},
     "output_type": "execute_result"
    }
   ],
   "source": [
    "1 / (reviews.query(\"score == 1\").review.str.contains(\"!\").sum() / len(reviews))"
   ]
  },
  {
   "cell_type": "markdown",
   "metadata": {},
   "source": [
    "  * So essentially what this tells us is that 1 in every 12.8 **positive** reviews contain an exclamation mark, while only 1 in every 27 **negative** reviews contain an exclamation mark. Let's add this!\n",
    "  * 1 in every 3 **positive** reviews is in all caps, while 2 in every 3 **negative** reviews are in all caps - so add this as well!"
   ]
  },
  {
   "cell_type": "code",
   "execution_count": 6,
   "metadata": {
    "ExecuteTime": {
     "end_time": "2018-12-03T18:15:00.770058Z",
     "start_time": "2018-12-03T18:15:00.742744Z"
    }
   },
   "outputs": [],
   "source": [
    "reviews['exclamation'] = reviews.review.str.contains(\"!\")\n",
    "# reviews[\"allcaps\"] = reviews.review.str.isupper() too correlated with the below\n",
    "reviews[\"percent_capitalized_words\"] = reviews.review.apply(percent_capitalized_words)\n",
    "reviews[\"num_capitalized_words\"] = reviews.review.apply(lambda x: percent_capitalized_words(x, True))"
   ]
  },
  {
   "cell_type": "code",
   "execution_count": 12,
   "metadata": {
    "ExecuteTime": {
     "end_time": "2018-12-03T18:15:53.161454Z",
     "start_time": "2018-12-03T18:15:53.153529Z"
    }
   },
   "outputs": [],
   "source": [
    "features = list(neg_words) + list(pos_words) + [\"exclamation\", \"percent_capitalized_words\", \"num_capitalized_words\"]\n",
    "data = reviews[features]\n",
    "target = reviews['score']"
   ]
  },
  {
   "cell_type": "code",
   "execution_count": 13,
   "metadata": {
    "ExecuteTime": {
     "end_time": "2018-12-03T18:15:57.862274Z",
     "start_time": "2018-12-03T18:15:56.970056Z"
    }
   },
   "outputs": [
    {
     "data": {
      "image/png": "[encoded data removed]",
      "text/plain": [
       "<Figure size 1008x864 with 2 Axes>"
      ]
     },
     "metadata": {
      "needs_background": "light"
     },
     "output_type": "display_data"
    }
   ],
   "source": [
    "plt.figure(figsize=(14,12))\n",
    "sns.heatmap(reviews.corr())\n",
    "plt.show()"
   ]
  },
  {
   "cell_type": "markdown",
   "metadata": {},
   "source": [
    "  * So our input words appear to be uncorrelated\n",
    "  \n",
    "  ### Model"
   ]
  },
  {
   "cell_type": "code",
   "execution_count": 31,
   "metadata": {
    "ExecuteTime": {
     "end_time": "2018-12-03T18:33:00.238980Z",
     "start_time": "2018-12-03T18:33:00.145216Z"
    }
   },
   "outputs": [
    {
     "name": "stdout",
     "output_type": "stream",
     "text": [
      "Number of mislabeled points out of a total 1000 points : 328\n",
      "Accuracy: 67.2%\n",
      "[0.72  0.675 0.68  0.67  0.62 ]\n",
      "cv average is = 67.30%\n",
      "[[467  33]\n",
      " [295 205]]\n",
      "True Positive = 20.50%\n",
      "False Positive = 3.30%\n",
      "True Negative = 46.70%\n",
      "False Negative = 29.50%\n",
      "sensitivity or hit rate is 41.00%\n",
      "specificity or True Negative rate is 93.40%\n"
     ]
    },
    {
     "name": "stderr",
     "output_type": "stream",
     "text": [
      "/Users/mitchellmurphy/anaconda3/envs/python3.5/lib/python3.6/site-packages/sklearn/model_selection/_split.py:2053: FutureWarning: You should specify a value for 'cv' instead of relying on the default value. The default value will change from 3 to 5 in version 0.22.\n",
      "  warnings.warn(CV_WARNING, FutureWarning)\n"
     ]
    }
   ],
   "source": [
    "# Instantiate our model and store it in a new variable.\n",
    "bnb = BernoulliNB()\n",
    "\n",
    "# Fit our model to the data.\n",
    "bnb.fit(data, target)\n",
    "\n",
    "# Classify, storing the result in a new variable.\n",
    "#y_pred = bnb.predict(data)\n",
    "y_pred = cross_val_predict(bnb, data, target)\n",
    "\n",
    "n = data.shape[0]\n",
    "# Display our results.\n",
    "print(\"Number of mislabeled points out of a total {} points : {}\".format(\n",
    "    n,\n",
    "    (target != y_pred).sum()\n",
    "))\n",
    "\n",
    "correct = (n - (target != y_pred).sum())/n * 100\n",
    "print(\"Accuracy: {}%\".format(correct))\n",
    "\n",
    "cv = cross_val_score(bnb, data, target, cv=5)\n",
    "print(cv)\n",
    "print(\"cv average is = {:.2f}%\".format(cv.mean()*100))\n",
    "\n",
    "cm = confusion_matrix(target, y_pred)\n",
    "print(cm)\n",
    "print(\"True Positive = {:.2f}%\".format(cm[1,1]/10))\n",
    "print(\"False Positive = {:.2f}%\".format(cm[0,1]/10))\n",
    "print(\"True Negative = {:.2f}%\".format(cm[0,0]/10))\n",
    "print(\"False Negative = {:.2f}%\".format(cm[1,0]/10))\n",
    "print(\"sensitivity or hit rate is {:.2f}%\".format(cm[1,1]/(cm[1,0]+cm[1,1])*100))\n",
    "# sensitivity (recall) is the percentage of positives identified or TP/FN+TP\n",
    "print(\"specificity or True Negative rate is {:.2f}%\".format(cm[0,0]/(cm[0,0]+cm[0,1])*100))"
   ]
  },
  {
   "cell_type": "markdown",
   "metadata": {},
   "source": [
    "  * Using the average of cross-validation accuracies will give us a better indicator of overall accuracy, and for Amazon reviews the accuracy is **67.3 %**\n",
    "  \n",
    "  \n",
    "\n",
    "# Now we will use the same model on other company reviews\n",
    "\n",
    "## IMDB"
   ]
  },
  {
   "cell_type": "code",
   "execution_count": 16,
   "metadata": {
    "ExecuteTime": {
     "end_time": "2018-12-03T18:18:11.479666Z",
     "start_time": "2018-12-03T18:18:11.469081Z"
    }
   },
   "outputs": [],
   "source": [
    "imdb = pd.read_csv('./imdb_labelled.txt', sep='\\t', header=None)\n",
    "imdb.columns = ['review', 'score']\n",
    "# This is going to use the same features as the model built for Amazon reviews, \n",
    "# but on the IMDB data\n",
    "for word in neg_words:\n",
    "    # Note that we add spaces around the key so that we're getting the word,\n",
    "    # not just pattern matching.\n",
    "    imdb[str(word)] = imdb.review.str.contains(\n",
    "        ' ' + str(word) + ' ',\n",
    "        case=False\n",
    "    )\n",
    "    \n",
    "for word in pos_words:\n",
    "    # Note that we add spaces around the key so that we're getting the word,\n",
    "    # not just pattern matching.\n",
    "    imdb[str(word)] = imdb.review.str.contains(\n",
    "        ' ' + str(word) + ' ',\n",
    "        case=False\n",
    "    )\n",
    "    \n",
    "imdb['exclamation'] = imdb.review.str.contains(\"!\")\n",
    "# reviews[\"allcaps\"] = reviews.review.str.isupper() too correlated with the below\n",
    "imdb[\"percent_capitalized_words\"] = imdb.review.apply(percent_capitalized_words)\n",
    "imdb[\"num_capitalized_words\"] = imdb.review.apply(lambda x: percent_capitalized_words(x, True))\n",
    "data_imdb = imdb[features]\n",
    "target_imdb = imdb['score']"
   ]
  },
  {
   "cell_type": "markdown",
   "metadata": {},
   "source": [
    "  * So difficult and sturdy do not show up in any IMDB reviews, and there are a few more words that are correlated (which could be an issue for our model, however none of the correlations appear to be greater than 0.5)"
   ]
  },
  {
   "cell_type": "code",
   "execution_count": 30,
   "metadata": {
    "ExecuteTime": {
     "end_time": "2018-12-03T18:32:12.414251Z",
     "start_time": "2018-12-03T18:32:12.332591Z"
    }
   },
   "outputs": [
    {
     "name": "stdout",
     "output_type": "stream",
     "text": [
      "Number of mislabeled points out of a total 1000 points : 316\n",
      "Accuracy: 68.4%\n",
      "[0.62251656 0.58666667 0.59731544 0.59060403 0.60402685]\n",
      "cv average is = 60.02%\n",
      "[[102 260]\n",
      " [ 56 330]]\n",
      "True Positive = 33.00%\n",
      "False Positive = 26.00%\n",
      "True Negative = 10.20%\n",
      "False Negative = 5.60%\n",
      "sensitivity or hit rate is 85.49%\n",
      "specificity or True Negative rate is 28.18%\n"
     ]
    },
    {
     "name": "stderr",
     "output_type": "stream",
     "text": [
      "/Users/mitchellmurphy/anaconda3/envs/python3.5/lib/python3.6/site-packages/sklearn/model_selection/_split.py:2053: FutureWarning: You should specify a value for 'cv' instead of relying on the default value. The default value will change from 3 to 5 in version 0.22.\n",
      "  warnings.warn(CV_WARNING, FutureWarning)\n"
     ]
    }
   ],
   "source": [
    "y_pred = cross_val_predict(bnb, data_imdb, target_imdb)\n",
    "\n",
    "n = data.shape[0]\n",
    "# Display our results.\n",
    "print(\"Number of mislabeled points out of a total {} points : {}\".format(\n",
    "    n,\n",
    "    (target_imdb != y_pred).sum()\n",
    "))\n",
    "\n",
    "correct = (n - (target_imdb != y_pred).sum())/n * 100\n",
    "print(\"Accuracy: {}%\".format(correct))\n",
    "\n",
    "cv = cross_val_score(bnb, data_imdb, target_imdb, cv=5)\n",
    "print(cv)\n",
    "print(\"cv average is = {:.2f}%\".format(cv.mean()*100))\n",
    "\n",
    "cm = confusion_matrix(target_imdb, y_pred)\n",
    "print(cm)\n",
    "print(\"True Positive = {:.2f}%\".format(cm[1,1]/10))\n",
    "print(\"False Positive = {:.2f}%\".format(cm[0,1]/10))\n",
    "print(\"True Negative = {:.2f}%\".format(cm[0,0]/10))\n",
    "print(\"False Negative = {:.2f}%\".format(cm[1,0]/10))\n",
    "print(\"sensitivity or hit rate is {:.2f}%\".format(cm[1,1]/(cm[1,0]+cm[1,1])*100))\n",
    "# sensitivity (recall) is the percentage of positives identified or TP/FN+TP\n",
    "print(\"specificity or True Negative rate is {:.2f}%\".format(cm[0,0]/(cm[0,0]+cm[0,1])*100))"
   ]
  },
  {
   "cell_type": "markdown",
   "metadata": {},
   "source": [
    "* This model is roughly **68.4%** accurate, slightly better than on Amazon reviews, but when we use the average of the cross-validation scores the accuracy comes down to **60.02 %**"
   ]
  },
  {
   "cell_type": "markdown",
   "metadata": {},
   "source": [
    "## Yelp"
   ]
  },
  {
   "cell_type": "code",
   "execution_count": 22,
   "metadata": {
    "ExecuteTime": {
     "end_time": "2018-12-03T18:25:52.316478Z",
     "start_time": "2018-12-03T18:25:52.180957Z"
    }
   },
   "outputs": [],
   "source": [
    "yelp = pd.read_csv('./yelp_labelled.txt', sep='\\t', header=None)\n",
    "yelp.columns = ['review', 'score']\n",
    "# This is going to use the same features as the model built for Amazon reviews, \n",
    "# but on the IMDB data\n",
    "for word in neg_words:\n",
    "    # Note that we add spaces around the key so that we're getting the word,\n",
    "    # not just pattern matching.\n",
    "    yelp[str(word)] = yelp.review.str.contains(\n",
    "        ' ' + str(word) + ' ',\n",
    "        case=False\n",
    "    )\n",
    "    \n",
    "for word in pos_words:\n",
    "    # Note that we add spaces around the key so that we're getting the word,\n",
    "    # not just pattern matching.\n",
    "    yelp[str(word)] = yelp.review.str.contains(\n",
    "        ' ' + str(word) + ' ',\n",
    "        case=False\n",
    "    )\n",
    "    \n",
    "yelp['exclamation'] = yelp.review.str.contains(\"!\")\n",
    "# reviews[\"allcaps\"] = reviews.review.str.isupper() too correlated with the below\n",
    "yelp[\"percent_capitalized_words\"] = yelp.review.apply(percent_capitalized_words)\n",
    "yelp[\"num_capitalized_words\"] = yelp.review.apply(lambda x: percent_capitalized_words(x, True))\n",
    "data_yelp = yelp[features]\n",
    "target_yelp = yelp['score']"
   ]
  },
  {
   "cell_type": "code",
   "execution_count": 23,
   "metadata": {
    "ExecuteTime": {
     "end_time": "2018-12-03T18:26:01.330090Z",
     "start_time": "2018-12-03T18:26:00.479948Z"
    }
   },
   "outputs": [
    {
     "data": {
      "image/png": "[encoded data removed]",
      "text/plain": [
       "<Figure size 1008x864 with 2 Axes>"
      ]
     },
     "metadata": {
      "needs_background": "light"
     },
     "output_type": "display_data"
    }
   ],
   "source": [
    "plt.figure(figsize=(14,12))\n",
    "sns.heatmap(yelp.corr())\n",
    "plt.show()"
   ]
  },
  {
   "cell_type": "markdown",
   "metadata": {},
   "source": [
    "  * Yelp reviews do not contain the words difficult, doesn't, broke, working or sturdy\n",
    "  * otherwise appear to be uncorrelated"
   ]
  },
  {
   "cell_type": "code",
   "execution_count": 28,
   "metadata": {
    "ExecuteTime": {
     "end_time": "2018-12-03T18:30:30.213381Z",
     "start_time": "2018-12-03T18:30:30.126367Z"
    }
   },
   "outputs": [
    {
     "name": "stdout",
     "output_type": "stream",
     "text": [
      "Number of mislabeled points out of a total 1000 points : 339\n",
      "Accuracy: 66.10000000000001%\n",
      "Accuracy: 66.10000000000001%\n",
      "[0.67  0.655 0.615 0.71  0.635]\n",
      "cv average is = 65.70%\n",
      "[[446  54]\n",
      " [285 215]]\n",
      "True Positive = 21.50%\n",
      "False Positive = 5.40%\n",
      "True Negative = 44.60%\n",
      "False Negative = 28.50%\n",
      "sensitivity or hit rate is 43.00%\n",
      "specificity or True Negative rate is 89.20%\n"
     ]
    },
    {
     "name": "stderr",
     "output_type": "stream",
     "text": [
      "/Users/mitchellmurphy/anaconda3/envs/python3.5/lib/python3.6/site-packages/sklearn/model_selection/_split.py:2053: FutureWarning: You should specify a value for 'cv' instead of relying on the default value. The default value will change from 3 to 5 in version 0.22.\n",
      "  warnings.warn(CV_WARNING, FutureWarning)\n"
     ]
    }
   ],
   "source": [
    "y_pred = cross_val_predict(bnb, data_yelp, target_yelp)\n",
    "\n",
    "n = data.shape[0]\n",
    "# Display our results.\n",
    "print(\"Number of mislabeled points out of a total {} points : {}\".format(\n",
    "    n,\n",
    "    (target_yelp != y_pred).sum()\n",
    "))\n",
    "\n",
    "correct = (n - (target_yelp != y_pred).sum())/n * 100\n",
    "print(\"Accuracy: {}%\".format(correct))\n",
    "\n",
    "correct = (n - (target_yelp != y_pred).sum())/n * 100\n",
    "print(\"Accuracy: {}%\".format(correct))\n",
    "\n",
    "\n",
    "cv = cross_val_score(bnb, data_yelp, target_yelp, cv=5)\n",
    "print(cv)\n",
    "print(\"cv average is = {:.2f}%\".format(cv.mean()*100))\n",
    "\n",
    "cm = confusion_matrix(target_yelp, y_pred)\n",
    "print(cm)\n",
    "print(\"True Positive = {:.2f}%\".format(cm[1,1]/10))\n",
    "print(\"False Positive = {:.2f}%\".format(cm[0,1]/10))\n",
    "print(\"True Negative = {:.2f}%\".format(cm[0,0]/10))\n",
    "print(\"False Negative = {:.2f}%\".format(cm[1,0]/10))\n",
    "print(\"sensitivity or hit rate is {:.2f}%\".format(cm[1,1]/(cm[1,0]+cm[1,1])*100))\n",
    "# sensitivity (recall) is the percentage of positives identified or TP/FN+TP\n",
    "print(\"specificity or True Negative rate is {:.2f}%\".format(cm[0,0]/(cm[0,0]+cm[0,1])*100))"
   ]
  },
  {
   "cell_type": "markdown",
   "metadata": {},
   "source": [
    "  * This model is roughly **66.1%** accurate, slightly below the accuracy on Amazon reviews, however the average score when using 5-fold cross validation is **65.7 %**\n",
    "  \n",
    "  # Conclusion\n",
    "  \n",
    "  We constructed a Naive Bayes classification model by simply using the top frequently used words that were unique to positive and negative reviews, as well as if a review contains an exclamation mark and if the review is all caps (using Amazon reviews). Here were the accuracy rates for each dataset:\n",
    "    1. Amazon: 67.3%\n",
    "    2. IMDB: 60.02%\n",
    "    3. Yelp: 65.7%\n",
    "    \n",
    "  So when we do not use cross-validation, model that we constructed to classify Amazon reviews actually performs better on IMDB reviews, however when using the 5-fold cross-validation average the performance on the various datasets makes more sense. "
   ]
  }
 ],
 "metadata": {
  "kernelspec": {
   "display_name": "Python 3",
   "language": "python",
   "name": "python3"
  },
  "language_info": {
   "codemirror_mode": {
    "name": "ipython",
    "version": 3
   },
   "file_extension": ".py",
   "mimetype": "text/x-python",
   "name": "python",
   "nbconvert_exporter": "python",
   "pygments_lexer": "ipython3",
   "version": "3.6.6"
  },
  "latex_envs": {
   "LaTeX_envs_menu_present": true,
   "autoclose": false,
   "autocomplete": true,
   "bibliofile": "biblio.bib",
   "cite_by": "apalike",
   "current_citInitial": 1,
   "eqLabelWithNumbers": true,
   "eqNumInitial": 1,
   "hotkeys": {
    "equation": "Ctrl-E",
    "itemize": "Ctrl-I"
   },
   "labels_anchors": false,
   "latex_user_defs": false,
   "report_style_numbering": false,
   "user_envs_cfg": false
  },
  "toc": {
   "base_numbering": 1,
   "nav_menu": {},
   "number_sections": true,
   "sideBar": true,
   "skip_h1_title": false,
   "title_cell": "Table of Contents",
   "title_sidebar": "Contents",
   "toc_cell": false,
   "toc_position": {},
   "toc_section_display": true,
   "toc_window_display": false
  },
  "varInspector": {
   "cols": {
    "lenName": 16,
    "lenType": 16,
    "lenVar": 40
   },
   "kernels_config": {
    "python": {
     "delete_cmd_postfix": "",
     "delete_cmd_prefix": "del ",
     "library": "var_list.py",
     "varRefreshCmd": "print(var_dic_list())"
    },
    "r": {
     "delete_cmd_postfix": ") ",
     "delete_cmd_prefix": "rm(",
     "library": "var_list.r",
     "varRefreshCmd": "cat(var_dic_list()) "
    }
   },
   "types_to_exclude": [
    "module",
    "function",
    "builtin_function_or_method",
    "instance",
    "_Feature"
   ],
   "window_display": false
  }
 },
 "nbformat": 4,
 "nbformat_minor": 2
}
