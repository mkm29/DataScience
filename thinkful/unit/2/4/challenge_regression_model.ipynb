{
 "cells": [
  {
   "cell_type": "code",
   "execution_count": 1,
   "metadata": {
    "ExecuteTime": {
     "end_time": "2018-12-06T15:50:10.701921Z",
     "start_time": "2018-12-06T15:50:09.280528Z"
    }
   },
   "outputs": [],
   "source": [
    "import math\n",
    "import warnings\n",
    "\n",
    "from IPython.display import display\n",
    "from matplotlib import pyplot as plt\n",
    "import numpy as np\n",
    "import pandas as pd\n",
    "import seaborn as sns\n",
    "from sklearn import linear_model\n",
    "import statsmodels.formula.api as smf\n",
    "import math\n",
    "# Display preferences.\n",
    "%matplotlib inline\n",
    "pd.options.display.float_format = '{:.3f}'.format\n",
    "\n",
    "# Suppress annoying harmless error.\n",
    "warnings.filterwarnings(\n",
    "    action=\"ignore\",\n",
    "    module=\"scipy\",\n",
    "    message=\"^internal gelsd\"\n",
    ")"
   ]
  },
  {
   "cell_type": "code",
   "execution_count": 3,
   "metadata": {
    "ExecuteTime": {
     "end_time": "2018-12-06T15:51:00.626901Z",
     "start_time": "2018-12-06T15:51:00.574967Z"
    }
   },
   "outputs": [
    {
     "data": {
      "text/html": [
       "<div>\n",
       "<style scoped>\n",
       "    .dataframe tbody tr th:only-of-type {\n",
       "        vertical-align: middle;\n",
       "    }\n",
       "\n",
       "    .dataframe tbody tr th {\n",
       "        vertical-align: top;\n",
       "    }\n",
       "\n",
       "    .dataframe thead th {\n",
       "        text-align: right;\n",
       "    }\n",
       "</style>\n",
       "<table border=\"1\" class=\"dataframe\">\n",
       "  <thead>\n",
       "    <tr style=\"text-align: right;\">\n",
       "      <th></th>\n",
       "      <th>City</th>\n",
       "      <th>Population</th>\n",
       "      <th>Violent_crime</th>\n",
       "      <th>Murder</th>\n",
       "      <th>Rape</th>\n",
       "      <th>Robbery</th>\n",
       "      <th>Aggravated_assault</th>\n",
       "      <th>Property_crime</th>\n",
       "      <th>Burglary</th>\n",
       "      <th>Larceny_theft</th>\n",
       "      <th>Motor_vehicle_theft</th>\n",
       "      <th>Arson3</th>\n",
       "    </tr>\n",
       "  </thead>\n",
       "  <tbody>\n",
       "    <tr>\n",
       "      <th>0</th>\n",
       "      <td>Adams Village</td>\n",
       "      <td>1861.000</td>\n",
       "      <td>0.000</td>\n",
       "      <td>0.000</td>\n",
       "      <td>0.000</td>\n",
       "      <td>0.000</td>\n",
       "      <td>0.000</td>\n",
       "      <td>12.000</td>\n",
       "      <td>2.000</td>\n",
       "      <td>10.000</td>\n",
       "      <td>0.000</td>\n",
       "      <td>0.000</td>\n",
       "    </tr>\n",
       "    <tr>\n",
       "      <th>1</th>\n",
       "      <td>Addison Town and Village</td>\n",
       "      <td>2577.000</td>\n",
       "      <td>3.000</td>\n",
       "      <td>0.000</td>\n",
       "      <td>0.000</td>\n",
       "      <td>0.000</td>\n",
       "      <td>3.000</td>\n",
       "      <td>24.000</td>\n",
       "      <td>3.000</td>\n",
       "      <td>20.000</td>\n",
       "      <td>1.000</td>\n",
       "      <td>0.000</td>\n",
       "    </tr>\n",
       "    <tr>\n",
       "      <th>2</th>\n",
       "      <td>Akron Village</td>\n",
       "      <td>2846.000</td>\n",
       "      <td>3.000</td>\n",
       "      <td>0.000</td>\n",
       "      <td>0.000</td>\n",
       "      <td>0.000</td>\n",
       "      <td>3.000</td>\n",
       "      <td>16.000</td>\n",
       "      <td>1.000</td>\n",
       "      <td>15.000</td>\n",
       "      <td>0.000</td>\n",
       "      <td>0.000</td>\n",
       "    </tr>\n",
       "    <tr>\n",
       "      <th>3</th>\n",
       "      <td>Albany</td>\n",
       "      <td>97956.000</td>\n",
       "      <td>791.000</td>\n",
       "      <td>8.000</td>\n",
       "      <td>30.000</td>\n",
       "      <td>227.000</td>\n",
       "      <td>526.000</td>\n",
       "      <td>4090.000</td>\n",
       "      <td>705.000</td>\n",
       "      <td>3243.000</td>\n",
       "      <td>142.000</td>\n",
       "      <td>nan</td>\n",
       "    </tr>\n",
       "    <tr>\n",
       "      <th>4</th>\n",
       "      <td>Albion Village</td>\n",
       "      <td>6388.000</td>\n",
       "      <td>23.000</td>\n",
       "      <td>0.000</td>\n",
       "      <td>3.000</td>\n",
       "      <td>4.000</td>\n",
       "      <td>16.000</td>\n",
       "      <td>223.000</td>\n",
       "      <td>53.000</td>\n",
       "      <td>165.000</td>\n",
       "      <td>5.000</td>\n",
       "      <td>nan</td>\n",
       "    </tr>\n",
       "  </tbody>\n",
       "</table>\n",
       "</div>"
      ],
      "text/plain": [
       "                       City  Population  Violent_crime  Murder   Rape  \\\n",
       "0             Adams Village    1861.000          0.000   0.000  0.000   \n",
       "1  Addison Town and Village    2577.000          3.000   0.000  0.000   \n",
       "2             Akron Village    2846.000          3.000   0.000  0.000   \n",
       "3                    Albany   97956.000        791.000   8.000 30.000   \n",
       "4            Albion Village    6388.000         23.000   0.000  3.000   \n",
       "\n",
       "   Robbery  Aggravated_assault  Property_crime  Burglary  Larceny_theft  \\\n",
       "0    0.000               0.000          12.000     2.000         10.000   \n",
       "1    0.000               3.000          24.000     3.000         20.000   \n",
       "2    0.000               3.000          16.000     1.000         15.000   \n",
       "3  227.000             526.000        4090.000   705.000       3243.000   \n",
       "4    4.000              16.000         223.000    53.000        165.000   \n",
       "\n",
       "   Motor_vehicle_theft  Arson3  \n",
       "0                0.000   0.000  \n",
       "1                1.000   0.000  \n",
       "2                0.000   0.000  \n",
       "3              142.000     nan  \n",
       "4                5.000     nan  "
      ]
     },
     "execution_count": 3,
     "metadata": {},
     "output_type": "execute_result"
    }
   ],
   "source": [
    "df = pd.read_csv('./NEW_YORK-Offenses_Known_to_Law_Enforcement_by_City_2013 - 13tbl8ny.csv', \n",
    "                 thousands=',', skiprows=3, header = 1)\n",
    "df.columns  = ['City',\n",
    " 'Population',\n",
    " 'Violent_crime',\n",
    " 'Murder',\n",
    " 'Rape_revised_definition',\n",
    " 'Rape',\n",
    " 'Robbery',\n",
    " 'Aggravated_assault',\n",
    " 'Property_crime',\n",
    " 'Burglary',\n",
    " 'Larceny_theft',\n",
    " 'Motor_vehicle_theft',\n",
    " 'Arson3']\n",
    "# drop last 3 rows\n",
    "df = df.iloc[:348,:]\n",
    "df.drop(\"Rape_revised_definition\", 1, inplace=True)\n",
    "df.head()"
   ]
  },
  {
   "cell_type": "code",
   "execution_count": 35,
   "metadata": {
    "ExecuteTime": {
     "end_time": "2018-12-06T16:02:01.321604Z",
     "start_time": "2018-12-06T16:02:01.262823Z"
    }
   },
   "outputs": [
    {
     "data": {
      "text/html": [
       "<div>\n",
       "<style scoped>\n",
       "    .dataframe tbody tr th:only-of-type {\n",
       "        vertical-align: middle;\n",
       "    }\n",
       "\n",
       "    .dataframe tbody tr th {\n",
       "        vertical-align: top;\n",
       "    }\n",
       "\n",
       "    .dataframe thead th {\n",
       "        text-align: right;\n",
       "    }\n",
       "</style>\n",
       "<table border=\"1\" class=\"dataframe\">\n",
       "  <thead>\n",
       "    <tr style=\"text-align: right;\">\n",
       "      <th></th>\n",
       "      <th>Population</th>\n",
       "      <th>Violent_crime</th>\n",
       "      <th>Murder</th>\n",
       "      <th>Rape</th>\n",
       "      <th>Robbery</th>\n",
       "      <th>Aggravated_assault</th>\n",
       "      <th>Property_crime</th>\n",
       "      <th>Burglary</th>\n",
       "      <th>Larceny_theft</th>\n",
       "      <th>Motor_vehicle_theft</th>\n",
       "      <th>Arson3</th>\n",
       "      <th>y_hat</th>\n",
       "      <th>resid</th>\n",
       "      <th>pred_off_percent</th>\n",
       "      <th>has_violent_crime</th>\n",
       "      <th>has_murder_nonnegligent_manslaughter</th>\n",
       "    </tr>\n",
       "  </thead>\n",
       "  <tbody>\n",
       "    <tr>\n",
       "      <th>count</th>\n",
       "      <td>348.000</td>\n",
       "      <td>348.000</td>\n",
       "      <td>348.000</td>\n",
       "      <td>348.000</td>\n",
       "      <td>348.000</td>\n",
       "      <td>348.000</td>\n",
       "      <td>348.000</td>\n",
       "      <td>348.000</td>\n",
       "      <td>348.000</td>\n",
       "      <td>348.000</td>\n",
       "      <td>187.000</td>\n",
       "      <td>348.000</td>\n",
       "      <td>348.000</td>\n",
       "      <td>342.000</td>\n",
       "      <td>348.000</td>\n",
       "      <td>348.000</td>\n",
       "    </tr>\n",
       "    <tr>\n",
       "      <th>mean</th>\n",
       "      <td>40037.632</td>\n",
       "      <td>201.595</td>\n",
       "      <td>1.566</td>\n",
       "      <td>5.865</td>\n",
       "      <td>72.902</td>\n",
       "      <td>121.261</td>\n",
       "      <td>792.606</td>\n",
       "      <td>119.684</td>\n",
       "      <td>637.017</td>\n",
       "      <td>35.905</td>\n",
       "      <td>1.872</td>\n",
       "      <td>792.606</td>\n",
       "      <td>-0.000</td>\n",
       "      <td>3.398</td>\n",
       "      <td>0.853</td>\n",
       "      <td>0.141</td>\n",
       "    </tr>\n",
       "    <tr>\n",
       "      <th>std</th>\n",
       "      <td>450037.368</td>\n",
       "      <td>2815.269</td>\n",
       "      <td>18.304</td>\n",
       "      <td>60.425</td>\n",
       "      <td>1031.033</td>\n",
       "      <td>1706.132</td>\n",
       "      <td>7659.725</td>\n",
       "      <td>924.949</td>\n",
       "      <td>6346.054</td>\n",
       "      <td>403.424</td>\n",
       "      <td>10.693</td>\n",
       "      <td>7653.764</td>\n",
       "      <td>302.135</td>\n",
       "      <td>12.527</td>\n",
       "      <td>0.354</td>\n",
       "      <td>0.348</td>\n",
       "    </tr>\n",
       "    <tr>\n",
       "      <th>min</th>\n",
       "      <td>526.000</td>\n",
       "      <td>0.000</td>\n",
       "      <td>0.000</td>\n",
       "      <td>0.000</td>\n",
       "      <td>0.000</td>\n",
       "      <td>0.000</td>\n",
       "      <td>0.000</td>\n",
       "      <td>0.000</td>\n",
       "      <td>0.000</td>\n",
       "      <td>0.000</td>\n",
       "      <td>0.000</td>\n",
       "      <td>95.698</td>\n",
       "      <td>-1509.953</td>\n",
       "      <td>-0.714</td>\n",
       "      <td>0.000</td>\n",
       "      <td>0.000</td>\n",
       "    </tr>\n",
       "    <tr>\n",
       "      <th>25%</th>\n",
       "      <td>3003.000</td>\n",
       "      <td>2.000</td>\n",
       "      <td>0.000</td>\n",
       "      <td>0.000</td>\n",
       "      <td>0.000</td>\n",
       "      <td>1.000</td>\n",
       "      <td>40.500</td>\n",
       "      <td>6.000</td>\n",
       "      <td>31.000</td>\n",
       "      <td>0.000</td>\n",
       "      <td>0.000</td>\n",
       "      <td>126.831</td>\n",
       "      <td>-104.154</td>\n",
       "      <td>-0.093</td>\n",
       "      <td>1.000</td>\n",
       "      <td>0.000</td>\n",
       "    </tr>\n",
       "    <tr>\n",
       "      <th>50%</th>\n",
       "      <td>7233.500</td>\n",
       "      <td>6.000</td>\n",
       "      <td>0.000</td>\n",
       "      <td>0.000</td>\n",
       "      <td>1.000</td>\n",
       "      <td>4.000</td>\n",
       "      <td>112.500</td>\n",
       "      <td>17.500</td>\n",
       "      <td>94.000</td>\n",
       "      <td>2.000</td>\n",
       "      <td>0.000</td>\n",
       "      <td>173.853</td>\n",
       "      <td>-75.341</td>\n",
       "      <td>0.728</td>\n",
       "      <td>1.000</td>\n",
       "      <td>0.000</td>\n",
       "    </tr>\n",
       "    <tr>\n",
       "      <th>75%</th>\n",
       "      <td>18427.500</td>\n",
       "      <td>22.000</td>\n",
       "      <td>0.000</td>\n",
       "      <td>2.000</td>\n",
       "      <td>5.000</td>\n",
       "      <td>14.000</td>\n",
       "      <td>341.000</td>\n",
       "      <td>51.250</td>\n",
       "      <td>287.250</td>\n",
       "      <td>7.000</td>\n",
       "      <td>1.000</td>\n",
       "      <td>316.780</td>\n",
       "      <td>29.460</td>\n",
       "      <td>2.342</td>\n",
       "      <td>1.000</td>\n",
       "      <td>0.000</td>\n",
       "    </tr>\n",
       "    <tr>\n",
       "      <th>max</th>\n",
       "      <td>8396126.000</td>\n",
       "      <td>52384.000</td>\n",
       "      <td>335.000</td>\n",
       "      <td>1112.000</td>\n",
       "      <td>19170.000</td>\n",
       "      <td>31767.000</td>\n",
       "      <td>141971.000</td>\n",
       "      <td>16606.000</td>\n",
       "      <td>117931.000</td>\n",
       "      <td>7434.000</td>\n",
       "      <td>132.000</td>\n",
       "      <td>142089.524</td>\n",
       "      <td>1770.475</td>\n",
       "      <td>151.876</td>\n",
       "      <td>1.000</td>\n",
       "      <td>1.000</td>\n",
       "    </tr>\n",
       "  </tbody>\n",
       "</table>\n",
       "</div>"
      ],
      "text/plain": [
       "       Population  Violent_crime  Murder     Rape   Robbery  \\\n",
       "count     348.000        348.000 348.000  348.000   348.000   \n",
       "mean    40037.632        201.595   1.566    5.865    72.902   \n",
       "std    450037.368       2815.269  18.304   60.425  1031.033   \n",
       "min       526.000          0.000   0.000    0.000     0.000   \n",
       "25%      3003.000          2.000   0.000    0.000     0.000   \n",
       "50%      7233.500          6.000   0.000    0.000     1.000   \n",
       "75%     18427.500         22.000   0.000    2.000     5.000   \n",
       "max   8396126.000      52384.000 335.000 1112.000 19170.000   \n",
       "\n",
       "       Aggravated_assault  Property_crime  Burglary  Larceny_theft  \\\n",
       "count             348.000         348.000   348.000        348.000   \n",
       "mean              121.261         792.606   119.684        637.017   \n",
       "std              1706.132        7659.725   924.949       6346.054   \n",
       "min                 0.000           0.000     0.000          0.000   \n",
       "25%                 1.000          40.500     6.000         31.000   \n",
       "50%                 4.000         112.500    17.500         94.000   \n",
       "75%                14.000         341.000    51.250        287.250   \n",
       "max             31767.000      141971.000 16606.000     117931.000   \n",
       "\n",
       "       Motor_vehicle_theft  Arson3      y_hat     resid  pred_off_percent  \\\n",
       "count              348.000 187.000    348.000   348.000           342.000   \n",
       "mean                35.905   1.872    792.606    -0.000             3.398   \n",
       "std                403.424  10.693   7653.764   302.135            12.527   \n",
       "min                  0.000   0.000     95.698 -1509.953            -0.714   \n",
       "25%                  0.000   0.000    126.831  -104.154            -0.093   \n",
       "50%                  2.000   0.000    173.853   -75.341             0.728   \n",
       "75%                  7.000   1.000    316.780    29.460             2.342   \n",
       "max               7434.000 132.000 142089.524  1770.475           151.876   \n",
       "\n",
       "       has_violent_crime  has_murder_nonnegligent_manslaughter  \n",
       "count            348.000                               348.000  \n",
       "mean               0.853                                 0.141  \n",
       "std                0.354                                 0.348  \n",
       "min                0.000                                 0.000  \n",
       "25%                1.000                                 0.000  \n",
       "50%                1.000                                 0.000  \n",
       "75%                1.000                                 0.000  \n",
       "max                1.000                                 1.000  "
      ]
     },
     "execution_count": 35,
     "metadata": {},
     "output_type": "execute_result"
    }
   ],
   "source": [
    "df.describe()"
   ]
  },
  {
   "cell_type": "code",
   "execution_count": 5,
   "metadata": {
    "ExecuteTime": {
     "end_time": "2018-12-06T15:51:17.115635Z",
     "start_time": "2018-12-06T15:51:17.086958Z"
    }
   },
   "outputs": [
    {
     "name": "stdout",
     "output_type": "stream",
     "text": [
      "Model Parameters\n",
      "===========================================\n",
      "Intercept        90.151\n",
      "Population        0.011\n",
      "Murder          241.823\n",
      "Robbery          -8.668\n",
      "Violent_crime     2.646\n",
      "dtype: float64\n",
      "p-values\n",
      "===========================================\n",
      "Intercept       0.000\n",
      "Population      0.000\n",
      "Murder          0.000\n",
      "Robbery         0.000\n",
      "Violent_crime   0.000\n",
      "dtype: float64\n",
      "\n",
      "\n",
      "R-Squared: 0.998444118611959\n"
     ]
    }
   ],
   "source": [
    "formula1 = \"Property_crime ~ Population + Murder + Robbery + Violent_crime\"\n",
    "# Fit the model to our data using the formula.\n",
    "lm1 = smf.ols(formula=formula1, data=df).fit()\n",
    "print(\"Model Parameters\\n===========================================\")\n",
    "print(lm1.params)\n",
    "print(\"p-values\\n===========================================\")\n",
    "print(lm1.pvalues)\n",
    "print(\"\\n\\nR-Squared: {}\".format(lm1.rsquared))"
   ]
  },
  {
   "cell_type": "markdown",
   "metadata": {},
   "source": [
    "I highly doubt all the p-values are 0.0, so What are the actual p-values? "
   ]
  },
  {
   "cell_type": "code",
   "execution_count": 23,
   "metadata": {
    "ExecuteTime": {
     "end_time": "2018-12-06T15:56:09.264218Z",
     "start_time": "2018-12-06T15:56:09.253553Z"
    }
   },
   "outputs": [],
   "source": [
    "# let's take a deeper look into where the model fails the most\n",
    "df[\"y_hat\"] = lm1.predict(df)\n",
    "df[\"resid\"] = lm1.resid\n",
    "df[\"pred_off_percent\"] = (df.y_hat - df.Property_crime)/df.Property_crime\n",
    "# need to replace 0's with nan\n",
    "indices = list(np.where((df.pred_off_percent > 10000))[0])\n",
    "df.iloc[indices, 14] = np.nan"
   ]
  },
  {
   "cell_type": "code",
   "execution_count": 32,
   "metadata": {
    "ExecuteTime": {
     "end_time": "2018-12-06T15:59:56.003618Z",
     "start_time": "2018-12-06T15:59:55.998609Z"
    }
   },
   "outputs": [
    {
     "name": "stdout",
     "output_type": "stream",
     "text": [
      "Predicted Property Crime is off by 339.8%\n",
      "...of off by an average of 173.9 crimes\n"
     ]
    }
   ],
   "source": [
    "print(\"Predicted Property Crime is off by {}%\".format(round(df.pred_off_percent.mean()*100,1)))\n",
    "print(\"...of off by an average of {} crimes\".format(round(np.abs(df.resid).mean(),1)))"
   ]
  },
  {
   "cell_type": "code",
   "execution_count": 39,
   "metadata": {
    "ExecuteTime": {
     "end_time": "2018-12-06T15:35:38.576503Z",
     "start_time": "2018-12-06T15:35:38.565999Z"
    }
   },
   "outputs": [
    {
     "data": {
      "text/plain": [
       "Population                         1251.333\n",
       "Violent_crime                         0.000\n",
       "Murder_nonnegligent_manslaughter      0.000\n",
       "Rape_legacy_definition                0.000\n",
       "Robbery                               0.000\n",
       "Aggravated_assault                    0.000\n",
       "Property_crime                        0.000\n",
       "Burglary                              0.000\n",
       "Larceny_theft                         0.000\n",
       "Motor_vehicle_theft                   0.000\n",
       "Arson3                                0.000\n",
       "y_hat                               103.347\n",
       "resid                              -103.347\n",
       "pred_off_percent                        inf\n",
       "dtype: float64"
      ]
     },
     "execution_count": 39,
     "metadata": {},
     "output_type": "execute_result"
    }
   ],
   "source": [
    "# looks like one pitfall of this model is handling situations where\n",
    "# property crime is zero\n",
    "df[df.Property_crime == 0].mean()\n",
    "# so when property_cime is 0, so are all else crime metrics..."
   ]
  },
  {
   "cell_type": "markdown",
   "metadata": {},
   "source": [
    "So when a city has zero crimes (odd) this model is off by an average of 103.3 crimes...not good (this group only consists of 6 cities but still needs to be accounted for)."
   ]
  },
  {
   "cell_type": "code",
   "execution_count": 38,
   "metadata": {
    "ExecuteTime": {
     "end_time": "2018-12-06T16:04:12.310967Z",
     "start_time": "2018-12-06T16:04:12.301992Z"
    }
   },
   "outputs": [],
   "source": [
    "# Make a no_crime dummy var for each crime \n",
    "df[\"has_violent_crime\"] = np.where(df.Violent_crime>0,1,0)\n",
    "df[\"has_murder\"] = np.where(df.Murder>0,1,0)\n",
    "df[\"has_rape\"] = np.where(df.Rape>0,1,0)\n",
    "df[\"has_robbery\"] = np.where(df.Robbery>0,1,0)\n",
    "df[\"has_aggravated_assault\"] = np.where(df.Aggravated_assault>0,1,0)\n",
    "df[\"has_burglary\"] = np.where(df.Burglary>0,1,0)"
   ]
  },
  {
   "cell_type": "markdown",
   "metadata": {
    "ExecuteTime": {
     "end_time": "2018-12-06T15:44:38.394419Z",
     "start_time": "2018-12-06T15:44:38.389975Z"
    }
   },
   "source": [
    "Now update the previous formula to account for the situation where there is no crime in that category."
   ]
  },
  {
   "cell_type": "code",
   "execution_count": 39,
   "metadata": {
    "ExecuteTime": {
     "end_time": "2018-12-06T16:04:13.849151Z",
     "start_time": "2018-12-06T16:04:13.829680Z"
    }
   },
   "outputs": [
    {
     "name": "stdout",
     "output_type": "stream",
     "text": [
      "Model Parameters\n",
      "===========================================\n",
      "Intercept        90.151\n",
      "Population        0.011\n",
      "Murder          241.823\n",
      "Robbery          -8.668\n",
      "Violent_crime     2.646\n",
      "dtype: float64\n",
      "p-values\n",
      "===========================================\n",
      "Intercept       0.000\n",
      "Population      0.000\n",
      "Murder          0.000\n",
      "Robbery         0.000\n",
      "Violent_crime   0.000\n",
      "dtype: float64\n",
      "\n",
      "\n",
      "R-Squared: 0.998444118611959\n"
     ]
    }
   ],
   "source": [
    "# now just \n",
    "formula2 = \"Property_crime ~ Population + has_murder*Murder + has_robbery*Robbery + has_violent_crime*Violent_crime\"\n",
    "\n",
    "lm2 = smf.ols(formula=formula2, data=df).fit()\n",
    "print(\"Model Parameters\\n===========================================\")\n",
    "print(lm1.params)\n",
    "print(\"p-values\\n===========================================\")\n",
    "print(lm1.pvalues)\n",
    "print(\"\\n\\nR-Squared: {}\".format(lm1.rsquared))"
   ]
  },
  {
   "cell_type": "code",
   "execution_count": 74,
   "metadata": {
    "ExecuteTime": {
     "end_time": "2018-12-06T16:14:30.516946Z",
     "start_time": "2018-12-06T16:14:30.501725Z"
    }
   },
   "outputs": [],
   "source": [
    "df2 = df.copy()\n",
    "df2[\"y_hat\"] = lm2.predict(df2)\n",
    "df2[\"resid\"] = lm2.resid\n",
    "df2[\"pred_off_percent\"] = (df2.y_hat - df2.Property_crime)/df2.Property_crime\n",
    "indices = list(np.where((df2.pred_off_percent == -(math.inf)) | (df2.pred_off_percent == math.inf))[0])\n",
    "df2.iloc[indices,14] = np.nan"
   ]
  },
  {
   "cell_type": "code",
   "execution_count": 78,
   "metadata": {
    "ExecuteTime": {
     "end_time": "2018-12-06T16:15:53.483399Z",
     "start_time": "2018-12-06T16:15:53.478129Z"
    }
   },
   "outputs": [
    {
     "name": "stdout",
     "output_type": "stream",
     "text": [
      "Predicted Property Crime is off by 89.3%\n",
      "Or off by an average of 153.4 crimes\n"
     ]
    }
   ],
   "source": [
    "print(\"Predicted Property Crime is off by {}%\".format(round(df2.pred_off_percent.mean()*100,1)))\n",
    "print(\"Or off by an average of {} crimes\".format(round(np.abs(df2.resid).mean(),1)))"
   ]
  },
  {
   "cell_type": "markdown",
   "metadata": {},
   "source": [
    "Notice that this is a significant difference in the average percentage the model is off (334 down to 89), however the number of crimes is still relatively high (173 down to 153)."
   ]
  },
  {
   "cell_type": "code",
   "execution_count": 82,
   "metadata": {
    "ExecuteTime": {
     "end_time": "2018-12-06T16:19:25.438622Z",
     "start_time": "2018-12-06T16:19:25.406693Z"
    }
   },
   "outputs": [
    {
     "name": "stdout",
     "output_type": "stream",
     "text": [
      "Model Parameters\n",
      "===========================================\n",
      "Intercept                              -0.000\n",
      "Population                              0.000\n",
      "Violent_crime                           0.000\n",
      "Murder                                 -0.000\n",
      "Property_crime                          0.667\n",
      "Larceny_theft                          -0.000\n",
      "Motor_vehicle_theft                    -0.000\n",
      "Arson3                                 -0.000\n",
      "y_hat                                   0.333\n",
      "resid                                   0.333\n",
      "pred_off_percent                        0.000\n",
      "has_violent_crime                       0.000\n",
      "has_murder_nonnegligent_manslaughter   -0.000\n",
      "has_rape_legacy_definition             -0.000\n",
      "has_robbery                            -0.000\n",
      "has_aggravated_assault                 -0.000\n",
      "has_burglary                           -0.000\n",
      "has_murder                              0.000\n",
      "has_rape                               -0.000\n",
      "dtype: float64\n",
      "p-values\n",
      "===========================================\n",
      "Intercept                              0.977\n",
      "Population                             0.076\n",
      "Violent_crime                          0.965\n",
      "Murder                                 0.999\n",
      "Property_crime                         0.000\n",
      "Larceny_theft                          0.965\n",
      "Motor_vehicle_theft                    0.926\n",
      "Arson3                                 0.957\n",
      "y_hat                                  0.000\n",
      "resid                                  0.000\n",
      "pred_off_percent                       0.941\n",
      "has_violent_crime                      0.998\n",
      "has_murder_nonnegligent_manslaughter   0.987\n",
      "has_rape_legacy_definition             0.959\n",
      "has_robbery                            0.985\n",
      "has_aggravated_assault                 0.986\n",
      "has_burglary                           0.963\n",
      "has_murder                             0.996\n",
      "has_rape                               0.955\n",
      "dtype: float64\n",
      "\n",
      "\n",
      "R-Squared: 1.0\n"
     ]
    }
   ],
   "source": [
    "# include every variable except 5,6, and 8\n",
    "formula_saturated = \"Property_crime ~ \" + ' + '.join(df.columns[1:4]) + \" + \" + df.columns[7] + \" + \" + ' + '.join(df.columns[9:])\n",
    "lm3 = smf.ols(formula=formula_saturated, data=df).fit()\n",
    "print(\"Model Parameters\\n===========================================\")\n",
    "print(lm3.params)\n",
    "print(\"p-values\\n===========================================\")\n",
    "print(lm3.pvalues)\n",
    "print(\"\\n\\nR-Squared: {}\".format(lm3.rsquared))"
   ]
  },
  {
   "cell_type": "code",
   "execution_count": null,
   "metadata": {},
   "outputs": [],
   "source": []
  }
 ],
 "metadata": {
  "kernelspec": {
   "display_name": "Python 3",
   "language": "python",
   "name": "python3"
  },
  "language_info": {
   "codemirror_mode": {
    "name": "ipython",
    "version": 3
   },
   "file_extension": ".py",
   "mimetype": "text/x-python",
   "name": "python",
   "nbconvert_exporter": "python",
   "pygments_lexer": "ipython3",
   "version": "3.6.6"
  },
  "latex_envs": {
   "LaTeX_envs_menu_present": true,
   "autoclose": false,
   "autocomplete": true,
   "bibliofile": "biblio.bib",
   "cite_by": "apalike",
   "current_citInitial": 1,
   "eqLabelWithNumbers": true,
   "eqNumInitial": 1,
   "hotkeys": {
    "equation": "Ctrl-E",
    "itemize": "Ctrl-I"
   },
   "labels_anchors": false,
   "latex_user_defs": false,
   "report_style_numbering": false,
   "user_envs_cfg": false
  },
  "toc": {
   "base_numbering": 1,
   "nav_menu": {},
   "number_sections": true,
   "sideBar": true,
   "skip_h1_title": false,
   "title_cell": "Table of Contents",
   "title_sidebar": "Contents",
   "toc_cell": false,
   "toc_position": {},
   "toc_section_display": true,
   "toc_window_display": false
  },
  "varInspector": {
   "cols": {
    "lenName": 16,
    "lenType": 16,
    "lenVar": 40
   },
   "kernels_config": {
    "python": {
     "delete_cmd_postfix": "",
     "delete_cmd_prefix": "del ",
     "library": "var_list.py",
     "varRefreshCmd": "print(var_dic_list())"
    },
    "r": {
     "delete_cmd_postfix": ") ",
     "delete_cmd_prefix": "rm(",
     "library": "var_list.r",
     "varRefreshCmd": "cat(var_dic_list()) "
    }
   },
   "types_to_exclude": [
    "module",
    "function",
    "builtin_function_or_method",
    "instance",
    "_Feature"
   ],
   "window_display": false
  }
 },
 "nbformat": 4,
 "nbformat_minor": 2
}
