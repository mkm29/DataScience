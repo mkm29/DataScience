{
 "cells": [
  {
   "cell_type": "code",
   "execution_count": 1,
   "metadata": {
    "ExecuteTime": {
     "end_time": "2018-12-16T02:44:59.887629Z",
     "start_time": "2018-12-16T02:44:58.570281Z"
    }
   },
   "outputs": [],
   "source": [
    "import math\n",
    "import warnings\n",
    "\n",
    "from matplotlib import pyplot as plt\n",
    "import numpy as np\n",
    "import pandas as pd\n",
    "import seaborn as sns\n",
    "from sklearn import linear_model\n",
    "from sklearn.linear_model import LinearRegression\n",
    "from sklearn.cross_decomposition import PLSRegression\n",
    "from sklearn.model_selection import cross_val_score, cross_val_predict\n",
    "from scipy.stats import boxcox\n",
    "from scipy.special import inv_boxcox\n",
    "import random\n",
    "import warnings\n",
    "\n",
    "# Display preferences.\n",
    "%matplotlib inline\n",
    "pd.options.display.float_format = '{:.3f}'.format\n",
    "\n",
    "# Suppress annoying harmless error.\n",
    "warnings.simplefilter(action='ignore', category=FutureWarning)"
   ]
  },
  {
   "cell_type": "code",
   "execution_count": 2,
   "metadata": {
    "ExecuteTime": {
     "end_time": "2018-12-16T02:45:00.004016Z",
     "start_time": "2018-12-16T02:44:59.903309Z"
    }
   },
   "outputs": [],
   "source": [
    "florida = pd.read_excel('./florida_2017.xls')\n",
    "headers = ['city', 'population', 'violent_crime', 'murder', 'rape', 'robbery',\n",
    "       'assault', 'property_crime', 'burglary', 'larceny_theft',\n",
    "       'motor_vehicle_theft', 'arson']\n",
    "florida.columns = headers\n",
    "florida.set_index('city', inplace=True)"
   ]
  },
  {
   "cell_type": "code",
   "execution_count": 3,
   "metadata": {
    "ExecuteTime": {
     "end_time": "2018-12-16T02:45:09.404936Z",
     "start_time": "2018-12-16T02:45:09.271471Z"
    }
   },
   "outputs": [
    {
     "data": {
      "text/plain": [
       "<matplotlib.axes._subplots.AxesSubplot at 0x1a1c1f1a58>"
      ]
     },
     "execution_count": 3,
     "metadata": {},
     "output_type": "execute_result"
    },
    {
     "data": {
      "image/png": "[encoded data removed]",
      "text/plain": [
       "<Figure size 432x288 with 1 Axes>"
      ]
     },
     "metadata": {
      "needs_background": "light"
     },
     "output_type": "display_data"
    }
   ],
   "source": [
    "sns.boxplot(florida.population)"
   ]
  },
  {
   "cell_type": "code",
   "execution_count": 5,
   "metadata": {
    "ExecuteTime": {
     "end_time": "2018-12-16T02:45:47.348596Z",
     "start_time": "2018-12-16T02:45:47.290264Z"
    }
   },
   "outputs": [],
   "source": [
    "crime_cols = ['violent_crime', 'murder', 'rape', 'robbery', \n",
    "              'assault', 'property_crime', 'burglary', 'larceny_theft', \n",
    "              'motor_vehicle_theft', 'arson']\n",
    "# so we will want to remove some outliers\n",
    "florida = florida[florida.population<florida.population.quantile(0.9)]\n",
    "# add a log odds variable (do not include property crimes though)\n",
    "cols = ['violent_crime', 'murder', 'rape', 'robbery', \n",
    "        'assault', 'burglary', 'larceny_theft', \n",
    "        'motor_vehicle_theft', 'arson']\n",
    "florida[\"log_odds\"] = np.log1p(florida.population / florida[cols].sum(axis=1))"
   ]
  },
  {
   "cell_type": "code",
   "execution_count": 6,
   "metadata": {
    "ExecuteTime": {
     "end_time": "2018-12-16T02:46:04.751091Z",
     "start_time": "2018-12-16T02:46:04.733579Z"
    }
   },
   "outputs": [],
   "source": [
    "# log population\n",
    "florida[\"population_log\"] = np.log(florida.population)\n",
    "\n",
    "# log1p first adds 1 to x then logs the result\n",
    "florida[\"property_crime_log\"] = np.log1p(florida.property_crime)\n",
    "\n",
    "# create a population_medium indicator variable\n",
    "# these are going to be relative to the population in each state\n",
    "# the medium group is the interquartile range on population (between 1st and 3rd quantiles)\n",
    "florida[\"population_medium\"] = (florida.population.between(3620.0, 24929.5)).astype(\"int\")\n",
    "\n",
    "# create n population groups\n",
    "florida[\"population_group\"] = pd.cut(florida.population, 5, labels=list(range(1,6)))\n",
    "\n",
    "# create robbery dummy var\n",
    "florida[\"has_robbery\"] = np.where(florida.robbery>0,1,0)\n",
    "florida[\"has_property_crime\"] = np.where(florida.property_crime>0,1,0)\n",
    "\n",
    "# because box-cox transforms require x>0, when property_crime is 0 we add 1, else we leave it alone\n",
    "florida[\"property_crime_2\"] = florida[\"property_crime\"].apply(lambda x: x+1 if x == 0 else x)\n",
    "\n",
    "# burglary_cube_root\n",
    "florida[\"burglary_cube_root\"] = florida.burglary**(1/3)\n",
    "\n",
    "# assault_log\n",
    "florida[\"assault_log\"] = np.log1p(florida.assault)\n",
    "\n",
    "# larceny_theft_cube_root\n",
    "florida[\"larceny_theft_cube_root\"] = florida.larceny_theft ** (1/3)\n",
    "\n",
    "# robbery_log\n",
    "florida[\"robbery_log\"] = np.log1p(florida.robbery)\n",
    "\n",
    "# motor_vehicle_theft_log\n",
    "florida[\"motor_vehicle_theft_log\"] = np.log1p(florida.motor_vehicle_theft)"
   ]
  },
  {
   "cell_type": "code",
   "execution_count": 9,
   "metadata": {
    "ExecuteTime": {
     "end_time": "2018-12-16T02:47:49.575912Z",
     "start_time": "2018-12-16T02:47:49.422722Z"
    }
   },
   "outputs": [
    {
     "data": {
      "image/png": "[encoded data removed]",
      "text/plain": [
       "<Figure size 432x288 with 1 Axes>"
      ]
     },
     "metadata": {
      "needs_background": "light"
     },
     "output_type": "display_data"
    }
   ],
   "source": [
    "bc = boxcox(florida[\"property_crime_2\"])\n",
    "florida['property_crime_bc'] = bc[0]\n",
    "bc_lambda = bc[1]\n",
    "\n",
    "plt.scatter(florida[\"property_crime_log\"], bc[0])\n",
    "plt.show()"
   ]
  },
  {
   "cell_type": "code",
   "execution_count": 10,
   "metadata": {
    "ExecuteTime": {
     "end_time": "2018-12-16T02:47:56.401000Z",
     "start_time": "2018-12-16T02:47:56.393127Z"
    }
   },
   "outputs": [
    {
     "data": {
      "text/plain": [
       "population                  1.197\n",
       "violent_crime               2.576\n",
       "murder                      4.237\n",
       "rape                        2.423\n",
       "robbery                     4.245\n",
       "assault                     2.559\n",
       "property_crime              1.695\n",
       "burglary                    2.023\n",
       "larceny_theft               1.708\n",
       "motor_vehicle_theft         2.327\n",
       "arson                       2.778\n",
       "log_odds                    0.550\n",
       "population_log             -0.497\n",
       "property_crime_log         -0.679\n",
       "population_medium          -0.221\n",
       "population_group            1.297\n",
       "has_robbery                -1.342\n",
       "has_property_crime        -15.133\n",
       "property_crime_2            1.695\n",
       "burglary_cube_root          0.225\n",
       "assault_log                -0.146\n",
       "larceny_theft_cube_root     0.282\n",
       "robbery_log                 0.435\n",
       "motor_vehicle_theft_log    -0.131\n",
       "property_crime_bc          -0.058\n",
       "dtype: float64"
      ]
     },
     "execution_count": 10,
     "metadata": {},
     "output_type": "execute_result"
    }
   ],
   "source": [
    "florida.skew()"
   ]
  },
  {
   "cell_type": "code",
   "execution_count": 13,
   "metadata": {
    "ExecuteTime": {
     "end_time": "2018-12-16T02:48:42.931146Z",
     "start_time": "2018-12-16T02:48:42.587503Z"
    }
   },
   "outputs": [
    {
     "data": {
      "image/png": "[encoded data removed]",
      "text/plain": [
       "<Figure size 432x288 with 1 Axes>"
      ]
     },
     "metadata": {
      "needs_background": "light"
     },
     "output_type": "display_data"
    },
    {
     "data": {
      "image/png": "[encoded data removed]",
      "text/plain": [
       "<Figure size 432x288 with 1 Axes>"
      ]
     },
     "metadata": {
      "needs_background": "light"
     },
     "output_type": "display_data"
    }
   ],
   "source": [
    "sns.distplot(florida.population)\n",
    "plt.show()\n",
    "sns.distplot(florida.population_log)\n",
    "plt.show()"
   ]
  },
  {
   "cell_type": "markdown",
   "metadata": {},
   "source": [
    "*Cube root of population looks to be the best to use in place of population.*"
   ]
  },
  {
   "cell_type": "code",
   "execution_count": 16,
   "metadata": {
    "ExecuteTime": {
     "end_time": "2018-12-16T02:50:55.614422Z",
     "start_time": "2018-12-16T02:50:54.598587Z"
    }
   },
   "outputs": [
    {
     "data": {
      "image/png": "[encoded data removed]",
      "text/plain": [
       "<Figure size 432x288 with 1 Axes>"
      ]
     },
     "metadata": {
      "needs_background": "light"
     },
     "output_type": "display_data"
    },
    {
     "data": {
      "image/png": "[encoded data removed]",
      "text/plain": [
       "<Figure size 432x288 with 1 Axes>"
      ]
     },
     "metadata": {
      "needs_background": "light"
     },
     "output_type": "display_data"
    },
    {
     "data": {
      "image/png": "[encoded data removed]",
      "text/plain": [
       "<Figure size 432x288 with 1 Axes>"
      ]
     },
     "metadata": {
      "needs_background": "light"
     },
     "output_type": "display_data"
    },
    {
     "data": {
      "image/png": "[encoded data removed]",
      "text/plain": [
       "<Figure size 432x288 with 1 Axes>"
      ]
     },
     "metadata": {
      "needs_background": "light"
     },
     "output_type": "display_data"
    },
    {
     "data": {
      "image/png": "[encoded data removed]",
      "text/plain": [
       "<Figure size 432x288 with 1 Axes>"
      ]
     },
     "metadata": {
      "needs_background": "light"
     },
     "output_type": "display_data"
    },
    {
     "data": {
      "image/png": "[encoded data removed]",
      "text/plain": [
       "<Figure size 432x288 with 1 Axes>"
      ]
     },
     "metadata": {
      "needs_background": "light"
     },
     "output_type": "display_data"
    }
   ],
   "source": [
    "# split into population groups\n",
    "florida[\"population_low\"] = (florida.population < 3620.0).astype(\"int\")\n",
    "florida[\"population_medium\"] = (florida.population.between(3620.0, 24929.5)).astype(\"int\")\n",
    "florida[\"population_high\"] = (florida.population >= 24929.5).astype(\"int\")\n",
    "\n",
    "sns.distplot(np.log1p(florida.assault))\n",
    "florida[\"assault_log\"] = np.log1p(florida.assault)\n",
    "plt.show()\n",
    "sns.distplot(np.log1p(florida.violent_crime))\n",
    "florida[\"violent_crime_log\"] = np.log1p(florida.violent_crime)\n",
    "plt.show()\n",
    "sns.distplot(np.log1p(florida.robbery))\n",
    "florida[\"robbery_log\"] = np.log1p(florida.robbery) \n",
    "plt.show()\n",
    "sns.distplot(florida.burglary**(1/3))\n",
    "florida[\"burglary_cube_root\"] = florida.burglary**(1/3)\n",
    "plt.show()\n",
    "sns.distplot(florida.larceny_theft**(1/3))\n",
    "florida[\"larceny_theft_cube_root\"] = florida.larceny_theft**(1/3)\n",
    "plt.show()\n",
    "sns.distplot(np.log1p(florida.motor_vehicle_theft))\n",
    "florida[\"motor_vehicle_theft_log\"] = np.log1p(florida.motor_vehicle_theft)\n",
    "plt.show()\n",
    "\n",
    "florida[\"murder_log\"] = np.log1p(florida.murder)"
   ]
  },
  {
   "cell_type": "markdown",
   "metadata": {},
   "source": [
    "# Split"
   ]
  },
  {
   "cell_type": "code",
   "execution_count": 17,
   "metadata": {
    "ExecuteTime": {
     "end_time": "2018-12-16T02:51:07.329420Z",
     "start_time": "2018-12-16T02:51:07.320750Z"
    }
   },
   "outputs": [
    {
     "name": "stdout",
     "output_type": "stream",
     "text": [
      "Train shape: (160, 29)\n",
      "Test shape: (69, 29)\n"
     ]
    }
   ],
   "source": [
    "florida_train = florida.sample(frac=0.7, random_state=41)\n",
    "florida_test_cities = list(set(florida.index).difference(set(florida_train.index)))\n",
    "florida_test = florida.loc[florida_test_cities,:]\n",
    "print(\"Train shape: {}\".format(florida_train.shape))\n",
    "print(\"Test shape: {}\".format(florida_test.shape))"
   ]
  },
  {
   "cell_type": "markdown",
   "metadata": {},
   "source": [
    "# Build\n",
    "\n",
    "## Model 1"
   ]
  },
  {
   "cell_type": "code",
   "execution_count": 60,
   "metadata": {
    "ExecuteTime": {
     "end_time": "2018-12-16T03:24:32.701866Z",
     "start_time": "2018-12-16T03:24:32.686654Z"
    }
   },
   "outputs": [
    {
     "name": "stdout",
     "output_type": "stream",
     "text": [
      "TRAIN\n",
      "********************\n",
      "Mean Residual: -4.277620405106282\n",
      "RMSE: 30.665012907136024\n",
      "Average Error: 18.313634134543396\n",
      "\n",
      "TEST\n",
      "********************\n",
      "Mean Residual: -9.228152044486766\n",
      "RMSE: 66.1640680664089\n",
      "Average Error: 23.381290523467385\n"
     ]
    }
   ],
   "source": [
    "model_vars = ['population_log', 'has_robbery', \n",
    "              'population_medium',\n",
    "              \"robbery_log\", \"burglary_cube_root\",\n",
    "              \"larceny_theft_cube_root\", \"motor_vehicle_theft_log\"]\n",
    "\n",
    "X = florida_train[model_vars]\n",
    "y = florida_train[\"property_crime_bc\"]\n",
    "\n",
    "model = LinearRegression()\n",
    "model.fit(X, y)\n",
    "\n",
    "resids_train = florida_train[\"property_crime\"] - inv_boxcox(model.predict(florida_train[model_vars]), bc_lambda)\n",
    "resids_test = florida_test[\"property_crime\"] - inv_boxcox(model.predict(florida_test[model_vars]), bc_lambda)\n",
    "\n",
    "print(\"TRAIN\\n********************\")\n",
    "print(\"Mean Residual: {}\\nRMSE: {}\".format(resids_train.mean(), resids_train.std()))\n",
    "print(\"Average Error: {}\".format(np.abs(resids_train).sum()/resids_train.shape[0]))\n",
    "\n",
    "print(\"\\nTEST\\n********************\")\n",
    "print(\"Mean Residual: {}\\nRMSE: {}\".format(resids_test.mean(), resids_test.std()))\n",
    "print(\"Average Error: {}\".format(np.abs(resids_test).sum()/resids_test.shape[0]))"
   ]
  },
  {
   "cell_type": "markdown",
   "metadata": {
    "ExecuteTime": {
     "end_time": "2018-12-15T00:31:27.028035Z",
     "start_time": "2018-12-15T00:31:26.996816Z"
    }
   },
   "source": [
    "## Model 2\n",
    "\n",
    "For this one, we are going to use the same features as in Model 1, but condition on the population group, so:\n",
    "  1. Model 2: Population Groups 1 and 2\n",
    "  2. Model 3: Population Group 3\n",
    "  3. Model 4: Population Groups 4 and 5"
   ]
  },
  {
   "cell_type": "code",
   "execution_count": 39,
   "metadata": {
    "ExecuteTime": {
     "end_time": "2018-12-16T03:09:35.861593Z",
     "start_time": "2018-12-16T03:09:35.851188Z"
    }
   },
   "outputs": [],
   "source": [
    "group1_train = florida_train[florida_train.population_group.isin([1,2])]\n",
    "group3_train = florida_train[florida_train.population_group==3]\n",
    "#group4_train = florida_train[florida_train.population_group==4]\n",
    "group5_train = florida_train[florida_train.population_group.isin([4,5])]\n",
    "\n",
    "group1_test = florida_test[florida_test.population_group.isin([1,2])]\n",
    "group3_test = florida_test[florida_test.population_group==3]\n",
    "#group4_test = florida_test[florida_test.population_group==4]\n",
    "group5_test = florida_test[florida_test.population_group.isin([4,5])]"
   ]
  },
  {
   "cell_type": "markdown",
   "metadata": {
    "ExecuteTime": {
     "end_time": "2018-12-15T00:39:12.873989Z",
     "start_time": "2018-12-15T00:39:12.846170Z"
    }
   },
   "source": [
    "*We are then going to concatenate all of the predictions/residuals from these 3 models.*\n",
    "\n",
    "### Population Groups 1 and 2"
   ]
  },
  {
   "cell_type": "code",
   "execution_count": 30,
   "metadata": {
    "ExecuteTime": {
     "end_time": "2018-12-16T02:59:27.072629Z",
     "start_time": "2018-12-16T02:59:27.057284Z"
    }
   },
   "outputs": [
    {
     "name": "stdout",
     "output_type": "stream",
     "text": [
      "TRAIN\n",
      "********************\n",
      "Mean Residual: -2.827585785604248\n",
      "RMSE: 23.899075039453013\n",
      "Average Error: 11.631028936982064\n",
      "\n",
      "TEST\n",
      "********************\n",
      "Mean Residual: -5.978817408585413\n",
      "RMSE: 22.674914863324318\n",
      "Average Error: 14.055130324399572\n"
     ]
    }
   ],
   "source": [
    "# train on population groups 1&2\n",
    "regr1 = linear_model.LinearRegression()\n",
    "regr1.fit(group1_train[model_vars], group1_train[\"property_crime_bc\"])\n",
    "\n",
    "# Save predicted values.\n",
    "Y_pred1_train = inv_boxcox(regr1.predict(group1_train[model_vars]), bc_lambda)\n",
    "Y_pred1_test = inv_boxcox(regr1.predict(group1_test[model_vars]), bc_lambda)\n",
    "# residuals\n",
    "resids1_train = group1_train[\"property_crime\"] - Y_pred1_train\n",
    "resids1_test = group1_test[\"property_crime\"] - Y_pred1_test\n",
    "print(\"TRAIN\\n********************\")\n",
    "print(\"Mean Residual: {}\\nRMSE: {}\".format(resids1_train.mean(), resids1_train.std()))\n",
    "print(\"Average Error: {}\".format(np.abs(resids1_train).sum()/resids1_train.shape[0]))\n",
    "\n",
    "print(\"\\nTEST\\n********************\")\n",
    "print(\"Mean Residual: {}\\nRMSE: {}\".format(resids1_test.mean(), resids1_test.std()))\n",
    "print(\"Average Error: {}\".format(np.abs(resids1_test).sum()/resids1_test.shape[0]))"
   ]
  },
  {
   "cell_type": "markdown",
   "metadata": {
    "ExecuteTime": {
     "end_time": "2018-12-16T02:59:17.888025Z",
     "start_time": "2018-12-16T02:59:17.881405Z"
    }
   },
   "source": [
    "### Population Group 3"
   ]
  },
  {
   "cell_type": "code",
   "execution_count": 32,
   "metadata": {
    "ExecuteTime": {
     "end_time": "2018-12-16T03:01:47.524895Z",
     "start_time": "2018-12-16T03:01:47.509898Z"
    }
   },
   "outputs": [
    {
     "name": "stdout",
     "output_type": "stream",
     "text": [
      "TRAIN\n",
      "********************\n",
      "Mean Residual: -0.1572841574825391\n",
      "RMSE: 7.041061095363018\n",
      "Average Error: 5.358806685158335\n",
      "\n",
      "TEST\n",
      "********************\n",
      "Mean Residual: 8.182715370749548\n",
      "RMSE: 4.606213785146752\n",
      "Average Error: 8.182715370749548\n"
     ]
    }
   ],
   "source": [
    "# train on population groups 1&2\n",
    "regr3 = linear_model.LinearRegression()\n",
    "regr3.fit(group3_train[model_vars], group3_train[\"property_crime_bc\"])\n",
    "\n",
    "# Save predicted values.\n",
    "Y_pred3_train = inv_boxcox(regr3.predict(group3_train[model_vars]), bc_lambda)\n",
    "Y_pred3_test = inv_boxcox(regr3.predict(group3_test[model_vars]), bc_lambda)\n",
    "# residuals\n",
    "resids3_train = group3_train[\"property_crime\"] - Y_pred3_train\n",
    "resids3_test = group3_test[\"property_crime\"] - Y_pred3_test\n",
    "print(\"TRAIN\\n********************\")\n",
    "print(\"Mean Residual: {}\\nRMSE: {}\".format(resids3_train.mean(), resids3_train.std()))\n",
    "print(\"Average Error: {}\".format(np.abs(resids3_train).sum()/resids3_train.shape[0]))\n",
    "\n",
    "print(\"\\nTEST\\n********************\")\n",
    "print(\"Mean Residual: {}\\nRMSE: {}\".format(resids3_test.mean(), resids3_test.std()))\n",
    "print(\"Average Error: {}\".format(np.abs(resids3_test).sum()/resids3_test.shape[0]))"
   ]
  },
  {
   "cell_type": "markdown",
   "metadata": {
    "ExecuteTime": {
     "end_time": "2018-12-15T01:12:31.077899Z",
     "start_time": "2018-12-15T01:12:31.073368Z"
    }
   },
   "source": [
    "### Population Group 4 and 5"
   ]
  },
  {
   "cell_type": "code",
   "execution_count": 40,
   "metadata": {
    "ExecuteTime": {
     "end_time": "2018-12-16T03:09:43.201908Z",
     "start_time": "2018-12-16T03:09:43.188732Z"
    }
   },
   "outputs": [
    {
     "name": "stdout",
     "output_type": "stream",
     "text": [
      "TRAIN\n",
      "********************\n",
      "Mean Residual: -0.12728157906140494\n",
      "RMSE: 13.542810350695623\n",
      "Average Error: 10.30282666939897\n",
      "\n",
      "TEST\n",
      "********************\n",
      "Mean Residual: -30.065564804517447\n",
      "RMSE: 59.868276878144904\n",
      "Average Error: 48.31390558524231\n"
     ]
    }
   ],
   "source": [
    "# train on population groups 1&2\n",
    "regr5 = linear_model.LinearRegression()\n",
    "regr5.fit(group5_train[model_vars], group5_train[\"property_crime_bc\"])\n",
    "\n",
    "# Save predicted values.\n",
    "Y_pred5_train = inv_boxcox(regr5.predict(group5_train[model_vars]), bc_lambda)\n",
    "Y_pred5_test = inv_boxcox(regr5.predict(group5_test[model_vars]), bc_lambda)\n",
    "# residuals\n",
    "resids5_train = group5_train[\"property_crime\"] - Y_pred5_train\n",
    "resids5_test = group5_test[\"property_crime\"] - Y_pred5_test\n",
    "print(\"TRAIN\\n********************\")\n",
    "print(\"Mean Residual: {}\\nRMSE: {}\".format(resids5_train.mean(), resids5_train.std()))\n",
    "print(\"Average Error: {}\".format(np.abs(resids5_train).sum()/resids5_train.shape[0]))\n",
    "\n",
    "print(\"\\nTEST\\n********************\")\n",
    "print(\"Mean Residual: {}\\nRMSE: {}\".format(resids5_test.mean(), resids5_test.std()))\n",
    "print(\"Average Error: {}\".format(np.abs(resids5_test).sum()/resids5_test.shape[0]))"
   ]
  },
  {
   "cell_type": "code",
   "execution_count": 45,
   "metadata": {
    "ExecuteTime": {
     "end_time": "2018-12-16T03:11:26.036142Z",
     "start_time": "2018-12-16T03:11:26.032593Z"
    }
   },
   "outputs": [
    {
     "name": "stdout",
     "output_type": "stream",
     "text": [
      "(25, 6)\n"
     ]
    }
   ],
   "source": [
    "print(\"({}, {})\".format(group5_train.shape[0], group5_test.shape[0]))"
   ]
  },
  {
   "cell_type": "markdown",
   "metadata": {
    "ExecuteTime": {
     "end_time": "2018-12-16T03:10:28.513529Z",
     "start_time": "2018-12-16T03:10:28.509151Z"
    }
   },
   "source": [
    "*Sampling for this group is really imbalanced...*"
   ]
  },
  {
   "cell_type": "code",
   "execution_count": 58,
   "metadata": {
    "ExecuteTime": {
     "end_time": "2018-12-16T03:19:15.185297Z",
     "start_time": "2018-12-16T03:19:15.177530Z"
    }
   },
   "outputs": [
    {
     "name": "stdout",
     "output_type": "stream",
     "text": [
      "TRAIN\n",
      "********************\n",
      "Mean Residual: -2.0885649349924753\n",
      "RMSE: 21.09629927728845\n",
      "Average Error: 10.67867094026814\n",
      "\n",
      "TEST\n",
      "********************\n",
      "Mean Residual: -7.252358760154289\n",
      "RMSE: 27.446078792349326\n",
      "Average Error: 16.693724407739516\n"
     ]
    }
   ],
   "source": [
    "resids_all_train = np.concatenate((resids1_train.values, resids3_train.values, resids5_train.values))\n",
    "resids_all_test = np.concatenate((resids1_test.values, resids3_test.values, resids5_test.values))\n",
    "print(\"TRAIN\\n********************\")\n",
    "print(\"Mean Residual: {}\\nRMSE: {}\".format(resids_all_train.mean(), resids_all_train.std()))\n",
    "print(\"Average Error: {}\".format(np.abs(resids_all_train).sum()/resids_all_train.shape[0]))\n",
    "\n",
    "print(\"\\nTEST\\n********************\")\n",
    "print(\"Mean Residual: {}\\nRMSE: {}\".format(resids_all_test.mean(), resids_all_test.std()))\n",
    "print(\"Average Error: {}\".format(np.abs(resids_all_test).sum()/resids_all_test.shape[0]))"
   ]
  },
  {
   "cell_type": "markdown",
   "metadata": {},
   "source": [
    "# Conclusion\n",
    "\n",
    "I built a rather simple model, to predict the Box-Cox transform of property crime (for all populations), and a second model (set) that uses the structure of the first model, but conditioned on the population group. For the second model (set), I concatenated all the residuals from the 3 individual models. \n",
    "\n",
    "  1. **Model 1**\n",
    "    \n",
    "    **TRAIN**  \n",
    "      Mean Residual: -4.27  \n",
    "      RMSE: 30.66  \n",
    "      Average Error: 18.31  \n",
    "  \n",
    "    **TEST**    \n",
    "      Mean Residual: -9.23  \n",
    "      RMSE: 66.16  \n",
    "      Average Error: 23.38  \n",
    "      \n",
    "  2. **Model 2**\n",
    "  \n",
    "    **TRAIN**  \n",
    "        Mean Residual: -2.09  \n",
    "        RMSE: 21.1  \n",
    "        Average Error: 10.68  \n",
    "      \n",
    "    **TEST**  \n",
    "      Mean Residual: -7.2  \n",
    "      RMSE: 27.45  \n",
    "      Average Error: 16.69  "
   ]
  },
  {
   "cell_type": "markdown",
   "metadata": {
    "ExecuteTime": {
     "end_time": "2018-12-14T21:38:01.518209Z",
     "start_time": "2018-12-14T21:38:01.490068Z"
    }
   },
   "source": [
    "So \"sending\" a city to a model first based on its' population makes a significant difference in the original model's performance, and we can look further at the residuals made in each population group and see that our model struggles the most with population group 4. However, we see that we split our data such that 25 such cities ended up in the train set while only 6 ended up in the test set. Such an imbalance should be corrected first. "
   ]
  }
 ],
 "metadata": {
  "kernelspec": {
   "display_name": "Python 3",
   "language": "python",
   "name": "python3"
  },
  "language_info": {
   "codemirror_mode": {
    "name": "ipython",
    "version": 3
   },
   "file_extension": ".py",
   "mimetype": "text/x-python",
   "name": "python",
   "nbconvert_exporter": "python",
   "pygments_lexer": "ipython3",
   "version": "3.6.7"
  },
  "latex_envs": {
   "LaTeX_envs_menu_present": true,
   "autoclose": false,
   "autocomplete": true,
   "bibliofile": "biblio.bib",
   "cite_by": "apalike",
   "current_citInitial": 1,
   "eqLabelWithNumbers": true,
   "eqNumInitial": 1,
   "hotkeys": {
    "equation": "Ctrl-E",
    "itemize": "Ctrl-I"
   },
   "labels_anchors": false,
   "latex_user_defs": false,
   "report_style_numbering": false,
   "user_envs_cfg": false
  },
  "toc": {
   "base_numbering": 1,
   "nav_menu": {},
   "number_sections": true,
   "sideBar": true,
   "skip_h1_title": false,
   "title_cell": "Table of Contents",
   "title_sidebar": "Contents",
   "toc_cell": false,
   "toc_position": {},
   "toc_section_display": true,
   "toc_window_display": false
  },
  "varInspector": {
   "cols": {
    "lenName": 16,
    "lenType": 16,
    "lenVar": 40
   },
   "kernels_config": {
    "python": {
     "delete_cmd_postfix": "",
     "delete_cmd_prefix": "del ",
     "library": "var_list.py",
     "varRefreshCmd": "print(var_dic_list())"
    },
    "r": {
     "delete_cmd_postfix": ") ",
     "delete_cmd_prefix": "rm(",
     "library": "var_list.r",
     "varRefreshCmd": "cat(var_dic_list()) "
    }
   },
   "types_to_exclude": [
    "module",
    "function",
    "builtin_function_or_method",
    "instance",
    "_Feature"
   ],
   "window_display": false
  }
 },
 "nbformat": 4,
 "nbformat_minor": 2
}
