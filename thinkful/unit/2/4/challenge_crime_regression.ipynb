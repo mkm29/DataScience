{
 "cells": [
  {
   "cell_type": "code",
   "execution_count": 1,
   "metadata": {
    "ExecuteTime": {
     "end_time": "2018-12-11T20:32:09.067353Z",
     "start_time": "2018-12-11T20:32:08.153609Z"
    }
   },
   "outputs": [],
   "source": [
    "from IPython.display import display\n",
    "from matplotlib import pyplot as plt\n",
    "import numpy as np\n",
    "import pandas as pd\n",
    "import seaborn as sns\n",
    "import math\n",
    "import warnings\n",
    "import statsmodels.formula.api as smf\n",
    "from sklearn import linear_model\n",
    "from sklearn.decomposition import PCA\n",
    "\n",
    "# Display preferences.\n",
    "%matplotlib inline\n",
    "#pd.options.display.float_format = '{:.5f}'.format\n",
    "\n",
    "# Suppress annoying harmless error.\n",
    "warnings.filterwarnings(\n",
    "    action=\"ignore\",\n",
    "    module=\"scipy\",\n",
    "    message=\"^internal gelsd\"\n",
    ")\n",
    "\n",
    "# Based on some visual + mathematical concepts, we decided to split the population into 6 levels\n",
    "def get_population_group(population):   \n",
    "    if population < 4800:\n",
    "        return 1\n",
    "    if population in range(4800, 12500):\n",
    "        return 2\n",
    "    if population in range(12500,22500):\n",
    "        return 3\n",
    "    if population in range(22500, 46000):\n",
    "        return 4\n",
    "    if population > 46000:\n",
    "        return 5 \n",
    "\n",
    "def get_population_group_spaced(population):\n",
    "    0.1, 0.5, 1.0, 2.0, 4.4\n",
    "    if population < 4800:\n",
    "        return 0.1\n",
    "    if population in range(4800, 12500):\n",
    "        return 0.5\n",
    "    if population in range(12500,22500):\n",
    "        return 1.0\n",
    "    if population in range(22500, 46000):\n",
    "        return 2.0\n",
    "    if population > 46000:\n",
    "        return 4.4"
   ]
  },
  {
   "cell_type": "markdown",
   "metadata": {},
   "source": [
    "# Data\n",
    "\n",
    "## Read"
   ]
  },
  {
   "cell_type": "code",
   "execution_count": 2,
   "metadata": {
    "ExecuteTime": {
     "end_time": "2018-12-11T20:32:09.898820Z",
     "start_time": "2018-12-11T20:32:09.839898Z"
    }
   },
   "outputs": [],
   "source": [
    "# Read in the crime data for Florida for 2016, listed by city\n",
    "florida_crime = pd.read_excel('./florida_2017.xls')\n",
    "florida_crime.columns = ['city', 'population', 'violent_crime', 'murder', 'rape', 'robbery',\n",
    "       'assault', 'property_crime', 'burglary', 'larceny_theft',\n",
    "       'motor_vehicle_theft', 'arson']\n",
    "florida_crime.set_index('city', inplace=True)\n",
    "\n",
    "crime_cols = ['violent_crime', 'murder', 'rape', 'robbery', \n",
    "              'assault', 'property_crime', 'burglary', 'larceny_theft', \n",
    "              'motor_vehicle_theft', 'arson']\n",
    "florida_crime = florida_crime[florida_crime.population.between(1180, 128637)]"
   ]
  },
  {
   "cell_type": "markdown",
   "metadata": {},
   "source": [
    "*There are about 30 outliers when it comes to population, for this exercise we will discard these.*"
   ]
  },
  {
   "cell_type": "markdown",
   "metadata": {},
   "source": [
    "## Inspect"
   ]
  },
  {
   "cell_type": "code",
   "execution_count": 69,
   "metadata": {
    "ExecuteTime": {
     "end_time": "2018-12-10T04:44:00.264265Z",
     "start_time": "2018-12-10T04:44:00.182250Z"
    }
   },
   "outputs": [
    {
     "data": {
      "text/html": [
       "<div>\n",
       "<style scoped>\n",
       "    .dataframe tbody tr th:only-of-type {\n",
       "        vertical-align: middle;\n",
       "    }\n",
       "\n",
       "    .dataframe tbody tr th {\n",
       "        vertical-align: top;\n",
       "    }\n",
       "\n",
       "    .dataframe thead th {\n",
       "        text-align: right;\n",
       "    }\n",
       "</style>\n",
       "<table border=\"1\" class=\"dataframe\">\n",
       "  <thead>\n",
       "    <tr style=\"text-align: right;\">\n",
       "      <th></th>\n",
       "      <th>population</th>\n",
       "      <th>violent_crime</th>\n",
       "      <th>murder</th>\n",
       "      <th>rape</th>\n",
       "      <th>robbery</th>\n",
       "      <th>assault</th>\n",
       "      <th>property_crime</th>\n",
       "      <th>burglary</th>\n",
       "      <th>larceny_theft</th>\n",
       "      <th>motor_vehicle_theft</th>\n",
       "      <th>...</th>\n",
       "      <th>population_log</th>\n",
       "      <th>has_murder</th>\n",
       "      <th>has_rape</th>\n",
       "      <th>has_robbery</th>\n",
       "      <th>has_assault</th>\n",
       "      <th>has_property_crime</th>\n",
       "      <th>has_burglary</th>\n",
       "      <th>hss_larceny_theft</th>\n",
       "      <th>has_motor_vehicle_theft</th>\n",
       "      <th>has_arson</th>\n",
       "    </tr>\n",
       "  </thead>\n",
       "  <tbody>\n",
       "    <tr>\n",
       "      <th>count</th>\n",
       "      <td>284.00000</td>\n",
       "      <td>284.00000</td>\n",
       "      <td>284.00000</td>\n",
       "      <td>284.00000</td>\n",
       "      <td>284.00000</td>\n",
       "      <td>284.00000</td>\n",
       "      <td>284.00000</td>\n",
       "      <td>284.00000</td>\n",
       "      <td>284.00000</td>\n",
       "      <td>284.00000</td>\n",
       "      <td>...</td>\n",
       "      <td>284.00000</td>\n",
       "      <td>284.00000</td>\n",
       "      <td>284.00000</td>\n",
       "      <td>284.00000</td>\n",
       "      <td>284.00000</td>\n",
       "      <td>284.00000</td>\n",
       "      <td>284.00000</td>\n",
       "      <td>284.00000</td>\n",
       "      <td>284.00000</td>\n",
       "      <td>284.00000</td>\n",
       "    </tr>\n",
       "    <tr>\n",
       "      <th>mean</th>\n",
       "      <td>35417.45423</td>\n",
       "      <td>170.28521</td>\n",
       "      <td>2.17254</td>\n",
       "      <td>14.31338</td>\n",
       "      <td>44.07394</td>\n",
       "      <td>109.72535</td>\n",
       "      <td>1129.05986</td>\n",
       "      <td>171.60563</td>\n",
       "      <td>863.82042</td>\n",
       "      <td>93.63380</td>\n",
       "      <td>...</td>\n",
       "      <td>9.43827</td>\n",
       "      <td>0.42606</td>\n",
       "      <td>0.74296</td>\n",
       "      <td>0.82042</td>\n",
       "      <td>0.92254</td>\n",
       "      <td>0.99648</td>\n",
       "      <td>0.98239</td>\n",
       "      <td>0.99296</td>\n",
       "      <td>0.92606</td>\n",
       "      <td>0.49648</td>\n",
       "    </tr>\n",
       "    <tr>\n",
       "      <th>std</th>\n",
       "      <td>74789.22599</td>\n",
       "      <td>467.35710</td>\n",
       "      <td>8.16537</td>\n",
       "      <td>40.50150</td>\n",
       "      <td>125.33079</td>\n",
       "      <td>300.15150</td>\n",
       "      <td>2725.22239</td>\n",
       "      <td>441.63691</td>\n",
       "      <td>2041.26924</td>\n",
       "      <td>254.30202</td>\n",
       "      <td>...</td>\n",
       "      <td>1.48517</td>\n",
       "      <td>0.49538</td>\n",
       "      <td>0.43777</td>\n",
       "      <td>0.38451</td>\n",
       "      <td>0.26780</td>\n",
       "      <td>0.05934</td>\n",
       "      <td>0.13175</td>\n",
       "      <td>0.08377</td>\n",
       "      <td>0.26214</td>\n",
       "      <td>0.50087</td>\n",
       "    </tr>\n",
       "    <tr>\n",
       "      <th>min</th>\n",
       "      <td>92.00000</td>\n",
       "      <td>0.00000</td>\n",
       "      <td>0.00000</td>\n",
       "      <td>0.00000</td>\n",
       "      <td>0.00000</td>\n",
       "      <td>0.00000</td>\n",
       "      <td>0.00000</td>\n",
       "      <td>0.00000</td>\n",
       "      <td>0.00000</td>\n",
       "      <td>0.00000</td>\n",
       "      <td>...</td>\n",
       "      <td>4.52179</td>\n",
       "      <td>0.00000</td>\n",
       "      <td>0.00000</td>\n",
       "      <td>0.00000</td>\n",
       "      <td>0.00000</td>\n",
       "      <td>0.00000</td>\n",
       "      <td>0.00000</td>\n",
       "      <td>0.00000</td>\n",
       "      <td>0.00000</td>\n",
       "      <td>0.00000</td>\n",
       "    </tr>\n",
       "    <tr>\n",
       "      <th>25%</th>\n",
       "      <td>4264.75000</td>\n",
       "      <td>9.00000</td>\n",
       "      <td>0.00000</td>\n",
       "      <td>0.00000</td>\n",
       "      <td>1.00000</td>\n",
       "      <td>5.75000</td>\n",
       "      <td>92.00000</td>\n",
       "      <td>16.00000</td>\n",
       "      <td>66.25000</td>\n",
       "      <td>5.00000</td>\n",
       "      <td>...</td>\n",
       "      <td>8.35810</td>\n",
       "      <td>0.00000</td>\n",
       "      <td>0.00000</td>\n",
       "      <td>1.00000</td>\n",
       "      <td>1.00000</td>\n",
       "      <td>1.00000</td>\n",
       "      <td>1.00000</td>\n",
       "      <td>1.00000</td>\n",
       "      <td>1.00000</td>\n",
       "      <td>0.00000</td>\n",
       "    </tr>\n",
       "    <tr>\n",
       "      <th>50%</th>\n",
       "      <td>12871.50000</td>\n",
       "      <td>40.00000</td>\n",
       "      <td>0.00000</td>\n",
       "      <td>4.00000</td>\n",
       "      <td>7.00000</td>\n",
       "      <td>26.00000</td>\n",
       "      <td>348.50000</td>\n",
       "      <td>60.00000</td>\n",
       "      <td>266.00000</td>\n",
       "      <td>18.00000</td>\n",
       "      <td>...</td>\n",
       "      <td>9.46277</td>\n",
       "      <td>0.00000</td>\n",
       "      <td>1.00000</td>\n",
       "      <td>1.00000</td>\n",
       "      <td>1.00000</td>\n",
       "      <td>1.00000</td>\n",
       "      <td>1.00000</td>\n",
       "      <td>1.00000</td>\n",
       "      <td>1.00000</td>\n",
       "      <td>0.00000</td>\n",
       "    </tr>\n",
       "    <tr>\n",
       "      <th>75%</th>\n",
       "      <td>38706.50000</td>\n",
       "      <td>137.50000</td>\n",
       "      <td>1.00000</td>\n",
       "      <td>12.00000</td>\n",
       "      <td>29.25000</td>\n",
       "      <td>90.50000</td>\n",
       "      <td>1085.00000</td>\n",
       "      <td>162.00000</td>\n",
       "      <td>846.00000</td>\n",
       "      <td>76.00000</td>\n",
       "      <td>...</td>\n",
       "      <td>10.56376</td>\n",
       "      <td>1.00000</td>\n",
       "      <td>1.00000</td>\n",
       "      <td>1.00000</td>\n",
       "      <td>1.00000</td>\n",
       "      <td>1.00000</td>\n",
       "      <td>1.00000</td>\n",
       "      <td>1.00000</td>\n",
       "      <td>1.00000</td>\n",
       "      <td>1.00000</td>\n",
       "    </tr>\n",
       "    <tr>\n",
       "      <th>max</th>\n",
       "      <td>894638.00000</td>\n",
       "      <td>5648.00000</td>\n",
       "      <td>109.00000</td>\n",
       "      <td>538.00000</td>\n",
       "      <td>1376.00000</td>\n",
       "      <td>3625.00000</td>\n",
       "      <td>31551.00000</td>\n",
       "      <td>5646.00000</td>\n",
       "      <td>22980.00000</td>\n",
       "      <td>2925.00000</td>\n",
       "      <td>...</td>\n",
       "      <td>13.70417</td>\n",
       "      <td>1.00000</td>\n",
       "      <td>1.00000</td>\n",
       "      <td>1.00000</td>\n",
       "      <td>1.00000</td>\n",
       "      <td>1.00000</td>\n",
       "      <td>1.00000</td>\n",
       "      <td>1.00000</td>\n",
       "      <td>1.00000</td>\n",
       "      <td>1.00000</td>\n",
       "    </tr>\n",
       "  </tbody>\n",
       "</table>\n",
       "<p>8 rows × 23 columns</p>\n",
       "</div>"
      ],
      "text/plain": [
       "        population  violent_crime    murder      rape    robbery    assault  \\\n",
       "count    284.00000      284.00000 284.00000 284.00000  284.00000  284.00000   \n",
       "mean   35417.45423      170.28521   2.17254  14.31338   44.07394  109.72535   \n",
       "std    74789.22599      467.35710   8.16537  40.50150  125.33079  300.15150   \n",
       "min       92.00000        0.00000   0.00000   0.00000    0.00000    0.00000   \n",
       "25%     4264.75000        9.00000   0.00000   0.00000    1.00000    5.75000   \n",
       "50%    12871.50000       40.00000   0.00000   4.00000    7.00000   26.00000   \n",
       "75%    38706.50000      137.50000   1.00000  12.00000   29.25000   90.50000   \n",
       "max   894638.00000     5648.00000 109.00000 538.00000 1376.00000 3625.00000   \n",
       "\n",
       "       property_crime   burglary  larceny_theft  motor_vehicle_theft  \\\n",
       "count       284.00000  284.00000      284.00000            284.00000   \n",
       "mean       1129.05986  171.60563      863.82042             93.63380   \n",
       "std        2725.22239  441.63691     2041.26924            254.30202   \n",
       "min           0.00000    0.00000        0.00000              0.00000   \n",
       "25%          92.00000   16.00000       66.25000              5.00000   \n",
       "50%         348.50000   60.00000      266.00000             18.00000   \n",
       "75%        1085.00000  162.00000      846.00000             76.00000   \n",
       "max       31551.00000 5646.00000    22980.00000           2925.00000   \n",
       "\n",
       "         ...      population_log  has_murder  has_rape  has_robbery  \\\n",
       "count    ...           284.00000   284.00000 284.00000    284.00000   \n",
       "mean     ...             9.43827     0.42606   0.74296      0.82042   \n",
       "std      ...             1.48517     0.49538   0.43777      0.38451   \n",
       "min      ...             4.52179     0.00000   0.00000      0.00000   \n",
       "25%      ...             8.35810     0.00000   0.00000      1.00000   \n",
       "50%      ...             9.46277     0.00000   1.00000      1.00000   \n",
       "75%      ...            10.56376     1.00000   1.00000      1.00000   \n",
       "max      ...            13.70417     1.00000   1.00000      1.00000   \n",
       "\n",
       "       has_assault  has_property_crime  has_burglary  hss_larceny_theft  \\\n",
       "count    284.00000           284.00000     284.00000          284.00000   \n",
       "mean       0.92254             0.99648       0.98239            0.99296   \n",
       "std        0.26780             0.05934       0.13175            0.08377   \n",
       "min        0.00000             0.00000       0.00000            0.00000   \n",
       "25%        1.00000             1.00000       1.00000            1.00000   \n",
       "50%        1.00000             1.00000       1.00000            1.00000   \n",
       "75%        1.00000             1.00000       1.00000            1.00000   \n",
       "max        1.00000             1.00000       1.00000            1.00000   \n",
       "\n",
       "       has_motor_vehicle_theft  has_arson  \n",
       "count                284.00000  284.00000  \n",
       "mean                   0.92606    0.49648  \n",
       "std                    0.26214    0.50087  \n",
       "min                    0.00000    0.00000  \n",
       "25%                    1.00000    0.00000  \n",
       "50%                    1.00000    0.00000  \n",
       "75%                    1.00000    1.00000  \n",
       "max                    1.00000    1.00000  \n",
       "\n",
       "[8 rows x 23 columns]"
      ]
     },
     "execution_count": 69,
     "metadata": {},
     "output_type": "execute_result"
    }
   ],
   "source": [
    "florida_crime.describe()"
   ]
  },
  {
   "cell_type": "code",
   "execution_count": 3,
   "metadata": {
    "ExecuteTime": {
     "end_time": "2018-12-11T18:33:08.484502Z",
     "start_time": "2018-12-11T18:33:08.057095Z"
    }
   },
   "outputs": [
    {
     "name": "stderr",
     "output_type": "stream",
     "text": [
      "/Users/mitchellmurphy/anaconda3/envs/python3.5/lib/python3.6/site-packages/scipy/stats/stats.py:1713: FutureWarning: Using a non-tuple sequence for multidimensional indexing is deprecated; use `arr[tuple(seq)]` instead of `arr[seq]`. In the future this will be interpreted as an array index, `arr[np.array(seq)]`, which will result either in an error or a different result.\n",
      "  return np.add.reduce(sorted[indexer] * weights, axis=axis) / sumval\n"
     ]
    },
    {
     "data": {
      "text/plain": [
       "Text(0.5, 0, 'Log of Population')"
      ]
     },
     "execution_count": 3,
     "metadata": {},
     "output_type": "execute_result"
    },
    {
     "data": {
      "image/png": "[encoded data removed]",
      "text/plain": [
       "<Figure size 576x864 with 2 Axes>"
      ]
     },
     "metadata": {
      "needs_background": "light"
     },
     "output_type": "display_data"
    }
   ],
   "source": [
    "fig = plt.figure(figsize=(8,12))\n",
    "ax1, ax2 = fig.subplots(2,1)\n",
    "sns.distplot(florida_crime[\"population\"], ax=ax1)\n",
    "sns.despine(ax=ax1)\n",
    "sns.distplot(np.log(florida_crime[\"population\"]), ax=ax2)\n",
    "sns.despine(ax=ax2)\n",
    "ax2.set_xlabel(\"Log of Population\")"
   ]
  },
  {
   "cell_type": "code",
   "execution_count": 3,
   "metadata": {
    "ExecuteTime": {
     "end_time": "2018-12-11T20:32:16.434968Z",
     "start_time": "2018-12-11T20:32:16.380005Z"
    }
   },
   "outputs": [],
   "source": [
    "# So the population variable does not look normal at all so we will need to transform it\n",
    "# square\n",
    "florida_crime[\"population_squared\"] = florida_crime.population ** 2\n",
    "# cube root\n",
    "florida_crime[\"population_cube_root\"] = florida_crime.population ** (1/3)\n",
    "# square root\n",
    "florida_crime[\"population_square_root\"] = florida_crime.population ** (1/2)\n",
    "# log\n",
    "florida_crime[\"population_log\"] = np.log(florida_crime.population)\n",
    "# groups\n",
    "florida_crime[\"population_group\"] = florida_crime.population.apply(get_population_group)\n",
    "florida_crime[\"population_group_spaced\"] = florida_crime.population.apply(get_population_group_spaced)"
   ]
  },
  {
   "cell_type": "markdown",
   "metadata": {},
   "source": [
    "So all crime metrics exhibit left skewness (my suspicion is population is quite correlated with each of these stats, and that is also quite left skewed however log transforming the population variable significantly reduces this skewness so lets log transform all of these as well."
   ]
  },
  {
   "cell_type": "markdown",
   "metadata": {},
   "source": [
    "## Log-transform\n",
    "We are going to log-transform all of our crime stats, but since we cannot take the log of zero, we are going to add 1 to each row first."
   ]
  },
  {
   "cell_type": "code",
   "execution_count": 4,
   "metadata": {
    "ExecuteTime": {
     "end_time": "2018-12-11T20:32:25.531791Z",
     "start_time": "2018-12-11T20:32:25.515711Z"
    }
   },
   "outputs": [],
   "source": [
    "offset = 1#e-10\n",
    "florida_crime[\"robbery_log\"] = np.log(florida_crime[\"robbery\"].apply(lambda x: x + offset))\n",
    "florida_crime[\"murder_log\"] = np.log(florida_crime[\"murder\"].apply(lambda x: x + offset))\n",
    "florida_crime[\"violent_crime_log\"] = np.log(florida_crime[\"violent_crime\"].apply(lambda x: x + offset))\n",
    "florida_crime[\"rape_log\"] = np.log(florida_crime[\"rape\"].apply(lambda x: x + offset))\n",
    "florida_crime[\"assault_log\"] = np.log(florida_crime.assault.apply(lambda x: x+offset))\n",
    "florida_crime[\"burglary_log\"] = np.log(florida_crime[\"burglary\"].apply(lambda x: x+offset))\n",
    "florida_crime[\"larceny_theft_log\"] = np.log(florida_crime.larceny_theft.apply(lambda x: x+offset))\n",
    "florida_crime[\"motor_vehicle_theft_log\"] = np.log(florida_crime.motor_vehicle_theft.apply(lambda x: x+offset))\n",
    "florida_crime[\"arson_log\"] = np.log(florida_crime.arson.apply(lambda x: x+offset))\n",
    "florida_crime[\"property_crime_log\"] = np.log(florida_crime.property_crime.apply(lambda x: x+offset))"
   ]
  },
  {
   "cell_type": "code",
   "execution_count": 5,
   "metadata": {
    "ExecuteTime": {
     "end_time": "2018-12-11T20:32:28.331765Z",
     "start_time": "2018-12-11T20:32:28.327643Z"
    }
   },
   "outputs": [],
   "source": [
    "# Indicator vars\n",
    "florida_crime[\"has_larceny_theft\"] = np.where(florida_crime.larceny_theft > 0, 1, 0)"
   ]
  },
  {
   "cell_type": "markdown",
   "metadata": {},
   "source": [
    "## PCA"
   ]
  },
  {
   "cell_type": "code",
   "execution_count": 6,
   "metadata": {
    "ExecuteTime": {
     "end_time": "2018-12-11T20:32:32.842533Z",
     "start_time": "2018-12-11T20:32:32.819684Z"
    }
   },
   "outputs": [
    {
     "name": "stdout",
     "output_type": "stream",
     "text": [
      "Variance explained by each component\n",
      "[9.77917353e-01 1.69474748e-02 2.74938384e-03 1.70396416e-03\n",
      " 5.87019793e-04 8.41023541e-05 6.98681829e-06 3.71478065e-06\n",
      " 1.95101086e-35]\n",
      "Variance Explained by first n components\n",
      "\n",
      "----------------------\n",
      "1: 0.9779173534381581\n",
      "2: 0.9948648282572901\n",
      "3: 0.9976142120966666\n",
      "4: 0.999318176253744\n",
      "5: 0.999905196046988\n",
      "6: 0.9999892984010621\n",
      "7: 0.9999962852193502\n",
      "8: 1.0\n",
      "9: 1.0\n",
      "10: 1.0\n"
     ]
    }
   ],
   "source": [
    "cols_to_combine = ['violent_crime', 'murder', 'rape', 'robbery', \n",
    "              'assault', 'burglary', 'larceny_theft', \n",
    "              'motor_vehicle_theft', 'arson']\n",
    "\n",
    "pca = PCA(n_components=len(cols_to_combine))\n",
    "pca.fit(florida_crime[cols_to_combine])\n",
    "components = pca.transform(florida_crime[cols_to_combine])\n",
    "components = pd.DataFrame(components)\n",
    "components.columns = [\"PC\" + str(i+1) for i in range(0, len(cols_to_combine))]\n",
    "components.index = florida_crime.index\n",
    "\n",
    "# let;s just PCA all crimes\n",
    "print(\"Variance explained by each component\")\n",
    "print(pca.explained_variance_ / pca.explained_variance_.sum())\n",
    "components.corr()\n",
    "var_explained = (pca.explained_variance_ / pca.explained_variance_.sum())\n",
    "print(\"Variance Explained by first n components\\n\")\n",
    "print(\"----------------------\")\n",
    "for i in range(1,11):\n",
    "    print(\"{}: {}\".format(i, var_explained[:i].sum()))"
   ]
  },
  {
   "cell_type": "code",
   "execution_count": 7,
   "metadata": {
    "ExecuteTime": {
     "end_time": "2018-12-11T20:32:35.767868Z",
     "start_time": "2018-12-11T20:32:35.754897Z"
    }
   },
   "outputs": [
    {
     "name": "stdout",
     "output_type": "stream",
     "text": [
      "Variance explained by each component\n",
      "[0.87848276 0.02972373 0.02450443 0.01898948 0.01518668 0.0129062\n",
      " 0.01138115 0.0078826  0.00094296]\n",
      "Variance Explained by first n components\n",
      "\n",
      "----------------------\n",
      "1: 0.8784827578509263\n",
      "2: 0.9082064879740145\n",
      "3: 0.9327109204833408\n",
      "4: 0.9517003976725013\n",
      "5: 0.9668870825043581\n",
      "6: 0.979793286714851\n",
      "7: 0.9911744384082289\n",
      "8: 0.9990570420454689\n",
      "9: 1.0000000000000002\n",
      "10: 1.0000000000000002\n"
     ]
    }
   ],
   "source": [
    "# Create more components using the log values\n",
    "log_cols = [col + \"_log\" for col in cols_to_combine]\n",
    "\n",
    "pca_log = PCA(n_components=len(log_cols))\n",
    "pca_log.fit(florida_crime[log_cols])\n",
    "components_log = pca_log.transform(florida_crime[log_cols])\n",
    "components_log = pd.DataFrame(components_log)\n",
    "components_log.columns = [\"PC\" + str(i+1) + \"_log\" for i in range(0, len(log_cols))]\n",
    "components_log.index = florida_crime.index\n",
    "\n",
    "# let;s just PCA all crimes\n",
    "print(\"Variance explained by each component\")\n",
    "print(pca_log.explained_variance_ / pca_log.explained_variance_.sum())\n",
    "components_log.corr()\n",
    "var_explained = (pca_log.explained_variance_ / pca_log.explained_variance_.sum())\n",
    "print(\"Variance Explained by first n components\\n\")\n",
    "print(\"----------------------\")\n",
    "for i in range(1,11):\n",
    "    print(\"{}: {}\".format(i, var_explained[:i].sum()))\n"
   ]
  },
  {
   "cell_type": "markdown",
   "metadata": {
    "ExecuteTime": {
     "end_time": "2018-12-10T18:24:01.366844Z",
     "start_time": "2018-12-10T18:24:01.360336Z"
    }
   },
   "source": [
    "*So we only need the first 2 to 4 of the original variables, and 5-7 of the log-transformed variables.*"
   ]
  },
  {
   "cell_type": "code",
   "execution_count": 8,
   "metadata": {
    "ExecuteTime": {
     "end_time": "2018-12-11T20:32:50.704167Z",
     "start_time": "2018-12-11T20:32:50.698758Z"
    }
   },
   "outputs": [],
   "source": [
    "florida_crime = florida_crime.join(components.join(components_log))"
   ]
  },
  {
   "cell_type": "code",
   "execution_count": 22,
   "metadata": {
    "ExecuteTime": {
     "end_time": "2018-12-11T19:43:49.102370Z",
     "start_time": "2018-12-11T19:43:49.081539Z"
    }
   },
   "outputs": [
    {
     "data": {
      "text/html": [
       "<div>\n",
       "<style scoped>\n",
       "    .dataframe tbody tr th:only-of-type {\n",
       "        vertical-align: middle;\n",
       "    }\n",
       "\n",
       "    .dataframe tbody tr th {\n",
       "        vertical-align: top;\n",
       "    }\n",
       "\n",
       "    .dataframe thead th {\n",
       "        text-align: right;\n",
       "    }\n",
       "</style>\n",
       "<table border=\"1\" class=\"dataframe\">\n",
       "  <thead>\n",
       "    <tr style=\"text-align: right;\">\n",
       "      <th></th>\n",
       "      <th>population</th>\n",
       "      <th>violent_crime</th>\n",
       "      <th>murder</th>\n",
       "      <th>rape</th>\n",
       "      <th>robbery</th>\n",
       "      <th>assault</th>\n",
       "      <th>property_crime</th>\n",
       "      <th>burglary</th>\n",
       "      <th>larceny_theft</th>\n",
       "      <th>motor_vehicle_theft</th>\n",
       "      <th>...</th>\n",
       "      <th>PC9</th>\n",
       "      <th>PC1_log</th>\n",
       "      <th>PC2_log</th>\n",
       "      <th>PC3_log</th>\n",
       "      <th>PC4_log</th>\n",
       "      <th>PC5_log</th>\n",
       "      <th>PC6_log</th>\n",
       "      <th>PC7_log</th>\n",
       "      <th>PC8_log</th>\n",
       "      <th>PC9_log</th>\n",
       "    </tr>\n",
       "    <tr>\n",
       "      <th>city</th>\n",
       "      <th></th>\n",
       "      <th></th>\n",
       "      <th></th>\n",
       "      <th></th>\n",
       "      <th></th>\n",
       "      <th></th>\n",
       "      <th></th>\n",
       "      <th></th>\n",
       "      <th></th>\n",
       "      <th></th>\n",
       "      <th></th>\n",
       "      <th></th>\n",
       "      <th></th>\n",
       "      <th></th>\n",
       "      <th></th>\n",
       "      <th></th>\n",
       "      <th></th>\n",
       "      <th></th>\n",
       "      <th></th>\n",
       "      <th></th>\n",
       "      <th></th>\n",
       "    </tr>\n",
       "  </thead>\n",
       "  <tbody>\n",
       "    <tr>\n",
       "      <th>Alachua</th>\n",
       "      <td>10037</td>\n",
       "      <td>40</td>\n",
       "      <td>0</td>\n",
       "      <td>4</td>\n",
       "      <td>6</td>\n",
       "      <td>30</td>\n",
       "      <td>266</td>\n",
       "      <td>45</td>\n",
       "      <td>211</td>\n",
       "      <td>10</td>\n",
       "      <td>...</td>\n",
       "      <td>1.950729e-14</td>\n",
       "      <td>-0.194424</td>\n",
       "      <td>-0.556916</td>\n",
       "      <td>0.077181</td>\n",
       "      <td>-0.368306</td>\n",
       "      <td>0.248606</td>\n",
       "      <td>-0.243008</td>\n",
       "      <td>-0.617426</td>\n",
       "      <td>-0.065408</td>\n",
       "      <td>0.010334</td>\n",
       "    </tr>\n",
       "    <tr>\n",
       "      <th>Altamonte Springs</th>\n",
       "      <td>43833</td>\n",
       "      <td>136</td>\n",
       "      <td>1</td>\n",
       "      <td>16</td>\n",
       "      <td>29</td>\n",
       "      <td>90</td>\n",
       "      <td>1369</td>\n",
       "      <td>147</td>\n",
       "      <td>1147</td>\n",
       "      <td>75</td>\n",
       "      <td>...</td>\n",
       "      <td>-3.345035e-14</td>\n",
       "      <td>3.481827</td>\n",
       "      <td>0.132816</td>\n",
       "      <td>-0.317853</td>\n",
       "      <td>-0.333414</td>\n",
       "      <td>-0.047684</td>\n",
       "      <td>-0.069326</td>\n",
       "      <td>-0.006622</td>\n",
       "      <td>-0.202602</td>\n",
       "      <td>-0.079807</td>\n",
       "    </tr>\n",
       "    <tr>\n",
       "      <th>Apalachicola</th>\n",
       "      <td>2345</td>\n",
       "      <td>3</td>\n",
       "      <td>0</td>\n",
       "      <td>0</td>\n",
       "      <td>0</td>\n",
       "      <td>3</td>\n",
       "      <td>5</td>\n",
       "      <td>1</td>\n",
       "      <td>4</td>\n",
       "      <td>0</td>\n",
       "      <td>...</td>\n",
       "      <td>3.751207e-14</td>\n",
       "      <td>-6.722004</td>\n",
       "      <td>-1.906395</td>\n",
       "      <td>0.328336</td>\n",
       "      <td>0.646919</td>\n",
       "      <td>-0.614461</td>\n",
       "      <td>-0.605279</td>\n",
       "      <td>-0.007964</td>\n",
       "      <td>0.117956</td>\n",
       "      <td>-0.090043</td>\n",
       "    </tr>\n",
       "    <tr>\n",
       "      <th>Apopka</th>\n",
       "      <td>50833</td>\n",
       "      <td>225</td>\n",
       "      <td>1</td>\n",
       "      <td>22</td>\n",
       "      <td>51</td>\n",
       "      <td>151</td>\n",
       "      <td>1881</td>\n",
       "      <td>350</td>\n",
       "      <td>1387</td>\n",
       "      <td>144</td>\n",
       "      <td>...</td>\n",
       "      <td>-4.977063e-14</td>\n",
       "      <td>4.798715</td>\n",
       "      <td>0.283751</td>\n",
       "      <td>-0.147093</td>\n",
       "      <td>-0.442850</td>\n",
       "      <td>-0.109208</td>\n",
       "      <td>0.121825</td>\n",
       "      <td>0.073607</td>\n",
       "      <td>0.309077</td>\n",
       "      <td>-0.089765</td>\n",
       "    </tr>\n",
       "    <tr>\n",
       "      <th>Arcadia</th>\n",
       "      <td>7992</td>\n",
       "      <td>71</td>\n",
       "      <td>5</td>\n",
       "      <td>4</td>\n",
       "      <td>6</td>\n",
       "      <td>56</td>\n",
       "      <td>175</td>\n",
       "      <td>82</td>\n",
       "      <td>83</td>\n",
       "      <td>10</td>\n",
       "      <td>...</td>\n",
       "      <td>3.472693e-14</td>\n",
       "      <td>0.295242</td>\n",
       "      <td>-1.518579</td>\n",
       "      <td>0.754839</td>\n",
       "      <td>0.559651</td>\n",
       "      <td>0.639694</td>\n",
       "      <td>0.504152</td>\n",
       "      <td>0.770763</td>\n",
       "      <td>0.296997</td>\n",
       "      <td>0.127491</td>\n",
       "    </tr>\n",
       "  </tbody>\n",
       "</table>\n",
       "<p>5 rows × 45 columns</p>\n",
       "</div>"
      ],
      "text/plain": [
       "                   population  violent_crime  murder  rape  robbery  assault  \\\n",
       "city                                                                           \n",
       "Alachua                 10037             40       0     4        6       30   \n",
       "Altamonte Springs       43833            136       1    16       29       90   \n",
       "Apalachicola             2345              3       0     0        0        3   \n",
       "Apopka                  50833            225       1    22       51      151   \n",
       "Arcadia                  7992             71       5     4        6       56   \n",
       "\n",
       "                   property_crime  burglary  larceny_theft  \\\n",
       "city                                                         \n",
       "Alachua                       266        45            211   \n",
       "Altamonte Springs            1369       147           1147   \n",
       "Apalachicola                    5         1              4   \n",
       "Apopka                       1881       350           1387   \n",
       "Arcadia                       175        82             83   \n",
       "\n",
       "                   motor_vehicle_theft    ...              PC9   PC1_log  \\\n",
       "city                                      ...                              \n",
       "Alachua                             10    ...     1.950729e-14 -0.194424   \n",
       "Altamonte Springs                   75    ...    -3.345035e-14  3.481827   \n",
       "Apalachicola                         0    ...     3.751207e-14 -6.722004   \n",
       "Apopka                             144    ...    -4.977063e-14  4.798715   \n",
       "Arcadia                             10    ...     3.472693e-14  0.295242   \n",
       "\n",
       "                    PC2_log   PC3_log   PC4_log   PC5_log   PC6_log   PC7_log  \\\n",
       "city                                                                            \n",
       "Alachua           -0.556916  0.077181 -0.368306  0.248606 -0.243008 -0.617426   \n",
       "Altamonte Springs  0.132816 -0.317853 -0.333414 -0.047684 -0.069326 -0.006622   \n",
       "Apalachicola      -1.906395  0.328336  0.646919 -0.614461 -0.605279 -0.007964   \n",
       "Apopka             0.283751 -0.147093 -0.442850 -0.109208  0.121825  0.073607   \n",
       "Arcadia           -1.518579  0.754839  0.559651  0.639694  0.504152  0.770763   \n",
       "\n",
       "                    PC8_log   PC9_log  \n",
       "city                                   \n",
       "Alachua           -0.065408  0.010334  \n",
       "Altamonte Springs -0.202602 -0.079807  \n",
       "Apalachicola       0.117956 -0.090043  \n",
       "Apopka             0.309077 -0.089765  \n",
       "Arcadia            0.296997  0.127491  \n",
       "\n",
       "[5 rows x 45 columns]"
      ]
     },
     "execution_count": 22,
     "metadata": {},
     "output_type": "execute_result"
    }
   ],
   "source": [
    "florida_crime.head()"
   ]
  },
  {
   "cell_type": "markdown",
   "metadata": {},
   "source": [
    "# Split"
   ]
  },
  {
   "cell_type": "code",
   "execution_count": 9,
   "metadata": {
    "ExecuteTime": {
     "end_time": "2018-12-11T20:32:53.260575Z",
     "start_time": "2018-12-11T20:32:53.251915Z"
    }
   },
   "outputs": [
    {
     "name": "stdout",
     "output_type": "stream",
     "text": [
      "Train shape: (178, 46)\n",
      "Test shape: (77, 46)\n"
     ]
    }
   ],
   "source": [
    "train = florida_crime.sample(frac=0.7, random_state=41)\n",
    "test_cities = list(set(florida_crime.index).difference(set(train.index)))\n",
    "test = florida_crime.loc[test_cities,:]\n",
    "print(\"Train shape: {}\".format(train.shape))\n",
    "print(\"Test shape: {}\".format(test.shape))"
   ]
  },
  {
   "cell_type": "markdown",
   "metadata": {},
   "source": [
    "# Build Model(s)"
   ]
  },
  {
   "cell_type": "code",
   "execution_count": 10,
   "metadata": {
    "ExecuteTime": {
     "end_time": "2018-12-11T20:32:55.069982Z",
     "start_time": "2018-12-11T20:32:55.031991Z"
    }
   },
   "outputs": [
    {
     "data": {
      "text/html": [
       "<table class=\"simpletable\">\n",
       "<caption>OLS Regression Results</caption>\n",
       "<tr>\n",
       "  <th>Dep. Variable:</th>     <td>property_crime</td>  <th>  R-squared:         </th> <td>   1.000</td> \n",
       "</tr>\n",
       "<tr>\n",
       "  <th>Model:</th>                   <td>OLS</td>       <th>  Adj. R-squared:    </th> <td>   1.000</td> \n",
       "</tr>\n",
       "<tr>\n",
       "  <th>Method:</th>             <td>Least Squares</td>  <th>  F-statistic:       </th> <td>5.853e+05</td>\n",
       "</tr>\n",
       "<tr>\n",
       "  <th>Date:</th>             <td>Tue, 11 Dec 2018</td> <th>  Prob (F-statistic):</th>  <td>  0.00</td>  \n",
       "</tr>\n",
       "<tr>\n",
       "  <th>Time:</th>                 <td>15:32:55</td>     <th>  Log-Likelihood:    </th> <td> -629.64</td> \n",
       "</tr>\n",
       "<tr>\n",
       "  <th>No. Observations:</th>      <td>   178</td>      <th>  AIC:               </th> <td>   1269.</td> \n",
       "</tr>\n",
       "<tr>\n",
       "  <th>Df Residuals:</th>          <td>   173</td>      <th>  BIC:               </th> <td>   1285.</td> \n",
       "</tr>\n",
       "<tr>\n",
       "  <th>Df Model:</th>              <td>     4</td>      <th>                     </th>     <td> </td>    \n",
       "</tr>\n",
       "<tr>\n",
       "  <th>Covariance Type:</th>      <td>nonrobust</td>    <th>                     </th>     <td> </td>    \n",
       "</tr>\n",
       "</table>\n",
       "<table class=\"simpletable\">\n",
       "<tr>\n",
       "            <td></td>              <th>coef</th>     <th>std err</th>      <th>t</th>      <th>P>|t|</th>  <th>[0.025</th>    <th>0.975]</th>  \n",
       "</tr>\n",
       "<tr>\n",
       "  <th>Intercept</th>            <td>  733.4941</td> <td>    3.168</td> <td>  231.554</td> <td> 0.000</td> <td>  727.242</td> <td>  739.746</td>\n",
       "</tr>\n",
       "<tr>\n",
       "  <th>population_cube_root</th> <td>    0.2915</td> <td>    0.123</td> <td>    2.378</td> <td> 0.018</td> <td>    0.050</td> <td>    0.533</td>\n",
       "</tr>\n",
       "<tr>\n",
       "  <th>PC1</th>                  <td>    1.2178</td> <td>    0.002</td> <td>  773.257</td> <td> 0.000</td> <td>    1.215</td> <td>    1.221</td>\n",
       "</tr>\n",
       "<tr>\n",
       "  <th>PC2</th>                  <td>   -0.2197</td> <td>    0.006</td> <td>  -35.698</td> <td> 0.000</td> <td>   -0.232</td> <td>   -0.208</td>\n",
       "</tr>\n",
       "<tr>\n",
       "  <th>PC3</th>                  <td>    1.0921</td> <td>    0.017</td> <td>   64.425</td> <td> 0.000</td> <td>    1.059</td> <td>    1.126</td>\n",
       "</tr>\n",
       "</table>\n",
       "<table class=\"simpletable\">\n",
       "<tr>\n",
       "  <th>Omnibus:</th>       <td>79.982</td> <th>  Durbin-Watson:     </th> <td>   1.685</td>\n",
       "</tr>\n",
       "<tr>\n",
       "  <th>Prob(Omnibus):</th> <td> 0.000</td> <th>  Jarque-Bera (JB):  </th> <td>1691.581</td>\n",
       "</tr>\n",
       "<tr>\n",
       "  <th>Skew:</th>          <td> 1.077</td> <th>  Prob(JB):          </th> <td>    0.00</td>\n",
       "</tr>\n",
       "<tr>\n",
       "  <th>Kurtosis:</th>      <td>17.948</td> <th>  Cond. No.          </th> <td>3.96e+03</td>\n",
       "</tr>\n",
       "</table><br/><br/>Warnings:<br/>[1] Standard Errors assume that the covariance matrix of the errors is correctly specified.<br/>[2] The condition number is large, 3.96e+03. This might indicate that there are<br/>strong multicollinearity or other numerical problems."
      ],
      "text/plain": [
       "<class 'statsmodels.iolib.summary.Summary'>\n",
       "\"\"\"\n",
       "                            OLS Regression Results                            \n",
       "==============================================================================\n",
       "Dep. Variable:         property_crime   R-squared:                       1.000\n",
       "Model:                            OLS   Adj. R-squared:                  1.000\n",
       "Method:                 Least Squares   F-statistic:                 5.853e+05\n",
       "Date:                Tue, 11 Dec 2018   Prob (F-statistic):               0.00\n",
       "Time:                        15:32:55   Log-Likelihood:                -629.64\n",
       "No. Observations:                 178   AIC:                             1269.\n",
       "Df Residuals:                     173   BIC:                             1285.\n",
       "Df Model:                           4                                         \n",
       "Covariance Type:            nonrobust                                         \n",
       "========================================================================================\n",
       "                           coef    std err          t      P>|t|      [0.025      0.975]\n",
       "----------------------------------------------------------------------------------------\n",
       "Intercept              733.4941      3.168    231.554      0.000     727.242     739.746\n",
       "population_cube_root     0.2915      0.123      2.378      0.018       0.050       0.533\n",
       "PC1                      1.2178      0.002    773.257      0.000       1.215       1.221\n",
       "PC2                     -0.2197      0.006    -35.698      0.000      -0.232      -0.208\n",
       "PC3                      1.0921      0.017     64.425      0.000       1.059       1.126\n",
       "==============================================================================\n",
       "Omnibus:                       79.982   Durbin-Watson:                   1.685\n",
       "Prob(Omnibus):                  0.000   Jarque-Bera (JB):             1691.581\n",
       "Skew:                           1.077   Prob(JB):                         0.00\n",
       "Kurtosis:                      17.948   Cond. No.                     3.96e+03\n",
       "==============================================================================\n",
       "\n",
       "Warnings:\n",
       "[1] Standard Errors assume that the covariance matrix of the errors is correctly specified.\n",
       "[2] The condition number is large, 3.96e+03. This might indicate that there are\n",
       "strong multicollinearity or other numerical problems.\n",
       "\"\"\""
      ]
     },
     "execution_count": 10,
     "metadata": {},
     "output_type": "execute_result"
    }
   ],
   "source": [
    "formula1 = \"property_crime ~ population_cube_root + PC1 + PC2 + PC3\"\n",
    "\n",
    "lm1 = smf.ols(formula=formula1, data=train).fit()\n",
    "lm1.summary()"
   ]
  },
  {
   "cell_type": "code",
   "execution_count": 12,
   "metadata": {
    "ExecuteTime": {
     "end_time": "2018-12-11T20:33:32.900233Z",
     "start_time": "2018-12-11T20:33:32.869519Z"
    }
   },
   "outputs": [
    {
     "data": {
      "text/html": [
       "<table class=\"simpletable\">\n",
       "<caption>OLS Regression Results</caption>\n",
       "<tr>\n",
       "  <th>Dep. Variable:</th>    <td>property_crime_log</td> <th>  R-squared:         </th> <td>   0.998</td> \n",
       "</tr>\n",
       "<tr>\n",
       "  <th>Model:</th>                    <td>OLS</td>        <th>  Adj. R-squared:    </th> <td>   0.998</td> \n",
       "</tr>\n",
       "<tr>\n",
       "  <th>Method:</th>              <td>Least Squares</td>   <th>  F-statistic:       </th> <td>1.288e+04</td>\n",
       "</tr>\n",
       "<tr>\n",
       "  <th>Date:</th>              <td>Tue, 11 Dec 2018</td>  <th>  Prob (F-statistic):</th> <td>4.26e-231</td>\n",
       "</tr>\n",
       "<tr>\n",
       "  <th>Time:</th>                  <td>15:33:32</td>      <th>  Log-Likelihood:    </th> <td>  245.34</td> \n",
       "</tr>\n",
       "<tr>\n",
       "  <th>No. Observations:</th>       <td>   178</td>       <th>  AIC:               </th> <td>  -472.7</td> \n",
       "</tr>\n",
       "<tr>\n",
       "  <th>Df Residuals:</th>           <td>   169</td>       <th>  BIC:               </th> <td>  -444.0</td> \n",
       "</tr>\n",
       "<tr>\n",
       "  <th>Df Model:</th>               <td>     8</td>       <th>                     </th>     <td> </td>    \n",
       "</tr>\n",
       "<tr>\n",
       "  <th>Covariance Type:</th>       <td>nonrobust</td>     <th>                     </th>     <td> </td>    \n",
       "</tr>\n",
       "</table>\n",
       "<table class=\"simpletable\">\n",
       "<tr>\n",
       "      <td></td>         <th>coef</th>     <th>std err</th>      <th>t</th>      <th>P>|t|</th>  <th>[0.025</th>    <th>0.975]</th>  \n",
       "</tr>\n",
       "<tr>\n",
       "  <th>Intercept</th> <td>    5.7189</td> <td>    0.005</td> <td> 1211.394</td> <td> 0.000</td> <td>    5.710</td> <td>    5.728</td>\n",
       "</tr>\n",
       "<tr>\n",
       "  <th>PC1_log</th>   <td>    0.3678</td> <td>    0.001</td> <td>  306.712</td> <td> 0.000</td> <td>    0.365</td> <td>    0.370</td>\n",
       "</tr>\n",
       "<tr>\n",
       "  <th>PC2_log</th>   <td>    0.4346</td> <td>    0.007</td> <td>   63.730</td> <td> 0.000</td> <td>    0.421</td> <td>    0.448</td>\n",
       "</tr>\n",
       "<tr>\n",
       "  <th>PC4_log</th>   <td>   -0.2190</td> <td>    0.008</td> <td>  -26.436</td> <td> 0.000</td> <td>   -0.235</td> <td>   -0.203</td>\n",
       "</tr>\n",
       "<tr>\n",
       "  <th>PC3_log</th>   <td>   -0.0501</td> <td>    0.008</td> <td>   -6.552</td> <td> 0.000</td> <td>   -0.065</td> <td>   -0.035</td>\n",
       "</tr>\n",
       "<tr>\n",
       "  <th>PC5_log</th>   <td>    0.2462</td> <td>    0.009</td> <td>   26.921</td> <td> 0.000</td> <td>    0.228</td> <td>    0.264</td>\n",
       "</tr>\n",
       "<tr>\n",
       "  <th>PC6_log</th>   <td>    0.1552</td> <td>    0.011</td> <td>   14.620</td> <td> 0.000</td> <td>    0.134</td> <td>    0.176</td>\n",
       "</tr>\n",
       "<tr>\n",
       "  <th>PC7_log</th>   <td>   -0.1062</td> <td>    0.011</td> <td>   -9.675</td> <td> 0.000</td> <td>   -0.128</td> <td>   -0.085</td>\n",
       "</tr>\n",
       "<tr>\n",
       "  <th>PC8_log</th>   <td>   -0.3575</td> <td>    0.013</td> <td>  -26.490</td> <td> 0.000</td> <td>   -0.384</td> <td>   -0.331</td>\n",
       "</tr>\n",
       "</table>\n",
       "<table class=\"simpletable\">\n",
       "<tr>\n",
       "  <th>Omnibus:</th>       <td>92.863</td> <th>  Durbin-Watson:     </th> <td>   1.942</td> \n",
       "</tr>\n",
       "<tr>\n",
       "  <th>Prob(Omnibus):</th> <td> 0.000</td> <th>  Jarque-Bera (JB):  </th> <td>1068.514</td> \n",
       "</tr>\n",
       "<tr>\n",
       "  <th>Skew:</th>          <td> 1.608</td> <th>  Prob(JB):          </th> <td>9.44e-233</td>\n",
       "</tr>\n",
       "<tr>\n",
       "  <th>Kurtosis:</th>      <td>14.564</td> <th>  Cond. No.          </th> <td>    11.5</td> \n",
       "</tr>\n",
       "</table><br/><br/>Warnings:<br/>[1] Standard Errors assume that the covariance matrix of the errors is correctly specified."
      ],
      "text/plain": [
       "<class 'statsmodels.iolib.summary.Summary'>\n",
       "\"\"\"\n",
       "                            OLS Regression Results                            \n",
       "==============================================================================\n",
       "Dep. Variable:     property_crime_log   R-squared:                       0.998\n",
       "Model:                            OLS   Adj. R-squared:                  0.998\n",
       "Method:                 Least Squares   F-statistic:                 1.288e+04\n",
       "Date:                Tue, 11 Dec 2018   Prob (F-statistic):          4.26e-231\n",
       "Time:                        15:33:32   Log-Likelihood:                 245.34\n",
       "No. Observations:                 178   AIC:                            -472.7\n",
       "Df Residuals:                     169   BIC:                            -444.0\n",
       "Df Model:                           8                                         \n",
       "Covariance Type:            nonrobust                                         \n",
       "==============================================================================\n",
       "                 coef    std err          t      P>|t|      [0.025      0.975]\n",
       "------------------------------------------------------------------------------\n",
       "Intercept      5.7189      0.005   1211.394      0.000       5.710       5.728\n",
       "PC1_log        0.3678      0.001    306.712      0.000       0.365       0.370\n",
       "PC2_log        0.4346      0.007     63.730      0.000       0.421       0.448\n",
       "PC4_log       -0.2190      0.008    -26.436      0.000      -0.235      -0.203\n",
       "PC3_log       -0.0501      0.008     -6.552      0.000      -0.065      -0.035\n",
       "PC5_log        0.2462      0.009     26.921      0.000       0.228       0.264\n",
       "PC6_log        0.1552      0.011     14.620      0.000       0.134       0.176\n",
       "PC7_log       -0.1062      0.011     -9.675      0.000      -0.128      -0.085\n",
       "PC8_log       -0.3575      0.013    -26.490      0.000      -0.384      -0.331\n",
       "==============================================================================\n",
       "Omnibus:                       92.863   Durbin-Watson:                   1.942\n",
       "Prob(Omnibus):                  0.000   Jarque-Bera (JB):             1068.514\n",
       "Skew:                           1.608   Prob(JB):                    9.44e-233\n",
       "Kurtosis:                      14.564   Cond. No.                         11.5\n",
       "==============================================================================\n",
       "\n",
       "Warnings:\n",
       "[1] Standard Errors assume that the covariance matrix of the errors is correctly specified.\n",
       "\"\"\""
      ]
     },
     "execution_count": 12,
     "metadata": {},
     "output_type": "execute_result"
    }
   ],
   "source": [
    "model2_vars = [\"PC1_log\", \"PC2_log\", \n",
    "               \"PC4_log\", \"PC3_log\", \n",
    "               \"PC5_log\", \"PC6_log\", \n",
    "               \"PC7_log\", \"PC8_log\"]\n",
    "formula2 = \"property_crime_log ~ \" + ' + '.join(model2_vars)\n",
    "lm2 = smf.ols(formula=formula2, data=train).fit()\n",
    "lm2.summary()"
   ]
  },
  {
   "cell_type": "markdown",
   "metadata": {},
   "source": [
    "# Evaluate"
   ]
  },
  {
   "cell_type": "code",
   "execution_count": 13,
   "metadata": {
    "ExecuteTime": {
     "end_time": "2018-12-11T20:33:50.077762Z",
     "start_time": "2018-12-11T20:33:50.064757Z"
    }
   },
   "outputs": [
    {
     "name": "stdout",
     "output_type": "stream",
     "text": [
      "Performance on TRAIN set\n",
      "-------------------------\n",
      "RMSE: 8.34\n",
      "\n",
      "Performance on TEST set\n",
      "-------------------------\n",
      "RMSE: 12.84\n"
     ]
    }
   ],
   "source": [
    "pred = lm1.predict(test)\n",
    "test[\"property_crime_predicted\"] = pred\n",
    "test[\"residuals\"] = test[\"property_crime\"] - test[\"property_crime_predicted\"]\n",
    "\n",
    "print(\"Performance on TRAIN set\\n-------------------------\")\n",
    "print(\"RMSE: {}\\n\".format(round(lm1.resid.std(),2)))\n",
    "print(\"Performance on TEST set\\n-------------------------\")\n",
    "print(\"RMSE: {}\".format(round(test[\"residuals\"].std(),2)))"
   ]
  },
  {
   "cell_type": "code",
   "execution_count": 42,
   "metadata": {
    "ExecuteTime": {
     "end_time": "2018-12-11T21:00:41.614438Z",
     "start_time": "2018-12-11T21:00:41.607502Z"
    }
   },
   "outputs": [
    {
     "data": {
      "text/plain": [
       "population_group\n",
       "1    -0.486770\n",
       "2    -0.365928\n",
       "3     1.123734\n",
       "4     3.905073\n",
       "5   -10.130956\n",
       "Name: residuals, dtype: float64"
      ]
     },
     "execution_count": 42,
     "metadata": {},
     "output_type": "execute_result"
    }
   ],
   "source": [
    "test.groupby(\"population_group\")[\"residuals\"].mean()"
   ]
  },
  {
   "cell_type": "code",
   "execution_count": 56,
   "metadata": {
    "ExecuteTime": {
     "end_time": "2018-12-11T20:18:52.352100Z",
     "start_time": "2018-12-11T20:18:52.336938Z"
    }
   },
   "outputs": [
    {
     "name": "stdout",
     "output_type": "stream",
     "text": [
      "Performance on TRAIN set\n",
      "-------------------------\n",
      "RMSE: 0.13\n",
      "\n",
      "Performance on TEST set\n",
      "-------------------------\n",
      "RMSE: 0.11\n"
     ]
    }
   ],
   "source": [
    "pred2 = lm2.predict(test)\n",
    "#test[\"property_crime_log_predicted\"] = pred2\n",
    "test[\"property_crime_log_predicted\"] = pred2\n",
    "test[\"residuals2\"] = test[\"property_crime_log\"] - test[\"property_crime_log_predicted\"]\n",
    "print(\"Performance on TRAIN set\\n-------------------------\")\n",
    "print(\"RMSE: {}\\n\".format(round(lm2.resid.std(),2)))\n",
    "print(\"Performance on TEST set\\n-------------------------\")\n",
    "print(\"RMSE: {}\".format(round(test[\"residuals2\"].std(),2)))"
   ]
  },
  {
   "cell_type": "markdown",
   "metadata": {
    "ExecuteTime": {
     "end_time": "2018-12-11T20:35:50.988768Z",
     "start_time": "2018-12-11T20:35:50.984700Z"
    }
   },
   "source": [
    "If we take this difference (in the predicted log values between the train and test sets) and subtract that from our predicted values for the test set (before we exponentiate it), we should get much closer property crime predictions."
   ]
  },
  {
   "cell_type": "code",
   "execution_count": 32,
   "metadata": {
    "ExecuteTime": {
     "end_time": "2018-12-11T20:46:46.176531Z",
     "start_time": "2018-12-11T20:46:46.165322Z"
    }
   },
   "outputs": [],
   "source": [
    "test[\"property_crime_log_predicted2\"] = lm2.predict(test) - 0.02\n",
    "test[\"property_crime_predicted2\"] = np.exp(test[\"property_crime_log_predicted2\"])\n",
    "test[\"resids2\"] = test[\"property_crime\"] - test[\"property_crime_predicted2\"]"
   ]
  },
  {
   "cell_type": "markdown",
   "metadata": {
    "ExecuteTime": {
     "end_time": "2018-12-11T20:46:50.280935Z",
     "start_time": "2018-12-11T20:46:50.276106Z"
    }
   },
   "source": [
    "Because we predicted the log of property crime, we need to exponentiate:"
   ]
  },
  {
   "cell_type": "code",
   "execution_count": 41,
   "metadata": {
    "ExecuteTime": {
     "end_time": "2018-12-11T20:51:20.405662Z",
     "start_time": "2018-12-11T20:51:20.400532Z"
    }
   },
   "outputs": [
    {
     "name": "stdout",
     "output_type": "stream",
     "text": [
      "Performance on TRAIN set\n",
      "-------------------------\n",
      "RMSE: 1.002\n",
      "\n",
      "Performance on TEST set\n",
      "-------------------------\n",
      "RMSE: 67.15\n"
     ]
    }
   ],
   "source": [
    "print(\"Performance on TRAIN set\\n-------------------------\")\n",
    "print(\"RMSE: {}\\n\".format(round(np.exp(lm2.resid).mean(),3)))\n",
    "\n",
    "print(\"Performance on TEST set\\n-------------------------\")\n",
    "print(\"RMSE: {}\".format(round(test[\"resids2\"].std(),2)))"
   ]
  },
  {
   "cell_type": "code",
   "execution_count": 30,
   "metadata": {
    "ExecuteTime": {
     "end_time": "2018-12-11T20:43:38.812055Z",
     "start_time": "2018-12-11T20:43:38.805269Z"
    }
   },
   "outputs": [
    {
     "data": {
      "text/plain": [
       "population_group\n",
       "1     2.841509\n",
       "2     6.004709\n",
       "3     6.826545\n",
       "4    12.708370\n",
       "5    73.150616\n",
       "Name: resids2, dtype: float64"
      ]
     },
     "execution_count": 30,
     "metadata": {},
     "output_type": "execute_result"
    }
   ],
   "source": [
    "test.groupby(\"population_group\")[\"resids2\"].mean()"
   ]
  },
  {
   "cell_type": "code",
   "execution_count": 43,
   "metadata": {
    "ExecuteTime": {
     "end_time": "2018-12-11T21:00:52.577599Z",
     "start_time": "2018-12-11T21:00:52.571685Z"
    }
   },
   "outputs": [
    {
     "data": {
      "text/plain": [
       "population_group\n",
       "1    -0.486770\n",
       "2    -0.365928\n",
       "3     1.123734\n",
       "4     3.905073\n",
       "5   -10.130956\n",
       "Name: residuals, dtype: float64"
      ]
     },
     "execution_count": 43,
     "metadata": {},
     "output_type": "execute_result"
    }
   ],
   "source": [
    "test.groupby(\"population_group\")[\"residuals\"].mean()"
   ]
  },
  {
   "cell_type": "markdown",
   "metadata": {},
   "source": [
    "**Takeaways**: Model 1 suffers from collinear input features (as can be observed from the summary output), the R^2 value of 1.0 suggests overfitting, and there is a 53.9% change in the RMSE on the train set versus the test set.\n",
    "\n",
    "Therefore, we first log-transform the crime input variables, and then PCA these to get principal components, of which we need at least 6. The R^2 value is still really good at 0.998, but more importantly the RMSE is only 18.2% higher on the test set.  "
   ]
  },
  {
   "cell_type": "markdown",
   "metadata": {
    "ExecuteTime": {
     "end_time": "2018-12-10T18:24:02.911170Z",
     "start_time": "2018-12-10T18:24:02.900274Z"
    }
   },
   "source": [
    "# Conclusions\n",
    "\n",
    "The input features are highly correlated with each other (primarily due to each crime's dependence on the population), so we took these 9 metrics and used PCA to \"combine\" them into 3 principal components, log transformed the population and used these 4 variables to define our model. Due to the high R^2 value (1.0) we suspect overfitting (likely due to the collinear inputs), so we constructed a new model to predict the log of property crime. We basically repeated the above process, but this time we fed the log values to our PCA, and ended up having to use 8 8 components. While this model performed extremely well on the train set, it had a high RMSE value (67.15 compared to 12.84 for the first model). So while the primary motivation in creating the second model was to reduce collinearity among the inputs, that model still performed better on the test set. \n",
    "\n",
    "If we look a little deeper and break down the model performance by population group, we see that model 2 fails significantly more for really high populations than model 1. Model 1 underestimates property crime by 62%, whereas model 2 overestimates property crime over 70% of the time. "
   ]
  }
 ],
 "metadata": {
  "kernelspec": {
   "display_name": "Python 3",
   "language": "python",
   "name": "python3"
  },
  "language_info": {
   "codemirror_mode": {
    "name": "ipython",
    "version": 3
   },
   "file_extension": ".py",
   "mimetype": "text/x-python",
   "name": "python",
   "nbconvert_exporter": "python",
   "pygments_lexer": "ipython3",
   "version": "3.6.7"
  },
  "latex_envs": {
   "LaTeX_envs_menu_present": true,
   "autoclose": false,
   "autocomplete": true,
   "bibliofile": "biblio.bib",
   "cite_by": "apalike",
   "current_citInitial": 1,
   "eqLabelWithNumbers": true,
   "eqNumInitial": 1,
   "hotkeys": {
    "equation": "Ctrl-E",
    "itemize": "Ctrl-I"
   },
   "labels_anchors": false,
   "latex_user_defs": false,
   "report_style_numbering": false,
   "user_envs_cfg": false
  },
  "toc": {
   "base_numbering": 1,
   "nav_menu": {},
   "number_sections": true,
   "sideBar": true,
   "skip_h1_title": false,
   "title_cell": "Table of Contents",
   "title_sidebar": "Contents",
   "toc_cell": false,
   "toc_position": {},
   "toc_section_display": true,
   "toc_window_display": false
  },
  "varInspector": {
   "cols": {
    "lenName": 16,
    "lenType": 16,
    "lenVar": 40
   },
   "kernels_config": {
    "python": {
     "delete_cmd_postfix": "",
     "delete_cmd_prefix": "del ",
     "library": "var_list.py",
     "varRefreshCmd": "print(var_dic_list())"
    },
    "r": {
     "delete_cmd_postfix": ") ",
     "delete_cmd_prefix": "rm(",
     "library": "var_list.r",
     "varRefreshCmd": "cat(var_dic_list()) "
    }
   },
   "types_to_exclude": [
    "module",
    "function",
    "builtin_function_or_method",
    "instance",
    "_Feature"
   ],
   "window_display": false
  }
 },
 "nbformat": 4,
 "nbformat_minor": 2
}
